{
 "cells": [
  {
   "cell_type": "code",
   "execution_count": 1,
   "id": "6cd135ea-58c1-4100-880b-8c5f4e30c0a2",
   "metadata": {},
   "outputs": [],
   "source": [
    ":opt no-lint"
   ]
  },
  {
   "cell_type": "markdown",
   "id": "6922524f-0987-4b49-9fc4-b55c75afb5f0",
   "metadata": {},
   "source": [
    "# 파서의 타입\n",
    "```haskell\n",
    "type Parser = String -> Tree                -- 문자열을 처리해 Tree로 변환\n",
    "type Parser = String -> (Tree, String)    -- 처리하고 남은 뒷부분 문자열 고려\n",
    "type Parser = String -> [(Tree, String)]  -- 실패할 경우 길이 0인 빈 리스트\n",
    "type Parser a = String -> [(a, String)]   -- 특정 Tree가 대신 타입 a로 일반화\n",
    "type Parser a = [Char] -> [(a, [Char])]   -- 윗줄과 같음  String = [Char]\n",
    "type Parser tok a = [tok] -> [(a, [tok])] -- Char 대신 토큰 타입 tok로 일반화\n",
    "```"
   ]
  },
  {
   "cell_type": "code",
   "execution_count": 2,
   "id": "8ef17e5b-9374-4cc6-9433-c7e91b213c02",
   "metadata": {},
   "outputs": [],
   "source": [
    "type Parser tok a = [tok] -> [(a, [tok])]"
   ]
  },
  {
   "cell_type": "code",
   "execution_count": 3,
   "id": "38299726-37c0-42fa-a713-a9422d5dbb95",
   "metadata": {},
   "outputs": [],
   "source": [
    "return :: a -> Parser tok a -- 입력 토큰열 ts를 소비하지 않고\n",
    "return v = \\ts -> [(v,ts)]  -- 그냥 v를 리턴하며 성공하는 파서\n",
    "\n",
    "failure :: Parser tok a -- 입력에 관계없이 무조건 실패하는 파서\n",
    "failure = \\_ -> []"
   ]
  },
  {
   "cell_type": "code",
   "execution_count": 4,
   "id": "30459eef-24d0-495f-8286-17ba1fd5d02a",
   "metadata": {},
   "outputs": [
    {
     "data": {
      "text/plain": [
       "[(1,\"abc\")]"
      ]
     },
     "metadata": {},
     "output_type": "display_data"
    },
    {
     "data": {
      "text/plain": [
       "[]"
      ]
     },
     "metadata": {},
     "output_type": "display_data"
    }
   ],
   "source": [
    "(return 1) \"abc\"\n",
    "failure    \"abc\""
   ]
  },
  {
   "cell_type": "code",
   "execution_count": 5,
   "id": "5f4cf041-9194-4b4e-b23f-8b17ecd028cb",
   "metadata": {},
   "outputs": [],
   "source": [
    "item :: Parser tok tok\n",
    "item []     = []       -- 길이 0인 토큰열에 대해서는 실패\n",
    "item (t:ts) = [(t,ts)] -- 맨 앞의 토큰 t하나만 처리해 t를 리턴 "
   ]
  },
  {
   "cell_type": "code",
   "execution_count": 6,
   "id": "304a87dc-ea6a-4724-babb-dce4da2591d8",
   "metadata": {},
   "outputs": [
    {
     "data": {
      "text/plain": [
       "[]"
      ]
     },
     "metadata": {},
     "output_type": "display_data"
    },
    {
     "data": {
      "text/plain": [
       "[('a',\"bc\")]"
      ]
     },
     "metadata": {},
     "output_type": "display_data"
    }
   ],
   "source": [
    "item \"\"\n",
    "item \"abc\""
   ]
  },
  {
   "cell_type": "code",
   "execution_count": 7,
   "id": "8e3a1633-8c93-4bff-a8dc-f39950b0f188",
   "metadata": {},
   "outputs": [],
   "source": [
    "(>>=) :: Parser tok a -> (a -> Parser tok b) -> Parser tok b\n",
    "p1 >>= pf = \\s -> [ (v2,s2) | (v1,s1) <- p1 s, -- 이어붙이기 sequencing\n",
    "                              (v2,s2) <- (pf v1) s1 ]"
   ]
  },
  {
   "cell_type": "code",
   "execution_count": 8,
   "id": "efdd40ec-8630-40cb-859c-24b612e70467",
   "metadata": {},
   "outputs": [
    {
     "data": {
      "text/plain": [
       "[('b',\"cd\")]"
      ]
     },
     "metadata": {},
     "output_type": "display_data"
    },
    {
     "data": {
      "text/plain": [
       "[(\"ab\",\"cd\")]"
      ]
     },
     "metadata": {},
     "output_type": "display_data"
    }
   ],
   "source": [
    "( item >>= \\_  ->  item                            ) \"abcd\"\n",
    "( item >>= \\c1 ->  item >>= \\c2 ->  return [c1,c2] ) \"abcd\" "
   ]
  },
  {
   "cell_type": "code",
   "execution_count": 9,
   "id": "314917d6-f069-4a14-b4d4-595c627ce0dc",
   "metadata": {},
   "outputs": [
    {
     "data": {
      "text/plain": [
       "[('e',\"llo\")]"
      ]
     },
     "metadata": {},
     "output_type": "display_data"
    },
    {
     "data": {
      "text/plain": [
       "[]"
      ]
     },
     "metadata": {},
     "output_type": "display_data"
    }
   ],
   "source": [
    "( item >>= \\c -> if c=='h' then item else failure ) \"hello\"\n",
    "( item >>= \\c -> if c=='h' then item else failure ) \"world\""
   ]
  },
  {
   "cell_type": "code",
   "execution_count": 10,
   "id": "141a54eb-8205-40ba-8dd0-4cba65c7ab68",
   "metadata": {},
   "outputs": [
    {
     "data": {
      "text/plain": [
       "[(\"he\",\"llo\")]"
      ]
     },
     "metadata": {},
     "output_type": "display_data"
    },
    {
     "data": {
      "text/plain": [
       "[]"
      ]
     },
     "metadata": {},
     "output_type": "display_data"
    }
   ],
   "source": [
    "( item >>=                                \\c1 ->\n",
    "  (if c1=='h' then item else failure) >>= \\c2 ->\n",
    "  return [c1,c2]                                 ) \"hello\"\n",
    "( item >>=                                \\c1 ->\n",
    "  (if c1=='h' then item else failure) >>= \\c2 ->\n",
    "  return [c1,c2]                                 ) \"world\""
   ]
  },
  {
   "cell_type": "code",
   "execution_count": 11,
   "id": "f3993312-52b8-4d6c-a5a9-132499ca24b3",
   "metadata": {},
   "outputs": [],
   "source": [
    "(<|>) :: Parser tok a -> Parser tok a -> Parser tok a  -- 선택 choice\n",
    "p1 <|> p2 = \\s -> case p1 s of\n",
    "                    []  -> p2 s  -- 첫번째 파서가 실패하면 두번째로\n",
    "                    vs1 -> vs1   -- 첫번째가 성공하면 첫번째만으로"
   ]
  },
  {
   "cell_type": "code",
   "execution_count": 12,
   "id": "d51cf76d-d1e9-449f-8398-66e0e1c7b698",
   "metadata": {},
   "outputs": [
    {
     "data": {
      "text/plain": [
       "[('a',\"b\")]"
      ]
     },
     "metadata": {},
     "output_type": "display_data"
    },
    {
     "data": {
      "text/plain": [
       "[('a',\"b\")]"
      ]
     },
     "metadata": {},
     "output_type": "display_data"
    }
   ],
   "source": [
    "item                  \"ab\"\n",
    "(item <|> return '?') \"ab\""
   ]
  },
  {
   "cell_type": "code",
   "execution_count": 13,
   "id": "1a440878-aec0-4e9b-9dbb-93c66705a019",
   "metadata": {},
   "outputs": [
    {
     "data": {
      "text/plain": [
       "[]"
      ]
     },
     "metadata": {},
     "output_type": "display_data"
    },
    {
     "data": {
      "text/plain": [
       "[('?',\"\")]"
      ]
     },
     "metadata": {},
     "output_type": "display_data"
    }
   ],
   "source": [
    "item                  \"\"\n",
    "(item <|> return '?') \"\""
   ]
  },
  {
   "cell_type": "code",
   "execution_count": 14,
   "id": "c9c9fad1-46a5-446b-9618-6f55a2359153",
   "metadata": {},
   "outputs": [],
   "source": [
    "sat :: (tok -> Bool) -> Parser tok tok\n",
    "sat test = item >>= \\t ->          -- 토큰 하나를 읽어들여\n",
    "           if test t then return t -- 조건에 맞는 경우에만 성공하고 \n",
    "                     else failure  -- 그렇지 않으면 실패하는 파서"
   ]
  },
  {
   "cell_type": "code",
   "execution_count": 15,
   "id": "314e9e21-fe5f-4cd0-a1db-ebc0705ca39f",
   "metadata": {},
   "outputs": [
    {
     "data": {
      "text/plain": [
       "[(\"he\",\"llo\")]"
      ]
     },
     "metadata": {},
     "output_type": "display_data"
    },
    {
     "data": {
      "text/plain": [
       "[]"
      ]
     },
     "metadata": {},
     "output_type": "display_data"
    }
   ],
   "source": [
    "( sat (=='h') >>= \\c1 -> item >>= \\c2 -> return [c1,c2] ) \"hello\"\n",
    "( sat (=='h') >>= \\c1 -> item >>= \\c2 -> return [c1,c2] ) \"world\""
   ]
  },
  {
   "cell_type": "code",
   "execution_count": 16,
   "id": "a0ebb43e-b676-4cda-889d-bdbce67addb5",
   "metadata": {},
   "outputs": [],
   "source": [
    "many  :: Parser tok a -> Parser tok [a]\n",
    "many  p = many1 p <|> return []\n",
    "\n",
    "many1 :: Parser tok a -> Parser tok [a]\n",
    "many1 p = p      >>= \\v  ->\n",
    "          many p >>= \\vs ->\n",
    "          return (v:vs)"
   ]
  },
  {
   "cell_type": "code",
   "execution_count": 17,
   "id": "0638f45b-8504-47b7-b3ca-027fabcbe7cd",
   "metadata": {},
   "outputs": [
    {
     "data": {
      "text/plain": [
       "[(\"hhh\",\"i\")]"
      ]
     },
     "metadata": {},
     "output_type": "display_data"
    },
    {
     "data": {
      "text/plain": [
       "[(\"\",\"iiii\")]"
      ]
     },
     "metadata": {},
     "output_type": "display_data"
    }
   ],
   "source": [
    "( many (sat (=='h')) ) \"hhhi\"\n",
    "( many (sat (=='h')) ) \"iiii\""
   ]
  },
  {
   "cell_type": "code",
   "execution_count": 18,
   "id": "aaadea49-cc35-4cef-85eb-cbfc5754b16c",
   "metadata": {},
   "outputs": [
    {
     "data": {
      "text/plain": [
       "[(\"hhh\",\"i\")]"
      ]
     },
     "metadata": {},
     "output_type": "display_data"
    },
    {
     "data": {
      "text/plain": [
       "[]"
      ]
     },
     "metadata": {},
     "output_type": "display_data"
    }
   ],
   "source": [
    "( many1 (sat (=='h')) ) \"hhhi\"\n",
    "( many1 (sat (=='h')) ) \"iiii\""
   ]
  },
  {
   "cell_type": "markdown",
   "id": "96eb4da6-3beb-498a-be01-bfbab044b5ef",
   "metadata": {},
   "source": [
    "# 문자열을 처리하는 파서"
   ]
  },
  {
   "cell_type": "code",
   "execution_count": 19,
   "id": "c6c1ecc2-c896-4c06-ac96-234c6177a707",
   "metadata": {},
   "outputs": [],
   "source": [
    "import Data.Char ( isDigit, isLower, isUpper,\n",
    "                   isAlpha, isAlphaNum, isSpace )\n",
    "digit = sat isDigit\n",
    "lower = sat isLower\n",
    "upper = sat isUpper\n",
    "letter = sat isAlpha\n",
    "alphanum = sat isAlphaNum\n",
    "space = sat isSpace"
   ]
  },
  {
   "cell_type": "code",
   "execution_count": 20,
   "id": "bcc13a66-9f35-4943-86a1-aef147ab7302",
   "metadata": {},
   "outputs": [
    {
     "data": {
      "text/html": [
       "<style>/* Styles used for the Hoogle display in the pager */\n",
       ".hoogle-doc {\n",
       "display: block;\n",
       "padding-bottom: 1.3em;\n",
       "padding-left: 0.4em;\n",
       "}\n",
       ".hoogle-code {\n",
       "display: block;\n",
       "font-family: monospace;\n",
       "white-space: pre;\n",
       "}\n",
       ".hoogle-text {\n",
       "display: block;\n",
       "}\n",
       ".hoogle-name {\n",
       "color: green;\n",
       "font-weight: bold;\n",
       "}\n",
       ".hoogle-head {\n",
       "font-weight: bold;\n",
       "}\n",
       ".hoogle-sub {\n",
       "display: block;\n",
       "margin-left: 0.4em;\n",
       "}\n",
       ".hoogle-package {\n",
       "font-weight: bold;\n",
       "font-style: italic;\n",
       "}\n",
       ".hoogle-module {\n",
       "font-weight: bold;\n",
       "}\n",
       ".hoogle-class {\n",
       "font-weight: bold;\n",
       "}\n",
       ".get-type {\n",
       "color: green;\n",
       "font-weight: bold;\n",
       "font-family: monospace;\n",
       "display: block;\n",
       "white-space: pre-wrap;\n",
       "}\n",
       ".show-type {\n",
       "color: green;\n",
       "font-weight: bold;\n",
       "font-family: monospace;\n",
       "margin-left: 1em;\n",
       "}\n",
       ".mono {\n",
       "font-family: monospace;\n",
       "display: block;\n",
       "}\n",
       ".err-msg {\n",
       "color: red;\n",
       "font-style: italic;\n",
       "font-family: monospace;\n",
       "white-space: pre;\n",
       "display: block;\n",
       "}\n",
       "#unshowable {\n",
       "color: red;\n",
       "font-weight: bold;\n",
       "}\n",
       ".err-msg.in.collapse {\n",
       "padding-top: 0.7em;\n",
       "}\n",
       ".highlight-code {\n",
       "white-space: pre;\n",
       "font-family: monospace;\n",
       "}\n",
       ".suggestion-warning { \n",
       "font-weight: bold;\n",
       "color: rgb(200, 130, 0);\n",
       "}\n",
       ".suggestion-error { \n",
       "font-weight: bold;\n",
       "color: red;\n",
       "}\n",
       ".suggestion-name {\n",
       "font-weight: bold;\n",
       "}\n",
       "</style><span class='get-type'>isDigit :: Char -> Bool</span>"
      ],
      "text/plain": [
       "isDigit :: Char -> Bool"
      ]
     },
     "metadata": {},
     "output_type": "display_data"
    },
    {
     "data": {
      "text/html": [
       "<style>/* Styles used for the Hoogle display in the pager */\n",
       ".hoogle-doc {\n",
       "display: block;\n",
       "padding-bottom: 1.3em;\n",
       "padding-left: 0.4em;\n",
       "}\n",
       ".hoogle-code {\n",
       "display: block;\n",
       "font-family: monospace;\n",
       "white-space: pre;\n",
       "}\n",
       ".hoogle-text {\n",
       "display: block;\n",
       "}\n",
       ".hoogle-name {\n",
       "color: green;\n",
       "font-weight: bold;\n",
       "}\n",
       ".hoogle-head {\n",
       "font-weight: bold;\n",
       "}\n",
       ".hoogle-sub {\n",
       "display: block;\n",
       "margin-left: 0.4em;\n",
       "}\n",
       ".hoogle-package {\n",
       "font-weight: bold;\n",
       "font-style: italic;\n",
       "}\n",
       ".hoogle-module {\n",
       "font-weight: bold;\n",
       "}\n",
       ".hoogle-class {\n",
       "font-weight: bold;\n",
       "}\n",
       ".get-type {\n",
       "color: green;\n",
       "font-weight: bold;\n",
       "font-family: monospace;\n",
       "display: block;\n",
       "white-space: pre-wrap;\n",
       "}\n",
       ".show-type {\n",
       "color: green;\n",
       "font-weight: bold;\n",
       "font-family: monospace;\n",
       "margin-left: 1em;\n",
       "}\n",
       ".mono {\n",
       "font-family: monospace;\n",
       "display: block;\n",
       "}\n",
       ".err-msg {\n",
       "color: red;\n",
       "font-style: italic;\n",
       "font-family: monospace;\n",
       "white-space: pre;\n",
       "display: block;\n",
       "}\n",
       "#unshowable {\n",
       "color: red;\n",
       "font-weight: bold;\n",
       "}\n",
       ".err-msg.in.collapse {\n",
       "padding-top: 0.7em;\n",
       "}\n",
       ".highlight-code {\n",
       "white-space: pre;\n",
       "font-family: monospace;\n",
       "}\n",
       ".suggestion-warning { \n",
       "font-weight: bold;\n",
       "color: rgb(200, 130, 0);\n",
       "}\n",
       ".suggestion-error { \n",
       "font-weight: bold;\n",
       "color: red;\n",
       "}\n",
       ".suggestion-name {\n",
       "font-weight: bold;\n",
       "}\n",
       "</style><span class='get-type'>digit :: Parser Char Char</span>"
      ],
      "text/plain": [
       "digit :: Parser Char Char"
      ]
     },
     "metadata": {},
     "output_type": "display_data"
    }
   ],
   "source": [
    ":type isDigit\n",
    ":type digit"
   ]
  },
  {
   "cell_type": "code",
   "execution_count": 21,
   "id": "b62c46b3-d6eb-4ec0-bf73-eb3ff210d595",
   "metadata": {},
   "outputs": [
    {
     "data": {
      "text/plain": [
       "[('1',\"23\")]"
      ]
     },
     "metadata": {},
     "output_type": "display_data"
    },
    {
     "data": {
      "text/plain": [
       "[]"
      ]
     },
     "metadata": {},
     "output_type": "display_data"
    }
   ],
   "source": [
    "digit \"123\"\n",
    "digit \"a23\""
   ]
  },
  {
   "cell_type": "code",
   "execution_count": 22,
   "id": "a0f212a0-cbaf-4985-82e4-9d522f83ff6f",
   "metadata": {},
   "outputs": [],
   "source": [
    "char :: Char -> Parser Char Char    -- char c는 주어진 글자 c와 첫글자가\n",
    "char c = sat (==c)                  -- 일치하는 경우에만 성공하는 파서\n",
    "\n",
    "string :: String -> Parser Char String  -- string s는 주어진 문자열 s와\n",
    "string []     = return []               -- 앞부분이 일치하는 경우에만 성공\n",
    "string (c:cs) = char c    >>= \\_ ->\n",
    "                string cs >>= \\_ ->\n",
    "                return (c:cs)"
   ]
  },
  {
   "cell_type": "code",
   "execution_count": 23,
   "id": "3c680080-e6e8-46f4-8a0c-c1fe4ff2eab3",
   "metadata": {},
   "outputs": [
    {
     "data": {
      "text/plain": [
       "[('h',\"ello\")]"
      ]
     },
     "metadata": {},
     "output_type": "display_data"
    },
    {
     "data": {
      "text/plain": [
       "[]"
      ]
     },
     "metadata": {},
     "output_type": "display_data"
    }
   ],
   "source": [
    "char 'h' \"hello\"\n",
    "char 'h' \"world\""
   ]
  },
  {
   "cell_type": "code",
   "execution_count": 24,
   "id": "aa855f92-2958-4664-ab7d-8f4d5ebf2981",
   "metadata": {},
   "outputs": [
    {
     "data": {
      "text/plain": [
       "[(\"abc\",\"def\")]"
      ]
     },
     "metadata": {},
     "output_type": "display_data"
    },
    {
     "data": {
      "text/plain": [
       "[]"
      ]
     },
     "metadata": {},
     "output_type": "display_data"
    }
   ],
   "source": [
    "string (\"abc\") \"abcdef\"\n",
    "string (\"abc\") \"ab1234\""
   ]
  },
  {
   "cell_type": "code",
   "execution_count": 25,
   "id": "8d415b46-12ea-4dac-98ab-c01d549ad686",
   "metadata": {},
   "outputs": [],
   "source": [
    "nat :: Parser Char Int\n",
    "nat = many1 digit >>= \\s ->\n",
    "      return (read s)\n",
    "\n",
    "ident :: Parser Char String\n",
    "ident = lower          >>= \\c  ->\n",
    "        many1 alphanum >>= \\cs ->\n",
    "        return (c:cs)\n",
    "\n",
    "spaces, spaces1 :: Parser Char ()\n",
    "spaces  = many  space >>= \\_ -> return ()\n",
    "spaces1 = many1 space >>= \\_ -> return ()"
   ]
  },
  {
   "cell_type": "code",
   "execution_count": 26,
   "id": "0185f815-5e55-4a93-9cf6-209c77627e9f",
   "metadata": {},
   "outputs": [
    {
     "data": {
      "text/plain": [
       "[(\"123\",\"def\")]"
      ]
     },
     "metadata": {},
     "output_type": "display_data"
    },
    {
     "data": {
      "text/plain": [
       "[(123,\"def\")]"
      ]
     },
     "metadata": {},
     "output_type": "display_data"
    }
   ],
   "source": [
    "(many1 digit) \"123def\"\n",
    "nat           \"123def\""
   ]
  },
  {
   "cell_type": "code",
   "execution_count": 27,
   "id": "d23773e3-7997-40b6-a501-25a5cd1831bb",
   "metadata": {},
   "outputs": [
    {
     "data": {
      "text/plain": [
       "[(\"abc123defghi\",\"\")]"
      ]
     },
     "metadata": {},
     "output_type": "display_data"
    },
    {
     "data": {
      "text/plain": [
       "[(\"abc123d\",\"  ghi\")]"
      ]
     },
     "metadata": {},
     "output_type": "display_data"
    },
    {
     "data": {
      "text/plain": [
       "[]"
      ]
     },
     "metadata": {},
     "output_type": "display_data"
    }
   ],
   "source": [
    "ident \"abc123defghi\"\n",
    "ident \"abc123d  ghi\"\n",
    "ident \"123abcd  ghi\""
   ]
  },
  {
   "cell_type": "code",
   "execution_count": 28,
   "id": "cb7fd708-e82f-4bd1-aa78-ec87529d918f",
   "metadata": {},
   "outputs": [
    {
     "data": {
      "text/plain": [
       "[((),\"abc\")]"
      ]
     },
     "metadata": {},
     "output_type": "display_data"
    },
    {
     "data": {
      "text/plain": [
       "[((),\"abc\")]"
      ]
     },
     "metadata": {},
     "output_type": "display_data"
    }
   ],
   "source": [
    "spaces \"  abc\"\n",
    "spaces \"abc\""
   ]
  },
  {
   "cell_type": "code",
   "execution_count": 29,
   "id": "674187ca-a7ed-4636-95a8-9fb061d2eb79",
   "metadata": {},
   "outputs": [
    {
     "data": {
      "text/plain": [
       "[((),\"abc\")]"
      ]
     },
     "metadata": {},
     "output_type": "display_data"
    },
    {
     "data": {
      "text/plain": [
       "[]"
      ]
     },
     "metadata": {},
     "output_type": "display_data"
    }
   ],
   "source": [
    "spaces1 \"  abc\"\n",
    "spaces1 \"abc\""
   ]
  },
  {
   "cell_type": "markdown",
   "id": "c1a07878-3b03-40f5-a447-ec7122a42635",
   "metadata": {},
   "source": [
    "# 토큰화"
   ]
  },
  {
   "cell_type": "code",
   "execution_count": 30,
   "id": "653e1ae3-ee42-43d5-b87a-05a1e3c8e3c4",
   "metadata": {},
   "outputs": [],
   "source": [
    "data Tok = KW String -- 키워드\n",
    "         | ID String -- 변수 이름\n",
    "         | INT Int   -- 정수\n",
    "         | LP        -- (\n",
    "         | RP        -- )\n",
    "         | LAM       -- \\\n",
    "         | DOT       -- .\n",
    "         | ADD       -- +\n",
    "         deriving (Eq,Ord,Show)"
   ]
  },
  {
   "cell_type": "code",
   "execution_count": 31,
   "id": "a4e00030-9ab6-4a1b-b69c-16c38fc238eb",
   "metadata": {},
   "outputs": [],
   "source": [
    "word :: Parser Char Tok\n",
    "word = ident  >>= \\s ->\n",
    "       if s `elem` [\"if\",\"then\",\"else\"] then return (KW s)\n",
    "                                        else return (ID s)\n",
    "\n",
    "natural :: Parser Char Tok\n",
    "natural = nat >>= \\n -> return (INT n)"
   ]
  },
  {
   "cell_type": "code",
   "execution_count": 32,
   "id": "8b8ce72e-9db9-4084-9c15-d0629cdc49d6",
   "metadata": {},
   "outputs": [
    {
     "data": {
      "text/plain": [
       "True"
      ]
     },
     "metadata": {},
     "output_type": "display_data"
    },
    {
     "data": {
      "text/plain": [
       "False"
      ]
     },
     "metadata": {},
     "output_type": "display_data"
    }
   ],
   "source": [
    "\"if\" `elem` [\"if\",\"then\",\"else\"]\n",
    "\"hi\" `elem` [\"if\",\"then\",\"else\"]"
   ]
  },
  {
   "cell_type": "code",
   "execution_count": 33,
   "id": "ddd1fd58-b470-461c-80b6-60672f8b533b",
   "metadata": {},
   "outputs": [
    {
     "data": {
      "text/plain": [
       "[(KW \"if\",\" then else  \")]"
      ]
     },
     "metadata": {},
     "output_type": "display_data"
    },
    {
     "data": {
      "text/plain": [
       "[(ID \"ifthen\",\"  else  \")]"
      ]
     },
     "metadata": {},
     "output_type": "display_data"
    }
   ],
   "source": [
    "word \"if then else  \"\n",
    "word \"ifthen  else  \""
   ]
  },
  {
   "cell_type": "code",
   "execution_count": 34,
   "id": "39ccd24a-8eaf-4b25-bdc7-a12fbea98726",
   "metadata": {},
   "outputs": [
    {
     "data": {
      "text/plain": [
       "[([KW \"if\"],\" then else  \")]"
      ]
     },
     "metadata": {},
     "output_type": "display_data"
    },
    {
     "data": {
      "text/plain": [
       "[([ID \"ifthen\"],\"  else  \")]"
      ]
     },
     "metadata": {},
     "output_type": "display_data"
    }
   ],
   "source": [
    "(many word) \"if then else  \"\n",
    "(many word) \"ifthen  else  \""
   ]
  },
  {
   "cell_type": "code",
   "execution_count": 35,
   "id": "9ef5451c-dac7-4672-a01c-c3a1324145cc",
   "metadata": {},
   "outputs": [],
   "source": [
    "tok :: Parser Char a -> Parser Char a\n",
    "tok p = p      >>= \\v ->\n",
    "        spaces >>= \\_ ->\n",
    "        return v"
   ]
  },
  {
   "cell_type": "code",
   "execution_count": 36,
   "id": "d5eeeddf-2b26-493a-a0ff-050ee9a0b0ce",
   "metadata": {},
   "outputs": [
    {
     "data": {
      "text/plain": [
       "[([KW \"if\",KW \"then\",KW \"else\"],\"\")]"
      ]
     },
     "metadata": {},
     "output_type": "display_data"
    },
    {
     "data": {
      "text/plain": [
       "[([ID \"ifthen\",KW \"else\"],\"\")]"
      ]
     },
     "metadata": {},
     "output_type": "display_data"
    }
   ],
   "source": [
    "(many (tok word)) \"if then else  \"\n",
    "(many (tok word)) \"ifthen  else  \""
   ]
  },
  {
   "cell_type": "code",
   "execution_count": 37,
   "id": "68cf50f4-ecb9-4a01-85d2-85f0d778f9cb",
   "metadata": {},
   "outputs": [
    {
     "data": {
      "text/plain": [
       "[([KW \"if\",ID \"b1\",KW \"then\",INT 123,KW \"else\",ID \"x3\"],\"\")]"
      ]
     },
     "metadata": {},
     "output_type": "display_data"
    },
    {
     "data": {
      "text/plain": [
       "[([KW \"if\",ID \"b1\",KW \"then\",INT 123,KW \"else\",INT 3],\"+ (\\\\y. y) \")]"
      ]
     },
     "metadata": {},
     "output_type": "display_data"
    }
   ],
   "source": [
    "(many (tok word <|> tok natural)) \"if b1 then 123 else x3  \"\n",
    "(many (tok word <|> tok natural)) \"if b1 then 123 else 3 + (\\\\y. y) \""
   ]
  },
  {
   "cell_type": "markdown",
   "id": "28774b02-968f-48ea-8f18-df1265646bed",
   "metadata": {},
   "source": [
    "# 문법분석"
   ]
  },
  {
   "cell_type": "code",
   "execution_count": 38,
   "id": "35d2044e-fe9f-4f97-ac27-e1b9ea931072",
   "metadata": {},
   "outputs": [],
   "source": [
    "data Expr = Lit Int            -- n\n",
    "          | Add Expr Expr      -- e1 + e2\n",
    "          | If Expr Expr Expr  -- if e then e1 else e0\n",
    "          deriving (Eq, Ord, Show)"
   ]
  },
  {
   "cell_type": "code",
   "execution_count": 39,
   "id": "2b677f9d-c927-46bf-8ce6-726c51a94eba",
   "metadata": {},
   "outputs": [],
   "source": [
    "aexp, aexp0, aexp1 :: Parser Tok Expr\n",
    "aexp = aexp0  -- 덧셈식만 처리하는 파서\n",
    "\n",
    "-- EBNF로는 aexp0 ::= { aexp1 \"+\" } aexp1\n",
    "aexp0 = many ( aexp1       >>= \\e ->\n",
    "               sat (==ADD) >>= \\_ -> \n",
    "               return e              )  >>= \\es ->\n",
    "        aexp1                           >>= \\e' ->\n",
    "        return (foldl1 Add (es ++ [e']))  -- 덧셈을 좌결합으로 처리\n",
    "\n",
    "-- EBNF로는 aexp1 ::= lit | \"(\" aexp0 \")\"\n",
    "aexp1 = lit <|> paren aexp0\n",
    "\n",
    "lit = sat isINT  >>= \\(INT n) -> return (Lit n)\n",
    "    where isINT (INT _) = True\n",
    "          isINT _       = False\n",
    "\n",
    "paren p = sat (==LP) >>= \\_ ->\n",
    "          p          >>= \\e ->\n",
    "          sat (==RP) >>= \\_ ->\n",
    "          return e"
   ]
  },
  {
   "cell_type": "code",
   "execution_count": 40,
   "id": "7f11da27-f01f-4f2a-b5af-06248753adaa",
   "metadata": {},
   "outputs": [
    {
     "data": {
      "text/plain": [
       "[(Lit 1,[])]"
      ]
     },
     "metadata": {},
     "output_type": "display_data"
    },
    {
     "data": {
      "text/plain": [
       "[(Lit 1,[ADD,INT 2])]"
      ]
     },
     "metadata": {},
     "output_type": "display_data"
    }
   ],
   "source": [
    "lit [INT 1]             -- 1\n",
    "lit [INT 1, ADD, INT 2] -- 1 + 2"
   ]
  },
  {
   "cell_type": "code",
   "execution_count": 41,
   "id": "450403b1-3705-4f9b-9001-c6563030479a",
   "metadata": {},
   "outputs": [
    {
     "data": {
      "text/plain": [
       "[(Lit 2,[])]"
      ]
     },
     "metadata": {},
     "output_type": "display_data"
    },
    {
     "data": {
      "text/plain": [
       "[(Lit 2,[ADD,INT 3])]"
      ]
     },
     "metadata": {},
     "output_type": "display_data"
    },
    {
     "data": {
      "text/plain": [
       "[(Add (Lit 2) (Lit 3),[])]"
      ]
     },
     "metadata": {},
     "output_type": "display_data"
    }
   ],
   "source": [
    "aexp1 [INT 2]                     -- 2\n",
    "aexp1 [INT 2, ADD, INT 3]         -- 2 + 3\n",
    "aexp1 [LP, INT 2, ADD, INT 3, RP] -- (2 + 3)"
   ]
  },
  {
   "cell_type": "code",
   "execution_count": 42,
   "id": "763dbc50-2a41-452f-9192-e84533166562",
   "metadata": {},
   "outputs": [
    {
     "data": {
      "text/plain": [
       "[(Add (Lit 1) (Lit 2),[])]"
      ]
     },
     "metadata": {},
     "output_type": "display_data"
    },
    {
     "data": {
      "text/plain": [
       "[(Add (Lit 1) (Add (Lit 2) (Lit 3)),[])]"
      ]
     },
     "metadata": {},
     "output_type": "display_data"
    }
   ],
   "source": [
    "aexp [INT 1, ADD, INT 2]                     -- 1 + 2\n",
    "aexp [INT 1, ADD, LP, INT 2, ADD, INT 3, RP] -- 1 + (2 + 3)"
   ]
  },
  {
   "cell_type": "code",
   "execution_count": 43,
   "id": "4fb66c43-55f0-4df5-b902-dfe70af29fbe",
   "metadata": {},
   "outputs": [],
   "source": [
    "expr, expr0, expr1 :: Parser Tok Expr\n",
    "expr = expr0 -- Expr에 대한 파서\n",
    "\n",
    "-- EBNF로는 expr0 ::= { expr1 \"+\" } (expr1 | cexpr)\n",
    "expr0 = many ( expr1       >>= \\e ->\n",
    "               sat (==ADD) >>= \\_ -> \n",
    "               return e              )  >>= \\es ->\n",
    "        (expr1 <|> cexpr)               >>= \\e' ->\n",
    "        return (foldl1 Add (es ++ [e']))\n",
    "\n",
    "expr1 = lit <|> paren expr0\n",
    "\n",
    "cexpr = sat (== KW \"if\")   >>= \\_  -> expr0 >>= \\e  ->\n",
    "        sat (== KW \"then\") >>= \\_  -> expr0 >>= \\e1 ->\n",
    "        sat (== KW \"else\") >>= \\_  -> expr0 >>= \\e0 ->\n",
    "        return (If e e1 e0)"
   ]
  },
  {
   "cell_type": "code",
   "execution_count": 46,
   "id": "14aa1712-eb56-4a5b-8fb1-0748a838cec0",
   "metadata": {},
   "outputs": [
    {
     "data": {
      "text/plain": [
       "[(Add (Lit 1) (If (Lit 10) (Lit 20) (Lit 30)),[])]"
      ]
     },
     "metadata": {},
     "output_type": "display_data"
    },
    {
     "data": {
      "text/plain": [
       "[(If (Lit 10) (Lit 20) (Add (Lit 30) (Lit 1)),[])]"
      ]
     },
     "metadata": {},
     "output_type": "display_data"
    },
    {
     "data": {
      "text/plain": [
       "[(Add (If (Lit 10) (Lit 20) (Lit 30)) (Lit 1),[])]"
      ]
     },
     "metadata": {},
     "output_type": "display_data"
    }
   ],
   "source": [
    "expr [INT 1,\n",
    "      ADD,\n",
    "      KW \"if\", INT 10,KW \"then\", INT 20, KW \"else\", INT 30]\n",
    "expr [KW \"if\", INT 10,\n",
    "      KW \"then\", INT 20,\n",
    "      KW \"else\", INT 30, ADD, INT 1]\n",
    "expr [LP, KW \"if\", INT 10,KW \"then\", INT 20, KW \"else\", INT 30, RP,\n",
    "      ADD,\n",
    "      INT 1]"
   ]
  },
  {
   "cell_type": "markdown",
   "id": "39955f07-3754-45dc-8afa-07d9e13e40fc",
   "metadata": {},
   "source": [
    "\\section*{연습문제}\n",
    "1. `[25]`번 셀의 `nat :: Parser Char Int`는\n",
    "   `\"12\"`나 `\"0\"`처럼 자연수(0 이상의 정수)를 나타내는 문자열은 처리할 수 있지만\n",
    "   `\"-123\"`처럼 음의 정수를 나타내는 문자열을 처리하지 못한다.\n",
    "   `\"12\"`나 `\"0\"`처럼 자연수를 나타내는 문자열과 `\"-123\"`처럼 음의 정수를 나타내는\n",
    "   문자열을 모두 처리할 수 있는, 즉 십진수 정수를 나타내는 문자열을 처리하는\n",
    "   `int :: Parser Char Int`를 작성해 보라.\n",
    "1. 다음 두 파서가 어떤 문자열에 대해 처리 결과가 달라지는지 실행 사례를 들고\n",
    "   어째서 그러한 차이점이 발생하는지도 설명해 보라.\n",
    "   - `(string \"if\" <|> string \"then\" <|> string \"else\" <|> ident)`\n",
    "   - `(ident <|> string \"if\" <|> string \"then\" <|> string \"else\")`\n",
    "1. `[30]`번 셀의 `Tok`는 FAC언어(\\ref{chap:FunArithEval}장)의 어휘에 대한\n",
    "   토큰을 나타내는 데이터 타입이다. 맨 앞에도 공백문자들이 나타나는 것을 허용하면서\n",
    "   FAC언어를 나타내는 문자열을 토큰화하는\n",
    "   `lexFAC :: Parser Char Tok` 함수를 작성해 보라.\n",
    "1. TODO\n",
    "1. TODO"
   ]
  },
  {
   "cell_type": "code",
   "execution_count": null,
   "id": "713ca59d-aacf-4fab-9974-929be01ca215",
   "metadata": {},
   "outputs": [],
   "source": []
  }
 ],
 "metadata": {
  "kernelspec": {
   "display_name": "Haskell",
   "language": "haskell",
   "name": "haskell"
  },
  "language_info": {
   "codemirror_mode": "ihaskell",
   "file_extension": ".hs",
   "mimetype": "text/x-haskell",
   "name": "haskell",
   "pygments_lexer": "Haskell",
   "version": "8.10.7"
  }
 },
 "nbformat": 4,
 "nbformat_minor": 5
}
