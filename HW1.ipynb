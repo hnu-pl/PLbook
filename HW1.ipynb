{
 "cells": [
  {
   "cell_type": "markdown",
   "id": "7a21ee52-dbe1-4ed9-bbc4-34882c840737",
   "metadata": {},
   "source": [
    "# HW1 (프로그래밍언어론 2022년 1학기): 총 250점\n",
    "- 이름: ???\n",
    "- 학번: ????????\n",
    "\n",
    "위에 이름과 학번을 작성하시오.\n",
    "\n",
    "-----"
   ]
  },
  {
   "cell_type": "markdown",
   "id": "b7cba913-a71d-4d45-af29-082626a6c310",
   "metadata": {},
   "source": [
    "## 0. 교재 5장 끝부분의 연습문제 (50점 = 10점+20점+20점)\n",
    " - (1) $\\lambda x.\\lambda x.x$\n",
    " - (2) $\\lambda x.\\lambda x.y$\n",
    " - (3) $\\lambda x.\\lambda y.x$\n",
    " - (4) $\\lambda x.\\lambda y.y$\n",
    " - (5) $\\lambda y.\\lambda x.x$\n",
    " - (6) $\\lambda y.\\lambda x.y$\n",
    " - (7) $\\lambda y.\\lambda y.x$\n",
    " - (8) $\\lambda y.\\lambda y.y$"
   ]
  },
  {
   "cell_type": "markdown",
   "id": "82129720-1899-4bf5-80bb-15ccbb8f5b4a",
   "metadata": {},
   "source": [
    "### 0-1. 위의 각 람다식이 열린식인지 닫힌식인지 구분해 보라. (10점)"
   ]
  },
  {
   "cell_type": "markdown",
   "id": "d840a3ce-60ba-4a0e-afad-8ef996322a4d",
   "metadata": {},
   "source": [
    "(여기에 답안 작성)"
   ]
  },
  {
   "cell_type": "markdown",
   "id": "616ae63f-5a7e-45c1-b6cd-ae82ce915edf",
   "metadata": {},
   "source": [
    "### 0-2. 위에서 $\\alpha$동치인 람다식끼리 모아 분류해 보라. (20점)"
   ]
  },
  {
   "cell_type": "markdown",
   "id": "aeb0aa3c-a795-44f5-b1db-bee02d11c2fa",
   "metadata": {},
   "source": [
    "(여기에 답안 작성)"
   ]
  },
  {
   "cell_type": "markdown",
   "id": "d4b40adc-15a8-42fa-925b-117f18bc6594",
   "metadata": {},
   "source": [
    "### 0-3. 위의 각 람다식을 드브루인 인덱스를 이용한 표기로 바꾸어 보라. (20점)"
   ]
  },
  {
   "cell_type": "markdown",
   "id": "5bad8287-d147-4c83-98f4-2417ded4dd6f",
   "metadata": {},
   "source": [
    "(여기에 답안 작성)"
   ]
  },
  {
   "cell_type": "markdown",
   "id": "038bafd6-cf9a-48d2-8057-2dcdb5cefb38",
   "metadata": {},
   "source": [
    "-----\n",
    "아래 프로그래밍 문제들에서는 표준라이브러리 함수나 다른 문제의 함수를 활용하지 않고 각각의 문제를 독립적으로 작성하라.\n",
    "\n",
    "`undefined`나 주석으로 처리된 부분에 필요한 코드를 작성하여 함수 선언을 완성하면 된다.\n",
    "\n",
    "2번 문제를 말고 다른 문제는 재귀함수로 작성하면 된다.\n",
    "\n",
    "1번 문제를 제외한 다른 문제에서는 필요하다면 리스트 조건제시법을 활용해도 좋다."
   ]
  },
  {
   "cell_type": "code",
   "execution_count": 1,
   "id": "905f2765-1485-4027-b5bf-9a970256e9a5",
   "metadata": {},
   "outputs": [],
   "source": [
    ":opt no-lint"
   ]
  },
  {
   "cell_type": "markdown",
   "id": "741518c9-134e-4e2f-afba-fe3ebe1ebe60",
   "metadata": {},
   "source": [
    "## 1. 함수 `incList`를 리스트 조건제시법 말고 재귀함수로 작성해 보라. (15점)"
   ]
  },
  {
   "cell_type": "code",
   "execution_count": 2,
   "id": "90870c0c-a5ae-448f-828a-2321ff7e93db",
   "metadata": {},
   "outputs": [],
   "source": [
    "incList :: [Int] -> [Int]\n",
    "incList []     = undefined\n",
    "incList (x:xs) = undefined"
   ]
  },
  {
   "cell_type": "code",
   "execution_count": 3,
   "id": "5075d8f7-0cbc-4694-8909-96756a476e10",
   "metadata": {},
   "outputs": [
    {
     "data": {
      "text/plain": [
       "[2,3,4,5,6]"
      ]
     },
     "metadata": {},
     "output_type": "display_data"
    }
   ],
   "source": [
    "-- 리스트의 모든 원소를 1씩 증가시킨 리스트를 계산한다.\n",
    "incList [1,2,3,4,5]"
   ]
  },
  {
   "cell_type": "markdown",
   "id": "443a4770-dded-43d4-a76b-431a57ec5a48",
   "metadata": {},
   "source": [
    "## 2. 함수 `incList'`를 재귀함수가 아닌 리스트 조건제시법으로 작성해 보라. (15점)"
   ]
  },
  {
   "cell_type": "code",
   "execution_count": 4,
   "id": "b146b35d-5a6d-4a9b-920f-03c3e33963d7",
   "metadata": {},
   "outputs": [],
   "source": [
    "incList' :: [Int] -> [Int]\n",
    "incList' xs = undefined"
   ]
  },
  {
   "cell_type": "code",
   "execution_count": 5,
   "id": "5972cbc1-901b-4742-b863-ea983f6fd49e",
   "metadata": {},
   "outputs": [
    {
     "data": {
      "text/plain": [
       "[2,3,4,5,6]"
      ]
     },
     "metadata": {},
     "output_type": "display_data"
    }
   ],
   "source": [
    "-- 리스트의 모든 원소를 1씩 증가시킨 리스트를 계산한다.\n",
    "incList' [1,2,3,4,5]"
   ]
  },
  {
   "cell_type": "markdown",
   "id": "0db47dbc-999a-4eb0-9f8b-4657a1bffdfc",
   "metadata": {},
   "source": [
    "## 3. 함수 `index`를 작성하라 (30점)"
   ]
  },
  {
   "cell_type": "code",
   "execution_count": 6,
   "id": "39421e90-7ae8-4263-a3da-0de8b896b90b",
   "metadata": {},
   "outputs": [],
   "source": [
    "index :: Eq a => a -> [a] -> Int\n",
    "index _ []     = error \"리스트에 없음\"\n",
    "index x (y:ys) = undefined"
   ]
  },
  {
   "cell_type": "code",
   "execution_count": 7,
   "id": "2c7b1d7d-1032-4d5f-b42e-df7098e871a3",
   "metadata": {},
   "outputs": [
    {
     "data": {
      "text/plain": [
       "0"
      ]
     },
     "metadata": {},
     "output_type": "display_data"
    }
   ],
   "source": [
    "index \"a\" [\"a\",\"b\",\"c\",\"a\"]"
   ]
  },
  {
   "cell_type": "code",
   "execution_count": 8,
   "id": "87c5be53-0463-481f-b687-fb4caa111eaa",
   "metadata": {},
   "outputs": [
    {
     "data": {
      "text/plain": [
       "2"
      ]
     },
     "metadata": {},
     "output_type": "display_data"
    }
   ],
   "source": [
    "index \"c\" [\"a\",\"b\",\"c\",\"b\",\"c\"]"
   ]
  },
  {
   "cell_type": "code",
   "execution_count": 9,
   "id": "0ac72776-4cca-4bd9-bde0-d0b4ba38aabf",
   "metadata": {},
   "outputs": [
    {
     "ename": "",
     "evalue": "",
     "header": "MessageHeader {mhIdentifiers = [\"2df9fad1-4f5b-422e-8aca-b17c337ade0d\"], mhParentHeader = Just (MessageHeader {mhIdentifiers = [\"2df9fad1-4f5b-422e-8aca-b17c337ade0d\"], mhParentHeader = Nothing, mhMetadata = Metadata (fromList [(\"recordTiming\",Bool False),(\"deletedCells\",Array []),(\"cellId\",String \"0ac72776-4cca-4bd9-bde0-d0b4ba38aabf\")]), mhMessageId = UUID {uuidToString = \"4f4b35cc-ce54-492e-9c30-21eda6aa4bdb\"}, mhSessionId = UUID {uuidToString = \"2df9fad1-4f5b-422e-8aca-b17c337ade0d\"}, mhUsername = \"\", mhMsgType = ExecuteRequestMessage, mhBuffers = []}), mhMetadata = Metadata (fromList []), mhMessageId = UUID {uuidToString = \"56d93744-6f06-41ac-ac65-09b3f3b18f11\"}, mhSessionId = UUID {uuidToString = \"2df9fad1-4f5b-422e-8aca-b17c337ade0d\"}, mhUsername = \"\", mhMsgType = ExecuteErrorMessage, mhBuffers = []}",
     "output_type": "error",
     "traceback": [
      "리스트에 없음\nCallStack (from HasCallStack):\n  error, called at <interactive>:2:18 in interactive:Ghci124"
     ]
    }
   ],
   "source": [
    "index \"d\" [\"a\",\"b\",\"c\"]"
   ]
  },
  {
   "cell_type": "markdown",
   "id": "f063754f-5f36-4907-96bc-3db93f38660c",
   "metadata": {},
   "source": [
    "## 2. 함수 `index'`를 작성하라 (40점)"
   ]
  },
  {
   "cell_type": "code",
   "execution_count": 10,
   "id": "fc0cc5be-1736-47e5-aa4a-ea9a80562b0b",
   "metadata": {},
   "outputs": [],
   "source": [
    "index' :: Eq a => a -> [a] -> Int\n",
    "index' _ []    = undefined \n",
    "{- \n",
    "index' x (y:ys) ... \n",
    "-}"
   ]
  },
  {
   "cell_type": "code",
   "execution_count": 11,
   "id": "3ea7a1b4-f479-4602-aff4-aca3d85b3d46",
   "metadata": {},
   "outputs": [
    {
     "data": {
      "text/plain": [
       "0"
      ]
     },
     "metadata": {},
     "output_type": "display_data"
    }
   ],
   "source": [
    "index' \"a\" [\"a\",\"b\",\"c\"]"
   ]
  },
  {
   "cell_type": "code",
   "execution_count": 12,
   "id": "51df9588-25fa-475c-ab16-b6c7988d233a",
   "metadata": {},
   "outputs": [
    {
     "data": {
      "text/plain": [
       "2"
      ]
     },
     "metadata": {},
     "output_type": "display_data"
    }
   ],
   "source": [
    "index' \"c\" [\"a\",\"b\",\"c\",\"b\",\"c\"]"
   ]
  },
  {
   "cell_type": "code",
   "execution_count": 13,
   "id": "3ca234c7-af4c-43ce-9d23-42a09f8ae8b1",
   "metadata": {},
   "outputs": [
    {
     "data": {
      "text/plain": [
       "-1"
      ]
     },
     "metadata": {},
     "output_type": "display_data"
    }
   ],
   "source": [
    "index' \"d\" [\"a\",\"b\",\"c\"]"
   ]
  },
  {
   "cell_type": "markdown",
   "id": "661395a4-74f4-4219-aa82-31b61cfc4fbc",
   "metadata": {},
   "source": [
    "## 3. 함수 `indexM`을 작성하라 (40점)"
   ]
  },
  {
   "cell_type": "code",
   "execution_count": 14,
   "id": "8fca6e90-60af-4fa8-b2c4-2f4ed4fd6b63",
   "metadata": {},
   "outputs": [],
   "source": [
    "indexM :: Eq a => a -> [a] -> Maybe Int\n",
    "indexM _ [] = undefined\n",
    "{-\n",
    "indexM x (y:ys) ...\n",
    "-}"
   ]
  },
  {
   "cell_type": "code",
   "execution_count": 15,
   "id": "e2c60d19-83dc-4fd5-9296-ce443134aafe",
   "metadata": {},
   "outputs": [
    {
     "data": {
      "text/plain": [
       "Just 0"
      ]
     },
     "metadata": {},
     "output_type": "display_data"
    }
   ],
   "source": [
    "indexM \"a\" [\"a\",\"b\",\"c\"]"
   ]
  },
  {
   "cell_type": "code",
   "execution_count": 16,
   "id": "e3803c7a-3aa1-4646-8ac0-6fa31df60a45",
   "metadata": {},
   "outputs": [
    {
     "data": {
      "text/plain": [
       "Just 2"
      ]
     },
     "metadata": {},
     "output_type": "display_data"
    }
   ],
   "source": [
    "indexM \"c\" [\"a\",\"b\",\"c\",\"b\",\"c\"]"
   ]
  },
  {
   "cell_type": "code",
   "execution_count": 17,
   "id": "f506bbe4-39bc-4eae-92f5-1627143e63bf",
   "metadata": {},
   "outputs": [
    {
     "data": {
      "text/plain": [
       "Nothing"
      ]
     },
     "metadata": {},
     "output_type": "display_data"
    }
   ],
   "source": [
    "indexM \"d\" [\"a\",\"b\",\"c\"]"
   ]
  },
  {
   "cell_type": "markdown",
   "id": "17a14336-8964-4167-a875-7f3dcc476102",
   "metadata": {},
   "source": [
    "## 4. 함수 `indices`를 작성하라 (60점)"
   ]
  },
  {
   "cell_type": "code",
   "execution_count": 18,
   "id": "ab8baf5c-14b6-482a-b686-8361edef0758",
   "metadata": {},
   "outputs": [],
   "source": [
    "indices :: Eq a => Eq a => a -> [a] -> [Int]\n",
    "indices _ []     = undefined\n",
    "{-\n",
    "indices x (y:ys) ...\n",
    "-}"
   ]
  },
  {
   "cell_type": "code",
   "execution_count": 19,
   "id": "ea9aec75-20dd-4735-9b63-565d849cf494",
   "metadata": {},
   "outputs": [
    {
     "data": {
      "text/plain": [
       "[0]"
      ]
     },
     "metadata": {},
     "output_type": "display_data"
    }
   ],
   "source": [
    "indices \"a\" [\"a\",\"b\",\"c\"]"
   ]
  },
  {
   "cell_type": "code",
   "execution_count": 20,
   "id": "8c9f1292-bdb0-47ca-9fa7-ec02dd75745f",
   "metadata": {},
   "outputs": [
    {
     "data": {
      "text/plain": [
       "[2,4]"
      ]
     },
     "metadata": {},
     "output_type": "display_data"
    }
   ],
   "source": [
    "indices \"c\" [\"a\",\"b\",\"c\",\"b\",\"c\"]"
   ]
  },
  {
   "cell_type": "code",
   "execution_count": 21,
   "id": "95606156-f029-404d-b48e-e1380d9c83ff",
   "metadata": {},
   "outputs": [
    {
     "data": {
      "text/plain": [
       "[]"
      ]
     },
     "metadata": {},
     "output_type": "display_data"
    }
   ],
   "source": [
    "indices \"d\" [\"a\",\"b\",\"c\"]"
   ]
  }
 ],
 "metadata": {
  "kernelspec": {
   "display_name": "Haskell",
   "language": "haskell",
   "name": "haskell"
  },
  "language_info": {
   "codemirror_mode": "ihaskell",
   "file_extension": ".hs",
   "mimetype": "text/x-haskell",
   "name": "haskell",
   "pygments_lexer": "Haskell",
   "version": "8.10.7"
  }
 },
 "nbformat": 4,
 "nbformat_minor": 5
}
