{
 "cells": [
  {
   "cell_type": "markdown",
   "metadata": {},
   "source": [
    "앨런 튜링의 튜링머신과 마찬가지로 람다계산법은 \n",
    "수학자 다비드 힐베르트가 제시한 수리명제자동판별문제(Entscheidungsproblem)의\n",
    "해결 불가능함을 보이기 위해 알론조 처치가 최소한의 문법으로 고안한\n",
    "이론적 소품으로써 탄생했다. 이후 람다계산법은 프로그래밍 언어 이론의 연구에\n",
    "활발히 활용되고 있으며 특히 함수형 프로그래밍언어 설계의 기초가 되고 있다.\n",
    "\n",
    "이론적으로는 순수한 람다계산법만으로도 조건문, 자연수 등을 포함한 모든 계산이 표현 가능지만\n",
    "실제 컴퓨터에서 그런 방식으로 계산한다면 비효율적일 것이다.\n",
    "람다계산법을 기초로 하여 컴퓨터 하드웨어에서 제공하는 정수 연산 등\n",
    "여러 가지 다양한 기능을 덧붙여 나간 언어들이 바로 함수형 언어다.\n",
    "또한, 최근에는 함수형 언어로 시작하지 않은 많은 프로그래밍언어들도\n",
    "람다계산법의 문법이나 개념을 도입하고 있기도 하므로 실무적 프로그래밍\n",
    "능력 향상을 위해서도 람다계산법을 바탕으로 하는 언어에 대한 기본적 이해가 필요하다.\n",
    "\n",
    "이 장에서는 지금까지 살펴본 덧셈식과 람다식 그리고 조건식까지 포함하는\n",
    "언어에 대한 인자 먼저 값계산(call-by-value evaluation)을 하는\n",
    "인터프리터를 하스켈로 작성해 본다.\n",
    "\n",
    "\\newpage"
   ]
  },
  {
   "cell_type": "raw",
   "metadata": {},
   "source": [
    "\\begin{figure}"
   ]
  },
  {
   "cell_type": "markdown",
   "metadata": {},
   "source": [
    "\\begin{align*}\n",
    "x &\\;\\in\\; \\texttt{Nm} \\qquad\\qquad n \\;\\in\\; \\mathbb{Z} \\\\\n",
    "e &\\;\\in \\texttt{Expr}\n",
    "    ~::=~ x ~\\mid~ \\lambda x.e ~\\mid~ e_1~e_2 \n",
    "    ~\\mid~ n ~\\mid~ e_1 +\\, e_2\n",
    "    ~\\mid~ \\textbf{if}~e~\\textbf{then}~e_1~\\textbf{else}~e_0\n",
    "\\\\[-3em]\n",
    "\\end{align*}\n",
    "\\begin{align*}\n",
    "\\texttt{Env} &~=~ \\texttt{Nm} \\xrightharpoonup{_\\textrm{fin}} \\texttt{Value} & \\quad\n",
    "\\rho &\\in \\texttt{Env} ~ ::= ~ \\{x_1{\\mapsto}v_1,\\,\\ldots,\\,x_n{\\mapsto}v_n\\} \\\\\n",
    "\\texttt{Val} &~\\subset~ (\\texttt{Expr}\\times\\texttt{Env}) \\;\\cup\\; \\mathbb{Z} & \\quad\n",
    "v &\\in \\texttt{Val} ~ ::= ~ \\langle \\lambda x.e, \\rho \\rangle ~\\mid~ n \\\\\n",
    "\\cdot\\Longmapsto\\cdot &~\\subset~ (\\texttt{Expr}\\times\\texttt{Env})\\;\\times\\;\\texttt{Val}\n",
    "\\\\[-3em]\n",
    "\\end{align*}"
   ]
  },
  {
   "cell_type": "markdown",
   "metadata": {},
   "source": [
    "$$\n",
    "\\langle x,\\rho\\rangle \\Longmapsto \\rho(x)\n",
    "\\qquad\n",
    "\\langle\\lambda x.e,\\rho\\rangle \\Longmapsto \\langle\\lambda x.e,\\rho\\rangle\n",
    "$$\n",
    "$$\n",
    "\\frac{\n",
    "      \\langle e_1,\\rho\\rangle \\Longmapsto \\langle\\lambda x.e,\\rho_1\\rangle\n",
    "      \\quad\n",
    "      \\langle e_2,\\rho\\rangle \\Longmapsto v_2\n",
    "      \\quad\n",
    "      \\langle e,\\{x{\\mapsto}v_2\\}\\rho_1\\rangle \\Longmapsto v\n",
    "    }{\\langle e_1~e_2,\\rho\\rangle \\Longmapsto v}\n",
    "$$\n",
    "$$\n",
    "\\langle n,\\rho\\rangle \\Longmapsto n\n",
    "\\qquad\n",
    "\\frac{\\langle e_1,\\rho\\rangle \\Longmapsto n_1 \n",
    "      \\quad\n",
    "      \\langle e_2,\\rho\\rangle \\Longmapsto n_2}{\n",
    "        \\langle e_1 +\\, e_2,\\rho\\rangle \\Longmapsto n}(n\\equiv n_1+n_2)\n",
    "$$\n",
    "$$\n",
    "\\frac{\\langle e,\\rho\\rangle \\Longmapsto 0\n",
    "      \\quad\n",
    "      \\langle e_0,\\rho\\rangle \\Longmapsto n_0}{\n",
    "        \\langle\\textbf{if}~e~\\textbf{then}~e_1~\\textbf{else}~e_0,\\,\\rho\\rangle \\Longmapsto n_0}\n",
    "\\quad        \n",
    "\\frac{\\langle e,\\rho\\rangle \\Longmapsto n\n",
    "      \\quad\n",
    "      \\langle e_1,\\rho\\rangle \\Longmapsto n_1}{\n",
    "        \\langle\\textbf{if}~e~\\textbf{then}~e_1~\\textbf{else}~e_0,\\,\\rho\\rangle \\Longmapsto n_1}(n\\neq 0)\n",
    "$$"
   ]
  },
  {
   "cell_type": "raw",
   "metadata": {},
   "source": [
    "\\caption{함수, 산술식, 조건식으로 이루어진 언어의 문법구조와 의미구조 \\label{fig:FunArithLang} }\n",
    "\\end{figure}"
   ]
  },
  {
   "cell_type": "markdown",
   "metadata": {},
   "source": [
    "함수, 산술식, 조건식으로 이루어전 언어의 문법구조와 큰걸음 동작과정 의미구조를\n",
    "그림 \\ref{fig:FunArithLang}와 같이 정의하자.\n",
    "함수를 다루는 규칙은 이전에 살펴본 타입없는 람다계산법에 대한\n",
    "인자 먼저 값계산의 큰걸음 의미구조(그림 \\ref{fig:bigStepCBV})와 같다.\n",
    "산술식을 다루는 규칙도 이전에 살펴본 산술식에 대한 큰걸음 의미구조(\\ref{sec:bigStepArith}절)와\n",
    "사실상 같은 형태를 따르되 변수 이름이 산술식에 나타날 수도 있으므로\n",
    "산술식($e_1 + e_2$)을 환경($\\rho$)과 짝지어 계산한다.\n",
    "조건식($\\textbf{if}~e~\\textbf{then}~e_1~\\textbf{else}~e_0$)을 다루는 규칙은 \n",
    "$e$를 계산한 결과값이 0인 경우와 그렇지 않은 경우로 나누어 두 개의 규칙으로 정의하고 있다.\n",
    "즉, 0인 경우를 거짓으로 그 외의 정수값은 참으로 취급해 조건식의 계산을 진행하라는 뜻이다.\n",
    "\n",
    "이 언어에서는 정상적으로 계산이 끝난 것으로 취급되는 값의 형태가 두 가지 있다.\n",
    "함수를 계산한 결과값인 클로저($\\langle\\lambda x.e,\\rho\\rangle$)와\n",
    "산술식을 계산한 결과값인 정수($n$) 이렇게 두 종류의 값이 있다는 말이다."
   ]
  },
  {
   "cell_type": "code",
   "execution_count": 1,
   "metadata": {},
   "outputs": [],
   "source": [
    ":opt no-lint\n",
    "{-# LANGUAGE TypeSynonymInstances FlexibleInstances #-}"
   ]
  },
  {
   "cell_type": "code",
   "execution_count": 2,
   "metadata": {},
   "outputs": [],
   "source": [
    "type Nm = String  -- 변수 이름은 문자열로\n",
    "\n",
    "data Expr = Var Nm             -- x\n",
    "          | Lam Nm Expr        -- (\\x.e)\n",
    "          | App Expr Expr      -- (e1 e2)\n",
    "          | Lit Int            -- n\n",
    "          | Add Expr Expr      -- e1 + e2\n",
    "          | If Expr Expr Expr  -- if e then e1 else e0\n",
    "          deriving (Eq, Ord)"
   ]
  },
  {
   "cell_type": "code",
   "execution_count": 3,
   "metadata": {},
   "outputs": [],
   "source": [
    "instance Show Expr where -- LaTeX 소스코드 생성하는 Show 인스턴스 직접 선언\n",
    "  showsPrec _ (Var x) = showString x\n",
    "  showsPrec p (Lam x e) = showParen (p > 1) $\n",
    "      showString (\"\\\\lambda \"++x++\".\") . showsPrec 1 e\n",
    "  showsPrec p (App e1 e2) = showParen (p > 9) $\n",
    "      showsPrec 9 e1 . showString \"\\\\;\" . showsPrec 10 e2\n",
    "  showsPrec _ (Lit n) = shows n\n",
    "  showsPrec p (Add e1 e2) = showParen (p > 6) $\n",
    "      showsPrec 6 e1 . showString \"+\" . showsPrec 7 e2\n",
    "  showsPrec p (If e e1 e0) = showParen (p > 2) $\n",
    "      showString \"\\\\textbf{if}\\\\;\" . showsPrec 3 e .\n",
    "      showString \"\\\\;\\\\textbf{then}\\\\;\" . showsPrec 3 e1 .\n",
    "      showString \"\\\\;\\\\textbf{else}\\\\;\" . showsPrec 3 e0\n",
    "\n",
    "import IHaskell.Display (latex)\n",
    "instance IHaskellDisplay Expr where -- 노트북에 디스플레이하는 인스턴스 선언\n",
    "    display e = display [latex $ \"$\"++show e++\"$\"]"
   ]
  },
  {
   "cell_type": "code",
   "execution_count": 4,
   "metadata": {},
   "outputs": [
    {
     "data": {
      "text/latex": [
       "$\\lambda x.x$"
      ]
     },
     "metadata": {},
     "output_type": "display_data"
    },
    {
     "data": {
      "text/latex": [
       "$\\lambda x.\\lambda y.x$"
      ]
     },
     "metadata": {},
     "output_type": "display_data"
    },
    {
     "data": {
      "text/latex": [
       "$\\lambda x.\\lambda y.y$"
      ]
     },
     "metadata": {},
     "output_type": "display_data"
    },
    {
     "data": {
      "text/latex": [
       "$\\textbf{if}\\;3+(x+y)\\;\\textbf{then}\\;(\\lambda x.\\lambda y.y)\\;\\textbf{else}\\;(\\lambda x.x)\\;(\\lambda x.\\lambda y.x)$"
      ]
     },
     "metadata": {},
     "output_type": "display_data"
    }
   ],
   "source": [
    "idExpr = Lam \"x\" (Var \"x\")\n",
    "ttExpr = Lam \"x\" (Lam \"y\" (Var \"x\")) \n",
    "ffExpr = Lam \"x\" (Lam \"y\" (Var \"y\")) \n",
    "\n",
    "idExpr\n",
    "ttExpr\n",
    "ffExpr\n",
    "If (Add (Lit 3) (Add (Var \"x\") (Var \"y\"))) ffExpr (App idExpr ttExpr)"
   ]
  },
  {
   "cell_type": "code",
   "execution_count": 5,
   "metadata": {},
   "outputs": [],
   "source": [
    "type Env = [ (Nm, Val) ]\n",
    "data Val = Cl Expr Env | Vi Int  deriving (Eq,Ord)"
   ]
  },
  {
   "cell_type": "code",
   "execution_count": 6,
   "metadata": {},
   "outputs": [],
   "source": [
    "import Data.List (intercalate)\n",
    "instance {-# OVERLAPS #-} Show Env where\n",
    "    show env = \"\\\\{\"++ intercalate \",\\\\,\" (map show env) ++\"\\\\}\"\n",
    "instance {-# OVERLAPS #-} Show (Nm,Val) where\n",
    "    show (x,cl) = x++\"{\\\\mapsto}\"++show cl\n",
    "instance Show Val where\n",
    "    show (Cl e env) = \"\\\\langle \"++show e++\",\"++show env++\"\\\\rangle \"\n",
    "    show (Vi n) = \" \"++show n++\" \"\n",
    "\n",
    "instance {-# OVERLAPS #-} IHaskellDisplay Env where\n",
    "    display e = display [latex $ \"$\"++show e++\"$\"]\n",
    "instance {-# OVERLAPS #-} IHaskellDisplay (Nm,Val) where\n",
    "    display e = display [latex $ \"$\"++show e++\"$\"]\n",
    "instance IHaskellDisplay Val where\n",
    "    display e = display [latex $ \"$\"++show e++\"$\"]"
   ]
  },
  {
   "cell_type": "code",
   "execution_count": 7,
   "metadata": {},
   "outputs": [],
   "source": [
    "eval :: Expr -> Env -> Val\n",
    "eval (Var x) env =\n",
    "  case lookup x env of\n",
    "    Nothing -> error (x ++ \" not defined\")\n",
    "    Just v  -> v\n",
    "eval e@(Lam _ _) env = Cl e env\n",
    "eval (App e1 e2) env =\n",
    "  case v1 of\n",
    "    Cl (Lam x e) env1 -> eval e ((x,v2):env1)\n",
    "    _                 -> error (show v1++\" not closure\")\n",
    "  where\n",
    "    v1 = eval e1 env \n",
    "    v2 = eval e2 env \n",
    "eval (Lit n)     _   = Vi n\n",
    "eval (Add e1 e2) env =\n",
    "  case (v1, v2) of\n",
    "    (Vi n1, Vi n2) -> Vi (n1 + n2)\n",
    "    (Vi _ , _    ) -> error (show v2++\" not int\")\n",
    "    _              -> error (show v1++\" not int\")\n",
    "  where\n",
    "    v1 = eval e1 env\n",
    "    v2 = eval e2 env\n",
    "eval (If e e1 e0) env =\n",
    "  case eval e env of\n",
    "    Vi n -> if n==0 then eval e0 env\n",
    "                    else eval e1 env\n",
    "    _    -> error (show e++\" not int\")\n",
    "eval e env =\n",
    "  error (show e ++ \" evaluation not defined yet\")"
   ]
  },
  {
   "cell_type": "code",
   "execution_count": 8,
   "metadata": {},
   "outputs": [
    {
     "data": {
      "text/latex": [
       "$\\langle \\lambda x.\\lambda y.\\textbf{if}\\;x\\;\\textbf{then}\\;x+y\\;\\textbf{else}\\;y+y,\\{\\}\\rangle $"
      ]
     },
     "metadata": {},
     "output_type": "display_data"
    },
    {
     "data": {
      "text/latex": [
       "$ 2 $"
      ]
     },
     "metadata": {},
     "output_type": "display_data"
    },
    {
     "data": {
      "text/latex": [
       "$ 3 $"
      ]
     },
     "metadata": {},
     "output_type": "display_data"
    }
   ],
   "source": [
    "e1 = Lam \"x\" $ Lam \"y\" $\n",
    "       If (Var \"x\") (Add (Var \"x\") (Var \"y\"))\n",
    "                    (Add (Var \"y\") (Var \"y\"))\n",
    "\n",
    "e2 = Lit 2\n",
    "e3 = Lit 3\n",
    "\n",
    "eval e1 []\n",
    "eval e2 []\n",
    "eval e3 []"
   ]
  },
  {
   "cell_type": "code",
   "execution_count": 9,
   "metadata": {},
   "outputs": [
    {
     "data": {
      "text/latex": [
       "$(\\lambda x.\\lambda y.\\textbf{if}\\;x\\;\\textbf{then}\\;x+y\\;\\textbf{else}\\;y+y)\\;2$"
      ]
     },
     "metadata": {},
     "output_type": "display_data"
    },
    {
     "data": {
      "text/latex": [
       "$\\langle \\lambda y.\\textbf{if}\\;x\\;\\textbf{then}\\;x+y\\;\\textbf{else}\\;y+y,\\{x{\\mapsto} 2 \\}\\rangle $"
      ]
     },
     "metadata": {},
     "output_type": "display_data"
    }
   ],
   "source": [
    "App e1 e2\n",
    "eval (App e1 e2) []"
   ]
  },
  {
   "cell_type": "code",
   "execution_count": 10,
   "metadata": {},
   "outputs": [
    {
     "data": {
      "text/latex": [
       "$(\\lambda x.\\lambda y.\\textbf{if}\\;x\\;\\textbf{then}\\;x+y\\;\\textbf{else}\\;y+y)\\;2\\;3$"
      ]
     },
     "metadata": {},
     "output_type": "display_data"
    },
    {
     "data": {
      "text/latex": [
       "$ 5 $"
      ]
     },
     "metadata": {},
     "output_type": "display_data"
    }
   ],
   "source": [
    "App (App e1 e2) e3\n",
    "eval (App (App e1 e2) e3) []"
   ]
  },
  {
   "cell_type": "code",
   "execution_count": 11,
   "metadata": {},
   "outputs": [
    {
     "data": {
      "text/latex": [
       "$(\\lambda x.\\lambda y.\\textbf{if}\\;x\\;\\textbf{then}\\;x+y\\;\\textbf{else}\\;y+y)\\;0\\;3$"
      ]
     },
     "metadata": {},
     "output_type": "display_data"
    },
    {
     "data": {
      "text/latex": [
       "$ 6 $"
      ]
     },
     "metadata": {},
     "output_type": "display_data"
    }
   ],
   "source": [
    "App (App e1 (Lit 0)) e3\n",
    "eval (App (App e1 (Lit 0)) e3) []"
   ]
  },
  {
   "cell_type": "code",
   "execution_count": 12,
   "metadata": {},
   "outputs": [
    {
     "ename": "",
     "evalue": "",
     "output_type": "error",
     "traceback": [
      "x not defined\nCallStack (from HasCallStack):\n  error, called at <interactive>:4:16 in interactive:Ghci179"
     ]
    }
   ],
   "source": [
    "eval (Var \"x\") []"
   ]
  },
  {
   "cell_type": "code",
   "execution_count": 13,
   "metadata": {},
   "outputs": [
    {
     "ename": "",
     "evalue": "",
     "output_type": "error",
     "traceback": [
      " 3  not closure\nCallStack (from HasCallStack):\n  error, called at <interactive>:10:26 in interactive:Ghci179"
     ]
    }
   ],
   "source": [
    "eval (Lit 3 `App` Lit 1) []"
   ]
  },
  {
   "cell_type": "code",
   "execution_count": 14,
   "metadata": {},
   "outputs": [
    {
     "ename": "",
     "evalue": "",
     "output_type": "error",
     "traceback": [
      "\\langle \\lambda x.x,\\{\\}\\rangle  not int\nCallStack (from HasCallStack):\n  error, called at <interactive>:18:23 in interactive:Ghci179"
     ]
    }
   ],
   "source": [
    "eval (Lit 3 `Add` (Lam \"x\" $ Var \"x\")) []"
   ]
  },
  {
   "cell_type": "markdown",
   "metadata": {},
   "source": [
    "## 고정점 조합자를 활용한 재귀\n",
    "\\ref{sec:fixpiont}절에서 살펴본 하스켈 커리가 발견한 고정점 조합자 $Y=\\lambda f.(\\lambda x.f\\,(x\\;x))\\,(\\lambda x.f\\,(x\\;x))$는\n",
    "인자 먼저 값계산에서 활용하기에 곤란하다. $\\eta$동치인 Z TODO\n",
    "\n",
    "$f(x)=x$를 만족하는 $x$를 함수 $f$의 fixpoint라고 말한다.\n",
    "\n",
    "fixpoint combinator란 람다계산법에서 임의의 함수 $f$에 대해 $f$의 fixpoint를 찾아주는 역할을 하는 고차함수라고 생각하면 된다.\n",
    "\n",
    "$Z$가 fixpoint combinator라는 말은 $Z(f)$가 $f$의 fixpoint 즉 $f(Z(f)) = Z(f)$라는 뜻이다.\n",
    "\n",
    "람다계산법에서는 함수 적용에 괄호를 쓰지 않으므로 $f(Z~f) = Z~f$ 이렇게 표기하는 경우가 더 많을 것이다.\n",
    "\n",
    "이것을 반대 방향으로 진행해보면 $Z~f = f(Z~f) = f(f(Z~f)) = f(f(f(Z~f))) = \\cdots$\n",
    "이렇게 함수 $f$를 몇번이고 반복 적용하는 계산을 표현할 수 있다."
   ]
  },
  {
   "cell_type": "code",
   "execution_count": 15,
   "metadata": {},
   "outputs": [
    {
     "data": {
      "text/latex": [
       "$\\lambda f.(\\lambda x.f\\;(\\lambda z.x\\;x\\;z))\\;(\\lambda x.f\\;(\\lambda z.x\\;x\\;z))$"
      ]
     },
     "metadata": {},
     "output_type": "display_data"
    }
   ],
   "source": [
    "-- Z = \\f.(\\x.f(\\z.xxz))(\\x.f(\\z.xxz))\n",
    "cZ = Lam \"f\" (App e e)\n",
    "    where\n",
    "        e = Lam \"x\" $ f `App` Lam \"z\" (App x x `App` z)\n",
    "        f = Var \"f\"\n",
    "        x = Var \"x\"\n",
    "        z = Var \"z\"\n",
    "\n",
    "cZ"
   ]
  },
  {
   "cell_type": "code",
   "execution_count": 16,
   "metadata": {},
   "outputs": [
    {
     "data": {
      "text/latex": [
       "$\\lambda f.\\lambda i.\\textbf{if}\\;i\\;\\textbf{then}\\;i+f\\;(i+-1)\\;\\textbf{else}\\;i$"
      ]
     },
     "metadata": {},
     "output_type": "display_data"
    }
   ],
   "source": [
    "-- \\f.\\i.if i then i + f(i + -1) else i\n",
    "e4 = Lam \"f\" . Lam \"i\" $ If i (i `Add` App f (i `Add` Lit (-1))) i          \n",
    "    where\n",
    "        f = Var \"f\"\n",
    "        i = Var \"i\"\n",
    "\n",
    "e4"
   ]
  },
  {
   "cell_type": "code",
   "execution_count": 17,
   "metadata": {},
   "outputs": [
    {
     "data": {
      "text/latex": [
       "$ 5050 $"
      ]
     },
     "metadata": {},
     "output_type": "display_data"
    }
   ],
   "source": [
    "-- Z (\\f.\\i.if i then i + f(i + -1) else i)  100\n",
    "eval (App cZ e4 `App` Lit 100) [] -- 100부터 0까지의 총합"
   ]
  },
  {
   "cell_type": "markdown",
   "metadata": {},
   "source": [
    "100은 너무 길어지니까 2정도로만 람다식을 손으로 전개해 보자.\n",
    "\n",
    "```\n",
    "cZ e4 2\n",
    "= (\\f.(\\x.f(\\z.xxz)) (\\x.f(\\z.xxz))) e4 2\n",
    "= (\\x.e4(\\z.xxz)) (\\x.e4(\\z.xxz)) 2        여기서 w = (\\x.e4(\\z.xxz))라고 하자\n",
    "= (\\x.e4(\\z.xxz)) w 2\n",
    "= e4 (\\z.w w z) 2\n",
    "= (\\f.\\i.if i then i + f (i + -1) else i) (\\z.w w z) 2\n",
    "= (\\i.if i then i + (\\z.w w z) (i + -1) else i) 2\n",
    "= if 2 then 2 + (\\z.w w z) (2 + -1) else 2\n",
    "= 2 + (\\z.w w z) 1\n",
    "= 2 + w w 1\n",
    "= 2 + (\\x.e4(\\z.xxz)) w 1\n",
    "= 2 + e4 (\\z.w w z) 1\n",
    "= 2 + (\\f.\\i.if i then i + f (i + -1) else i) (\\z.w w z) 1\n",
    "= 2 + (\\i.if i then i + (\\z.w w z) (i + -1) else i) 1\n",
    "= 2 + if 1 then 1 + (\\z.w w z) (1 + -1) else 1\n",
    "= 2 + 1 + (\\z.w w z) (1 + -1)\n",
    "= 2 + 1 + w w 0\n",
    "= 2 + 1 + (\\x.e4(\\z.xxz)) w 0\n",
    "= 2 + 1 + e4 (\\z.w w z) 0\n",
    "= 2 + 1 + (\\f.\\i.if i then i + f (i + -1) else i) (\\z.w w z) 0\n",
    "= ...\n",
    "= 2 + 1 + if 0 then 0 + f (0 + -1) else 0\n",
    "= 2 + 1 + 0\n",
    "```\n",
    "\n",
    "\n",
    "참고로 $Y=\\lambda f.(\\lambda x.f(xx))(\\lambda x.f(xx))$라는 $Z$보다 조금 더 간단한 fixpoint combinator가 있다.\n",
    "그런데 call-by-value 또는 applicative-order 계산 방식에서는 이 $Y$-combinator는 계산을 끝내지 못하고 무한히 진행되기만 한다.\n",
    "$Z$-combinator는 그래서 call-by-value 또는 applicative-order 에서도 재귀적 계산을 표현하는 데 활용할 수 있다.\n",
    "$Y$나 $Z$ 말고도 람다계산법에서 fixpoint-combinator들이 더 존재한다."
   ]
  },
  {
   "cell_type": "code",
   "execution_count": null,
   "metadata": {},
   "outputs": [],
   "source": []
  }
 ],
 "metadata": {
  "kernelspec": {
   "display_name": "Haskell",
   "language": "haskell",
   "name": "haskell"
  },
  "language_info": {
   "codemirror_mode": "ihaskell",
   "file_extension": ".hs",
   "mimetype": "text/x-haskell",
   "name": "haskell",
   "pygments_lexer": "Haskell",
   "version": "8.10.7"
  }
 },
 "nbformat": 4,
 "nbformat_minor": 4
}
