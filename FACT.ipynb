{
 "cells": [
  {
   "cell_type": "markdown",
   "metadata": {},
   "source": [
    "이 장에서는 FAC언어(\\ref{chap:FunArithEval}장)에 단순타입을 추가한 FACT언어를 정의한다.\n",
    "하지만, 단순타입 람다계산법(STLC)의 타입규칙을 따르면서 고정접 조합자를 작성할 수 없으므로\n",
    "FACT언어에는 재귀함수를 표현하기 위한 별도의 문법 요소가 추가되어 있으며,\n",
    "그에 따라 의미구조에도 재귀함수를 고려하는 규칙이 추가된다.\n",
    "이렇게 타입이 추가된 언어의 문법규칙과 의미구조를 살펴본 다음,\n",
    "논리학에서 모델이론과 증명이론의 개념이 프로그래밍어에서 의미구조와 타입규칙과\n",
    "어떤 관련이 있는지 간단히 설명한다. 그리고는 FACT언어를 매개로 하여\n",
    "타입검사와 타입유추의 개념을 알아본다.\n",
    "\n",
    "\\newpage"
   ]
  },
  {
   "cell_type": "raw",
   "metadata": {},
   "source": [
    "\\begin{figure}"
   ]
  },
  {
   "cell_type": "markdown",
   "metadata": {},
   "source": [
    "\\begin{align*}\n",
    "f,x &\\;\\in\\; \\texttt{Nm} \\qquad\\qquad n \\;\\in\\; \\mathbb{Z} \\\\\n",
    "\\textcolor{blue}{\\tau} &\\;\\textcolor{blue}{\\in \\texttt{Ty} ~::=~ \\mathbb{Z} ~\\mid~ \\tau_1\\!\\to\\tau_2} \\\\\n",
    "e &\\;\\in \\texttt{Expr}\n",
    "    ~::=~ x\n",
    "    ~\\mid~ \\lambda x{:}\\tau.e\n",
    "    ~\\mid~ \\textcolor{blue}{\\textbf{rec}\\,f{:}\\tau\\,(\\lambda x{:}\\tau_2.e)}\n",
    "    ~\\mid~ e_1~e_2 \\\\\n",
    " & \\qquad\\qquad~\n",
    "    ~\\mid~ n ~\\mid~ e_1 +\\, e_2\n",
    "    ~\\mid~ \\textbf{if}~e~\\textbf{then}~e_1~\\textbf{else}~e_0\n",
    "\\\\[-3em]\n",
    "\\end{align*}\n",
    "\\begin{align*}\n",
    "\\texttt{Env} &\\;=\\; \\texttt{Nm} \\xrightharpoonup{_\\textrm{fin}} \\texttt{Val} & ~~\n",
    "\\rho &\\in \\texttt{Env} \\,::= \\{x_1{\\mapsto}v_1,\\,\\ldots,\\,x_n{\\mapsto}v_n\\} \\\\\n",
    "\\texttt{Val} &\\,\\subset\\, (\\texttt{Expr}\\times\\texttt{Env}) \\cup \\mathbb{Z} & ~~\n",
    "v &\\in \\texttt{Val} \\,::= \\langle \\lambda x{:}\\tau.e, \\rho \\rangle\n",
    "                     \\mid \\textcolor{blue}{\\langle \\textbf{rec}\\,f{:}\\tau\\,(\\lambda x{:}\\tau_2.e), \\rho \\rangle}\n",
    "                     \\mid n \\\\\n",
    "\\cdot\\,{\\Longmapsto}\\,\\cdot &\\,\\subset\\, (\\texttt{Expr}\\times\\texttt{Env})\\times\\texttt{Val}\n",
    "\\\\[-2em]\n",
    "\\end{align*}"
   ]
  },
  {
   "cell_type": "markdown",
   "metadata": {},
   "source": [
    "\\fbox{$\\langle e,\\rho\\rangle \\Longmapsto v$}$\\qquad\\qquad\\langle x,\\rho\\rangle \\Longmapsto \\rho(x)$\\vspace{-1ex}\n",
    "$$\n",
    "\\langle\\lambda x{:}\\tau.e,\\rho\\rangle \\Longmapsto \\langle\\lambda x{:}\\tau.e,\\rho\\rangle\n",
    "\\qquad \\quad\n",
    "\\textcolor{blue}{\\langle\\textbf{rec}\\,f{:}\\tau\\,(\\lambda x{:}\\tau_2.e),\\rho\\rangle \\Longmapsto \\langle\\textbf{rec}\\,f{:}\\tau\\,(\\lambda x{:}\\tau_2.e),\\rho\\rangle}\n",
    "$$\n",
    "$$\n",
    "\\frac{\\begin{array}{l}\n",
    "      \\langle e_1,\\rho\\rangle \\Longmapsto \\langle\\lambda x{:}\\tau.e,\\rho_1\\rangle \\\\\n",
    "      \\langle e_2,\\rho\\rangle \\Longmapsto v_2 \\\\\n",
    "      \\langle e,\\{x{\\mapsto}v_2\\}\\rho_1\\rangle \\Longmapsto v\n",
    "      \\end{array}\n",
    "    }{\\langle e_1~e_2,\\rho\\rangle \\Longmapsto v}\n",
    "\\qquad\n",
    "\\textcolor{blue}{\n",
    "\\frac{\\begin{array}{l}\n",
    "      \\langle e_1,\\rho\\rangle \\Longmapsto \\langle\\textbf{rec}\\,f{:}\\tau\\,(\\lambda x{:}\\tau_2.e),\\rho_1\\rangle \\\\\n",
    "      \\langle e_2,\\rho\\rangle \\Longmapsto v_2 \\\\\n",
    "      \\langle e,\\{x{\\mapsto}v_2,\\,f{\\mapsto}\\langle\\textbf{rec}\\,f{:}\\tau\\,(\\lambda x{:}\\tau_2.e),\\rho_1\\rangle\\}\\rho_1\\rangle \\Longmapsto v\n",
    "      \\end{array}\n",
    "    }{\\langle e_1~e_2,\\rho\\rangle \\Longmapsto v}}\n",
    "$$\n",
    "$$\n",
    "\\langle n,\\rho\\rangle \\Longmapsto n\n",
    "\\qquad\n",
    "\\frac{\\langle e_1,\\rho\\rangle \\Longmapsto n_1 \n",
    "      \\quad\n",
    "      \\langle e_2,\\rho\\rangle \\Longmapsto n_2}{\n",
    "        \\langle e_1 +\\, e_2,\\rho\\rangle \\Longmapsto n}(n\\equiv n_1+n_2)\n",
    "$$\n",
    "$$\n",
    "\\frac{\\langle e,\\rho\\rangle \\Longmapsto 0\n",
    "      \\quad\n",
    "      \\langle e_0,\\rho\\rangle \\Longmapsto n_0}{\n",
    "        \\langle\\textbf{if}~e~\\textbf{then}~e_1~\\textbf{else}~e_0,\\,\\rho\\rangle \\Longmapsto n_0}\n",
    "\\quad        \n",
    "\\frac{\\langle e,\\rho\\rangle \\Longmapsto n\n",
    "      \\qquad\n",
    "      \\langle e_1,\\rho\\rangle \\Longmapsto n_1}{\n",
    "        \\langle\\textbf{if}~e~\\textbf{then}~e_1~\\textbf{else}~e_0,\\,\\rho\\rangle \\Longmapsto n_1}(n\\neq 0)\n",
    "$$"
   ]
  },
  {
   "cell_type": "raw",
   "metadata": {},
   "source": [
    "\\caption{FACT 언어의 문법구조와 의미구조 \\label{fig:FACTlang} }\n",
    "\\end{figure}"
   ]
  },
  {
   "cell_type": "markdown",
   "metadata": {},
   "source": [
    "# 단순타입과 재귀함수요약식이 추가된 FACT언어\n",
    "\n",
    "FACT언어의 문법구조와 의미구조(그림 \\ref{fig:FACTlang})는 기본적으로\n",
    "FAC언어의 문법구조와 의미구조(그림 \\ref{fig:FAClang})를 거의 그대로 따르므로\n",
    "차이점이 무엇인지에만 주목해 살펴보자. 참고로, FAC언어에는 없고 FACT에 추가된 내용을\n",
    "그림 \\ref{fig:FACTlang}에서 \\textcolor{blue}{파란색}으로 표시하고 있다.\n",
    "\n",
    "문법구조에서 드러나는 두 가지 차이점은 다음과 같다.\n",
    "첫째, STLC의 람다요약식($\\lambda x{:}\\tau.e$)과 같이 매개변수($x$)의 타입($\\tau$)을 명시한다.\n",
    "둘째, 새로운 예약어 \\textbf{rec}으로 시작하는 재귀함수요약식이 추가되었다.\n",
    "FACT언어에서 재귀함수요약식 $\\textbf{rec}\\,f{:}\\tau\\,(\\lambda x{:}\\tau_2.e)$ 의미는\n",
    "FAC언어에서 $Z$조합자(\\ref{sec:Zcombinator}절)를 활용한 $Z\\,(\\lambda f.(\\lambda x.e))$에 해당한다.\n",
    "직관적으로는 $f$가 그 자신을 포함한 재귀함수요약식 $\\textbf{rec}\\,f{:}\\tau\\,(\\lambda x{:}\\tau_2.e)$을 대표한다고 이해할 수 있다.\n",
    "즉, 함수 몸체($e$)에서 재귀함수를 호출하려는 곳에 $f$를 활용하면 된다.\n",
    "예컨대, 0부터 자연수 $i$까지 합을 구하는 재귀함수를 \n",
    "$\\textbf{rec}\\;f{:}\\mathbb{Z}{\\to}\\mathbb{Z}\\;(\\lambda i{:}\\mathbb{Z}.\\;\\textbf{if}\\;i\\;\\textbf{then}\\;i+f\\,(i+(-1))\\,\\textbf{else}\\;i)$로 작성한다.\n",
    "\n",
    "의미구조에서는 람다요약식의 매개변수에 타입이 추가된 점을 제외하고는 사실상 기존의 의미규칙을 그대로 따르되,\n",
    "재귀함수와 관련된 두 개의 의미규칙이 더 추가되었다. 첫째는 일반적인 함수요약식과 마찬가지로\n",
    "재귀함수요약식도 더 이상 계산이 진행되지 않고 바로 클로저를 구성하여 값으로 취급하는 규칙이다.\n",
    "둘째는 함수적용식($e_1\\;e_2$)의 함수 부분($e_1$)를 계산한 결과값이 재귀함수요약식의 클로저인 경우를 처리하는 규칙이다.\n",
    "재귀함수요약식의 클로저를 적용할 때는 보통 함수요약식의 클로저를 적용할 때처럼\n",
    "매개변수($x$)를 인자 부분$(e_2$)의 결과값($v_2$)에 대응($x{\\mapsto}v_2$)시킬 뿐만 아니라,\n",
    "재귀함수를 대표하는 이름($f$) 또한 재귀함수요약식의 클로저에\n",
    "대응($f{\\mapsto}\\langle\\textbf{rec}\\,f{:}\\tau\\,(\\lambda x{:}\\tau_2.e),\\rho_1\\rangle$)시켜\n",
    "확장된 환경($\\{x{\\mapsto}v_2,f{\\mapsto}\\langle\\ldots\\rangle\\}\\rho_1$)에서 함수 몸체($e$)를 계산한다."
   ]
  },
  {
   "cell_type": "markdown",
   "metadata": {},
   "source": [
    "매번 재귀함수 호출이 일어날 때마다 환경에 재귀함수요약식의 클로저를 추가하는 동작방식이 잘못된 의미를 나타내는 것은 아니지만 이를 곧이곧대로 구현하는 것은 비효율적이다.\n",
    "그럼에도 이렇게 비효율적인 방식으로 재귀함수에 대한 의미규칙을 작성하기도 하는 이유가 있기는 하다.\n",
    "환경이나 클로저 등의 계산과정을 표현하는 매개체가 되는 구조에 대한 재귀적 표현에 의존하지 않고서도 재귀함수의 동작을 정의하는 의미규칙을 작성할 수 있음을 보여주기 때문이다.\n",
    "하지만, 구현에 있어서는 재귀함수요약식 $\\textbf{rec}\\,f{:}\\tau\\,(\\lambda x{:}\\tau_2.e)$와 환경 $\\rho$로 클로저를 만들 때부터\n",
    "다음과 같이 자기 자신을 참조하는 바인딩을 환경에 포함하도록 클로저를 구성하는 것이 더 간편하다."
   ]
  },
  {
   "cell_type": "raw",
   "metadata": {},
   "source": [
    "\\[\n",
    "\\tikzmark{0}\\,\\langle\\lambda x{:}\\tau_2.e,\\,\\{f{\\mapsto}\\;\\tikzmark{1}\\,\\}\\rho\\rangle\n",
    "\\]\n",
    "\\begin{tikzpicture}[remember picture, overlay, bend right=5, out=-75, in=-25, -latex, blue]\n",
    "  \\draw[Circle-Stealth] ([yshift=.25ex]pic cs:1) to ([yshift=.5ex]pic cs:0);\n",
    "\\end{tikzpicture}\n",
    "\\noindent"
   ]
  },
  {
   "cell_type": "markdown",
   "metadata": {},
   "source": [
    "재귀함수요약식의 클로저를 이렇게 구성하면 그림 \\ref{fig:FACTlang}에 정리된 의미구조에 비해 두 가지 측면에서 간소화된다.\n",
    "값(`Val`)의 형태가 다시 두 종류로 단순해지며,\n",
    "함수적용식($e_1~e_2$)에 대한 의미규칙도 하나만 있으면 된다.\n",
    "\n",
    "정리하면, 환경에서 자기 자신을 참조하는 클로저를 만드는 방식의 재귀함수요약식에 대한 의미규칙을 아래와 같이 표현할 수 있다.\n",
    "\\vspace*{-1ex}\n",
    "$$\\textcolor{blue}{\n",
    "\\begin{array}{lcl}\n",
    "\\langle\\textbf{rec}\\,f{:}\\tau\\,(\\lambda x{:}\\tau_2.e),\\rho\\rangle \\Longmapsto v\n",
    "&~~\\textrm{where}~~&\n",
    "   v = \\langle\\lambda x{:}\\tau_2.e,\\rho'\\rangle \\\\\n",
    "&& \\rho' = \\{f{\\mapsto}v\\}\\rho \\\\[-1ex]\n",
    "\\end{array} }$$\n",
    "이 의미규칙 하나가 그림 \\ref{fig:FACTlang}에 파란색으로 표시된 두 개의 재귀함수와 관련된 의미규칙을 대체한다."
   ]
  },
  {
   "cell_type": "code",
   "execution_count": 1,
   "metadata": {},
   "outputs": [],
   "source": [
    ":opt no-lint\n",
    "{-# LANGUAGE TypeSynonymInstances FlexibleInstances #-}"
   ]
  },
  {
   "cell_type": "markdown",
   "metadata": {},
   "source": [
    "# FACT언어의 인터프리터\n",
    "환경에서 자신을 참조하는 재귀적 클로저를 활용하여 간소화된 의미규칙에 따라 FACT언어의 인터프리터를 하스켈로 작성해 보자.\n",
    "우선, 문법구조를 나타내는 타입(`Ty`)과 식(`Expr`) 그리고 의미구조를 표현하기 위한 값(`Val`)과 환경(`Env`)을 아래와 같이 선언한다."
   ]
  },
  {
   "cell_type": "code",
   "execution_count": 2,
   "metadata": {},
   "outputs": [],
   "source": [
    "type Nm = String  -- 변수 이름은 문자열로\n",
    "data Ty = Z | Arr Ty Ty  deriving (Eq,Ord)\n",
    "data Expr = Var Nm             -- x\n",
    "          | Lam Nm Ty Expr     -- (\\x:t.e)\n",
    "          | Rec Nm Ty Expr     -- rec f:t (\\x:t2.e)\n",
    "          | App Expr Expr      -- (e1 e2)\n",
    "          | Lit Int            -- n\n",
    "          | Add Expr Expr      -- e1 + e2\n",
    "          | If Expr Expr Expr  -- if e then e1 else e0\n",
    "          deriving (Eq, Ord)\n",
    "\n",
    "data Val = Cl Expr Env | Vi Int  deriving (Eq,Ord)\n",
    "type Env = [ (Nm, Val) ]"
   ]
  },
  {
   "cell_type": "code",
   "execution_count": 3,
   "metadata": {},
   "outputs": [],
   "source": [
    "instance Show Ty where\n",
    "  showsPrec _ Z = showString \"\\\\mathbb{Z}\"\n",
    "  showsPrec p (Arr t1 t2) = showParen (p > 1) $\n",
    "      showsPrec p t1 . showString \"{\\\\to}\" . showsPrec p t2\n",
    "instance Show Expr where -- LaTeX 소스코드 생성하는 Show 인스턴스 직접 선언\n",
    "  showsPrec _ (Var x) = showString x\n",
    "  showsPrec p (Lam x t e) = showParen (p > 1) $\n",
    "      showString (\"\\\\lambda \"++x++\"{:}\"++show t++\".\") . showsPrec 1 e\n",
    "  showsPrec p (Rec f t e) = showParen (p > 9) $\n",
    "      showString (\"\\\\textbf{rec}\\\\,\"++f++\"{:}\") . showsPrec 0 t .\n",
    "      showString \"\\\\, \" . showsPrec 2 e\n",
    "  showsPrec p (App e1 e2) = showParen (p > 9) $\n",
    "      showsPrec 9 e1 . showString \"\\\\;\" . showsPrec 10 e2\n",
    "  showsPrec _ (Lit n) = shows n\n",
    "  showsPrec p (Add e1 e2) = showParen (p > 6) $\n",
    "      showsPrec 6 e1 . showString \"+\" . showsPrec 7 e2\n",
    "  showsPrec p (If e e1 e0) = showParen (p > 2) $\n",
    "      showString \"\\\\textbf{if}\\\\;\" . showsPrec 3 e .\n",
    "      showString \"\\\\;\\\\textbf{then}\\\\;\" . showsPrec 3 e1 .\n",
    "      showString \"\\\\;\\\\textbf{else}\\\\;\" . showsPrec 3 e0\n",
    "\n",
    "import IHaskell.Display (latex)\n",
    "instance IHaskellDisplay Expr where -- 노트북에 디스플레이하는 인스턴스 선언\n",
    "    display e = display [latex $ \"$\"++show e++\"$\"]\n",
    "instance IHaskellDisplay Ty where\n",
    "    display t = display [latex $ \"$\"++show t++\"$\"]"
   ]
  },
  {
   "cell_type": "code",
   "execution_count": 4,
   "metadata": {},
   "outputs": [
    {
     "data": {
      "text/latex": [
       "$\\textbf{if}\\;3+(x+y)\\;\\textbf{then}\\;(\\lambda x{:}\\mathbb{Z}.\\lambda y{:}\\mathbb{Z}.y)\\;\\textbf{else}\\;(\\lambda x{:}\\mathbb{Z}.x)\\;(\\textbf{rec}\\,f{:}\\mathbb{Z}{\\to}\\mathbb{Z}\\, (\\lambda x{:}\\mathbb{Z}.\\lambda y{:}\\mathbb{Z}.y))$"
      ]
     },
     "metadata": {},
     "output_type": "display_data"
    }
   ],
   "source": [
    "idExpr = Lam \"x\" Z (Var \"x\")\n",
    "ttExpr = Lam \"x\" Z (Lam \"y\" Z (Var \"x\")) \n",
    "ffExpr = Lam \"x\" Z (Lam \"y\" Z (Var \"y\")) \n",
    "-- 람다식, 산술식과, 조건식이 모두 활용된 예시 프로그램\n",
    "If (Add (Lit 3) (Add (Var \"x\") (Var \"y\")))\n",
    "   ffExpr\n",
    "   (App idExpr (Rec \"f\" (Arr Z Z) ffExpr))"
   ]
  },
  {
   "cell_type": "code",
   "execution_count": 5,
   "metadata": {},
   "outputs": [],
   "source": [
    "import Data.List (intercalate)\n",
    "instance {-# OVERLAPS #-} Show Env where\n",
    "    show env = \"\\\\{\"++ intercalate \",\\\\,\" (map show env) ++\"\\\\}\"\n",
    "instance {-# OVERLAPS #-} Show (Nm,Val) where\n",
    "    show (x,cl) = x++\"{\\\\mapsto}\"++show cl\n",
    "instance Show Val where\n",
    "    show (Cl e env) = \"\\\\langle \"++show e++\",\"++show env++\"\\\\rangle \"\n",
    "    show (Vi n) = \" \"++show n++\" \"\n",
    "\n",
    "instance {-# OVERLAPS #-} IHaskellDisplay Env where\n",
    "    display e = display [latex $ \"$\"++show e++\"$\"]\n",
    "instance {-# OVERLAPS #-} IHaskellDisplay (Nm,Val) where\n",
    "    display e = display [latex $ \"$\"++show e++\"$\"]\n",
    "instance IHaskellDisplay Val where\n",
    "    display v = display [latex $ \"$\"++show v++\"$\"]"
   ]
  },
  {
   "cell_type": "markdown",
   "metadata": {},
   "source": [
    "FACT언어의 인터프리터 함수 `eval`을 아래와 같이 같이 작성해 볼 수 있다."
   ]
  },
  {
   "cell_type": "code",
   "execution_count": 6,
   "metadata": {},
   "outputs": [],
   "source": [
    "eval :: Env -> Expr -> Val  -- FACT언어의 인터프리터를 구현한 eval 함수\n",
    "eval env (Var x) =\n",
    "  case lookup x env of Nothing -> error (x ++ \" not defined\")\n",
    "                       Just v  -> v\n",
    "eval env e@(Lam _ _ _) = Cl e env\n",
    "eval env (Rec f t e@(Lam _ _ _)) = undefined -- 간소화된 의미규칙대로 작성\n",
    "eval env (App e1 e2) =\n",
    "  case v1 of Cl (Lam x _ e) env1 -> eval ((x,v2):env1) e\n",
    "             _                   -> error (show v1++\" not closure\")\n",
    "  where v1 = eval env e1 \n",
    "        v2 = eval env e2 \n",
    "eval _   (Lit n)     = Vi n\n",
    "eval env (Add e1 e2) =\n",
    "  case (v1, v2) of (Vi n1, Vi n2) -> Vi (n1 + n2)\n",
    "                   (Vi _ , _    ) -> error (show v2++\" not int\")\n",
    "                   _              -> error (show v1++\" not int\")\n",
    "  where v1 = eval env e1\n",
    "        v2 = eval env e2\n",
    "eval env (If e e1 e0) =\n",
    "  case eval env e of Vi 0 -> eval env e0\n",
    "                     Vi _ -> eval env e1\n",
    "                     _    -> error (show e++\" not int\")"
   ]
  },
  {
   "cell_type": "markdown",
   "metadata": {},
   "source": [
    "재귀함수를 제외하면, 매개변수에 타입을 표기할 뿐이지 FAC언어와 실행 내용은 같다.\n",
    "아래는 타입 표기만 추가된 \\ref{chap:FunArithEval}장과 마찬가지 테스트의 실행 사례다."
   ]
  },
  {
   "cell_type": "code",
   "execution_count": 7,
   "metadata": {},
   "outputs": [
    {
     "data": {
      "text/latex": [
       "$\\langle \\lambda x{:}\\mathbb{Z}.\\lambda y{:}\\mathbb{Z}.\\textbf{if}\\;x\\;\\textbf{then}\\;x+y\\;\\textbf{else}\\;y+y,\\{\\}\\rangle $"
      ]
     },
     "metadata": {},
     "output_type": "display_data"
    },
    {
     "data": {
      "text/latex": [
       "$ 2 $"
      ]
     },
     "metadata": {},
     "output_type": "display_data"
    }
   ],
   "source": [
    "e1 = Lam \"x\" Z . Lam \"y\" Z $ If (Var \"x\") (Var \"x\" `Add` Var \"y\")\n",
    "                                          (Var \"y\" `Add` Var \"y\")\n",
    "e2 = Lit 2\n",
    "e3 = Lit 3\n",
    "\n",
    "eval [] e1\n",
    "eval [] e2"
   ]
  },
  {
   "cell_type": "code",
   "execution_count": 8,
   "metadata": {},
   "outputs": [
    {
     "data": {
      "text/latex": [
       "$(\\lambda x{:}\\mathbb{Z}.\\lambda y{:}\\mathbb{Z}.\\textbf{if}\\;x\\;\\textbf{then}\\;x+y\\;\\textbf{else}\\;y+y)\\;2$"
      ]
     },
     "metadata": {},
     "output_type": "display_data"
    },
    {
     "data": {
      "text/latex": [
       "$\\langle \\lambda y{:}\\mathbb{Z}.\\textbf{if}\\;x\\;\\textbf{then}\\;x+y\\;\\textbf{else}\\;y+y,\\{x{\\mapsto} 2 \\}\\rangle $"
      ]
     },
     "metadata": {},
     "output_type": "display_data"
    }
   ],
   "source": [
    "App e1 e2\n",
    "eval [] (App e1 e2)"
   ]
  },
  {
   "cell_type": "code",
   "execution_count": 9,
   "metadata": {},
   "outputs": [
    {
     "data": {
      "text/latex": [
       "$(\\lambda x{:}\\mathbb{Z}.\\lambda y{:}\\mathbb{Z}.\\textbf{if}\\;x\\;\\textbf{then}\\;x+y\\;\\textbf{else}\\;y+y)\\;2\\;3$"
      ]
     },
     "metadata": {},
     "output_type": "display_data"
    },
    {
     "data": {
      "text/latex": [
       "$ 5 $"
      ]
     },
     "metadata": {},
     "output_type": "display_data"
    }
   ],
   "source": [
    "App (App e1 e2) e3\n",
    "eval [] (App (App e1 e2) e3)"
   ]
  },
  {
   "cell_type": "code",
   "execution_count": 10,
   "metadata": {},
   "outputs": [
    {
     "data": {
      "text/latex": [
       "$(\\lambda x{:}\\mathbb{Z}.\\lambda y{:}\\mathbb{Z}.\\textbf{if}\\;x\\;\\textbf{then}\\;x+y\\;\\textbf{else}\\;y+y)\\;0\\;3$"
      ]
     },
     "metadata": {},
     "output_type": "display_data"
    },
    {
     "data": {
      "text/latex": [
       "$ 6 $"
      ]
     },
     "metadata": {},
     "output_type": "display_data"
    }
   ],
   "source": [
    "App (App e1 (Lit 0)) e3\n",
    "eval [] (App (App e1 (Lit 0)) e3)"
   ]
  },
  {
   "cell_type": "markdown",
   "metadata": {},
   "source": [
    "$~$\\vspace*{-1em}\\newline\\indent\n",
    "FACT언어에서는 0부터 주어진 자연수 $i$까지의 총합을 구하는 재귀함수를 아래와 같이 간단히 작성할 수 있다."
   ]
  },
  {
   "cell_type": "code",
   "execution_count": 11,
   "metadata": {},
   "outputs": [
    {
     "data": {
      "text/latex": [
       "$\\textbf{rec}\\,f{:}\\mathbb{Z}{\\to}\\mathbb{Z}\\, (\\lambda i{:}\\mathbb{Z}.\\textbf{if}\\;i\\;\\textbf{then}\\;i+f\\;(i+-1)\\;\\textbf{else}\\;i)$"
      ]
     },
     "metadata": {},
     "output_type": "display_data"
    }
   ],
   "source": [
    "e4 = Rec \"f\" (Arr Z Z) .\n",
    "         Lam \"i\" Z $ If i (i `Add` App f (i `Add` Lit (-1))) i\n",
    "    where f = Var \"f\"\n",
    "          i = Var \"i\"\n",
    "e4 -- rec f (\\i.if i then i + f(i + -1) else i)"
   ]
  },
  {
   "cell_type": "markdown",
   "metadata": {},
   "source": [
    "그런데, 아직 `eval`함수에는 재귀함수요약식에 대한 내용이 작성되어 있지 않고 `undefined`로 남겨져 있다.\n",
    "그래서 다음을 실행하면 에러가 난다."
   ]
  },
  {
   "cell_type": "code",
   "execution_count": 12,
   "metadata": {},
   "outputs": [
    {
     "ename": "",
     "evalue": "",
     "output_type": "error",
     "traceback": [
      "Prelude.undefined\nCallStack (from HasCallStack):\n  error, called at libraries/base/GHC/Err.hs:79:14 in base:GHC.Err\n  undefined, called at <interactive>:6:36 in interactive:Ghci110"
     ]
    }
   ],
   "source": [
    "-- rec f (\\i.if i then i + f(i + -1) else i) 100\n",
    "eval [] (e4 `App` Lit 100) -- 100부터 0까지의 총합"
   ]
  },
  {
   "cell_type": "markdown",
   "metadata": {},
   "source": [
    "\\noindent\n",
    "연습문제로 재귀적인 구조의 클로저를 활용하는 간소화된 의미구조를 하스켈로 작성하여 인터프리터 함수 `eval`를 완성한 다음\n",
    "아래와 같이 100까지의 합을 구하도록 위의 테스트를 다시 실행하여 예상대로 0부터 100까지의 합이 5050으로 정상적으로 계산되는지 확인해 보라."
   ]
  },
  {
   "cell_type": "markdown",
   "metadata": {},
   "source": [
    "# 타입규칙과 의미규칙의 관계"
   ]
  },
  {
   "cell_type": "raw",
   "metadata": {},
   "source": [
    "\\begin{figure}"
   ]
  },
  {
   "cell_type": "markdown",
   "metadata": {},
   "source": [
    "$$\n",
    "\\Gamma \\vdash x : \\Gamma(x)\n",
    "\\qquad\n",
    "\\frac{ x{:}\\tau_2,\\,\\Gamma \\vdash e : \\tau \n",
    "    }{ \\Gamma \\vdash \\lambda x{:}\\tau_2.e : \\tau_2\\to\\tau }\n",
    "\\qquad\n",
    "\\frac{ f{:}\\tau_2{\\to}\\tau,\\,\\Gamma \\vdash \\lambda x{:}\\tau_2.e : \\tau_2\\to\\tau\n",
    "    }{ \\Gamma \\vdash \\textbf{rec}\\,f{:}\\tau_2{\\to}\\tau\\,(\\lambda x{:}\\tau_2.e) : \\tau_2\\to\\tau }\n",
    "$$\n",
    "$$\n",
    "\\Gamma \\vdash n : \\mathbb{Z}\n",
    "\\qquad\n",
    "\\frac{ \\Gamma \\vdash e_1 : \\mathbb{Z} \\quad~~\n",
    "       \\Gamma \\vdash e_2 : \\mathbb{Z}\n",
    "    }{ \\Gamma \\vdash e_1 + e_2 : \\mathbb{Z} }\n",
    "\\qquad\\quad\n",
    "\\frac{ \\Gamma \\vdash e_1 : \\tau_2\\to\\tau \\quad~~\n",
    "       \\Gamma \\vdash e_2 : \\tau_2\n",
    "    }{ \\Gamma \\vdash e_1\\;e_2 : \\tau }\n",
    "$$\n",
    "\n",
    "$$\n",
    "\\frac{ \\Gamma \\vdash e : \\mathbb{Z} \\quad~~\n",
    "       \\Gamma \\vdash e_1 : \\tau     \\quad~~\n",
    "       \\Gamma \\vdash e_0: \\tau \n",
    "    }{ \\Gamma \\vdash \\mathbf{if}\\;e\\;\\mathbf{then}\\;e_1\\,\\mathbf{else}\\;e_0 : \\tau }\n",
    "$$"
   ]
  },
  {
   "cell_type": "raw",
   "metadata": {},
   "source": [
    "\\caption{FACT언어의 타입규칙 \\label{fig:FACTtyrules}}\n",
    "\\end{figure}"
   ]
  },
  {
   "cell_type": "markdown",
   "metadata": {},
   "source": [
    "폴란드의 수학자/논리학자/철학자인 타르스키\\cite{Tarski1956}가 자유변수가 포함된\n",
    "형식언어의 의미를 어떻게 해석할 것인가에 대해 고민을 계기로 형식논리학에서\n",
    "모델이론(model theory)이 발전하였다. 모델이론이 확립된 이후로는 명제(proposition)\n",
    "혹은 논리 문장(logical sentence)의 의미(semantics)를 모델이론의 시각에서 설명하는 것이\n",
    "보편화되었다. 그리고 기존의 공리와 추론규칙으로부터 정리를 이끌어내는 증명이론(proof theory)과\n",
    "모델이론을 관련지어 하나의 형식언어에 관한 증명이론과 모델이론에서 판단들 사이의 관계에서\n",
    "성립하는 것이 바람직하게 여겨지는 중요한 성질인 안전성(soundness)이나 완전성(completeness)과\n",
    "같은 개념은 프로그래밍언어의 타입을 다루는 이론에서도 활용되고 있다.\n",
    "\n",
    "모델이론은 각 단어의 의미에 따라 일상의 문장을 해석하는 것처럼 논리문장의\n",
    "개별 구성요소 각각의 의미로부터 전체 문장의 의미를 만들어나가는 논리체계가\n",
    "제공하는 형식언어 본연의 의미를 해석에 관련이 있다. 예를 들면 참/거짓의\n",
    "진리값을 대표하는 대상들을 논리연결사 혹은 논리연산으로 연결하여 논리적 문장을\n",
    "구성하는 명제논리의 경우를 생각해 보자. $n$개의 이름(혹은 논리변수)를 포함하는\n",
    "논리적 문장의 의미를 해석하여 성질을 파악하기 위해서는 $2^n$개의 경우의 수를 따지는\n",
    "진리표로 알아볼 수 있다. 예를 들여, $x_1 \\land \\neg x_2 \\lor x_3$에 대한 진리표는 다음과 같다. "
   ]
  },
  {
   "cell_type": "raw",
   "metadata": {},
   "source": [
    "\\vspace*{-1em}\n",
    "\\begin{center}\\tiny\n",
    "\\begin{tabular}{|c|c|c||l|}\n",
    "\\hline\n",
    "$x_1$ & $x_2$ & $x_3$ & $x_1 \\land \\neg x_2 \\lor x_3$ \\\\ \\hline\n",
    "F & F & F & F \\\\ \\hline\n",
    "T & F & F & T \\\\ \\hline\n",
    "F & T & F & F \\\\ \\hline\n",
    "T & T & F & F \\\\ \\hline\n",
    "F & F & T & T \\\\ \\hline\n",
    "T & F & T & T \\\\ \\hline\n",
    "F & T & T & T \\\\ \\hline\n",
    "T & T & T & T \\\\ \\hline\n",
    "\\end{tabular}\n",
    "\\end{center}"
   ]
  },
  {
   "cell_type": "markdown",
   "metadata": {},
   "source": [
    "이런 진리표를 우리는 논리적 문장 혹은 명제의 자연스런 \\`의미\\'로 보통 받아들이고 있다.\n",
    "한편, 논리적 문장의 모양새를 보고 진리표의 크기보다 더 적은 단계만에\n",
    "논리적 문장을 판단할 수도 있는 \\`증명\\'이라는 방법도 우리는 알고 있다.\n",
    "예컨대, $P \\lor \\neg P$의 형태이면 $P$가 아무리 복잡한 내용이라도 그 의미를 따로\n",
    "분석할 필요 없이 (고전논리에서라면) 전체 문장을 참으로 판단해버릴 수 있다. 또한\n",
    "$P \\land \\neg P$의 형태이면 전체 문장은 거짓이라고 판단해버릴 수 있다. 이렇듯,\n",
    "모델이론에서 제시하는 원론적인 의미를 따라 문장을 이루는 모든 구성요소의 의미를\n",
    "뜯어보지 않고도 문장의 모양새 혹은 구조적 특징에 따라 더 빠르게 판단할 수 있는\n",
    "지름길을 제공하는 것이 증명의 역할이라 볼 수 있다. 이러한 증명을 위한 공리와\n",
    "추론규칙 등을 정리한 것을 증명이론이라 부른다.\n",
    "\n",
    "명제논리보다 복잡한 논리체계에서는 증명이론의 도움을 받지 않고서는 유한 시간 안에\n",
    "판단을 하는 것조차 불가능한 경우도 많다. 자연수 및 그에 연산을 대상으로 하는\n",
    "술어논리의 경우가 대표적이다. 에컨대, 짝수 자연수는 무한히 많다는 것을 모델이론에만\n",
    "입각해 하나하나 따져보는 방식으로 계속해서 조금 더 큰 자연수를 아무리 많이 검사해 보더라도\n",
    "무한히 많은 자연수를 다 확인하는 것은 애초에 불가능하다. 이런 논리체계를 위해 설계된\n",
    "증명이론의 수학적귀납법이라는 추론규칙으로 무한히 많은 자연수에 대한 많은 성질을\n",
    "유한한 단계만에 판단하는 증명이 가능하다. 프로그래밍언어의 의미구조와 타입규칙도\n",
    "이와 비슷한 관계에 있다. 프로그래밍언어로 작성한 함수를 정수에 적용했을 때 항상 정수가\n",
    "나온다는 성질을 의미구조에 따라 아무리 많은 정수로 테스트해 보더라도, 애초에 정수가 무한하기\n",
    "때문에, 모든 경우를 다 확인해 볼 수는 없다. 하지만 타입규칙에 따라\n",
    "$\\mathbb{Z}\\to\\mathbb{Z}$라는 타입의 함수임이 판단된다면, 그 함수를 어떤 정수에 적용하든\n",
    "계산이 무한히 진행되는 경우가 아닌 한 계산되는 결과값은 언제나 정수라는 증명이 되는 셈이다."
   ]
  },
  {
   "cell_type": "markdown",
   "metadata": {},
   "source": [
    "좀더 구체적으로 모델이론과 증명이론의 관점을 프로그래밍언어의 의미구조와 타입규칙에 적용해 보자.\n",
    "$\\mathcal{M};\\rho \\vdash P$는 의미구조에 해당하는 모델 $\\mathcal{M}$에 따라 언어의\n",
    "상수, 키워드, 연산자 등에 구조적으로 의미를 부여하고 환경 $\\rho$에 따라 자유변수를\n",
    "값으로 대응시켜 논리적 문장 $P$의 의미를 따져보면 참이라는 판단을 표현한 것이다.\\footnote{캐나다\n",
    "워털루 대학의 CS245 Logic and Computation 과목의 예전 강의자료에\n",
    "정리된 모델이론의 표기 형식을 참고하였다. \\url{https://cs.uwaterloo.ca/~plragde/cs245old}}\n",
    "프로그래밍언어에 대한 논리적 문장 $P$는 $e \\Longmapsto v$와 같은 형식으로 작성된다고 하자.\n",
    "그렇다면 $\\mathcal{M};\\rho \\models e \\Longmapsto v$는 의미구조 $M$에 따라 환경 $\\rho$를\n",
    "참조하여 \\`\\`$e$를 계산한 결과값은 $v$이다\\'\\'라는 문장을 참으로 판단할 수\n",
    "있다는 표현이다. 대략적으로, 큰걸음 의미구조 $\\langle e,\\sigma \\rangle \\Longmapsto v$를\n",
    "모델이론의 관점으로는 $\\mathcal{M};\\rho \\models e \\Longmapsto v$로 표현한다.\\footnote{이는\n",
    "물론 그야말로 대략적인 설명이다. 모델이론은 동작과정 의미구조보다는 지시적 의미구조과 관련짓는\n",
    "것이 더 적절하기 때문이다. 여기서는 결정적 동작과정 의미구조로 규정되는 비교적 간단한 언어만을\n",
    "고려한다고 가정하면 \\ref{sec:bigStepArith}절에서 산술식의 사례에서처럼 큰걸음 의미구조의 정의와\n",
    "거의 비슷한 구조를 따르는 지시적 의미구조가 존재한다고 가정하고 정상종료하지 않는 계산의 경우는\n",
    "일단 고려하지 않는 상황에서의 대략적인 비유에 가까운 설명이다.\n",
    "참고로, 모델이론을 실용적으로 응용하는 모델검증과 같은 분야에서는 프로그램의 실행 과정을\n",
    "프로세스로 보고 프로세스의 관찰가능한 행동 혹은 이벤트를 모델로 삼는 동적논리(dynamic logic)나\n",
    "시제논리(temporal logic)라는 논리체계를 활용하기도 하는데, 더 자세한 내용은\n",
    "이 책의 범위를 벗어나는 전문적인 주제이다.}\n",
    "\n",
    "한편, 모델이론의 관점에서 표현한 의미구조 $\\mathcal{M};\\rho \\models e \\Longmapsto v$에\n",
    "대응되는 타입을 판단하는 증명이론 관점의 표현을 $\\mathcal{M}';\\Gamma \\vdash e : \\tau$의\n",
    "형태로 작성할 수 있다. 이 때, $\\mathcal{M}'$는 의미구조를 반영하는 $\\mathcal{M}$를 요약한 모델,\n",
    "즉 요약된 의미구조(\\ref{sec:TypeAsAbsSem}절)라고도 볼 수 있는\n",
    "타입규칙(그림 \\ref{fig:FACTtyrules})을 반영하며, $\\rho$와 $\\Gamma$\n",
    "그리고 $v$와 $\\tau$는 다음을 조건을 만족한다.\\vspace*{-1.5ex}\n",
    "\n",
    "* $\\rho(x')=v'$이면 $\\Gamma(x')=\\tau'$이고 $v' : \\tau'$이다. (이를 간단히 $\\rho:\\Gamma$라고 쓰자.)\n",
    "* $v : \\tau$이다.\\vspace*{-1.5ex}\n",
    "\n",
    "\\noindent\n",
    "이 때, $v:\\tau$는 $v$가 정수 $n$의 형태일 때는 $\\vdash n:\\tau$를,\n",
    "$v$가 클로저 $\\langle e',\\rho'\\rangle$형태일 때는 $\\rho':\\Gamma'$인\n",
    "$\\Gamma'$를 활용한 타입 판단 $\\Gamma\\vdash e':\\tau$를 나타낸다.\n",
    "즉, 환경 $\\rho$에서 이름에 값을 대응시키는 대신 그 값을 요약한 타입에 대응시켜 요약한 타입환경이 $\\Gamma$이며,\n",
    "$e$를 계산한 결과값 $v$를 요약한 타입이 $\\tau$라는 말이다. 의미구조와 타입규칙이 명확히 규정되어 있어 대응되는\n",
    "모델 $\\mathcal{M}$이나 $\\mathcal{M}'$를 혼동할 여지가 없으면 생략하여\n",
    "$\\rho \\models e \\Longmapsto v$나 $\\Gamma \\vdash e : \\tau$라고 표기한다.\n",
    "모델이론과 증명이론에서 유래한 $\\models$ 및 $\\vdash$ 표기를 바탕으로\n",
    "타입 시스템의 안전성(soundness)과 완전성(completeness)이라는 개념(\\ref{ssec:StaticDynamicTy}절)을\n",
    "간략하게 정리해 볼 수 있다.\\vspace{-2ex}"
   ]
  },
  {
   "cell_type": "markdown",
   "metadata": {},
   "source": [
    "\\paragraph{타입 안전성}\n",
    "  $\\Gamma \\vdash e : \\tau$이면,\n",
    "  $\\rho:\\Gamma$인 환경 $\\rho$에서 $\\rho \\models e \\Longmapsto v$이고 $v:\\tau$이거나\n",
    "  또는 환경 $\\rho$에서 진행하는 $e$의 계산이 아예 종료되지 않는다.\\vspace*{-2ex}\n",
    "\n",
    "\\paragraph{타입 완전성}\n",
    "  $\\rho \\models e \\Longmapsto v$이면,\n",
    " $\\rho:\\Gamma$인 타입환경 $\\Gamma$에서\n",
    "$\\Gamma \\vdash e : \\tau$이고 $v:\\tau$이다.\\vspace*{1.5ex}\n",
    "\n",
    "타입 안정성은 이상적인 정적 타입 언어가 추구하는 성질이다. 실제로 FACT언어는 타입 안전하다.\n",
    "하지만 더 복잡한 언어는 타입 안정성을 추구하되 예외적인 상황을 고려해야 하는 경우가 발생한다.\n",
    "FACT언어에 나눗셈 연산을 추가하면 어떻게 될지 생각해 보라. 나누는 수가 0인 오류를 타입 규칙으로\n",
    "실행 전에 미리 모두 걸러내기는 쉽지 않기 때문에, 나누는 수가 0인 오류가 나는 경우를 제외하고\n",
    "타입 안전하다는 식의 예외 조항을 달아 타입 안전성을 언급하곤 한다.\n",
    "반면, 튜링완전한 정적 타입 범용언어는 애초부터 완전성을 만족하기는 일반적으로 불가능하다.\n",
    "프로그래밍언어의 타입 시스템만이 아니라 원래 이런 개념이 나온 형식논리학에서도\n",
    "일정 수준 이상의 기능을 포함한 무모순적 논리체계는 완전할 수 없음이\n",
    "쿠르트 괴델의 불완전성 정리로 밝혀져 있다.\n",
    "\n",
    "여기서는 타입 안전성의 증명을 논하기보다는 비정상 종료 사례를 살펴보자.\n",
    "에러가 나던 \\ref{chap:FunArithEval}장의 예시에 상응하는 FACT 식도 마찬가지 에러가 난다."
   ]
  },
  {
   "cell_type": "code",
   "execution_count": 13,
   "metadata": {},
   "outputs": [
    {
     "data": {
      "text/latex": [
       "$x$"
      ]
     },
     "metadata": {},
     "output_type": "display_data"
    },
    {
     "ename": "",
     "evalue": "",
     "output_type": "error",
     "traceback": [
      "x not defined\nCallStack (from HasCallStack):\n  error, called at <interactive>:3:35 in interactive:Ghci110"
     ]
    }
   ],
   "source": [
    "Var \"x\"  -- 자유변수 x\n",
    "eval [] (Var \"x\")"
   ]
  },
  {
   "cell_type": "code",
   "execution_count": 14,
   "metadata": {},
   "outputs": [
    {
     "data": {
      "text/latex": [
       "$3\\;1$"
      ]
     },
     "metadata": {},
     "output_type": "display_data"
    },
    {
     "ename": "",
     "evalue": "",
     "output_type": "error",
     "traceback": [
      " 3  not closure\nCallStack (from HasCallStack):\n  error, called at <interactive>:9:37 in interactive:Ghci110"
     ]
    }
   ],
   "source": [
    "Lit 3 `App` Lit 1  -- 3을 1에 함수처럼 적용\n",
    "eval [] (Lit 3 `App` Lit 1)"
   ]
  },
  {
   "cell_type": "code",
   "execution_count": 15,
   "metadata": {},
   "outputs": [
    {
     "data": {
      "text/latex": [
       "$3+(\\lambda x{:}\\mathbb{Z}.x)$"
      ]
     },
     "metadata": {},
     "output_type": "display_data"
    },
    {
     "ename": "",
     "evalue": "",
     "output_type": "error",
     "traceback": [
      "\\langle \\lambda x{:}\\mathbb{Z}.x,\\{\\}\\rangle  not int\nCallStack (from HasCallStack):\n  error, called at <interactive>:15:38 in interactive:Ghci110"
     ]
    }
   ],
   "source": [
    "Lit 3 `Add` (Lam \"x\" Z $ Var \"x\")  -- 3과 함수요약식의 덧셈\n",
    "eval [] (Lit 3 `Add` (Lam \"x\" Z $ Var \"x\"))"
   ]
  },
  {
   "cell_type": "markdown",
   "metadata": {},
   "source": [
    "\\noindent\n",
    "위의 세 식에 대해서는 타입규칙을 만족하는 적절한 타입을 찾을 수 없다\n",
    "(즉, 어떤 타입 $\\tau$에 대해서도 $\\nvdash e : \\tau$).\n",
    "이러한 식을 실행해 보기 전에 타입규칙에 맞는 적절한 타입이 존재하는지\n",
    "여부를 확인할 수만 있다면, 위와 같이 비정상 종료되는 모든 FACT언어의 식을\n",
    "실행 전에 타입규칙에 의거해 걸러낼 수 있음을 타입 안전성이 보장한다.\n",
    "\n",
    "FACT언어에서 타입 완전성의 반례로는 아래와 같은 조건식을 들 수 있다."
   ]
  },
  {
   "cell_type": "code",
   "execution_count": 16,
   "metadata": {},
   "outputs": [
    {
     "data": {
      "text/latex": [
       "$\\textbf{if}\\;0\\;\\textbf{then}\\;(\\lambda x{:}\\mathbb{Z}.x)\\;\\textbf{else}\\;3$"
      ]
     },
     "metadata": {},
     "output_type": "display_data"
    },
    {
     "data": {
      "text/latex": [
       "$ 3 $"
      ]
     },
     "metadata": {},
     "output_type": "display_data"
    }
   ],
   "source": [
    "If (Lit 0) (Lam \"x\" Z $ Var \"x\") (Lit 3)\n",
    "eval [] (If (Lit 0) (Lam \"x\" Z $ Var \"x\") (Lit 3))"
   ]
  },
  {
   "cell_type": "markdown",
   "metadata": {},
   "source": [
    "\\noindent\n",
    "분명히 3으로 정상 종료되지만 타입규칙에 맞는 적절한 타입을 찾을 수 없다.\n",
    "왜냐하면 $\\vdash (\\lambda x{:}\\mathbb{Z}.x):\\mathbb{Z}\\to\\mathbb{Z}$인 반면\n",
    "$\\vdash 3:\\mathbb{Z}$으로 참인 경우와 거짓인 경우에 해당하는 식의 타입이 \n",
    "$\\mathbb{Z}\\to\\mathbb{Z}$와 $\\mathbb{Z}$로 서로 다른데,\n",
    "그림 \\ref{fig:FACTtyrules}의 조건식에 대한 타입규칙에서는 두 식의 타입이 같아야만\n",
    "한다는 전제조건을 만족시킬 수 없기 때문이다. 이렇듯 정상 종료되는 모든 식을 수용하지\n",
    "못한다는 점에서 타입규칙이 불완전하고 표현한다. 이론적 한계로 인해 정적 타입 언어가\n",
    "타입 완전성을 추구할 수 없다고 해서 잘 돌아가는 프로그램을 무턱대고 거부하도록\n",
    "설계하지는 않는다. 비록 완전하지는 못할지언정 프로그래머의 편의를 위해 안전성을\n",
    "되도록 해지치 않으면서 더 많은 문제없이 잘 실행되는 프로그램을 허용하려 노력하면서\n",
    "정적 타입 언어를 설계한다. 앞서 \\ref{chap:ParaPoly}장에서 살펴본 다형성(polymorphsm)도\n",
    "이렇듯 더 유연한 정적 타입 언어 설계를 위해 타입 시스템이 지원하는 대표적인 기능이다."
   ]
  },
  {
   "cell_type": "markdown",
   "metadata": {},
   "source": [
    "# 타입검사\n",
    "타입환경($\\Gamma$)에서 FACT언어의 식($e$)이 특정 타입($\\tau$)인지, 즉 $\\Gamma \\vdash e : \\tau$인지\n",
    "검사하는 함수 `check`을 타입규칙(그림 \\ref{fig:FACTtyrules})에 따라 하스켈로 작성하면 다음과 같다."
   ]
  },
  {
   "cell_type": "code",
   "execution_count": 17,
   "metadata": {},
   "outputs": [],
   "source": [
    "type TEnv = [(Nm,Ty)] -- 타입환경\n",
    "\n",
    "check :: TEnv -> Expr -> Ty -> Bool\n",
    "check tenv (Var x)      t  = lookup x tenv == Just t\n",
    "check tenv (Lam x t2 e) (Arr t2' t)\n",
    "                          = t2==t2' && check ((x,t2):tenv) e t\n",
    "check tenv (Rec f t' e) t  = t == t' && check ((f,t'):tenv) e t\n",
    "check tevv (Lit _)      Z  = True\n",
    "check tenv (Add e1 e2)  Z  = check tenv e1 Z && check tenv e2 Z\n",
    "check tenv (If e e1 e0) t  = check tenv e Z && check tenv e1 t\n",
    "                                            && check tenv e2 t\n",
    "check _   _             _  = False"
   ]
  },
  {
   "cell_type": "markdown",
   "metadata": {},
   "source": [
    "타입환경 $\\Gamma$에서 식 $e$를 타입규칙에 따라 $\\Gamma \\vdash e : \\tau$로 판단 가능한\n",
    "$\\tau$를 알고 있다면, 하스켈 프로그램 $\\texttt{check}~\\Gamma~e~\\tau$를 실행해\n",
    "확인(혹은 검산)해 볼 수 있다. 세 가지 정보($\\Gamma$, $e$, $\\tau$)가\n",
    "모두 제공되었을 때 타입규칙을 만족하는지 단순히 검산하는 `check` 함수만으로는,\n",
    "두 가지 정보($\\Gamma$, $e$)만으로 나머지 하나($\\tau$)의 존재 여부 및\n",
    "존재할 경우 구체적으로 어떤 내용인지 자동으로 알아보기는 곤란하다."
   ]
  },
  {
   "cell_type": "markdown",
   "metadata": {},
   "source": [
    "# 타입유추\n",
    "타입환경 $\\Gamma$와 FACT언어의 식 $e$가 주어졌을 때\n",
    "$\\Gamma \\vdash e : \\tau$를 만족하는 타입($\\tau$)이 존재한다면\n",
    "구체적으로 $\\tau$가 무엇인지 계산하여 이를 포함하는 리스트(`[`$\\tau$`]`)를 계산하고,\n",
    "존재하지 않는다면 빈 리스트(`[]`)를 계산하는 타입유추 함수 `infer`를 아래와 같이 작성해 보자."
   ]
  },
  {
   "cell_type": "code",
   "execution_count": 18,
   "metadata": {},
   "outputs": [],
   "source": [
    "infer :: TEnv -> Expr -> [Ty]  -- 적절한 타입이 존재하지 않으면 빈 리스트\n",
    "infer tenv (Var x)      = case lookup x tenv of Just t  -> [t]\n",
    "                                                Nothing -> []\n",
    "infer tenv (Lam x t2 e) = undefined\n",
    "infer tenv (Rec f t e)  = undefined\n",
    "infer tevv (Lit _)      = [Z]\n",
    "infer tenv (Add e1 e2)  = undefined\n",
    "infer tenv (If e e1 e0) = undefined"
   ]
  },
  {
   "cell_type": "markdown",
   "metadata": {},
   "source": [
    "\\noindent\n",
    "연습문제로 함수 `infer`를 FACT언어의 타입규칙(그림 \\ref{fig:FACTtyrules})에 충실하게 정의해 보라.\n",
    "즉, 주어진 타입환경 $\\Gamma$와 식 $e$에 대해 다음 조건을 만족하도록 작성하라는 말이다.\\vspace*{-1.5ex}\n",
    "\n",
    " * `infer` $\\Gamma\\phantom{e}e$ `==` `[`$\\tau\\!\\!$ `]`이면 $\\Gamma\\vdash e:\\tau$이며, 그 역도 성립한다.\n",
    " * `infer` $\\Gamma\\phantom{e}e$ `==` `[]`이면 $\\Gamma\\vdash e:\\tau$인 $\\tau$는 존재하지 않으며, 그 역도 성립한다.\\vspace*{-1ex}\n",
    "\n",
    "\\noindent\n",
    "이런 조건에 맞게 작성된 `infer` 함수로 타입규칙에 맞는 타입이 존재하는지 확인된 경우를\n",
    "즉 `infer` $\\Gamma\\phantom{e}e$ `==` `[`$\\tau\\!\\!$ `]`인 경우,\n",
    "FACT언어의 타입 안전성에 따라 $\\rho:\\Gamma$를 만족하는 $\\rho$로\n",
    "`eval` $\\rho$ $e$를 계산하면 $v:\\tau$인 결과값 $v$가 계산되던가\n",
    "끝나지 않는 계산이 진행된다. 참고로, 이렇게 타입규칙에 맞는 타입이\n",
    "존재하는 식을 \\`\\`타입이 잘 맞는다\\`\\`(well-typed)고 한다."
   ]
  },
  {
   "cell_type": "code",
   "execution_count": 19,
   "metadata": {},
   "outputs": [],
   "source": [
    "ev :: Env -> Expr -> Val  -- infer로 타입이 확인된 경우만 실행한다고 가정\n",
    "ev env (Var x) = v  where Just v = lookup x env\n",
    "ev env e@(Lam _ _ _) = Cl e env\n",
    "ev env (Rec f t e@(Lam _ _ _)) = undefined -- 간소화된 의미규칙대로 작성\n",
    "ev env (App e1 e2) = eval ((x,v2):env1) e\n",
    "    where Cl (Lam x _ e) env1 = eval env e1 \n",
    "          v2                  = eval env e2 \n",
    "ev _   (Lit n)     = Vi n\n",
    "ev env (Add e1 e2) = Vi (n1 + n2)\n",
    "    where Vi n1 = ev env e1\n",
    "          Vi n2 = ev env e2\n",
    "ev env (If e e1 e0) = ev env (if n/=0 then e1 else e0)\n",
    "    where Vi n = eval env e"
   ]
  },
  {
   "cell_type": "markdown",
   "metadata": {},
   "source": [
    "타입이 잘 맞는 식(well-typed expression)인지 실행 전에 확인하는 기능을 포함하는,\n",
    "닫힌식에 대한 인터프리터 `eval'`를 `infer`과 `ev`를 활용해 아래와 같이 정의할 수 있다."
   ]
  },
  {
   "cell_type": "code",
   "execution_count": 20,
   "metadata": {},
   "outputs": [],
   "source": [
    "eval' :: Expr -> [Val]  -- 타입 검사가 실패하면 빈 리스트\n",
    "eval' e = [ev [] e | t <- infer [] e]"
   ]
  },
  {
   "cell_type": "markdown",
   "metadata": {},
   "source": [
    "\\section*{요점정리}\n",
    "* TODO\n",
    "* TODO"
   ]
  },
  {
   "cell_type": "markdown",
   "metadata": {},
   "source": [
    "\\section*{연습문제}\n",
    "1. `[5]`번 셀의 `eval` 함수에서 `undefined`로 남겨놓은 내용을 완성한 다음 `[12]`번 셀의 테스트를 다시 실행해 정상적인 결과가 나오는지 확인해 보라.\n",
    "1. `[13]`-`[15]`번 셀의 오류가 나는 FACT언어의 식들에 대해 타입규칙에 따라 적절한 타입을 찾을 수 없는 이유를 타입규칙에 의거해 각각 설명해 보라.\n",
    "1. `[18]`번 셀의 `infer` 함수를 FACT언어의 타입규칙에 따라 작성하라.\n",
    "1. 작성된 함수 `infer`를 `[13]`-`[16]`번 셀의 식에 적용하면 어떤 결과가 나오는지 확인해 보라.\n",
    "1. `infer`로 0부터 주어진 자연수까지 합을 구하는 함수인 `[11]`번 셀의 `e4`의 타입이 무엇인지 알아보라.\n",
    "1. `infer`로 타입을 찾을 수는 있지만 `eval`로 실행해 보면 계산이 끝나지 않는 사례를 찾아보라."
   ]
  },
  {
   "cell_type": "markdown",
   "metadata": {},
   "source": [
    "\\section*{탐구과제}\n",
    "1. TODO 에러 메시지를 내기 위해서는 어떻게 해야 할지 TODO\n",
    "1. TODO"
   ]
  },
  {
   "cell_type": "code",
   "execution_count": null,
   "metadata": {},
   "outputs": [],
   "source": []
  }
 ],
 "metadata": {
  "kernelspec": {
   "display_name": "Haskell",
   "language": "haskell",
   "name": "haskell"
  },
  "language_info": {
   "codemirror_mode": "ihaskell",
   "file_extension": ".hs",
   "mimetype": "text/x-haskell",
   "name": "haskell",
   "pygments_lexer": "Haskell",
   "version": "8.10.7"
  }
 },
 "nbformat": 4,
 "nbformat_minor": 4
}
