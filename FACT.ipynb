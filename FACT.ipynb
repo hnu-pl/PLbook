{
 "cells": [
  {
   "cell_type": "markdown",
   "metadata": {},
   "source": [
    "이 장에서는 FAC언어(\\ref{chap:FunArithEval}장)에 단순타입을 추가한 FACT언어를 정의한다.\n",
    "하지만, 단순타입 람다계산법(STLC)의 타입규칙을 따르면서 고정접 조합자를 작성할 수 없으므로\n",
    "FACT언어에는 재귀함수를 표현하기 위한 별도의 문법 요소가 추가되어 있으며,\n",
    "그에 따라 의미구조에도 재귀함수를 고려하는 규칙이 추가된다.\n",
    "이렇게 타입이 추가된 언어의 문법규칙과 의미구조를 살펴본 다음,\n",
    "논리학에서 모델이론과 증명이론의 개념이 프로그래밍어에서 의미구조와 타입규칙과\n",
    "어떤 관련이 있는지 간단히 설명한다. 그리고는 FACT언어를 매개로 하여\n",
    "타입검사와 타입유추의 개념을 알아본다.\n",
    "\n",
    "\\newpage"
   ]
  },
  {
   "cell_type": "raw",
   "metadata": {},
   "source": [
    "\\begin{figure}"
   ]
  },
  {
   "cell_type": "markdown",
   "metadata": {},
   "source": [
    "\\begin{align*}\n",
    "f,x &\\;\\in\\; \\texttt{Nm} \\qquad\\qquad n \\;\\in\\; \\mathbb{Z} \\\\\n",
    "\\textcolor{blue}{\\tau} &\\;\\textcolor{blue}{\\in \\texttt{Ty} ~::=~ \\mathbb{Z} ~\\mid~ \\tau_1\\!\\to\\tau_2} \\\\\n",
    "e &\\;\\in \\texttt{Expr}\n",
    "    ~::=~ x\n",
    "    ~\\mid~ \\lambda x{:}\\tau.e\n",
    "    ~\\mid~ \\textcolor{blue}{\\textbf{rec}\\,f\\,(\\lambda x{:}\\tau.e)}\n",
    "    ~\\mid~ e_1~e_2 \\\\\n",
    " & \\qquad\\qquad~\n",
    "    ~\\mid~ n ~\\mid~ e_1 +\\, e_2\n",
    "    ~\\mid~ \\textbf{if}~e~\\textbf{then}~e_1~\\textbf{else}~e_0\n",
    "\\\\[-3em]\n",
    "\\end{align*}\n",
    "\\begin{align*}\n",
    "\\texttt{Env} &\\;=\\; \\texttt{Nm} \\xrightharpoonup{_\\textrm{fin}} \\texttt{Val} & ~~\n",
    "\\rho &\\in \\texttt{Env} \\,::=\\, \\{x_1{\\mapsto}v_1,\\,\\ldots,\\,x_n{\\mapsto}v_n\\} \\\\\n",
    "\\texttt{Val} &\\,\\subset\\, (\\texttt{Expr}\\times\\texttt{Env}) \\cup \\mathbb{Z} & ~~\n",
    "v &\\in \\texttt{Val} \\,::=\\, \\langle \\lambda x{:}\\tau.e, \\rho \\rangle\n",
    "                     \\,\\mid\\, \\textcolor{blue}{\\langle \\textbf{rec}\\,f\\,(\\lambda x{:}\\tau.e), \\rho \\rangle}\n",
    "                     \\,\\mid\\, n \\\\\n",
    "\\cdot\\,{\\Longmapsto}\\,\\cdot &\\,\\subset\\, (\\texttt{Expr}\\times\\texttt{Env})\\times\\texttt{Val}\n",
    "\\\\[-3em]\n",
    "\\end{align*}"
   ]
  },
  {
   "cell_type": "markdown",
   "metadata": {},
   "source": [
    "$$\\!\\!\\!\n",
    "\\langle x,\\rho\\rangle \\Longmapsto \\rho(x)\n",
    "\\quad\n",
    "\\langle\\lambda x.e,\\rho\\rangle \\Longmapsto \\langle\\lambda x.e,\\rho\\rangle\n",
    "\\quad\n",
    "\\textcolor{blue}{\\langle\\textbf{rec}\\,f\\,(\\lambda x{:}\\tau.e),\\rho\\rangle \\Longmapsto \\langle\\textbf{rec}\\,f\\,(\\lambda x{:}\\tau.e),\\rho\\rangle}\n",
    "$$\n",
    "$$\n",
    "\\frac{\\begin{array}{l}\n",
    "      \\langle e_1,\\rho\\rangle \\Longmapsto \\langle\\lambda x{:}\\tau.e,\\rho_1\\rangle \\\\\n",
    "      \\langle e_2,\\rho\\rangle \\Longmapsto v_2 \\\\\n",
    "      \\langle e,\\{x{\\mapsto}v_2\\}\\rho_1\\rangle \\Longmapsto v\n",
    "      \\end{array}\n",
    "    }{\\langle e_1~e_2,\\rho\\rangle \\Longmapsto v}\n",
    "\\qquad\n",
    "\\textcolor{blue}{\n",
    "\\frac{\\begin{array}{l}\n",
    "      \\langle e_1,\\rho\\rangle \\Longmapsto \\langle\\textbf{rec}\\,f\\,(\\lambda x{:}\\tau.e),\\rho_1\\rangle \\\\\n",
    "      \\langle e_2,\\rho\\rangle \\Longmapsto v_2 \\\\\n",
    "      \\langle e,\\{x{\\mapsto}v_2,\\,f{\\mapsto}\\langle\\textbf{rec}\\,f\\,(\\lambda x{:}\\tau.e),\\rho_1\\rangle\\}\\rho_1\\rangle \\Longmapsto v\n",
    "      \\end{array}\n",
    "    }{\\langle e_1~e_2,\\rho\\rangle \\Longmapsto v}}\n",
    "$$\n",
    "$$\n",
    "\\langle n,\\rho\\rangle \\Longmapsto n\n",
    "\\qquad\n",
    "\\frac{\\langle e_1,\\rho\\rangle \\Longmapsto n_1 \n",
    "      \\quad\n",
    "      \\langle e_2,\\rho\\rangle \\Longmapsto n_2}{\n",
    "        \\langle e_1 +\\, e_2,\\rho\\rangle \\Longmapsto n}(n\\equiv n_1+n_2)\n",
    "$$\n",
    "$$\n",
    "\\frac{\\langle e,\\rho\\rangle \\Longmapsto 0\n",
    "      \\quad\n",
    "      \\langle e_0,\\rho\\rangle \\Longmapsto n_0}{\n",
    "        \\langle\\textbf{if}~e~\\textbf{then}~e_1~\\textbf{else}~e_0,\\,\\rho\\rangle \\Longmapsto n_0}\n",
    "\\quad        \n",
    "\\frac{\\langle e,\\rho\\rangle \\Longmapsto n\n",
    "      \\qquad\n",
    "      \\langle e_1,\\rho\\rangle \\Longmapsto n_1}{\n",
    "        \\langle\\textbf{if}~e~\\textbf{then}~e_1~\\textbf{else}~e_0,\\,\\rho\\rangle \\Longmapsto n_1}(n\\neq 0)\n",
    "$$"
   ]
  },
  {
   "cell_type": "raw",
   "metadata": {},
   "source": [
    "\\caption{FACT 언어의 문법구조와 의미구조 \\label{fig:FACTlang} }\n",
    "\\end{figure}"
   ]
  },
  {
   "cell_type": "markdown",
   "metadata": {},
   "source": [
    "\\section{단순타입과 재귀함수요약식이 추가된 FACT언어}\n",
    "FACT언어의 문법구조와 의미구조(그림 \\ref{fig:FACTlang})는 기본적으로\n",
    "FAC언어의 문법구조와 의미구조(그림 \\ref{fig:FAClang})를 거의 그대로 따르므로\n",
    "차이점이 무엇인지에만 주목해 살펴보자. 참고로, FAC언어에는 없고 FACT에 추가된 내용을\n",
    "그림 \\ref{fig:FACTlang}에서 \\textcolor{blue}{파란색}으로 표시하고 있다.\n",
    "\n",
    "문법구조에서 드러나는 두 가지 차이점은 다음과 같다.\n",
    "첫째, STLC의 람다요약식($\\lambda x{:}\\tau.e$)과 같이 매개변수($x$)의 타입($\\tau$)을 명시한다.\n",
    "둘째, 새로운 예약어(\\textbf{rec})로 시작하는 재귀함수요약식이 추가되었다는 점이다.\n",
    "FACT언어에서 재귀함수요약식 $\\textbf{rec}\\,f\\,(\\lambda x{:}\\tau.e)$ 의미는\n",
    "FAC언어에서 $Z$조합자(\\ref{sec:Zcombinator}절)를 활용한 $Z\\,(\\lambda f.(\\lambda x.e))$에 해당한다.\n",
    "직관적으로는 $f$가 그 자신을 포함한 재귀함수요약식 $\\textbf{rec}\\,f\\,(\\lambda x{:}\\tau.e)$을 대표한다고 이해할 수 있다.\n",
    "즉, 함수 몸체($e$)에서 재귀함수를 호출하려는 곳에 $f$를 활용하면 된다.\n",
    "예컨대, 0부터 주어진 자연수 $i$까지 합을 구하는 재귀함수를 \n",
    "$\\textbf{rec}\\;f\\;(\\lambda i{:}\\texttt{INT}.\\;\\textbf{if}\\;i\\;\\textbf{then}\\;i+f\\,(i+(-1))\\,\\textbf{else}\\;i)$와 같이 작성할 수 있다.\n",
    "\n",
    "의미구조에서는 람다요약식의 매개변수에 타입이 추가된 점을 제외하고는 사실상 기존의 의미규칙을 그대로 따르되,\n",
    "재귀함수와 관련된 두 개의 의미규칙이 더 추가되었다. 첫째는 일반적인 함수요약식과 마찬가지로\n",
    "재귀함수요약식도 더 이상 계산이 진행되지 않고 바로 클로저를 구성하여 값으로 취급하는 규칙이다.\n",
    "둘째는 함수적용식($e_1\\;e_2$)의 함수 부분($e_1$)를 계산한 결과값이 재귀함수요약식의 클로저인 경우를 처리하는 규칙이다.\n",
    "재귀함수요약식의 클로저를 적용할 때는 보통 함수요약식의 클로저를 적용할 때처럼\n",
    "매개변수($x$)를 인자 부분$(e_2$)의 결과값($v_2$)에 대응($x{\\mapsto}v_2$)시킬 뿐만 아니라,\n",
    "재귀함수를 대표하는 이름($f$) 또한 재귀함수요약식의 클로저에\n",
    "대응($f{\\mapsto}\\langle\\textbf{rec}\\,f\\,(\\lambda x{:}\\tau.e),\\rho_1\\rangle$)시켜\n",
    "확장된 환경($\\{x{\\mapsto}v_2,f{\\mapsto}\\langle\\ldots\\rangle\\}\\rho_1$)에서 함수 몸체($e$)를 계산한다."
   ]
  },
  {
   "cell_type": "markdown",
   "metadata": {},
   "source": [
    "재귀적인 구조를 직접 활용하여 간소화된 재귀함수에 대한 의미규칙 TODO\n",
    "\\lipsum[1-1]"
   ]
  },
  {
   "cell_type": "markdown",
   "metadata": {},
   "source": [
    "\\section{FACT언어의 인터프리터}"
   ]
  },
  {
   "cell_type": "code",
   "execution_count": 1,
   "metadata": {},
   "outputs": [],
   "source": [
    ":opt no-lint\n",
    "{-# LANGUAGE TypeSynonymInstances FlexibleInstances #-}"
   ]
  },
  {
   "cell_type": "markdown",
   "metadata": {},
   "source": [
    "하스켈로 인터프리터를 작성하기 위한 타입(`Ty`)과 식(`Expr`)을 나타내는 문법구조\n",
    "및 의미구조 작성을 위한 값(`Val`)과 환경(`Env`)을 아래와 같이 선언한다."
   ]
  },
  {
   "cell_type": "code",
   "execution_count": 2,
   "metadata": {},
   "outputs": [],
   "source": [
    "type Nm = String  -- 변수 이름은 문자열로\n",
    "data Ty = Z | Arr Ty Ty  deriving (Eq,Ord)\n",
    "data Expr = Var Nm             -- x\n",
    "          | Lam Nm Ty Expr     -- (\\x:t.e)\n",
    "          | Rec Nm Expr        -- rec f (\\x:t.e)\n",
    "          | App Expr Expr      -- (e1 e2)\n",
    "          | Lit Int            -- n\n",
    "          | Add Expr Expr      -- e1 + e2\n",
    "          | If Expr Expr Expr  -- if e then e1 else e0\n",
    "          deriving (Eq, Ord)\n",
    "\n",
    "data Val = Cl Expr Env | Vi Int  deriving (Eq,Ord)\n",
    "type Env = [ (Nm, Val) ]"
   ]
  },
  {
   "cell_type": "markdown",
   "metadata": {},
   "source": [
    "다음은 위에 선언된 타입의 값을 노트북에 좀더 보기좋게 디스플레이하는 인스턴스 선언이다."
   ]
  },
  {
   "cell_type": "code",
   "execution_count": 3,
   "metadata": {},
   "outputs": [],
   "source": [
    "instance Show Ty where\n",
    "  showsPrec _ Z = showString \"\\\\mathbb{Z}\"\n",
    "  showsPrec p (Arr t1 t2) = showParen (p > 1) $\n",
    "      showsPrec p t1 . showString \" \\to \" . showsPrec p t2\n",
    "instance Show Expr where -- LaTeX 소스코드 생성하는 Show 인스턴스 직접 선언\n",
    "  showsPrec _ (Var x) = showString x\n",
    "  showsPrec p (Lam x t e) = showParen (p > 1) $\n",
    "      showString (\"\\\\lambda \"++x++\"{:}\"++show t++\".\") . showsPrec 1 e\n",
    "  showsPrec p (Rec x e) = showParen (p > 9) $\n",
    "      showString (\"\\\\textbf{rec}\\\\,\"++x++\"\\\\, \") . showsPrec 2 e\n",
    "  showsPrec p (App e1 e2) = showParen (p > 9) $\n",
    "      showsPrec 9 e1 . showString \"\\\\;\" . showsPrec 10 e2\n",
    "  showsPrec _ (Lit n) = shows n\n",
    "  showsPrec p (Add e1 e2) = showParen (p > 6) $\n",
    "      showsPrec 6 e1 . showString \"+\" . showsPrec 7 e2\n",
    "  showsPrec p (If e e1 e0) = showParen (p > 2) $\n",
    "      showString \"\\\\textbf{if}\\\\;\" . showsPrec 3 e .\n",
    "      showString \"\\\\;\\\\textbf{then}\\\\;\" . showsPrec 3 e1 .\n",
    "      showString \"\\\\;\\\\textbf{else}\\\\;\" . showsPrec 3 e0\n",
    "\n",
    "import IHaskell.Display (latex)\n",
    "instance IHaskellDisplay Expr where -- 노트북에 디스플레이하는 인스턴스 선언\n",
    "    display e = display [latex $ \"$\"++show e++\"$\"]\n",
    "instance IHaskellDisplay Ty where\n",
    "    display t = display [latex $ \"$\"++show t++\"$\"]"
   ]
  },
  {
   "cell_type": "code",
   "execution_count": 4,
   "metadata": {},
   "outputs": [],
   "source": [
    "import Data.List (intercalate)\n",
    "instance {-# OVERLAPS #-} Show Env where\n",
    "    show env = \"\\\\{\"++ intercalate \",\\\\,\" (map show env) ++\"\\\\}\"\n",
    "instance {-# OVERLAPS #-} Show (Nm,Val) where\n",
    "    show (x,cl) = x++\"{\\\\mapsto}\"++show cl\n",
    "instance Show Val where\n",
    "    show (Cl e env) = \"\\\\langle \"++show e++\",\"++show env++\"\\\\rangle \"\n",
    "    show (Vi n) = \" \"++show n++\" \"\n",
    "\n",
    "instance {-# OVERLAPS #-} IHaskellDisplay Env where\n",
    "    display e = display [latex $ \"$\"++show e++\"$\"]\n",
    "instance {-# OVERLAPS #-} IHaskellDisplay (Nm,Val) where\n",
    "    display e = display [latex $ \"$\"++show e++\"$\"]\n",
    "instance IHaskellDisplay Val where\n",
    "    display v = display [latex $ \"$\"++show v++\"$\"]"
   ]
  },
  {
   "cell_type": "code",
   "execution_count": 5,
   "metadata": {},
   "outputs": [
    {
     "data": {
      "text/latex": [
       "$\\textbf{if}\\;3+(x+y)\\;\\textbf{then}\\;(\\lambda x{:}\\mathbb{Z}.\\lambda y{:}\\mathbb{Z}.y)\\;\\textbf{else}\\;(\\lambda x{:}\\mathbb{Z}.x)\\;(\\textbf{rec}\\,f\\, (\\lambda x{:}\\mathbb{Z}.\\lambda y{:}\\mathbb{Z}.y))$"
      ]
     },
     "metadata": {},
     "output_type": "display_data"
    }
   ],
   "source": [
    "idExpr = Lam \"x\" Z (Var \"x\")\n",
    "ttExpr = Lam \"x\" Z (Lam \"y\" Z (Var \"x\")) \n",
    "ffExpr = Lam \"x\" Z (Lam \"y\" Z (Var \"y\")) \n",
    "-- 람다식, 산술식과, 조건식이 모두 활용된 예시 프로그램\n",
    "If (Add (Lit 3) (Add (Var \"x\") (Var \"y\"))) ffExpr (App idExpr (Rec \"f\" ffExpr))"
   ]
  },
  {
   "cell_type": "markdown",
   "metadata": {},
   "source": [
    "지금까지는 비결정적이든 결정적이든 합류성이 있건 없건 관계없이 의미구조를 하스켈로\n",
    "옮길 때 의미구조를 계산하는 함수의 결과를 항상 일관되게 리스트 타입으로 선언했다.\n",
    "비결정적이거나 합류성이 없는 의미구조는 여러가지 계산 결과가 가능하므로\n",
    "리스트 타입으로 선언하는 것이 적합하다. 그런데, 결정적 작은걸음 의미구조나\n",
    "합류성이 있는 큰걸음 의미구조 함수는 계산 과정이 정상적으로 진행/종료되는 경우\n",
    "하나의 유일한 결과만을 계산한다. 그래서, 이 장에서 작성하는 큰걸음 의미구조를\n",
    "구현한 인터프리터 함수 `eval`은 하나의 값(`Val`)을 결과로 계산하도록 선언하였으며\n",
    "계산이 정상적으로 진행되지 않아 비정상 종료하는 경우에는 하스켈 프로그램을 비정상\n",
    "종료시키는 `error` 함수를 활용해 에러 메시지와 함께 비정상 종료되도록 처리하여\n",
    "다음과 같이 작성하였다."
   ]
  },
  {
   "cell_type": "code",
   "execution_count": 6,
   "metadata": {},
   "outputs": [],
   "source": [
    "eval :: Expr -> Env -> Val  -- FACT언어의 인터프리터를 구현한 eval 함수\n",
    "eval (Var x) env =\n",
    "  case lookup x env of Nothing -> error (x ++ \" not defined\")\n",
    "                       Just v  -> v\n",
    "eval e@(Lam _ _ _) env = Cl e env\n",
    "eval e@(Rec f (Lam _ _ _)) env = undefined -- 간소화된 의미규칙 작성\n",
    "eval (App e1 e2) env =\n",
    "  case v1 of Cl (Lam x _ e) env1 -> eval e ((x,v2):env1)\n",
    "             _                   -> error (show v1++\" not closure\")\n",
    "  where v1 = eval e1 env \n",
    "        v2 = eval e2 env \n",
    "eval (Lit n)     _   = Vi n\n",
    "eval (Add e1 e2) env =\n",
    "  case (v1, v2) of (Vi n1, Vi n2) -> Vi (n1 + n2)\n",
    "                   (Vi _ , _    ) -> error (show v2++\" not int\")\n",
    "                   _              -> error (show v1++\" not int\")\n",
    "  where v1 = eval e1 env\n",
    "        v2 = eval e2 env\n",
    "eval (If e e1 e0) env =\n",
    "  case eval e env of Vi 0 -> eval e0 env\n",
    "                     Vi _ -> eval e1 env\n",
    "                     _    -> error (show e++\" not int\")"
   ]
  },
  {
   "cell_type": "code",
   "execution_count": 17,
   "metadata": {},
   "outputs": [
    {
     "data": {
      "text/latex": [
       "$\\langle \\lambda x{:}\\mathbb{Z}.\\lambda y{:}\\mathbb{Z}.\\textbf{if}\\;x\\;\\textbf{then}\\;x+y\\;\\textbf{else}\\;y+y,\\{\\}\\rangle $"
      ]
     },
     "metadata": {},
     "output_type": "display_data"
    },
    {
     "data": {
      "text/latex": [
       "$ 2 $"
      ]
     },
     "metadata": {},
     "output_type": "display_data"
    },
    {
     "data": {
      "text/latex": [
       "$ 3 $"
      ]
     },
     "metadata": {},
     "output_type": "display_data"
    }
   ],
   "source": [
    "e1 = Lam \"x\" Z . Lam \"y\" Z $ If (Var \"x\") (Var \"x\" `Add` Var \"y\")\n",
    "                                          (Var \"y\" `Add` Var \"y\")\n",
    "e2 = Lit 2\n",
    "e3 = Lit 3\n",
    "\n",
    "eval e1 []\n",
    "eval e2 []\n",
    "eval e3 []"
   ]
  },
  {
   "cell_type": "code",
   "execution_count": 18,
   "metadata": {},
   "outputs": [
    {
     "data": {
      "text/latex": [
       "$(\\lambda x{:}\\mathbb{Z}.\\lambda y{:}\\mathbb{Z}.\\textbf{if}\\;x\\;\\textbf{then}\\;x+y\\;\\textbf{else}\\;y+y)\\;2$"
      ]
     },
     "metadata": {},
     "output_type": "display_data"
    },
    {
     "data": {
      "text/latex": [
       "$\\langle \\lambda y{:}\\mathbb{Z}.\\textbf{if}\\;x\\;\\textbf{then}\\;x+y\\;\\textbf{else}\\;y+y,\\{x{\\mapsto} 2 \\}\\rangle $"
      ]
     },
     "metadata": {},
     "output_type": "display_data"
    }
   ],
   "source": [
    "App e1 e2\n",
    "eval (App e1 e2) []"
   ]
  },
  {
   "cell_type": "code",
   "execution_count": 19,
   "metadata": {},
   "outputs": [
    {
     "data": {
      "text/latex": [
       "$(\\lambda x{:}\\mathbb{Z}.\\lambda y{:}\\mathbb{Z}.\\textbf{if}\\;x\\;\\textbf{then}\\;x+y\\;\\textbf{else}\\;y+y)\\;2\\;3$"
      ]
     },
     "metadata": {},
     "output_type": "display_data"
    },
    {
     "data": {
      "text/latex": [
       "$ 5 $"
      ]
     },
     "metadata": {},
     "output_type": "display_data"
    }
   ],
   "source": [
    "App (App e1 e2) e3\n",
    "eval (App (App e1 e2) e3) []"
   ]
  },
  {
   "cell_type": "code",
   "execution_count": 20,
   "metadata": {},
   "outputs": [
    {
     "data": {
      "text/latex": [
       "$(\\lambda x{:}\\mathbb{Z}.\\lambda y{:}\\mathbb{Z}.\\textbf{if}\\;x\\;\\textbf{then}\\;x+y\\;\\textbf{else}\\;y+y)\\;0\\;3$"
      ]
     },
     "metadata": {},
     "output_type": "display_data"
    },
    {
     "data": {
      "text/latex": [
       "$ 6 $"
      ]
     },
     "metadata": {},
     "output_type": "display_data"
    }
   ],
   "source": [
    "App (App e1 (Lit 0)) e3\n",
    "eval (App (App e1 (Lit 0)) e3) []"
   ]
  },
  {
   "cell_type": "code",
   "execution_count": 21,
   "metadata": {},
   "outputs": [
    {
     "ename": "",
     "evalue": "",
     "header": "MessageHeader {mhIdentifiers = [\"e31036e5-1ac8-41e1-abc9-9f219d5110ca\"], mhParentHeader = Just (MessageHeader {mhIdentifiers = [\"e31036e5-1ac8-41e1-abc9-9f219d5110ca\"], mhParentHeader = Nothing, mhMetadata = Metadata (fromList [(\"recordTiming\",Bool False),(\"deletedCells\",Array []),(\"cellId\",String \"46860aec-e09e-45f5-962e-82e32a3a2ace\")]), mhMessageId = UUID {uuidToString = \"f2071e60-afb7-4aef-b1f9-da2cca47ce0a\"}, mhSessionId = UUID {uuidToString = \"e31036e5-1ac8-41e1-abc9-9f219d5110ca\"}, mhUsername = \"\", mhMsgType = ExecuteRequestMessage, mhBuffers = []}), mhMetadata = Metadata (fromList []), mhMessageId = UUID {uuidToString = \"35e5db3f-be2e-41b2-9063-b7815535077a\"}, mhSessionId = UUID {uuidToString = \"e31036e5-1ac8-41e1-abc9-9f219d5110ca\"}, mhUsername = \"\", mhMsgType = ExecuteErrorMessage, mhBuffers = []}",
     "output_type": "error",
     "traceback": [
      "x not defined\nCallStack (from HasCallStack):\n  error, called at <interactive>:3:35 in interactive:Ghci110"
     ]
    }
   ],
   "source": [
    "eval (Var \"x\") []"
   ]
  },
  {
   "cell_type": "code",
   "execution_count": 22,
   "metadata": {},
   "outputs": [
    {
     "ename": "",
     "evalue": "",
     "header": "MessageHeader {mhIdentifiers = [\"e31036e5-1ac8-41e1-abc9-9f219d5110ca\"], mhParentHeader = Just (MessageHeader {mhIdentifiers = [\"e31036e5-1ac8-41e1-abc9-9f219d5110ca\"], mhParentHeader = Nothing, mhMetadata = Metadata (fromList [(\"recordTiming\",Bool False),(\"deletedCells\",Array []),(\"cellId\",String \"7a3650a6-e711-4f93-bc5a-9a8a7b0640fd\")]), mhMessageId = UUID {uuidToString = \"5235da6f-28e7-4fd1-b780-fb67e750c81e\"}, mhSessionId = UUID {uuidToString = \"e31036e5-1ac8-41e1-abc9-9f219d5110ca\"}, mhUsername = \"\", mhMsgType = ExecuteRequestMessage, mhBuffers = []}), mhMetadata = Metadata (fromList []), mhMessageId = UUID {uuidToString = \"8efb756d-ce2e-4c6a-9fc8-5ab063ab4d4a\"}, mhSessionId = UUID {uuidToString = \"e31036e5-1ac8-41e1-abc9-9f219d5110ca\"}, mhUsername = \"\", mhMsgType = ExecuteErrorMessage, mhBuffers = []}",
     "output_type": "error",
     "traceback": [
      " 3  not closure\nCallStack (from HasCallStack):\n  error, called at <interactive>:9:37 in interactive:Ghci110"
     ]
    }
   ],
   "source": [
    "eval (Lit 3 `App` Lit 1) []"
   ]
  },
  {
   "cell_type": "code",
   "execution_count": 24,
   "metadata": {},
   "outputs": [
    {
     "ename": "",
     "evalue": "",
     "header": "MessageHeader {mhIdentifiers = [\"e31036e5-1ac8-41e1-abc9-9f219d5110ca\"], mhParentHeader = Just (MessageHeader {mhIdentifiers = [\"e31036e5-1ac8-41e1-abc9-9f219d5110ca\"], mhParentHeader = Nothing, mhMetadata = Metadata (fromList [(\"recordTiming\",Bool False),(\"deletedCells\",Array []),(\"cellId\",String \"fd1ee8ea-d2d5-44e1-bd17-241d0b018432\")]), mhMessageId = UUID {uuidToString = \"57617605-d500-474f-a72f-cc4b451fef12\"}, mhSessionId = UUID {uuidToString = \"e31036e5-1ac8-41e1-abc9-9f219d5110ca\"}, mhUsername = \"\", mhMsgType = ExecuteRequestMessage, mhBuffers = []}), mhMetadata = Metadata (fromList []), mhMessageId = UUID {uuidToString = \"76d476f0-74e9-4689-add7-87d2df99e22b\"}, mhSessionId = UUID {uuidToString = \"e31036e5-1ac8-41e1-abc9-9f219d5110ca\"}, mhUsername = \"\", mhMsgType = ExecuteErrorMessage, mhBuffers = []}",
     "output_type": "error",
     "traceback": [
      "\\langle \\lambda x{:}\\mathbb{Z}.x,\\{\\}\\rangle  not int\nCallStack (from HasCallStack):\n  error, called at <interactive>:15:38 in interactive:Ghci110"
     ]
    }
   ],
   "source": [
    "eval (Lit 3 `Add` (Lam \"x\" Z $ Var \"x\")) []"
   ]
  },
  {
   "cell_type": "markdown",
   "metadata": {},
   "source": [
    "$~$\\vspace*{-1ex}\\newline\\indent\n",
    "이제 주어진 자연수 $i$에 대해 0부터 $i$까지의 총합을 구하는 재귀적 계산을 FACT언어로 작성해 보자."
   ]
  },
  {
   "cell_type": "code",
   "execution_count": 29,
   "metadata": {},
   "outputs": [
    {
     "data": {
      "text/latex": [
       "$\\textbf{rec}\\,f\\, (\\lambda i{:}\\mathbb{Z}.\\textbf{if}\\;i\\;\\textbf{then}\\;i+f\\;(i+-1)\\;\\textbf{else}\\;i)$"
      ]
     },
     "metadata": {},
     "output_type": "display_data"
    },
    {
     "data": {
      "text/latex": [
       "$\\textbf{rec}\\,f\\, (\\lambda i{:}\\mathbb{Z}.\\textbf{if}\\;i\\;\\textbf{then}\\;i+f\\;(i+-1)\\;\\textbf{else}\\;i)\\;100$"
      ]
     },
     "metadata": {},
     "output_type": "display_data"
    }
   ],
   "source": [
    "e4 = Rec \"f\" . Lam \"i\" Z $ If i (i `Add` App f (i `Add` Lit (-1))) i\n",
    "    where f = Var \"f\"\n",
    "          i = Var \"i\"\n",
    "e4 -- rec f (\\i.if i then i + f(i + -1) else i)"
   ]
  },
  {
   "cell_type": "markdown",
   "metadata": {},
   "source": [
    "고정점 조합자 $Z$를 FAC언어로 옮긴 `cZ`를 위의 람다식 `e4`에 적용한 `App cZ e4`가\n",
    "바로 우리가 정의하려던 주어진 자연수에 대한 총합을 재귀적으로 계산하는 함수를 FAC언어로 표현한 것이다.\n",
    "실제로, 0에서 주어진 정수 `i`까지의 총합을 계산하는 FAC언어로 작성된 함수(`App cZ e4`)를\n",
    "아래와 같이 100까지의 합을 구하도록 테스트해 보면 예상대로 0부터 100까지의 합인 5050이 계산됨 확인할 수 있다."
   ]
  },
  {
   "cell_type": "code",
   "execution_count": 30,
   "metadata": {},
   "outputs": [
    {
     "ename": "",
     "evalue": "",
     "header": "MessageHeader {mhIdentifiers = [\"e31036e5-1ac8-41e1-abc9-9f219d5110ca\"], mhParentHeader = Just (MessageHeader {mhIdentifiers = [\"e31036e5-1ac8-41e1-abc9-9f219d5110ca\"], mhParentHeader = Nothing, mhMetadata = Metadata (fromList [(\"recordTiming\",Bool False),(\"deletedCells\",Array []),(\"cellId\",String \"f1ffdc32-a1b1-4515-942e-3aab174e4156\")]), mhMessageId = UUID {uuidToString = \"5b00e83f-b43f-4305-a52f-fa7de256ee3a\"}, mhSessionId = UUID {uuidToString = \"e31036e5-1ac8-41e1-abc9-9f219d5110ca\"}, mhUsername = \"\", mhMsgType = ExecuteRequestMessage, mhBuffers = []}), mhMetadata = Metadata (fromList []), mhMessageId = UUID {uuidToString = \"2c83e934-8db1-4897-add1-7632afdeea7f\"}, mhSessionId = UUID {uuidToString = \"e31036e5-1ac8-41e1-abc9-9f219d5110ca\"}, mhUsername = \"\", mhMsgType = ExecuteErrorMessage, mhBuffers = []}",
     "output_type": "error",
     "traceback": [
      "Prelude.undefined\nCallStack (from HasCallStack):\n  error, called at libraries/base/GHC/Err.hs:79:14 in base:GHC.Err\n  undefined, called at <interactive>:6:34 in interactive:Ghci110"
     ]
    }
   ],
   "source": [
    "-- rec f (\\i.if i then i + f(i + -1) else i) 100\n",
    "eval (e4`App` Lit 100) [] -- 100부터 0까지의 총합"
   ]
  },
  {
   "cell_type": "markdown",
   "metadata": {},
   "source": [
    "\\section*{연습문제}\n",
    "1. 아직 고정점 조합자의 활용이 정확히 이해되지 않는다면 0부터 2까지의 총합을 구하는 식\n",
    "   $Z~(\\lambda f.\\lambda i.\\textbf{if}~i~\\textbf{then}~i+f\\,(i+({-}1))~\\textbf{else}~i)~2$의 계산 과정을\n",
    "   (치환 기반의 작은걸음 의미구조처럼) 한 단계씩 손으로 전개해 보라.\n",
    "\n",
    "\\begin{comment}\n",
    "100은 너무 길어지니까 2정도로만 람다식을 손으로 전개해 보자.\n",
    "```\n",
    "cZ e4 2\n",
    "= (\\f.(\\x.f(\\z.xxz)) (\\x.f(\\z.xxz))) e4 2\n",
    "= (\\x.e4(\\z.xxz)) (\\x.e4(\\z.xxz)) 2    여기서 w = (\\x.e4(\\z.xxz))라고 하자\n",
    "= (\\x.e4(\\z.xxz)) w 2\n",
    "= e4 (\\z.w w z) 2\n",
    "= (\\f.\\i.if i then i + f (i + -1) else i) (\\z.w w z) 2\n",
    "= (\\i.if i then i + (\\z.w w z) (i + -1) else i) 2\n",
    "= if 2 then 2 + (\\z.w w z) (2 + -1) else 2\n",
    "= 2 + (\\z.w w z) 1\n",
    "= 2 + w w 1\n",
    "= 2 + (\\x.e4(\\z.xxz)) w 1\n",
    "= 2 + e4 (\\z.w w z) 1\n",
    "= 2 + (\\f.\\i.if i then i + f (i + -1) else i) (\\z.w w z) 1\n",
    "= 2 + (\\i.if i then i + (\\z.w w z) (i + -1) else i) 1\n",
    "= 2 + if 1 then 1 + (\\z.w w z) (1 + -1) else 1\n",
    "= 2 + 1 + (\\z.w w z) (1 + -1)\n",
    "= 2 + 1 + w w 0\n",
    "= 2 + 1 + (\\x.e4(\\z.xxz)) w 0\n",
    "= 2 + 1 + e4 (\\z.w w z) 0\n",
    "= 2 + 1 + (\\f.\\i.if i then i + f (i + -1) else i) (\\z.w w z) 0\n",
    "= ...\n",
    "= 2 + 1 + if 0 then 0 + f (0 + -1) else 0\n",
    "= 2 + 1 + 0\n",
    "```\n",
    "\\end{comment}"
   ]
  },
  {
   "cell_type": "code",
   "execution_count": null,
   "metadata": {},
   "outputs": [],
   "source": []
  }
 ],
 "metadata": {
  "kernelspec": {
   "display_name": "Haskell",
   "language": "haskell",
   "name": "haskell"
  },
  "language_info": {
   "codemirror_mode": "ihaskell",
   "file_extension": ".hs",
   "mimetype": "text/x-haskell",
   "name": "haskell",
   "pygments_lexer": "Haskell",
   "version": "8.10.7"
  }
 },
 "nbformat": 4,
 "nbformat_minor": 4
}
