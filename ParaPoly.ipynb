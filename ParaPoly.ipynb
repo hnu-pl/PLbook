{
 "cells": [
  {
   "cell_type": "code",
   "execution_count": 1,
   "id": "fdfeb369-993f-47a0-b060-b4d2dad6dd41",
   "metadata": {},
   "outputs": [],
   "source": [
    ":opt no-lint\n",
    "{-# LANGUAGE ScopedTypeVariables TypeApplications\n",
    "             RankNTypes          KindSignatures   #-}"
   ]
  },
  {
   "cell_type": "markdown",
   "id": "6638531f-b051-4a65-a17a-60ea4e6af5a3",
   "metadata": {},
   "source": [
    "## 계산이 끝나지 않는 람다식\n",
    "람다식 작은걸음 $(\\lambda x.x\\;x)\\;e_2 \\longmapsto e_2\\;e_2$를 생각해 보자.\n",
    "여기서 $e_2$가 적용하는 함수 $(\\lambda x.x\\;x)$와 똑같은 식인 경우에 어떤 일이 벌어질까?\n",
    "바로 아래와 같이 된다.\n",
    "\\newline\\indent\n",
    "$(\\lambda x.x\\;x)(\\lambda x.x\\;x) \\longmapsto (\\lambda x.x\\;x)(\\lambda x.x\\;x) \\longmapsto (\\lambda x.x\\;x)(\\lambda x.x\\;x) \\longmapsto \\ldots$\n",
    "\\newline\n",
    "$\\beta$규칙에 따라 함수 몸체 $x\\;x$에서 $x$를 $(\\lambda x.x\\;x)$로 바꿔치면\n",
    "원래 처음 시작했던 식인 $(\\lambda x.x\\;x)(\\lambda x.x\\;x)$가 되어버린다.\n",
    "그래서 아무리 여러 번 $\\beta$줄임을 반복해도 제자리걸음만 할 뿐 계산이 끝나지 않는다.\n",
    "이제 드브루인 인덱스(그림 \\ref{fig:ChurchDeBruijn})를 활용해 타입없는 람다계산법에서 끝나지\n",
    "않는 계산을 하스켈로 다뤄보자. 우선 람다계산법의 문법구조를 아래와 같은\n",
    "데이터 타입으로 선언한다."
   ]
  },
  {
   "cell_type": "code",
   "execution_count": 2,
   "id": "bfb2ab42-6b2c-4feb-9a76-b1baabe61980",
   "metadata": {},
   "outputs": [],
   "source": [
    "data DExpr = DI Int | DAbs DExpr | DApp DExpr DExpr deriving (Eq,Ord)"
   ]
  },
  {
   "cell_type": "code",
   "execution_count": 3,
   "id": "1cec482c-db7f-4965-b598-1229eccdca17",
   "metadata": {},
   "outputs": [],
   "source": [
    "-- GHC가 자동으로 deriving하는 Show 인스턴스가 아닌  더 간략한 출력을 위해\n",
    "instance Show DExpr where   -- 직접 작성한 DExpr에 대한 Show 인스턴스\n",
    "  showsPrec _ (DI i) = showString (show i)\n",
    "  showsPrec p (DAbs e) = showParen (p > 1) $\n",
    "              showString \"\\\\\" . showsPrec 1 e\n",
    "  showsPrec p (DApp e1 e2) = showParen (p > 9) $\n",
    "              showsPrec 9 e1 . showString \" \" . showsPrec 10 e2"
   ]
  },
  {
   "cell_type": "code",
   "execution_count": 4,
   "id": "1554b7f3-6a68-4abf-ad7d-fefe43695368",
   "metadata": {},
   "outputs": [
    {
     "data": {
      "text/plain": [
       "\\\\1 2"
      ]
     },
     "metadata": {},
     "output_type": "display_data"
    },
    {
     "data": {
      "text/plain": [
       "(\\1) (\\1)"
      ]
     },
     "metadata": {},
     "output_type": "display_data"
    },
    {
     "data": {
      "text/plain": [
       "\\1 1 1"
      ]
     },
     "metadata": {},
     "output_type": "display_data"
    },
    {
     "data": {
      "text/plain": [
       "\\1 (1 1)"
      ]
     },
     "metadata": {},
     "output_type": "display_data"
    }
   ],
   "source": [
    "DAbs (DAbs (DI 1 `DApp` DI 2))        -- \\x.\\y.x y\n",
    "DAbs (DI 1) `DApp` DAbs (DI 1)        -- (\\x.x)(\\x.x)\n",
    "DAbs ((DI 1 `DApp` DI 1) `DApp` DI 1) -- \\x.x x x\n",
    "DAbs (DI 1 `DApp` (DI 1 `DApp` DI 1)) -- \\x.x (x x)"
   ]
  },
  {
   "cell_type": "markdown",
   "id": "961735e2-14c8-4433-b74e-e69e33687f05",
   "metadata": {},
   "source": [
    "\\noindent\n",
    "그리고 매개변수에 넘겨받은 인자를\n",
    "\\index{자기 자신에 적용|see{self-application}}\\index{self-application|see{자기 자신에 적용}}자기 자신에 적용(self-appliation)하는 함수 $\\lambda x.x\\;x$는\n",
    "드브루인 인덱스를 활용한 표현으로는 $\\lambda 1~1$이다. 이를 `w`로 선언해 놓고 앞으로 의미구조를\n",
    "하스켈로 구현하여 `w w`가 제자리걸음함을 확인해 보자."
   ]
  },
  {
   "cell_type": "code",
   "execution_count": 5,
   "id": "3adbc89b-985d-4398-8d8a-43aa39bbb7e5",
   "metadata": {},
   "outputs": [
    {
     "data": {
      "text/plain": [
       "\\1 1"
      ]
     },
     "metadata": {},
     "output_type": "display_data"
    },
    {
     "data": {
      "text/plain": [
       "(\\1 1) (\\1 1)"
      ]
     },
     "metadata": {},
     "output_type": "display_data"
    }
   ],
   "source": [
    "w = DAbs (DI 1 `DApp` DI 1) -- \\x.x x\n",
    "\n",
    "w         -- self-application 함수인 w\n",
    "DApp w w  -- w를 자기 자신에 적용한 식"
   ]
  },
  {
   "cell_type": "markdown",
   "id": "130e5dc0-6e95-4b9d-85bf-e201da5b498b",
   "metadata": {},
   "source": [
    "작은걸음 의미구조는 $\\beta$규칙 및 맥락 규칙들로 정의할 수 있다.\n",
    "\\newline\\vspace*{-2ex}\n",
    "$$(\\lambda\\,e)\\;e_2 \\longmapsto \\;\\downarrow_0^1 \\{1{\\mapsto}(\\uparrow_0^1 e_2)\\}e$$\n",
    "$$\\frac{~ e_1\\longmapsto e_1'~}{~ e_1~e_2\\longmapsto e_1'~e_2 ~}\n",
    "\\qquad\\frac{~ e_2\\longmapsto e_2'~}{~ e_1~e_2\\longmapsto e_1~e_2' ~}\n",
    "\\qquad\\frac{~ e\\longmapsto e' ~}{~ \\lambda\\,e \\longmapsto \\lambda\\,e' ~}\n",
    "$$\n",
    "위에서 $\\downarrow_m^k$, $\\uparrow_m^k$와 바꿔치기 $\\{i{\\mapsto}e\\}$가 어떻게 동작하는지만 확실히 하면\n",
    "나머지 맥락 규칙에 대한 처리는 산술식 작은걸음 계산기인 `step`을 작성하듯 선언하면 된다.\n",
    "$\\downarrow_m^k = \\uparrow_m^{-k}$이며, 일반적으로 $\\downarrow_m^k e$는 식 $e$에서\n",
    "$m$보다 큰 드브루인 인덱스를 $k$만큼씩 증가시킨 식을 나타내는 표현으로 왼쪽 아래처럼 정의할 수 있다.\n",
    "함수요약식에 대한 정의에서 함수 전체에는 $m$이다가 함수 몸체에서 $m+1$이\n",
    "되는 이유는 바인더 $\\lambda$가 한 겹 더 감싸진 몸체 안에서는 그 바깥에서와\n",
    "같은 대상을 나타내는 드브루인 인덱스가 1씩  더 큰 수가 되기 때문이다.\n",
    "바꿔치기 $\\{i{\\mapsto}e\\}$는 $\\uparrow_m^k$ 표현을 활용해 오른쪽 아래와 같이 정의할 수 있다.\n",
    "$$\\begin{array}{ll}\n",
    "\\uparrow_m^k i \n",
    "\\!\\!\\!\\!&= \\begin{cases}i+k & (i>m) \\\\ i & (i\\le m)\\end{cases} \\\\\n",
    "\\uparrow_m^k (\\lambda\\,e)\n",
    "\\!\\!\\!\\!&=~ \\lambda\\,(\\uparrow_{m{+}1}^k e) \\\\\n",
    "\\uparrow_m^k (e_1\\;e_2)\n",
    "\\!\\!\\!\\!&=~ (\\uparrow_m^k e_1)\\;(\\uparrow_m^k e_2)\n",
    "\\end{array}\n",
    "\\qquad~~\n",
    "\\begin{array}{ll}\n",
    "\\{i{\\mapsto}e\\}j \n",
    "\\!\\!\\!\\!&= \\begin{cases}e & (i=j) \\\\ j & (i\\neq j)\\end{cases}\\\\\n",
    "\\{i{\\mapsto}e\\}(\\lambda\\, e_1) \n",
    "\\!\\!\\!\\!&=~ \\lambda\\, \\left\\{(i{+}1){\\mapsto}(\\uparrow_0^1 e)\\right\\}e_1 \\\\\n",
    "\\{i{\\mapsto}e\\}(e_1\\;e_2)\n",
    "\\!\\!\\!\\!&=~ \\{i{\\mapsto}e\\}e_1~\\{i{\\mapsto}e\\}e_2 \\\\\n",
    "\\end{array}$$\n",
    "위 정의를 하스켈로 옮기면 다음과 같다."
   ]
  },
  {
   "cell_type": "code",
   "execution_count": 6,
   "id": "c2d430e3-47d5-4f90-86ba-52fe8230cffd",
   "metadata": {},
   "outputs": [],
   "source": [
    "up m k (DI i)       = DI (if i>m then i+k else i)\n",
    "up m k (DAbs e)     = DAbs (up (m+1) k e)\n",
    "up m k (DApp e1 e2) = DApp (up m k e1) (up m k e2)\n",
    "\n",
    "dn m k = up m (-k)\n",
    "\n",
    "subst i e (DI j)       = if i==j then e else DI j\n",
    "subst i e (DAbs e1)    = DAbs (subst (i+1) (up 0 1 e) e1) \n",
    "subst i e (DApp e1 e2) = DApp (subst i e e1) (subst i e e2)"
   ]
  },
  {
   "cell_type": "code",
   "execution_count": 7,
   "id": "4cd4bb7c-7e54-44cd-891e-f4c210944a74",
   "metadata": {},
   "outputs": [
    {
     "data": {
      "text/html": [
       "<style>/* Styles used for the Hoogle display in the pager */\n",
       ".hoogle-doc {\n",
       "display: block;\n",
       "padding-bottom: 1.3em;\n",
       "padding-left: 0.4em;\n",
       "}\n",
       ".hoogle-code {\n",
       "display: block;\n",
       "font-family: monospace;\n",
       "white-space: pre;\n",
       "}\n",
       ".hoogle-text {\n",
       "display: block;\n",
       "}\n",
       ".hoogle-name {\n",
       "color: green;\n",
       "font-weight: bold;\n",
       "}\n",
       ".hoogle-head {\n",
       "font-weight: bold;\n",
       "}\n",
       ".hoogle-sub {\n",
       "display: block;\n",
       "margin-left: 0.4em;\n",
       "}\n",
       ".hoogle-package {\n",
       "font-weight: bold;\n",
       "font-style: italic;\n",
       "}\n",
       ".hoogle-module {\n",
       "font-weight: bold;\n",
       "}\n",
       ".hoogle-class {\n",
       "font-weight: bold;\n",
       "}\n",
       ".get-type {\n",
       "color: green;\n",
       "font-weight: bold;\n",
       "font-family: monospace;\n",
       "display: block;\n",
       "white-space: pre-wrap;\n",
       "}\n",
       ".show-type {\n",
       "color: green;\n",
       "font-weight: bold;\n",
       "font-family: monospace;\n",
       "margin-left: 1em;\n",
       "}\n",
       ".mono {\n",
       "font-family: monospace;\n",
       "display: block;\n",
       "}\n",
       ".err-msg {\n",
       "color: red;\n",
       "font-style: italic;\n",
       "font-family: monospace;\n",
       "white-space: pre;\n",
       "display: block;\n",
       "}\n",
       "#unshowable {\n",
       "color: red;\n",
       "font-weight: bold;\n",
       "}\n",
       ".err-msg.in.collapse {\n",
       "padding-top: 0.7em;\n",
       "}\n",
       ".highlight-code {\n",
       "white-space: pre;\n",
       "font-family: monospace;\n",
       "}\n",
       ".suggestion-warning { \n",
       "font-weight: bold;\n",
       "color: rgb(200, 130, 0);\n",
       "}\n",
       ".suggestion-error { \n",
       "font-weight: bold;\n",
       "color: red;\n",
       "}\n",
       ".suggestion-name {\n",
       "font-weight: bold;\n",
       "}\n",
       "</style><span class='get-type'>up :: Int -> Int -> DExpr -> DExpr</span>"
      ],
      "text/plain": [
       "up :: Int -> Int -> DExpr -> DExpr"
      ]
     },
     "metadata": {},
     "output_type": "display_data"
    },
    {
     "data": {
      "text/html": [
       "<style>/* Styles used for the Hoogle display in the pager */\n",
       ".hoogle-doc {\n",
       "display: block;\n",
       "padding-bottom: 1.3em;\n",
       "padding-left: 0.4em;\n",
       "}\n",
       ".hoogle-code {\n",
       "display: block;\n",
       "font-family: monospace;\n",
       "white-space: pre;\n",
       "}\n",
       ".hoogle-text {\n",
       "display: block;\n",
       "}\n",
       ".hoogle-name {\n",
       "color: green;\n",
       "font-weight: bold;\n",
       "}\n",
       ".hoogle-head {\n",
       "font-weight: bold;\n",
       "}\n",
       ".hoogle-sub {\n",
       "display: block;\n",
       "margin-left: 0.4em;\n",
       "}\n",
       ".hoogle-package {\n",
       "font-weight: bold;\n",
       "font-style: italic;\n",
       "}\n",
       ".hoogle-module {\n",
       "font-weight: bold;\n",
       "}\n",
       ".hoogle-class {\n",
       "font-weight: bold;\n",
       "}\n",
       ".get-type {\n",
       "color: green;\n",
       "font-weight: bold;\n",
       "font-family: monospace;\n",
       "display: block;\n",
       "white-space: pre-wrap;\n",
       "}\n",
       ".show-type {\n",
       "color: green;\n",
       "font-weight: bold;\n",
       "font-family: monospace;\n",
       "margin-left: 1em;\n",
       "}\n",
       ".mono {\n",
       "font-family: monospace;\n",
       "display: block;\n",
       "}\n",
       ".err-msg {\n",
       "color: red;\n",
       "font-style: italic;\n",
       "font-family: monospace;\n",
       "white-space: pre;\n",
       "display: block;\n",
       "}\n",
       "#unshowable {\n",
       "color: red;\n",
       "font-weight: bold;\n",
       "}\n",
       ".err-msg.in.collapse {\n",
       "padding-top: 0.7em;\n",
       "}\n",
       ".highlight-code {\n",
       "white-space: pre;\n",
       "font-family: monospace;\n",
       "}\n",
       ".suggestion-warning { \n",
       "font-weight: bold;\n",
       "color: rgb(200, 130, 0);\n",
       "}\n",
       ".suggestion-error { \n",
       "font-weight: bold;\n",
       "color: red;\n",
       "}\n",
       ".suggestion-name {\n",
       "font-weight: bold;\n",
       "}\n",
       "</style><span class='get-type'>dn :: Int -> Int -> DExpr -> DExpr</span>"
      ],
      "text/plain": [
       "dn :: Int -> Int -> DExpr -> DExpr"
      ]
     },
     "metadata": {},
     "output_type": "display_data"
    },
    {
     "data": {
      "text/html": [
       "<style>/* Styles used for the Hoogle display in the pager */\n",
       ".hoogle-doc {\n",
       "display: block;\n",
       "padding-bottom: 1.3em;\n",
       "padding-left: 0.4em;\n",
       "}\n",
       ".hoogle-code {\n",
       "display: block;\n",
       "font-family: monospace;\n",
       "white-space: pre;\n",
       "}\n",
       ".hoogle-text {\n",
       "display: block;\n",
       "}\n",
       ".hoogle-name {\n",
       "color: green;\n",
       "font-weight: bold;\n",
       "}\n",
       ".hoogle-head {\n",
       "font-weight: bold;\n",
       "}\n",
       ".hoogle-sub {\n",
       "display: block;\n",
       "margin-left: 0.4em;\n",
       "}\n",
       ".hoogle-package {\n",
       "font-weight: bold;\n",
       "font-style: italic;\n",
       "}\n",
       ".hoogle-module {\n",
       "font-weight: bold;\n",
       "}\n",
       ".hoogle-class {\n",
       "font-weight: bold;\n",
       "}\n",
       ".get-type {\n",
       "color: green;\n",
       "font-weight: bold;\n",
       "font-family: monospace;\n",
       "display: block;\n",
       "white-space: pre-wrap;\n",
       "}\n",
       ".show-type {\n",
       "color: green;\n",
       "font-weight: bold;\n",
       "font-family: monospace;\n",
       "margin-left: 1em;\n",
       "}\n",
       ".mono {\n",
       "font-family: monospace;\n",
       "display: block;\n",
       "}\n",
       ".err-msg {\n",
       "color: red;\n",
       "font-style: italic;\n",
       "font-family: monospace;\n",
       "white-space: pre;\n",
       "display: block;\n",
       "}\n",
       "#unshowable {\n",
       "color: red;\n",
       "font-weight: bold;\n",
       "}\n",
       ".err-msg.in.collapse {\n",
       "padding-top: 0.7em;\n",
       "}\n",
       ".highlight-code {\n",
       "white-space: pre;\n",
       "font-family: monospace;\n",
       "}\n",
       ".suggestion-warning { \n",
       "font-weight: bold;\n",
       "color: rgb(200, 130, 0);\n",
       "}\n",
       ".suggestion-error { \n",
       "font-weight: bold;\n",
       "color: red;\n",
       "}\n",
       ".suggestion-name {\n",
       "font-weight: bold;\n",
       "}\n",
       "</style><span class='get-type'>subst :: Int -> DExpr -> DExpr -> DExpr</span>"
      ],
      "text/plain": [
       "subst :: Int -> DExpr -> DExpr -> DExpr"
      ]
     },
     "metadata": {},
     "output_type": "display_data"
    }
   ],
   "source": [
    ":type up\n",
    ":type dn\n",
    ":type subst"
   ]
  },
  {
   "cell_type": "markdown",
   "id": "cac60f00-d352-4ff6-8115-768348462076",
   "metadata": {},
   "source": [
    "\\noindent\n",
    "위의 `up`, `dn`, `subst`를 활용해 다음과 같이 하스켈로 $\\beta$규칙을 작성할 수 있다."
   ]
  },
  {
   "cell_type": "code",
   "execution_count": 8,
   "id": "8f9030fc-2336-43f9-be2e-1d3bc9cf712e",
   "metadata": {},
   "outputs": [],
   "source": [
    "beta :: DExpr -> [DExpr]  -- 일단 베타 규칙만 작성\n",
    "beta (DApp (DAbs e) e2) = [ dn 0 1 (subst 1 (up 0 1 e2) e) ]\n",
    "beta _                  = []"
   ]
  },
  {
   "cell_type": "code",
   "execution_count": 9,
   "id": "5f2fd4d1-3bbe-427e-b82e-0baac791235a",
   "metadata": {},
   "outputs": [
    {
     "data": {
      "text/plain": [
       "(\\1 1) (\\1 1)"
      ]
     },
     "metadata": {},
     "output_type": "display_data"
    },
    {
     "data": {
      "text/plain": [
       "[(\\1 1) (\\1 1)]"
      ]
     },
     "metadata": {},
     "output_type": "display_data"
    }
   ],
   "source": [
    "DApp w w        -- (\\x.x) (\\x.x)\n",
    "beta (DApp w w) -- 제자리걸음 확인!"
   ]
  },
  {
   "cell_type": "code",
   "execution_count": 10,
   "id": "50b5f79a-4d4d-4dd6-b8ed-b4fc3029bd7c",
   "metadata": {},
   "outputs": [],
   "source": [
    "step :: DExpr -> [DExpr]\n",
    "step (DI _)       = []\n",
    "step (DApp e1 e2) = undefined -- undefined 대신 의미규칙대로\n",
    "step (DAbs e)     = undefined -- step 함수를 완성하는 연습문제"
   ]
  },
  {
   "cell_type": "raw",
   "id": "984897f2-a8aa-4009-bdeb-4cdfea4f0847",
   "metadata": {},
   "source": [
    "\\begin{comment}"
   ]
  },
  {
   "cell_type": "code",
   "execution_count": 11,
   "id": "e4942311-8700-4ed1-9da9-f944b1bb115e",
   "metadata": {},
   "outputs": [],
   "source": [
    "step :: DExpr -> [DExpr]\n",
    "step (DI _)       = []\n",
    "step (DApp e1 e2) = beta (DApp e1 e2)\n",
    "                 ++ [DApp e1' e2 | e1' <- step e1]\n",
    "                 ++ [DApp e1 e2' | e2' <- step e2]\n",
    "step (DAbs e)     = [DAbs e' | e' <- step e]"
   ]
  },
  {
   "cell_type": "raw",
   "id": "72f9bf58-1a43-44fb-bb21-3e0bc80e9506",
   "metadata": {},
   "source": [
    "\\end{comment}"
   ]
  },
  {
   "cell_type": "code",
   "execution_count": 12,
   "id": "0a1a70be-8779-422b-bcd3-a28a1256af40",
   "metadata": {},
   "outputs": [
    {
     "data": {
      "text/plain": [
       "\\(\\\\1 2 3) (\\\\1 3)"
      ]
     },
     "metadata": {},
     "output_type": "display_data"
    },
    {
     "data": {
      "text/plain": [
       "[\\\\1 (\\\\1 4) 2]"
      ]
     },
     "metadata": {},
     "output_type": "display_data"
    }
   ],
   "source": [
    "-- step이 제대로 동작하는지 다음 내용으로 테스트해 보라\n",
    "eee1 = DAbs . DAbs $ DI 1 `DApp` DI 2 `DApp` DI 3\n",
    "eee2 = DAbs . DAbs $ DI 1 `DApp` DI 3\n",
    "DAbs $ DApp eee1 eee2 -- \\x.(\\y.\\z.z y x) (\\w.\\v.v x)\n",
    "step it               -- \\x.\\y.\\z.z (\\w.\\v.v x) x"
   ]
  },
  {
   "cell_type": "markdown",
   "id": "ead8d116-e3c4-4a5c-8375-db1b86a9ab4f",
   "metadata": {},
   "source": [
    "## 타입없는 람다계산법에서 고정점(fixpoint)\n",
    "\\label{sec:fixpoint}\n",
    "수학에서 함수 $f$의 고정점(fixpoint)이란 $x \\equiv f(x)$인 $x$를 말한다.\n",
    "\\index{타입없는 람다계산법}\\index{untyped $\\lambda$-calculus}타입없는 람다계산법에는 아무 함수에 적용해 그 함수의 고정점을 계산하는\n",
    "\\index{고정점 조합자|see{fixpoint combinator}}\\index{fixpoint combinator|see{고정점 조합자}}고정점 조합자(fixpoint combinator)가 여럿 존재한다.\n",
    "하스켈 커리가 발견한 $Y=\\lambda f.(\\lambda x.f\\,(x\\;x))\\,(\\lambda x.f\\,(x\\;x))$는\n",
    "\\index{Y-combinator|see{Y조합자}}\\index{Y조합자|see{Y-combinator}}\n",
    "Y조합자(Y-combinator)라 불리는 람다계산법의 대표적인 고정점 조합자로,\n",
    "다음과 같이 $Y\\,f \\equiv_\\beta f(Y\\,f)$를 만족함을 보일 수 있다.\\vspace*{-2ex}\n",
    "\\begin{align*}\n",
    "Y\\,f \\longmapsto (\\lambda x.f\\,(x\\;x))\\,(\\lambda x.f\\,(x\\;x)) \\longmapsto f\\,((\\lambda x.f\\,(x\\;x))\\,(\\lambda x.f\\,(x\\;x))) &\\\\\n",
    "f(Y\\,f) \\longmapsto f\\,((\\lambda x.f\\,(x\\;x))\\,(\\lambda x.f\\,(x\\;x))) &\n",
    "\\end{align*}\n",
    "이런 고정점의 성질을 활용하면\n",
    "$Y\\,f \\equiv_\\beta f(Y\\,f) \\equiv_\\beta f(f(Y\\,f)) \\equiv_\\beta \\cdots$처럼\n",
    "함수 $f$를 몇 번이고 반복해서 적용하는 계산을 표현할 수 있다.\n",
    "\n",
    "Y조합자를 드브루인 인덱스를 활용하는 람다식을 나타내는 하스켈 데이터 타입인 `DExpr`로\n",
    "표현하여 다음과 같이 `yC`로 선언하자."
   ]
  },
  {
   "cell_type": "code",
   "execution_count": 13,
   "id": "5aead6dc-db56-41aa-97db-a22045da1a50",
   "metadata": {},
   "outputs": [],
   "source": [
    "yC = DAbs (DApp e211 e211) -- \\f.(\\x.f(x x))(\\x.f(x x))\n",
    "   where e211 = DAbs (DApp (DI 2) (DI 1 `DApp` DI 1))"
   ]
  },
  {
   "cell_type": "code",
   "execution_count": 14,
   "id": "aec5d4ef-0046-42f8-ae0c-a2a98d9efcc4",
   "metadata": {},
   "outputs": [
    {
     "data": {
      "text/plain": [
       "\\(\\2 (1 1)) (\\2 (1 1))"
      ]
     },
     "metadata": {},
     "output_type": "display_data"
    }
   ],
   "source": [
    "yC -- 드브루인 인덱스로 나타낸 Y조합자"
   ]
  },
  {
   "cell_type": "markdown",
   "id": "b457c357-c706-42c0-83a6-8429d874ccc2",
   "metadata": {},
   "source": [
    "\\newpage\n",
    "Y조합자를 항등함수($\\lambda z.z$)에 적용하면 세 작은걸음만에 앞서 살펴본 계산이 끝나지 않는 람다식을 유도할 수 있다. \n",
    "\\vspace*{-2ex}\n",
    "\\begin{align*}\n",
    "(\\lambda f.(\\lambda x.f\\,(x\\;x))\\,(\\lambda x.f\\,(x\\;x)))~(\\lambda z.z)\n",
    "\\longmapsto\\;& (\\lambda x.(\\lambda z.z)(x\\;x))\\,(\\lambda x.(\\lambda z.z)(x\\;x)) \\\\\n",
    "\\longmapsto\\;& (\\lambda x.x\\;x)\\,(\\lambda x.(\\lambda z.z)(x\\;x)) \\\\\n",
    "\\longmapsto\\;& (\\lambda x.x\\;x)\\,(\\lambda x.x\\;x)\n",
    "\\end{align*}\n",
    "산술식에서처럼 `step`을 확장한 `step'`를 고차함수 `hat`을 통해 선언하자."
   ]
  },
  {
   "cell_type": "code",
   "execution_count": 15,
   "id": "12e647d6-6727-4a55-ab7e-9d9c13ddc98c",
   "metadata": {},
   "outputs": [],
   "source": [
    "import Data.List (nub)\n",
    "hat f es = nub (concat [f e| e <- es])\n",
    "\n",
    "step' :: [DExpr] -> [DExpr]\n",
    "step' = hat step"
   ]
  },
  {
   "cell_type": "code",
   "execution_count": 16,
   "id": "0126b435-4a40-4dbb-9331-908e15b1b230",
   "metadata": {},
   "outputs": [
    {
     "data": {
      "text/plain": [
       "(\\(\\2 (1 1)) (\\2 (1 1))) (\\1)"
      ]
     },
     "metadata": {},
     "output_type": "display_data"
    }
   ],
   "source": [
    "DApp yC (DAbs (DI 1)) -- yC (\\x.x)"
   ]
  },
  {
   "cell_type": "markdown",
   "id": "26f81df4-d247-4c12-a646-c8cb86d07831",
   "metadata": {},
   "source": [
    "`step'` 함수를 세 번 연달아 적용한 결과로 나오는 리스트의 모든 원소를\n",
    "다음과 같이 한 줄에 하나씩 출력해 보자. 앞서 `step` 함수를 제대로 완성했다면,\n",
    "아래의 출력 결과 중에 계산이 끝나지 않는 람다식\n",
    "$(\\lambda x.x~x)~(\\lambda x.x~x)$에 해당하는 `(\\1 1) (\\1 1)`도\n",
    "출력됨을 확인할 수 있을 것이다. 참고로 리스트의 원소들이 출력되는\n",
    "순서는 `step`을 작성한 방식에 달라질 수도 있다."
   ]
  },
  {
   "cell_type": "code",
   "execution_count": 17,
   "id": "01295262-ec84-4719-b785-ff95e373952d",
   "metadata": {},
   "outputs": [
    {
     "data": {
      "text/plain": [
       "(\\(\\1) (1 1)) (\\(\\1) (1 1))\n",
       "(\\1) ((\\1) ((\\(\\1) (1 1)) (\\(\\1) (1 1))))\n",
       "(\\1) ((\\1 1) (\\(\\1) (1 1)))\n",
       "(\\1) ((\\(\\1) (1 1)) (\\1 1))\n",
       "(\\1 1) (\\1 1)\n",
       "(\\1) ((\\1 1) (\\1 1))\n",
       "(\\1 (1 (1 ((\\2 (1 1)) (\\2 (1 1)))))) (\\1)"
      ]
     },
     "metadata": {},
     "output_type": "display_data"
    }
   ],
   "source": [
    "-- yC (\\x.x)로부터 세 작은걸음 진행한 모든 람다식을 한 줄에 하나씩 출력\n",
    "mapM_ print $ (step' . step' . step') [ DApp yC (DAbs (DI 1)) ]"
   ]
  },
  {
   "cell_type": "markdown",
   "id": "d55a6aca-9cea-4dbc-b48f-fb09632c4f33",
   "metadata": {},
   "source": [
    "## 하스켈에서 고정점 조합자 선언하기\n",
    "\\label{sec:fixHaskell}\n",
    "타입없는 람다계산법에서 자기 자신에 대한 적용(self-application)을\n",
    "이용해 끝나지 않는 계산을 표현하거나 Y조합자와 같은 고정점 조합자를\n",
    "람다식으로 정의할 수 있음을 알아보았다. 그렇지만 하스켈에서는 순수한\n",
    "람다식만으로 끝나지 않는 계산이나 고정점 조합자를 표현하기는 어렵다.\n",
    "왜냐하면 하스켈은 타입있는 람다계산법을 기반으로 하는데,\n",
    "타입있는 람다계산법에서는 자기 자신에 대한 적용 $x~x$에\n",
    "적절한 타입을 부여하기 어렵기 때문이다. 인자 부분인 오른쪽의\n",
    "$x:\\tau$라면 함수 부분인 왼쪽의 $x:\\tau\\to\\tau_1$여야 한다.\n",
    "단순타입 람다계산법(STLC)에서는 같은 식의 타입이\n",
    "$\\tau$이면서 $\\tau\\to\\tau_1$이기도 하기란 불가능하다. 앞으로 소개할\n",
    "다형 람다계산법에서는 자기 자신에 대한 적용에 타입을 부여할 수는 있지만\n",
    "무한한 계산을 표현할 수는 없다. 애초에 타입있는 람다계산법을 고안하게 된 동기가\n",
    "바로 끝없는 계산처럼 논리적 모순에 대응되는 람다식을 허용하지 않기 위해서다.\n",
    "그래서 튜링완전한 범용 함수형 언어에서는 람다식과 별도로\n",
    "재귀적 표현을 위한 문법요소를 제공한다."
   ]
  },
  {
   "cell_type": "code",
   "execution_count": 18,
   "id": "382488ac-8b02-4545-9169-f0d8e4cf1e15",
   "metadata": {},
   "outputs": [
    {
     "ename": "",
     "evalue": "",
     "output_type": "error",
     "traceback": [
      "<interactive>:1:9: error:\n    • Occurs check: cannot construct the infinite type: t ~ t -> t1\n    • In the first argument of ‘x’, namely ‘x’\n      In the expression: x x\n      In the expression: \\ x -> x x\n    • Relevant bindings include x :: t -> t1 (bound at <interactive>:1:2)"
     ]
    }
   ],
   "source": [
    ":type \\x -> x x  -- 하스켈에서 self-application 람다식은 타입 오류"
   ]
  },
  {
   "cell_type": "markdown",
   "id": "96a2e557-458b-41d7-a595-0f340d26f65e",
   "metadata": {},
   "source": [
    "그런데 만일 하스켈에서 딱 한 번만 재귀함수를 선언할 수 있고 다른 곳에서는\n",
    "재귀적인 표현을 허용하지 않도록 제약을 가한다면 우리는 어떤 재귀함수를 선언해야 할까?\n",
    "다음과 같이 고정점 조합자를 딱 한 번만 선언하면 다른 곳에서 재귀적 표현이 금지되더라도\n",
    "일반적인 재귀함수를 얼마든지 만들어낼 수 있다."
   ]
  },
  {
   "cell_type": "code",
   "execution_count": 19,
   "id": "7b13c1e6-b5f9-4137-a187-5ad8fea9cb7c",
   "metadata": {},
   "outputs": [],
   "source": [
    "fix f = f (fix f) -- 고정점 조합자의 성질을 재귀함수로 선언"
   ]
  },
  {
   "cell_type": "code",
   "execution_count": 20,
   "id": "08a765e7-9114-4d80-a533-5bbfe805ce46",
   "metadata": {},
   "outputs": [
    {
     "data": {
      "text/html": [
       "<style>/* Styles used for the Hoogle display in the pager */\n",
       ".hoogle-doc {\n",
       "display: block;\n",
       "padding-bottom: 1.3em;\n",
       "padding-left: 0.4em;\n",
       "}\n",
       ".hoogle-code {\n",
       "display: block;\n",
       "font-family: monospace;\n",
       "white-space: pre;\n",
       "}\n",
       ".hoogle-text {\n",
       "display: block;\n",
       "}\n",
       ".hoogle-name {\n",
       "color: green;\n",
       "font-weight: bold;\n",
       "}\n",
       ".hoogle-head {\n",
       "font-weight: bold;\n",
       "}\n",
       ".hoogle-sub {\n",
       "display: block;\n",
       "margin-left: 0.4em;\n",
       "}\n",
       ".hoogle-package {\n",
       "font-weight: bold;\n",
       "font-style: italic;\n",
       "}\n",
       ".hoogle-module {\n",
       "font-weight: bold;\n",
       "}\n",
       ".hoogle-class {\n",
       "font-weight: bold;\n",
       "}\n",
       ".get-type {\n",
       "color: green;\n",
       "font-weight: bold;\n",
       "font-family: monospace;\n",
       "display: block;\n",
       "white-space: pre-wrap;\n",
       "}\n",
       ".show-type {\n",
       "color: green;\n",
       "font-weight: bold;\n",
       "font-family: monospace;\n",
       "margin-left: 1em;\n",
       "}\n",
       ".mono {\n",
       "font-family: monospace;\n",
       "display: block;\n",
       "}\n",
       ".err-msg {\n",
       "color: red;\n",
       "font-style: italic;\n",
       "font-family: monospace;\n",
       "white-space: pre;\n",
       "display: block;\n",
       "}\n",
       "#unshowable {\n",
       "color: red;\n",
       "font-weight: bold;\n",
       "}\n",
       ".err-msg.in.collapse {\n",
       "padding-top: 0.7em;\n",
       "}\n",
       ".highlight-code {\n",
       "white-space: pre;\n",
       "font-family: monospace;\n",
       "}\n",
       ".suggestion-warning { \n",
       "font-weight: bold;\n",
       "color: rgb(200, 130, 0);\n",
       "}\n",
       ".suggestion-error { \n",
       "font-weight: bold;\n",
       "color: red;\n",
       "}\n",
       ".suggestion-name {\n",
       "font-weight: bold;\n",
       "}\n",
       "</style><span class='get-type'>fix :: forall t. (t -> t) -> t</span>"
      ],
      "text/plain": [
       "fix :: forall t. (t -> t) -> t"
      ]
     },
     "metadata": {},
     "output_type": "display_data"
    }
   ],
   "source": [
    ":type fix"
   ]
  },
  {
   "cell_type": "markdown",
   "id": "3a303dd7-87af-4ea9-9af1-fd3b1ebf407d",
   "metadata": {},
   "source": [
    "정수 $n$을 받아 팩토리얼 $n!$를 계산하는 함수를 두 가지 방법으로 선언하여 비교해 보자.\n",
    "처음에는 직접 재귀함수로 선언해 보고, 그 다음에는\n",
    "고정점 조합자 `fix`와 다른 재귀적이지 않은 함수를 활용해 선언해 보겠다.\n",
    "프로그램의 단순화를 위해 팩토리얼 함수를 음수에 적용하는 것은 고려하지 않고\n",
    "0이상의 자연수에만 적용한다고 가정하자."
   ]
  },
  {
   "cell_type": "code",
   "execution_count": 21,
   "id": "b2d81d0b-62ef-414e-92d6-bbd7c3315bea",
   "metadata": {},
   "outputs": [],
   "source": [
    "fact :: Integer -> Integer -- 직접 재귀함수로 팩토리얼 선언\n",
    "fact 0 = 1                 -- 0! = 1\n",
    "fact n = n * fact (n-1)    -- n! = n * (n-1)!"
   ]
  },
  {
   "cell_type": "code",
   "execution_count": 22,
   "id": "ec55001c-6984-4c2c-9948-217b7a3315e7",
   "metadata": {},
   "outputs": [
    {
     "data": {
      "text/plain": [
       "1"
      ]
     },
     "metadata": {},
     "output_type": "display_data"
    },
    {
     "data": {
      "text/plain": [
       "120"
      ]
     },
     "metadata": {},
     "output_type": "display_data"
    }
   ],
   "source": [
    "fact 0\n",
    "fact 5"
   ]
  },
  {
   "cell_type": "code",
   "execution_count": 23,
   "id": "344a7ac1-0bba-42a1-8622-13fafd66fdea",
   "metadata": {},
   "outputs": [],
   "source": [
    "factF :: (Integer -> Integer) -> (Integer -> Integer)\n",
    "factF f 0 = 1           -- f를 원래 파라미터 앞에 추가\n",
    "factF f n = n * f (n-1) -- 재귀함수 호출 위치에 f 사용\n",
    "\n",
    "fact' = fix factF -- 고정점 조합자를 활용한 팩토리얼 선언"
   ]
  },
  {
   "cell_type": "code",
   "execution_count": 24,
   "id": "8f305cdc-8764-463e-a124-ce13d3975f9c",
   "metadata": {},
   "outputs": [
    {
     "data": {
      "text/html": [
       "<style>/* Styles used for the Hoogle display in the pager */\n",
       ".hoogle-doc {\n",
       "display: block;\n",
       "padding-bottom: 1.3em;\n",
       "padding-left: 0.4em;\n",
       "}\n",
       ".hoogle-code {\n",
       "display: block;\n",
       "font-family: monospace;\n",
       "white-space: pre;\n",
       "}\n",
       ".hoogle-text {\n",
       "display: block;\n",
       "}\n",
       ".hoogle-name {\n",
       "color: green;\n",
       "font-weight: bold;\n",
       "}\n",
       ".hoogle-head {\n",
       "font-weight: bold;\n",
       "}\n",
       ".hoogle-sub {\n",
       "display: block;\n",
       "margin-left: 0.4em;\n",
       "}\n",
       ".hoogle-package {\n",
       "font-weight: bold;\n",
       "font-style: italic;\n",
       "}\n",
       ".hoogle-module {\n",
       "font-weight: bold;\n",
       "}\n",
       ".hoogle-class {\n",
       "font-weight: bold;\n",
       "}\n",
       ".get-type {\n",
       "color: green;\n",
       "font-weight: bold;\n",
       "font-family: monospace;\n",
       "display: block;\n",
       "white-space: pre-wrap;\n",
       "}\n",
       ".show-type {\n",
       "color: green;\n",
       "font-weight: bold;\n",
       "font-family: monospace;\n",
       "margin-left: 1em;\n",
       "}\n",
       ".mono {\n",
       "font-family: monospace;\n",
       "display: block;\n",
       "}\n",
       ".err-msg {\n",
       "color: red;\n",
       "font-style: italic;\n",
       "font-family: monospace;\n",
       "white-space: pre;\n",
       "display: block;\n",
       "}\n",
       "#unshowable {\n",
       "color: red;\n",
       "font-weight: bold;\n",
       "}\n",
       ".err-msg.in.collapse {\n",
       "padding-top: 0.7em;\n",
       "}\n",
       ".highlight-code {\n",
       "white-space: pre;\n",
       "font-family: monospace;\n",
       "}\n",
       ".suggestion-warning { \n",
       "font-weight: bold;\n",
       "color: rgb(200, 130, 0);\n",
       "}\n",
       ".suggestion-error { \n",
       "font-weight: bold;\n",
       "color: red;\n",
       "}\n",
       ".suggestion-name {\n",
       "font-weight: bold;\n",
       "}\n",
       "</style><span class='get-type'>fact' :: Integer -> Integer</span>"
      ],
      "text/plain": [
       "fact' :: Integer -> Integer"
      ]
     },
     "metadata": {},
     "output_type": "display_data"
    }
   ],
   "source": [
    ":type fact'"
   ]
  },
  {
   "cell_type": "code",
   "execution_count": 25,
   "id": "fa0c3b24-3447-4164-a39c-d14639bbe96e",
   "metadata": {},
   "outputs": [
    {
     "data": {
      "text/plain": [
       "1"
      ]
     },
     "metadata": {},
     "output_type": "display_data"
    },
    {
     "data": {
      "text/plain": [
       "120"
      ]
     },
     "metadata": {},
     "output_type": "display_data"
    }
   ],
   "source": [
    "fact' 0\n",
    "fact' 5"
   ]
  },
  {
   "cell_type": "markdown",
   "id": "ab4762f7-55cc-4db4-8adc-9dc000794c9c",
   "metadata": {},
   "source": [
    "# 다형 람다계산법\n",
    "\\label{sec:SystemF}"
   ]
  },
  {
   "cell_type": "raw",
   "id": "f65ec2fe-0cf2-48f0-89db-030e6581afbb",
   "metadata": {},
   "source": [
    "\\begin{figure}\\hspace{.2\\textwidth}\n",
    "\\begin{subfigure}[b]{.3\\textwidth}\\centering\n",
    "\\includegraphics{JYGirard.jpg}\n",
    "\\subcaption{Jean-Yves Girard}\n",
    "\\end{subfigure}\n",
    "\\begin{subfigure}[b]{.3\\textwidth}\\centering\n",
    "\\includegraphics[trim={10 150 0 20},clip]{JohnCReynolds.jpg}\n",
    "\\subcaption{John C. Reynolds}\n",
    "\\end{subfigure}\n",
    "\\\\[1.2ex]"
   ]
  },
  {
   "cell_type": "markdown",
   "id": "be110fd6-ff4a-4ede-9020-0e648db04bfb",
   "metadata": {},
   "source": [
    "문법구조\\vspace{-4.5ex}\n",
    "\\begin{align*}\n",
    "\\qquad\n",
    "t \\in B & ~\\text{\\small(기본타입)} &\n",
    "\\tau\\in T ~::= ~& t ~\\mid~ \\tau \\to \\tau\n",
    "~\\mid~ \\alpha ~\\mid~ \\forall \\alpha.\\tau\n",
    "\\\\\n",
    "c \\in C & ~\\text{\\small(기본상수)} &\n",
    "e\\in E ~::=~ & c \\mid x \\mid \\lambda x{\\,:\\,}\\tau.\\,e \\mid e~e\n",
    "\\mid \\Lambda \\alpha.\\,e \\mid e\\,@\\tau\n",
    "\\end{align*} 타입규칙\n",
    "$\\qquad\n",
    "\\Delta ~::=~ c{\\,:\\,}\\tau,\\Delta \\mid \\bm{\\cdot} \\qquad\\qquad\\qquad\n",
    "\\Gamma ~::=~ \\alpha{\\,:\\,}\\star,\\Gamma \\mid x{\\,:\\,}\\tau,\\Gamma \\mid \\bm{\\cdot}$\n",
    "$$\n",
    "{\\scriptstyle(\\textsc{Con})}\n",
    "\\frac{~ ~}{~ \\Gamma \\vdash c:\\tau ~}\n",
    "({\\scriptstyle c{\\,:\\,}\\tau\\;\\in\\,\\Delta})\n",
    "\\qquad\\qquad\n",
    "{\\scriptstyle(\\textsc{Var})}\n",
    "\\frac{~ ~}{~ \\Gamma \\vdash x:\\tau ~}\n",
    "({\\scriptstyle x{\\,:\\,}\\tau\\;\\in\\,\\Gamma})\n",
    "$$ \\vspace*{-.5ex}\n",
    "$$\n",
    "{\\scriptstyle(\\textsc{Abs})}\n",
    "\\frac{~ x:\\tau_2,\\Gamma \\vdash e:\\tau ~}{~ \\Gamma \\vdash \\lambda x{\\,:\\,}\\tau_2.\\,e : \\tau_2\\to\\tau ~}\n",
    "\\qquad\n",
    "{\\scriptstyle(\\textsc{App})}\n",
    "\\frac{~ \\Gamma \\vdash e_1:\\tau_2\\to\\tau ~\\quad~ \\Gamma \\vdash e_2:\\tau_2 ~}{~ \\Gamma \\vdash e_1\\;e_2 : \\tau ~}\n",
    "$$ \\vspace*{-.5ex}\n",
    "$$\n",
    "{\\scriptstyle(\\textsc{TAbs})}\n",
    "\\frac{~ \\alpha{\\,:\\,}\\star,\\Gamma \\vdash e:\\tau ~}{~ \\Gamma \\vdash \\Lambda \\alpha.\\,e : \\forall \\alpha.\\tau ~}\n",
    "\\qquad\n",
    "{\\scriptstyle(\\textsc{TApp})}\n",
    "\\frac{~ \\Gamma \\vdash e:\\forall\\alpha.\\tau ~}{~ \\Gamma \\vdash e\\,@\\tau_1 : \\{\\alpha{\\mapsto}\\tau_1\\}\\tau ~}\n",
    "$$\n",
    "$~$\\newline\n",
    "의미구조\n",
    "$\\displaystyle\n",
    " \\quad {\\scriptstyle(\\beta_\\to)}\\frac{~~}{~(\\lambda x{:}\\tau.\\,e)\\,e_2 \\longmapsto \\{x{\\mapsto}e_2\\}e~}\n",
    "\\qquad {\\scriptstyle(\\beta_\\forall)}\\frac{~~}{~(\\Lambda \\alpha.\\,e)\\,@\\tau \\longmapsto \\{\\alpha{\\mapsto}\\tau\\}e~}$\n",
    "$$ \\mathcal{E} ~::=~ \\bullet\n",
    "\\mid \\lambda x{\\,:\\,}\\tau.\\,\\mathcal{E} \n",
    "\\mid \\mathcal{E}~e \\mid e~\\mathcal{E}\n",
    "\\mid \\Lambda \\alpha.\\,\\mathcal{E} \\mid \\mathcal{E}\\,@\\tau\n",
    "\\qquad\n",
    "{\\scriptstyle(\\mathcal{E})}\\frac{~e\\longmapsto e'~}{~\\mathcal{E}[e]\\xmapsto{~_C~}\\mathcal{E}[e']~}\n",
    "$$"
   ]
  },
  {
   "cell_type": "raw",
   "id": "912572d6-8999-434a-a48a-406c8025b20a",
   "metadata": {},
   "source": [
    "\\caption{System F로도 불리는 다형 람다계산법을 고안한 장-이브 지라르와 존 레이놀즈 \n",
    "\t{\\footnotesize(사진 출처: CACM\\cite{Wright2010cacm}, 위키미디어 공용)}\n",
    "\t\\label{fig:SystemF} }\n",
    "\\end{figure}"
   ]
  },
  {
   "cell_type": "markdown",
   "id": "f2446890-47de-4604-9dd7-c5579c11839b",
   "metadata": {},
   "source": [
    "\\index{람다계산법!타입있는 람다계산법!다형 람다계산법}\\index{$\\lambda$-calculus!typed $\\lambda$-calculus!polymorphic $\\lambda$-calculus}프랑스의 논리학자인 장-이브 지라르\\cite{Girard1971}는\n",
    "\\index{System F|see{다형 람다계산법}}\\index{System F|see{polymorphic $\\lambda$-calculus}}System F라는 이름의,\n",
    "미국의 컴퓨터 과학자 존 레이놀즈\\cite{Reynolds1974PolyLambda}는\n",
    "이후\n",
    "\\index{다형 람다계산법|see{polymorphic $\\lambda$-calculus}}\\index{polymorphic $\\lambda$-calculus|see{다형 람다계산법}}다형 람다계산법(polymorphic $\\lambda$-calculus) 혹은\n",
    "다형타입 람다계산법(polymoprphically typed $\\lambda$-calculus)으로 불리게 된,\n",
    "알고보니 똑같은 타입있는 람다계산법(그림 \\ref{fig:SystemF})을 1970년대 초반에 각자 독립적으로 고안했다.\n",
    "\\`다형 람다계산법'보다는 \\`System F'가 더 짧으므로 주로 System F로 부르겠다.\n",
    "System F의 타입은 STLC의 타입을 구성하는 요소 외에도 타입변수($\\alpha$)와 다형타입($\\forall\\alpha.\\tau$)을 포함한다.\n",
    "System F의 식은 STLC의 식을 구성하는 요소 외에도 타입요약식(type abstraction)과 타입적용식(type application)을 포함한다. 함수요약식($\\lambda x{:}\\tau.e$)이 식을 식에 대응시키는 함수를 표현한다면\n",
    "타입요약식($\\Lambda\\alpha.e$)은 타입을 식에 대응시킨키는 함수를 표현한다.\n",
    "식을 식에 적용하는 함수적용식($e_1~e_2$)과의 차이를 뚜렷이 드러내기 위해\n",
    "식을 타입에 적용하는 타입적용식($e\\;@\\tau$)에서는 인자로 넘기는 타입 앞에 $@$기호를 표기한다.\n",
    "참고로, 표준적인 타입적용식의 표기는 레이놀즈의 논문\\cite{Reynolds1974PolyLambda}에서처럼\n",
    "$e[\\tau]$이다. 하지만 실행맥락의 구멍을 채워넣는 표현($\\mathcal{E}[e]$)에도 같은 괄호를 사용하므로,\n",
    "여기서는 혼동의 여지를 줄이고자, 하스켈에서 명시적인 타입 적용을 표현하도록 지원하는\n",
    "GHC확장 기능의 문법을 따라 $e\\;@\\tau$와 같이 표기하였다.\n",
    "\n",
    "타입요약식에 대한 타입규칙($\\scriptstyle\\textsc{TAbs}$)은 타입요약식이 다형타입이 됨을 규정한다.\n",
    "타입적용식에 대한 타입규칙($\\scriptstyle\\textsc{TApp}$)은\n",
    "왼쪽의 적용하는 식($e$)이 다형타입($\\forall\\alpha.\\tau$)이어야 하며\n",
    "전체 타입적용식($e\\,@\\tau_1$)의 타입은 $\\tau$에 자유로이 나타나는\n",
    "$\\alpha$를 오른쪽의 타입 인자 $\\tau_1$로 구체화한 타입이 됨을 규정한다.\n",
    "그 외의 다른 타입규칙은 STLC에서와 같다.\n",
    "\n",
    "그림 \\ref{fig:SystemF}의 의미구조는 $\\beta_\\to$규칙과 $\\beta_\\forall$규칙을\n",
    "적용하는 순서를 제약하지 않는 단순한 형태의 의미구조이다. System F를 바탕으로 하는\n",
    "정적 타입 함수형 언어의 실제 구현은 실행 전의 타입 검사 단계에서\n",
    "$\\beta_\\forall$규칙만을 미리 적용해 타입을 가능한 한 구체화해 놓고,\n",
    "실행 시간에 $\\beta_\\to$규칙을 적용하며 계산을 진행하는 것으로 이해할 수 있다. "
   ]
  },
  {
   "cell_type": "markdown",
   "id": "e5bd5ba7-8055-4399-87ce-4350101a2f1e",
   "metadata": {},
   "source": [
    "## 다형 람다계산법과 하스켈"
   ]
  },
  {
   "cell_type": "code",
   "execution_count": 26,
   "id": "1f5be570-0a38-40fa-8e36-5b599bc76880",
   "metadata": {},
   "outputs": [
    {
     "data": {
      "text/html": [
       "<style>/* Styles used for the Hoogle display in the pager */\n",
       ".hoogle-doc {\n",
       "display: block;\n",
       "padding-bottom: 1.3em;\n",
       "padding-left: 0.4em;\n",
       "}\n",
       ".hoogle-code {\n",
       "display: block;\n",
       "font-family: monospace;\n",
       "white-space: pre;\n",
       "}\n",
       ".hoogle-text {\n",
       "display: block;\n",
       "}\n",
       ".hoogle-name {\n",
       "color: green;\n",
       "font-weight: bold;\n",
       "}\n",
       ".hoogle-head {\n",
       "font-weight: bold;\n",
       "}\n",
       ".hoogle-sub {\n",
       "display: block;\n",
       "margin-left: 0.4em;\n",
       "}\n",
       ".hoogle-package {\n",
       "font-weight: bold;\n",
       "font-style: italic;\n",
       "}\n",
       ".hoogle-module {\n",
       "font-weight: bold;\n",
       "}\n",
       ".hoogle-class {\n",
       "font-weight: bold;\n",
       "}\n",
       ".get-type {\n",
       "color: green;\n",
       "font-weight: bold;\n",
       "font-family: monospace;\n",
       "display: block;\n",
       "white-space: pre-wrap;\n",
       "}\n",
       ".show-type {\n",
       "color: green;\n",
       "font-weight: bold;\n",
       "font-family: monospace;\n",
       "margin-left: 1em;\n",
       "}\n",
       ".mono {\n",
       "font-family: monospace;\n",
       "display: block;\n",
       "}\n",
       ".err-msg {\n",
       "color: red;\n",
       "font-style: italic;\n",
       "font-family: monospace;\n",
       "white-space: pre;\n",
       "display: block;\n",
       "}\n",
       "#unshowable {\n",
       "color: red;\n",
       "font-weight: bold;\n",
       "}\n",
       ".err-msg.in.collapse {\n",
       "padding-top: 0.7em;\n",
       "}\n",
       ".highlight-code {\n",
       "white-space: pre;\n",
       "font-family: monospace;\n",
       "}\n",
       ".suggestion-warning { \n",
       "font-weight: bold;\n",
       "color: rgb(200, 130, 0);\n",
       "}\n",
       ".suggestion-error { \n",
       "font-weight: bold;\n",
       "color: red;\n",
       "}\n",
       ".suggestion-name {\n",
       "font-weight: bold;\n",
       "}\n",
       "</style><span class='get-type'>id :: forall a. a -> a</span>"
      ],
      "text/plain": [
       "id :: forall a. a -> a"
      ]
     },
     "metadata": {},
     "output_type": "display_data"
    }
   ],
   "source": [
    ":type id  -- 표준 라이브러리 항등함수 id는 다형타입"
   ]
  },
  {
   "cell_type": "code",
   "execution_count": 27,
   "id": "8573d045-63aa-482f-8627-7b9e0263236a",
   "metadata": {},
   "outputs": [
    {
     "data": {
      "text/html": [
       "<style>/* Styles used for the Hoogle display in the pager */\n",
       ".hoogle-doc {\n",
       "display: block;\n",
       "padding-bottom: 1.3em;\n",
       "padding-left: 0.4em;\n",
       "}\n",
       ".hoogle-code {\n",
       "display: block;\n",
       "font-family: monospace;\n",
       "white-space: pre;\n",
       "}\n",
       ".hoogle-text {\n",
       "display: block;\n",
       "}\n",
       ".hoogle-name {\n",
       "color: green;\n",
       "font-weight: bold;\n",
       "}\n",
       ".hoogle-head {\n",
       "font-weight: bold;\n",
       "}\n",
       ".hoogle-sub {\n",
       "display: block;\n",
       "margin-left: 0.4em;\n",
       "}\n",
       ".hoogle-package {\n",
       "font-weight: bold;\n",
       "font-style: italic;\n",
       "}\n",
       ".hoogle-module {\n",
       "font-weight: bold;\n",
       "}\n",
       ".hoogle-class {\n",
       "font-weight: bold;\n",
       "}\n",
       ".get-type {\n",
       "color: green;\n",
       "font-weight: bold;\n",
       "font-family: monospace;\n",
       "display: block;\n",
       "white-space: pre-wrap;\n",
       "}\n",
       ".show-type {\n",
       "color: green;\n",
       "font-weight: bold;\n",
       "font-family: monospace;\n",
       "margin-left: 1em;\n",
       "}\n",
       ".mono {\n",
       "font-family: monospace;\n",
       "display: block;\n",
       "}\n",
       ".err-msg {\n",
       "color: red;\n",
       "font-style: italic;\n",
       "font-family: monospace;\n",
       "white-space: pre;\n",
       "display: block;\n",
       "}\n",
       "#unshowable {\n",
       "color: red;\n",
       "font-weight: bold;\n",
       "}\n",
       ".err-msg.in.collapse {\n",
       "padding-top: 0.7em;\n",
       "}\n",
       ".highlight-code {\n",
       "white-space: pre;\n",
       "font-family: monospace;\n",
       "}\n",
       ".suggestion-warning { \n",
       "font-weight: bold;\n",
       "color: rgb(200, 130, 0);\n",
       "}\n",
       ".suggestion-error { \n",
       "font-weight: bold;\n",
       "color: red;\n",
       "}\n",
       ".suggestion-name {\n",
       "font-weight: bold;\n",
       "}\n",
       "</style><span class='get-type'>id @Int :: Int -> Int</span>"
      ],
      "text/plain": [
       "id @Int :: Int -> Int"
      ]
     },
     "metadata": {},
     "output_type": "display_data"
    },
    {
     "data": {
      "text/html": [
       "<style>/* Styles used for the Hoogle display in the pager */\n",
       ".hoogle-doc {\n",
       "display: block;\n",
       "padding-bottom: 1.3em;\n",
       "padding-left: 0.4em;\n",
       "}\n",
       ".hoogle-code {\n",
       "display: block;\n",
       "font-family: monospace;\n",
       "white-space: pre;\n",
       "}\n",
       ".hoogle-text {\n",
       "display: block;\n",
       "}\n",
       ".hoogle-name {\n",
       "color: green;\n",
       "font-weight: bold;\n",
       "}\n",
       ".hoogle-head {\n",
       "font-weight: bold;\n",
       "}\n",
       ".hoogle-sub {\n",
       "display: block;\n",
       "margin-left: 0.4em;\n",
       "}\n",
       ".hoogle-package {\n",
       "font-weight: bold;\n",
       "font-style: italic;\n",
       "}\n",
       ".hoogle-module {\n",
       "font-weight: bold;\n",
       "}\n",
       ".hoogle-class {\n",
       "font-weight: bold;\n",
       "}\n",
       ".get-type {\n",
       "color: green;\n",
       "font-weight: bold;\n",
       "font-family: monospace;\n",
       "display: block;\n",
       "white-space: pre-wrap;\n",
       "}\n",
       ".show-type {\n",
       "color: green;\n",
       "font-weight: bold;\n",
       "font-family: monospace;\n",
       "margin-left: 1em;\n",
       "}\n",
       ".mono {\n",
       "font-family: monospace;\n",
       "display: block;\n",
       "}\n",
       ".err-msg {\n",
       "color: red;\n",
       "font-style: italic;\n",
       "font-family: monospace;\n",
       "white-space: pre;\n",
       "display: block;\n",
       "}\n",
       "#unshowable {\n",
       "color: red;\n",
       "font-weight: bold;\n",
       "}\n",
       ".err-msg.in.collapse {\n",
       "padding-top: 0.7em;\n",
       "}\n",
       ".highlight-code {\n",
       "white-space: pre;\n",
       "font-family: monospace;\n",
       "}\n",
       ".suggestion-warning { \n",
       "font-weight: bold;\n",
       "color: rgb(200, 130, 0);\n",
       "}\n",
       ".suggestion-error { \n",
       "font-weight: bold;\n",
       "color: red;\n",
       "}\n",
       ".suggestion-name {\n",
       "font-weight: bold;\n",
       "}\n",
       "</style><span class='get-type'>id @String :: String -> String</span>"
      ],
      "text/plain": [
       "id @String :: String -> String"
      ]
     },
     "metadata": {},
     "output_type": "display_data"
    }
   ],
   "source": [
    ":type id @Int     -- Int에 명시적 타입 적용\n",
    ":type id @String  -- String에 명시적 타입 적용"
   ]
  },
  {
   "cell_type": "code",
   "execution_count": 28,
   "id": "cc8e54fe-6540-4747-a3e0-14e485105230",
   "metadata": {},
   "outputs": [
    {
     "data": {
      "text/plain": [
       "3"
      ]
     },
     "metadata": {},
     "output_type": "display_data"
    },
    {
     "data": {
      "text/plain": [
       "3"
      ]
     },
     "metadata": {},
     "output_type": "display_data"
    }
   ],
   "source": [
    "id      3 -- 타입 인자가 생략되어 있어도 타입유추로 알아서 척척\n",
    "id @Int 3"
   ]
  },
  {
   "cell_type": "code",
   "execution_count": 29,
   "id": "e492ba69-e2b4-4618-95d7-cfa783284b6f",
   "metadata": {},
   "outputs": [
    {
     "data": {
      "text/plain": [
       "\"hello\""
      ]
     },
     "metadata": {},
     "output_type": "display_data"
    },
    {
     "data": {
      "text/plain": [
       "\"hello\""
      ]
     },
     "metadata": {},
     "output_type": "display_data"
    }
   ],
   "source": [
    "id         \"hello\" -- 타입 인자가 생략되어 있어도 타입유추로 알아서 척척\n",
    "id @String \"hello\""
   ]
  },
  {
   "cell_type": "code",
   "execution_count": 30,
   "id": "4bf58d3e-e5c9-448c-b348-956fd2554200",
   "metadata": {},
   "outputs": [
    {
     "ename": "",
     "evalue": "",
     "output_type": "error",
     "traceback": [
      "<interactive>:1:9: error:\n    • Couldn't match expected type ‘Int’ with actual type ‘String’\n    • In the second argument of ‘id’, namely ‘\"hello\"’\n      In the expression: id @Int \"hello\"\n      In an equation for ‘it’: it = id @Int \"hello\""
     ]
    }
   ],
   "source": [
    "id @Int \"hello\" -- 명시적으로 구체화한 타입과 다르게 사용하면 타입 오류"
   ]
  },
  {
   "cell_type": "markdown",
   "id": "dd74c1a3-ea96-40c6-935e-78a7e4b858fa",
   "metadata": {},
   "source": [
    "위에서 살펴본 바와 같이 하스켈에서 다형 함수 적용은 System F와 사실상 같은 문법이다.\n",
    "하스켈은 타입유추를 잘 지원하므로 대부분의 경우 명시적 타입적용을 생략하더라도\n",
    "컴파일러가 이후에 연이어 적용하는 인자로부터 필요한 타입 정보를 얻어 드러나 보이지 않게 타입적용이 수행된다.\n",
    "\n",
    "한편, 하스켈에는 타입요약식($\\Lambda \\alpha.e$)에 직접적으로 대응되는 문법요소는 없다.\n",
    "다만 아래와 같이 함수 선언에 앞서 `myid :: forall a. a -> a` 또는 줄여서 `myid :: a -> a`로\n",
    "다형타입을 선언함으로써\n",
    "`myid`를 System F의 타입요약식으로 선언한 것과 같은 효과를 볼 수 있다.\n",
    "참고로, 타입 선언 없이도 마찬가지 다형타입이 유추되지만\n",
    "`@`기호를 사용하는 명시적 타입적용은 사용할 수 없다."
   ]
  },
  {
   "cell_type": "code",
   "execution_count": 31,
   "id": "4c91d5a8-7643-4809-9cee-a6ea03a6fb17",
   "metadata": {},
   "outputs": [],
   "source": [
    "myid :: a -> a\n",
    "myid = \\x -> x"
   ]
  },
  {
   "cell_type": "code",
   "execution_count": 32,
   "id": "063623de-4658-40e7-ae53-4f4f0a351d47",
   "metadata": {},
   "outputs": [
    {
     "data": {
      "text/html": [
       "<style>/* Styles used for the Hoogle display in the pager */\n",
       ".hoogle-doc {\n",
       "display: block;\n",
       "padding-bottom: 1.3em;\n",
       "padding-left: 0.4em;\n",
       "}\n",
       ".hoogle-code {\n",
       "display: block;\n",
       "font-family: monospace;\n",
       "white-space: pre;\n",
       "}\n",
       ".hoogle-text {\n",
       "display: block;\n",
       "}\n",
       ".hoogle-name {\n",
       "color: green;\n",
       "font-weight: bold;\n",
       "}\n",
       ".hoogle-head {\n",
       "font-weight: bold;\n",
       "}\n",
       ".hoogle-sub {\n",
       "display: block;\n",
       "margin-left: 0.4em;\n",
       "}\n",
       ".hoogle-package {\n",
       "font-weight: bold;\n",
       "font-style: italic;\n",
       "}\n",
       ".hoogle-module {\n",
       "font-weight: bold;\n",
       "}\n",
       ".hoogle-class {\n",
       "font-weight: bold;\n",
       "}\n",
       ".get-type {\n",
       "color: green;\n",
       "font-weight: bold;\n",
       "font-family: monospace;\n",
       "display: block;\n",
       "white-space: pre-wrap;\n",
       "}\n",
       ".show-type {\n",
       "color: green;\n",
       "font-weight: bold;\n",
       "font-family: monospace;\n",
       "margin-left: 1em;\n",
       "}\n",
       ".mono {\n",
       "font-family: monospace;\n",
       "display: block;\n",
       "}\n",
       ".err-msg {\n",
       "color: red;\n",
       "font-style: italic;\n",
       "font-family: monospace;\n",
       "white-space: pre;\n",
       "display: block;\n",
       "}\n",
       "#unshowable {\n",
       "color: red;\n",
       "font-weight: bold;\n",
       "}\n",
       ".err-msg.in.collapse {\n",
       "padding-top: 0.7em;\n",
       "}\n",
       ".highlight-code {\n",
       "white-space: pre;\n",
       "font-family: monospace;\n",
       "}\n",
       ".suggestion-warning { \n",
       "font-weight: bold;\n",
       "color: rgb(200, 130, 0);\n",
       "}\n",
       ".suggestion-error { \n",
       "font-weight: bold;\n",
       "color: red;\n",
       "}\n",
       ".suggestion-name {\n",
       "font-weight: bold;\n",
       "}\n",
       "</style><span class='get-type'>myid :: forall a. a -> a</span>"
      ],
      "text/plain": [
       "myid :: forall a. a -> a"
      ]
     },
     "metadata": {},
     "output_type": "display_data"
    },
    {
     "data": {
      "text/html": [
       "<style>/* Styles used for the Hoogle display in the pager */\n",
       ".hoogle-doc {\n",
       "display: block;\n",
       "padding-bottom: 1.3em;\n",
       "padding-left: 0.4em;\n",
       "}\n",
       ".hoogle-code {\n",
       "display: block;\n",
       "font-family: monospace;\n",
       "white-space: pre;\n",
       "}\n",
       ".hoogle-text {\n",
       "display: block;\n",
       "}\n",
       ".hoogle-name {\n",
       "color: green;\n",
       "font-weight: bold;\n",
       "}\n",
       ".hoogle-head {\n",
       "font-weight: bold;\n",
       "}\n",
       ".hoogle-sub {\n",
       "display: block;\n",
       "margin-left: 0.4em;\n",
       "}\n",
       ".hoogle-package {\n",
       "font-weight: bold;\n",
       "font-style: italic;\n",
       "}\n",
       ".hoogle-module {\n",
       "font-weight: bold;\n",
       "}\n",
       ".hoogle-class {\n",
       "font-weight: bold;\n",
       "}\n",
       ".get-type {\n",
       "color: green;\n",
       "font-weight: bold;\n",
       "font-family: monospace;\n",
       "display: block;\n",
       "white-space: pre-wrap;\n",
       "}\n",
       ".show-type {\n",
       "color: green;\n",
       "font-weight: bold;\n",
       "font-family: monospace;\n",
       "margin-left: 1em;\n",
       "}\n",
       ".mono {\n",
       "font-family: monospace;\n",
       "display: block;\n",
       "}\n",
       ".err-msg {\n",
       "color: red;\n",
       "font-style: italic;\n",
       "font-family: monospace;\n",
       "white-space: pre;\n",
       "display: block;\n",
       "}\n",
       "#unshowable {\n",
       "color: red;\n",
       "font-weight: bold;\n",
       "}\n",
       ".err-msg.in.collapse {\n",
       "padding-top: 0.7em;\n",
       "}\n",
       ".highlight-code {\n",
       "white-space: pre;\n",
       "font-family: monospace;\n",
       "}\n",
       ".suggestion-warning { \n",
       "font-weight: bold;\n",
       "color: rgb(200, 130, 0);\n",
       "}\n",
       ".suggestion-error { \n",
       "font-weight: bold;\n",
       "color: red;\n",
       "}\n",
       ".suggestion-name {\n",
       "font-weight: bold;\n",
       "}\n",
       "</style><span class='get-type'>myid @Int :: Int -> Int</span>"
      ],
      "text/plain": [
       "myid @Int :: Int -> Int"
      ]
     },
     "metadata": {},
     "output_type": "display_data"
    },
    {
     "data": {
      "text/html": [
       "<style>/* Styles used for the Hoogle display in the pager */\n",
       ".hoogle-doc {\n",
       "display: block;\n",
       "padding-bottom: 1.3em;\n",
       "padding-left: 0.4em;\n",
       "}\n",
       ".hoogle-code {\n",
       "display: block;\n",
       "font-family: monospace;\n",
       "white-space: pre;\n",
       "}\n",
       ".hoogle-text {\n",
       "display: block;\n",
       "}\n",
       ".hoogle-name {\n",
       "color: green;\n",
       "font-weight: bold;\n",
       "}\n",
       ".hoogle-head {\n",
       "font-weight: bold;\n",
       "}\n",
       ".hoogle-sub {\n",
       "display: block;\n",
       "margin-left: 0.4em;\n",
       "}\n",
       ".hoogle-package {\n",
       "font-weight: bold;\n",
       "font-style: italic;\n",
       "}\n",
       ".hoogle-module {\n",
       "font-weight: bold;\n",
       "}\n",
       ".hoogle-class {\n",
       "font-weight: bold;\n",
       "}\n",
       ".get-type {\n",
       "color: green;\n",
       "font-weight: bold;\n",
       "font-family: monospace;\n",
       "display: block;\n",
       "white-space: pre-wrap;\n",
       "}\n",
       ".show-type {\n",
       "color: green;\n",
       "font-weight: bold;\n",
       "font-family: monospace;\n",
       "margin-left: 1em;\n",
       "}\n",
       ".mono {\n",
       "font-family: monospace;\n",
       "display: block;\n",
       "}\n",
       ".err-msg {\n",
       "color: red;\n",
       "font-style: italic;\n",
       "font-family: monospace;\n",
       "white-space: pre;\n",
       "display: block;\n",
       "}\n",
       "#unshowable {\n",
       "color: red;\n",
       "font-weight: bold;\n",
       "}\n",
       ".err-msg.in.collapse {\n",
       "padding-top: 0.7em;\n",
       "}\n",
       ".highlight-code {\n",
       "white-space: pre;\n",
       "font-family: monospace;\n",
       "}\n",
       ".suggestion-warning { \n",
       "font-weight: bold;\n",
       "color: rgb(200, 130, 0);\n",
       "}\n",
       ".suggestion-error { \n",
       "font-weight: bold;\n",
       "color: red;\n",
       "}\n",
       ".suggestion-name {\n",
       "font-weight: bold;\n",
       "}\n",
       "</style><span class='get-type'>myid @String :: String -> String</span>"
      ],
      "text/plain": [
       "myid @String :: String -> String"
      ]
     },
     "metadata": {},
     "output_type": "display_data"
    }
   ],
   "source": [
    ":type myid\n",
    ":type myid @Int\n",
    ":type myid @String"
   ]
  },
  {
   "cell_type": "markdown",
   "id": "e64f36f2-2796-4602-a6c0-5f4721d1413b",
   "metadata": {},
   "source": [
    "## 람다계산법과 데이터 타입\n",
    "타입없는 람다계산법은 튜링기계와 마찬가지로 모든 계산을 표현할 수 있다는 처치--튜링 명제를 언급한 바 있다.\n",
    "우리가 흔히 접하는 프로그래밍언어에서는 진리값이나 정수와 같은 기본 타입을 비롯해\n",
    "순서쌍이나 리스트 등의 복합적 데이터 타입을 다루는 계산을 한다.\n",
    "그런데 함수만 있는 람다계산법으로 어떻게 이런 계산을 표현했을까?\n",
    "람다계산법의 창시자 알론조 처치가 데이터를 함수로 표현하는 방법으로\n",
    "고안한\n",
    "\\index{처치 인코딩|see{Church encoding}}\\index{Church encoding|see{처치 인코딩}}처치 인코딩(Church encoding)을 통해 가능했던 것이다."
   ]
  },
  {
   "cell_type": "markdown",
   "id": "6de29119-2f12-47f4-9a94-ca45aeee1837",
   "metadata": {},
   "source": [
    "### 진리값"
   ]
  },
  {
   "cell_type": "raw",
   "id": "1cfec05c-a989-43df-af43-8595dfae207e",
   "metadata": {},
   "source": [
    "\\begin{figure}[b]\\centering"
   ]
  },
  {
   "cell_type": "markdown",
   "id": "7d6b8501-b707-40aa-b3ff-d21a86761a24",
   "metadata": {},
   "source": [
    "$\\begin{array}{rl}\n",
    "\\texttt{true}  ~=& \\lambda x.\\lambda y.x \\\\\n",
    "\\texttt{false} ~=& \\lambda x.\\lambda y.y \\\\\n",
    "\\texttt{ifte}  ~=& \\lambda b.\\lambda x.\\lambda y.b~x~y ~\\equiv_\\eta~ \\lambda b.b\n",
    "\\end{array}$"
   ]
  },
  {
   "cell_type": "raw",
   "id": "e510dc6a-f48f-4fd5-a052-967edef90798",
   "metadata": {},
   "source": [
    "\\caption{진리값에 대한 처치 인코딩(Church encoding)\n",
    "         \\label{fig:ChurchBool} }\n",
    "\\end{figure}"
   ]
  },
  {
   "cell_type": "markdown",
   "id": "c51a52b5-5029-4522-a249-92c356c4d586",
   "metadata": {},
   "source": [
    "이해하기 좋은 기초적인 사례로\n",
    "진리값 상수에 대한 처치 인코딩(그림 \\ref{fig:ChurchBool})을 살펴보자.\n",
    "프로그래밍언어에서 진리값을 활용하는 대표적인 요소는 바로 `if` $b$ `then` $e_1$ `else` $e_0$와\n",
    "같은 형태의 조건식(conditional expression)인데, 이를 람다식의 함수 `ifte`로 생각하면\n",
    "`ifte` $b$ $e_1$ $e_0$에서 $b$가 `true`로 계산될 경우는 $e_1$과 같도록 $b$가 `false`로\n",
    "계산될 경우는 $e_0$과 같이 동작해야 한다. 처치 인코딩의 핵심 아이디어는 데이터를 사용하는\n",
    "대표적인 연산의 실제 의미를 데이터 상수 그 자체에 담아놓자는 것이다. 진리값의 경우\n",
    "조건식의 유의미한 계산은 진리값 상수를 인코딩한 `true`나 `false`에 담겨있다는 말이다.\n",
    "그래서 조건식을 표현하는 `ifte`는 항등함수의 형태로 사실상 유의미한 계산 없이\n",
    "진리값 인자를 그대로 내어주도록 (즉, `ifte` $b$ $e_1$ $e_0$ $\\equiv_\\beta$ $b~e_1~e_0$)\n",
    "인코딩되어 있다. 이를 우리가 잘 아는 조건식의 동작에 맞추려면,\n",
    "`true` $e_1$ $e_0$ $\\equiv_\\beta$ $e_1$이고\n",
    "`false` $e_1$ $e_0$ $\\equiv_\\beta$ $e_0$가 되도록,\n",
    "진리값 상수 `true`를 $\\lambda x.\\lambda y.x$로\n",
    "`false`를 $\\lambda x.\\lambda y.y$로 인코딩하면 된다."
   ]
  },
  {
   "cell_type": "markdown",
   "id": "c791a59c-0e9b-491a-b2f8-bfe0c9af1ec5",
   "metadata": {},
   "source": [
    "그런데 단순타입 람다계산법(STLC)에서는 처치 인코딩과 같이 데이터 상수를 별도로 설정하지 않고\n",
    "순수한 람다식만으로 인코딩해 활용하기는 곤란하다.\n",
    "조건식을 나타내는 `ifte`에 $\\texttt{BOOL}\\to T\\to T$와 같은 타입을 부여하고\n",
    "그에 맞춰 `true`와 `false`도 $\\lambda x{:}T.\\lambda y{:}T.x$와 $\\lambda x{:}T.\\lambda y{:}T.y$로 인코딩해야 하는데,\n",
    "문제는 $T$를 어떤 타입으로 정하면 다른 타입에 대한 조건식을 작성할 수 없게 된다.\n",
    "예를 들어 $\\texttt{ifte} : \\texttt{BOOL}\\to \\texttt{Int}\\to \\texttt{Int}$로 한다면\n",
    "정수를 계산하는 조건식은 작성할 수 있지만 문자열을 계산하는 조건식은 작성할 수 없다.\n",
    "굳이 억지로 해보자면\\newline\\indent\n",
    "$\\texttt{ifte}_\\texttt{Int} : \\texttt{BOOL}_\\texttt{Int}\\to \\texttt{Int}\\to \\texttt{Int}$ 및 $\\texttt{true}_\\texttt{Int}$와 $\\texttt{false}_\\texttt{Int}$,\\newline\\indent\n",
    "$\\texttt{ifte}_\\texttt{String} : \\texttt{BOOL}_\\texttt{String}\\to \\texttt{String}\\to \\texttt{String}$ 및 $\\texttt{true}_\\texttt{String}$와 $\\texttt{false}_\\texttt{String}$,\\newline\\indent\n",
    "$~\\vdots~$\\newline\n",
    "이렇게 계산하려는 각각의 타입 $T$마다\n",
    "$\\texttt{ifte}_T$ 및 $\\texttt{true}_T$와 $\\texttt{false}_T$로\n",
    "$\\texttt{BOOL}_T$ 타입을 한벌씩 따로 인코딩해야 하므로\n",
    "불편하고 혼란스러울 따름이다."
   ]
  },
  {
   "cell_type": "markdown",
   "id": "2d9f48f7-0f15-4f62-89a8-df38c0850aa2",
   "metadata": {},
   "source": [
    "다형 람다계산법(System F)에서는 모든 타입에 대해 일관되게 동작을 하는 식에\n",
    "하나의 다형타입($\\forall \\alpha.\\tau$)을 부여하는 것이 가능하며,\n",
    "다형타입이 부여된 하나의 식을 필요에 따라 타입적용을 통해 각각의 타입으로 구체화하여 활용할 수 있다.\n",
    "System F에서와 같은 다형타입으로 표현할 수 있는 이러한 특성을\n",
    "\\index{매개변수 다형성|see{parametric polymorphism}}\\index{parametric polymorphism|see{매개변수 다형성}}\\`매개변수 다형성'(parametric polymorphism)이라 한다.\n",
    "매개변수 다형성을 이용하면 처치 인코딩과 마찬가지로 순수한 람다식만으로 System F에서\n",
    "데이터를 표현하는 것이 가능하며 이를\n",
    "\\index{뵙--베라르두치 인코딩|see{B\\\"ohm--Berarducci encoding}}\\index{B\\\"ohm-Berarducci encoding|see{뵘--베라르두치 인코딩}}뵘--베라르두치\\cite{BoehmBerarducci1985} 인코딩이라 한다.\n",
    "진리값에 대한 뵘--베라르두치 인코딩은 그림 \\ref{fig:BBenc}와 같다.\n",
    "진리값 상수 `true`와 `false`가 타입요약식($\\Lambda \\alpha.e$)의 형태로 인코딩되어 있으므로\n",
    "조건식의 인코딩을 활용할 때 $\\texttt{ifte}~b~@\\tau~e_1~e_0$처럼 중간에 타입인자($\\tau$)에\n",
    "타입적용을 해야 하며, 이 때 $e_1:\\tau$이고 $e_2:\\tau$이어야 한다."
   ]
  },
  {
   "cell_type": "raw",
   "id": "ece8c8ad-d067-41d0-8ece-6bf848f9e4d5",
   "metadata": {},
   "source": [
    "\n",
    "\\begin{figure}\\centering\\vspace*{-1ex}\\hspace{1em}\n",
    "\\begin{subfigure}{.25\\textwidth}\n",
    "\\includegraphics[trim={0 0 30px 0},clip,scale=.8]{Bohm.jpg}\n",
    "\\end{subfigure}\\hspace{-1em}\n",
    "\\begin{subfigure}{.45\\textwidth}"
   ]
  },
  {
   "cell_type": "markdown",
   "id": "32e95b39-9467-4b43-8582-21086a2c720d",
   "metadata": {},
   "source": [
    "\\begin{align*}\\!\\!\\!\\!\\!\\!\\!\\!\n",
    "\\texttt{BOOL}  ~=~& \\forall \\alpha.\\,\\alpha\\to\\alpha\\to\\alpha \\\\ \\!\\!\\!\\!\\!\\!\\!\\!\n",
    "\\texttt{true}  ~=~& \\Lambda\\alpha.\\,\\lambda x{:}\\alpha.\\,\\lambda y{:}\\alpha.\\,x \\\\ \\!\\!\\!\\!\\!\\!\\!\\!\n",
    "\\texttt{false} ~=~& \\Lambda\\alpha.\\,\\lambda x{:}\\alpha.\\,\\lambda y{:}\\alpha.\\,y \\\\ \\!\\!\\!\\!\\!\\!\\!\\!\n",
    "\\texttt{ifte}  ~=~& \\lambda b{:}\\texttt{BOOL}.\\,b\\\\\n",
    "\\end{align*}"
   ]
  },
  {
   "cell_type": "raw",
   "id": "90600569-fd96-4e6c-8cdd-47ac02570f61",
   "metadata": {},
   "source": [
    "\\end{subfigure}\n",
    "\\begin{subfigure}{.25\\textwidth}\n",
    "\\includegraphics[scale=.8]{Berarducci.jpg}\n",
    "\\end{subfigure}\n",
    "{\\footnotesize(이미지 출처: \\url{http://wwwusers.di.uniroma1.it/~boehm/}, \\url{http://aracneeditrice.it/})}\n",
    "\\vspace*{-.5ex}\n",
    "\\caption{자기 자신의 언어로 된 컴파일러(self-hosting compiler)를 작성할 수 있음을\n",
    "         최초로 입증한 코라도 뵘(Corrado B\\\"ohm, 왼쪽), 그와 함께 System F에서 데이터 타입을\n",
    "         순수한 람다식으로 인코딩하는 방식을 고안한 알레산드로 베라르두치(Alessandro Berarducci, 오른쪽),\\\\\n",
    "         System F에서 진리값에 대한 뵘--베라르두치 인코딩 (가운데) \\label{fig:BBenc} }\n",
    "\\vspace*{-1ex}\n",
    "\\end{figure}\n"
   ]
  },
  {
   "cell_type": "markdown",
   "id": "ecaa7601-db8e-4809-8324-ae29885d75dc",
   "metadata": {},
   "source": [
    "System F를 기반으로 하는 하스켈로 진리값의 뵘--베라르두치 인코딩을 아래와 같이 옮길 수 있다.\n",
    "하스켈에서는 타입요약과 타입적용이 직접 드러나지 않으며 람다요약식의 파라미터에 타입 정보를 표시하지 않아도\n",
    "타입이 유추되므로 System F에서보다 진리값의 인코딩이 조금 더 간결한 형태로 표현된다."
   ]
  },
  {
   "cell_type": "code",
   "execution_count": 33,
   "id": "d3c579ef-291c-47e0-a4bf-c303a5c8f116",
   "metadata": {},
   "outputs": [],
   "source": [
    "type BOOL = forall a. a -> a -> a \n",
    "false :: BOOL\n",
    "false = \\x -> \\y -> y\n",
    "true :: BOOL\n",
    "true  = \\x -> \\y -> x\n",
    "ifte :: BOOL -> BOOL\n",
    "ifte = \\b -> b"
   ]
  },
  {
   "cell_type": "markdown",
   "id": "8a15a6b5-0f0c-4bdf-830d-ae36452d06df",
   "metadata": {},
   "source": [
    "\\noindent\n",
    "다음과 같이 여러 타입에 대해 `ifte`를 활용해 조건식을 표현할 수 있다."
   ]
  },
  {
   "cell_type": "code",
   "execution_count": 34,
   "id": "df22b897-5bdf-404e-b138-f7fad87cdf41",
   "metadata": {},
   "outputs": [
    {
     "data": {
      "text/plain": [
       "111"
      ]
     },
     "metadata": {},
     "output_type": "display_data"
    },
    {
     "data": {
      "text/plain": [
       "\"world\""
      ]
     },
     "metadata": {},
     "output_type": "display_data"
    }
   ],
   "source": [
    "ifte true  111     100\n",
    "ifte false \"hello\" \"world\""
   ]
  },
  {
   "cell_type": "markdown",
   "id": "b0e895c9-8e2e-4ee0-bfcc-4fb8f30fa0a7",
   "metadata": {},
   "source": [
    "\\noindent\n",
    "또한, 이렇게 인코딩된 진리값에 대한 논리곱, 논리합, 논리부정도\n",
    "다음과 같이 순수한 람다식으로 선언할 수 있다."
   ]
  },
  {
   "cell_type": "code",
   "execution_count": 35,
   "id": "0620f667-56f7-4590-80a3-1dca38fe147b",
   "metadata": {},
   "outputs": [],
   "source": [
    "andB :: BOOL -> BOOL -> BOOL\n",
    "andB = \\b1 -> \\b2 -> b1 b2 b1\n",
    "orB  :: BOOL -> BOOL -> BOOL\n",
    "orB  = \\b1 -> \\b2 -> b1 b1 b2\n",
    "notB :: BOOL -> BOOL\n",
    "notB = \\b -> \\x -> \\y -> b y x"
   ]
  },
  {
   "cell_type": "code",
   "execution_count": 36,
   "id": "23d617d6-6790-436d-b163-355c4330a586",
   "metadata": {},
   "outputs": [
    {
     "data": {
      "text/plain": [
       "\"true\""
      ]
     },
     "metadata": {},
     "output_type": "display_data"
    },
    {
     "data": {
      "text/plain": [
       "\"false\""
      ]
     },
     "metadata": {},
     "output_type": "display_data"
    }
   ],
   "source": [
    "true  \"true\" \"false\"  -- 진리값이 true인지 false인지\n",
    "false \"true\" \"false\"  -- 이런 방식으로 확인할 수 있다 "
   ]
  },
  {
   "cell_type": "code",
   "execution_count": 37,
   "id": "8feefde5-3fa1-4083-b96b-49d7fbbc224d",
   "metadata": {},
   "outputs": [
    {
     "data": {
      "text/plain": [
       "\"false\""
      ]
     },
     "metadata": {},
     "output_type": "display_data"
    },
    {
     "data": {
      "text/plain": [
       "\"false\""
      ]
     },
     "metadata": {},
     "output_type": "display_data"
    },
    {
     "data": {
      "text/plain": [
       "\"false\""
      ]
     },
     "metadata": {},
     "output_type": "display_data"
    },
    {
     "data": {
      "text/plain": [
       "\"true\""
      ]
     },
     "metadata": {},
     "output_type": "display_data"
    }
   ],
   "source": [
    "andB false false \"true\" \"false\"\n",
    "andB false true  \"true\" \"false\"\n",
    "andB true  false \"true\" \"false\"\n",
    "andB true  true  \"true\" \"false\""
   ]
  },
  {
   "cell_type": "code",
   "execution_count": 38,
   "id": "d0a2ff3c-a0a2-4ecd-9809-6db7e92463f7",
   "metadata": {},
   "outputs": [
    {
     "data": {
      "text/plain": [
       "\"false\""
      ]
     },
     "metadata": {},
     "output_type": "display_data"
    },
    {
     "data": {
      "text/plain": [
       "\"true\""
      ]
     },
     "metadata": {},
     "output_type": "display_data"
    },
    {
     "data": {
      "text/plain": [
       "\"true\""
      ]
     },
     "metadata": {},
     "output_type": "display_data"
    },
    {
     "data": {
      "text/plain": [
       "\"true\""
      ]
     },
     "metadata": {},
     "output_type": "display_data"
    }
   ],
   "source": [
    "orB false false \"true\" \"false\"\n",
    "orB false true  \"true\" \"false\"\n",
    "orB true  false \"true\" \"false\"\n",
    "orB true  true  \"true\" \"false\""
   ]
  },
  {
   "cell_type": "code",
   "execution_count": 39,
   "id": "6db349e7-a3d1-41f0-81da-773d2fb48486",
   "metadata": {},
   "outputs": [
    {
     "data": {
      "text/plain": [
       "\"true\""
      ]
     },
     "metadata": {},
     "output_type": "display_data"
    },
    {
     "data": {
      "text/plain": [
       "\"false\""
      ]
     },
     "metadata": {},
     "output_type": "display_data"
    }
   ],
   "source": [
    "notB false \"true\" \"false\"\n",
    "notB true  \"true\" \"false\""
   ]
  },
  {
   "cell_type": "markdown",
   "id": "06336372-0136-42cd-9a80-3a1383fe3a11",
   "metadata": {},
   "source": [
    "두 개의 상수로 이루어진 타입을 이항 다형함수 타입인\n",
    "$\\forall \\alpha.\\,\\alpha\\to\\alpha\\to\\alpha$로 인코딩한 것처럼\n",
    "세 개의 상수로 이루어진 데이터 타입은 삼항 다형함수 타입인\n",
    "$\\forall \\alpha.\\,\\alpha\\to\\alpha\\to\\alpha\\to\\alpha$로 인코딩하며,\n",
    "일반적으로 $n$개의 상수로 이루어진 데이터 타입을 $n$항 다형함수 타입인\n",
    "$\\forall \\alpha.\\underbrace{\\alpha\\to\\cdots\\to\\alpha}_{n-\\text{ary}}\\to\\alpha$로 인코딩할 수 있다.\n",
    "그러니까 단 한 개의 상수로만 이루어진 유닛(unit) 타입은 $\\forall \\alpha.\\,\\alpha\\to\\alpha$로,\n",
    "아무 상수도 없는 보이드(void) 타입은 $\\forall \\alpha.\\,\\alpha$로 인코딩할 수 있다. 앞서 한번\n",
    "언급한 바도 있지만 C나 Java와 같은 언어에서 주로 리턴값을 신경쓰지 않는 함수의 리턴 타입으로\n",
    "쓰이는 `void`는 그 타입의 (정상적인) 값이 없는 것이 아니라 값이 있지만 어차피 하나로 정해져 있으므로\n",
    "신경쓰지 않겠다는 유닛 타입에 해당하므로 프로그래밍언어 이론의 관점에서는 상당히\n",
    "혼란스러운 이름이 업계의 주류 프로그래밍언어의 키워드로 사용되는 셈이다. 다행히\n",
    "최근에 등장한 업계에서 주목받는 언어들 중에는 코틀린(Kotlin)이나 러스트(Rust)등이\n",
    "유닛 타입이라는 제대로 된 이름으로 부르고 있다."
   ]
  },
  {
   "cell_type": "markdown",
   "id": "6f6555b8-2c8c-40ad-ab1f-6c65ae9c18b8",
   "metadata": {},
   "source": [
    "### 자연수\n",
    "단순히 상수로만 이루어지지 않고 좀더 복잡한 재귀적 데이터 타입의 뵘--베라르두치 인코딩에 대해서도 알아보자.\n",
    "하스켈에서 간단한 재귀적 데이터 타입의 사례를 들자면, 자연수(`Nat`)를 다음과 같이\n",
    "자연수를 받아 하나 더 큰 자연수를 구성하는 데이터 생성자 `S`와 0을 나타내는 데이터 상수 `Z`로 \n",
    "이루어진 다음과 같은 데이터 타입으로 선언할 수 있다."
   ]
  },
  {
   "cell_type": "code",
   "execution_count": 40,
   "id": "8e6f8373-3c82-427a-8c43-6c14b401a922",
   "metadata": {},
   "outputs": [],
   "source": [
    "data Nat = S Nat | Z   deriving (Show)"
   ]
  },
  {
   "cell_type": "code",
   "execution_count": 41,
   "id": "29b6d814-4425-4948-b655-9fa4d1bd9584",
   "metadata": {},
   "outputs": [
    {
     "data": {
      "text/html": [
       "<style>/* Styles used for the Hoogle display in the pager */\n",
       ".hoogle-doc {\n",
       "display: block;\n",
       "padding-bottom: 1.3em;\n",
       "padding-left: 0.4em;\n",
       "}\n",
       ".hoogle-code {\n",
       "display: block;\n",
       "font-family: monospace;\n",
       "white-space: pre;\n",
       "}\n",
       ".hoogle-text {\n",
       "display: block;\n",
       "}\n",
       ".hoogle-name {\n",
       "color: green;\n",
       "font-weight: bold;\n",
       "}\n",
       ".hoogle-head {\n",
       "font-weight: bold;\n",
       "}\n",
       ".hoogle-sub {\n",
       "display: block;\n",
       "margin-left: 0.4em;\n",
       "}\n",
       ".hoogle-package {\n",
       "font-weight: bold;\n",
       "font-style: italic;\n",
       "}\n",
       ".hoogle-module {\n",
       "font-weight: bold;\n",
       "}\n",
       ".hoogle-class {\n",
       "font-weight: bold;\n",
       "}\n",
       ".get-type {\n",
       "color: green;\n",
       "font-weight: bold;\n",
       "font-family: monospace;\n",
       "display: block;\n",
       "white-space: pre-wrap;\n",
       "}\n",
       ".show-type {\n",
       "color: green;\n",
       "font-weight: bold;\n",
       "font-family: monospace;\n",
       "margin-left: 1em;\n",
       "}\n",
       ".mono {\n",
       "font-family: monospace;\n",
       "display: block;\n",
       "}\n",
       ".err-msg {\n",
       "color: red;\n",
       "font-style: italic;\n",
       "font-family: monospace;\n",
       "white-space: pre;\n",
       "display: block;\n",
       "}\n",
       "#unshowable {\n",
       "color: red;\n",
       "font-weight: bold;\n",
       "}\n",
       ".err-msg.in.collapse {\n",
       "padding-top: 0.7em;\n",
       "}\n",
       ".highlight-code {\n",
       "white-space: pre;\n",
       "font-family: monospace;\n",
       "}\n",
       ".suggestion-warning { \n",
       "font-weight: bold;\n",
       "color: rgb(200, 130, 0);\n",
       "}\n",
       ".suggestion-error { \n",
       "font-weight: bold;\n",
       "color: red;\n",
       "}\n",
       ".suggestion-name {\n",
       "font-weight: bold;\n",
       "}\n",
       "</style><span class='get-type'>S :: Nat -> Nat</span>"
      ],
      "text/plain": [
       "S :: Nat -> Nat"
      ]
     },
     "metadata": {},
     "output_type": "display_data"
    },
    {
     "data": {
      "text/html": [
       "<style>/* Styles used for the Hoogle display in the pager */\n",
       ".hoogle-doc {\n",
       "display: block;\n",
       "padding-bottom: 1.3em;\n",
       "padding-left: 0.4em;\n",
       "}\n",
       ".hoogle-code {\n",
       "display: block;\n",
       "font-family: monospace;\n",
       "white-space: pre;\n",
       "}\n",
       ".hoogle-text {\n",
       "display: block;\n",
       "}\n",
       ".hoogle-name {\n",
       "color: green;\n",
       "font-weight: bold;\n",
       "}\n",
       ".hoogle-head {\n",
       "font-weight: bold;\n",
       "}\n",
       ".hoogle-sub {\n",
       "display: block;\n",
       "margin-left: 0.4em;\n",
       "}\n",
       ".hoogle-package {\n",
       "font-weight: bold;\n",
       "font-style: italic;\n",
       "}\n",
       ".hoogle-module {\n",
       "font-weight: bold;\n",
       "}\n",
       ".hoogle-class {\n",
       "font-weight: bold;\n",
       "}\n",
       ".get-type {\n",
       "color: green;\n",
       "font-weight: bold;\n",
       "font-family: monospace;\n",
       "display: block;\n",
       "white-space: pre-wrap;\n",
       "}\n",
       ".show-type {\n",
       "color: green;\n",
       "font-weight: bold;\n",
       "font-family: monospace;\n",
       "margin-left: 1em;\n",
       "}\n",
       ".mono {\n",
       "font-family: monospace;\n",
       "display: block;\n",
       "}\n",
       ".err-msg {\n",
       "color: red;\n",
       "font-style: italic;\n",
       "font-family: monospace;\n",
       "white-space: pre;\n",
       "display: block;\n",
       "}\n",
       "#unshowable {\n",
       "color: red;\n",
       "font-weight: bold;\n",
       "}\n",
       ".err-msg.in.collapse {\n",
       "padding-top: 0.7em;\n",
       "}\n",
       ".highlight-code {\n",
       "white-space: pre;\n",
       "font-family: monospace;\n",
       "}\n",
       ".suggestion-warning { \n",
       "font-weight: bold;\n",
       "color: rgb(200, 130, 0);\n",
       "}\n",
       ".suggestion-error { \n",
       "font-weight: bold;\n",
       "color: red;\n",
       "}\n",
       ".suggestion-name {\n",
       "font-weight: bold;\n",
       "}\n",
       "</style><span class='get-type'>Z :: Nat</span>"
      ],
      "text/plain": [
       "Z :: Nat"
      ]
     },
     "metadata": {},
     "output_type": "display_data"
    }
   ],
   "source": [
    ":type S\n",
    ":type Z"
   ]
  },
  {
   "cell_type": "code",
   "execution_count": 42,
   "id": "e79c04c3-ab41-432d-babc-36eb6d92dcc4",
   "metadata": {},
   "outputs": [
    {
     "data": {
      "text/plain": [
       "Z"
      ]
     },
     "metadata": {},
     "output_type": "display_data"
    },
    {
     "data": {
      "text/plain": [
       "S Z"
      ]
     },
     "metadata": {},
     "output_type": "display_data"
    },
    {
     "data": {
      "text/plain": [
       "S (S Z)"
      ]
     },
     "metadata": {},
     "output_type": "display_data"
    },
    {
     "data": {
      "text/plain": [
       "S (S (S Z))"
      ]
     },
     "metadata": {},
     "output_type": "display_data"
    }
   ],
   "source": [
    "Z          -- 0\n",
    "S Z        -- 1\n",
    "S(S Z)     -- 2\n",
    "S(S(S Z))  -- 3"
   ]
  },
  {
   "cell_type": "markdown",
   "id": "5e4f5931-f34d-4032-bc6c-b8a197552b30",
   "metadata": {},
   "source": [
    "이렇게 `S`가 몇 번 연달아 적용되었는지가 바로 자연수의 값에 해당되며 `Z`는 마치 맨 끝에 오는 마침표와 같다.\n",
    "우리에게 가장 익숙한 자연수나 정수의 표현인 십진수는 0부터 9까지 열 개의 기호로 수를 나타낸다.\n",
    "오늘날의 전자 컴퓨터 내부에서는 0과 1에 해당하는 두 개의 기호로 수를 나타내는 이진수 표현을 사용한다.\n",
    "위에서 선언한 `Nat`은 따라서 수의 값에 유의미한 영향을 미치는 기호가 `S` 단 한 개이므로 이를 일진수 표현이라고 볼 수 있다."
   ]
  },
  {
   "cell_type": "markdown",
   "id": "f4d10031-e6fc-4559-ae46-bffa98c2633e",
   "metadata": {},
   "source": [
    "앞서 진리값에 대한 처치 인코딩이나 뵘--베라르두치 인코딩에서는 진리값을 두 인자 중에서 하나를 선택하는 함수로 인코딩하였다.\n",
    "자연수에 대한 인코딩의 핵심 아이디어는 자연수를 그 자연수 값만큼 함수적용을 연달아 시키는 고차함수 혹은 그 자연수 값만큼\n",
    "같은 함수를 반복해 합성한 고차함수로써 인코딩하자는 것이다.\n",
    "이를테면 3의 처치 인코딩을 $c_3$라고 할 때 $c_3\\,f\\;x \\equiv f(f(f\\;x))$라는 이야기다.\n",
    "그러므로 3의 처치 인코딩 $c_3 = \\lambda f.\\lambda x.\\,f(f(f\\;x)))$이며 일반적으로\n",
    "자연수 $k$의 처치 인코딩 $c_k = \\lambda f.\\lambda x.\\underbrace{f(\\ldots(f}_{k\\text{번 적용}}\\;x)\\ldots)$이다.\n",
    "하스켈 데이터 타입 `Nat`을 이런 방식의 뵘--베라르두치 인코딩으로 옮긴 하스켈 코드는 다음과 같다."
   ]
  },
  {
   "cell_type": "code",
   "execution_count": 43,
   "id": "8930c87d-3fd9-4a51-a512-cd9bc19ac3d4",
   "metadata": {},
   "outputs": [],
   "source": [
    "type NAT = forall a. (a -> a) -> a -> a\n",
    "s :: NAT -> NAT\n",
    "s = \\n   -> \\f -> \\x -> f (n f x) -- f를 n번 적용한 결과에 f 한 번 더 적용\n",
    "z :: NAT\n",
    "z = \\f -> \\x -> x"
   ]
  },
  {
   "cell_type": "markdown",
   "id": "40290412-9acf-4a4f-8ae7-1b9a05c98070",
   "metadata": {},
   "source": [
    "\\noindent\n",
    "이렇게 인코딩된 자연수(`NAT`)는 다음처럼 하스켈 정수로 변환해 확인할 수 있다."
   ]
  },
  {
   "cell_type": "code",
   "execution_count": 44,
   "id": "19021fe1-4d42-4f0c-a54b-a3c8f23fadf3",
   "metadata": {},
   "outputs": [
    {
     "data": {
      "text/plain": [
       "0"
      ]
     },
     "metadata": {},
     "output_type": "display_data"
    },
    {
     "data": {
      "text/plain": [
       "1"
      ]
     },
     "metadata": {},
     "output_type": "display_data"
    },
    {
     "data": {
      "text/plain": [
       "2"
      ]
     },
     "metadata": {},
     "output_type": "display_data"
    },
    {
     "data": {
      "text/plain": [
       "3"
      ]
     },
     "metadata": {},
     "output_type": "display_data"
    }
   ],
   "source": [
    "z         (+1) 0\n",
    "s z       (+1) 0\n",
    "s(s z)    (+1) 0\n",
    "s(s(s z)) (+1) 0"
   ]
  },
  {
   "cell_type": "markdown",
   "id": "bda278a4-eece-4eaf-b7f4-68d9dc8642e8",
   "metadata": {},
   "source": [
    "참고로 `(+1)`은 람다식 `(\\x -> x+1)`를 줄인 표현이며\n",
    "마찬가지로 `(1+)`는 람다식 `(\\x -> 1+y)`를 줄인 표현이다.\n",
    "하스켈에서 이렇게 중위 연산식의 어느 한쪽 인자를 빼놓고 괄호로 둘러싼\n",
    "표현을 잘린식(section)이라 일컬으며 덧셈 말고 다른 중위 연산자로도\n",
    "`(3*)`이나 `(/2)`와 같이 잘린식을 작성할 수 있다."
   ]
  },
  {
   "cell_type": "markdown",
   "id": "eabd5d70-94f3-42ec-872a-08189f8d4ef9",
   "metadata": {},
   "source": [
    "### 서로 다른 표현 방식의 자연수로 변환\n",
    "하스켈의 기본 타입인 `Int`와 앞서 살펴본 `Nat` 및 `NAT` 타입의 자연수를\n",
    "서로 다른 표현 방식으로 변환하는 함수들을 선언하려 한다.\n",
    "아래의 `fromInt2Nat` 함수에서 음의 정수는 고려하지 않아도 좋다.\n",
    "연습문제로 아래 선언을 완성해 보라."
   ]
  },
  {
   "cell_type": "code",
   "execution_count": 45,
   "id": "a3634ab8-4d9b-4195-88c6-23232736d05d",
   "metadata": {},
   "outputs": [],
   "source": [
    "fromInt2Nat :: Int -> Nat\n",
    "fromInt2Nat 0 = undefined\n",
    "fromInt2Nat n = undefined\n",
    "\n",
    "fromNat2Int :: Nat -> Int\n",
    "fromNat2Int Z     = undefined\n",
    "fromNat2Int (S n) = undefined\n",
    "\n",
    "fromNat2NAT :: Nat -> NAT\n",
    "fromNat2NAT Z     = undefined\n",
    "fromNat2NAT (S n) = undefined\n",
    "\n",
    "fromNAT2Nat :: NAT -> Nat\n",
    "fromNAT2Nat n = undefined"
   ]
  },
  {
   "cell_type": "markdown",
   "id": "d556a15a-9dc2-4c57-8d1e-a5617c802d64",
   "metadata": {},
   "source": [
    "# 하스켈에서 매개변수화된 데이터 타입\n",
    "이전 장에서 `Maybe a`와 같은 매개변수화된 데이터 타입의 사례를 이미 접해 보았다.\n",
    "사실 그 전부터 이 책에서는 하스켈의 매개변수화된 데이터 타입이 나타나고 있다.\n",
    "순서쌍 타입 `(a,b)`는 두 개의 타입변수 `a`와 `b`로 매개변수화된 데이터 타입이며\n",
    "리스트 타입 `[a]`는 한 개의 타입변수 `a`로 매개변수화된 타입이다.\n",
    "이렇게 매개변수화된 타입에 대해서는 매개변수를 구체화한 타입에 대한 함수도\n",
    "선언할 수 있지만 매개변수가 무엇이든 일관되게 동작하는 다형 타입 함수도 선언할 수 있다.\n",
    "순서쌍과 리스트에 대한 다형 함수의 대표적인 사례로는\n",
    "이미 표준라이브러리에 선언되어 제공되는 다음과 같은 함수들이 있다."
   ]
  },
  {
   "cell_type": "code",
   "execution_count": 46,
   "id": "624284e3-90ce-46d3-9a12-6384c44dfc8e",
   "metadata": {},
   "outputs": [
    {
     "data": {
      "text/html": [
       "<style>/* Styles used for the Hoogle display in the pager */\n",
       ".hoogle-doc {\n",
       "display: block;\n",
       "padding-bottom: 1.3em;\n",
       "padding-left: 0.4em;\n",
       "}\n",
       ".hoogle-code {\n",
       "display: block;\n",
       "font-family: monospace;\n",
       "white-space: pre;\n",
       "}\n",
       ".hoogle-text {\n",
       "display: block;\n",
       "}\n",
       ".hoogle-name {\n",
       "color: green;\n",
       "font-weight: bold;\n",
       "}\n",
       ".hoogle-head {\n",
       "font-weight: bold;\n",
       "}\n",
       ".hoogle-sub {\n",
       "display: block;\n",
       "margin-left: 0.4em;\n",
       "}\n",
       ".hoogle-package {\n",
       "font-weight: bold;\n",
       "font-style: italic;\n",
       "}\n",
       ".hoogle-module {\n",
       "font-weight: bold;\n",
       "}\n",
       ".hoogle-class {\n",
       "font-weight: bold;\n",
       "}\n",
       ".get-type {\n",
       "color: green;\n",
       "font-weight: bold;\n",
       "font-family: monospace;\n",
       "display: block;\n",
       "white-space: pre-wrap;\n",
       "}\n",
       ".show-type {\n",
       "color: green;\n",
       "font-weight: bold;\n",
       "font-family: monospace;\n",
       "margin-left: 1em;\n",
       "}\n",
       ".mono {\n",
       "font-family: monospace;\n",
       "display: block;\n",
       "}\n",
       ".err-msg {\n",
       "color: red;\n",
       "font-style: italic;\n",
       "font-family: monospace;\n",
       "white-space: pre;\n",
       "display: block;\n",
       "}\n",
       "#unshowable {\n",
       "color: red;\n",
       "font-weight: bold;\n",
       "}\n",
       ".err-msg.in.collapse {\n",
       "padding-top: 0.7em;\n",
       "}\n",
       ".highlight-code {\n",
       "white-space: pre;\n",
       "font-family: monospace;\n",
       "}\n",
       ".suggestion-warning { \n",
       "font-weight: bold;\n",
       "color: rgb(200, 130, 0);\n",
       "}\n",
       ".suggestion-error { \n",
       "font-weight: bold;\n",
       "color: red;\n",
       "}\n",
       ".suggestion-name {\n",
       "font-weight: bold;\n",
       "}\n",
       "</style><span class='get-type'>fst :: forall a b. (a, b) -> a</span>"
      ],
      "text/plain": [
       "fst :: forall a b. (a, b) -> a"
      ]
     },
     "metadata": {},
     "output_type": "display_data"
    },
    {
     "data": {
      "text/html": [
       "<style>/* Styles used for the Hoogle display in the pager */\n",
       ".hoogle-doc {\n",
       "display: block;\n",
       "padding-bottom: 1.3em;\n",
       "padding-left: 0.4em;\n",
       "}\n",
       ".hoogle-code {\n",
       "display: block;\n",
       "font-family: monospace;\n",
       "white-space: pre;\n",
       "}\n",
       ".hoogle-text {\n",
       "display: block;\n",
       "}\n",
       ".hoogle-name {\n",
       "color: green;\n",
       "font-weight: bold;\n",
       "}\n",
       ".hoogle-head {\n",
       "font-weight: bold;\n",
       "}\n",
       ".hoogle-sub {\n",
       "display: block;\n",
       "margin-left: 0.4em;\n",
       "}\n",
       ".hoogle-package {\n",
       "font-weight: bold;\n",
       "font-style: italic;\n",
       "}\n",
       ".hoogle-module {\n",
       "font-weight: bold;\n",
       "}\n",
       ".hoogle-class {\n",
       "font-weight: bold;\n",
       "}\n",
       ".get-type {\n",
       "color: green;\n",
       "font-weight: bold;\n",
       "font-family: monospace;\n",
       "display: block;\n",
       "white-space: pre-wrap;\n",
       "}\n",
       ".show-type {\n",
       "color: green;\n",
       "font-weight: bold;\n",
       "font-family: monospace;\n",
       "margin-left: 1em;\n",
       "}\n",
       ".mono {\n",
       "font-family: monospace;\n",
       "display: block;\n",
       "}\n",
       ".err-msg {\n",
       "color: red;\n",
       "font-style: italic;\n",
       "font-family: monospace;\n",
       "white-space: pre;\n",
       "display: block;\n",
       "}\n",
       "#unshowable {\n",
       "color: red;\n",
       "font-weight: bold;\n",
       "}\n",
       ".err-msg.in.collapse {\n",
       "padding-top: 0.7em;\n",
       "}\n",
       ".highlight-code {\n",
       "white-space: pre;\n",
       "font-family: monospace;\n",
       "}\n",
       ".suggestion-warning { \n",
       "font-weight: bold;\n",
       "color: rgb(200, 130, 0);\n",
       "}\n",
       ".suggestion-error { \n",
       "font-weight: bold;\n",
       "color: red;\n",
       "}\n",
       ".suggestion-name {\n",
       "font-weight: bold;\n",
       "}\n",
       "</style><span class='get-type'>snd :: forall a b. (a, b) -> b</span>"
      ],
      "text/plain": [
       "snd :: forall a b. (a, b) -> b"
      ]
     },
     "metadata": {},
     "output_type": "display_data"
    },
    {
     "data": {
      "text/html": [
       "<style>/* Styles used for the Hoogle display in the pager */\n",
       ".hoogle-doc {\n",
       "display: block;\n",
       "padding-bottom: 1.3em;\n",
       "padding-left: 0.4em;\n",
       "}\n",
       ".hoogle-code {\n",
       "display: block;\n",
       "font-family: monospace;\n",
       "white-space: pre;\n",
       "}\n",
       ".hoogle-text {\n",
       "display: block;\n",
       "}\n",
       ".hoogle-name {\n",
       "color: green;\n",
       "font-weight: bold;\n",
       "}\n",
       ".hoogle-head {\n",
       "font-weight: bold;\n",
       "}\n",
       ".hoogle-sub {\n",
       "display: block;\n",
       "margin-left: 0.4em;\n",
       "}\n",
       ".hoogle-package {\n",
       "font-weight: bold;\n",
       "font-style: italic;\n",
       "}\n",
       ".hoogle-module {\n",
       "font-weight: bold;\n",
       "}\n",
       ".hoogle-class {\n",
       "font-weight: bold;\n",
       "}\n",
       ".get-type {\n",
       "color: green;\n",
       "font-weight: bold;\n",
       "font-family: monospace;\n",
       "display: block;\n",
       "white-space: pre-wrap;\n",
       "}\n",
       ".show-type {\n",
       "color: green;\n",
       "font-weight: bold;\n",
       "font-family: monospace;\n",
       "margin-left: 1em;\n",
       "}\n",
       ".mono {\n",
       "font-family: monospace;\n",
       "display: block;\n",
       "}\n",
       ".err-msg {\n",
       "color: red;\n",
       "font-style: italic;\n",
       "font-family: monospace;\n",
       "white-space: pre;\n",
       "display: block;\n",
       "}\n",
       "#unshowable {\n",
       "color: red;\n",
       "font-weight: bold;\n",
       "}\n",
       ".err-msg.in.collapse {\n",
       "padding-top: 0.7em;\n",
       "}\n",
       ".highlight-code {\n",
       "white-space: pre;\n",
       "font-family: monospace;\n",
       "}\n",
       ".suggestion-warning { \n",
       "font-weight: bold;\n",
       "color: rgb(200, 130, 0);\n",
       "}\n",
       ".suggestion-error { \n",
       "font-weight: bold;\n",
       "color: red;\n",
       "}\n",
       ".suggestion-name {\n",
       "font-weight: bold;\n",
       "}\n",
       "</style><span class='get-type'>map :: forall a b. (a -> b) -> [a] -> [b]</span>"
      ],
      "text/plain": [
       "map :: forall a b. (a -> b) -> [a] -> [b]"
      ]
     },
     "metadata": {},
     "output_type": "display_data"
    },
    {
     "data": {
      "text/html": [
       "<style>/* Styles used for the Hoogle display in the pager */\n",
       ".hoogle-doc {\n",
       "display: block;\n",
       "padding-bottom: 1.3em;\n",
       "padding-left: 0.4em;\n",
       "}\n",
       ".hoogle-code {\n",
       "display: block;\n",
       "font-family: monospace;\n",
       "white-space: pre;\n",
       "}\n",
       ".hoogle-text {\n",
       "display: block;\n",
       "}\n",
       ".hoogle-name {\n",
       "color: green;\n",
       "font-weight: bold;\n",
       "}\n",
       ".hoogle-head {\n",
       "font-weight: bold;\n",
       "}\n",
       ".hoogle-sub {\n",
       "display: block;\n",
       "margin-left: 0.4em;\n",
       "}\n",
       ".hoogle-package {\n",
       "font-weight: bold;\n",
       "font-style: italic;\n",
       "}\n",
       ".hoogle-module {\n",
       "font-weight: bold;\n",
       "}\n",
       ".hoogle-class {\n",
       "font-weight: bold;\n",
       "}\n",
       ".get-type {\n",
       "color: green;\n",
       "font-weight: bold;\n",
       "font-family: monospace;\n",
       "display: block;\n",
       "white-space: pre-wrap;\n",
       "}\n",
       ".show-type {\n",
       "color: green;\n",
       "font-weight: bold;\n",
       "font-family: monospace;\n",
       "margin-left: 1em;\n",
       "}\n",
       ".mono {\n",
       "font-family: monospace;\n",
       "display: block;\n",
       "}\n",
       ".err-msg {\n",
       "color: red;\n",
       "font-style: italic;\n",
       "font-family: monospace;\n",
       "white-space: pre;\n",
       "display: block;\n",
       "}\n",
       "#unshowable {\n",
       "color: red;\n",
       "font-weight: bold;\n",
       "}\n",
       ".err-msg.in.collapse {\n",
       "padding-top: 0.7em;\n",
       "}\n",
       ".highlight-code {\n",
       "white-space: pre;\n",
       "font-family: monospace;\n",
       "}\n",
       ".suggestion-warning { \n",
       "font-weight: bold;\n",
       "color: rgb(200, 130, 0);\n",
       "}\n",
       ".suggestion-error { \n",
       "font-weight: bold;\n",
       "color: red;\n",
       "}\n",
       ".suggestion-name {\n",
       "font-weight: bold;\n",
       "}\n",
       "</style><span class='get-type'>filter :: forall a. (a -> Bool) -> [a] -> [a]</span>"
      ],
      "text/plain": [
       "filter :: forall a. (a -> Bool) -> [a] -> [a]"
      ]
     },
     "metadata": {},
     "output_type": "display_data"
    }
   ],
   "source": [
    ":type fst\n",
    ":type snd\n",
    ":type map\n",
    ":type filter"
   ]
  },
  {
   "cell_type": "code",
   "execution_count": 47,
   "id": "dccaed33-6dcc-4997-8034-a11b868f0b84",
   "metadata": {},
   "outputs": [
    {
     "data": {
      "text/plain": [
       "[False,True,False,True]"
      ]
     },
     "metadata": {},
     "output_type": "display_data"
    },
    {
     "data": {
      "text/plain": [
       "[\"True\",\"False\",\"True\"]"
      ]
     },
     "metadata": {},
     "output_type": "display_data"
    }
   ],
   "source": [
    "map even [1, 2, 3, 4]        -- a=Int, b=Bool\n",
    "map show [True, False, True] -- a=Bool, b=String"
   ]
  },
  {
   "cell_type": "code",
   "execution_count": 48,
   "id": "42b42352-03fa-4135-a119-e6c01bc91d87",
   "metadata": {},
   "outputs": [
    {
     "data": {
      "text/html": [
       "<style>/* Styles used for the Hoogle display in the pager */\n",
       ".hoogle-doc {\n",
       "display: block;\n",
       "padding-bottom: 1.3em;\n",
       "padding-left: 0.4em;\n",
       "}\n",
       ".hoogle-code {\n",
       "display: block;\n",
       "font-family: monospace;\n",
       "white-space: pre;\n",
       "}\n",
       ".hoogle-text {\n",
       "display: block;\n",
       "}\n",
       ".hoogle-name {\n",
       "color: green;\n",
       "font-weight: bold;\n",
       "}\n",
       ".hoogle-head {\n",
       "font-weight: bold;\n",
       "}\n",
       ".hoogle-sub {\n",
       "display: block;\n",
       "margin-left: 0.4em;\n",
       "}\n",
       ".hoogle-package {\n",
       "font-weight: bold;\n",
       "font-style: italic;\n",
       "}\n",
       ".hoogle-module {\n",
       "font-weight: bold;\n",
       "}\n",
       ".hoogle-class {\n",
       "font-weight: bold;\n",
       "}\n",
       ".get-type {\n",
       "color: green;\n",
       "font-weight: bold;\n",
       "font-family: monospace;\n",
       "display: block;\n",
       "white-space: pre-wrap;\n",
       "}\n",
       ".show-type {\n",
       "color: green;\n",
       "font-weight: bold;\n",
       "font-family: monospace;\n",
       "margin-left: 1em;\n",
       "}\n",
       ".mono {\n",
       "font-family: monospace;\n",
       "display: block;\n",
       "}\n",
       ".err-msg {\n",
       "color: red;\n",
       "font-style: italic;\n",
       "font-family: monospace;\n",
       "white-space: pre;\n",
       "display: block;\n",
       "}\n",
       "#unshowable {\n",
       "color: red;\n",
       "font-weight: bold;\n",
       "}\n",
       ".err-msg.in.collapse {\n",
       "padding-top: 0.7em;\n",
       "}\n",
       ".highlight-code {\n",
       "white-space: pre;\n",
       "font-family: monospace;\n",
       "}\n",
       ".suggestion-warning { \n",
       "font-weight: bold;\n",
       "color: rgb(200, 130, 0);\n",
       "}\n",
       ".suggestion-error { \n",
       "font-weight: bold;\n",
       "color: red;\n",
       "}\n",
       ".suggestion-name {\n",
       "font-weight: bold;\n",
       "}\n",
       "</style><span class='get-type'>isUpper :: Char -> Bool</span>"
      ],
      "text/plain": [
       "isUpper :: Char -> Bool"
      ]
     },
     "metadata": {},
     "output_type": "display_data"
    },
    {
     "data": {
      "text/plain": [
       "True"
      ]
     },
     "metadata": {},
     "output_type": "display_data"
    },
    {
     "data": {
      "text/plain": [
       "False"
      ]
     },
     "metadata": {},
     "output_type": "display_data"
    }
   ],
   "source": [
    "import Data.Char (isUpper)\n",
    ":type isUpper\n",
    "isUpper 'C' -- 대문자인 경우에 True\n",
    "isUpper 'c' -- 소문자인 경우는 False"
   ]
  },
  {
   "cell_type": "code",
   "execution_count": 49,
   "id": "af7e8ba7-6b75-4542-aced-1ea8f941d6db",
   "metadata": {},
   "outputs": [
    {
     "data": {
      "text/plain": [
       "[2,4,6]"
      ]
     },
     "metadata": {},
     "output_type": "display_data"
    },
    {
     "data": {
      "text/plain": [
       "\"HB\""
      ]
     },
     "metadata": {},
     "output_type": "display_data"
    }
   ],
   "source": [
    "filter even [1, 2, 3, 4, 5, 6]   -- a=Int\n",
    "filter isUpper ['H','a','B','b'] -- a=Char"
   ]
  },
  {
   "cell_type": "code",
   "execution_count": 50,
   "id": "dd461693-daf1-4337-a8d2-bf9b81fd5aeb",
   "metadata": {},
   "outputs": [
    {
     "data": {},
     "metadata": {},
     "output_type": "display_data"
    },
    {
     "data": {
      "text/html": [
       "<div style='background: rgb(247, 247, 247);'><form><textarea id='code'>type String :: *\n",
       "type String = [Char]\n",
       "  \t-- Defined in ‘GHC.Base’\n",
       "</textarea></form></div><script>CodeMirror.fromTextArea(document.getElementById('code'), {mode: 'haskell', readOnly: 'nocursor'});</script>"
      ],
      "text/plain": [
       "type String :: *\n",
       "type String = [Char]\n",
       "  \t-- Defined in ‘GHC.Base’"
      ]
     },
     "metadata": {},
     "output_type": "display_data"
    }
   ],
   "source": [
    ":info String -- 하스켈에서 String은 [Char]의 타입 별명"
   ]
  },
  {
   "cell_type": "code",
   "execution_count": 51,
   "id": "44f69375-99c4-450f-b957-b0faea399119",
   "metadata": {},
   "outputs": [
    {
     "data": {
      "text/plain": [
       "True"
      ]
     },
     "metadata": {},
     "output_type": "display_data"
    }
   ],
   "source": [
    "\"AB\" == ['A','B'] -- 즉, 문자열이 곧 문자의 리스트다"
   ]
  },
  {
   "cell_type": "markdown",
   "id": "b2d51cc7-5639-4f78-8c2e-35ae14a867e8",
   "metadata": {},
   "source": [
    "하스켈의 순서쌍은 다음과 같은 데이터 타입으로 선언되어 있다.\n",
    "참고로, 아래에서 왼쪽의 `(,)`는 타입 생성자이며 오른쪽의 `(,)`는 데이터 생성자이다.\n",
    "하스켈에서는 타입 계층의 이름공간과 식 계층의 이름공간이 분리되어 있어\n",
    "똑같은 식별자의 타입 생성자와 데이터 생성자가 같은 프로그램에 있어도 괜찮다.\n",
    "```haskell\n",
    "\n",
    "    data (,) a b = (,) a b\n",
    "    \n",
    "```\n",
    "순서쌍의 경우 가독성을 위해 `(a,b)`와 같이 괄호와 쉼표 사에에 쓸 수 있도록 특별한 표기를 허용하는 것일 뿐이다.\n",
    "그래서 보통의 데이터 타입처럼 전위(prefix) 표기로도 작성이 가능하다."
   ]
  },
  {
   "cell_type": "code",
   "execution_count": 52,
   "id": "8525d98f-7395-4fc2-8ff5-68f5b9c05cd8",
   "metadata": {},
   "outputs": [
    {
     "data": {
      "text/plain": [
       "(1,'a')"
      ]
     },
     "metadata": {},
     "output_type": "display_data"
    },
    {
     "data": {
      "text/plain": [
       "(1,'a')"
      ]
     },
     "metadata": {},
     "output_type": "display_data"
    },
    {
     "data": {
      "text/plain": [
       "True"
      ]
     },
     "metadata": {},
     "output_type": "display_data"
    }
   ],
   "source": [
    "(,) 1 'a' :: (,) Int Char -- 보통의 데이터 타입과 같은 전위 표현\n",
    "(1,'a')   :: (Int,Char)   -- 가독성을 위해 특별히 허용하는 표현\n",
    "(,) 1 'a' == (1,'a')       -- 어떤 방식으로 표현하든 같다"
   ]
  },
  {
   "cell_type": "markdown",
   "id": "3f22b1eb-4e55-429f-9621-81f6f6efbae9",
   "metadata": {},
   "source": [
    "하스켈의 리스트도 다음과 같은 데이터 타입으로 정의되어 있으며,\n",
    "순서쌍과 마찬가지로 가독성을 위해 특별한 표기를 허용하는 것일 뿐이다.\n",
    "```haskell\n",
    "    data [] a = []              {- 데이터 상수 []로 빈 리스트를 구성 -}\n",
    "                | (:) a ([] a)  {- 데이터 생성자 (:)로 원소(a)와 리스트([] a)를\n",
    "                                           묶어 새로운 리스트를 구성 -}\n",
    "```"
   ]
  },
  {
   "cell_type": "code",
   "execution_count": 53,
   "id": "6af2d69e-3034-4f8a-88ef-ae797e6ec43a",
   "metadata": {},
   "outputs": [
    {
     "data": {
      "text/plain": [
       "[1,2]"
      ]
     },
     "metadata": {},
     "output_type": "display_data"
    },
    {
     "data": {
      "text/plain": [
       "[1,2]"
      ]
     },
     "metadata": {},
     "output_type": "display_data"
    },
    {
     "data": {
      "text/plain": [
       "[1,2]"
      ]
     },
     "metadata": {},
     "output_type": "display_data"
    },
    {
     "data": {
      "text/plain": [
       "True"
      ]
     },
     "metadata": {},
     "output_type": "display_data"
    },
    {
     "data": {
      "text/plain": [
       "True"
      ]
     },
     "metadata": {},
     "output_type": "display_data"
    }
   ],
   "source": [
    "(:) 1 ((:) 2 []) :: [] Int -- 보통의 데이터 타입과 같은 전위 표현\n",
    "1 : 2 : []       :: [Int]  -- 가독성을 위해 특별히 허용하는 표현\n",
    "[1, 2]           :: [Int]  -- 더 보기좋게 더 특별히 허용하는 표현 \n",
    "(:) 1 ((:) 2 []) == 1 : 2 : []  -- 어떤 방식으로 표현하든 같다\n",
    "[1, 2]           == 1 : 2 : []  -- 어떤 방식으로 표현하든 같다"
   ]
  },
  {
   "cell_type": "markdown",
   "id": "8ed841a4-84ba-4de2-9ee8-bd32930ae1d7",
   "metadata": {},
   "source": [
    "## 하스켈에서 타입 생성자의 분류\n",
    "하스켈에서 식은 타입으로 분류된다. 그런데 식의 계층이 아닌 타입의 계층에서도 분류가 필요하다.\n",
    "`Maybe`, `(,)`, `[]`와 같은 매개변수화된 타입의 식별자는\n",
    "그 자체로는 타입이 아니며 `Maybe Int`, `(,) Char Bool`, `[] Int` 처럼\n",
    "적절한 개수의 타입에 적용했을 때 비로소 타입이 되는 타입 생성자(type constructor)이다.\n",
    "`Int`, `Bool`, `Char`처럼 매개변수화되지 않고 그 자체로 타입인\n",
    "경우를 0항 타입 생성자(nullary type constructor)로 볼 수 있다.\n",
    "`Maybe`나 `[]`는 하나의 타입에 적용하면 타입이 되는\n",
    "1항 타입 생성자(unary type constructor)이며,\n",
    "`(,)`는 두 개의 타입에 연달아 적용해야 타입이 되는\n",
    "2항 타입 생성자(binary type constructor)이다.\n",
    "이러한 타입 생성자의 분류를 카인드(kind)라고 하며, \n",
    "다음과 같이 타입 생성자가 어떤 카인드로 분류되는지\n",
    "하스켈 컴파일러에게 물어볼 수 있다. "
   ]
  },
  {
   "cell_type": "code",
   "execution_count": 54,
   "id": "c53ca14b-1587-4c06-afee-130f166707df",
   "metadata": {},
   "outputs": [
    {
     "data": {
      "text/html": [
       "<style>/* Styles used for the Hoogle display in the pager */\n",
       ".hoogle-doc {\n",
       "display: block;\n",
       "padding-bottom: 1.3em;\n",
       "padding-left: 0.4em;\n",
       "}\n",
       ".hoogle-code {\n",
       "display: block;\n",
       "font-family: monospace;\n",
       "white-space: pre;\n",
       "}\n",
       ".hoogle-text {\n",
       "display: block;\n",
       "}\n",
       ".hoogle-name {\n",
       "color: green;\n",
       "font-weight: bold;\n",
       "}\n",
       ".hoogle-head {\n",
       "font-weight: bold;\n",
       "}\n",
       ".hoogle-sub {\n",
       "display: block;\n",
       "margin-left: 0.4em;\n",
       "}\n",
       ".hoogle-package {\n",
       "font-weight: bold;\n",
       "font-style: italic;\n",
       "}\n",
       ".hoogle-module {\n",
       "font-weight: bold;\n",
       "}\n",
       ".hoogle-class {\n",
       "font-weight: bold;\n",
       "}\n",
       ".get-type {\n",
       "color: green;\n",
       "font-weight: bold;\n",
       "font-family: monospace;\n",
       "display: block;\n",
       "white-space: pre-wrap;\n",
       "}\n",
       ".show-type {\n",
       "color: green;\n",
       "font-weight: bold;\n",
       "font-family: monospace;\n",
       "margin-left: 1em;\n",
       "}\n",
       ".mono {\n",
       "font-family: monospace;\n",
       "display: block;\n",
       "}\n",
       ".err-msg {\n",
       "color: red;\n",
       "font-style: italic;\n",
       "font-family: monospace;\n",
       "white-space: pre;\n",
       "display: block;\n",
       "}\n",
       "#unshowable {\n",
       "color: red;\n",
       "font-weight: bold;\n",
       "}\n",
       ".err-msg.in.collapse {\n",
       "padding-top: 0.7em;\n",
       "}\n",
       ".highlight-code {\n",
       "white-space: pre;\n",
       "font-family: monospace;\n",
       "}\n",
       ".suggestion-warning { \n",
       "font-weight: bold;\n",
       "color: rgb(200, 130, 0);\n",
       "}\n",
       ".suggestion-error { \n",
       "font-weight: bold;\n",
       "color: red;\n",
       "}\n",
       ".suggestion-name {\n",
       "font-weight: bold;\n",
       "}\n",
       "</style><span class='get-type'>Int :: *</span>"
      ],
      "text/plain": [
       "Int :: *"
      ]
     },
     "metadata": {},
     "output_type": "display_data"
    },
    {
     "data": {
      "text/html": [
       "<style>/* Styles used for the Hoogle display in the pager */\n",
       ".hoogle-doc {\n",
       "display: block;\n",
       "padding-bottom: 1.3em;\n",
       "padding-left: 0.4em;\n",
       "}\n",
       ".hoogle-code {\n",
       "display: block;\n",
       "font-family: monospace;\n",
       "white-space: pre;\n",
       "}\n",
       ".hoogle-text {\n",
       "display: block;\n",
       "}\n",
       ".hoogle-name {\n",
       "color: green;\n",
       "font-weight: bold;\n",
       "}\n",
       ".hoogle-head {\n",
       "font-weight: bold;\n",
       "}\n",
       ".hoogle-sub {\n",
       "display: block;\n",
       "margin-left: 0.4em;\n",
       "}\n",
       ".hoogle-package {\n",
       "font-weight: bold;\n",
       "font-style: italic;\n",
       "}\n",
       ".hoogle-module {\n",
       "font-weight: bold;\n",
       "}\n",
       ".hoogle-class {\n",
       "font-weight: bold;\n",
       "}\n",
       ".get-type {\n",
       "color: green;\n",
       "font-weight: bold;\n",
       "font-family: monospace;\n",
       "display: block;\n",
       "white-space: pre-wrap;\n",
       "}\n",
       ".show-type {\n",
       "color: green;\n",
       "font-weight: bold;\n",
       "font-family: monospace;\n",
       "margin-left: 1em;\n",
       "}\n",
       ".mono {\n",
       "font-family: monospace;\n",
       "display: block;\n",
       "}\n",
       ".err-msg {\n",
       "color: red;\n",
       "font-style: italic;\n",
       "font-family: monospace;\n",
       "white-space: pre;\n",
       "display: block;\n",
       "}\n",
       "#unshowable {\n",
       "color: red;\n",
       "font-weight: bold;\n",
       "}\n",
       ".err-msg.in.collapse {\n",
       "padding-top: 0.7em;\n",
       "}\n",
       ".highlight-code {\n",
       "white-space: pre;\n",
       "font-family: monospace;\n",
       "}\n",
       ".suggestion-warning { \n",
       "font-weight: bold;\n",
       "color: rgb(200, 130, 0);\n",
       "}\n",
       ".suggestion-error { \n",
       "font-weight: bold;\n",
       "color: red;\n",
       "}\n",
       ".suggestion-name {\n",
       "font-weight: bold;\n",
       "}\n",
       "</style><span class='get-type'>Bool :: *</span>"
      ],
      "text/plain": [
       "Bool :: *"
      ]
     },
     "metadata": {},
     "output_type": "display_data"
    }
   ],
   "source": [
    ":kind Int  -- 0-ary (nullary) type constructor\n",
    ":kind Bool -- 0-ary (nullary) type constructor"
   ]
  },
  {
   "cell_type": "code",
   "execution_count": 55,
   "id": "5c09b20d-ca77-4230-87bb-cdd732365f19",
   "metadata": {},
   "outputs": [
    {
     "data": {
      "text/html": [
       "<style>/* Styles used for the Hoogle display in the pager */\n",
       ".hoogle-doc {\n",
       "display: block;\n",
       "padding-bottom: 1.3em;\n",
       "padding-left: 0.4em;\n",
       "}\n",
       ".hoogle-code {\n",
       "display: block;\n",
       "font-family: monospace;\n",
       "white-space: pre;\n",
       "}\n",
       ".hoogle-text {\n",
       "display: block;\n",
       "}\n",
       ".hoogle-name {\n",
       "color: green;\n",
       "font-weight: bold;\n",
       "}\n",
       ".hoogle-head {\n",
       "font-weight: bold;\n",
       "}\n",
       ".hoogle-sub {\n",
       "display: block;\n",
       "margin-left: 0.4em;\n",
       "}\n",
       ".hoogle-package {\n",
       "font-weight: bold;\n",
       "font-style: italic;\n",
       "}\n",
       ".hoogle-module {\n",
       "font-weight: bold;\n",
       "}\n",
       ".hoogle-class {\n",
       "font-weight: bold;\n",
       "}\n",
       ".get-type {\n",
       "color: green;\n",
       "font-weight: bold;\n",
       "font-family: monospace;\n",
       "display: block;\n",
       "white-space: pre-wrap;\n",
       "}\n",
       ".show-type {\n",
       "color: green;\n",
       "font-weight: bold;\n",
       "font-family: monospace;\n",
       "margin-left: 1em;\n",
       "}\n",
       ".mono {\n",
       "font-family: monospace;\n",
       "display: block;\n",
       "}\n",
       ".err-msg {\n",
       "color: red;\n",
       "font-style: italic;\n",
       "font-family: monospace;\n",
       "white-space: pre;\n",
       "display: block;\n",
       "}\n",
       "#unshowable {\n",
       "color: red;\n",
       "font-weight: bold;\n",
       "}\n",
       ".err-msg.in.collapse {\n",
       "padding-top: 0.7em;\n",
       "}\n",
       ".highlight-code {\n",
       "white-space: pre;\n",
       "font-family: monospace;\n",
       "}\n",
       ".suggestion-warning { \n",
       "font-weight: bold;\n",
       "color: rgb(200, 130, 0);\n",
       "}\n",
       ".suggestion-error { \n",
       "font-weight: bold;\n",
       "color: red;\n",
       "}\n",
       ".suggestion-name {\n",
       "font-weight: bold;\n",
       "}\n",
       "</style><span class='get-type'>Maybe :: * -> *</span>"
      ],
      "text/plain": [
       "Maybe :: * -> *"
      ]
     },
     "metadata": {},
     "output_type": "display_data"
    },
    {
     "data": {
      "text/html": [
       "<style>/* Styles used for the Hoogle display in the pager */\n",
       ".hoogle-doc {\n",
       "display: block;\n",
       "padding-bottom: 1.3em;\n",
       "padding-left: 0.4em;\n",
       "}\n",
       ".hoogle-code {\n",
       "display: block;\n",
       "font-family: monospace;\n",
       "white-space: pre;\n",
       "}\n",
       ".hoogle-text {\n",
       "display: block;\n",
       "}\n",
       ".hoogle-name {\n",
       "color: green;\n",
       "font-weight: bold;\n",
       "}\n",
       ".hoogle-head {\n",
       "font-weight: bold;\n",
       "}\n",
       ".hoogle-sub {\n",
       "display: block;\n",
       "margin-left: 0.4em;\n",
       "}\n",
       ".hoogle-package {\n",
       "font-weight: bold;\n",
       "font-style: italic;\n",
       "}\n",
       ".hoogle-module {\n",
       "font-weight: bold;\n",
       "}\n",
       ".hoogle-class {\n",
       "font-weight: bold;\n",
       "}\n",
       ".get-type {\n",
       "color: green;\n",
       "font-weight: bold;\n",
       "font-family: monospace;\n",
       "display: block;\n",
       "white-space: pre-wrap;\n",
       "}\n",
       ".show-type {\n",
       "color: green;\n",
       "font-weight: bold;\n",
       "font-family: monospace;\n",
       "margin-left: 1em;\n",
       "}\n",
       ".mono {\n",
       "font-family: monospace;\n",
       "display: block;\n",
       "}\n",
       ".err-msg {\n",
       "color: red;\n",
       "font-style: italic;\n",
       "font-family: monospace;\n",
       "white-space: pre;\n",
       "display: block;\n",
       "}\n",
       "#unshowable {\n",
       "color: red;\n",
       "font-weight: bold;\n",
       "}\n",
       ".err-msg.in.collapse {\n",
       "padding-top: 0.7em;\n",
       "}\n",
       ".highlight-code {\n",
       "white-space: pre;\n",
       "font-family: monospace;\n",
       "}\n",
       ".suggestion-warning { \n",
       "font-weight: bold;\n",
       "color: rgb(200, 130, 0);\n",
       "}\n",
       ".suggestion-error { \n",
       "font-weight: bold;\n",
       "color: red;\n",
       "}\n",
       ".suggestion-name {\n",
       "font-weight: bold;\n",
       "}\n",
       "</style><span class='get-type'>[] :: * -> *</span>"
      ],
      "text/plain": [
       "[] :: * -> *"
      ]
     },
     "metadata": {},
     "output_type": "display_data"
    }
   ],
   "source": [
    ":kind Maybe  -- 1-ary (unary) type constructor\n",
    ":kind []     -- 1-ary (unary) type constructor"
   ]
  },
  {
   "cell_type": "code",
   "execution_count": 56,
   "id": "17fed40e-3be5-4009-9100-432f30f5450c",
   "metadata": {},
   "outputs": [
    {
     "data": {
      "text/html": [
       "<style>/* Styles used for the Hoogle display in the pager */\n",
       ".hoogle-doc {\n",
       "display: block;\n",
       "padding-bottom: 1.3em;\n",
       "padding-left: 0.4em;\n",
       "}\n",
       ".hoogle-code {\n",
       "display: block;\n",
       "font-family: monospace;\n",
       "white-space: pre;\n",
       "}\n",
       ".hoogle-text {\n",
       "display: block;\n",
       "}\n",
       ".hoogle-name {\n",
       "color: green;\n",
       "font-weight: bold;\n",
       "}\n",
       ".hoogle-head {\n",
       "font-weight: bold;\n",
       "}\n",
       ".hoogle-sub {\n",
       "display: block;\n",
       "margin-left: 0.4em;\n",
       "}\n",
       ".hoogle-package {\n",
       "font-weight: bold;\n",
       "font-style: italic;\n",
       "}\n",
       ".hoogle-module {\n",
       "font-weight: bold;\n",
       "}\n",
       ".hoogle-class {\n",
       "font-weight: bold;\n",
       "}\n",
       ".get-type {\n",
       "color: green;\n",
       "font-weight: bold;\n",
       "font-family: monospace;\n",
       "display: block;\n",
       "white-space: pre-wrap;\n",
       "}\n",
       ".show-type {\n",
       "color: green;\n",
       "font-weight: bold;\n",
       "font-family: monospace;\n",
       "margin-left: 1em;\n",
       "}\n",
       ".mono {\n",
       "font-family: monospace;\n",
       "display: block;\n",
       "}\n",
       ".err-msg {\n",
       "color: red;\n",
       "font-style: italic;\n",
       "font-family: monospace;\n",
       "white-space: pre;\n",
       "display: block;\n",
       "}\n",
       "#unshowable {\n",
       "color: red;\n",
       "font-weight: bold;\n",
       "}\n",
       ".err-msg.in.collapse {\n",
       "padding-top: 0.7em;\n",
       "}\n",
       ".highlight-code {\n",
       "white-space: pre;\n",
       "font-family: monospace;\n",
       "}\n",
       ".suggestion-warning { \n",
       "font-weight: bold;\n",
       "color: rgb(200, 130, 0);\n",
       "}\n",
       ".suggestion-error { \n",
       "font-weight: bold;\n",
       "color: red;\n",
       "}\n",
       ".suggestion-name {\n",
       "font-weight: bold;\n",
       "}\n",
       "</style><span class='get-type'>(,) :: * -> * -> *</span>"
      ],
      "text/plain": [
       "(,) :: * -> * -> *"
      ]
     },
     "metadata": {},
     "output_type": "display_data"
    },
    {
     "data": {
      "text/html": [
       "<style>/* Styles used for the Hoogle display in the pager */\n",
       ".hoogle-doc {\n",
       "display: block;\n",
       "padding-bottom: 1.3em;\n",
       "padding-left: 0.4em;\n",
       "}\n",
       ".hoogle-code {\n",
       "display: block;\n",
       "font-family: monospace;\n",
       "white-space: pre;\n",
       "}\n",
       ".hoogle-text {\n",
       "display: block;\n",
       "}\n",
       ".hoogle-name {\n",
       "color: green;\n",
       "font-weight: bold;\n",
       "}\n",
       ".hoogle-head {\n",
       "font-weight: bold;\n",
       "}\n",
       ".hoogle-sub {\n",
       "display: block;\n",
       "margin-left: 0.4em;\n",
       "}\n",
       ".hoogle-package {\n",
       "font-weight: bold;\n",
       "font-style: italic;\n",
       "}\n",
       ".hoogle-module {\n",
       "font-weight: bold;\n",
       "}\n",
       ".hoogle-class {\n",
       "font-weight: bold;\n",
       "}\n",
       ".get-type {\n",
       "color: green;\n",
       "font-weight: bold;\n",
       "font-family: monospace;\n",
       "display: block;\n",
       "white-space: pre-wrap;\n",
       "}\n",
       ".show-type {\n",
       "color: green;\n",
       "font-weight: bold;\n",
       "font-family: monospace;\n",
       "margin-left: 1em;\n",
       "}\n",
       ".mono {\n",
       "font-family: monospace;\n",
       "display: block;\n",
       "}\n",
       ".err-msg {\n",
       "color: red;\n",
       "font-style: italic;\n",
       "font-family: monospace;\n",
       "white-space: pre;\n",
       "display: block;\n",
       "}\n",
       "#unshowable {\n",
       "color: red;\n",
       "font-weight: bold;\n",
       "}\n",
       ".err-msg.in.collapse {\n",
       "padding-top: 0.7em;\n",
       "}\n",
       ".highlight-code {\n",
       "white-space: pre;\n",
       "font-family: monospace;\n",
       "}\n",
       ".suggestion-warning { \n",
       "font-weight: bold;\n",
       "color: rgb(200, 130, 0);\n",
       "}\n",
       ".suggestion-error { \n",
       "font-weight: bold;\n",
       "color: red;\n",
       "}\n",
       ".suggestion-name {\n",
       "font-weight: bold;\n",
       "}\n",
       "</style><span class='get-type'>(->) :: * -> * -> *</span>"
      ],
      "text/plain": [
       "(->) :: * -> * -> *"
      ]
     },
     "metadata": {},
     "output_type": "display_data"
    }
   ],
   "source": [
    ":kind (,)   -- 2-ary (binary) type constructor\n",
    ":kind (->)  -- 2-ary (binary) type constructor"
   ]
  },
  {
   "cell_type": "markdown",
   "id": "cb6de5ee-effe-4e20-9f6d-5d193f061cb2",
   "metadata": {},
   "source": [
    "\\noindent\n",
    "중위 표현의 함수 타입 생성자(`->`)는 매개변수화된 데이터 타입의 식별자는 아니지만\n",
    "정의역과 공역을 나타내는 두 타입 `t1`과 `t2`에 적용했을 때 비로소 함수 타입 `t1 -> t2`가 되므로,\n",
    "하스켈에서는 순서쌍 타입 생성자 `(,)`와 같은 카인드(`* -> * -> *`)로 분류된다. "
   ]
  },
  {
   "cell_type": "markdown",
   "id": "09661703-2eae-4efa-bce6-3ffb073291a7",
   "metadata": {},
   "source": [
    "## 매개변수화된 트리 데이터 타입\n",
    "데이터 타입을 정의할 때 매개변수 다형성을 활용할 수 없다면\n",
    "각 노드마다 원소를 포함하는 이진트리(binary tree) 데이터 타입을\n",
    "다음과 같이 원소의 타입을 달리할 때마다 따로 한벌씩 정의해 주어야 한다."
   ]
  },
  {
   "cell_type": "code",
   "execution_count": 57,
   "id": "69706b41-740b-48a0-a783-1fa026f35cd8",
   "metadata": {},
   "outputs": [],
   "source": [
    "data BTreeI = BNilI | BNodeI Int  (BTreeI, BTreeI)  deriving Show\n",
    "data BTreeB = BNilB | BNodeB Bool (BTreeB, BTreeB)  deriving Show\n",
    "data BTreeC = BNilC | BNodeC Char (BTreeC, BTreeC)  deriving Show"
   ]
  },
  {
   "cell_type": "markdown",
   "id": "c1c600ec-ed72-4c15-ae86-10217c046c21",
   "metadata": {},
   "source": [
    "\\noindent 위에서 선언한 정수 이진트리(`BTreeI`), 진리값 이진트리(`BTreeB`),\n",
    "문자 이진트리(`BTreeC`)와 같은 구체적인 원소 타입의 이진트리로 구체화하여\n",
    "활용할 수 있는 일반적인 이진트리를 매개변수화된 데이터 타입(`BTree a`)으로\n",
    "다음과 같이\\vspace*{-1ex}\n",
    "```haskell\n",
    "\n",
    "        data BTree a = BNil | BNode a (BTree a, BTree a)  deriving Show\n",
    "```\n",
    "$~$\\vspace*{-1ex}\\newline\\noindent\n",
    "한번에 정의할 수 있다. 이 때, `a`를 `Int`로 구체화한 `BTree Int`가 `BTreeI`에 해당하고,\n",
    "`a`를 `Bool`로 구체화한 `BTree Bool`이 `BTreeB`에 해당하며,\n",
    "`a`를 `Char`로 구체화한 `BTree Char`는 `BTreeC`에 해당한다."
   ]
  },
  {
   "cell_type": "code",
   "execution_count": 58,
   "id": "d6228fde-813c-4cf0-b724-070a11d9f443",
   "metadata": {},
   "outputs": [],
   "source": [
    "data UTree a = UNil | UNode a (UTree a)                 deriving Show\n",
    "data BTree a = BNil | BNode a (BTree a,BTree a)         deriving Show\n",
    "data TTree a = TNil | TNode a (TTree a,TTree a,TTree a) deriving Show"
   ]
  },
  {
   "cell_type": "markdown",
   "id": "ca89cf9a-62f9-4d3e-bbc5-db255f233845",
   "metadata": {},
   "source": [
    "그런데 각 노드마다 몇 갈래의 하위 트리로 갈라지는가에 따라서도\n",
    "다른 종류의 트리가 된다. 각 노드마다 한 갈래, 두 갈래, 세 갈래로 갈라지는\n",
    "일진트리(unary tree), 이진트리(binary tree), 삼진트리(ternary tree)를\n",
    "각각 매개변수화된 데이터 타입 `UTree a`, `BTree a`, `TTree a`로 위와 같이 선언할 수 있다."
   ]
  },
  {
   "cell_type": "raw",
   "id": "b6b2262a-d891-4115-b4df-893144b1a79c",
   "metadata": {},
   "source": [
    "\\begin{quote}\n",
    "\\hspace*{3em}\n",
    "\\begin{forest}\n",
    "for tree={inner sep=0, l sep-=.5em, l-=.7em}\n",
    "[1 [11 [$\\cdot$]]]\n",
    "\\end{forest}\n",
    "\\qquad\\qquad\n",
    "\\begin{forest}\n",
    "for tree={inner sep=0, l sep-=.5em, l-=.7em}\n",
    "[1 [11 [$\\cdot$] [$\\cdot$]]\n",
    "   [12 [$\\cdot$] [$\\cdot$]]]\n",
    "\\end{forest}\n",
    "\\qquad\\qquad\n",
    "\\begin{forest}\n",
    "for tree={inner sep=0, l sep-=.5em, l-=.7em}\n",
    "[1 [11 [$\\cdot$] [$\\cdot$] [$\\cdot$]]\n",
    "   [12 [$\\cdot$] [$\\cdot$] [$\\cdot$]]\n",
    "   [13 [$\\cdot$] [$\\cdot$] [$\\cdot$]]]\n",
    "\\end{forest}\n",
    "\\end{quote}"
   ]
  },
  {
   "cell_type": "markdown",
   "id": "348a03b9-d09a-4c4f-892d-8ef5f05d94f3",
   "metadata": {},
   "source": [
    "\\noindent\n",
    "일진트리, 이진트리, 삼진트리의 사례 각각 하나씩을 위와 같은 그림으로 나타낼 수 있다.\n",
    "위에서 그림으로 나타낸 각 트리를 앞서 정의한 `UTree`, `BTree`, `TTree` 데이터 타입으로\n",
    "표현하면 아래와 같다."
   ]
  },
  {
   "cell_type": "code",
   "execution_count": 59,
   "id": "90b55885-4cca-468d-bfac-0a4986a4670d",
   "metadata": {},
   "outputs": [
    {
     "data": {
      "text/plain": [
       "UNode 1 (UNode 11 UNil)"
      ]
     },
     "metadata": {},
     "output_type": "display_data"
    },
    {
     "data": {
      "text/plain": [
       "BNode 1 (BNode 11 (BNil,BNil),BNode 12 (BNil,BNil))"
      ]
     },
     "metadata": {},
     "output_type": "display_data"
    },
    {
     "data": {
      "text/plain": [
       "TNode 1 (TNode 11 (TNil,TNil,TNil),TNode 12 (TNil,TNil,TNil),TNode 13 (TNil,TNil,TNil))"
      ]
     },
     "metadata": {},
     "output_type": "display_data"
    }
   ],
   "source": [
    "UNode 1 (UNode 11 UNil)\n",
    "\n",
    "BNode 1 ( BNode 11 (BNil,BNil),\n",
    "          BNode 12 (BNil,BNil) )\n",
    "\n",
    "TNode 1 ( TNode 11 (TNil,TNil,TNil),\n",
    "          TNode 12 (TNil,TNil,TNil),\n",
    "          TNode 13 (TNil,TNil,TNil) )"
   ]
  },
  {
   "cell_type": "markdown",
   "id": "e334f7ff-1f4e-4e7b-8da7-8d3d8bf93b26",
   "metadata": {},
   "source": [
    "위 세 종류의 트리 데이터 타입은 노드에 포함되는 원소의 타입(`a`)을 매개변수화함으로써\n",
    "일반화되어 있지만, 각 노드에서 몇 갈래로 갈라지는지에 대해서까지는 일반화되어 있지 못하였다.\n",
    "따라서 각 종류의 트리마다 한벌씩 따로 데이터 타입을 선언하고 있는 것이다.\n",
    "노드에 포함된 원소의 타입 뿐 아니라 몇 갈래로 갈라지는지에 대해서도 일반화된 트리를\n",
    "한번에 하스켈 데이터 타입으로 선언할 수는 없을까? 결론적으로 가능하지만,\n",
    "System F에서 지원하는 다형 타입의 범위를 넘어서는 지금까지 다루지 않았던\n",
    "새로운 형식의 타입을 동원해야 한다."
   ]
  },
  {
   "cell_type": "markdown",
   "id": "7c816d8e-a762-434f-9a1a-17f56bc1baeb",
   "metadata": {},
   "source": [
    "## 타입 생성자에 대한 매개변수화를 허용하는 고차 매개변수 다형성\n",
    "카인드 `*`로 분류되는 타입 뿐 아니라 일반적으로 모든 카인드의 타입 생성자에 대한 매개변수화를\n",
    "허용하는 더 유연하게 확장된 매개변수 다형성을\n",
    "\\index{고차 매개변수 다형성|see{higher-kinded parametric polymorphism}}\\index{higher-kinded parametric polymorphism|see{고차 매개변수 다형성}}\\`고차 매개변수 다형성'(higher-kinded parametric polymorphism 혹은\n",
    "\\index{고차 매개변수 다형성|see{higher-order parametric polymorphism}}\\index{higher-order parametric polymorphism|see{고차 매개변수 다형성}}higher-order parametric polymorphism)이라 일컫는다.\n",
    "매개변수 다형성을 다루고 있음이 명확한 문맥에서는 그냥\n",
    "\\`고차 다형성'(higher-kinded polymorphism 혹은 higher-order polymorphism)이라고\n",
    "줄여서 부른다. 하스켈은 고차 다형성을 지원하므로 앞서 살펴본 원소 타입에 대한\n",
    "매개변수 `a :: *`에 추가로 각 노드에서 몇 갈래로 갈라지는지를 `f :: * -> *`로\n",
    "매개변수화한 더 일반적인 트리 데이터 타입인 `GTree f a`를 다음과 같이 선언할 수 있다.\n",
    "참고로 아래의 데이터 타입 선언에서 `data GTree f a = GNil | GNode a (f (GTree f a))`와\n",
    "같이 `f`와 `a`의 카인드 표기를 생략하라더도 하스켈 컴파일러가 타입을 유추하듯 카인드도 유추한다.\n",
    "여기서는 타입 생성자 파라미터 `f`가 타입 파라미터 `a`와는 다른 카인드임을 강조하려고 표기했을 따름이다."
   ]
  },
  {
   "cell_type": "code",
   "execution_count": 60,
   "id": "f8952c45-ca63-4102-968f-748e058ac88f",
   "metadata": {},
   "outputs": [],
   "source": [
    "data GTree (f :: * -> *) (a :: *) = GNil | GNode a (f (GTree f a))\n",
    "{-# LANGUAGE StandaloneDeriving UndecidableInstances #-}\n",
    "deriving instance (Show a, Show (f (GTree f a))) => Show (GTree f a)"
   ]
  },
  {
   "cell_type": "code",
   "execution_count": 61,
   "id": "5872d8e1-10a0-4cda-852f-828e299898d6",
   "metadata": {},
   "outputs": [
    {
     "data": {
      "text/html": [
       "<style>/* Styles used for the Hoogle display in the pager */\n",
       ".hoogle-doc {\n",
       "display: block;\n",
       "padding-bottom: 1.3em;\n",
       "padding-left: 0.4em;\n",
       "}\n",
       ".hoogle-code {\n",
       "display: block;\n",
       "font-family: monospace;\n",
       "white-space: pre;\n",
       "}\n",
       ".hoogle-text {\n",
       "display: block;\n",
       "}\n",
       ".hoogle-name {\n",
       "color: green;\n",
       "font-weight: bold;\n",
       "}\n",
       ".hoogle-head {\n",
       "font-weight: bold;\n",
       "}\n",
       ".hoogle-sub {\n",
       "display: block;\n",
       "margin-left: 0.4em;\n",
       "}\n",
       ".hoogle-package {\n",
       "font-weight: bold;\n",
       "font-style: italic;\n",
       "}\n",
       ".hoogle-module {\n",
       "font-weight: bold;\n",
       "}\n",
       ".hoogle-class {\n",
       "font-weight: bold;\n",
       "}\n",
       ".get-type {\n",
       "color: green;\n",
       "font-weight: bold;\n",
       "font-family: monospace;\n",
       "display: block;\n",
       "white-space: pre-wrap;\n",
       "}\n",
       ".show-type {\n",
       "color: green;\n",
       "font-weight: bold;\n",
       "font-family: monospace;\n",
       "margin-left: 1em;\n",
       "}\n",
       ".mono {\n",
       "font-family: monospace;\n",
       "display: block;\n",
       "}\n",
       ".err-msg {\n",
       "color: red;\n",
       "font-style: italic;\n",
       "font-family: monospace;\n",
       "white-space: pre;\n",
       "display: block;\n",
       "}\n",
       "#unshowable {\n",
       "color: red;\n",
       "font-weight: bold;\n",
       "}\n",
       ".err-msg.in.collapse {\n",
       "padding-top: 0.7em;\n",
       "}\n",
       ".highlight-code {\n",
       "white-space: pre;\n",
       "font-family: monospace;\n",
       "}\n",
       ".suggestion-warning { \n",
       "font-weight: bold;\n",
       "color: rgb(200, 130, 0);\n",
       "}\n",
       ".suggestion-error { \n",
       "font-weight: bold;\n",
       "color: red;\n",
       "}\n",
       ".suggestion-name {\n",
       "font-weight: bold;\n",
       "}\n",
       "</style><span class='get-type'>GTree :: (* -> *) -> * -> *</span>"
      ],
      "text/plain": [
       "GTree :: (* -> *) -> * -> *"
      ]
     },
     "metadata": {},
     "output_type": "display_data"
    }
   ],
   "source": [
    ":kind GTree"
   ]
  },
  {
   "cell_type": "code",
   "execution_count": 62,
   "id": "fa723ecb-5d3b-4bbb-bb08-b02e65f689d6",
   "metadata": {},
   "outputs": [],
   "source": [
    "data UF t = C1 t       deriving Show\n",
    "data BF t = C2 (t,t)   deriving Show\n",
    "data TF t = C3 (t,t,t) deriving Show"
   ]
  },
  {
   "cell_type": "code",
   "execution_count": 63,
   "id": "7f0e10e7-eadc-4b87-87d5-4d685a5e80c0",
   "metadata": {},
   "outputs": [
    {
     "data": {
      "text/html": [
       "<style>/* Styles used for the Hoogle display in the pager */\n",
       ".hoogle-doc {\n",
       "display: block;\n",
       "padding-bottom: 1.3em;\n",
       "padding-left: 0.4em;\n",
       "}\n",
       ".hoogle-code {\n",
       "display: block;\n",
       "font-family: monospace;\n",
       "white-space: pre;\n",
       "}\n",
       ".hoogle-text {\n",
       "display: block;\n",
       "}\n",
       ".hoogle-name {\n",
       "color: green;\n",
       "font-weight: bold;\n",
       "}\n",
       ".hoogle-head {\n",
       "font-weight: bold;\n",
       "}\n",
       ".hoogle-sub {\n",
       "display: block;\n",
       "margin-left: 0.4em;\n",
       "}\n",
       ".hoogle-package {\n",
       "font-weight: bold;\n",
       "font-style: italic;\n",
       "}\n",
       ".hoogle-module {\n",
       "font-weight: bold;\n",
       "}\n",
       ".hoogle-class {\n",
       "font-weight: bold;\n",
       "}\n",
       ".get-type {\n",
       "color: green;\n",
       "font-weight: bold;\n",
       "font-family: monospace;\n",
       "display: block;\n",
       "white-space: pre-wrap;\n",
       "}\n",
       ".show-type {\n",
       "color: green;\n",
       "font-weight: bold;\n",
       "font-family: monospace;\n",
       "margin-left: 1em;\n",
       "}\n",
       ".mono {\n",
       "font-family: monospace;\n",
       "display: block;\n",
       "}\n",
       ".err-msg {\n",
       "color: red;\n",
       "font-style: italic;\n",
       "font-family: monospace;\n",
       "white-space: pre;\n",
       "display: block;\n",
       "}\n",
       "#unshowable {\n",
       "color: red;\n",
       "font-weight: bold;\n",
       "}\n",
       ".err-msg.in.collapse {\n",
       "padding-top: 0.7em;\n",
       "}\n",
       ".highlight-code {\n",
       "white-space: pre;\n",
       "font-family: monospace;\n",
       "}\n",
       ".suggestion-warning { \n",
       "font-weight: bold;\n",
       "color: rgb(200, 130, 0);\n",
       "}\n",
       ".suggestion-error { \n",
       "font-weight: bold;\n",
       "color: red;\n",
       "}\n",
       ".suggestion-name {\n",
       "font-weight: bold;\n",
       "}\n",
       "</style><span class='get-type'>UF :: * -> *</span>"
      ],
      "text/plain": [
       "UF :: * -> *"
      ]
     },
     "metadata": {},
     "output_type": "display_data"
    },
    {
     "data": {
      "text/html": [
       "<style>/* Styles used for the Hoogle display in the pager */\n",
       ".hoogle-doc {\n",
       "display: block;\n",
       "padding-bottom: 1.3em;\n",
       "padding-left: 0.4em;\n",
       "}\n",
       ".hoogle-code {\n",
       "display: block;\n",
       "font-family: monospace;\n",
       "white-space: pre;\n",
       "}\n",
       ".hoogle-text {\n",
       "display: block;\n",
       "}\n",
       ".hoogle-name {\n",
       "color: green;\n",
       "font-weight: bold;\n",
       "}\n",
       ".hoogle-head {\n",
       "font-weight: bold;\n",
       "}\n",
       ".hoogle-sub {\n",
       "display: block;\n",
       "margin-left: 0.4em;\n",
       "}\n",
       ".hoogle-package {\n",
       "font-weight: bold;\n",
       "font-style: italic;\n",
       "}\n",
       ".hoogle-module {\n",
       "font-weight: bold;\n",
       "}\n",
       ".hoogle-class {\n",
       "font-weight: bold;\n",
       "}\n",
       ".get-type {\n",
       "color: green;\n",
       "font-weight: bold;\n",
       "font-family: monospace;\n",
       "display: block;\n",
       "white-space: pre-wrap;\n",
       "}\n",
       ".show-type {\n",
       "color: green;\n",
       "font-weight: bold;\n",
       "font-family: monospace;\n",
       "margin-left: 1em;\n",
       "}\n",
       ".mono {\n",
       "font-family: monospace;\n",
       "display: block;\n",
       "}\n",
       ".err-msg {\n",
       "color: red;\n",
       "font-style: italic;\n",
       "font-family: monospace;\n",
       "white-space: pre;\n",
       "display: block;\n",
       "}\n",
       "#unshowable {\n",
       "color: red;\n",
       "font-weight: bold;\n",
       "}\n",
       ".err-msg.in.collapse {\n",
       "padding-top: 0.7em;\n",
       "}\n",
       ".highlight-code {\n",
       "white-space: pre;\n",
       "font-family: monospace;\n",
       "}\n",
       ".suggestion-warning { \n",
       "font-weight: bold;\n",
       "color: rgb(200, 130, 0);\n",
       "}\n",
       ".suggestion-error { \n",
       "font-weight: bold;\n",
       "color: red;\n",
       "}\n",
       ".suggestion-name {\n",
       "font-weight: bold;\n",
       "}\n",
       "</style><span class='get-type'>BF :: * -> *</span>"
      ],
      "text/plain": [
       "BF :: * -> *"
      ]
     },
     "metadata": {},
     "output_type": "display_data"
    },
    {
     "data": {
      "text/html": [
       "<style>/* Styles used for the Hoogle display in the pager */\n",
       ".hoogle-doc {\n",
       "display: block;\n",
       "padding-bottom: 1.3em;\n",
       "padding-left: 0.4em;\n",
       "}\n",
       ".hoogle-code {\n",
       "display: block;\n",
       "font-family: monospace;\n",
       "white-space: pre;\n",
       "}\n",
       ".hoogle-text {\n",
       "display: block;\n",
       "}\n",
       ".hoogle-name {\n",
       "color: green;\n",
       "font-weight: bold;\n",
       "}\n",
       ".hoogle-head {\n",
       "font-weight: bold;\n",
       "}\n",
       ".hoogle-sub {\n",
       "display: block;\n",
       "margin-left: 0.4em;\n",
       "}\n",
       ".hoogle-package {\n",
       "font-weight: bold;\n",
       "font-style: italic;\n",
       "}\n",
       ".hoogle-module {\n",
       "font-weight: bold;\n",
       "}\n",
       ".hoogle-class {\n",
       "font-weight: bold;\n",
       "}\n",
       ".get-type {\n",
       "color: green;\n",
       "font-weight: bold;\n",
       "font-family: monospace;\n",
       "display: block;\n",
       "white-space: pre-wrap;\n",
       "}\n",
       ".show-type {\n",
       "color: green;\n",
       "font-weight: bold;\n",
       "font-family: monospace;\n",
       "margin-left: 1em;\n",
       "}\n",
       ".mono {\n",
       "font-family: monospace;\n",
       "display: block;\n",
       "}\n",
       ".err-msg {\n",
       "color: red;\n",
       "font-style: italic;\n",
       "font-family: monospace;\n",
       "white-space: pre;\n",
       "display: block;\n",
       "}\n",
       "#unshowable {\n",
       "color: red;\n",
       "font-weight: bold;\n",
       "}\n",
       ".err-msg.in.collapse {\n",
       "padding-top: 0.7em;\n",
       "}\n",
       ".highlight-code {\n",
       "white-space: pre;\n",
       "font-family: monospace;\n",
       "}\n",
       ".suggestion-warning { \n",
       "font-weight: bold;\n",
       "color: rgb(200, 130, 0);\n",
       "}\n",
       ".suggestion-error { \n",
       "font-weight: bold;\n",
       "color: red;\n",
       "}\n",
       ".suggestion-name {\n",
       "font-weight: bold;\n",
       "}\n",
       "</style><span class='get-type'>TF :: * -> *</span>"
      ],
      "text/plain": [
       "TF :: * -> *"
      ]
     },
     "metadata": {},
     "output_type": "display_data"
    }
   ],
   "source": [
    ":kind UF\n",
    ":kind BF\n",
    ":kind TF"
   ]
  },
  {
   "cell_type": "code",
   "execution_count": 64,
   "id": "2a0e4f5c-d1c7-45f9-9ad2-913600e2d280",
   "metadata": {},
   "outputs": [
    {
     "data": {
      "text/html": [
       "<style>/* Styles used for the Hoogle display in the pager */\n",
       ".hoogle-doc {\n",
       "display: block;\n",
       "padding-bottom: 1.3em;\n",
       "padding-left: 0.4em;\n",
       "}\n",
       ".hoogle-code {\n",
       "display: block;\n",
       "font-family: monospace;\n",
       "white-space: pre;\n",
       "}\n",
       ".hoogle-text {\n",
       "display: block;\n",
       "}\n",
       ".hoogle-name {\n",
       "color: green;\n",
       "font-weight: bold;\n",
       "}\n",
       ".hoogle-head {\n",
       "font-weight: bold;\n",
       "}\n",
       ".hoogle-sub {\n",
       "display: block;\n",
       "margin-left: 0.4em;\n",
       "}\n",
       ".hoogle-package {\n",
       "font-weight: bold;\n",
       "font-style: italic;\n",
       "}\n",
       ".hoogle-module {\n",
       "font-weight: bold;\n",
       "}\n",
       ".hoogle-class {\n",
       "font-weight: bold;\n",
       "}\n",
       ".get-type {\n",
       "color: green;\n",
       "font-weight: bold;\n",
       "font-family: monospace;\n",
       "display: block;\n",
       "white-space: pre-wrap;\n",
       "}\n",
       ".show-type {\n",
       "color: green;\n",
       "font-weight: bold;\n",
       "font-family: monospace;\n",
       "margin-left: 1em;\n",
       "}\n",
       ".mono {\n",
       "font-family: monospace;\n",
       "display: block;\n",
       "}\n",
       ".err-msg {\n",
       "color: red;\n",
       "font-style: italic;\n",
       "font-family: monospace;\n",
       "white-space: pre;\n",
       "display: block;\n",
       "}\n",
       "#unshowable {\n",
       "color: red;\n",
       "font-weight: bold;\n",
       "}\n",
       ".err-msg.in.collapse {\n",
       "padding-top: 0.7em;\n",
       "}\n",
       ".highlight-code {\n",
       "white-space: pre;\n",
       "font-family: monospace;\n",
       "}\n",
       ".suggestion-warning { \n",
       "font-weight: bold;\n",
       "color: rgb(200, 130, 0);\n",
       "}\n",
       ".suggestion-error { \n",
       "font-weight: bold;\n",
       "color: red;\n",
       "}\n",
       ".suggestion-name {\n",
       "font-weight: bold;\n",
       "}\n",
       "</style><span class='get-type'>GTree UF :: * -> *</span>"
      ],
      "text/plain": [
       "GTree UF :: * -> *"
      ]
     },
     "metadata": {},
     "output_type": "display_data"
    },
    {
     "data": {
      "text/html": [
       "<style>/* Styles used for the Hoogle display in the pager */\n",
       ".hoogle-doc {\n",
       "display: block;\n",
       "padding-bottom: 1.3em;\n",
       "padding-left: 0.4em;\n",
       "}\n",
       ".hoogle-code {\n",
       "display: block;\n",
       "font-family: monospace;\n",
       "white-space: pre;\n",
       "}\n",
       ".hoogle-text {\n",
       "display: block;\n",
       "}\n",
       ".hoogle-name {\n",
       "color: green;\n",
       "font-weight: bold;\n",
       "}\n",
       ".hoogle-head {\n",
       "font-weight: bold;\n",
       "}\n",
       ".hoogle-sub {\n",
       "display: block;\n",
       "margin-left: 0.4em;\n",
       "}\n",
       ".hoogle-package {\n",
       "font-weight: bold;\n",
       "font-style: italic;\n",
       "}\n",
       ".hoogle-module {\n",
       "font-weight: bold;\n",
       "}\n",
       ".hoogle-class {\n",
       "font-weight: bold;\n",
       "}\n",
       ".get-type {\n",
       "color: green;\n",
       "font-weight: bold;\n",
       "font-family: monospace;\n",
       "display: block;\n",
       "white-space: pre-wrap;\n",
       "}\n",
       ".show-type {\n",
       "color: green;\n",
       "font-weight: bold;\n",
       "font-family: monospace;\n",
       "margin-left: 1em;\n",
       "}\n",
       ".mono {\n",
       "font-family: monospace;\n",
       "display: block;\n",
       "}\n",
       ".err-msg {\n",
       "color: red;\n",
       "font-style: italic;\n",
       "font-family: monospace;\n",
       "white-space: pre;\n",
       "display: block;\n",
       "}\n",
       "#unshowable {\n",
       "color: red;\n",
       "font-weight: bold;\n",
       "}\n",
       ".err-msg.in.collapse {\n",
       "padding-top: 0.7em;\n",
       "}\n",
       ".highlight-code {\n",
       "white-space: pre;\n",
       "font-family: monospace;\n",
       "}\n",
       ".suggestion-warning { \n",
       "font-weight: bold;\n",
       "color: rgb(200, 130, 0);\n",
       "}\n",
       ".suggestion-error { \n",
       "font-weight: bold;\n",
       "color: red;\n",
       "}\n",
       ".suggestion-name {\n",
       "font-weight: bold;\n",
       "}\n",
       "</style><span class='get-type'>GTree BF :: * -> *</span>"
      ],
      "text/plain": [
       "GTree BF :: * -> *"
      ]
     },
     "metadata": {},
     "output_type": "display_data"
    },
    {
     "data": {
      "text/html": [
       "<style>/* Styles used for the Hoogle display in the pager */\n",
       ".hoogle-doc {\n",
       "display: block;\n",
       "padding-bottom: 1.3em;\n",
       "padding-left: 0.4em;\n",
       "}\n",
       ".hoogle-code {\n",
       "display: block;\n",
       "font-family: monospace;\n",
       "white-space: pre;\n",
       "}\n",
       ".hoogle-text {\n",
       "display: block;\n",
       "}\n",
       ".hoogle-name {\n",
       "color: green;\n",
       "font-weight: bold;\n",
       "}\n",
       ".hoogle-head {\n",
       "font-weight: bold;\n",
       "}\n",
       ".hoogle-sub {\n",
       "display: block;\n",
       "margin-left: 0.4em;\n",
       "}\n",
       ".hoogle-package {\n",
       "font-weight: bold;\n",
       "font-style: italic;\n",
       "}\n",
       ".hoogle-module {\n",
       "font-weight: bold;\n",
       "}\n",
       ".hoogle-class {\n",
       "font-weight: bold;\n",
       "}\n",
       ".get-type {\n",
       "color: green;\n",
       "font-weight: bold;\n",
       "font-family: monospace;\n",
       "display: block;\n",
       "white-space: pre-wrap;\n",
       "}\n",
       ".show-type {\n",
       "color: green;\n",
       "font-weight: bold;\n",
       "font-family: monospace;\n",
       "margin-left: 1em;\n",
       "}\n",
       ".mono {\n",
       "font-family: monospace;\n",
       "display: block;\n",
       "}\n",
       ".err-msg {\n",
       "color: red;\n",
       "font-style: italic;\n",
       "font-family: monospace;\n",
       "white-space: pre;\n",
       "display: block;\n",
       "}\n",
       "#unshowable {\n",
       "color: red;\n",
       "font-weight: bold;\n",
       "}\n",
       ".err-msg.in.collapse {\n",
       "padding-top: 0.7em;\n",
       "}\n",
       ".highlight-code {\n",
       "white-space: pre;\n",
       "font-family: monospace;\n",
       "}\n",
       ".suggestion-warning { \n",
       "font-weight: bold;\n",
       "color: rgb(200, 130, 0);\n",
       "}\n",
       ".suggestion-error { \n",
       "font-weight: bold;\n",
       "color: red;\n",
       "}\n",
       ".suggestion-name {\n",
       "font-weight: bold;\n",
       "}\n",
       "</style><span class='get-type'>GTree TF :: * -> *</span>"
      ],
      "text/plain": [
       "GTree TF :: * -> *"
      ]
     },
     "metadata": {},
     "output_type": "display_data"
    }
   ],
   "source": [
    ":kind GTree UF  -- UTree에 해당\n",
    ":kind GTree BF  -- BTree에 해당\n",
    ":kind GTree TF  -- TTree에 해당"
   ]
  },
  {
   "cell_type": "raw",
   "id": "e73cb694-3523-4958-88fd-4eb986876334",
   "metadata": {},
   "source": [
    "\\begin{figure}[b]"
   ]
  },
  {
   "cell_type": "markdown",
   "id": "404b438e-4a39-48a6-9fcc-843db778f8de",
   "metadata": {},
   "source": [
    "\\begin{align*}\n",
    "&\\text{kind}\\quad& \n",
    "\\kappa\\in K ~::=~& {*} \\mid \\kappa\\to\\kappa \\\\\n",
    "&\\text{type constructor}\\quad&\n",
    "\\tau\\in T ~::= ~& t \\mid \\tau\\to\\tau \\mid \\alpha \\mid \\forall\\alpha{\\,:\\,}\\kappa.\\,\\tau \\mid \\lambda\\alpha{\\,:\\,}\\kappa.\\,\\tau \\mid \\tau~\\tau \\\\\n",
    "&\\text{expression}\\quad&\n",
    "e\\in E ~::=~ & c \\mid x \\mid \\lambda x{\\,:\\,}\\tau.\\,e \\mid e~e \\mid \\Lambda \\alpha{\\,:\\,}\\kappa.\\,e \\mid e\\,@\\tau \\\\[1.5ex]\n",
    "&\\text{카인드 규칙}&\\\\[-7.5ex]\n",
    "\\end{align*}\n",
    "$$\\qquad\\qquad\n",
    "\\Delta ::= t{\\,:\\,}\\kappa,\\Delta \\mid c{\\,:\\,}\\tau,\\Delta \\mid \\cdot\n",
    "\\qquad\n",
    "\\Gamma ::= \\alpha{\\,:\\,}\\kappa,\\Gamma \\mid x{\\,:\\,}\\tau,\\Gamma \\mid \\cdot \n",
    "$$\n",
    "$$\n",
    "\\frac{~ ~}{~ \\Gamma \\vdash t:\\kappa ~}\n",
    "({\\scriptstyle t{\\,:\\,}\\kappa\\;\\in\\,\\Delta})\n",
    "\\quad\n",
    "\\frac{~ \\Gamma\\vdash\\tau_1:* \\quad \\Gamma\\vdash\\tau_2:* ~}{~ \\Gamma \\vdash \\tau_1 \\to \\tau_2 : * ~}\n",
    "\\quad\n",
    "\\frac{~ ~}{~ \\Gamma \\vdash \\alpha:\\kappa ~}\n",
    "({\\scriptstyle \\alpha{\\,:\\,}\\kappa\\;\\in\\,\\Gamma})\n",
    "$$\n",
    "$$\n",
    "\\frac{~ \\alpha{\\,:\\,}\\kappa,\\,\\Gamma \\vdash \\tau : * ~}{~ \\Gamma \\vdash \\forall\\alpha{\\,:\\,}\\kappa.\\,\\tau : * ~}\n",
    "\\quad\n",
    "\\frac{~ \\alpha{\\,:\\,}\\kappa_2\\,\\Gamma\\vdash\\tau : \\kappa ~}{~ \\Gamma\\vdash\\lambda\\alpha{\\,:\\,}\\kappa_2.\\,\\tau : \\kappa~}\n",
    "\\quad\n",
    "\\frac{~ \\Gamma\\vdash\\tau_1 : \\kappa_2\\to\\kappa \\quad \\Gamma\\vdash\\tau_2 : \\kappa_2 ~}{~ \\Gamma\\vdash\\tau_1~\\tau_2 : \\kappa~}\n",
    "$$"
   ]
  },
  {
   "cell_type": "raw",
   "id": "e7bb5cc3-044f-4252-a185-937475fe52d1",
   "metadata": {},
   "source": [
    "\\caption{System F$_\\omega$의 문법구조와 카인드 규칙\\label{fig:SystemFw} }\n",
    "\\end{figure}"
   ]
  },
  {
   "cell_type": "markdown",
   "id": "f6b08f84-4e5b-4d19-82a5-255dc19ad312",
   "metadata": {},
   "source": [
    "$~$\\newline\n",
    "\n",
    "\\index{람다계산법!타입있는 람다계산법!고차 다형 람다계산법}\\index{$\\lambda$-calculus!typed $\\lambda$-calculus!higher-order polymorphic $\\lambda$-calculus}System F의 창시자인 지라르는 이후에 타입 뿐 아니라\n",
    "타입 생성자에 대한 매개변수를 포함하도록 기존의 System F를 확장한\n",
    "\\index{System F$_\\omega$|see{고차 다형 람다계산법}}\\index{System F$_\\omega$|see{higher-order polymorphic $\\lambda$-calculus}}System F$_\\omega$라는\n",
    "\\index{고차 다형 람다계산법|see{higher-order polymorphic $\\lambda$-calculus}}\\index{higher-order polymorphic $\\lambda$-calculus|see{고차 다형 람다계산법}}고차 다형 람다계산법을 고안하였다\\cite{Girard1972}.\n",
    "참고로 System F$_\\omega$의 문법구조와 카인드 규칙은 그림 \\ref{fig:SystemFw}에\n",
    "나타나 있으며, System F와 대조되는 특징을 정리하면 다음과 같다.\\vspace*{-1ex}\n",
    "\n",
    "- 타입 생성자 변수($\\alpha$)가 어떤 카인드($\\kappa$)인지 문법구조에 함께 표시한다.\n",
    "- 타입 계층에 STLC를 갖다놓은 것처럼\n",
    "  타입 생성자를 타입 생성자에 대응시키는 타입함수($\\lambda\\alpha{:}\\kappa.\\tau$)와\n",
    "  타입 생성자 적용($\\tau~\\tau$)이 추가되어 있다.\n",
    "- 올바르게 구성된 타입 생성자인지 여부가 카인드 규칙에 따라 규정된다.\n",
    "\n",
    "하스켈에서 \\`타입 생성자'라고 매번 부르는 것이 번거롭기 때문에 그냥 \\`타입'으로 줄여 부르는 경우도 많다.\n",
    "예를 들어 `Maybe :: * -> *`는 타입 생성자이며 `Maybe Int :: *`는 타입이지만,\n",
    "그냥 짧게 `Maybe` 타입 이라고 부르곤 한다."
   ]
  },
  {
   "cell_type": "markdown",
   "id": "9d6df037-d510-44d9-9b0b-9e25bdbcc489",
   "metadata": {},
   "source": [
    "\\section*{요점정리}\n",
    "* 처치가 고안한 (타입없는) 람다계산법으로\n",
    "  튜링이 고안한 튜링기계과 똑같은 범위의 계산을 표현할 수 있다. 지금까지도 바로 이 범위를\n",
    "  기계적으로 수행할 수 있는 (즉, 컴퓨터로 돌릴 수 있는)\n",
    "  \\`계산'의 이론적 한계 범위로 받아들이며 이를 처치--튜링 명제(Church--Turing thesis)라고 일컫는다.\n",
    "* 타입없는 람다계산법의 문법구조는 이름, 타입요약식, 타입적용식 이렇게 단 세 종류의 요소로 구성됨에도 불구하고\n",
    "  끝나지 않는 계산을 포함한 일반적인 재귀를 표현할 수 있는 고정점(fixpoint) 조합자를 람다식으로 작성 가능하다.\n",
    "* 고정점 조합자가 주어지면 직접 재귀함수를 선언하지 않더라도 고정점 조합자를 재귀함수가 아닌 함수에 적용함으로써 원하는 재귀함수를 얼마든지 작성할 수 있다.\n",
    "* 타입없는 람다계산법에서는 처치 인코딩으로 진리값이나 자연수 등의 데이터를 함수로서 인코딩해 순수한 람다식만으로 이러한 데이터 및 그에 대한 연산을 표현할 수 있다.\n",
    "* 지라르와 레이놀즈는 단순타입 람다계산법에서 다루는 타입에 타입변수($\\alpha$)와 다형타입($\\forall\\alpha.\\tau$)을 추가한 System F라고도 불리는 다형 람다계산법을 독립적으로 고안하였다.\n",
    "* System F의 람다식에는 STLC의 람다식에 타입요약식($\\Lambda\\alpha.e$)와 타입적용식($e\\,@\\tau$)가 추가되어 있다.\n",
    "* 다형타입을 지원하는 하스켈 언어의 핵심에는 System F가 있다고 볼 수 있지만 타입요약식과 타입적용식이 일반적으로 겉으로 드러나 보이지 않으며 타입유추 과정에서 하스켈 컴파일러가 보이지 않게 처리한다고 이해할 수 있다.\n",
    "* System F에서는 타입없는 람다계산법의 처치 인코딩과 마찬가지 방식으로 데이터 타입을 인코딩할 수 있으며 이를 뵘--베라두치 인코딩이라 한다.\n",
    "* 지라르는 System F에서 타입변수가 타입만을 대표하는 것을 일반화하여 타입 생성자를 대표할 수 있도록 확장한 System F$_\\omega$라고도 불리는 고차 다형 람다계산법을 고안하였다.\n",
    "  하스켈도 사실 보통의 매개변수 다형성만이 아닌 고차 다형성까지 지원하므로 System F$_\\omega$가 하스켈 언어의 핵심에 있다고 이해할 수 있다.\n",
    "* 식(expression)이 타입(type)으로 분류되는 것처럼 System F$_\\omega$에서 타입 생성자는 카인드(kind)로 분류된다.\n",
    "  타입 규칙으로 식이 타입에 맞게 구성되었는지 규정되듯 카인드 규칙으로 올바르게 구성된 타입 생성자인지 규정된다.\n",
    "* 하스켈에서 파라미터화된 데이터 타입의 식별자는 그 자체로는 타입이 아니며 적절한 타입 인자에 적용하면 타입이 되는 타입 생성자다.\n",
    "  예컨대, 타입 생성자 `Maybe :: * -> *`를 타입 `T :: *`에 적용하면 `Maybe T :: *`라는 타입이 된다."
   ]
  },
  {
   "cell_type": "markdown",
   "id": "dbec5907-7b1f-45a3-a393-71dd998625bc",
   "metadata": {},
   "source": [
    "\\section*{연습문제}\n",
    "1. 피보나치 수를 계산하는 함수 `fib :: Integer -> Integer`를 직접 재귀함수로 선언해 보고 또  고정점 고차함수 `fix`와 재귀적이지 않은 함수를 통해서도 선언해 보라. \n",
    "1. `[45]`번 셀의 `fromInt2Nat`, `fromNat2Int`, `fromNat2NAT`, `fromNAT2Nat` 함수 선언을 완성하라.\n",
    "1. `[59]`번 셀에서 각각 다른 데이터 타입으로 표현된 세 그루의 트리를 더 일반적인 `GTree` 데이터 타입으로 모두 옮겨 보라."
   ]
  },
  {
   "cell_type": "markdown",
   "id": "18b11d6e-2d6a-4ad8-bfa3-d53dfffeb17d",
   "metadata": {},
   "source": [
    "\\section*{탐구과제}\n",
    "1. `[62]`번 셀의 `UF`, `BF`, `TF`는 `data`로 선언하는 것보다는 `newtype`으로 선언하는 것이 더 바람직하다.\n",
    "   하스켈에서 `newtype`은 어떨 때 활용하는지 알아보라.\n",
    "1. 하스켈 이외에 고차 다형 타입(higher-kinded type 혹은 higher-order type)을 지원하는 언어로는 어떤 것이 있으며\n",
    "   어떤 방식으로 지원하는지 조사해 보라.\n",
    "1. STLC에 처치 방식과 커리 방식이 있듯 System F나 System F$_\\omega$에도 처치 방식과 커리 방식이 있다.\n",
    "   책에 소개된 것은 처치 방식이다. 커리 방식의 System F나 System F$_\\omega$는 어떤 차이점이 있는지 알아보라."
   ]
  }
 ],
 "metadata": {
  "kernelspec": {
   "display_name": "Haskell",
   "language": "haskell",
   "name": "haskell"
  },
  "language_info": {
   "codemirror_mode": "ihaskell",
   "file_extension": ".hs",
   "mimetype": "text/x-haskell",
   "name": "haskell",
   "pygments_lexer": "Haskell",
   "version": "8.10.7"
  }
 },
 "nbformat": 4,
 "nbformat_minor": 5
}
