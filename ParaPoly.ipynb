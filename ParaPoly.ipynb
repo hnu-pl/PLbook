{
 "cells": [
  {
   "cell_type": "code",
   "execution_count": 1,
   "id": "fdfeb369-993f-47a0-b060-b4d2dad6dd41",
   "metadata": {},
   "outputs": [],
   "source": [
    ":opt no-lint\n",
    "{-# LANGUAGE ScopedTypeVariables TypeApplications RankNTypes #-}"
   ]
  },
  {
   "cell_type": "markdown",
   "id": "6638531f-b051-4a65-a17a-60ea4e6af5a3",
   "metadata": {},
   "source": [
    "## 계산이 끝나지 않는 람다식\n",
    "람다식 작은걸음 $(\\lambda x.x\\;x)\\;e_2 \\longmapsto e_2\\;e_2$를 생각해 보자.\n",
    "여기서 $e_2$가 적용하는 함수 $(\\lambda x.x\\;x)$와 똑같은 식인 경우에 어떤 일이 벌어질까?\n",
    "바로 아래와 같이 된다.\n",
    "\\newline\\indent\n",
    "$(\\lambda x.x\\;x)(\\lambda x.x\\;x) \\longmapsto (\\lambda x.x\\;x)(\\lambda x.x\\;x) \\longmapsto (\\lambda x.x\\;x)(\\lambda x.x\\;x) \\longmapsto \\ldots$\n",
    "\\newline\n",
    "$\\beta$규칙에 따라 함수 몸체 $x\\;x$에서 $x$를 $(\\lambda x.x\\;x)$로 바꿔치면\n",
    "원래 처음 시작했던 식인 $(\\lambda x.x\\;x)(\\lambda x.x\\;x)$가 되어버린다.\n",
    "그래서 아무리 여러 번 $\\beta$줄임을 반복해도 제자리걸음만 할 뿐 계산이 끝나지 않는다.\n",
    "이제 드브루인 인덱스(그림 \\ref{fig:ChurchDeBruijn})를 활용해 타입없는 람다계산법에서 끝나지\n",
    "않는 계산을 하스켈로 다뤄보자. 우선 람다계산법의 문법구조를 아래와 같은\n",
    "데이터 타입으로 선언한다."
   ]
  },
  {
   "cell_type": "code",
   "execution_count": 2,
   "id": "bfb2ab42-6b2c-4feb-9a76-b1baabe61980",
   "metadata": {},
   "outputs": [],
   "source": [
    "data DExpr = DI Int | DAbs DExpr | DApp DExpr DExpr deriving (Eq,Ord)"
   ]
  },
  {
   "cell_type": "code",
   "execution_count": 3,
   "id": "1cec482c-db7f-4965-b598-1229eccdca17",
   "metadata": {},
   "outputs": [],
   "source": [
    "-- GHC가 자동으로 deriving하는 Show 인스턴스가 아닌  더 간략한 출력을 위해\n",
    "instance Show DExpr where   -- 직접 작성한 DExpr에 대한 Show 인스턴스\n",
    "  showsPrec _ (DI i) = showString (show i)\n",
    "  showsPrec p (DAbs e) = showParen (p > 1) $\n",
    "              showString \"\\\\\" . showsPrec 1 e\n",
    "  showsPrec p (DApp e1 e2) = showParen (p > 9) $\n",
    "              showsPrec 9 e1 . showString \" \" . showsPrec 10 e2"
   ]
  },
  {
   "cell_type": "code",
   "execution_count": 4,
   "id": "1554b7f3-6a68-4abf-ad7d-fefe43695368",
   "metadata": {},
   "outputs": [
    {
     "data": {
      "text/plain": [
       "\\\\1 2"
      ]
     },
     "metadata": {},
     "output_type": "display_data"
    },
    {
     "data": {
      "text/plain": [
       "(\\1) (\\1)"
      ]
     },
     "metadata": {},
     "output_type": "display_data"
    },
    {
     "data": {
      "text/plain": [
       "\\1 1 1"
      ]
     },
     "metadata": {},
     "output_type": "display_data"
    },
    {
     "data": {
      "text/plain": [
       "\\1 (1 1)"
      ]
     },
     "metadata": {},
     "output_type": "display_data"
    }
   ],
   "source": [
    "DAbs (DAbs (DI 1 `DApp` DI 2))        -- \\x.\\y.x y\n",
    "DAbs (DI 1) `DApp` DAbs (DI 1)        -- (\\x.x)(\\x.x)\n",
    "DAbs ((DI 1 `DApp` DI 1) `DApp` DI 1) -- \\x.x x x\n",
    "DAbs (DI 1 `DApp` (DI 1 `DApp` DI 1)) -- \\x.x (x x)"
   ]
  },
  {
   "cell_type": "markdown",
   "id": "961735e2-14c8-4433-b74e-e69e33687f05",
   "metadata": {},
   "source": [
    "\\noindent\n",
    "그리고 매개변수에 넘겨받은 인자를 자기 자신에 적용(self-appliation)하는 함수 $\\lambda x.x\\;x$는\n",
    "드브루인 인덱스를 활용한 표현으로는 $\\lambda 1~1$이다. 이를 `w`로 선언해 놓고 앞으로 의미구조를\n",
    "하스켈로 구현하여 `w w`가 제자리걸음함을 확인해 보자."
   ]
  },
  {
   "cell_type": "code",
   "execution_count": 5,
   "id": "3adbc89b-985d-4398-8d8a-43aa39bbb7e5",
   "metadata": {},
   "outputs": [
    {
     "data": {
      "text/plain": [
       "\\1 1"
      ]
     },
     "metadata": {},
     "output_type": "display_data"
    },
    {
     "data": {
      "text/plain": [
       "(\\1 1) (\\1 1)"
      ]
     },
     "metadata": {},
     "output_type": "display_data"
    }
   ],
   "source": [
    "w = DAbs (DI 1 `DApp` DI 1) -- \\x.x x\n",
    "\n",
    "w         -- self-application 함수인 w\n",
    "DApp w w  -- w를 자기 자신에 적용한 식"
   ]
  },
  {
   "cell_type": "markdown",
   "id": "130e5dc0-6e95-4b9d-85bf-e201da5b498b",
   "metadata": {},
   "source": [
    "작은걸음 의미구조는 $\\beta$규칙 및 맥락 규칙들로 정의할 수 있다.\n",
    "\\newline\\vspace*{-2ex}\n",
    "$$(\\lambda\\,e)\\;e_2 \\longmapsto \\;\\downarrow_0^1 \\{1{\\mapsto}(\\uparrow_0^1 e_2)\\}e$$\n",
    "$$\\frac{~ e_1\\longmapsto e_1'~}{~ e_1~e_2\\longmapsto e_1'~e_2 ~}\n",
    "\\qquad\\frac{~ e_2\\longmapsto e_2'~}{~ e_1~e_2\\longmapsto e_1~e_2' ~}\n",
    "\\qquad\\frac{~ e\\longmapsto e' ~}{~ \\lambda\\,e \\longmapsto \\lambda\\,e' ~}\n",
    "$$\n",
    "위에서 $\\downarrow_m^k$, $\\uparrow_m^k$와 바꿔치기 $\\{i{\\mapsto}e\\}$가 어떻게 동작하는지만 확실히 하면\n",
    "나머지 맥락 규칙에 대한 처리는 산술식 작은걸음 계산기인 `step`을 작성하듯 선언하면 된다.\n",
    "$\\downarrow_m^k = \\uparrow_m^{-k}$이며, 일반적으로 $\\downarrow_m^k e$는 식 $e$에서\n",
    "$m$보다 큰 드브루인 인덱스를 $k$만큼씩 증가시킨 식을 나타내는 표현으로 왼쪽 아래처럼 정의할 수 있다.\n",
    "함수요약식에 대한 정의에서 함수 전체에는 $m$이다가 함수 몸체에서 $m+1$이\n",
    "되는 이유는 바인더 $\\lambda$가 한겹 더 감싸진 몸체 안에서는 그 바깥에서와\n",
    "같은 대상을 나타내는 드브루인 인덱스가 1씩  더 큰 수가 되기 때문이다.\n",
    "바꿔치기 $\\{i{\\mapsto}e\\}$는 $\\uparrow_m^k$ 표현을 활용해 오른쪽 아래와 같이 정의할 수 있다.\n",
    "$$\\begin{array}{ll}\n",
    "\\uparrow_m^k i \n",
    "\\!\\!\\!\\!&= \\begin{cases}i+k & (i>m) \\\\ i & (i\\le m)\\end{cases} \\\\\n",
    "\\uparrow_m^k (\\lambda\\,e)\n",
    "\\!\\!\\!\\!&=~ \\lambda\\,(\\uparrow_{m{+}1}^k e) \\\\\n",
    "\\uparrow_m^k (e_1\\;e_2)\n",
    "\\!\\!\\!\\!&=~ (\\uparrow_m^k e_1)\\;(\\uparrow_m^k e_2)\n",
    "\\end{array}\n",
    "\\qquad~~\n",
    "\\begin{array}{ll}\n",
    "\\{i{\\mapsto}e\\}j \n",
    "\\!\\!\\!\\!&= \\begin{cases}e & (i=j) \\\\ j & (i\\neq j)\\end{cases}\\\\\n",
    "\\{i{\\mapsto}e\\}(\\lambda\\, e_1) \n",
    "\\!\\!\\!\\!&=~ \\lambda\\, \\left\\{(i{+}1){\\mapsto}(\\uparrow_0^1 e\\right)\\}e_1 \\\\\n",
    "\\{i{\\mapsto}e\\}(e_1\\;e_2)\n",
    "\\!\\!\\!\\!&=~ \\{i{\\mapsto}e\\}e_1~\\{i{\\mapsto}e\\}e_2 \\\\\n",
    "\\end{array}$$\n",
    "위 정의를 하스켈로 아래와 옮기면 다음과 같다."
   ]
  },
  {
   "cell_type": "code",
   "execution_count": 6,
   "id": "c2d430e3-47d5-4f90-86ba-52fe8230cffd",
   "metadata": {},
   "outputs": [],
   "source": [
    "up m k (DI i)       = DI (if i>m then i+k else i)\n",
    "up m k (DAbs e)     = DAbs (up (m+1) k e)\n",
    "up m k (DApp e1 e2) = DApp (up m k e1) (up m k e2)\n",
    "\n",
    "dn m k = up m (-k)\n",
    "\n",
    "subst i e (DI j)       = if i==j then e else DI j\n",
    "subst i e (DAbs e1)    = DAbs (subst (i+1) (up 0 1 e) e1) \n",
    "subst i e (DApp e1 e2) = DApp (subst i e e1) (subst i e e2)"
   ]
  },
  {
   "cell_type": "code",
   "execution_count": 7,
   "id": "4cd4bb7c-7e54-44cd-891e-f4c210944a74",
   "metadata": {},
   "outputs": [
    {
     "data": {
      "text/html": [
       "<style>/* Styles used for the Hoogle display in the pager */\n",
       ".hoogle-doc {\n",
       "display: block;\n",
       "padding-bottom: 1.3em;\n",
       "padding-left: 0.4em;\n",
       "}\n",
       ".hoogle-code {\n",
       "display: block;\n",
       "font-family: monospace;\n",
       "white-space: pre;\n",
       "}\n",
       ".hoogle-text {\n",
       "display: block;\n",
       "}\n",
       ".hoogle-name {\n",
       "color: green;\n",
       "font-weight: bold;\n",
       "}\n",
       ".hoogle-head {\n",
       "font-weight: bold;\n",
       "}\n",
       ".hoogle-sub {\n",
       "display: block;\n",
       "margin-left: 0.4em;\n",
       "}\n",
       ".hoogle-package {\n",
       "font-weight: bold;\n",
       "font-style: italic;\n",
       "}\n",
       ".hoogle-module {\n",
       "font-weight: bold;\n",
       "}\n",
       ".hoogle-class {\n",
       "font-weight: bold;\n",
       "}\n",
       ".get-type {\n",
       "color: green;\n",
       "font-weight: bold;\n",
       "font-family: monospace;\n",
       "display: block;\n",
       "white-space: pre-wrap;\n",
       "}\n",
       ".show-type {\n",
       "color: green;\n",
       "font-weight: bold;\n",
       "font-family: monospace;\n",
       "margin-left: 1em;\n",
       "}\n",
       ".mono {\n",
       "font-family: monospace;\n",
       "display: block;\n",
       "}\n",
       ".err-msg {\n",
       "color: red;\n",
       "font-style: italic;\n",
       "font-family: monospace;\n",
       "white-space: pre;\n",
       "display: block;\n",
       "}\n",
       "#unshowable {\n",
       "color: red;\n",
       "font-weight: bold;\n",
       "}\n",
       ".err-msg.in.collapse {\n",
       "padding-top: 0.7em;\n",
       "}\n",
       ".highlight-code {\n",
       "white-space: pre;\n",
       "font-family: monospace;\n",
       "}\n",
       ".suggestion-warning { \n",
       "font-weight: bold;\n",
       "color: rgb(200, 130, 0);\n",
       "}\n",
       ".suggestion-error { \n",
       "font-weight: bold;\n",
       "color: red;\n",
       "}\n",
       ".suggestion-name {\n",
       "font-weight: bold;\n",
       "}\n",
       "</style><span class='get-type'>up :: Int -> Int -> DExpr -> DExpr</span>"
      ],
      "text/plain": [
       "up :: Int -> Int -> DExpr -> DExpr"
      ]
     },
     "metadata": {},
     "output_type": "display_data"
    },
    {
     "data": {
      "text/html": [
       "<style>/* Styles used for the Hoogle display in the pager */\n",
       ".hoogle-doc {\n",
       "display: block;\n",
       "padding-bottom: 1.3em;\n",
       "padding-left: 0.4em;\n",
       "}\n",
       ".hoogle-code {\n",
       "display: block;\n",
       "font-family: monospace;\n",
       "white-space: pre;\n",
       "}\n",
       ".hoogle-text {\n",
       "display: block;\n",
       "}\n",
       ".hoogle-name {\n",
       "color: green;\n",
       "font-weight: bold;\n",
       "}\n",
       ".hoogle-head {\n",
       "font-weight: bold;\n",
       "}\n",
       ".hoogle-sub {\n",
       "display: block;\n",
       "margin-left: 0.4em;\n",
       "}\n",
       ".hoogle-package {\n",
       "font-weight: bold;\n",
       "font-style: italic;\n",
       "}\n",
       ".hoogle-module {\n",
       "font-weight: bold;\n",
       "}\n",
       ".hoogle-class {\n",
       "font-weight: bold;\n",
       "}\n",
       ".get-type {\n",
       "color: green;\n",
       "font-weight: bold;\n",
       "font-family: monospace;\n",
       "display: block;\n",
       "white-space: pre-wrap;\n",
       "}\n",
       ".show-type {\n",
       "color: green;\n",
       "font-weight: bold;\n",
       "font-family: monospace;\n",
       "margin-left: 1em;\n",
       "}\n",
       ".mono {\n",
       "font-family: monospace;\n",
       "display: block;\n",
       "}\n",
       ".err-msg {\n",
       "color: red;\n",
       "font-style: italic;\n",
       "font-family: monospace;\n",
       "white-space: pre;\n",
       "display: block;\n",
       "}\n",
       "#unshowable {\n",
       "color: red;\n",
       "font-weight: bold;\n",
       "}\n",
       ".err-msg.in.collapse {\n",
       "padding-top: 0.7em;\n",
       "}\n",
       ".highlight-code {\n",
       "white-space: pre;\n",
       "font-family: monospace;\n",
       "}\n",
       ".suggestion-warning { \n",
       "font-weight: bold;\n",
       "color: rgb(200, 130, 0);\n",
       "}\n",
       ".suggestion-error { \n",
       "font-weight: bold;\n",
       "color: red;\n",
       "}\n",
       ".suggestion-name {\n",
       "font-weight: bold;\n",
       "}\n",
       "</style><span class='get-type'>dn :: Int -> Int -> DExpr -> DExpr</span>"
      ],
      "text/plain": [
       "dn :: Int -> Int -> DExpr -> DExpr"
      ]
     },
     "metadata": {},
     "output_type": "display_data"
    },
    {
     "data": {
      "text/html": [
       "<style>/* Styles used for the Hoogle display in the pager */\n",
       ".hoogle-doc {\n",
       "display: block;\n",
       "padding-bottom: 1.3em;\n",
       "padding-left: 0.4em;\n",
       "}\n",
       ".hoogle-code {\n",
       "display: block;\n",
       "font-family: monospace;\n",
       "white-space: pre;\n",
       "}\n",
       ".hoogle-text {\n",
       "display: block;\n",
       "}\n",
       ".hoogle-name {\n",
       "color: green;\n",
       "font-weight: bold;\n",
       "}\n",
       ".hoogle-head {\n",
       "font-weight: bold;\n",
       "}\n",
       ".hoogle-sub {\n",
       "display: block;\n",
       "margin-left: 0.4em;\n",
       "}\n",
       ".hoogle-package {\n",
       "font-weight: bold;\n",
       "font-style: italic;\n",
       "}\n",
       ".hoogle-module {\n",
       "font-weight: bold;\n",
       "}\n",
       ".hoogle-class {\n",
       "font-weight: bold;\n",
       "}\n",
       ".get-type {\n",
       "color: green;\n",
       "font-weight: bold;\n",
       "font-family: monospace;\n",
       "display: block;\n",
       "white-space: pre-wrap;\n",
       "}\n",
       ".show-type {\n",
       "color: green;\n",
       "font-weight: bold;\n",
       "font-family: monospace;\n",
       "margin-left: 1em;\n",
       "}\n",
       ".mono {\n",
       "font-family: monospace;\n",
       "display: block;\n",
       "}\n",
       ".err-msg {\n",
       "color: red;\n",
       "font-style: italic;\n",
       "font-family: monospace;\n",
       "white-space: pre;\n",
       "display: block;\n",
       "}\n",
       "#unshowable {\n",
       "color: red;\n",
       "font-weight: bold;\n",
       "}\n",
       ".err-msg.in.collapse {\n",
       "padding-top: 0.7em;\n",
       "}\n",
       ".highlight-code {\n",
       "white-space: pre;\n",
       "font-family: monospace;\n",
       "}\n",
       ".suggestion-warning { \n",
       "font-weight: bold;\n",
       "color: rgb(200, 130, 0);\n",
       "}\n",
       ".suggestion-error { \n",
       "font-weight: bold;\n",
       "color: red;\n",
       "}\n",
       ".suggestion-name {\n",
       "font-weight: bold;\n",
       "}\n",
       "</style><span class='get-type'>subst :: Int -> DExpr -> DExpr -> DExpr</span>"
      ],
      "text/plain": [
       "subst :: Int -> DExpr -> DExpr -> DExpr"
      ]
     },
     "metadata": {},
     "output_type": "display_data"
    }
   ],
   "source": [
    ":type up\n",
    ":type dn\n",
    ":type subst"
   ]
  },
  {
   "cell_type": "markdown",
   "id": "cac60f00-d352-4ff6-8115-768348462076",
   "metadata": {},
   "source": [
    "\\noindent\n",
    "위의 `up`, `dn`, `subst`를 활용해 다음과 같이 하스켈로 $\\beta$규칙을 작성할 수 있다."
   ]
  },
  {
   "cell_type": "code",
   "execution_count": 8,
   "id": "8f9030fc-2336-43f9-be2e-1d3bc9cf712e",
   "metadata": {},
   "outputs": [],
   "source": [
    "beta :: DExpr -> [DExpr]  -- 일단 베타 규칙만 작성\n",
    "beta (DApp (DAbs e) e2) = [ dn 0 1 (subst 1 (up 0 1 e2) e) ]\n",
    "beta _                  = []"
   ]
  },
  {
   "cell_type": "code",
   "execution_count": 9,
   "id": "5f2fd4d1-3bbe-427e-b82e-0baac791235a",
   "metadata": {},
   "outputs": [
    {
     "data": {
      "text/plain": [
       "(\\1 1) (\\1 1)"
      ]
     },
     "metadata": {},
     "output_type": "display_data"
    },
    {
     "data": {
      "text/plain": [
       "[(\\1 1) (\\1 1)]"
      ]
     },
     "metadata": {},
     "output_type": "display_data"
    }
   ],
   "source": [
    "DApp w w        -- (\\x.x) (\\x.x)\n",
    "beta (DApp w w) -- 제자리걸음 확인!"
   ]
  },
  {
   "cell_type": "code",
   "execution_count": 10,
   "id": "50b5f79a-4d4d-4dd6-b8ed-b4fc3029bd7c",
   "metadata": {},
   "outputs": [],
   "source": [
    "step :: DExpr -> [DExpr]\n",
    "step (DI _)       = []\n",
    "step (DApp e1 e2) = undefined -- undefined 대신 의미규칙대로\n",
    "step (DAbs e)     = undefined -- step 함수를 완성하는 연습문제"
   ]
  },
  {
   "cell_type": "raw",
   "id": "984897f2-a8aa-4009-bdeb-4cdfea4f0847",
   "metadata": {},
   "source": [
    "\\begin{comment}"
   ]
  },
  {
   "cell_type": "code",
   "execution_count": 11,
   "id": "e4942311-8700-4ed1-9da9-f944b1bb115e",
   "metadata": {},
   "outputs": [],
   "source": [
    "step :: DExpr -> [DExpr]\n",
    "step (DI _)       = []\n",
    "step (DApp e1 e2) = beta (DApp e1 e2)\n",
    "                 ++ [DApp e1' e2 | e1' <- step e1]\n",
    "                 ++ [DApp e1 e2' | e2' <- step e2]\n",
    "step (DAbs e)     = [DAbs e' | e' <- step e]"
   ]
  },
  {
   "cell_type": "raw",
   "id": "72f9bf58-1a43-44fb-bb21-3e0bc80e9506",
   "metadata": {},
   "source": [
    "\\end{comment}"
   ]
  },
  {
   "cell_type": "code",
   "execution_count": 12,
   "id": "0a1a70be-8779-422b-bcd3-a28a1256af40",
   "metadata": {},
   "outputs": [
    {
     "data": {
      "text/plain": [
       "\\(\\\\1 2 3) (\\\\1 3)"
      ]
     },
     "metadata": {},
     "output_type": "display_data"
    },
    {
     "data": {
      "text/plain": [
       "[\\\\1 (\\\\1 4) 2]"
      ]
     },
     "metadata": {},
     "output_type": "display_data"
    }
   ],
   "source": [
    "-- step이 제대로 동작하는지 다음 내용으로 테스트해 보라\n",
    "eee1 = DAbs . DAbs $ DI 1 `DApp` DI 2 `DApp` DI 3\n",
    "eee2 = DAbs . DAbs $ DI 1 `DApp` DI 3\n",
    "DAbs $ DApp eee1 eee2 -- \\x.(\\y.\\z.z y x) (\\w.\\v.v x)\n",
    "step it               -- \\x.\\y.\\z.z (\\w.\\v x) x"
   ]
  },
  {
   "cell_type": "markdown",
   "id": "ead8d116-e3c4-4a5c-8375-db1b86a9ab4f",
   "metadata": {},
   "source": [
    "## 타입없는 람다계산법에서 고정점(fixpoint)\n",
    "수학에서 함수 $f$의 고정점(fixpoint)이란 $x \\equiv f(x)$인 $x$를 말한다.\n",
    "타입없는 람다계산법에는 아무 함수에 적용해 그 함수의 고정점을 계산하는\n",
    "고정점 조합자(fixpoint combinator)가 여럿 존재한다.\n",
    "하스켈 커리가 발견한 $Y=\\lambda f.(\\lambda x.f\\,(x\\;x))\\,(\\lambda x.f\\,(x\\;x))$는\n",
    "Y조합자(Y-combinator)라 불리는 람다계산법의 대표적인 고정점 조합자로,\n",
    "다음과 같이 $Y\\,f \\equiv_\\beta f(Y\\,f)$를 만족함 보일 수 있다.\\vspace*{-2ex}\n",
    "\\begin{align*}\n",
    "Y\\,f \\longmapsto (\\lambda x.f\\,(x\\;x))\\,(\\lambda x.f\\,(x\\;x)) \\longmapsto f\\,((\\lambda x.f\\,(x\\;x))\\,(\\lambda x.f\\,(x\\;x))) &\\\\\n",
    "f(Y\\,f) \\longmapsto f\\,((\\lambda x.f\\,(x\\;x))\\,(\\lambda x.f\\,(x\\;x))) &\n",
    "\\end{align*}\n",
    "이런 고정점의 성질을 활용하면\n",
    "$Y\\,f \\equiv_\\beta f(Y\\,f) \\equiv_\\beta f(f(Y\\,f)) \\equiv_\\beta \\cdots$처럼\n",
    "함수 $f$를 몇 번이고 반복해서 적용하는 계산을 표현할 수 있다.\n",
    "\n",
    "Y조합자를 드브루인 인덱스를 활용하는 람다식을 나타내는 하스켈 데이터 타입인 `DExpr`로\n",
    "표현하여 다음과 같이 `yC`로 선언하자."
   ]
  },
  {
   "cell_type": "code",
   "execution_count": 13,
   "id": "5aead6dc-db56-41aa-97db-a22045da1a50",
   "metadata": {},
   "outputs": [],
   "source": [
    "yC = DAbs (DApp e211 e211) -- \\f.(\\x.f(x x))(\\x.f(x x))\n",
    "   where e211 = DAbs (DApp (DI 2) (DI 1 `DApp` DI 1))"
   ]
  },
  {
   "cell_type": "code",
   "execution_count": 14,
   "id": "aec5d4ef-0046-42f8-ae0c-a2a98d9efcc4",
   "metadata": {},
   "outputs": [
    {
     "data": {
      "text/plain": [
       "\\(\\2 (1 1)) (\\2 (1 1))"
      ]
     },
     "metadata": {},
     "output_type": "display_data"
    }
   ],
   "source": [
    "yC -- 드브루인 인덱스로 나타낸 Y조합자"
   ]
  },
  {
   "cell_type": "markdown",
   "id": "b457c357-c706-42c0-83a6-8429d874ccc2",
   "metadata": {},
   "source": [
    "Y조합자를 항등함수($\\lambda z.z$)에 적용하면 세 작은걸음만에 앞서 살펴본 계산이 끝나지 않는 람다식을 유도할 수 있다. \n",
    "\\vspace*{-2ex}\n",
    "\\begin{align*}\n",
    "(\\lambda f.(\\lambda x.f\\,(x\\;x))\\,(\\lambda x.f\\,(x\\;x)))~(\\lambda z.z)\n",
    "\\longmapsto\\;& (\\lambda x.(\\lambda z.z)(x\\;x))\\,(\\lambda x.(\\lambda z.z)(x\\;x)) \\\\\n",
    "\\longmapsto\\;& (\\lambda x.x\\;x)\\,(\\lambda x.(\\lambda z.z)(x\\;x)) \\\\\n",
    "\\longmapsto\\;& (\\lambda x.x\\;x)\\,(\\lambda x.x\\;x)\n",
    "\\end{align*}\n",
    "산술식에서처럼 `step`을 확장한 `step'`를 고차함수 `hat`을 통해 선언하자."
   ]
  },
  {
   "cell_type": "code",
   "execution_count": 15,
   "id": "12e647d6-6727-4a55-ab7e-9d9c13ddc98c",
   "metadata": {},
   "outputs": [],
   "source": [
    "import Data.List (nub)\n",
    "hat f es = nub (concat [f e| e <- es])\n",
    "\n",
    "step' :: [DExpr] -> [DExpr]\n",
    "step' = hat step"
   ]
  },
  {
   "cell_type": "code",
   "execution_count": 16,
   "id": "0126b435-4a40-4dbb-9331-908e15b1b230",
   "metadata": {},
   "outputs": [
    {
     "data": {
      "text/plain": [
       "(\\(\\2 (1 1)) (\\2 (1 1))) (\\1)"
      ]
     },
     "metadata": {},
     "output_type": "display_data"
    }
   ],
   "source": [
    "DApp yC (DAbs (DI 1)) -- yC (\\x.x)"
   ]
  },
  {
   "cell_type": "markdown",
   "id": "26f81df4-d247-4c12-a646-c8cb86d07831",
   "metadata": {},
   "source": [
    "`step'` 함수를 세 번 연달아 적용한 결과로 나오는 리스트의 모든 원소를\n",
    "다음과 같이 한줄에 하나씩 출력해 보자. 앞서 `step` 함수를 제대로 완성했다면,\n",
    "아래의 출력 결과 중에 계산이 끝나지 않는 람다식\n",
    "$(\\lambda x.x~x)~(\\lambda x.x~x)$에 해당하는 `(\\1 1) (\\1 1)`도\n",
    "출력됨을 확인할 수 있을 것이다. 참고로 리스트의 원소들이 출력되는\n",
    "순서는 `step`을 작성한 방식에 달라질 수도 있다."
   ]
  },
  {
   "cell_type": "code",
   "execution_count": 17,
   "id": "01295262-ec84-4719-b785-ff95e373952d",
   "metadata": {},
   "outputs": [
    {
     "data": {
      "text/plain": [
       "(\\(\\1) (1 1)) (\\(\\1) (1 1))\n",
       "(\\1) ((\\1) ((\\(\\1) (1 1)) (\\(\\1) (1 1))))\n",
       "(\\1) ((\\1 1) (\\(\\1) (1 1)))\n",
       "(\\1) ((\\(\\1) (1 1)) (\\1 1))\n",
       "(\\1 1) (\\1 1)\n",
       "(\\1) ((\\1 1) (\\1 1))\n",
       "(\\1 (1 (1 ((\\2 (1 1)) (\\2 (1 1)))))) (\\1)"
      ]
     },
     "metadata": {},
     "output_type": "display_data"
    }
   ],
   "source": [
    "-- yC (\\x.x)로부터 세 작은걸음 진행한 모든 람다식을 한줄에 하나씩 출력\n",
    "mapM_ print $ (step' . step' . step') [ DApp yC (DAbs (DI 1)) ]"
   ]
  },
  {
   "cell_type": "markdown",
   "id": "d55a6aca-9cea-4dbc-b48f-fb09632c4f33",
   "metadata": {},
   "source": [
    "## 하스켈에서 고정점 조합자 선언하기\n",
    "타입없는 람다계산법에서 자기 자신에 대한 적용(self-application)을\n",
    "이용해 끝나지 않는 계산을 표현하거나 Y조합자와 같은 고정점 조합자를\n",
    "람다식으로 정의할 수 있음을 알아보았다. 그렇지만 하스켈에서는 순수한\n",
    "람다식만으로 끝나지 않는 계산이나 고정점 조합자를 표현하기는 어렵다.\n",
    "왜냐하면 하스켈은 타입있는 람다계산법을 기반으로 하는데,\n",
    "타입있는 람다계산법에서는 자기 자신에 대한 적용 $x~x$에\n",
    "적절한 타입을 부여하기 어렵기 때문이다. 인자 부분인 오른쪽의\n",
    "$x:\\tau$라면 함수 부분인 왼쪽의 $x:\\tau\\to\\tau$여야 한다.\n",
    "단순타입 람다계산법(STLC)에서는 같은 식의 타입이\n",
    "$\\tau$이면서 $\\tau\\to\\tau$이기도 하기란 불가능하다. 앞으로 소개할\n",
    "다형 람다계산법에서는 자기 자신에 대한 적용에 타입을 부여할 수는 있지만\n",
    "무한한 계산을 표현할 수는 없다. 애초에 타입있는 람다계산법을 고안하게 된 동기가\n",
    "바로 끝없는 계산처럼 논리적 모순에 대응되는 람다식을 허용하지 않기 위해서다.\n",
    "그래서 튜링완전한 범용 함수형 언어에서는 람다식과 별도로\n",
    "재귀적 표현을 위한 문법요소를 제공한다."
   ]
  },
  {
   "cell_type": "code",
   "execution_count": 18,
   "id": "382488ac-8b02-4545-9169-f0d8e4cf1e15",
   "metadata": {},
   "outputs": [
    {
     "ename": "",
     "evalue": "",
     "output_type": "error",
     "traceback": [
      "<interactive>:1:9: error:\n    • Occurs check: cannot construct the infinite type: t ~ t -> t1\n    • In the first argument of ‘x’, namely ‘x’\n      In the expression: x x\n      In the expression: \\ x -> x x\n    • Relevant bindings include x :: t -> t1 (bound at <interactive>:1:2)"
     ]
    }
   ],
   "source": [
    ":type \\x -> x x  -- 하스켈에서 self-application 람다식은 타입 오류"
   ]
  },
  {
   "cell_type": "markdown",
   "id": "96a2e557-458b-41d7-a595-0f340d26f65e",
   "metadata": {},
   "source": [
    "그런데 만일 하스켈에서 딱 한 번만 재귀함수를 선언할 수 있고 다른 곳에서는\n",
    "재귀적인 표현을 허용하지 않도록 제약을 가한다면 우리는 어떤 재귀함수를 선언해야 할까?\n",
    "다음과 같이 고정점 조합자를 딱 한번만 선언하면 다른 곳에서 재귀적 표현이 금지되더라도\n",
    "일반적인 재귀함수를 얼마든지 만들어낼 수 있다."
   ]
  },
  {
   "cell_type": "code",
   "execution_count": 19,
   "id": "7b13c1e6-b5f9-4137-a187-5ad8fea9cb7c",
   "metadata": {},
   "outputs": [],
   "source": [
    "fix f = f (fix f) -- 고정점 조합자의 성질을 재귀함수로 선언"
   ]
  },
  {
   "cell_type": "code",
   "execution_count": 20,
   "id": "08a765e7-9114-4d80-a533-5bbfe805ce46",
   "metadata": {},
   "outputs": [
    {
     "data": {
      "text/html": [
       "<style>/* Styles used for the Hoogle display in the pager */\n",
       ".hoogle-doc {\n",
       "display: block;\n",
       "padding-bottom: 1.3em;\n",
       "padding-left: 0.4em;\n",
       "}\n",
       ".hoogle-code {\n",
       "display: block;\n",
       "font-family: monospace;\n",
       "white-space: pre;\n",
       "}\n",
       ".hoogle-text {\n",
       "display: block;\n",
       "}\n",
       ".hoogle-name {\n",
       "color: green;\n",
       "font-weight: bold;\n",
       "}\n",
       ".hoogle-head {\n",
       "font-weight: bold;\n",
       "}\n",
       ".hoogle-sub {\n",
       "display: block;\n",
       "margin-left: 0.4em;\n",
       "}\n",
       ".hoogle-package {\n",
       "font-weight: bold;\n",
       "font-style: italic;\n",
       "}\n",
       ".hoogle-module {\n",
       "font-weight: bold;\n",
       "}\n",
       ".hoogle-class {\n",
       "font-weight: bold;\n",
       "}\n",
       ".get-type {\n",
       "color: green;\n",
       "font-weight: bold;\n",
       "font-family: monospace;\n",
       "display: block;\n",
       "white-space: pre-wrap;\n",
       "}\n",
       ".show-type {\n",
       "color: green;\n",
       "font-weight: bold;\n",
       "font-family: monospace;\n",
       "margin-left: 1em;\n",
       "}\n",
       ".mono {\n",
       "font-family: monospace;\n",
       "display: block;\n",
       "}\n",
       ".err-msg {\n",
       "color: red;\n",
       "font-style: italic;\n",
       "font-family: monospace;\n",
       "white-space: pre;\n",
       "display: block;\n",
       "}\n",
       "#unshowable {\n",
       "color: red;\n",
       "font-weight: bold;\n",
       "}\n",
       ".err-msg.in.collapse {\n",
       "padding-top: 0.7em;\n",
       "}\n",
       ".highlight-code {\n",
       "white-space: pre;\n",
       "font-family: monospace;\n",
       "}\n",
       ".suggestion-warning { \n",
       "font-weight: bold;\n",
       "color: rgb(200, 130, 0);\n",
       "}\n",
       ".suggestion-error { \n",
       "font-weight: bold;\n",
       "color: red;\n",
       "}\n",
       ".suggestion-name {\n",
       "font-weight: bold;\n",
       "}\n",
       "</style><span class='get-type'>fix :: forall t. (t -> t) -> t</span>"
      ],
      "text/plain": [
       "fix :: forall t. (t -> t) -> t"
      ]
     },
     "metadata": {},
     "output_type": "display_data"
    }
   ],
   "source": [
    ":type fix"
   ]
  },
  {
   "cell_type": "markdown",
   "id": "3a303dd7-87af-4ea9-9af1-fd3b1ebf407d",
   "metadata": {},
   "source": [
    "정수 $n$을 받아 팩토리얼 $n!$를 계산하는 함수를 두 가지 방법으로 선언하여 비교해 보자.\n",
    "처음에는 직접 재귀함수로 선언하 보고, 그 다음에는\n",
    "고정점 조합자 `fix`와 다른 재귀적이지 않은 함수를 활용해 선언해 보겠다.\n",
    "프로그램의 단순화를 위해 팩토리얼 함수를 음수에 적용하는 것은 고려하지 않고\n",
    "0이상의 자연수에만 적용한다고 가정하자."
   ]
  },
  {
   "cell_type": "code",
   "execution_count": 21,
   "id": "b2d81d0b-62ef-414e-92d6-bbd7c3315bea",
   "metadata": {},
   "outputs": [],
   "source": [
    "fact :: Integer -> Integer -- 직접 재귀함수로 팩토리얼 선언\n",
    "fact 0 = 1                 -- 0! = 1\n",
    "fact n = n * fact (n-1)    -- n! = n * (n-1)!"
   ]
  },
  {
   "cell_type": "code",
   "execution_count": 22,
   "id": "ec55001c-6984-4c2c-9948-217b7a3315e7",
   "metadata": {},
   "outputs": [
    {
     "data": {
      "text/plain": [
       "1"
      ]
     },
     "metadata": {},
     "output_type": "display_data"
    },
    {
     "data": {
      "text/plain": [
       "120"
      ]
     },
     "metadata": {},
     "output_type": "display_data"
    }
   ],
   "source": [
    "fact 0\n",
    "fact 5"
   ]
  },
  {
   "cell_type": "code",
   "execution_count": 23,
   "id": "344a7ac1-0bba-42a1-8622-13fafd66fdea",
   "metadata": {},
   "outputs": [],
   "source": [
    "factF :: (Integer -> Integer) -> (Integer -> Integer)\n",
    "factF f 0 = 1           -- f를 원래 파라메터 앞에 추가\n",
    "factF f n = n * f (n-1) -- 재귀함수 호출 위치에 f 사용\n",
    "\n",
    "fact' = fix factF -- 고정점 조합자를 활용한 팩토리얼 선언"
   ]
  },
  {
   "cell_type": "code",
   "execution_count": 24,
   "id": "8f305cdc-8764-463e-a124-ce13d3975f9c",
   "metadata": {},
   "outputs": [
    {
     "data": {
      "text/html": [
       "<style>/* Styles used for the Hoogle display in the pager */\n",
       ".hoogle-doc {\n",
       "display: block;\n",
       "padding-bottom: 1.3em;\n",
       "padding-left: 0.4em;\n",
       "}\n",
       ".hoogle-code {\n",
       "display: block;\n",
       "font-family: monospace;\n",
       "white-space: pre;\n",
       "}\n",
       ".hoogle-text {\n",
       "display: block;\n",
       "}\n",
       ".hoogle-name {\n",
       "color: green;\n",
       "font-weight: bold;\n",
       "}\n",
       ".hoogle-head {\n",
       "font-weight: bold;\n",
       "}\n",
       ".hoogle-sub {\n",
       "display: block;\n",
       "margin-left: 0.4em;\n",
       "}\n",
       ".hoogle-package {\n",
       "font-weight: bold;\n",
       "font-style: italic;\n",
       "}\n",
       ".hoogle-module {\n",
       "font-weight: bold;\n",
       "}\n",
       ".hoogle-class {\n",
       "font-weight: bold;\n",
       "}\n",
       ".get-type {\n",
       "color: green;\n",
       "font-weight: bold;\n",
       "font-family: monospace;\n",
       "display: block;\n",
       "white-space: pre-wrap;\n",
       "}\n",
       ".show-type {\n",
       "color: green;\n",
       "font-weight: bold;\n",
       "font-family: monospace;\n",
       "margin-left: 1em;\n",
       "}\n",
       ".mono {\n",
       "font-family: monospace;\n",
       "display: block;\n",
       "}\n",
       ".err-msg {\n",
       "color: red;\n",
       "font-style: italic;\n",
       "font-family: monospace;\n",
       "white-space: pre;\n",
       "display: block;\n",
       "}\n",
       "#unshowable {\n",
       "color: red;\n",
       "font-weight: bold;\n",
       "}\n",
       ".err-msg.in.collapse {\n",
       "padding-top: 0.7em;\n",
       "}\n",
       ".highlight-code {\n",
       "white-space: pre;\n",
       "font-family: monospace;\n",
       "}\n",
       ".suggestion-warning { \n",
       "font-weight: bold;\n",
       "color: rgb(200, 130, 0);\n",
       "}\n",
       ".suggestion-error { \n",
       "font-weight: bold;\n",
       "color: red;\n",
       "}\n",
       ".suggestion-name {\n",
       "font-weight: bold;\n",
       "}\n",
       "</style><span class='get-type'>fact' :: Integer -> Integer</span>"
      ],
      "text/plain": [
       "fact' :: Integer -> Integer"
      ]
     },
     "metadata": {},
     "output_type": "display_data"
    }
   ],
   "source": [
    ":type fact'"
   ]
  },
  {
   "cell_type": "code",
   "execution_count": 25,
   "id": "fa0c3b24-3447-4164-a39c-d14639bbe96e",
   "metadata": {},
   "outputs": [
    {
     "data": {
      "text/plain": [
       "1"
      ]
     },
     "metadata": {},
     "output_type": "display_data"
    },
    {
     "data": {
      "text/plain": [
       "120"
      ]
     },
     "metadata": {},
     "output_type": "display_data"
    }
   ],
   "source": [
    "fact' 0\n",
    "fact' 5"
   ]
  },
  {
   "cell_type": "markdown",
   "id": "ab4762f7-55cc-4db4-8adc-9dc000794c9c",
   "metadata": {},
   "source": [
    "# 다형 람다계산법\n",
    "\\label{sec:SystemF}"
   ]
  },
  {
   "cell_type": "raw",
   "id": "f65ec2fe-0cf2-48f0-89db-030e6581afbb",
   "metadata": {},
   "source": [
    "\\begin{figure}\\hspace{.2\\textwidth}\n",
    "\\begin{subfigure}[b]{.3\\textwidth}\\centering\n",
    "\\includegraphics{JYGirard.jpg}\n",
    "\\subcaption{Jean-Yves Girard}\n",
    "\\end{subfigure}\n",
    "\\begin{subfigure}[b]{.3\\textwidth}\\centering\n",
    "\\includegraphics[trim={10 150 0 20},clip]{JohnCReynolds.jpg}\n",
    "\\subcaption{John C. Reynolds}\n",
    "\\end{subfigure}\n",
    "\\\\[1.2ex]"
   ]
  },
  {
   "cell_type": "markdown",
   "id": "be110fd6-ff4a-4ede-9020-0e648db04bfb",
   "metadata": {},
   "source": [
    "문법구조\\vspace{-4.5ex}\n",
    "\\begin{align*}\n",
    "\\qquad\n",
    "t \\in B & ~\\text{\\small(기본타입)} &\n",
    "\\tau\\in T ~::= ~& t ~\\mid~ \\tau \\to \\tau\n",
    "~\\mid~ \\alpha ~\\mid~ \\forall \\alpha.\\tau\n",
    "\\\\\n",
    "c \\in C & ~\\text{\\small(기본상수)} &\n",
    "e\\in E ~::=~ & c \\mid x \\mid \\lambda x{\\,:\\,}\\tau.\\,e \\mid e~e\n",
    "\\mid \\Lambda \\alpha.\\,e \\mid e\\,@\\tau\n",
    "\\end{align*} 타입규칙\n",
    "$\\qquad\n",
    "\\Delta ~::=~ c{\\,:\\,}\\tau,\\Delta \\mid \\bm{\\cdot} \\qquad\\qquad\\qquad\n",
    "\\Gamma ~::=~ \\alpha{\\,:\\,}\\star,\\Gamma \\mid x{\\,:\\,}\\tau,\\Gamma \\mid \\bm{\\cdot}$\n",
    "$$\n",
    "{\\scriptstyle(\\textsc{Con})}\n",
    "\\frac{~ ~}{~ \\Gamma \\vdash c:\\tau ~}\n",
    "({\\scriptstyle c{\\,:\\,}\\tau\\;\\in\\,\\Delta})\n",
    "\\qquad\\qquad\n",
    "{\\scriptstyle(\\textsc{Var})}\n",
    "\\frac{~ ~}{~ \\Gamma \\vdash x:\\tau ~}\n",
    "({\\scriptstyle x{\\,:\\,}\\tau\\;\\in\\,\\Gamma})\n",
    "$$ \\vspace*{-.5ex}\n",
    "$$\n",
    "{\\scriptstyle(\\textsc{Abs})}\n",
    "\\frac{~ x:\\tau_2,\\Gamma \\vdash e:\\tau ~}{~ \\Gamma \\vdash \\lambda x{\\,:\\,}\\tau_2.\\,e : \\tau_2\\to\\tau ~}\n",
    "\\qquad\n",
    "{\\scriptstyle(\\textsc{App})}\n",
    "\\frac{~ \\Gamma \\vdash e_1:\\tau_2\\to\\tau ~\\quad~ \\Gamma \\vdash e_2:\\tau_2 ~}{~ \\Gamma \\vdash e_1\\;e_2 : \\tau ~}\n",
    "$$ \\vspace*{-.5ex}\n",
    "$$\n",
    "{\\scriptstyle(\\textsc{TAbs})}\n",
    "\\frac{~ \\alpha{\\,:\\,}\\star,\\Gamma \\vdash e:\\tau ~}{~ \\Gamma \\vdash \\Lambda \\alpha.\\,e : \\forall \\alpha.\\tau ~}\n",
    "\\qquad\n",
    "{\\scriptstyle(\\textsc{TApp})}\n",
    "\\frac{~ \\Gamma \\vdash e:\\forall\\alpha.\\tau ~}{~ \\Gamma \\vdash e\\,@\\tau_1 : \\{\\alpha{\\mapsto}\\tau_1\\}\\tau ~}\n",
    "$$\n",
    "$~$\\newline\n",
    "의미구조\n",
    "$\\displaystyle\n",
    " \\quad {\\scriptstyle(\\beta_\\to)}\\frac{~~}{~(\\lambda x{:}\\tau.\\,e)\\,e_2 \\longmapsto \\{x{\\mapsto}e_2\\}e~}\n",
    "\\qquad {\\scriptstyle(\\beta_\\forall)}\\frac{~~}{~(\\Lambda \\alpha.\\,e)\\,@\\tau \\longmapsto \\{\\alpha{\\mapsto}\\tau\\}e~}$\n",
    "$$ \\mathcal{E} ~::=~ \\bullet\n",
    "\\mid \\lambda x{\\,:\\,}\\tau.\\,\\mathcal{E} \n",
    "\\mid \\mathcal{E}~e \\mid e~\\mathcal{E}\n",
    "\\mid \\Lambda \\alpha.\\,\\mathcal{E} \\mid \\mathcal{E}\\,@\\tau\n",
    "\\qquad\n",
    "{\\scriptstyle(\\mathcal{E})}\\frac{~e\\longmapsto e'~}{~\\mathcal{E}[e]\\xmapsto{~_C~}\\mathcal{E}[e']~}\n",
    "$$"
   ]
  },
  {
   "cell_type": "raw",
   "id": "912572d6-8999-434a-a48a-406c8025b20a",
   "metadata": {},
   "source": [
    "\\caption{System F로도 불리는 다형 람다계산법을 고안한 장-이브 지라르와 존 레이놀즈 \n",
    "\t{\\footnotesize(사진 출처: CACM\\cite{Wright2010cacm}, 위키미디어 공용)}\n",
    "\t\\label{fig:SystemF} }\n",
    "\\end{figure}"
   ]
  },
  {
   "cell_type": "markdown",
   "id": "f2446890-47de-4604-9dd7-c5579c11839b",
   "metadata": {},
   "source": [
    "프랑스의 논리학자인 장-이브 지라르\\cite{Girard1972SystemF}는 System F라는 이름의,\n",
    "미국의 컴퓨터 과학자 존 레이놀즈\\cite{Reynolds1974PolyLambda}는\n",
    "이후 다형 람다계산법(polymorphic $\\lambda$-calculus) 혹은\n",
    "다형타입 람다계산법(polymoprphically typed $\\lambda$-calculus)으로 불리게 된,\n",
    "알고보니 똑같은 타입있는 람다계산법(그림 \\ref{fig:SystemF})을 1970년대 초반에 각자 독립적으로 고안했다.\n",
    "\\`다형 람다계산법'보다는 \\`System F'가 더 짧으므로 주로 System F로 부르겠다.\n",
    "System F의 타입은 STLC의 타입을 구성하는 요소 외에도 타입변수($\\alpha$)와 다형타입($\\forall\\alpha.\\tau$)을 포함한다.\n",
    "System F의 식은 STLC의 식을 구성하는 요소 외에도 타입요약식(type abstraction)과 타입적용식(type application)을 포함한다. 함수요약식($\\lambda x{:}\\tau.e$)이 식을 식에 대응시키는 함수를 표현한다면\n",
    "타입요약식($\\Lambda\\alpha.e$)은 타입을 식에 대응시킨키는 함수를 표현한다.\n",
    "식을 식에 적용하는 함수적용식($e_1~e_2$)과의 차이를 뚜렷이 드러내기 위해\n",
    "식을 타입 적용하는 타입적용식($e\\;@\\tau$)에서는 인자로 넘기는 타입 앞에 $@$기호를 표기한다.\n",
    "참고로, 표준적인 타입적용식의 표기는 레이놀즈의 논문\\cite{Reynolds1974PolyLambda}에서처럼\n",
    "$e[\\tau]$이다. 하지만 실행맥락의 구멍을 채워넣는 표현($\\mathcal{E}[e]$)에도 같은 괄호를 사용하므로,\n",
    "여기서는 혼동의 여지를 줄이고자, 하스켈에서 명시적인 타입 적용을 표현하도록 지원하는\n",
    "GHC확장 기능의 문법을 따라 $e\\;@\\tau$와 같이 표기하였다.\n",
    "\n",
    "타입요약식에 대한 타입규칙($\\scriptstyle\\textsc{TAbs}$)은 타입요약식이 다형타입이 됨을 규정한다.\n",
    "타입적용식에 대한 타입규칙($\\scriptstyle\\textsc{TApp}$)은\n",
    "왼쪽의 적용하는 식($e$)이 다형타입($\\Lambda\\alpha.\\tau$)이어야 하며\n",
    "전체 타입적용식($e\\,@\\tau_1$)의 타입은 $\\tau$에 자유로이 나타나는\n",
    "$\\alpha$를 오른쪽의 타입 인자 $\\tau_1$로 구체화한 타입이 됨을 규정한다.\n",
    "그 외의 다른 타입규칙은 STLC에서와 같다.\n",
    "\n",
    "그림 \\ref{fig:SystemF}의 의미구조는 $\\beta_\\to$규칙과 $\\beta_\\forall$규칙을\n",
    "적용하는 순서를 제약하지 않는 단순한 형태의 의미구조이다. System F를 바탕으로 하는\n",
    "정적 타입 함수형 언어의 실제 구현은 실행 전의 타입 검사 단계에서\n",
    "$\\beta_\\forall$규칙만을 미리 적용해 타입을 가능한 한 구체화해 놓고,\n",
    "실행 시간에 $\\beta_\\to$규칙을 적용하며 계산을 진행하는 것으로 이해할 수 있다. "
   ]
  },
  {
   "cell_type": "markdown",
   "id": "e5bd5ba7-8055-4399-87ce-4350101a2f1e",
   "metadata": {},
   "source": [
    "## 다형 람다계산법과 하스켈"
   ]
  },
  {
   "cell_type": "code",
   "execution_count": 26,
   "id": "1f5be570-0a38-40fa-8e36-5b599bc76880",
   "metadata": {},
   "outputs": [
    {
     "data": {
      "text/html": [
       "<style>/* Styles used for the Hoogle display in the pager */\n",
       ".hoogle-doc {\n",
       "display: block;\n",
       "padding-bottom: 1.3em;\n",
       "padding-left: 0.4em;\n",
       "}\n",
       ".hoogle-code {\n",
       "display: block;\n",
       "font-family: monospace;\n",
       "white-space: pre;\n",
       "}\n",
       ".hoogle-text {\n",
       "display: block;\n",
       "}\n",
       ".hoogle-name {\n",
       "color: green;\n",
       "font-weight: bold;\n",
       "}\n",
       ".hoogle-head {\n",
       "font-weight: bold;\n",
       "}\n",
       ".hoogle-sub {\n",
       "display: block;\n",
       "margin-left: 0.4em;\n",
       "}\n",
       ".hoogle-package {\n",
       "font-weight: bold;\n",
       "font-style: italic;\n",
       "}\n",
       ".hoogle-module {\n",
       "font-weight: bold;\n",
       "}\n",
       ".hoogle-class {\n",
       "font-weight: bold;\n",
       "}\n",
       ".get-type {\n",
       "color: green;\n",
       "font-weight: bold;\n",
       "font-family: monospace;\n",
       "display: block;\n",
       "white-space: pre-wrap;\n",
       "}\n",
       ".show-type {\n",
       "color: green;\n",
       "font-weight: bold;\n",
       "font-family: monospace;\n",
       "margin-left: 1em;\n",
       "}\n",
       ".mono {\n",
       "font-family: monospace;\n",
       "display: block;\n",
       "}\n",
       ".err-msg {\n",
       "color: red;\n",
       "font-style: italic;\n",
       "font-family: monospace;\n",
       "white-space: pre;\n",
       "display: block;\n",
       "}\n",
       "#unshowable {\n",
       "color: red;\n",
       "font-weight: bold;\n",
       "}\n",
       ".err-msg.in.collapse {\n",
       "padding-top: 0.7em;\n",
       "}\n",
       ".highlight-code {\n",
       "white-space: pre;\n",
       "font-family: monospace;\n",
       "}\n",
       ".suggestion-warning { \n",
       "font-weight: bold;\n",
       "color: rgb(200, 130, 0);\n",
       "}\n",
       ".suggestion-error { \n",
       "font-weight: bold;\n",
       "color: red;\n",
       "}\n",
       ".suggestion-name {\n",
       "font-weight: bold;\n",
       "}\n",
       "</style><span class='get-type'>id :: forall a. a -> a</span>"
      ],
      "text/plain": [
       "id :: forall a. a -> a"
      ]
     },
     "metadata": {},
     "output_type": "display_data"
    }
   ],
   "source": [
    ":type id  -- 표준라이브러리 항등함수 id는 다형타입"
   ]
  },
  {
   "cell_type": "code",
   "execution_count": 27,
   "id": "8573d045-63aa-482f-8627-7b9e0263236a",
   "metadata": {},
   "outputs": [
    {
     "data": {
      "text/html": [
       "<style>/* Styles used for the Hoogle display in the pager */\n",
       ".hoogle-doc {\n",
       "display: block;\n",
       "padding-bottom: 1.3em;\n",
       "padding-left: 0.4em;\n",
       "}\n",
       ".hoogle-code {\n",
       "display: block;\n",
       "font-family: monospace;\n",
       "white-space: pre;\n",
       "}\n",
       ".hoogle-text {\n",
       "display: block;\n",
       "}\n",
       ".hoogle-name {\n",
       "color: green;\n",
       "font-weight: bold;\n",
       "}\n",
       ".hoogle-head {\n",
       "font-weight: bold;\n",
       "}\n",
       ".hoogle-sub {\n",
       "display: block;\n",
       "margin-left: 0.4em;\n",
       "}\n",
       ".hoogle-package {\n",
       "font-weight: bold;\n",
       "font-style: italic;\n",
       "}\n",
       ".hoogle-module {\n",
       "font-weight: bold;\n",
       "}\n",
       ".hoogle-class {\n",
       "font-weight: bold;\n",
       "}\n",
       ".get-type {\n",
       "color: green;\n",
       "font-weight: bold;\n",
       "font-family: monospace;\n",
       "display: block;\n",
       "white-space: pre-wrap;\n",
       "}\n",
       ".show-type {\n",
       "color: green;\n",
       "font-weight: bold;\n",
       "font-family: monospace;\n",
       "margin-left: 1em;\n",
       "}\n",
       ".mono {\n",
       "font-family: monospace;\n",
       "display: block;\n",
       "}\n",
       ".err-msg {\n",
       "color: red;\n",
       "font-style: italic;\n",
       "font-family: monospace;\n",
       "white-space: pre;\n",
       "display: block;\n",
       "}\n",
       "#unshowable {\n",
       "color: red;\n",
       "font-weight: bold;\n",
       "}\n",
       ".err-msg.in.collapse {\n",
       "padding-top: 0.7em;\n",
       "}\n",
       ".highlight-code {\n",
       "white-space: pre;\n",
       "font-family: monospace;\n",
       "}\n",
       ".suggestion-warning { \n",
       "font-weight: bold;\n",
       "color: rgb(200, 130, 0);\n",
       "}\n",
       ".suggestion-error { \n",
       "font-weight: bold;\n",
       "color: red;\n",
       "}\n",
       ".suggestion-name {\n",
       "font-weight: bold;\n",
       "}\n",
       "</style><span class='get-type'>id @Int :: Int -> Int</span>"
      ],
      "text/plain": [
       "id @Int :: Int -> Int"
      ]
     },
     "metadata": {},
     "output_type": "display_data"
    },
    {
     "data": {
      "text/html": [
       "<style>/* Styles used for the Hoogle display in the pager */\n",
       ".hoogle-doc {\n",
       "display: block;\n",
       "padding-bottom: 1.3em;\n",
       "padding-left: 0.4em;\n",
       "}\n",
       ".hoogle-code {\n",
       "display: block;\n",
       "font-family: monospace;\n",
       "white-space: pre;\n",
       "}\n",
       ".hoogle-text {\n",
       "display: block;\n",
       "}\n",
       ".hoogle-name {\n",
       "color: green;\n",
       "font-weight: bold;\n",
       "}\n",
       ".hoogle-head {\n",
       "font-weight: bold;\n",
       "}\n",
       ".hoogle-sub {\n",
       "display: block;\n",
       "margin-left: 0.4em;\n",
       "}\n",
       ".hoogle-package {\n",
       "font-weight: bold;\n",
       "font-style: italic;\n",
       "}\n",
       ".hoogle-module {\n",
       "font-weight: bold;\n",
       "}\n",
       ".hoogle-class {\n",
       "font-weight: bold;\n",
       "}\n",
       ".get-type {\n",
       "color: green;\n",
       "font-weight: bold;\n",
       "font-family: monospace;\n",
       "display: block;\n",
       "white-space: pre-wrap;\n",
       "}\n",
       ".show-type {\n",
       "color: green;\n",
       "font-weight: bold;\n",
       "font-family: monospace;\n",
       "margin-left: 1em;\n",
       "}\n",
       ".mono {\n",
       "font-family: monospace;\n",
       "display: block;\n",
       "}\n",
       ".err-msg {\n",
       "color: red;\n",
       "font-style: italic;\n",
       "font-family: monospace;\n",
       "white-space: pre;\n",
       "display: block;\n",
       "}\n",
       "#unshowable {\n",
       "color: red;\n",
       "font-weight: bold;\n",
       "}\n",
       ".err-msg.in.collapse {\n",
       "padding-top: 0.7em;\n",
       "}\n",
       ".highlight-code {\n",
       "white-space: pre;\n",
       "font-family: monospace;\n",
       "}\n",
       ".suggestion-warning { \n",
       "font-weight: bold;\n",
       "color: rgb(200, 130, 0);\n",
       "}\n",
       ".suggestion-error { \n",
       "font-weight: bold;\n",
       "color: red;\n",
       "}\n",
       ".suggestion-name {\n",
       "font-weight: bold;\n",
       "}\n",
       "</style><span class='get-type'>id @String :: String -> String</span>"
      ],
      "text/plain": [
       "id @String :: String -> String"
      ]
     },
     "metadata": {},
     "output_type": "display_data"
    }
   ],
   "source": [
    ":type id @Int     -- Int에 명시적 타입 적용\n",
    ":type id @String  -- String에 명시적 타입 적용"
   ]
  },
  {
   "cell_type": "code",
   "execution_count": 28,
   "id": "cc8e54fe-6540-4747-a3e0-14e485105230",
   "metadata": {},
   "outputs": [
    {
     "data": {
      "text/plain": [
       "3"
      ]
     },
     "metadata": {},
     "output_type": "display_data"
    },
    {
     "data": {
      "text/plain": [
       "3"
      ]
     },
     "metadata": {},
     "output_type": "display_data"
    }
   ],
   "source": [
    "id      3 -- 타입 인자가 생략되어 있어도 타입유추로 알아서 척척\n",
    "id @Int 3"
   ]
  },
  {
   "cell_type": "code",
   "execution_count": 29,
   "id": "e492ba69-e2b4-4618-95d7-cfa783284b6f",
   "metadata": {},
   "outputs": [
    {
     "data": {
      "text/plain": [
       "\"hello\""
      ]
     },
     "metadata": {},
     "output_type": "display_data"
    },
    {
     "data": {
      "text/plain": [
       "\"hello\""
      ]
     },
     "metadata": {},
     "output_type": "display_data"
    }
   ],
   "source": [
    "id         \"hello\" -- 타입 인자가 생략되어 있어도 타입유추로 알아서 척척\n",
    "id @String \"hello\""
   ]
  },
  {
   "cell_type": "code",
   "execution_count": 30,
   "id": "4bf58d3e-e5c9-448c-b348-956fd2554200",
   "metadata": {},
   "outputs": [
    {
     "ename": "",
     "evalue": "",
     "output_type": "error",
     "traceback": [
      "<interactive>:1:9: error:\n    • Couldn't match expected type ‘Int’ with actual type ‘String’\n    • In the second argument of ‘id’, namely ‘\"hello\"’\n      In the expression: id @Int \"hello\"\n      In an equation for ‘it’: it = id @Int \"hello\""
     ]
    }
   ],
   "source": [
    "id @Int \"hello\" -- 명시적으로 구체화한 타입과 다르게 사용하면 타입 오류"
   ]
  },
  {
   "cell_type": "markdown",
   "id": "dd74c1a3-ea96-40c6-935e-78a7e4b858fa",
   "metadata": {},
   "source": [
    "위에서 살펴본 바와 같이 하스켈에서 다형 함수 적용은 System F와 사실상 같은 문법이다.\n",
    "하스켈은 타입유추를 잘 지원하므로 대부분의 경우 명시적 타입적용을 생략하더라도\n",
    "컴파일러가 이후에 연이어 적용하는 인자로부터 필요한 타입 정보를 얻어 드러나 보이지 않게 타입적용이 수행된다.\n",
    "\n",
    "한편, 하스켈에는 타입요약식($\\Lambda \\alpha.e$)에 직접적으로 대응되는 문법요소는 없다.\n",
    "다만 아래와 같이 함수 선언에 앞서 `myid :: forall a. a -> a` 또는 줄여서 `myid :: a -> a`로\n",
    "다형타입을 선언함으로써\n",
    "`myid`를 System F의 타입요약식으로 선언한 것과 같은 효과를 볼 수 있다.\n",
    "참고로, 타입 선언 없이도 마찬가지 다형타입이 유추되지만\n",
    "`@`기호를 사용하는 명시적 타입적용은 사용할 수 없다."
   ]
  },
  {
   "cell_type": "code",
   "execution_count": 31,
   "id": "4c91d5a8-7643-4809-9cee-a6ea03a6fb17",
   "metadata": {},
   "outputs": [],
   "source": [
    "myid :: a -> a\n",
    "myid = \\x -> x"
   ]
  },
  {
   "cell_type": "code",
   "execution_count": 32,
   "id": "063623de-4658-40e7-ae53-4f4f0a351d47",
   "metadata": {},
   "outputs": [
    {
     "data": {
      "text/html": [
       "<style>/* Styles used for the Hoogle display in the pager */\n",
       ".hoogle-doc {\n",
       "display: block;\n",
       "padding-bottom: 1.3em;\n",
       "padding-left: 0.4em;\n",
       "}\n",
       ".hoogle-code {\n",
       "display: block;\n",
       "font-family: monospace;\n",
       "white-space: pre;\n",
       "}\n",
       ".hoogle-text {\n",
       "display: block;\n",
       "}\n",
       ".hoogle-name {\n",
       "color: green;\n",
       "font-weight: bold;\n",
       "}\n",
       ".hoogle-head {\n",
       "font-weight: bold;\n",
       "}\n",
       ".hoogle-sub {\n",
       "display: block;\n",
       "margin-left: 0.4em;\n",
       "}\n",
       ".hoogle-package {\n",
       "font-weight: bold;\n",
       "font-style: italic;\n",
       "}\n",
       ".hoogle-module {\n",
       "font-weight: bold;\n",
       "}\n",
       ".hoogle-class {\n",
       "font-weight: bold;\n",
       "}\n",
       ".get-type {\n",
       "color: green;\n",
       "font-weight: bold;\n",
       "font-family: monospace;\n",
       "display: block;\n",
       "white-space: pre-wrap;\n",
       "}\n",
       ".show-type {\n",
       "color: green;\n",
       "font-weight: bold;\n",
       "font-family: monospace;\n",
       "margin-left: 1em;\n",
       "}\n",
       ".mono {\n",
       "font-family: monospace;\n",
       "display: block;\n",
       "}\n",
       ".err-msg {\n",
       "color: red;\n",
       "font-style: italic;\n",
       "font-family: monospace;\n",
       "white-space: pre;\n",
       "display: block;\n",
       "}\n",
       "#unshowable {\n",
       "color: red;\n",
       "font-weight: bold;\n",
       "}\n",
       ".err-msg.in.collapse {\n",
       "padding-top: 0.7em;\n",
       "}\n",
       ".highlight-code {\n",
       "white-space: pre;\n",
       "font-family: monospace;\n",
       "}\n",
       ".suggestion-warning { \n",
       "font-weight: bold;\n",
       "color: rgb(200, 130, 0);\n",
       "}\n",
       ".suggestion-error { \n",
       "font-weight: bold;\n",
       "color: red;\n",
       "}\n",
       ".suggestion-name {\n",
       "font-weight: bold;\n",
       "}\n",
       "</style><span class='get-type'>myid :: forall a. a -> a</span>"
      ],
      "text/plain": [
       "myid :: forall a. a -> a"
      ]
     },
     "metadata": {},
     "output_type": "display_data"
    },
    {
     "data": {
      "text/html": [
       "<style>/* Styles used for the Hoogle display in the pager */\n",
       ".hoogle-doc {\n",
       "display: block;\n",
       "padding-bottom: 1.3em;\n",
       "padding-left: 0.4em;\n",
       "}\n",
       ".hoogle-code {\n",
       "display: block;\n",
       "font-family: monospace;\n",
       "white-space: pre;\n",
       "}\n",
       ".hoogle-text {\n",
       "display: block;\n",
       "}\n",
       ".hoogle-name {\n",
       "color: green;\n",
       "font-weight: bold;\n",
       "}\n",
       ".hoogle-head {\n",
       "font-weight: bold;\n",
       "}\n",
       ".hoogle-sub {\n",
       "display: block;\n",
       "margin-left: 0.4em;\n",
       "}\n",
       ".hoogle-package {\n",
       "font-weight: bold;\n",
       "font-style: italic;\n",
       "}\n",
       ".hoogle-module {\n",
       "font-weight: bold;\n",
       "}\n",
       ".hoogle-class {\n",
       "font-weight: bold;\n",
       "}\n",
       ".get-type {\n",
       "color: green;\n",
       "font-weight: bold;\n",
       "font-family: monospace;\n",
       "display: block;\n",
       "white-space: pre-wrap;\n",
       "}\n",
       ".show-type {\n",
       "color: green;\n",
       "font-weight: bold;\n",
       "font-family: monospace;\n",
       "margin-left: 1em;\n",
       "}\n",
       ".mono {\n",
       "font-family: monospace;\n",
       "display: block;\n",
       "}\n",
       ".err-msg {\n",
       "color: red;\n",
       "font-style: italic;\n",
       "font-family: monospace;\n",
       "white-space: pre;\n",
       "display: block;\n",
       "}\n",
       "#unshowable {\n",
       "color: red;\n",
       "font-weight: bold;\n",
       "}\n",
       ".err-msg.in.collapse {\n",
       "padding-top: 0.7em;\n",
       "}\n",
       ".highlight-code {\n",
       "white-space: pre;\n",
       "font-family: monospace;\n",
       "}\n",
       ".suggestion-warning { \n",
       "font-weight: bold;\n",
       "color: rgb(200, 130, 0);\n",
       "}\n",
       ".suggestion-error { \n",
       "font-weight: bold;\n",
       "color: red;\n",
       "}\n",
       ".suggestion-name {\n",
       "font-weight: bold;\n",
       "}\n",
       "</style><span class='get-type'>myid @Int :: Int -> Int</span>"
      ],
      "text/plain": [
       "myid @Int :: Int -> Int"
      ]
     },
     "metadata": {},
     "output_type": "display_data"
    },
    {
     "data": {
      "text/html": [
       "<style>/* Styles used for the Hoogle display in the pager */\n",
       ".hoogle-doc {\n",
       "display: block;\n",
       "padding-bottom: 1.3em;\n",
       "padding-left: 0.4em;\n",
       "}\n",
       ".hoogle-code {\n",
       "display: block;\n",
       "font-family: monospace;\n",
       "white-space: pre;\n",
       "}\n",
       ".hoogle-text {\n",
       "display: block;\n",
       "}\n",
       ".hoogle-name {\n",
       "color: green;\n",
       "font-weight: bold;\n",
       "}\n",
       ".hoogle-head {\n",
       "font-weight: bold;\n",
       "}\n",
       ".hoogle-sub {\n",
       "display: block;\n",
       "margin-left: 0.4em;\n",
       "}\n",
       ".hoogle-package {\n",
       "font-weight: bold;\n",
       "font-style: italic;\n",
       "}\n",
       ".hoogle-module {\n",
       "font-weight: bold;\n",
       "}\n",
       ".hoogle-class {\n",
       "font-weight: bold;\n",
       "}\n",
       ".get-type {\n",
       "color: green;\n",
       "font-weight: bold;\n",
       "font-family: monospace;\n",
       "display: block;\n",
       "white-space: pre-wrap;\n",
       "}\n",
       ".show-type {\n",
       "color: green;\n",
       "font-weight: bold;\n",
       "font-family: monospace;\n",
       "margin-left: 1em;\n",
       "}\n",
       ".mono {\n",
       "font-family: monospace;\n",
       "display: block;\n",
       "}\n",
       ".err-msg {\n",
       "color: red;\n",
       "font-style: italic;\n",
       "font-family: monospace;\n",
       "white-space: pre;\n",
       "display: block;\n",
       "}\n",
       "#unshowable {\n",
       "color: red;\n",
       "font-weight: bold;\n",
       "}\n",
       ".err-msg.in.collapse {\n",
       "padding-top: 0.7em;\n",
       "}\n",
       ".highlight-code {\n",
       "white-space: pre;\n",
       "font-family: monospace;\n",
       "}\n",
       ".suggestion-warning { \n",
       "font-weight: bold;\n",
       "color: rgb(200, 130, 0);\n",
       "}\n",
       ".suggestion-error { \n",
       "font-weight: bold;\n",
       "color: red;\n",
       "}\n",
       ".suggestion-name {\n",
       "font-weight: bold;\n",
       "}\n",
       "</style><span class='get-type'>myid @String :: String -> String</span>"
      ],
      "text/plain": [
       "myid @String :: String -> String"
      ]
     },
     "metadata": {},
     "output_type": "display_data"
    }
   ],
   "source": [
    ":type myid\n",
    ":type myid @Int\n",
    ":type myid @String"
   ]
  },
  {
   "cell_type": "markdown",
   "id": "e64f36f2-2796-4602-a6c0-5f4721d1413b",
   "metadata": {},
   "source": [
    "## 람다계산법과 데이터 타입"
   ]
  },
  {
   "cell_type": "raw",
   "id": "1cfec05c-a989-43df-af43-8595dfae207e",
   "metadata": {},
   "source": [
    "\\begin{figure}[b]\\centering"
   ]
  },
  {
   "cell_type": "markdown",
   "id": "7d6b8501-b707-40aa-b3ff-d21a86761a24",
   "metadata": {},
   "source": [
    "$\\begin{array}{rl}\n",
    "\\texttt{true}  ~=& \\lambda x.\\lambda y.x \\\\\n",
    "\\texttt{false} ~=& \\lambda x.\\lambda y.y \\\\\n",
    "\\texttt{ifte}  ~=& \\lambda b.\\lambda x.\\lambda y.b~x~y ~\\equiv_\\eta~ \\lambda b.b\n",
    "\\end{array}$"
   ]
  },
  {
   "cell_type": "raw",
   "id": "e510dc6a-f48f-4fd5-a052-967edef90798",
   "metadata": {},
   "source": [
    "\\caption{진리값에 대한 처치--인코딩(Church encoding)\n",
    "         \\label{fig:ChurchBool} }\n",
    "\\end{figure}"
   ]
  },
  {
   "cell_type": "markdown",
   "id": "c51a52b5-5029-4522-a249-92c356c4d586",
   "metadata": {},
   "source": [
    "타입없는 람다계산법은 튜링기계와 마찬가지로 아무 계산이나 다 표현할 수 있다는 처치--튜링 명제에 대해 언급한 바 있다.\n",
    "우리가 흔히 접하는 프로그래밍언어에서는 진리값이나 정수와 같은 기본 타입을 비롯해\n",
    "순서쌍이나 리스트 등의 복합적 데이터 타입을 다루는 계산을 한다.\n",
    "그런데 함수만 있는 람다계산법이 어떻게 이런 모든 계산을 다룰 수 있다는 것일까?\n",
    "람다계산법의 창시자인 알론조 처치는 데이터를 함수로 표현하는 방법을 발견하였는데\n",
    "이를 처치 인코딩(Church encoding)이라 한다. 이해하기 좋은 기초적인 사례로\n",
    "진리값 상수에 대한 처치 인코딩(그림 \\ref{fig:ChurchBool})을 살펴보자.\n",
    "프로그래밍언어에서 진리값을 활용하는 대표적인 요소는 `if` $b$ `then` $e_1$ `else` $e_0$와\n",
    "같은 형태의 바로 조건식(conditional expression)인데, 이를 람다식의 함수 `ifte`로 생각하면\n",
    "`ifte` $b$ $e_1$ $e_0$에서 $b$가 `true`로 계산될 경우는 $e_1$과 같도록 $b$가 `false`로\n",
    "계산될 경우는 $e_0$과 같이 동작해야 한다. 처치 인코딩의 핵심 아이디어는 데이터를 사용하는\n",
    "대표적인 연산의 실제 의미를 데이터 상수 그 자체에 담아놓자는 것이다. 진리값의 경우\n",
    "조건식의 유의미한 계산은 진리값 상수를 인코딩한 `true`나 `false`에 담겨있다는 말이다.\n",
    "그래서 조건식을 표현하는 `ifte`는 항등함수의 형태로 사실상 유의미한 계산 없이\n",
    "진리값 상수를 그대로 내어주도록 (즉, `ifte` $b$ $e_1$ $e_0$ $\\equiv_\\beta$ $b~e_1~e_0$)\n",
    "인코딩되어 잇다. 이를 우리가 잘 아는 조건식의 동작에 맞추려면,\n",
    "`true` $e_1$ $e_0$ $\\equiv_\\beta$ $e_1$이고\n",
    "`false` $e_1$ $e_0$ $\\equiv_\\beta$ $e_0$가 되도록,\n",
    "진리값 상수 `true`를 $\\lambda x.\\lambda y.x$로\n",
    "`false`를 $\\lambda x.\\lambda y.y$로 인코딩하면 된다."
   ]
  },
  {
   "cell_type": "markdown",
   "id": "c791a59c-0e9b-491a-b2f8-bfe0c9af1ec5",
   "metadata": {},
   "source": [
    "그런데 단순타입 람다계산법(STLC)에서는 처치--인코딩과 같이 데이터 상수를 별도로 설정하지 않고\n",
    "순수한 람다식만으로 인코딩해 활용하기는 곤란하다.\n",
    "조건식을 나타내는 `ifte`에 $\\texttt{BOOL}\\to T\\to T$와 같은 타입을 부여하고\n",
    "그에 맞춰 `true`와 `false`도 $\\lambda x{:}T.\\lambda y{:}T.x$와 $\\lambda x{:}T.\\lambda y{:}T.y$로 인코딩해야 하는데,\n",
    "문제는 `T`를 어떤 하나로 정하면 다른 타입에 대한 조건식을 작성할 수 없게 된다.\n",
    "예를 들어 $\\texttt{ifte} : \\texttt{BOOL}\\to \\texttt{Int}\\to \\texttt{Int}$로 한다면\n",
    "정수를 계산하는 조건식은 작성할 수 있지만 문자열을 계산하는 조건식은 작성할 수 없다.\n",
    "굳이 억지로 이렇게 해보겠다면\\newline\\indent\n",
    "$\\texttt{ifte}_\\texttt{Int} : \\texttt{BOOL}_\\texttt{Int}\\to \\texttt{Int}\\to \\texttt{Int}$ 및 $\\texttt{true}_\\texttt{Int}$와 $\\texttt{false}_\\texttt{Int}$,\\newline\\indent\n",
    "$\\texttt{ifte}_\\texttt{String} : \\texttt{BOOL}_\\texttt{String}\\to \\texttt{String}\\to \\texttt{String}$ 및 $\\texttt{true}_\\texttt{String}$와 $\\texttt{false}_\\texttt{String}$,\\newline\\indent\n",
    "$~\\vdots~$\\newline\n",
    "이렇게 계산하려는 각각의 타입 $T$마다\n",
    "$\\texttt{ifte}_T$ 및 $\\texttt{true}_T$와 $\\texttt{false}_T$로\n",
    "$\\texttt{BOOL}_T$ 타입을 한벌씩 따로 인코딩해야 하므로\n",
    "불편하고 혼란스러울 따름이다."
   ]
  },
  {
   "cell_type": "markdown",
   "id": "2d9f48f7-0f15-4f62-89a8-df38c0850aa2",
   "metadata": {},
   "source": [
    "다형 람다계산법에서는 모든 타입에 대해 일관되게 동작을 하는 식에 하나의 다형타입($\\forall \\alpha.\\tau$)을\n",
    "부여하는 것이 가능하며, 다형타입이 부여된 하나의 식을 필요에 따라 타입적용을 통해 각각의 타입으로 구체화하여 활용할 수 있다.\n",
    "다형 람다계산법에서와 같은 다형타입로 표현할 수 있는 이러한 특성을 \\`매개변수 다형성'(parametric polymorphism)이라 하며,\n",
    "이를 이용하면 다형 람다계산법에서는 처치--인코딩과 같이 순수한 람다식만으로 데이터를 표현하는 것이 가능하다.\n",
    "TODO cite\n",
    "Corrado Boehm and Alessandro Berarducci (1985) Automatic Synthesis of Typed Lambda-Programs on Term Algebras. Theoretical Computer Science, v39:135–154\n"
   ]
  },
  {
   "cell_type": "code",
   "execution_count": 33,
   "id": "d3c579ef-291c-47e0-a4bf-c303a5c8f116",
   "metadata": {},
   "outputs": [],
   "source": [
    "type BOOL = forall a. a -> a -> a \n",
    "false, true :: BOOL\n",
    "false = \\x -> \\y -> y\n",
    "true  = \\x -> \\y -> x"
   ]
  },
  {
   "cell_type": "code",
   "execution_count": 34,
   "id": "df22b897-5bdf-404e-b138-f7fad87cdf41",
   "metadata": {},
   "outputs": [],
   "source": [
    "ifte :: BOOL -> a -> a -> a\n",
    "ifte = \\b -> b"
   ]
  },
  {
   "cell_type": "code",
   "execution_count": 35,
   "id": "e428ea23-a734-4337-a82b-922285ba2785",
   "metadata": {},
   "outputs": [],
   "source": [
    "andB, orB :: BOOL -> BOOL -> BOOL\n",
    "andB = \\b1 -> \\b2 -> b1 b2 false\n",
    "orB =  \\b1 -> \\b2 -> b1 true b2\n",
    "\n",
    "notB :: BOOL -> BOOL\n",
    "notB = \\b -> \\x -> \\y -> b y x"
   ]
  },
  {
   "cell_type": "markdown",
   "id": "9d6df037-d510-44d9-9b0b-9e25bdbcc489",
   "metadata": {},
   "source": [
    "\\section*{요점정리}\n",
    "* TODO\n",
    "* TODO"
   ]
  },
  {
   "cell_type": "markdown",
   "id": "dbec5907-7b1f-45a3-a393-71dd998625bc",
   "metadata": {},
   "source": [
    "\\section*{연습문제}\n",
    "1. TODO\n",
    "1. TODO"
   ]
  },
  {
   "cell_type": "markdown",
   "id": "18b11d6e-2d6a-4ad8-bfa3-d53dfffeb17d",
   "metadata": {},
   "source": [
    "\\section*{탐구과제}\n",
    "1. TODO\n",
    "1. TODO"
   ]
  },
  {
   "cell_type": "code",
   "execution_count": null,
   "id": "33ae2b4f-4cb4-49e4-97ad-f8ace3551b2f",
   "metadata": {},
   "outputs": [],
   "source": []
  }
 ],
 "metadata": {
  "kernelspec": {
   "display_name": "Haskell",
   "language": "haskell",
   "name": "haskell"
  },
  "language_info": {
   "codemirror_mode": "ihaskell",
   "file_extension": ".hs",
   "mimetype": "text/x-haskell",
   "name": "haskell",
   "pygments_lexer": "Haskell",
   "version": "8.10.7"
  }
 },
 "nbformat": 4,
 "nbformat_minor": 5
}
