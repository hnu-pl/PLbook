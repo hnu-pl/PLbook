{
 "cells": [
  {
   "cell_type": "code",
   "execution_count": 1,
   "id": "fdfeb369-993f-47a0-b060-b4d2dad6dd41",
   "metadata": {},
   "outputs": [],
   "source": [
    ":opt no-lint\n",
    "{-# LANGUAGE ScopedTypeVariables TypeApplications RankNTypes #-}"
   ]
  },
  {
   "cell_type": "markdown",
   "id": "6638531f-b051-4a65-a17a-60ea4e6af5a3",
   "metadata": {},
   "source": [
    "## 계산이 끝나지 않는 람다식\n",
    "람다식 작은걸음 $(\\lambda x.x\\;x)\\;e_2 \\longmapsto e_2\\;e_2$를 생각해 보자.\n",
    "여기서 $e_2$가 적용하는 함수 $(\\lambda x.x\\;x)$와 똑같은 식인 경우에 어떤 일이 벌어질까?\n",
    "바로 아래와 같이 된다.\n",
    "\\newline\\indent\n",
    "$(\\lambda x.x\\;x)(\\lambda x.x\\;x) \\longmapsto (\\lambda x.x\\;x)(\\lambda x.x\\;x) \\longmapsto (\\lambda x.x\\;x)(\\lambda x.x\\;x) \\longmapsto \\ldots$\n",
    "\\newline\n",
    "$\\beta$규칙에 따라 함수 몸체 $x\\;x$에서 $x$를 $(\\lambda x.x\\;x)$로 바꿔치면\n",
    "원래 처음 시작했던 식인 $(\\lambda x.x\\;x)(\\lambda x.x\\;x)$가 되어버린다.\n",
    "그래서 아무리 여러 번 $\\beta$줄임을 반복해도 제자리걸음만 할 뿐 계산이 끝나지 않는다.\n",
    "이제 드브루인 인덱스(그림 \\ref{fig:ChurchDeBruijn})를 활용해 타입없는 람다계산법에서 끝나지\n",
    "않는 계산을 하스켈로 다뤄보자. 우선 람다계산법의 문법구조를 아래와 같은\n",
    "데이터 타입으로 선언한다."
   ]
  },
  {
   "cell_type": "code",
   "execution_count": 2,
   "id": "bfb2ab42-6b2c-4feb-9a76-b1baabe61980",
   "metadata": {},
   "outputs": [],
   "source": [
    "data DExpr = DI Int | DAbs DExpr | DApp DExpr DExpr deriving (Eq,Ord)"
   ]
  },
  {
   "cell_type": "code",
   "execution_count": 3,
   "id": "1cec482c-db7f-4965-b598-1229eccdca17",
   "metadata": {},
   "outputs": [],
   "source": [
    "-- GHC가 자동으로 deriving하는 Show 인스턴스가 아닌  더 간략한 출력을 위해\n",
    "instance Show DExpr where   -- 직접 작성한 DExpr에 대한 Show 인스턴스\n",
    "  showsPrec _ (DI i) = showString (show i)\n",
    "  showsPrec p (DAbs e) = showParen (p > 1) $\n",
    "              showString \"\\\\\" . showsPrec 1 e\n",
    "  showsPrec p (DApp e1 e2) = showParen (p > 9) $\n",
    "              showsPrec 9 e1 . showString \" \" . showsPrec 10 e2"
   ]
  },
  {
   "cell_type": "code",
   "execution_count": 4,
   "id": "1554b7f3-6a68-4abf-ad7d-fefe43695368",
   "metadata": {},
   "outputs": [
    {
     "data": {
      "text/plain": [
       "\\\\1 2"
      ]
     },
     "metadata": {},
     "output_type": "display_data"
    },
    {
     "data": {
      "text/plain": [
       "(\\1) (\\1)"
      ]
     },
     "metadata": {},
     "output_type": "display_data"
    },
    {
     "data": {
      "text/plain": [
       "\\1 1 1"
      ]
     },
     "metadata": {},
     "output_type": "display_data"
    },
    {
     "data": {
      "text/plain": [
       "\\1 (1 1)"
      ]
     },
     "metadata": {},
     "output_type": "display_data"
    }
   ],
   "source": [
    "DAbs (DAbs (DI 1 `DApp` DI 2))        -- \\x.\\y.x y\n",
    "DAbs (DI 1) `DApp` DAbs (DI 1)        -- (\\x.x)(\\x.x)\n",
    "DAbs ((DI 1 `DApp` DI 1) `DApp` DI 1) -- \\x.x x x\n",
    "DAbs (DI 1 `DApp` (DI 1 `DApp` DI 1)) -- \\x.x (x x)"
   ]
  },
  {
   "cell_type": "markdown",
   "id": "961735e2-14c8-4433-b74e-e69e33687f05",
   "metadata": {},
   "source": [
    "\\noindent\n",
    "그리고 매개변수에 인자를 넘겨받아 자기 자신에 적용하는 (self-appliation) 함수 $\\lambda x.x\\;x$는\n",
    "드브로인 인덱스를 활용한 표현으로는 $\\lambda 1~1$이다. 이를 `w`로 선언해 놓고 앞으로 의미구조를\n",
    "하스켈로 구현하여 `w w`가 제자리걸음함을 확인해 보자."
   ]
  },
  {
   "cell_type": "code",
   "execution_count": 5,
   "id": "3adbc89b-985d-4398-8d8a-43aa39bbb7e5",
   "metadata": {},
   "outputs": [
    {
     "data": {
      "text/plain": [
       "\\1 1"
      ]
     },
     "metadata": {},
     "output_type": "display_data"
    },
    {
     "data": {
      "text/plain": [
       "(\\1 1) (\\1 1)"
      ]
     },
     "metadata": {},
     "output_type": "display_data"
    }
   ],
   "source": [
    "w = DAbs (DI 1 `DApp` DI 1) -- \\x.x x\n",
    "\n",
    "w         -- self-application 함수인 w\n",
    "DApp w w  -- w를 자기 자신에 적용한 식"
   ]
  },
  {
   "cell_type": "markdown",
   "id": "130e5dc0-6e95-4b9d-85bf-e201da5b498b",
   "metadata": {},
   "source": [
    "작은걸음 의미구조는 $\\beta$규칙 및 맥락 규칙들로 정의할 수 있다.\n",
    "\\newline\\vspace*{-2ex}\n",
    "$$(\\lambda\\,e)\\;e_2 \\longmapsto \\;\\downarrow_0^1 \\{1{\\mapsto}(\\uparrow_0^1 e_2)\\}e$$\n",
    "$$\\frac{~ e\\longmapsto e' ~}{~ \\lambda\\,e \\longmapsto \\lambda\\,e' ~}\n",
    "\\qquad\\frac{~ e_1\\longmapsto e_1'~}{~ e_1~e_2\\longmapsto e_1'~e_2 ~}\n",
    "\\qquad\\frac{~ e_2\\longmapsto e_2'~}{~ e_1~e_2\\longmapsto e_1~e_2' ~}\n",
    "$$\n",
    "위에서 $\\downarrow_m^k$, $\\uparrow_m^k$와 바꿔치기 $\\{i{\\mapsto}e\\}$가 어떻게 동작하는지만 확실히 하면\n",
    "나머지 맥락 규칙에 대한 처리는 산술식 작은걸음 계산기인 `step`을 작성하듯 선언하면 된다.\n",
    "$\\downarrow_m^k = \\uparrow_m^{-k}$이며, 일반적으로 $\\downarrow_m^k e$는 식 $e$에서\n",
    "$m$보다 큰 드브루인 인덱스를 $k$만큼씩 증가시킨 식을 나타내는 표현으로 왼쪽 아래처럼 정의할 수 있다.\n",
    "함수요약식에 대한 정의에서 함수 전체에는 $m$이다가 함수 몸체에서 $m+1$이\n",
    "되는 이유는 바인더 $\\lambda$가 한겹 더 감싸진 몸체 안에서는 그 바깥에서와\n",
    "같은 대상을 나타내는 드브루인 인덱스가 1씩  더 큰 수가 되기 때문이다.\n",
    "바꿔치기 $\\{i{\\mapsto}e\\}$는 $\\uparrow_m^k$ 표현을 활용해 오른쪽 아래와 같이 정의할 수 있다.\n",
    "$$\\begin{array}{ll}\n",
    "\\uparrow_m^k i \n",
    "\\!\\!\\!\\!&= \\begin{cases}i+k & (i>m) \\\\ i & (i\\le m)\\end{cases} \\\\\n",
    "\\uparrow_m^k (\\lambda\\,e)\n",
    "\\!\\!\\!\\!&=~ \\lambda\\,(\\uparrow_{m{+}1}^k e) \\\\\n",
    "\\uparrow_m^k (e_1\\;e_2)\n",
    "\\!\\!\\!\\!&=~ (\\uparrow_m^k e_1)\\;(\\uparrow_m^k e_2)\n",
    "\\end{array}\n",
    "\\qquad~~\n",
    "\\begin{array}{ll}\n",
    "\\{i{\\mapsto}e\\}j \n",
    "\\!\\!\\!\\!&= \\begin{cases}e & (i=j) \\\\ j & (i\\neq j)\\end{cases}\\\\\n",
    "\\{i{\\mapsto}e\\}(\\lambda\\, e_1) \n",
    "\\!\\!\\!\\!&=~ \\lambda\\, \\left\\{(i{+}1){\\mapsto}(\\uparrow_0^1 e\\right)\\}e_1 \\\\\n",
    "\\{i{\\mapsto}e\\}(e_1\\;e_2)\n",
    "\\!\\!\\!\\!&=~ \\{i{\\mapsto}e\\}e_1~\\{i{\\mapsto}e\\}e_2 \\\\\n",
    "\\end{array}$$\n",
    "\n",
    "\\vspace*{-2ex}"
   ]
  },
  {
   "cell_type": "code",
   "execution_count": 6,
   "id": "c2d430e3-47d5-4f90-86ba-52fe8230cffd",
   "metadata": {},
   "outputs": [],
   "source": [
    "up m k (DI i)       = DI (if i>m then i+k else i)\n",
    "up m k (DAbs e)     = DAbs (up (m+1) k e)\n",
    "up m k (DApp e1 e2) = DApp (up m k e1) (up m k e2)\n",
    "\n",
    "dn m k = up m (-k)\n",
    "\n",
    "subst i e (DI j)       = if i==j then e else DI j\n",
    "subst i e (DAbs e1)    = DAbs (subst (i+1) (up 0 1 e) e1) \n",
    "subst i e (DApp e1 e2) = DApp (subst i e e1) (subst i e e2)"
   ]
  },
  {
   "cell_type": "code",
   "execution_count": 7,
   "id": "4cd4bb7c-7e54-44cd-891e-f4c210944a74",
   "metadata": {},
   "outputs": [
    {
     "data": {
      "text/html": [
       "<style>/* Styles used for the Hoogle display in the pager */\n",
       ".hoogle-doc {\n",
       "display: block;\n",
       "padding-bottom: 1.3em;\n",
       "padding-left: 0.4em;\n",
       "}\n",
       ".hoogle-code {\n",
       "display: block;\n",
       "font-family: monospace;\n",
       "white-space: pre;\n",
       "}\n",
       ".hoogle-text {\n",
       "display: block;\n",
       "}\n",
       ".hoogle-name {\n",
       "color: green;\n",
       "font-weight: bold;\n",
       "}\n",
       ".hoogle-head {\n",
       "font-weight: bold;\n",
       "}\n",
       ".hoogle-sub {\n",
       "display: block;\n",
       "margin-left: 0.4em;\n",
       "}\n",
       ".hoogle-package {\n",
       "font-weight: bold;\n",
       "font-style: italic;\n",
       "}\n",
       ".hoogle-module {\n",
       "font-weight: bold;\n",
       "}\n",
       ".hoogle-class {\n",
       "font-weight: bold;\n",
       "}\n",
       ".get-type {\n",
       "color: green;\n",
       "font-weight: bold;\n",
       "font-family: monospace;\n",
       "display: block;\n",
       "white-space: pre-wrap;\n",
       "}\n",
       ".show-type {\n",
       "color: green;\n",
       "font-weight: bold;\n",
       "font-family: monospace;\n",
       "margin-left: 1em;\n",
       "}\n",
       ".mono {\n",
       "font-family: monospace;\n",
       "display: block;\n",
       "}\n",
       ".err-msg {\n",
       "color: red;\n",
       "font-style: italic;\n",
       "font-family: monospace;\n",
       "white-space: pre;\n",
       "display: block;\n",
       "}\n",
       "#unshowable {\n",
       "color: red;\n",
       "font-weight: bold;\n",
       "}\n",
       ".err-msg.in.collapse {\n",
       "padding-top: 0.7em;\n",
       "}\n",
       ".highlight-code {\n",
       "white-space: pre;\n",
       "font-family: monospace;\n",
       "}\n",
       ".suggestion-warning { \n",
       "font-weight: bold;\n",
       "color: rgb(200, 130, 0);\n",
       "}\n",
       ".suggestion-error { \n",
       "font-weight: bold;\n",
       "color: red;\n",
       "}\n",
       ".suggestion-name {\n",
       "font-weight: bold;\n",
       "}\n",
       "</style><span class='get-type'>up :: Int -> Int -> DExpr -> DExpr</span>"
      ],
      "text/plain": [
       "up :: Int -> Int -> DExpr -> DExpr"
      ]
     },
     "metadata": {},
     "output_type": "display_data"
    },
    {
     "data": {
      "text/html": [
       "<style>/* Styles used for the Hoogle display in the pager */\n",
       ".hoogle-doc {\n",
       "display: block;\n",
       "padding-bottom: 1.3em;\n",
       "padding-left: 0.4em;\n",
       "}\n",
       ".hoogle-code {\n",
       "display: block;\n",
       "font-family: monospace;\n",
       "white-space: pre;\n",
       "}\n",
       ".hoogle-text {\n",
       "display: block;\n",
       "}\n",
       ".hoogle-name {\n",
       "color: green;\n",
       "font-weight: bold;\n",
       "}\n",
       ".hoogle-head {\n",
       "font-weight: bold;\n",
       "}\n",
       ".hoogle-sub {\n",
       "display: block;\n",
       "margin-left: 0.4em;\n",
       "}\n",
       ".hoogle-package {\n",
       "font-weight: bold;\n",
       "font-style: italic;\n",
       "}\n",
       ".hoogle-module {\n",
       "font-weight: bold;\n",
       "}\n",
       ".hoogle-class {\n",
       "font-weight: bold;\n",
       "}\n",
       ".get-type {\n",
       "color: green;\n",
       "font-weight: bold;\n",
       "font-family: monospace;\n",
       "display: block;\n",
       "white-space: pre-wrap;\n",
       "}\n",
       ".show-type {\n",
       "color: green;\n",
       "font-weight: bold;\n",
       "font-family: monospace;\n",
       "margin-left: 1em;\n",
       "}\n",
       ".mono {\n",
       "font-family: monospace;\n",
       "display: block;\n",
       "}\n",
       ".err-msg {\n",
       "color: red;\n",
       "font-style: italic;\n",
       "font-family: monospace;\n",
       "white-space: pre;\n",
       "display: block;\n",
       "}\n",
       "#unshowable {\n",
       "color: red;\n",
       "font-weight: bold;\n",
       "}\n",
       ".err-msg.in.collapse {\n",
       "padding-top: 0.7em;\n",
       "}\n",
       ".highlight-code {\n",
       "white-space: pre;\n",
       "font-family: monospace;\n",
       "}\n",
       ".suggestion-warning { \n",
       "font-weight: bold;\n",
       "color: rgb(200, 130, 0);\n",
       "}\n",
       ".suggestion-error { \n",
       "font-weight: bold;\n",
       "color: red;\n",
       "}\n",
       ".suggestion-name {\n",
       "font-weight: bold;\n",
       "}\n",
       "</style><span class='get-type'>subst :: Int -> DExpr -> DExpr -> DExpr</span>"
      ],
      "text/plain": [
       "subst :: Int -> DExpr -> DExpr -> DExpr"
      ]
     },
     "metadata": {},
     "output_type": "display_data"
    }
   ],
   "source": [
    ":type up\n",
    ":type subst"
   ]
  },
  {
   "cell_type": "code",
   "execution_count": 8,
   "id": "8f9030fc-2336-43f9-be2e-1d3bc9cf712e",
   "metadata": {},
   "outputs": [],
   "source": [
    "beta :: DExpr -> [DExpr]  -- 일단 베타 규칙만 작성\n",
    "beta (DApp (DAbs e) e2) = [ dn 0 1 (subst 1 (up 0 1 e2) e) ]\n",
    "beta _                  = []"
   ]
  },
  {
   "cell_type": "code",
   "execution_count": 10,
   "id": "5f2fd4d1-3bbe-427e-b82e-0baac791235a",
   "metadata": {},
   "outputs": [
    {
     "data": {
      "text/plain": [
       "(\\1 1) (\\1 1)"
      ]
     },
     "metadata": {},
     "output_type": "display_data"
    },
    {
     "data": {
      "text/plain": [
       "[(\\1 1) (\\1 1)]"
      ]
     },
     "metadata": {},
     "output_type": "display_data"
    }
   ],
   "source": [
    "DApp w w\n",
    "beta (DApp w w) -- 제자리걸음 확인!"
   ]
  },
  {
   "cell_type": "code",
   "execution_count": 9,
   "id": "50b5f79a-4d4d-4dd6-b8ed-b4fc3029bd7c",
   "metadata": {},
   "outputs": [],
   "source": [
    "step :: DExpr -> [DExpr]\n",
    "step (DI _)       = []\n",
    "step (DApp e1 e2) = beta (DApp e1 e2)\n",
    "                 ++ [DApp e1' e2 | e1' <- step e1]\n",
    "                 ++ [DApp e1 e2' | e2' <- step e2]\n",
    "step (DAbs e)     = [DAbs e' | e' <- step e]"
   ]
  },
  {
   "cell_type": "code",
   "execution_count": 18,
   "id": "0a1a70be-8779-422b-bcd3-a28a1256af40",
   "metadata": {},
   "outputs": [
    {
     "data": {
      "text/plain": [
       "\\(\\\\1 2 3) (\\\\1 3)"
      ]
     },
     "metadata": {},
     "output_type": "display_data"
    },
    {
     "data": {
      "text/plain": [
       "[\\\\1 (\\\\1 4) 2]"
      ]
     },
     "metadata": {},
     "output_type": "display_data"
    }
   ],
   "source": [
    "-- step이 제대로 동작하는지 다음 내용으로 테스트해 보라\n",
    "eee1 = DAbs . DAbs $ DI 1 `DApp` DI 2 `DApp` DI 3\n",
    "eee2 = DAbs . DAbs $ DI 1 `DApp` DI 3\n",
    "DAbs $ DApp eee1 eee2 -- \\x.(\\y.\\z.z y x) (\\w.\\v.v x)\n",
    "step it               -- \\x.\\y.\\z.z (\\w.\\v x) x"
   ]
  },
  {
   "cell_type": "markdown",
   "id": "ead8d116-e3c4-4a5c-8375-db1b86a9ab4f",
   "metadata": {},
   "source": [
    "## 부동점(fixpoint)"
   ]
  },
  {
   "cell_type": "code",
   "execution_count": 12,
   "id": "a9c315de-d655-475b-bd82-d9720778339c",
   "metadata": {},
   "outputs": [],
   "source": [
    "yC = DAbs (DApp e211 e211) -- \\f.(\\x.f(x x))(\\x.f(x x))\n",
    "   where e211 = DAbs (DApp (DI 2) (DI 1 `DApp` DI 1))"
   ]
  },
  {
   "cell_type": "code",
   "execution_count": 13,
   "id": "12e647d6-6727-4a55-ab7e-9d9c13ddc98c",
   "metadata": {},
   "outputs": [
    {
     "data": {
      "text/plain": [
       "(\\(\\2 (1 1)) (\\2 (1 1))) (\\1)"
      ]
     },
     "metadata": {},
     "output_type": "display_data"
    },
    {
     "data": {
      "text/plain": [
       "[(\\(\\1) (1 1)) (\\(\\1) (1 1)),(\\1 ((\\2 (1 1)) (\\2 (1 1)))) (\\1)]"
      ]
     },
     "metadata": {},
     "output_type": "display_data"
    },
    {
     "data": {
      "text/plain": [
       "[(\\1) ((\\(\\1) (1 1)) (\\(\\1) (1 1))),(\\1 1) (\\(\\1) (1 1)),(\\(\\1) (1 1)) (\\1 1)]"
      ]
     },
     "metadata": {},
     "output_type": "display_data"
    },
    {
     "data": {
      "text/plain": [
       "[(\\(\\1) (1 1)) (\\(\\1) (1 1)),(\\1 1) (\\1 1)]"
      ]
     },
     "metadata": {},
     "output_type": "display_data"
    },
    {
     "data": {
      "text/plain": [
       "[(\\1 1) (\\1 1)]"
      ]
     },
     "metadata": {},
     "output_type": "display_data"
    },
    {
     "data": {
      "text/plain": [
       "[(\\1 1) (\\1 1)]"
      ]
     },
     "metadata": {},
     "output_type": "display_data"
    },
    {
     "data": {
      "text/plain": [
       "[(\\1 1) (\\1 1)]"
      ]
     },
     "metadata": {},
     "output_type": "display_data"
    }
   ],
   "source": [
    "import Data.List ()\n",
    "f = head\n",
    "yC `DApp` (DAbs $ DI 1)\n",
    "step $ yC `DApp` (DAbs $ DI 1)\n",
    "step $ head it\n",
    "step $ it!!1\n",
    "step $ last it\n",
    "step $ head it\n",
    "step $ head it"
   ]
  },
  {
   "cell_type": "markdown",
   "id": "ab4762f7-55cc-4db4-8adc-9dc000794c9c",
   "metadata": {},
   "source": [
    "# 다형타입 람다계산법\n",
    "\\label{sec:SystemF}"
   ]
  },
  {
   "cell_type": "raw",
   "id": "f65ec2fe-0cf2-48f0-89db-030e6581afbb",
   "metadata": {},
   "source": [
    "\\begin{figure}\\hspace{.2\\textwidth}\n",
    "\\begin{subfigure}[b]{.3\\textwidth}\\centering\n",
    "\\includegraphics{JYGirard.jpg}\n",
    "\\subcaption{Jean-Yves Girard}\n",
    "\\end{subfigure}\n",
    "\\begin{subfigure}[b]{.3\\textwidth}\\centering\n",
    "\\includegraphics[trim={10 150 0 20},clip]{JohnCReynolds.jpg}\n",
    "\\subcaption{John C. Reynolds}\n",
    "\\end{subfigure}\n",
    "\\\\[1.2ex]"
   ]
  },
  {
   "cell_type": "markdown",
   "id": "be110fd6-ff4a-4ede-9020-0e648db04bfb",
   "metadata": {},
   "source": [
    "문법구조\\vspace{-4.5ex}\n",
    "\\begin{align*}\n",
    "\\qquad\n",
    "t \\in B & ~\\text{\\small(기본타입)} &\n",
    "\\tau\\in T ~::= ~& t ~\\mid~ \\tau \\to \\tau\n",
    "~\\mid~ \\alpha ~\\mid~ \\forall \\alpha.\\tau\n",
    "\\\\\n",
    "c \\in C & ~\\text{\\small(기본상수)} &\n",
    "e\\in E ~::=~ & c \\mid x \\mid \\lambda x{\\,:\\,}\\tau.\\,e \\mid e~e\n",
    "\\mid \\Lambda \\alpha.\\,e \\mid e\\,@\\tau\n",
    "\\end{align*} 타입규칙\n",
    "$\\qquad\n",
    "\\Delta ~::=~ c{\\,:\\,}\\tau,\\Delta \\mid \\bm{\\cdot} \\qquad\\qquad\\qquad\n",
    "\\Gamma ~::=~ \\alpha{\\,:\\,}\\star,\\Delta \\mid x{\\,:\\,}\\tau,\\Delta \\mid \\bm{\\cdot}$\n",
    "$$\n",
    "{\\scriptstyle(\\textsc{Con})}\n",
    "\\frac{~ ~}{~ \\Gamma \\vdash c:\\tau ~}\n",
    "({\\scriptstyle c{\\,:\\,}\\tau\\;\\in\\,\\Delta})\n",
    "\\qquad\\qquad\n",
    "{\\scriptstyle(\\textsc{Var})}\n",
    "\\frac{~ ~}{~ \\Gamma \\vdash x:\\tau ~}\n",
    "({\\scriptstyle x{\\,:\\,}\\tau\\;\\in\\,\\Gamma})\n",
    "$$ \\vspace*{-.5ex}\n",
    "$$\n",
    "{\\scriptstyle(\\textsc{Abs})}\n",
    "\\frac{~ x:\\tau_2,\\Gamma \\vdash e:\\tau ~}{~ \\Gamma \\vdash \\lambda x{\\,:\\,}\\tau_2.\\,e : \\tau_2\\to\\tau ~}\n",
    "\\qquad\n",
    "{\\scriptstyle(\\textsc{App})}\n",
    "\\frac{~ \\Gamma \\vdash e_1:\\tau_2\\to\\tau ~\\quad~ \\Gamma \\vdash e_2:\\tau_2 ~}{~ \\Gamma \\vdash e_1\\;e_2 : \\tau ~}\n",
    "$$ \\vspace*{-.5ex}\n",
    "$$\n",
    "{\\scriptstyle(\\textsc{TAbs})}\n",
    "\\frac{~ \\alpha{\\,:\\,}\\star,\\Gamma \\vdash e:\\tau ~}{~ \\Gamma \\vdash \\Lambda \\alpha.\\,e : \\forall \\alpha.\\tau ~}\n",
    "\\qquad\n",
    "{\\scriptstyle(\\textsc{TApp})}\n",
    "\\frac{~ \\Gamma \\vdash e:\\forall\\alpha.\\tau ~}{~ \\Gamma \\vdash e\\,@\\tau_1 : \\{\\alpha{\\mapsto}\\tau_1\\}\\tau ~}\n",
    "$$\n",
    "~\\newline\n",
    "의미구조\n",
    "$\\quad (\\lambda x{:}\\tau.\\,e)\\,e_2 \\longmapsto \\{x{\\mapsto}e_2\\}e\n",
    "\\qquad (\\Lambda \\alpha.\\,e)\\,\\tau \\longmapsto \\{\\alpha{\\mapsto}\\tau\\}e$\n",
    "$$ \\mathcal{E} ~::=~ \\bullet\n",
    "\\mid \\lambda x{\\,:\\,}\\tau.\\,\\mathcal{E} \n",
    "\\mid \\mathcal{E}~e \\mid e~\\mathcal{E}\n",
    "\\mid \\Lambda \\alpha.\\,\\mathcal{E} \\mid \\mathcal{E}\\,@\\tau\n",
    "\\qquad\n",
    "\\frac{~e\\longmapsto e'~}{~\\mathcal{E}[e]\\xmapsto{~_C~}\\mathcal{E}[e']~}\n",
    "$$"
   ]
  },
  {
   "cell_type": "raw",
   "id": "912572d6-8999-434a-a48a-406c8025b20a",
   "metadata": {},
   "source": [
    "\\caption{프랑스의 논리학자인 장-이브 지라르\\cite{Girard1972SystemF}는\n",
    "\tSystem F라는 이름으로, 미국의 컴퓨터 과학자\n",
    "\t존 레이놀즈\\cite{Reynolds1974PolyLambda}는\n",
    "\t이후 `다형타입 람다계산법'으로 불리게 되는, 알고보니 똑같은\n",
    "\t타입있는 람다계산법을 독립적으로 1970년대 초반에 고안했다.\n",
    "\t{\\footnotesize(사진 출처: CACM\\cite{Wright2010cacm}, 위키미디어 공용)}\n",
    "\t}\n",
    "\\end{figure}"
   ]
  },
  {
   "cell_type": "markdown",
   "id": "f2446890-47de-4604-9dd7-c5579c11839b",
   "metadata": {},
   "source": [
    "TODO"
   ]
  },
  {
   "cell_type": "code",
   "execution_count": 14,
   "id": "d3c579ef-291c-47e0-a4bf-c303a5c8f116",
   "metadata": {},
   "outputs": [],
   "source": [
    "type BOOL = forall a. a -> a -> a \n",
    "false, true :: BOOL\n",
    "false = \\_ -> \\y -> y\n",
    "true  = \\x -> \\_ -> x"
   ]
  },
  {
   "cell_type": "code",
   "execution_count": 15,
   "id": "f16bceeb-a90a-4f65-98d8-e05d243690c9",
   "metadata": {},
   "outputs": [
    {
     "ename": "",
     "evalue": "",
     "header": "MessageHeader {mhIdentifiers = [\"68691dde-4b22-4e5b-b88c-9ef1cbffefbb\"], mhParentHeader = Just (MessageHeader {mhIdentifiers = [\"68691dde-4b22-4e5b-b88c-9ef1cbffefbb\"], mhParentHeader = Nothing, mhMetadata = Metadata (fromList [(\"recordTiming\",Bool False),(\"deletedCells\",Array []),(\"cellId\",String \"f16bceeb-a90a-4f65-98d8-e05d243690c9\")]), mhMessageId = UUID {uuidToString = \"a8cd9b25-7412-4f5e-b3db-de7aeec483ea\"}, mhSessionId = UUID {uuidToString = \"68691dde-4b22-4e5b-b88c-9ef1cbffefbb\"}, mhUsername = \"\", mhMsgType = ExecuteRequestMessage, mhBuffers = []}), mhMetadata = Metadata (fromList []), mhMessageId = UUID {uuidToString = \"3d510f77-2666-4154-84d5-57be96adcdb0\"}, mhSessionId = UUID {uuidToString = \"68691dde-4b22-4e5b-b88c-9ef1cbffefbb\"}, mhUsername = \"\", mhMsgType = ExecuteErrorMessage, mhBuffers = []}",
     "output_type": "error",
     "traceback": [
      "<interactive>:1:1: error: Variable not in scope: if_then_else_"
     ]
    }
   ],
   "source": [
    "if_then_else_ "
   ]
  },
  {
   "cell_type": "code",
   "execution_count": null,
   "id": "1ce04dba-be8a-459e-9c12-044a424f0f69",
   "metadata": {},
   "outputs": [],
   "source": []
  },
  {
   "cell_type": "code",
   "execution_count": 16,
   "id": "1f5be570-0a38-40fa-8e36-5b599bc76880",
   "metadata": {},
   "outputs": [
    {
     "data": {
      "text/html": [
       "<style>/* Styles used for the Hoogle display in the pager */\n",
       ".hoogle-doc {\n",
       "display: block;\n",
       "padding-bottom: 1.3em;\n",
       "padding-left: 0.4em;\n",
       "}\n",
       ".hoogle-code {\n",
       "display: block;\n",
       "font-family: monospace;\n",
       "white-space: pre;\n",
       "}\n",
       ".hoogle-text {\n",
       "display: block;\n",
       "}\n",
       ".hoogle-name {\n",
       "color: green;\n",
       "font-weight: bold;\n",
       "}\n",
       ".hoogle-head {\n",
       "font-weight: bold;\n",
       "}\n",
       ".hoogle-sub {\n",
       "display: block;\n",
       "margin-left: 0.4em;\n",
       "}\n",
       ".hoogle-package {\n",
       "font-weight: bold;\n",
       "font-style: italic;\n",
       "}\n",
       ".hoogle-module {\n",
       "font-weight: bold;\n",
       "}\n",
       ".hoogle-class {\n",
       "font-weight: bold;\n",
       "}\n",
       ".get-type {\n",
       "color: green;\n",
       "font-weight: bold;\n",
       "font-family: monospace;\n",
       "display: block;\n",
       "white-space: pre-wrap;\n",
       "}\n",
       ".show-type {\n",
       "color: green;\n",
       "font-weight: bold;\n",
       "font-family: monospace;\n",
       "margin-left: 1em;\n",
       "}\n",
       ".mono {\n",
       "font-family: monospace;\n",
       "display: block;\n",
       "}\n",
       ".err-msg {\n",
       "color: red;\n",
       "font-style: italic;\n",
       "font-family: monospace;\n",
       "white-space: pre;\n",
       "display: block;\n",
       "}\n",
       "#unshowable {\n",
       "color: red;\n",
       "font-weight: bold;\n",
       "}\n",
       ".err-msg.in.collapse {\n",
       "padding-top: 0.7em;\n",
       "}\n",
       ".highlight-code {\n",
       "white-space: pre;\n",
       "font-family: monospace;\n",
       "}\n",
       ".suggestion-warning { \n",
       "font-weight: bold;\n",
       "color: rgb(200, 130, 0);\n",
       "}\n",
       ".suggestion-error { \n",
       "font-weight: bold;\n",
       "color: red;\n",
       "}\n",
       ".suggestion-name {\n",
       "font-weight: bold;\n",
       "}\n",
       "</style><span class='get-type'>id :: forall a. a -> a</span>"
      ],
      "text/plain": [
       "id :: forall a. a -> a"
      ]
     },
     "metadata": {},
     "output_type": "display_data"
    }
   ],
   "source": [
    ":type id"
   ]
  },
  {
   "cell_type": "code",
   "execution_count": 17,
   "id": "8573d045-63aa-482f-8627-7b9e0263236a",
   "metadata": {},
   "outputs": [
    {
     "data": {
      "text/html": [
       "<style>/* Styles used for the Hoogle display in the pager */\n",
       ".hoogle-doc {\n",
       "display: block;\n",
       "padding-bottom: 1.3em;\n",
       "padding-left: 0.4em;\n",
       "}\n",
       ".hoogle-code {\n",
       "display: block;\n",
       "font-family: monospace;\n",
       "white-space: pre;\n",
       "}\n",
       ".hoogle-text {\n",
       "display: block;\n",
       "}\n",
       ".hoogle-name {\n",
       "color: green;\n",
       "font-weight: bold;\n",
       "}\n",
       ".hoogle-head {\n",
       "font-weight: bold;\n",
       "}\n",
       ".hoogle-sub {\n",
       "display: block;\n",
       "margin-left: 0.4em;\n",
       "}\n",
       ".hoogle-package {\n",
       "font-weight: bold;\n",
       "font-style: italic;\n",
       "}\n",
       ".hoogle-module {\n",
       "font-weight: bold;\n",
       "}\n",
       ".hoogle-class {\n",
       "font-weight: bold;\n",
       "}\n",
       ".get-type {\n",
       "color: green;\n",
       "font-weight: bold;\n",
       "font-family: monospace;\n",
       "display: block;\n",
       "white-space: pre-wrap;\n",
       "}\n",
       ".show-type {\n",
       "color: green;\n",
       "font-weight: bold;\n",
       "font-family: monospace;\n",
       "margin-left: 1em;\n",
       "}\n",
       ".mono {\n",
       "font-family: monospace;\n",
       "display: block;\n",
       "}\n",
       ".err-msg {\n",
       "color: red;\n",
       "font-style: italic;\n",
       "font-family: monospace;\n",
       "white-space: pre;\n",
       "display: block;\n",
       "}\n",
       "#unshowable {\n",
       "color: red;\n",
       "font-weight: bold;\n",
       "}\n",
       ".err-msg.in.collapse {\n",
       "padding-top: 0.7em;\n",
       "}\n",
       ".highlight-code {\n",
       "white-space: pre;\n",
       "font-family: monospace;\n",
       "}\n",
       ".suggestion-warning { \n",
       "font-weight: bold;\n",
       "color: rgb(200, 130, 0);\n",
       "}\n",
       ".suggestion-error { \n",
       "font-weight: bold;\n",
       "color: red;\n",
       "}\n",
       ".suggestion-name {\n",
       "font-weight: bold;\n",
       "}\n",
       "</style><span class='get-type'>id @Int :: Int -> Int</span>"
      ],
      "text/plain": [
       "id @Int :: Int -> Int"
      ]
     },
     "metadata": {},
     "output_type": "display_data"
    }
   ],
   "source": [
    ":type id @Int"
   ]
  },
  {
   "cell_type": "code",
   "execution_count": null,
   "id": "df22b897-5bdf-404e-b138-f7fad87cdf41",
   "metadata": {},
   "outputs": [],
   "source": []
  },
  {
   "cell_type": "markdown",
   "id": "18b11d6e-2d6a-4ad8-bfa3-d53dfffeb17d",
   "metadata": {},
   "source": [
    "\\section*{탐구과제}\n",
    "1. TODO\n",
    "1. TODO"
   ]
  }
 ],
 "metadata": {
  "kernelspec": {
   "display_name": "Haskell",
   "language": "haskell",
   "name": "haskell"
  },
  "language_info": {
   "codemirror_mode": "ihaskell",
   "file_extension": ".hs",
   "mimetype": "text/x-haskell",
   "name": "haskell",
   "pygments_lexer": "Haskell",
   "version": "8.10.7"
  }
 },
 "nbformat": 4,
 "nbformat_minor": 5
}
