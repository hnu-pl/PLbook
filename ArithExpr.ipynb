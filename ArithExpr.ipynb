{
 "cells": [
  {
   "cell_type": "markdown",
   "id": "cf209757-b536-4ae7-afe9-5e578217bd70",
   "metadata": {},
   "source": [
    "정수 리터럴과 덧셈만 있는 아주 간단한 산술식을 하스켈으로 다뤄보자."
   ]
  },
  {
   "cell_type": "code",
   "execution_count": 1,
   "id": "1962ae3a-0cf0-464a-b0e9-b70aa5ae3707",
   "metadata": {},
   "outputs": [],
   "source": [
    ":opt no-lint                          -- linter 끄기\n",
    "{-# LANGUAGE ScopedTypeVariables #-}  -- 추가 언어 기능 설정"
   ]
  },
  {
   "cell_type": "markdown",
   "id": "6ab16c8b-a09b-49bb-8190-5e7ef14cfffa",
   "metadata": {},
   "source": [
    "\\noindent\n",
    "문법구조\n",
    "$\\hspace{-2ex}\\begin{array}{ll}\n",
    "& n \\in \\texttt{Int} \\\\\n",
    "& e \\in \\texttt{Expr} ~::=~ n ~\\mid~ e + e\n",
    "\\end{array}$는 데이터 타입으로 선언하면 된다."
   ]
  },
  {
   "cell_type": "code",
   "execution_count": 2,
   "id": "bc3f627f-909c-4953-a6c7-33c8ea425068",
   "metadata": {},
   "outputs": [],
   "source": [
    "data Expr = I Int          -- n\n",
    "          | Add Expr Expr  -- e + e\n",
    "       deriving (Eq,Ord,Show) -- Eq 같은지, Ord 순서 비교, Show 출력 가능"
   ]
  },
  {
   "cell_type": "raw",
   "id": "07c5119e-a065-46fa-8545-ba963c33eebc",
   "metadata": {},
   "source": [
    "~\\\\"
   ]
  },
  {
   "cell_type": "markdown",
   "id": "193e2537-2927-412f-880b-984165bbe3b9",
   "metadata": {},
   "source": [
    "작은걸음 의미구조\\vspace*{-3ex}\n",
    "$$\n",
    "\\frac{~ ~}{~ n_1 + n_2 \\longmapsto n ~}\n",
    "{\\scriptstyle(\\,n\\;\\equiv\\;n_1\\,+\\,n_2\\,)}\n",
    "\\quad\n",
    "\\frac{~ e_1 \\longmapsto e_1' ~}{~ e_1 + e_2 \\longmapsto e_1' + e_2 ~}\n",
    "\\quad\n",
    "\\frac{~ e_2 \\longmapsto e_2' ~}{~ e_1 + e_2 \\longmapsto e_1 + e_2' ~}\n",
    "$$\n",
    "는 모든 맥락에서 핵심 계산($n_1+n_2\\longmapsto n$)을 진행하는 비결정적 의미구조이다.\n",
    "우선 이 의미구조 그대로를 하스켈 프로그램으로 옮겨 다루어 보고,\n",
    "그 다음에는 결정적 의미구조로 변형하는 방법에 대해 생각해 보자."
   ]
  },
  {
   "cell_type": "markdown",
   "id": "b0878166-e916-41a6-8af3-705c81176282",
   "metadata": {},
   "source": [
    "# 작은걸음 의미구조 검산기\n",
    "\\index{작은걸음 의미구조}\\index{small-step semantics}"
   ]
  },
  {
   "cell_type": "code",
   "execution_count": 3,
   "id": "7b9598e7-03cd-4325-a3d0-e30bc20e3a0a",
   "metadata": {},
   "outputs": [
    {
     "ename": "",
     "evalue": "",
     "output_type": "error",
     "traceback": [
      "<interactive>:2:8: error:\n    • Conflicting definitions for ‘e2’\n      Bound at: <interactive>:2:8-9\n                <interactive>:2:24-25\n    • In an equation for ‘...>’\n<interactive>:3:5: error:\n    • Conflicting definitions for ‘e1’\n      Bound at: <interactive>:3:5-6\n                <interactive>:3:20-21\n    • In an equation for ‘...>’"
     ]
    }
   ],
   "source": [
    "Add (I n1) (I n2) ...> I n  =  n == n1 + n2\n",
    "Add e1 e2 ...> Add e1' e2   =  e1 ...> e1'  -- 좌변에 변수 e2 중복\n",
    "Add e1 e2 ...> Add e1  e2'  =  e2 ...> e2'  -- 좌변에 변수 e1 중복\n",
    "_         ...> _            =  False  -- 다른 경우에는 진행 불가"
   ]
  },
  {
   "cell_type": "code",
   "execution_count": 4,
   "id": "9414458b-38b6-4274-b9eb-178a7eda2c66",
   "metadata": {},
   "outputs": [],
   "source": [
    "Add (I n1) (I n2) ...> I n  =  n == n1 + n2\n",
    "Add e1 e2 ...> Add e1' e2'  =  e1 ...> e1' && e2 == e2'  ||\n",
    "                               e2 ...> e2' && e1 == e1'\n",
    "_         ...> _            =  False  -- 다른 경우에는 진행 불가"
   ]
  },
  {
   "cell_type": "code",
   "execution_count": 5,
   "id": "801dcd00-c02f-4af2-9c82-8854e1743434",
   "metadata": {},
   "outputs": [
    {
     "data": {
      "text/html": [
       "<style>/* Styles used for the Hoogle display in the pager */\n",
       ".hoogle-doc {\n",
       "display: block;\n",
       "padding-bottom: 1.3em;\n",
       "padding-left: 0.4em;\n",
       "}\n",
       ".hoogle-code {\n",
       "display: block;\n",
       "font-family: monospace;\n",
       "white-space: pre;\n",
       "}\n",
       ".hoogle-text {\n",
       "display: block;\n",
       "}\n",
       ".hoogle-name {\n",
       "color: green;\n",
       "font-weight: bold;\n",
       "}\n",
       ".hoogle-head {\n",
       "font-weight: bold;\n",
       "}\n",
       ".hoogle-sub {\n",
       "display: block;\n",
       "margin-left: 0.4em;\n",
       "}\n",
       ".hoogle-package {\n",
       "font-weight: bold;\n",
       "font-style: italic;\n",
       "}\n",
       ".hoogle-module {\n",
       "font-weight: bold;\n",
       "}\n",
       ".hoogle-class {\n",
       "font-weight: bold;\n",
       "}\n",
       ".get-type {\n",
       "color: green;\n",
       "font-weight: bold;\n",
       "font-family: monospace;\n",
       "display: block;\n",
       "white-space: pre-wrap;\n",
       "}\n",
       ".show-type {\n",
       "color: green;\n",
       "font-weight: bold;\n",
       "font-family: monospace;\n",
       "margin-left: 1em;\n",
       "}\n",
       ".mono {\n",
       "font-family: monospace;\n",
       "display: block;\n",
       "}\n",
       ".err-msg {\n",
       "color: red;\n",
       "font-style: italic;\n",
       "font-family: monospace;\n",
       "white-space: pre;\n",
       "display: block;\n",
       "}\n",
       "#unshowable {\n",
       "color: red;\n",
       "font-weight: bold;\n",
       "}\n",
       ".err-msg.in.collapse {\n",
       "padding-top: 0.7em;\n",
       "}\n",
       ".highlight-code {\n",
       "white-space: pre;\n",
       "font-family: monospace;\n",
       "}\n",
       ".suggestion-warning { \n",
       "font-weight: bold;\n",
       "color: rgb(200, 130, 0);\n",
       "}\n",
       ".suggestion-error { \n",
       "font-weight: bold;\n",
       "color: red;\n",
       "}\n",
       ".suggestion-name {\n",
       "font-weight: bold;\n",
       "}\n",
       "</style><span class='get-type'>(...>) :: Expr -> Expr -> Bool</span>"
      ],
      "text/plain": [
       "(...>) :: Expr -> Expr -> Bool"
      ]
     },
     "metadata": {},
     "output_type": "display_data"
    }
   ],
   "source": [
    ":type (...>)"
   ]
  },
  {
   "cell_type": "code",
   "execution_count": 6,
   "id": "e85dfdc5-0142-4adb-baa3-f17dbe3dbe45",
   "metadata": {},
   "outputs": [
    {
     "data": {
      "text/plain": [
       "True"
      ]
     },
     "metadata": {},
     "output_type": "display_data"
    },
    {
     "data": {
      "text/plain": [
       "True"
      ]
     },
     "metadata": {},
     "output_type": "display_data"
    },
    {
     "data": {
      "text/plain": [
       "False"
      ]
     },
     "metadata": {},
     "output_type": "display_data"
    }
   ],
   "source": [
    "Add (I 1) (I 2) ...> I 3  -- 검산 성공\n",
    "I 1 `Add` I 2   ...> I 3\n",
    "Add (I 1) (I 2) ...> I 4  -- 검산 실패"
   ]
  },
  {
   "cell_type": "markdown",
   "id": "8ab1a5c1-b44c-443d-8c9e-12b3452c463a",
   "metadata": {},
   "source": [
    "\\noindent 참고로, 하스켈에서 전위(prefix) 표현인 생성자나 함수의 이름을 역따옴표($\\,^{\\backprime}$)로 감싸면 중위(infix) 연산자처럼 사용할 수 있다."
   ]
  },
  {
   "cell_type": "code",
   "execution_count": 7,
   "id": "f449e6b9-0d45-41d2-8bb0-98e440088d3a",
   "metadata": {},
   "outputs": [
    {
     "data": {
      "text/plain": [
       "True"
      ]
     },
     "metadata": {},
     "output_type": "display_data"
    },
    {
     "data": {
      "text/plain": [
       "True"
      ]
     },
     "metadata": {},
     "output_type": "display_data"
    },
    {
     "data": {
      "text/plain": [
       "False"
      ]
     },
     "metadata": {},
     "output_type": "display_data"
    }
   ],
   "source": [
    "Add(I 1 `Add` I 2)(I 3 `Add` I 4) ...> Add(I 3)(I 3 `Add` I 4)\n",
    "Add(I 1 `Add` I 2)(I 3 `Add` I 4) ...> Add(I 1 `Add` I 2)(I 7)\n",
    "Add(I 1 `Add` I 2)(I 3 `Add` I 4) ...> Add(I 3)(I 7) -- 한꺼번에 2걸음"
   ]
  },
  {
   "cell_type": "markdown",
   "id": "d9a81d34-5a5c-4466-8f49-422c3de2a166",
   "metadata": {},
   "source": [
    "# 작은걸음 의미구조 계산기\n",
    "\\index{작은걸음 의미구조}\\index{small-step semantics}\\index{비결정적 의미구조}\\index{nondeterministic semantics}\n",
    "비결정적인 작은걸음 관계($\\longmapsto\\;\\subset\\;\\texttt{Expr}\\times\\texttt{Expr}$)를\n",
    "함수($f_{\\longmapsto}$)로 만드는 방법은 모든 가능한 다음 단계를 한꺼번에 모아놓은 집합을\n",
    "결과값으로 하면 된다. 즉, 식($e\\in\\texttt{Expr}$) 하나에\n",
    "식의 집합($\\{e_1',e_2',\\ldots,e_k'\\}\\in 2^\\texttt{Expr}$) 하나를 대응시키는\n",
    "함수 $f_{\\longmapsto} : \\texttt{Expr} \\to 2^\\texttt{Expr}$를\n",
    "$f_{\\longmapsto}(e) = \\{\\,e' \\mid e\\longmapsto e'\\,\\}$로 정의하면 된다.\n",
    "이 정의는 단순명료하지만 작은걸음 의미구조의 계산기를 작성하는 데 적합하지 않다.\n",
    "식 $e$의 문법구조를 따라 정의된 작은걸음 의미구조처럼 $f_{\\longmapsto}$를\n",
    "귀납적(inductive)으로 다음과 같이 정의하면 프로그램으로 옮기기에 좋다.\n",
    "단, 마지막 등식에서 $e_1+e_2$는 위의 경우들과 겹치지 않는 형태($e_1+e_2\\neq n_1+n_2$)라고 가정한다.\n",
    "\\vspace*{-2ex}\n",
    "\\begin{align*}\n",
    "& f_{\\longmapsto} ~ : ~ \\texttt{Expr} \\to 2^\\texttt{Expr} \\\\\n",
    "& f_{\\longmapsto}(n)             &=~& \\{\\} \\\\\n",
    "& f_{\\longmapsto}(n_1 + n_2)     &=~& \\{ n \\} \\qquad(n \\equiv n_1 + n_2) \\\\\n",
    "& f_{\\longmapsto}(\\,e_1 + e_2\\,) &=~& \\{ e_1' + e_2 \\mid e_1\\longmapsto e_1' \\} ~ ~\\, \\cup ~ ~ \\{ e_1 + e_2' \\mid e_2\\longmapsto e_2'\\} \\\\\n",
    "&                                &=~& \\{ e_1' + e_2 \\mid e_1'\\in f_{\\longmapsto}(e_1) \\} \\cup \\{ e_1 + e_2' \\mid e_2'\\in f_{\\longmapsto}(e_2)\\}\n",
    "\\end{align*}\n",
    "위 정의를 하스켈 리스트로 집합을 표현하는 `step` 함수로 옮기면 다음과 같다."
   ]
  },
  {
   "cell_type": "code",
   "execution_count": 8,
   "id": "329154f5-f9a9-4276-a786-6eda6f905719",
   "metadata": {},
   "outputs": [],
   "source": [
    "step :: Expr -> [Expr] -- 리스트로 집합을 표현\n",
    "step (I n)             = []\n",
    "step (I n1 `Add` I n2) = [ I n ]  where n = n1 + n2\n",
    "step (Add e1 e2)       = [ Add e1' e2  | e1' <- step e1 ] ++\n",
    "                         [ Add e1  e2' | e2' <- step e2 ]"
   ]
  },
  {
   "cell_type": "code",
   "execution_count": 9,
   "id": "202f35b0-2435-4d86-b578-c4ae631d9438",
   "metadata": {},
   "outputs": [
    {
     "data": {
      "text/plain": [
       "[]"
      ]
     },
     "metadata": {},
     "output_type": "display_data"
    },
    {
     "data": {
      "text/plain": [
       "[I 3]"
      ]
     },
     "metadata": {},
     "output_type": "display_data"
    },
    {
     "data": {
      "text/plain": [
       "[Add (I 3) (Add (I 3) (I 4)),Add (Add (I 1) (I 2)) (I 7)]"
      ]
     },
     "metadata": {},
     "output_type": "display_data"
    }
   ],
   "source": [
    "step (I 3)                  -- step 함수 선언의 첫번째 등식에 패턴 매치\n",
    "step (I 1 `Add` I 2)                       -- 두번째 등식에 패턴 매치 \n",
    "step (Add (I 1 `Add` I 2) (I 3 `Add` I 4)) -- 세번째 등식에 패턴 매치"
   ]
  },
  {
   "cell_type": "markdown",
   "id": "636914dc-40a6-416c-b407-290bed1b1e19",
   "metadata": {},
   "source": [
    "## 하스켈 리스트"
   ]
  },
  {
   "cell_type": "code",
   "execution_count": 10,
   "id": "9d776a69-ec96-40aa-8117-1d8885a37275",
   "metadata": {},
   "outputs": [
    {
     "data": {
      "text/html": [
       "<style>/* Styles used for the Hoogle display in the pager */\n",
       ".hoogle-doc {\n",
       "display: block;\n",
       "padding-bottom: 1.3em;\n",
       "padding-left: 0.4em;\n",
       "}\n",
       ".hoogle-code {\n",
       "display: block;\n",
       "font-family: monospace;\n",
       "white-space: pre;\n",
       "}\n",
       ".hoogle-text {\n",
       "display: block;\n",
       "}\n",
       ".hoogle-name {\n",
       "color: green;\n",
       "font-weight: bold;\n",
       "}\n",
       ".hoogle-head {\n",
       "font-weight: bold;\n",
       "}\n",
       ".hoogle-sub {\n",
       "display: block;\n",
       "margin-left: 0.4em;\n",
       "}\n",
       ".hoogle-package {\n",
       "font-weight: bold;\n",
       "font-style: italic;\n",
       "}\n",
       ".hoogle-module {\n",
       "font-weight: bold;\n",
       "}\n",
       ".hoogle-class {\n",
       "font-weight: bold;\n",
       "}\n",
       ".get-type {\n",
       "color: green;\n",
       "font-weight: bold;\n",
       "font-family: monospace;\n",
       "display: block;\n",
       "white-space: pre-wrap;\n",
       "}\n",
       ".show-type {\n",
       "color: green;\n",
       "font-weight: bold;\n",
       "font-family: monospace;\n",
       "margin-left: 1em;\n",
       "}\n",
       ".mono {\n",
       "font-family: monospace;\n",
       "display: block;\n",
       "}\n",
       ".err-msg {\n",
       "color: red;\n",
       "font-style: italic;\n",
       "font-family: monospace;\n",
       "white-space: pre;\n",
       "display: block;\n",
       "}\n",
       "#unshowable {\n",
       "color: red;\n",
       "font-weight: bold;\n",
       "}\n",
       ".err-msg.in.collapse {\n",
       "padding-top: 0.7em;\n",
       "}\n",
       ".highlight-code {\n",
       "white-space: pre;\n",
       "font-family: monospace;\n",
       "}\n",
       ".suggestion-warning { \n",
       "font-weight: bold;\n",
       "color: rgb(200, 130, 0);\n",
       "}\n",
       ".suggestion-error { \n",
       "font-weight: bold;\n",
       "color: red;\n",
       "}\n",
       ".suggestion-name {\n",
       "font-weight: bold;\n",
       "}\n",
       "</style><span class='get-type'>'a' :: Char</span>"
      ],
      "text/plain": [
       "'a' :: Char"
      ]
     },
     "metadata": {},
     "output_type": "display_data"
    },
    {
     "data": {
      "text/html": [
       "<style>/* Styles used for the Hoogle display in the pager */\n",
       ".hoogle-doc {\n",
       "display: block;\n",
       "padding-bottom: 1.3em;\n",
       "padding-left: 0.4em;\n",
       "}\n",
       ".hoogle-code {\n",
       "display: block;\n",
       "font-family: monospace;\n",
       "white-space: pre;\n",
       "}\n",
       ".hoogle-text {\n",
       "display: block;\n",
       "}\n",
       ".hoogle-name {\n",
       "color: green;\n",
       "font-weight: bold;\n",
       "}\n",
       ".hoogle-head {\n",
       "font-weight: bold;\n",
       "}\n",
       ".hoogle-sub {\n",
       "display: block;\n",
       "margin-left: 0.4em;\n",
       "}\n",
       ".hoogle-package {\n",
       "font-weight: bold;\n",
       "font-style: italic;\n",
       "}\n",
       ".hoogle-module {\n",
       "font-weight: bold;\n",
       "}\n",
       ".hoogle-class {\n",
       "font-weight: bold;\n",
       "}\n",
       ".get-type {\n",
       "color: green;\n",
       "font-weight: bold;\n",
       "font-family: monospace;\n",
       "display: block;\n",
       "white-space: pre-wrap;\n",
       "}\n",
       ".show-type {\n",
       "color: green;\n",
       "font-weight: bold;\n",
       "font-family: monospace;\n",
       "margin-left: 1em;\n",
       "}\n",
       ".mono {\n",
       "font-family: monospace;\n",
       "display: block;\n",
       "}\n",
       ".err-msg {\n",
       "color: red;\n",
       "font-style: italic;\n",
       "font-family: monospace;\n",
       "white-space: pre;\n",
       "display: block;\n",
       "}\n",
       "#unshowable {\n",
       "color: red;\n",
       "font-weight: bold;\n",
       "}\n",
       ".err-msg.in.collapse {\n",
       "padding-top: 0.7em;\n",
       "}\n",
       ".highlight-code {\n",
       "white-space: pre;\n",
       "font-family: monospace;\n",
       "}\n",
       ".suggestion-warning { \n",
       "font-weight: bold;\n",
       "color: rgb(200, 130, 0);\n",
       "}\n",
       ".suggestion-error { \n",
       "font-weight: bold;\n",
       "color: red;\n",
       "}\n",
       ".suggestion-name {\n",
       "font-weight: bold;\n",
       "}\n",
       "</style><span class='get-type'>['a','b','c'] :: [Char]</span>"
      ],
      "text/plain": [
       "['a','b','c'] :: [Char]"
      ]
     },
     "metadata": {},
     "output_type": "display_data"
    },
    {
     "data": {
      "text/html": [
       "<style>/* Styles used for the Hoogle display in the pager */\n",
       ".hoogle-doc {\n",
       "display: block;\n",
       "padding-bottom: 1.3em;\n",
       "padding-left: 0.4em;\n",
       "}\n",
       ".hoogle-code {\n",
       "display: block;\n",
       "font-family: monospace;\n",
       "white-space: pre;\n",
       "}\n",
       ".hoogle-text {\n",
       "display: block;\n",
       "}\n",
       ".hoogle-name {\n",
       "color: green;\n",
       "font-weight: bold;\n",
       "}\n",
       ".hoogle-head {\n",
       "font-weight: bold;\n",
       "}\n",
       ".hoogle-sub {\n",
       "display: block;\n",
       "margin-left: 0.4em;\n",
       "}\n",
       ".hoogle-package {\n",
       "font-weight: bold;\n",
       "font-style: italic;\n",
       "}\n",
       ".hoogle-module {\n",
       "font-weight: bold;\n",
       "}\n",
       ".hoogle-class {\n",
       "font-weight: bold;\n",
       "}\n",
       ".get-type {\n",
       "color: green;\n",
       "font-weight: bold;\n",
       "font-family: monospace;\n",
       "display: block;\n",
       "white-space: pre-wrap;\n",
       "}\n",
       ".show-type {\n",
       "color: green;\n",
       "font-weight: bold;\n",
       "font-family: monospace;\n",
       "margin-left: 1em;\n",
       "}\n",
       ".mono {\n",
       "font-family: monospace;\n",
       "display: block;\n",
       "}\n",
       ".err-msg {\n",
       "color: red;\n",
       "font-style: italic;\n",
       "font-family: monospace;\n",
       "white-space: pre;\n",
       "display: block;\n",
       "}\n",
       "#unshowable {\n",
       "color: red;\n",
       "font-weight: bold;\n",
       "}\n",
       ".err-msg.in.collapse {\n",
       "padding-top: 0.7em;\n",
       "}\n",
       ".highlight-code {\n",
       "white-space: pre;\n",
       "font-family: monospace;\n",
       "}\n",
       ".suggestion-warning { \n",
       "font-weight: bold;\n",
       "color: rgb(200, 130, 0);\n",
       "}\n",
       ".suggestion-error { \n",
       "font-weight: bold;\n",
       "color: red;\n",
       "}\n",
       ".suggestion-name {\n",
       "font-weight: bold;\n",
       "}\n",
       "</style><span class='get-type'>False :: Bool</span>"
      ],
      "text/plain": [
       "False :: Bool"
      ]
     },
     "metadata": {},
     "output_type": "display_data"
    },
    {
     "data": {
      "text/html": [
       "<style>/* Styles used for the Hoogle display in the pager */\n",
       ".hoogle-doc {\n",
       "display: block;\n",
       "padding-bottom: 1.3em;\n",
       "padding-left: 0.4em;\n",
       "}\n",
       ".hoogle-code {\n",
       "display: block;\n",
       "font-family: monospace;\n",
       "white-space: pre;\n",
       "}\n",
       ".hoogle-text {\n",
       "display: block;\n",
       "}\n",
       ".hoogle-name {\n",
       "color: green;\n",
       "font-weight: bold;\n",
       "}\n",
       ".hoogle-head {\n",
       "font-weight: bold;\n",
       "}\n",
       ".hoogle-sub {\n",
       "display: block;\n",
       "margin-left: 0.4em;\n",
       "}\n",
       ".hoogle-package {\n",
       "font-weight: bold;\n",
       "font-style: italic;\n",
       "}\n",
       ".hoogle-module {\n",
       "font-weight: bold;\n",
       "}\n",
       ".hoogle-class {\n",
       "font-weight: bold;\n",
       "}\n",
       ".get-type {\n",
       "color: green;\n",
       "font-weight: bold;\n",
       "font-family: monospace;\n",
       "display: block;\n",
       "white-space: pre-wrap;\n",
       "}\n",
       ".show-type {\n",
       "color: green;\n",
       "font-weight: bold;\n",
       "font-family: monospace;\n",
       "margin-left: 1em;\n",
       "}\n",
       ".mono {\n",
       "font-family: monospace;\n",
       "display: block;\n",
       "}\n",
       ".err-msg {\n",
       "color: red;\n",
       "font-style: italic;\n",
       "font-family: monospace;\n",
       "white-space: pre;\n",
       "display: block;\n",
       "}\n",
       "#unshowable {\n",
       "color: red;\n",
       "font-weight: bold;\n",
       "}\n",
       ".err-msg.in.collapse {\n",
       "padding-top: 0.7em;\n",
       "}\n",
       ".highlight-code {\n",
       "white-space: pre;\n",
       "font-family: monospace;\n",
       "}\n",
       ".suggestion-warning { \n",
       "font-weight: bold;\n",
       "color: rgb(200, 130, 0);\n",
       "}\n",
       ".suggestion-error { \n",
       "font-weight: bold;\n",
       "color: red;\n",
       "}\n",
       ".suggestion-name {\n",
       "font-weight: bold;\n",
       "}\n",
       "</style><span class='get-type'>[False, True] :: [Bool]</span>"
      ],
      "text/plain": [
       "[False, True] :: [Bool]"
      ]
     },
     "metadata": {},
     "output_type": "display_data"
    },
    {
     "data": {
      "text/html": [
       "<style>/* Styles used for the Hoogle display in the pager */\n",
       ".hoogle-doc {\n",
       "display: block;\n",
       "padding-bottom: 1.3em;\n",
       "padding-left: 0.4em;\n",
       "}\n",
       ".hoogle-code {\n",
       "display: block;\n",
       "font-family: monospace;\n",
       "white-space: pre;\n",
       "}\n",
       ".hoogle-text {\n",
       "display: block;\n",
       "}\n",
       ".hoogle-name {\n",
       "color: green;\n",
       "font-weight: bold;\n",
       "}\n",
       ".hoogle-head {\n",
       "font-weight: bold;\n",
       "}\n",
       ".hoogle-sub {\n",
       "display: block;\n",
       "margin-left: 0.4em;\n",
       "}\n",
       ".hoogle-package {\n",
       "font-weight: bold;\n",
       "font-style: italic;\n",
       "}\n",
       ".hoogle-module {\n",
       "font-weight: bold;\n",
       "}\n",
       ".hoogle-class {\n",
       "font-weight: bold;\n",
       "}\n",
       ".get-type {\n",
       "color: green;\n",
       "font-weight: bold;\n",
       "font-family: monospace;\n",
       "display: block;\n",
       "white-space: pre-wrap;\n",
       "}\n",
       ".show-type {\n",
       "color: green;\n",
       "font-weight: bold;\n",
       "font-family: monospace;\n",
       "margin-left: 1em;\n",
       "}\n",
       ".mono {\n",
       "font-family: monospace;\n",
       "display: block;\n",
       "}\n",
       ".err-msg {\n",
       "color: red;\n",
       "font-style: italic;\n",
       "font-family: monospace;\n",
       "white-space: pre;\n",
       "display: block;\n",
       "}\n",
       "#unshowable {\n",
       "color: red;\n",
       "font-weight: bold;\n",
       "}\n",
       ".err-msg.in.collapse {\n",
       "padding-top: 0.7em;\n",
       "}\n",
       ".highlight-code {\n",
       "white-space: pre;\n",
       "font-family: monospace;\n",
       "}\n",
       ".suggestion-warning { \n",
       "font-weight: bold;\n",
       "color: rgb(200, 130, 0);\n",
       "}\n",
       ".suggestion-error { \n",
       "font-weight: bold;\n",
       "color: red;\n",
       "}\n",
       ".suggestion-name {\n",
       "font-weight: bold;\n",
       "}\n",
       "</style><span class='get-type'>(&&) :: Bool -> Bool -> Bool</span>"
      ],
      "text/plain": [
       "(&&) :: Bool -> Bool -> Bool"
      ]
     },
     "metadata": {},
     "output_type": "display_data"
    },
    {
     "data": {
      "text/html": [
       "<style>/* Styles used for the Hoogle display in the pager */\n",
       ".hoogle-doc {\n",
       "display: block;\n",
       "padding-bottom: 1.3em;\n",
       "padding-left: 0.4em;\n",
       "}\n",
       ".hoogle-code {\n",
       "display: block;\n",
       "font-family: monospace;\n",
       "white-space: pre;\n",
       "}\n",
       ".hoogle-text {\n",
       "display: block;\n",
       "}\n",
       ".hoogle-name {\n",
       "color: green;\n",
       "font-weight: bold;\n",
       "}\n",
       ".hoogle-head {\n",
       "font-weight: bold;\n",
       "}\n",
       ".hoogle-sub {\n",
       "display: block;\n",
       "margin-left: 0.4em;\n",
       "}\n",
       ".hoogle-package {\n",
       "font-weight: bold;\n",
       "font-style: italic;\n",
       "}\n",
       ".hoogle-module {\n",
       "font-weight: bold;\n",
       "}\n",
       ".hoogle-class {\n",
       "font-weight: bold;\n",
       "}\n",
       ".get-type {\n",
       "color: green;\n",
       "font-weight: bold;\n",
       "font-family: monospace;\n",
       "display: block;\n",
       "white-space: pre-wrap;\n",
       "}\n",
       ".show-type {\n",
       "color: green;\n",
       "font-weight: bold;\n",
       "font-family: monospace;\n",
       "margin-left: 1em;\n",
       "}\n",
       ".mono {\n",
       "font-family: monospace;\n",
       "display: block;\n",
       "}\n",
       ".err-msg {\n",
       "color: red;\n",
       "font-style: italic;\n",
       "font-family: monospace;\n",
       "white-space: pre;\n",
       "display: block;\n",
       "}\n",
       "#unshowable {\n",
       "color: red;\n",
       "font-weight: bold;\n",
       "}\n",
       ".err-msg.in.collapse {\n",
       "padding-top: 0.7em;\n",
       "}\n",
       ".highlight-code {\n",
       "white-space: pre;\n",
       "font-family: monospace;\n",
       "}\n",
       ".suggestion-warning { \n",
       "font-weight: bold;\n",
       "color: rgb(200, 130, 0);\n",
       "}\n",
       ".suggestion-error { \n",
       "font-weight: bold;\n",
       "color: red;\n",
       "}\n",
       ".suggestion-name {\n",
       "font-weight: bold;\n",
       "}\n",
       "</style><span class='get-type'>[(&&), (||)] :: [Bool -> Bool -> Bool]</span>"
      ],
      "text/plain": [
       "[(&&), (||)] :: [Bool -> Bool -> Bool]"
      ]
     },
     "metadata": {},
     "output_type": "display_data"
    }
   ],
   "source": [
    ":type 'a'           -- 문자\n",
    ":type ['a','b','c'] -- 문자 리스트 = 문자열(String)\n",
    ":type False         -- 진리값\n",
    ":type [False, True] -- 진리값 리스트 \n",
    ":type (&&)          -- 함수\n",
    ":type [(&&), (||)]  -- 함수 리스트"
   ]
  },
  {
   "cell_type": "code",
   "execution_count": 11,
   "id": "f5eb3d32-dcf6-46c8-a858-8bed14dc86a0",
   "metadata": {},
   "outputs": [
    {
     "ename": "",
     "evalue": "",
     "output_type": "error",
     "traceback": [
      "<interactive>:1:13: error:\n    • Couldn't match expected type ‘Bool’ with actual type ‘Char’\n    • In the expression: 'a'\n      In the expression: [True, False, 'a', 'b']\n      In an equation for ‘it’: it = [True, False, 'a', ....]\n<interactive>:1:17: error:\n    • Couldn't match expected type ‘Bool’ with actual type ‘Char’\n    • In the expression: 'b'\n      In the expression: [True, False, 'a', 'b']\n      In an equation for ‘it’: it = [True, False, 'a', ....]"
     ]
    }
   ],
   "source": [
    "[True,False,'a','b'] -- 같은 타입끼리만 리스트 구성 가능하므로 오류"
   ]
  },
  {
   "cell_type": "markdown",
   "id": "0784d15c-6e02-4868-aecd-701d1181605a",
   "metadata": {},
   "source": [
    "### 리스트 이어붙이기 연산자\n",
    "두 개의 리스트를 다음 연산자로 이어붙일 수 있다."
   ]
  },
  {
   "cell_type": "code",
   "execution_count": 12,
   "id": "44e2e2e2-2243-4103-ac91-39f6e19bcf45",
   "metadata": {},
   "outputs": [
    {
     "data": {
      "text/html": [
       "<style>/* Styles used for the Hoogle display in the pager */\n",
       ".hoogle-doc {\n",
       "display: block;\n",
       "padding-bottom: 1.3em;\n",
       "padding-left: 0.4em;\n",
       "}\n",
       ".hoogle-code {\n",
       "display: block;\n",
       "font-family: monospace;\n",
       "white-space: pre;\n",
       "}\n",
       ".hoogle-text {\n",
       "display: block;\n",
       "}\n",
       ".hoogle-name {\n",
       "color: green;\n",
       "font-weight: bold;\n",
       "}\n",
       ".hoogle-head {\n",
       "font-weight: bold;\n",
       "}\n",
       ".hoogle-sub {\n",
       "display: block;\n",
       "margin-left: 0.4em;\n",
       "}\n",
       ".hoogle-package {\n",
       "font-weight: bold;\n",
       "font-style: italic;\n",
       "}\n",
       ".hoogle-module {\n",
       "font-weight: bold;\n",
       "}\n",
       ".hoogle-class {\n",
       "font-weight: bold;\n",
       "}\n",
       ".get-type {\n",
       "color: green;\n",
       "font-weight: bold;\n",
       "font-family: monospace;\n",
       "display: block;\n",
       "white-space: pre-wrap;\n",
       "}\n",
       ".show-type {\n",
       "color: green;\n",
       "font-weight: bold;\n",
       "font-family: monospace;\n",
       "margin-left: 1em;\n",
       "}\n",
       ".mono {\n",
       "font-family: monospace;\n",
       "display: block;\n",
       "}\n",
       ".err-msg {\n",
       "color: red;\n",
       "font-style: italic;\n",
       "font-family: monospace;\n",
       "white-space: pre;\n",
       "display: block;\n",
       "}\n",
       "#unshowable {\n",
       "color: red;\n",
       "font-weight: bold;\n",
       "}\n",
       ".err-msg.in.collapse {\n",
       "padding-top: 0.7em;\n",
       "}\n",
       ".highlight-code {\n",
       "white-space: pre;\n",
       "font-family: monospace;\n",
       "}\n",
       ".suggestion-warning { \n",
       "font-weight: bold;\n",
       "color: rgb(200, 130, 0);\n",
       "}\n",
       ".suggestion-error { \n",
       "font-weight: bold;\n",
       "color: red;\n",
       "}\n",
       ".suggestion-name {\n",
       "font-weight: bold;\n",
       "}\n",
       "</style><span class='get-type'>(++) :: forall a. [a] -> [a] -> [a]</span>"
      ],
      "text/plain": [
       "(++) :: forall a. [a] -> [a] -> [a]"
      ]
     },
     "metadata": {},
     "output_type": "display_data"
    }
   ],
   "source": [
    ":type (++)"
   ]
  },
  {
   "cell_type": "code",
   "execution_count": 13,
   "id": "cc4fa9b9-580e-4982-9886-f60b89d9d239",
   "metadata": {},
   "outputs": [
    {
     "data": {
      "text/plain": [
       "[1,2,3,4,5,6]"
      ]
     },
     "metadata": {},
     "output_type": "display_data"
    }
   ],
   "source": [
    "[1,2,3] ++ [4,5,6] -- 정수 리스트 이어붙이기"
   ]
  },
  {
   "cell_type": "markdown",
   "id": "74b2825a-21e9-44d2-aa34-521932ce6bf4",
   "metadata": {},
   "source": [
    "$~$\\vspace*{-2ex}\\newline\n",
    "리스트로 집합을 표현한다면 `++` 연산자는 합집합 연산에 해당한다.\n",
    "\n",
    "참고로, 중위(infix) 연산자만 단독으로 괄호로 감싸면 전위(prefix) 표현인 함수 이름처럼 사용할 수 있다."
   ]
  },
  {
   "cell_type": "code",
   "execution_count": 14,
   "id": "54dc20d8-1a15-498f-830c-b442fcfce5ba",
   "metadata": {},
   "outputs": [
    {
     "data": {
      "text/plain": [
       "[1,2,3,4,5,6]"
      ]
     },
     "metadata": {},
     "output_type": "display_data"
    }
   ],
   "source": [
    "(++) [1,2,3] [4,5,6]"
   ]
  },
  {
   "cell_type": "markdown",
   "id": "e9dc38af-3c14-4eb6-bb22-e1611427da1b",
   "metadata": {},
   "source": [
    "### 리스트 조건제시법\n",
    "\\index{조건제시법}\\index{comprehension}\\index{조건제시법!집합 조건제시법}\\index{조건제시법!리스트 조건제시법}\\index{comprehension!list comprehension}\\index{comprehension}{set comprehension} 수학에서 집합 조건제시법(set comprehension)과 비슷한 형태의 문법인 리스트 조건제시법(list comprehension)으로 하스켈 리스트를 작성할 수 있다.\\vspace*{-1.5em}"
   ]
  },
  {
   "cell_type": "markdown",
   "id": "97c51d43-6e88-4819-a8d5-862da1a5d3e7",
   "metadata": {},
   "source": [
    "\\indent\n",
    "$\\displaystyle\\big\\{(x,y) \\mid x\\in\\{1,2\\},\\;y\\in\\{1,2,3\\}\\big\\}$"
   ]
  },
  {
   "cell_type": "code",
   "execution_count": 15,
   "id": "51193c37-c7db-4912-8441-f9bd4c71f1b4",
   "metadata": {},
   "outputs": [
    {
     "data": {
      "text/plain": [
       "[(1,1),(1,2),(1,3),(2,1),(2,2),(2,3)]"
      ]
     },
     "metadata": {},
     "output_type": "display_data"
    }
   ],
   "source": [
    "[ (x,y) | x <- [1,2], y <-[1,2,3] ]"
   ]
  },
  {
   "cell_type": "markdown",
   "id": "9fb8a34f-b89f-44d3-b51d-cc6a39d1e36f",
   "metadata": {},
   "source": [
    "\\indent\n",
    "$\\displaystyle\\big\\{(x,y,z) \\mid x,y,z\\in\\{1,\\ldots,20\\},\\;x^2+y^2=z^2,\\;x<y,\\;\\text{$x$와 $y$는 서로 소}\\big\\}$"
   ]
  },
  {
   "cell_type": "code",
   "execution_count": 16,
   "id": "3f2f86b1-2752-45cd-b60e-4d14822620fd",
   "metadata": {},
   "outputs": [
    {
     "data": {
      "text/plain": [
       "[(3,4,5),(5,12,13),(8,15,17)]"
      ]
     },
     "metadata": {},
     "output_type": "display_data"
    }
   ],
   "source": [
    "[ (x,y,z) | x <- [1..20], y <- [1..20], z <- [1..20],\n",
    "            x^2 + y^2 == z^2, x < y, gcd x y == 1 ]"
   ]
  },
  {
   "cell_type": "code",
   "execution_count": 17,
   "id": "48d2aefc-d740-4b2c-ac00-79d31fb89814",
   "metadata": {},
   "outputs": [
    {
     "data": {
      "text/plain": [
       "[1,2,3,4,5,6,7,8,9,10,11,12,13,14,15,16,17,18,19,20]"
      ]
     },
     "metadata": {},
     "output_type": "display_data"
    },
    {
     "data": {
      "text/plain": [
       "[1,3,5,7,9,11,13,15,17,19]"
      ]
     },
     "metadata": {},
     "output_type": "display_data"
    }
   ],
   "source": [
    "[1..20]   -- 1부터 1씩 증가하는 20까지의 등차수열\n",
    "[1,3..20] -- 원소 2개로 시작하면 등차수열 간격 설정"
   ]
  },
  {
   "cell_type": "code",
   "execution_count": 18,
   "id": "d6846050-5f24-4689-989e-7ba421b463bf",
   "metadata": {},
   "outputs": [
    {
     "data": {
      "text/plain": [
       "[1,2,4,8,16,32,64,128,256,512,1024]"
      ]
     },
     "metadata": {},
     "output_type": "display_data"
    }
   ],
   "source": [
    "[ 2^x | x <- [0..10] ] -- 순서쌍 외에 수식, 함수 등으로 계산한 값도 활용 가능"
   ]
  },
  {
   "cell_type": "markdown",
   "id": "f1affd48-85ed-4bf8-ba78-764cf2d60394",
   "metadata": {},
   "source": [
    "## 여러 걸음(`step`) 진행하려면"
   ]
  },
  {
   "cell_type": "code",
   "execution_count": 19,
   "id": "15eaae31-f1e2-41ea-ae60-ad4e9bfa1d4b",
   "metadata": {},
   "outputs": [
    {
     "data": {
      "text/plain": [
       "[Add (I 3) (Add (I 3) (I 4)),Add (Add (I 1) (I 2)) (I 7)]"
      ]
     },
     "metadata": {},
     "output_type": "display_data"
    }
   ],
   "source": [
    "e0 = (Add (I 1 `Add` I 2) (I 3 `Add` I 4))\n",
    "\n",
    "step e0        -- (1+2)+(3+4)를 1걸음 진행"
   ]
  },
  {
   "cell_type": "code",
   "execution_count": 20,
   "id": "61240b5b-5976-488a-b1dc-8a25ddf89279",
   "metadata": {},
   "outputs": [
    {
     "ename": "",
     "evalue": "",
     "output_type": "error",
     "traceback": [
      "<interactive>:1:7: error:\n    • Couldn't match expected type ‘Expr’ with actual type ‘[Expr]’\n    • In the first argument of ‘step’, namely ‘(step e0)’\n      In the expression: step (step e0)\n      In an equation for ‘it’: it = step (step e0)"
     ]
    }
   ],
   "source": [
    "step (step e0) -- (1+2)+(3+4)를 2걸음 진행???"
   ]
  },
  {
   "cell_type": "code",
   "execution_count": 21,
   "id": "ca6bfccc-e75b-4315-a25b-7b0aabd1f572",
   "metadata": {},
   "outputs": [
    {
     "data": {
      "text/html": [
       "<style>/* Styles used for the Hoogle display in the pager */\n",
       ".hoogle-doc {\n",
       "display: block;\n",
       "padding-bottom: 1.3em;\n",
       "padding-left: 0.4em;\n",
       "}\n",
       ".hoogle-code {\n",
       "display: block;\n",
       "font-family: monospace;\n",
       "white-space: pre;\n",
       "}\n",
       ".hoogle-text {\n",
       "display: block;\n",
       "}\n",
       ".hoogle-name {\n",
       "color: green;\n",
       "font-weight: bold;\n",
       "}\n",
       ".hoogle-head {\n",
       "font-weight: bold;\n",
       "}\n",
       ".hoogle-sub {\n",
       "display: block;\n",
       "margin-left: 0.4em;\n",
       "}\n",
       ".hoogle-package {\n",
       "font-weight: bold;\n",
       "font-style: italic;\n",
       "}\n",
       ".hoogle-module {\n",
       "font-weight: bold;\n",
       "}\n",
       ".hoogle-class {\n",
       "font-weight: bold;\n",
       "}\n",
       ".get-type {\n",
       "color: green;\n",
       "font-weight: bold;\n",
       "font-family: monospace;\n",
       "display: block;\n",
       "white-space: pre-wrap;\n",
       "}\n",
       ".show-type {\n",
       "color: green;\n",
       "font-weight: bold;\n",
       "font-family: monospace;\n",
       "margin-left: 1em;\n",
       "}\n",
       ".mono {\n",
       "font-family: monospace;\n",
       "display: block;\n",
       "}\n",
       ".err-msg {\n",
       "color: red;\n",
       "font-style: italic;\n",
       "font-family: monospace;\n",
       "white-space: pre;\n",
       "display: block;\n",
       "}\n",
       "#unshowable {\n",
       "color: red;\n",
       "font-weight: bold;\n",
       "}\n",
       ".err-msg.in.collapse {\n",
       "padding-top: 0.7em;\n",
       "}\n",
       ".highlight-code {\n",
       "white-space: pre;\n",
       "font-family: monospace;\n",
       "}\n",
       ".suggestion-warning { \n",
       "font-weight: bold;\n",
       "color: rgb(200, 130, 0);\n",
       "}\n",
       ".suggestion-error { \n",
       "font-weight: bold;\n",
       "color: red;\n",
       "}\n",
       ".suggestion-name {\n",
       "font-weight: bold;\n",
       "}\n",
       "</style><span class='get-type'>step :: Expr -> [Expr]</span>"
      ],
      "text/plain": [
       "step :: Expr -> [Expr]"
      ]
     },
     "metadata": {},
     "output_type": "display_data"
    }
   ],
   "source": [
    ":type step"
   ]
  },
  {
   "cell_type": "markdown",
   "id": "1a321b4c-ecc4-441a-b238-40e5bc004377",
   "metadata": {},
   "source": [
    "함수 `step`은 산술식(`Expr`)에 적용해야 하는데 `step`의 결과는 산술식의 리스트(`[Expr]`)이므로\n",
    "연쇄적으로 적용하려면 타입이 맞지 않는다. $g : A \\to A$처럼 정의역과 공역이 같은 함수라야\n",
    "$g(g(a))$와 같이 연쇄적으로 적용할 수 있다. 일반적으로 $f:A\\to 2^A$처럼 하나의 원소를 같은 종류 원소들의 집합으로\n",
    "대응시키는 함수의 정의역($A$)을 공역($2^A$)에 맞도록 확장한 버전의 함수 $\\hat{f}:2^A\\to 2^A$를\n",
    "$\\displaystyle\\hat{f}(\\{a_1,\\ldots,a_k\\}) = f(a_1)\\cup \\cdots \\cup f(a_k)$, 즉 $\\displaystyle\\hat{f}(S) = \\bigcup_{a\\in S} f(a)$로 정의한다."
   ]
  },
  {
   "cell_type": "markdown",
   "id": "9bec4362-7702-40fe-92ae-c91db77debc9",
   "metadata": {},
   "source": [
    "그렇다면 함수 `step`의 정의역(`Expr`)을 치역(`[Expr]`)에 맞도록 확장한 버전의 함수를 정의해 보자.\n",
    "우선 첫번째 시도로 아래와 같이 리스트 조건제시법을 이용하면 정의역이 `[Expr]`인 `stepList` 함수를\n",
    "작성할 수 있기는 한데 치역이 `[[Expr]]`로 2겹 리스트가 되어버린다."
   ]
  },
  {
   "cell_type": "code",
   "execution_count": 22,
   "id": "433491cc-a4d8-48c2-b04f-61ffb67abe6c",
   "metadata": {},
   "outputs": [
    {
     "data": {
      "text/html": [
       "<style>/* Styles used for the Hoogle display in the pager */\n",
       ".hoogle-doc {\n",
       "display: block;\n",
       "padding-bottom: 1.3em;\n",
       "padding-left: 0.4em;\n",
       "}\n",
       ".hoogle-code {\n",
       "display: block;\n",
       "font-family: monospace;\n",
       "white-space: pre;\n",
       "}\n",
       ".hoogle-text {\n",
       "display: block;\n",
       "}\n",
       ".hoogle-name {\n",
       "color: green;\n",
       "font-weight: bold;\n",
       "}\n",
       ".hoogle-head {\n",
       "font-weight: bold;\n",
       "}\n",
       ".hoogle-sub {\n",
       "display: block;\n",
       "margin-left: 0.4em;\n",
       "}\n",
       ".hoogle-package {\n",
       "font-weight: bold;\n",
       "font-style: italic;\n",
       "}\n",
       ".hoogle-module {\n",
       "font-weight: bold;\n",
       "}\n",
       ".hoogle-class {\n",
       "font-weight: bold;\n",
       "}\n",
       ".get-type {\n",
       "color: green;\n",
       "font-weight: bold;\n",
       "font-family: monospace;\n",
       "display: block;\n",
       "white-space: pre-wrap;\n",
       "}\n",
       ".show-type {\n",
       "color: green;\n",
       "font-weight: bold;\n",
       "font-family: monospace;\n",
       "margin-left: 1em;\n",
       "}\n",
       ".mono {\n",
       "font-family: monospace;\n",
       "display: block;\n",
       "}\n",
       ".err-msg {\n",
       "color: red;\n",
       "font-style: italic;\n",
       "font-family: monospace;\n",
       "white-space: pre;\n",
       "display: block;\n",
       "}\n",
       "#unshowable {\n",
       "color: red;\n",
       "font-weight: bold;\n",
       "}\n",
       ".err-msg.in.collapse {\n",
       "padding-top: 0.7em;\n",
       "}\n",
       ".highlight-code {\n",
       "white-space: pre;\n",
       "font-family: monospace;\n",
       "}\n",
       ".suggestion-warning { \n",
       "font-weight: bold;\n",
       "color: rgb(200, 130, 0);\n",
       "}\n",
       ".suggestion-error { \n",
       "font-weight: bold;\n",
       "color: red;\n",
       "}\n",
       ".suggestion-name {\n",
       "font-weight: bold;\n",
       "}\n",
       "</style><span class='get-type'>es0 :: [Expr]</span>"
      ],
      "text/plain": [
       "es0 :: [Expr]"
      ]
     },
     "metadata": {},
     "output_type": "display_data"
    },
    {
     "data": {
      "text/html": [
       "<style>/* Styles used for the Hoogle display in the pager */\n",
       ".hoogle-doc {\n",
       "display: block;\n",
       "padding-bottom: 1.3em;\n",
       "padding-left: 0.4em;\n",
       "}\n",
       ".hoogle-code {\n",
       "display: block;\n",
       "font-family: monospace;\n",
       "white-space: pre;\n",
       "}\n",
       ".hoogle-text {\n",
       "display: block;\n",
       "}\n",
       ".hoogle-name {\n",
       "color: green;\n",
       "font-weight: bold;\n",
       "}\n",
       ".hoogle-head {\n",
       "font-weight: bold;\n",
       "}\n",
       ".hoogle-sub {\n",
       "display: block;\n",
       "margin-left: 0.4em;\n",
       "}\n",
       ".hoogle-package {\n",
       "font-weight: bold;\n",
       "font-style: italic;\n",
       "}\n",
       ".hoogle-module {\n",
       "font-weight: bold;\n",
       "}\n",
       ".hoogle-class {\n",
       "font-weight: bold;\n",
       "}\n",
       ".get-type {\n",
       "color: green;\n",
       "font-weight: bold;\n",
       "font-family: monospace;\n",
       "display: block;\n",
       "white-space: pre-wrap;\n",
       "}\n",
       ".show-type {\n",
       "color: green;\n",
       "font-weight: bold;\n",
       "font-family: monospace;\n",
       "margin-left: 1em;\n",
       "}\n",
       ".mono {\n",
       "font-family: monospace;\n",
       "display: block;\n",
       "}\n",
       ".err-msg {\n",
       "color: red;\n",
       "font-style: italic;\n",
       "font-family: monospace;\n",
       "white-space: pre;\n",
       "display: block;\n",
       "}\n",
       "#unshowable {\n",
       "color: red;\n",
       "font-weight: bold;\n",
       "}\n",
       ".err-msg.in.collapse {\n",
       "padding-top: 0.7em;\n",
       "}\n",
       ".highlight-code {\n",
       "white-space: pre;\n",
       "font-family: monospace;\n",
       "}\n",
       ".suggestion-warning { \n",
       "font-weight: bold;\n",
       "color: rgb(200, 130, 0);\n",
       "}\n",
       ".suggestion-error { \n",
       "font-weight: bold;\n",
       "color: red;\n",
       "}\n",
       ".suggestion-name {\n",
       "font-weight: bold;\n",
       "}\n",
       "</style><span class='get-type'>ess1 :: [[Expr]]</span>"
      ],
      "text/plain": [
       "ess1 :: [[Expr]]"
      ]
     },
     "metadata": {},
     "output_type": "display_data"
    },
    {
     "data": {
      "text/plain": [
       "[Add (Add (I 1) (I 2)) (Add (I 3) (I 4)),Add (I 1) (I 2)]"
      ]
     },
     "metadata": {},
     "output_type": "display_data"
    },
    {
     "data": {
      "text/plain": [
       "[[Add (I 3) (Add (I 3) (I 4)),Add (Add (I 1) (I 2)) (I 7)],[I 3]]"
      ]
     },
     "metadata": {},
     "output_type": "display_data"
    }
   ],
   "source": [
    "es0 = [e0, I 1 `Add` I 2] -- 산술식 리스트\n",
    "ess1 = [step e | e <- es0] -- 산술식 리스트의 리스트\n",
    ":type es0\n",
    ":type ess1\n",
    "es0\n",
    "ess1"
   ]
  },
  {
   "cell_type": "code",
   "execution_count": 23,
   "id": "a94980d9-2c82-47fc-b625-9f942ab22d5b",
   "metadata": {},
   "outputs": [],
   "source": [
    "stepList :: [Expr] -> [[Expr]]\n",
    "stepList es = [step e | e <- es]"
   ]
  },
  {
   "cell_type": "code",
   "execution_count": 24,
   "id": "89e56c43-2d70-4dbb-b704-69f7fcc19de2",
   "metadata": {},
   "outputs": [
    {
     "data": {
      "text/plain": [
       "[Add (Add (I 1) (I 2)) (Add (I 3) (I 4)),Add (I 1) (I 2)]"
      ]
     },
     "metadata": {},
     "output_type": "display_data"
    },
    {
     "data": {
      "text/plain": [
       "[[Add (I 3) (Add (I 3) (I 4)),Add (Add (I 1) (I 2)) (I 7)],[I 3]]"
      ]
     },
     "metadata": {},
     "output_type": "display_data"
    }
   ],
   "source": [
    "es0\n",
    "stepList es0"
   ]
  },
  {
   "cell_type": "code",
   "execution_count": 25,
   "id": "7943286e-d9fb-4e00-a803-a1bc6d0532b3",
   "metadata": {},
   "outputs": [
    {
     "data": {
      "text/plain": [
       "[1,2,3,4,5,6]"
      ]
     },
     "metadata": {},
     "output_type": "display_data"
    }
   ],
   "source": [
    "concat [ [1,2,3], [4,5], [6] ] -- 2겹 리스트를 이어붙여 1겹 리스트로"
   ]
  },
  {
   "cell_type": "markdown",
   "id": "a0668f31-23a0-4456-a692-88a0b465b7fd",
   "metadata": {},
   "source": [
    "`concat [es1,es2,es3] = es1 ++ es2 ++ es3`와 같이 동작하는 하스켈 표준 라이브러리 함수 `concat :: [[a]] -> [a]`을 이용하면,\n",
    "`step`의 정의역 `Expr`을 `[Expr]`로 확장한 함수 `step'`을 간단히 정의할 수 있다."
   ]
  },
  {
   "cell_type": "code",
   "execution_count": 26,
   "id": "30fa00d6-4c0c-45a8-887b-483aa4cc9d25",
   "metadata": {},
   "outputs": [],
   "source": [
    "step' :: [Expr] -> [Expr]\n",
    "step' es = concat [step e | e <- es]"
   ]
  },
  {
   "cell_type": "code",
   "execution_count": 27,
   "id": "f5939d93-4e6c-4a20-b2fa-6c300af6d8ed",
   "metadata": {},
   "outputs": [
    {
     "data": {
      "text/plain": [
       "[Add (Add (I 1) (I 2)) (Add (I 3) (I 4))]"
      ]
     },
     "metadata": {},
     "output_type": "display_data"
    },
    {
     "data": {
      "text/plain": [
       "[Add (I 3) (Add (I 3) (I 4)),Add (Add (I 1) (I 2)) (I 7)]"
      ]
     },
     "metadata": {},
     "output_type": "display_data"
    },
    {
     "data": {
      "text/plain": [
       "[Add (I 3) (I 7),Add (I 3) (I 7)]"
      ]
     },
     "metadata": {},
     "output_type": "display_data"
    },
    {
     "data": {
      "text/plain": [
       "[I 10,I 10]"
      ]
     },
     "metadata": {},
     "output_type": "display_data"
    }
   ],
   "source": [
    "[e0]  -- 식 하나만으로 이루어진 리스트로 시작\n",
    "step' [e0]                 -- e0에서 1걸음\n",
    "step' (step' [e0])         -- e0에서 2걸음\n",
    "step' (step' (step' [e0])) -- e0에서 3걸음"
   ]
  },
  {
   "cell_type": "markdown",
   "id": "14467295-bffb-4420-afcb-ea9a7b444587",
   "metadata": {},
   "source": [
    "산술식의 계산은 그 과정이 여러갈래로 나누어지더라도 하나의 같은 결과로 수렴하는 수렴성이 있다.\n",
    "리스트를 내용에 관계없이 그냥 이어붙이는 `++` 연산을 이용하는 `step'`을 연쇄적으로\n",
    "적용하는 과정에서 `Add (I 3) (I 7)`이나 `I 10`이 중복되어 나타난다.\n",
    "표준 라이브러리 `Data.List` 모듈로부터 리스트에서 중복된 원소를 제거한 새로운 리스트를 계산하는\n",
    "함수 `nub`을 불러들여 활용하면 중복 없는 리스트를 계산하도록 `step'`을 다시 정의해 볼 수도 있다."
   ]
  },
  {
   "cell_type": "code",
   "execution_count": 28,
   "id": "6b745634-ec82-494a-a040-c0aa76e53ab4",
   "metadata": {},
   "outputs": [
    {
     "data": {
      "text/plain": [
       "[1,2,3,4,5]"
      ]
     },
     "metadata": {},
     "output_type": "display_data"
    },
    {
     "data": {
      "text/plain": [
       "[I 10]"
      ]
     },
     "metadata": {},
     "output_type": "display_data"
    }
   ],
   "source": [
    "import Data.List (nub)\n",
    "nub [1,2,3,2,4,3,5,1]\n",
    "nub [I 10, I 10]"
   ]
  },
  {
   "cell_type": "code",
   "execution_count": 29,
   "id": "a10e4919-af0c-41e6-a9f2-1a8392dbc7b9",
   "metadata": {},
   "outputs": [],
   "source": [
    "step' :: [Expr] -> [Expr]\n",
    "step' es = nub (concat [step e | e <- es])"
   ]
  },
  {
   "cell_type": "code",
   "execution_count": 30,
   "id": "079ef264-369c-44a2-8d92-a3c00edc0cea",
   "metadata": {},
   "outputs": [
    {
     "data": {
      "text/plain": [
       "[Add (Add (I 1) (I 2)) (Add (I 3) (I 4))]"
      ]
     },
     "metadata": {},
     "output_type": "display_data"
    },
    {
     "data": {
      "text/plain": [
       "[Add (I 3) (Add (I 3) (I 4)),Add (Add (I 1) (I 2)) (I 7)]"
      ]
     },
     "metadata": {},
     "output_type": "display_data"
    },
    {
     "data": {
      "text/plain": [
       "[Add (I 3) (I 7)]"
      ]
     },
     "metadata": {},
     "output_type": "display_data"
    },
    {
     "data": {
      "text/plain": [
       "[I 10]"
      ]
     },
     "metadata": {},
     "output_type": "display_data"
    }
   ],
   "source": [
    "[e0] -- 식 하나만으로 이루어진 리스트로 시작\n",
    "step' it   -- e0에서 1걸음 (it은 직전 실행한 식의 결과값)\n",
    "step' it   -- e0에서 2걸음 (it은 직전 실행한 식의 결과값)\n",
    "step' it   -- e0에서 3걸음 (it은 직전 실행한 식의 결과값)"
   ]
  },
  {
   "cell_type": "markdown",
   "id": "5e56c4aa-1aed-4d2d-8a29-986694f876a1",
   "metadata": {},
   "source": [
    "## 고차함수(higher-order function)\n",
    "\\index{고차함수|see{higher-order function}}\\index{higher-order function|see{고차함수}} `step`을 확장한 `step'`은 일반적으로 함수 $f:A\\to 2^A$를 $\\hat{f}:2^A\\to 2^A$로 확장하는\n",
    "특별한 사례일 뿐이다. 그렇다면 일반적으로 함수에 적용해 확장된 함수를 계산하는\n",
    "$\\hat{\\cdot}:(A\\to 2^A)\\to(2^A\\to 2^A)$ 연산 자체를 하스켈 프로그램으로 표현할 수는 없을까?\n",
    "하스켈과 같은 함수형 언어에서는 너무나 당연하고 자연스럽게 아래와 같이 가능하다."
   ]
  },
  {
   "cell_type": "code",
   "execution_count": 31,
   "id": "a98d8b67-8ca6-4f18-9df9-9d3fb10abde7",
   "metadata": {},
   "outputs": [],
   "source": [
    "hat f = \\es -> nub (concat [f e | e <- es])"
   ]
  },
  {
   "cell_type": "code",
   "execution_count": 32,
   "id": "1099f655-5eba-4478-bf90-9579d2d71292",
   "metadata": {},
   "outputs": [
    {
     "data": {
      "text/html": [
       "<style>/* Styles used for the Hoogle display in the pager */\n",
       ".hoogle-doc {\n",
       "display: block;\n",
       "padding-bottom: 1.3em;\n",
       "padding-left: 0.4em;\n",
       "}\n",
       ".hoogle-code {\n",
       "display: block;\n",
       "font-family: monospace;\n",
       "white-space: pre;\n",
       "}\n",
       ".hoogle-text {\n",
       "display: block;\n",
       "}\n",
       ".hoogle-name {\n",
       "color: green;\n",
       "font-weight: bold;\n",
       "}\n",
       ".hoogle-head {\n",
       "font-weight: bold;\n",
       "}\n",
       ".hoogle-sub {\n",
       "display: block;\n",
       "margin-left: 0.4em;\n",
       "}\n",
       ".hoogle-package {\n",
       "font-weight: bold;\n",
       "font-style: italic;\n",
       "}\n",
       ".hoogle-module {\n",
       "font-weight: bold;\n",
       "}\n",
       ".hoogle-class {\n",
       "font-weight: bold;\n",
       "}\n",
       ".get-type {\n",
       "color: green;\n",
       "font-weight: bold;\n",
       "font-family: monospace;\n",
       "display: block;\n",
       "white-space: pre-wrap;\n",
       "}\n",
       ".show-type {\n",
       "color: green;\n",
       "font-weight: bold;\n",
       "font-family: monospace;\n",
       "margin-left: 1em;\n",
       "}\n",
       ".mono {\n",
       "font-family: monospace;\n",
       "display: block;\n",
       "}\n",
       ".err-msg {\n",
       "color: red;\n",
       "font-style: italic;\n",
       "font-family: monospace;\n",
       "white-space: pre;\n",
       "display: block;\n",
       "}\n",
       "#unshowable {\n",
       "color: red;\n",
       "font-weight: bold;\n",
       "}\n",
       ".err-msg.in.collapse {\n",
       "padding-top: 0.7em;\n",
       "}\n",
       ".highlight-code {\n",
       "white-space: pre;\n",
       "font-family: monospace;\n",
       "}\n",
       ".suggestion-warning { \n",
       "font-weight: bold;\n",
       "color: rgb(200, 130, 0);\n",
       "}\n",
       ".suggestion-error { \n",
       "font-weight: bold;\n",
       "color: red;\n",
       "}\n",
       ".suggestion-name {\n",
       "font-weight: bold;\n",
       "}\n",
       "</style><span class='get-type'>step' :: [Expr] -> [Expr]</span>"
      ],
      "text/plain": [
       "step' :: [Expr] -> [Expr]"
      ]
     },
     "metadata": {},
     "output_type": "display_data"
    },
    {
     "data": {
      "text/plain": [
       "[Add (Add (I 1) (I 2)) (Add (I 3) (I 4))]"
      ]
     },
     "metadata": {},
     "output_type": "display_data"
    },
    {
     "data": {
      "text/plain": [
       "[Add (I 3) (Add (I 3) (I 4)),Add (Add (I 1) (I 2)) (I 7)]"
      ]
     },
     "metadata": {},
     "output_type": "display_data"
    },
    {
     "data": {
      "text/plain": [
       "[Add (I 3) (I 7)]"
      ]
     },
     "metadata": {},
     "output_type": "display_data"
    },
    {
     "data": {
      "text/plain": [
       "[I 10]"
      ]
     },
     "metadata": {},
     "output_type": "display_data"
    }
   ],
   "source": [
    "step' = hat step  -- hat으로 step' 선언\n",
    ":type step'\n",
    "[e0]  -- 식 하나만으로 이루어진 리스트로 시작\n",
    "step' [e0]                 -- e0에서 1걸음\n",
    "step' (step' [e0])         -- e0에서 2걸음\n",
    "step' (step' (step' [e0])) -- e0에서 3걸음"
   ]
  },
  {
   "cell_type": "markdown",
   "id": "f230693d-0a5b-41ad-9739-6c626a946d2a",
   "metadata": {},
   "source": [
    "하스켈과 같은 함수형 언어에서는 `hat`처럼 함수를 인자로 받는 함수를 고차함수라고 한다.\n",
    "참고로, 커리된 함수를 자연스럽게 다루지 못하는 프로그래밍언어에서는 함수를 인자로 받지 않더라도\n",
    "함수의 결과값이 함수이면 고차함수라고 부르기도 한다.\n",
    "하스켈처럼 커리하기(currying)를 잘 지원하고 장려하는 언어에서는\n",
    "대부분 함수를 커리된 함수로 정의하므로 함수가 결과값인 함수는\n",
    "너무나 보편적이라 따로 분류해 생각할 필요조차 없다."
   ]
  },
  {
   "cell_type": "markdown",
   "id": "38efd3a9-dade-4c39-b006-edaa5d139a20",
   "metadata": {},
   "source": [
    "중고교 수학과정을 통해 친숙한 대표적인 고차함수는 바로\n",
    "함수 합성 연산자 $\\cdot\\circ\\cdot : (B\\to C) \\to (A\\to B) \\to (A\\to C)$로,\n",
    "$g:B\\to C$와 $f:A\\to B$의 합성함수 $h = g\\circ f$는 $h(x) = g(f(x))$와 같이 동작하는 함수다.\n",
    "하스켈에 표준 라이브러리에서는 함수 합성 연산자 `(.) :: (b -> c) -> (a -> b) -> (a -> c)`를 제공한다."
   ]
  },
  {
   "cell_type": "code",
   "execution_count": 33,
   "id": "4072975a-213c-4a2a-84b7-8ab816f08727",
   "metadata": {},
   "outputs": [
    {
     "data": {
      "text/html": [
       "<style>/* Styles used for the Hoogle display in the pager */\n",
       ".hoogle-doc {\n",
       "display: block;\n",
       "padding-bottom: 1.3em;\n",
       "padding-left: 0.4em;\n",
       "}\n",
       ".hoogle-code {\n",
       "display: block;\n",
       "font-family: monospace;\n",
       "white-space: pre;\n",
       "}\n",
       ".hoogle-text {\n",
       "display: block;\n",
       "}\n",
       ".hoogle-name {\n",
       "color: green;\n",
       "font-weight: bold;\n",
       "}\n",
       ".hoogle-head {\n",
       "font-weight: bold;\n",
       "}\n",
       ".hoogle-sub {\n",
       "display: block;\n",
       "margin-left: 0.4em;\n",
       "}\n",
       ".hoogle-package {\n",
       "font-weight: bold;\n",
       "font-style: italic;\n",
       "}\n",
       ".hoogle-module {\n",
       "font-weight: bold;\n",
       "}\n",
       ".hoogle-class {\n",
       "font-weight: bold;\n",
       "}\n",
       ".get-type {\n",
       "color: green;\n",
       "font-weight: bold;\n",
       "font-family: monospace;\n",
       "display: block;\n",
       "white-space: pre-wrap;\n",
       "}\n",
       ".show-type {\n",
       "color: green;\n",
       "font-weight: bold;\n",
       "font-family: monospace;\n",
       "margin-left: 1em;\n",
       "}\n",
       ".mono {\n",
       "font-family: monospace;\n",
       "display: block;\n",
       "}\n",
       ".err-msg {\n",
       "color: red;\n",
       "font-style: italic;\n",
       "font-family: monospace;\n",
       "white-space: pre;\n",
       "display: block;\n",
       "}\n",
       "#unshowable {\n",
       "color: red;\n",
       "font-weight: bold;\n",
       "}\n",
       ".err-msg.in.collapse {\n",
       "padding-top: 0.7em;\n",
       "}\n",
       ".highlight-code {\n",
       "white-space: pre;\n",
       "font-family: monospace;\n",
       "}\n",
       ".suggestion-warning { \n",
       "font-weight: bold;\n",
       "color: rgb(200, 130, 0);\n",
       "}\n",
       ".suggestion-error { \n",
       "font-weight: bold;\n",
       "color: red;\n",
       "}\n",
       ".suggestion-name {\n",
       "font-weight: bold;\n",
       "}\n",
       "</style><span class='get-type'>(.) :: forall b c a. (b -> c) -> (a -> b) -> a -> c</span>"
      ],
      "text/plain": [
       "(.) :: forall b c a. (b -> c) -> (a -> b) -> a -> c"
      ]
     },
     "metadata": {},
     "output_type": "display_data"
    }
   ],
   "source": [
    ":type (.)"
   ]
  },
  {
   "cell_type": "code",
   "execution_count": 34,
   "id": "53ecd08a-4706-4337-a2a4-6b0a71671562",
   "metadata": {},
   "outputs": [
    {
     "data": {
      "text/html": [
       "<style>/* Styles used for the Hoogle display in the pager */\n",
       ".hoogle-doc {\n",
       "display: block;\n",
       "padding-bottom: 1.3em;\n",
       "padding-left: 0.4em;\n",
       "}\n",
       ".hoogle-code {\n",
       "display: block;\n",
       "font-family: monospace;\n",
       "white-space: pre;\n",
       "}\n",
       ".hoogle-text {\n",
       "display: block;\n",
       "}\n",
       ".hoogle-name {\n",
       "color: green;\n",
       "font-weight: bold;\n",
       "}\n",
       ".hoogle-head {\n",
       "font-weight: bold;\n",
       "}\n",
       ".hoogle-sub {\n",
       "display: block;\n",
       "margin-left: 0.4em;\n",
       "}\n",
       ".hoogle-package {\n",
       "font-weight: bold;\n",
       "font-style: italic;\n",
       "}\n",
       ".hoogle-module {\n",
       "font-weight: bold;\n",
       "}\n",
       ".hoogle-class {\n",
       "font-weight: bold;\n",
       "}\n",
       ".get-type {\n",
       "color: green;\n",
       "font-weight: bold;\n",
       "font-family: monospace;\n",
       "display: block;\n",
       "white-space: pre-wrap;\n",
       "}\n",
       ".show-type {\n",
       "color: green;\n",
       "font-weight: bold;\n",
       "font-family: monospace;\n",
       "margin-left: 1em;\n",
       "}\n",
       ".mono {\n",
       "font-family: monospace;\n",
       "display: block;\n",
       "}\n",
       ".err-msg {\n",
       "color: red;\n",
       "font-style: italic;\n",
       "font-family: monospace;\n",
       "white-space: pre;\n",
       "display: block;\n",
       "}\n",
       "#unshowable {\n",
       "color: red;\n",
       "font-weight: bold;\n",
       "}\n",
       ".err-msg.in.collapse {\n",
       "padding-top: 0.7em;\n",
       "}\n",
       ".highlight-code {\n",
       "white-space: pre;\n",
       "font-family: monospace;\n",
       "}\n",
       ".suggestion-warning { \n",
       "font-weight: bold;\n",
       "color: rgb(200, 130, 0);\n",
       "}\n",
       ".suggestion-error { \n",
       "font-weight: bold;\n",
       "color: red;\n",
       "}\n",
       ".suggestion-name {\n",
       "font-weight: bold;\n",
       "}\n",
       "</style><span class='get-type'>\\(x :: Int) -> [x, x+1, x+2] :: Int -> [Int]</span>"
      ],
      "text/plain": [
       "\\(x :: Int) -> [x, x+1, x+2] :: Int -> [Int]"
      ]
     },
     "metadata": {},
     "output_type": "display_data"
    },
    {
     "data": {
      "text/html": [
       "<style>/* Styles used for the Hoogle display in the pager */\n",
       ".hoogle-doc {\n",
       "display: block;\n",
       "padding-bottom: 1.3em;\n",
       "padding-left: 0.4em;\n",
       "}\n",
       ".hoogle-code {\n",
       "display: block;\n",
       "font-family: monospace;\n",
       "white-space: pre;\n",
       "}\n",
       ".hoogle-text {\n",
       "display: block;\n",
       "}\n",
       ".hoogle-name {\n",
       "color: green;\n",
       "font-weight: bold;\n",
       "}\n",
       ".hoogle-head {\n",
       "font-weight: bold;\n",
       "}\n",
       ".hoogle-sub {\n",
       "display: block;\n",
       "margin-left: 0.4em;\n",
       "}\n",
       ".hoogle-package {\n",
       "font-weight: bold;\n",
       "font-style: italic;\n",
       "}\n",
       ".hoogle-module {\n",
       "font-weight: bold;\n",
       "}\n",
       ".hoogle-class {\n",
       "font-weight: bold;\n",
       "}\n",
       ".get-type {\n",
       "color: green;\n",
       "font-weight: bold;\n",
       "font-family: monospace;\n",
       "display: block;\n",
       "white-space: pre-wrap;\n",
       "}\n",
       ".show-type {\n",
       "color: green;\n",
       "font-weight: bold;\n",
       "font-family: monospace;\n",
       "margin-left: 1em;\n",
       "}\n",
       ".mono {\n",
       "font-family: monospace;\n",
       "display: block;\n",
       "}\n",
       ".err-msg {\n",
       "color: red;\n",
       "font-style: italic;\n",
       "font-family: monospace;\n",
       "white-space: pre;\n",
       "display: block;\n",
       "}\n",
       "#unshowable {\n",
       "color: red;\n",
       "font-weight: bold;\n",
       "}\n",
       ".err-msg.in.collapse {\n",
       "padding-top: 0.7em;\n",
       "}\n",
       ".highlight-code {\n",
       "white-space: pre;\n",
       "font-family: monospace;\n",
       "}\n",
       ".suggestion-warning { \n",
       "font-weight: bold;\n",
       "color: rgb(200, 130, 0);\n",
       "}\n",
       ".suggestion-error { \n",
       "font-weight: bold;\n",
       "color: red;\n",
       "}\n",
       ".suggestion-name {\n",
       "font-weight: bold;\n",
       "}\n",
       "</style><span class='get-type'>\\(xs::[Int]) -> [(x,x^2) | x <- xs] :: [Int] -> [(Int, Int)]</span>"
      ],
      "text/plain": [
       "\\(xs::[Int]) -> [(x,x^2) | x <- xs] :: [Int] -> [(Int, Int)]"
      ]
     },
     "metadata": {},
     "output_type": "display_data"
    }
   ],
   "source": [
    ":type \\(x :: Int) -> [x, x+1, x+2]\n",
    ":type \\(xs::[Int]) -> [(x,x^2) | x <- xs]"
   ]
  },
  {
   "cell_type": "code",
   "execution_count": 35,
   "id": "27142207-46a1-451f-82fa-ccde5f116843",
   "metadata": {},
   "outputs": [
    {
     "data": {
      "text/html": [
       "<style>/* Styles used for the Hoogle display in the pager */\n",
       ".hoogle-doc {\n",
       "display: block;\n",
       "padding-bottom: 1.3em;\n",
       "padding-left: 0.4em;\n",
       "}\n",
       ".hoogle-code {\n",
       "display: block;\n",
       "font-family: monospace;\n",
       "white-space: pre;\n",
       "}\n",
       ".hoogle-text {\n",
       "display: block;\n",
       "}\n",
       ".hoogle-name {\n",
       "color: green;\n",
       "font-weight: bold;\n",
       "}\n",
       ".hoogle-head {\n",
       "font-weight: bold;\n",
       "}\n",
       ".hoogle-sub {\n",
       "display: block;\n",
       "margin-left: 0.4em;\n",
       "}\n",
       ".hoogle-package {\n",
       "font-weight: bold;\n",
       "font-style: italic;\n",
       "}\n",
       ".hoogle-module {\n",
       "font-weight: bold;\n",
       "}\n",
       ".hoogle-class {\n",
       "font-weight: bold;\n",
       "}\n",
       ".get-type {\n",
       "color: green;\n",
       "font-weight: bold;\n",
       "font-family: monospace;\n",
       "display: block;\n",
       "white-space: pre-wrap;\n",
       "}\n",
       ".show-type {\n",
       "color: green;\n",
       "font-weight: bold;\n",
       "font-family: monospace;\n",
       "margin-left: 1em;\n",
       "}\n",
       ".mono {\n",
       "font-family: monospace;\n",
       "display: block;\n",
       "}\n",
       ".err-msg {\n",
       "color: red;\n",
       "font-style: italic;\n",
       "font-family: monospace;\n",
       "white-space: pre;\n",
       "display: block;\n",
       "}\n",
       "#unshowable {\n",
       "color: red;\n",
       "font-weight: bold;\n",
       "}\n",
       ".err-msg.in.collapse {\n",
       "padding-top: 0.7em;\n",
       "}\n",
       ".highlight-code {\n",
       "white-space: pre;\n",
       "font-family: monospace;\n",
       "}\n",
       ".suggestion-warning { \n",
       "font-weight: bold;\n",
       "color: rgb(200, 130, 0);\n",
       "}\n",
       ".suggestion-error { \n",
       "font-weight: bold;\n",
       "color: red;\n",
       "}\n",
       ".suggestion-name {\n",
       "font-weight: bold;\n",
       "}\n",
       "</style><span class='get-type'>h1 :: Int -> [(Int, Int)]</span>"
      ],
      "text/plain": [
       "h1 :: Int -> [(Int, Int)]"
      ]
     },
     "metadata": {},
     "output_type": "display_data"
    }
   ],
   "source": [
    "f1 = \\(x :: Int) -> [x, x+1, x+2]\n",
    "g1 = \\(xs::[Int]) -> [(x,x^2) | x <- xs]\n",
    "h1 = g1 . f1\n",
    ":type h1"
   ]
  },
  {
   "cell_type": "code",
   "execution_count": 36,
   "id": "f747f2ba-d183-4738-8c9b-1a1b09e1075f",
   "metadata": {},
   "outputs": [
    {
     "data": {
      "text/plain": [
       "[3,4,5]"
      ]
     },
     "metadata": {},
     "output_type": "display_data"
    },
    {
     "data": {
      "text/plain": [
       "[(3,9),(4,16),(5,25)]"
      ]
     },
     "metadata": {},
     "output_type": "display_data"
    },
    {
     "data": {
      "text/plain": [
       "[(3,9),(4,16),(5,25)]"
      ]
     },
     "metadata": {},
     "output_type": "display_data"
    }
   ],
   "source": [
    "f1 3\n",
    "g1(f1 3)\n",
    "h1 3"
   ]
  },
  {
   "cell_type": "markdown",
   "id": "2f0d00e7-57b9-4db8-8be4-080b8fed3e77",
   "metadata": {},
   "source": [
    "\\noindent\n",
    "논리부정 `not :: Bool -> Bool`과\n",
    "빈 리스트인지 검사하는 `null :: [a] -> Bool`의 합성\n",
    "`(not . null) :: [a] -> Bool`은 채워진 리스트인지 검사한다."
   ]
  },
  {
   "cell_type": "code",
   "execution_count": 37,
   "id": "2493861c-a775-4f25-a31f-9b6a3b0c2bfe",
   "metadata": {},
   "outputs": [
    {
     "data": {
      "text/plain": [
       "False"
      ]
     },
     "metadata": {},
     "output_type": "display_data"
    },
    {
     "data": {
      "text/plain": [
       "True"
      ]
     },
     "metadata": {},
     "output_type": "display_data"
    }
   ],
   "source": [
    "null [1,2]\n",
    "null []"
   ]
  },
  {
   "cell_type": "code",
   "execution_count": 38,
   "id": "e8ad541f-a7ec-4acb-9d3f-53fb2c193074",
   "metadata": {},
   "outputs": [
    {
     "data": {
      "text/plain": [
       "True"
      ]
     },
     "metadata": {},
     "output_type": "display_data"
    },
    {
     "data": {
      "text/plain": [
       "False"
      ]
     },
     "metadata": {},
     "output_type": "display_data"
    }
   ],
   "source": [
    "(not . null) [1,2]\n",
    "(not . null) []"
   ]
  },
  {
   "cell_type": "markdown",
   "id": "d2948dc2-c962-4b69-aed8-c40fd97d1b73",
   "metadata": {},
   "source": [
    "### 리스트를 다루는 고차함수\n",
    "고차함수가 아닌 표준 라이브러리 함수 `take, drop :: Int -> [a] -> [a]`는\n",
    "특정 개수만큼의 원소로 이루어진 앞부분과 그 앞부분을 제외한 나머지 리스트를\n",
    "아래와 같이 계산한다. 참고로 하스켈은 게으른 계산법을 따르므로\n",
    "무한 리스트를 다루는 계산도 표현 가능하며, 무한 리스트로부터\n",
    "필요로 하는 만큼의 유한한 내용만 최종적인 결과로 유도하는\n",
    "실용적인 계산 과정에 활용할 수 있다."
   ]
  },
  {
   "cell_type": "code",
   "execution_count": 39,
   "id": "90d93db4-932a-4154-b35d-96cc6ac16f4b",
   "metadata": {},
   "outputs": [
    {
     "data": {
      "text/plain": [
       "[1,3,5]"
      ]
     },
     "metadata": {},
     "output_type": "display_data"
    },
    {
     "data": {
      "text/plain": [
       "[7,9]"
      ]
     },
     "metadata": {},
     "output_type": "display_data"
    },
    {
     "data": {
      "text/plain": [
       "[1,2,3]"
      ]
     },
     "metadata": {},
     "output_type": "display_data"
    }
   ],
   "source": [
    "take 3 [1,3,5,7,9] -- 유한한 리스트의 앞부분 3개\n",
    "drop 3 [1,3,5,7,9] -- 앞부분 3개를 제외한 나머지\n",
    "take 3 [1..]       -- 무한한 리스트의 앞부분 3개\n",
    "-- drop 3 [1..]    -- 이걸 실행하면 무한 리스트 [4..]"
   ]
  },
  {
   "cell_type": "markdown",
   "id": "b6f2090b-48bf-4add-9d6b-1b2c15902509",
   "metadata": {},
   "source": [
    "\\noindent\n",
    "고차함수 `takeWhile, dropWhile :: (a -> Bool) -> [a] -> [a]`는 개수 대신\n",
    "특정 조건을 검사하는 함수를 인자로 받아 그 조건이 유지되는 앞부분과\n",
    "그 앞부분을 제외한 나머지 리스트를 아래와 같이 계산한다."
   ]
  },
  {
   "cell_type": "code",
   "execution_count": 40,
   "id": "68b0b45a-2072-401a-85c4-82885f87f9c7",
   "metadata": {},
   "outputs": [
    {
     "data": {
      "text/plain": [
       "[1,3,5]"
      ]
     },
     "metadata": {},
     "output_type": "display_data"
    },
    {
     "data": {
      "text/plain": [
       "[7,9]"
      ]
     },
     "metadata": {},
     "output_type": "display_data"
    },
    {
     "data": {
      "text/plain": [
       "[1,2,3,4,5]"
      ]
     },
     "metadata": {},
     "output_type": "display_data"
    }
   ],
   "source": [
    "takeWhile (\\x -> x<6) [1,3,5,7,9] -- 유한 리스트의 6미만으로 유지되는 앞부분\n",
    "dropWhile (\\x -> x<6) [1,3,5,7,9] -- 6미만이 유지되는 앞부분을 제외한 나머지\n",
    "takeWhile (\\x -> x<6) [1..]       -- 무한 리스트의 6미만으로 유지되는 앞부분\n",
    "-- dropWhile (\\x -> x<6) [1..]    -- 이걸 실행하면 무한 리스트 [7..]"
   ]
  },
  {
   "cell_type": "markdown",
   "id": "6799563b-c009-4d14-900b-4984804f552c",
   "metadata": {},
   "source": [
    "고차함수 `iterate :: (a -> a) -> a -> [a]`는 주어진 함수를 특정 초기값에 반복해서\n",
    "연쇄적으로 적용한 각 단계의 계산 결과를 나열하는 무한 리스트를 만들어낸다. 즉,\n",
    "`iterate f x = [x, f x, f(f x), f(f(f x)), ... ]`처럼 동작한다.\n",
    "예컨대, 1로 시작하는 등비 2의 무한 수열을 `iterate (\\x -> x*2) 1`로 나타낼 수 있다.\n",
    "그 중 앞부분 12개만 취해 보면 다음과 같다."
   ]
  },
  {
   "cell_type": "code",
   "execution_count": 41,
   "id": "5006905b-08d0-499d-9b17-8648898f6195",
   "metadata": {},
   "outputs": [
    {
     "data": {
      "text/plain": [
       "[1,2,4,8,16,32,64,128,256,512,1024,2048]"
      ]
     },
     "metadata": {},
     "output_type": "display_data"
    }
   ],
   "source": [
    "take 12 (iterate (\\x -> x*2) 1)"
   ]
  },
  {
   "cell_type": "markdown",
   "id": "8aedef29-1bfb-40f8-a049-4f5e379b573d",
   "metadata": {},
   "source": [
    "확장된 작은걸음 함수 `step'`에 `iterate`를 적용하여 각 단계의 작은걸음 계산 결과를 나열하는 무한 리스트를 만들어낼 수 있다. 적절한 개수의 앞부분을 `take`로 취해 보면 계산이 완료되어 더 이상 진행할 수 없는 단계부터는 빈 리스트가 계속 나타남을 확인할 수 있다. 따라서 비어있지 않은 채워진 리스트라는 조건(`not . null`)이 유지되는 앞부분만 `takeWhile`로 취하면 산술식의 작은걸음 계산이 완료되는 단계까지만을 나열한 산술식 리스트의 리스트를 얻을 수 있다."
   ]
  },
  {
   "cell_type": "code",
   "execution_count": 42,
   "id": "9cd540f0-7ad5-4caa-88df-b13d70563ef0",
   "metadata": {},
   "outputs": [
    {
     "data": {
      "text/plain": [
       "[[Add (Add (I 1) (I 2)) (Add (I 3) (I 4))],[Add (I 3) (Add (I 3) (I 4)),Add (Add (I 1) (I 2)) (I 7)],[Add (I 3) (I 7)],[I 10],[],[],[],[],[],[]]"
      ]
     },
     "metadata": {},
     "output_type": "display_data"
    },
    {
     "data": {
      "text/plain": [
       "[[Add (Add (I 1) (I 2)) (Add (I 3) (I 4))],[Add (I 3) (Add (I 3) (I 4)),Add (Add (I 1) (I 2)) (I 7)],[Add (I 3) (I 7)],[I 10]]"
      ]
     },
     "metadata": {},
     "output_type": "display_data"
    }
   ],
   "source": [
    "take 10                (iterate step' [e0])\n",
    "takeWhile (not . null) (iterate step' [e0])"
   ]
  },
  {
   "cell_type": "code",
   "execution_count": 43,
   "id": "58c6241a-9ac0-441b-88cf-efb9e117886c",
   "metadata": {},
   "outputs": [
    {
     "data": {
      "text/plain": [
       "1\n",
       "2\n",
       "3"
      ]
     },
     "metadata": {},
     "output_type": "display_data"
    }
   ],
   "source": [
    "mapM_ print [1,2,3] -- 리스트의 각 원소를 한줄씩 출력해 보려면 이렇게"
   ]
  },
  {
   "cell_type": "code",
   "execution_count": 44,
   "id": "98628654-cba9-4a5c-86c5-3fbb251404f3",
   "metadata": {},
   "outputs": [
    {
     "data": {
      "text/plain": [
       "[Add (Add (I 1) (I 2)) (Add (I 3) (I 4))]\n",
       "[Add (I 3) (Add (I 3) (I 4)),Add (Add (I 1) (I 2)) (I 7)]\n",
       "[Add (I 3) (I 7)]\n",
       "[I 10]"
      ]
     },
     "metadata": {},
     "output_type": "display_data"
    }
   ],
   "source": [
    "mapM_ print (takeWhile (not . null) (iterate step' [e0]))"
   ]
  },
  {
   "cell_type": "markdown",
   "id": "762203cd-0541-4420-b211-1255942cccd6",
   "metadata": {},
   "source": [
    "# 결정적 작은걸음 의미구조\n",
    "\\index{작은걸음 의미구조}\\index{small-step semantics}\\index{결정적 의미구조}\\index{deterministic semantics} 항상 왼쪽을 우선하며 핵심적인 계산($n_1+n_2\\xmapsto{~_L~} n$)을 진행하는\n",
    "산술식의 결정적 작은걸음 의미구조($\\xmapsto{~_L~}$)를 다음과 같이 정의할 수 있다.\n",
    "$$\n",
    "\\frac{~ ~}{~ n_1 + n_2 \\xmapsto{~_L~} n ~}\n",
    "{\\scriptstyle(\\,n\\;\\equiv\\;n_1\\,+\\,n_2\\,)}\n",
    "\\quad\n",
    "\\frac{~ e_1 \\xmapsto{~_L~} e_1' ~}{~ e_1 + e_2 \\xmapsto{~_L~} e_1' + e_2 ~}\n",
    "\\quad\n",
    "\\frac{~ e_2 \\xmapsto{~_L~} e_2' ~}{~ n_1 + e_2 \\xmapsto{~_L~} n_1 + e_2' ~}\n",
    "$$\n",
    "이 장 앞부분에 소개했던 비결정적 의미구조 $\\longmapsto$과 차이점은\n",
    "마지막 규칙에서 덧셈식의 왼항이 계산이 완료된 정수값 형태($n_1$)일 때만\n",
    "오른항($e_2$)의 계산을 진행하도록 제한한다는 점이다. 위의 의미구조\n",
    "$\\xmapsto{~_L~}$은 모든 산술식에 대해 단 하나의 규칙만이 대응된다.\n",
    "덧셈식의 양쪽 항이 모두 정수값 형태인 경우는 첫째 규칙만,\n",
    "오른항의 계산이 완료되지 않은 형태의 식이면 둘째 규칙만,\n",
    "오른항이 정수값 형태이고 왼항이 계산이 완료되지 않은 형태의 식이면\n",
    "마지막 셋째 규칙만 적용 가능하다."
   ]
  },
  {
   "cell_type": "code",
   "execution_count": 45,
   "id": "7543ce54-1d53-4e2c-bc00-fe89510e4e18",
   "metadata": {},
   "outputs": [],
   "source": [
    "-- 제대로 동작하지 않는 검산기 구현 시도\n",
    "Add (I n1) (I n2) /..> I n          = n == n1 + n2             -- 첫째\n",
    "Add e1     e2 /..> Add e1'     e2'  = e1 /..> e1' && e2 == e2' -- 둘째\n",
    "Add (I n1) e2 /..> Add (I n1') e2'  = e2 /..> e2' && n1 == n1' -- 셋째\n",
    "_             /..> _                = False  -- 다른 경우에는 진행 불가"
   ]
  },
  {
   "cell_type": "markdown",
   "id": "3dd8b118-4bf1-4b9c-91bb-0b04dd482224",
   "metadata": {},
   "source": [
    "\\noindent\n",
    "작은걸음 규칙을 차례대로 하스켈 연산자 `/..>`로 선언하여 위와 같은 옮겨보면\n",
    "거의 올바른 듯이 보이지만 셋째 규칙을 구현한 등식이 제대로 동작하지 않는다."
   ]
  },
  {
   "cell_type": "code",
   "execution_count": 46,
   "id": "89fbf30c-8620-4452-b85b-53139e880550",
   "metadata": {},
   "outputs": [
    {
     "data": {
      "text/plain": [
       "True"
      ]
     },
     "metadata": {},
     "output_type": "display_data"
    },
    {
     "data": {
      "text/plain": [
       "True"
      ]
     },
     "metadata": {},
     "output_type": "display_data"
    },
    {
     "data": {
      "text/plain": [
       "False"
      ]
     },
     "metadata": {},
     "output_type": "display_data"
    }
   ],
   "source": [
    "Add (I 1) (I 2) /..> I 3 -- 검산 성공\n",
    "Add (I 1 `Add` I 2) (I 7) /..> Add (I 3) (I 7) -- 검산 성공\n",
    "Add (I 7) (I 1 `Add` I 2) /..> Add (I 7) (I 3) -- 검산 성공해야 하는데??"
   ]
  },
  {
   "cell_type": "markdown",
   "id": "bed2c160-6df9-40c7-ba6d-182a3e5324b0",
   "metadata": {},
   "source": [
    "\\noindent\n",
    "왜냐하면 `/..>`의 선언에서 둘째 등식의 왼쪽 매개변수 패턴 `Add e1 e2`가\n",
    "셋째 등식의 왼쪽 매개변수 패턴 `Add (I n1) e2`보다 일반적이라서,\n",
    "위에서부터 아래로 가장 먼저 맞춰지는 패턴에 따라 실행되기 때문에\n",
    "셋째 등식의 패턴에 맞춰질만한 인자는 모두 둘째 등식에서 이미 맞춰지므로\n",
    "둘째 등식이 실행되고 셋째 등식은 실행되는 경우가 없게 된다. 추론규칙의\n",
    "형태로 정의한 의미구조는 규칙이 배치된 순서와 무관하게 가능한 규칙을\n",
    "모두 적용하지만, 하스켈 프로그램은 위에서부터 아래 순서로 가장 먼저\n",
    "매칭되는 패턴에 해당하는 내용만 실행한다는 점에 유의해야 한다. 따라서\n",
    "아래와 같이 다시 더 구체적인 패턴을 다루는 둘째 규칙에 대한 등식이\n",
    "셋째 등식에 대한 규칙보다 앞서 나타나도록 정의해야 의미구조 $\\xmapsto{~_L~}$를\n",
    "추론규칙으로 정의한 의도한 대로 동작하게 된다."
   ]
  },
  {
   "cell_type": "code",
   "execution_count": 47,
   "id": "d3e1af87-1ee5-4d04-8107-c84f61ca7a95",
   "metadata": {},
   "outputs": [],
   "source": [
    "Add (I n1) (I n2) /..> I n          = n == n1 + n2             -- 첫째\n",
    "Add (I n1) e2 /..> Add (I n1') e2'  = e2 /..> e2' && n1 == n1' -- 셋째\n",
    "Add e1     e2 /..> Add e1'     e2'  = e1 /..> e1' && e2 == e2' -- 둘째"
   ]
  },
  {
   "cell_type": "code",
   "execution_count": 48,
   "id": "5202d966-3721-4d0b-ab9e-97fec8802d38",
   "metadata": {},
   "outputs": [
    {
     "data": {
      "text/plain": [
       "True"
      ]
     },
     "metadata": {},
     "output_type": "display_data"
    },
    {
     "data": {
      "text/plain": [
       "True"
      ]
     },
     "metadata": {},
     "output_type": "display_data"
    },
    {
     "data": {
      "text/plain": [
       "True"
      ]
     },
     "metadata": {},
     "output_type": "display_data"
    }
   ],
   "source": [
    "Add (I 1) (I 2) /..> I 3 -- 검산 성공\n",
    "Add (I 1 `Add` I 2) (I 7) /..> Add (I 3) (I 7) -- 검산 성공\n",
    "Add (I 7) (I 1 `Add` I 2) /..> Add (I 7) (I 3) -- 검산 성공!!"
   ]
  },
  {
   "cell_type": "code",
   "execution_count": 49,
   "id": "c00a8f8c-c35a-4947-89e6-35e1c91e4249",
   "metadata": {},
   "outputs": [],
   "source": [
    "stepL :: Expr -> [Expr]\n",
    "stepL (I n1) = []\n",
    "stepL (I n1 `Add` I n2) = undefined -- 계산기를\n",
    "stepL (I n1 `Add` e2)   = undefined -- 완성하는\n",
    "stepL (e1   `Add` e2)   = undefined -- 연습문제"
   ]
  },
  {
   "cell_type": "code",
   "execution_count": 50,
   "id": "bc1d290c-131c-4ac9-acf1-706709f53179",
   "metadata": {},
   "outputs": [],
   "source": [
    "-- 완성한 stepL을 적절히 테스트해 보라"
   ]
  },
  {
   "cell_type": "code",
   "execution_count": 51,
   "id": "3ae892d5-f00d-49b9-aa1c-cbe135da3647",
   "metadata": {},
   "outputs": [],
   "source": [
    "stepL' :: [Expr] -> [Expr]  -- 확장된 작은걸음 함수를\n",
    "stepL' es = undefined       -- 작성하는 연습문제 "
   ]
  },
  {
   "cell_type": "code",
   "execution_count": 52,
   "id": "40b518b2-4dae-4100-8711-2cf78ad93fff",
   "metadata": {},
   "outputs": [],
   "source": [
    "-- 작성한 stepL'를 적절히 테스트해 보라"
   ]
  },
  {
   "cell_type": "markdown",
   "id": "3ea92da1-8b6c-4bf1-9d34-5963f0efa86d",
   "metadata": {},
   "source": [
    "# 값계산 맥락(evaluation context)\n",
    "\\index{값계산 맥락|see{evaluation context}}\\index{evaluation context|see{값계산 맥락}} 문법구조의 각 요소마다 계산의 핵심 규칙을 어느 맥락에 적용할지 규정하는\n",
    "맥락규칙을 개별적인 추론규칙으로 작성하는 방식은 자리를 많이 차지하므로\n",
    "지면을 낭비하여 다양한 요소를 갖춘 문법구조를 다룰수록 한눈에 알아보기\n",
    "어려운 측면이 있다. 이 장에서 예시로 다루는 정수 리터럴과 덧셈만으로\n",
    "이루어진 산술식(`Expr`)은 간단한 예시를 만들고자 최소한의 요소만으로\n",
    "이루어져 있으므로 핵심 규칙 하나 외에 맥락 규칙은 두 개밖에 없다.\n",
    "하지만 여기에 순서쌍, 조건식 등 다양한 복합적 문법요소가 추가된다면\n",
    "각 요소마다 여러개의 맥락 규칙이 함께 추가되어야 한다.\n",
    "\n",
    "이렇게 핵심 규칙에 비해 맥락 규칙의 개수가 훨씬 많아지는\n",
    "의미구조 정의의 번잡함을 줄이고자, 맥락(context)이라는 개념을\n",
    "명시적으로 드러내 활용하며 개별적으로 작성하던 맥락 규칙들을\n",
    "하나의 맥락규칙으로 통합하여 나타내는 아래와 같은 작은걸음 의미구조의\n",
    "표현방식을\n",
    "\\index{맥락적 의미구조|see{contextual semantics}}\\index{contextual semantics|see{맥락적 의미구조}}\n",
    "\\`맥락적 의미구조'(contextual semantics)라 일컫는다.\n",
    "특히 계산식을 실행한 값을 다루는 의미구조에서\n",
    "이러한 맥락 $\\mathcal{E}$를 \\`값계산 맥락'이라고도 부른다.\n",
    "\\vspace*{-2ex}\n",
    "$$\n",
    "\\frac{~ ~}{~ n_1 + n_2 \\xmapsto{~_B~} n ~}\n",
    "{\\scriptstyle(\\,n\\;\\equiv\\;n_1\\,+\\,n_2\\,)}\n",
    "\\qquad\\qquad\n",
    "\\frac{~ e \\xmapsto{~_B~} e' ~}{~ \\mathcal{E}[\\,e\\,] \\xmapsto{~_C~} \\mathcal{E}[\\,e'] ~}\n",
    "$$\n",
    "맥락적 의미구조($\\xmapsto{~_C~}$)에서는 맥락 $\\mathcal{E}$를 어떻게 정의하느냐에\n",
    "따라 조금씩 다른 계산 우선순위를 따르는 의미구조가 정의된다.\n",
    "값계산 맥락을 \\ref{evctx:nd}로 정의하면 이 장의 첫머리에 소개한\n",
    "비결정적 의미구조($\\longmapsto$)와 일치하며 \\ref{evctx:l}로 정의하면\n",
    "왼쪽부터 계산하는 결정적 의미구조($\\xmapsto{~_L~}$)와 일치하게 된다.\n",
    "\\vspace*{-1ex}\n",
    "\\begin{align}\n",
    "\\mathcal{E} ::=\\;& \\bullet \\mid \\mathcal{E}+e \\mid e+\\mathcal{E} \n",
    "\\label{evctx:nd} \\\\\n",
    "\\mathcal{E} ::=\\;& \\bullet \\mid \\mathcal{E}+e \\mid n+\\mathcal{E}\n",
    "\\label{evctx:l}\n",
    "\\end{align}\n",
    "맥락 $\\mathcal{E}$를 직관적으로 설명하자면 산술식의 어떤 부분에\n",
    "원래 그 부분을 차지하고 있던 부분식 대신 구멍($\\bullet$)을 뚫어놓아\n",
    "필요하다면 원래 부분식과 다른 부분식을 그 차리에 채워넣을 수 있도록\n",
    "만들어 놓은 것으로 이해하면 된다. 그리고 위의 \\ref{evctx:nd}이나\n",
    "\\ref{evctx:l}같은 $\\mathcal{E}$의 정의는 어느 부분에 구멍을 뚫어도\n",
    "되는지 허용하는 귀납적인 규칙이다. $\\bullet$은 식 전체에,\n",
    "$\\mathcal{E}+e$는 덧셈식 왼쪽에 어딘가에,\n",
    "$e+\\mathcal{E}$는 덧셈식 오른쪽 어딘가에\n",
    "(귀납적 규칙에 따라) 구멍을 뚫을 수 있음을 나타내며,\n",
    "$n+\\mathcal{E}$은 덧셈식 왼쪽이 정수값인 경우에만 오른쪽 어딘가에\n",
    "(귀납적 규칙에 따라) 구멍을 뚫을 수 있음을 나타낸다.\n",
    "맥락에는 항상 1개의 구멍만 뚫려 있어야야 하므로\n",
    "$\\mathcal{E}+\\mathcal{E}$처럼 구멍이 두 군데 뚫려 있다고 나타내는\n",
    "식의 맥락 정의는 허용되지 않는다. 맥락 규칙에서 맥락을 활용하는 표현\n",
    "$\\mathcal{E}[e]$는 맥락 $\\mathcal{E}$의 구멍 뚫린 부분에 $e$를\n",
    "채워넣어 만들어진 구멍 없는 온전한 산술식을 나타낸다. 예컨대,\n",
    "$\\mathcal{E}=4 + (3 + \\bullet)$이고 $e=2+1$이라면\n",
    "$\\mathcal{E}[e] = (4 + (3 + \\bullet))[2+1] = 4+(3+(2+1))$이다."
   ]
  },
  {
   "cell_type": "markdown",
   "id": "a9629439-60c3-4897-86f1-83879a18c7f4",
   "metadata": {},
   "source": [
    "맥락을 하스켈 데이터 타입으로 정의할 수도 있지만\\cite{Hutton2021easy123}\n",
    "여기서는 식을 인자로 받아 새로운 식을 계산하는 함수로 정의하겠다.\n",
    "방금 위에서 살펴본 예에서도 $4+(3+\\bullet)$이라는 맥락은\n",
    "식 $2+1$를 받아서 새로운 식 $4+(3+(2+1))$를 만들어내도록 활용되었다.\n",
    "따라서 $4+(3+\\bullet)$를 하스켈 함수로 다음과 같이 옮겨 `ctx1`으로 선언하고\n",
    "활용할 수 있다."
   ]
  },
  {
   "cell_type": "code",
   "execution_count": 53,
   "id": "a005c2e9-accd-4a7f-a1d8-bb31eb2744bb",
   "metadata": {},
   "outputs": [
    {
     "data": {
      "text/html": [
       "<style>/* Styles used for the Hoogle display in the pager */\n",
       ".hoogle-doc {\n",
       "display: block;\n",
       "padding-bottom: 1.3em;\n",
       "padding-left: 0.4em;\n",
       "}\n",
       ".hoogle-code {\n",
       "display: block;\n",
       "font-family: monospace;\n",
       "white-space: pre;\n",
       "}\n",
       ".hoogle-text {\n",
       "display: block;\n",
       "}\n",
       ".hoogle-name {\n",
       "color: green;\n",
       "font-weight: bold;\n",
       "}\n",
       ".hoogle-head {\n",
       "font-weight: bold;\n",
       "}\n",
       ".hoogle-sub {\n",
       "display: block;\n",
       "margin-left: 0.4em;\n",
       "}\n",
       ".hoogle-package {\n",
       "font-weight: bold;\n",
       "font-style: italic;\n",
       "}\n",
       ".hoogle-module {\n",
       "font-weight: bold;\n",
       "}\n",
       ".hoogle-class {\n",
       "font-weight: bold;\n",
       "}\n",
       ".get-type {\n",
       "color: green;\n",
       "font-weight: bold;\n",
       "font-family: monospace;\n",
       "display: block;\n",
       "white-space: pre-wrap;\n",
       "}\n",
       ".show-type {\n",
       "color: green;\n",
       "font-weight: bold;\n",
       "font-family: monospace;\n",
       "margin-left: 1em;\n",
       "}\n",
       ".mono {\n",
       "font-family: monospace;\n",
       "display: block;\n",
       "}\n",
       ".err-msg {\n",
       "color: red;\n",
       "font-style: italic;\n",
       "font-family: monospace;\n",
       "white-space: pre;\n",
       "display: block;\n",
       "}\n",
       "#unshowable {\n",
       "color: red;\n",
       "font-weight: bold;\n",
       "}\n",
       ".err-msg.in.collapse {\n",
       "padding-top: 0.7em;\n",
       "}\n",
       ".highlight-code {\n",
       "white-space: pre;\n",
       "font-family: monospace;\n",
       "}\n",
       ".suggestion-warning { \n",
       "font-weight: bold;\n",
       "color: rgb(200, 130, 0);\n",
       "}\n",
       ".suggestion-error { \n",
       "font-weight: bold;\n",
       "color: red;\n",
       "}\n",
       ".suggestion-name {\n",
       "font-weight: bold;\n",
       "}\n",
       "</style><span class='get-type'>ctx1 :: Expr -> Expr</span>"
      ],
      "text/plain": [
       "ctx1 :: Expr -> Expr"
      ]
     },
     "metadata": {},
     "output_type": "display_data"
    },
    {
     "data": {
      "text/plain": [
       "Add (I 4) (Add (I 3) (Add (I 2) (I 1)))"
      ]
     },
     "metadata": {},
     "output_type": "display_data"
    },
    {
     "data": {
      "text/plain": [
       "Add (I 4) (Add (I 3) (I 99))"
      ]
     },
     "metadata": {},
     "output_type": "display_data"
    }
   ],
   "source": [
    "ctx1 = \\e -> Add (I 4) (I 3 `Add` e) \n",
    ":type ctx1\n",
    "ctx1 (I 2 `Add` I 1)\n",
    "ctx1 (I 99)"
   ]
  },
  {
   "cell_type": "markdown",
   "id": "b3f71a6a-4b7b-4b63-8533-2185be78c037",
   "metadata": {},
   "source": [
    "맥락적 의미구조에서는 맥락 규칙이 적용 가능한 모든 맥락을 다 고려해야 한다.\n",
    "여기서는 비결정적 의미구조에 해당하는 \\ref{evctx:nd}의 맥락 정의를 따르자.\n",
    "즉, 맥락 규칙으로 한걸음 $e_0\\xmapsto{~_C~}e_1$을 진행하려면\n",
    "주어진 식 $e_0$에 대해 $e_0 = \\mathcal{E}[e]$인 가능한 모든 맥락\n",
    "$\\mathcal{E}$와 구멍뚫린 위치에 있는 부분식 $e$를 생성하여,\n",
    "그 중에서 전제 조건 $e\\xmapsto{~_B~}e'$에 맞는 맥락에만 $e'$를 채워넣은\n",
    "$e_1 = \\mathcal{E}[e']$로 진행 가능하다.\n",
    "\n",
    "\\ref{evctx:nd}의 맥락 정의에 따라, 주어진 식에 대한 맥락과\n",
    "구멍뚫린 곳의 부분식으로 이루어진 가능한 모든 순서쌍 $(\\mathcal{E},e)$를\n",
    "생성하는 하스켈 함수 `split :: Expr -> [(Ctx,Expr)]`를 다음과 같이 선언할 수 있다."
   ]
  },
  {
   "cell_type": "code",
   "execution_count": 54,
   "id": "b20ff01a-8dea-49a2-b92a-81c930ba97f5",
   "metadata": {},
   "outputs": [],
   "source": [
    "type Ctx = Expr -> Expr -- 타입 별명으로 긴 타입을 한 단어로 줄여 표시\n",
    "split :: Expr -> [(Ctx,Expr)]\n",
    "split (I n)       = [(\\e-> e, I n)]\n",
    "split (Add e1 e2) = [(\\e-> e, Add e1 e2)]\n",
    "                 ++ [(\\e-> Add (ctx e) e2, e) | (ctx,e) <- split e1]\n",
    "                 ++ [(\\e-> Add e1 (ctx e), e) | (ctx,e) <- split e2]"
   ]
  },
  {
   "cell_type": "code",
   "execution_count": 55,
   "id": "2c6decbf-6a16-4c58-8250-ac14f0b923d5",
   "metadata": {},
   "outputs": [
    {
     "ename": "",
     "evalue": "",
     "output_type": "error",
     "traceback": [
      "<interactive>:1:1: error:\n    • No instance for (Show (Expr -> Expr)) arising from a use of ‘print’\n        (maybe you haven't applied a function to enough arguments?)\n    • In a stmt of an interactive GHCi command: print it"
     ]
    }
   ],
   "source": [
    "-- (1+2)+(3+4)에 구멍을 뚫는 모든 경우를 나열한 리스트\n",
    "split (Add (I 1 `Add` I 2) (I 3 `Add `I 4))"
   ]
  },
  {
   "cell_type": "markdown",
   "id": "f514b853-8587-4b74-b176-144d9de53207",
   "metadata": {},
   "source": [
    "\\noindent\n",
    "맥락의 타입에 해당하는 `Ctx`는 함수 타입인 `Expr -> Expr`의 타입 별명이다.\n",
    "그런데 하스켈에서 함수는 기본적으로 문자열로의 변환을 통해 출력되는 부류의 타입이 아니다.\n",
    "그러니까 맥락을 알아볼 수 있도록 출력하기 위해\n",
    "`Ctx`에 대한 타입 클래스 `Show`의 인스턴스를 직접 제공하여\n",
    "출력되는 부류의 타입으로 등록한 다음 `split`으로 계산한 결과값을 다시 확인해 보자."
   ]
  },
  {
   "cell_type": "code",
   "execution_count": 56,
   "id": "14415474-5535-440b-98ab-c3355f6ccc5d",
   "metadata": {},
   "outputs": [],
   "source": [
    "{-# LANGUAGE FlexibleInstances #-}\n",
    "instance Show Ctx where\n",
    "  show ctx = show (ctx (I minBound)) -- 구멍 위치에 정수 리터럴 최소값 표시"
   ]
  },
  {
   "cell_type": "code",
   "execution_count": 57,
   "id": "8f8865d7-78fe-4cce-ad79-67c4ee8ff8b7",
   "metadata": {},
   "outputs": [
    {
     "data": {
      "text/plain": [
       "[(I (-9223372036854775808),Add (Add (I 1) (I 2)) (Add (I 3) (I 4))),(Add (I (-9223372036854775808)) (Add (I 3) (I 4)),Add (I 1) (I 2)),(Add (Add (I (-9223372036854775808)) (I 2)) (Add (I 3) (I 4)),I 1),(Add (Add (I 1) (I (-9223372036854775808))) (Add (I 3) (I 4)),I 2),(Add (Add (I 1) (I 2)) (I (-9223372036854775808)),Add (I 3) (I 4)),(Add (Add (I 1) (I 2)) (Add (I (-9223372036854775808)) (I 4)),I 3),(Add (Add (I 1) (I 2)) (Add (I 3) (I (-9223372036854775808))),I 4)]"
      ]
     },
     "metadata": {},
     "output_type": "display_data"
    }
   ],
   "source": [
    "split (Add (I 1 `Add` I 2) (I 3 `Add `I 4))"
   ]
  },
  {
   "cell_type": "code",
   "execution_count": 58,
   "id": "5e0b050d-765d-49c7-8825-500b96cd7e3f",
   "metadata": {},
   "outputs": [
    {
     "data": {
      "text/plain": [
       "(I (-9223372036854775808),Add (Add (I 1) (I 2)) (Add (I 3) (I 4)))\n",
       "(Add (I (-9223372036854775808)) (Add (I 3) (I 4)),Add (I 1) (I 2))\n",
       "(Add (Add (I (-9223372036854775808)) (I 2)) (Add (I 3) (I 4)),I 1)\n",
       "(Add (Add (I 1) (I (-9223372036854775808))) (Add (I 3) (I 4)),I 2)\n",
       "(Add (Add (I 1) (I 2)) (I (-9223372036854775808)),Add (I 3) (I 4))\n",
       "(Add (Add (I 1) (I 2)) (Add (I (-9223372036854775808)) (I 4)),I 3)\n",
       "(Add (Add (I 1) (I 2)) (Add (I 3) (I (-9223372036854775808))),I 4)"
      ]
     },
     "metadata": {},
     "output_type": "display_data"
    }
   ],
   "source": [
    "mapM_ print it -- 직전 결과값 리스트의 원소를 한줄에 하나씩 출력"
   ]
  },
  {
   "cell_type": "markdown",
   "id": "476e542d-d5c9-466e-96b1-04c85c1358d1",
   "metadata": {},
   "source": [
    "기본적인 핵심 계산 규칙($\\xmapsto{~_B~}$)과\n",
    "하나로 통합된 맥락 규칙($\\xmapsto{~_C~}$)을\n",
    "구현하는 계산기 함수 `stepB`와 `stepC`를\n",
    "다음과 같이 `split`을 활용해 선언할 수 있다."
   ]
  },
  {
   "cell_type": "code",
   "execution_count": 59,
   "id": "f1909321-4252-4bc2-89bb-fe6552ddab5d",
   "metadata": {},
   "outputs": [],
   "source": [
    "stepB :: Expr -> [Expr]\n",
    "stepB (I n1 `Add` I n2) = [I n] where n = n1 + n2\n",
    "stepB _                 = []\n",
    "stepC :: Expr -> [Expr]\n",
    "stepC e0 = [ctx e' | (ctx,e) <- split e0, e' <- stepB e]"
   ]
  },
  {
   "cell_type": "markdown",
   "id": "f1cf292c-03c4-4fb8-af3c-08c804fbcf02",
   "metadata": {},
   "source": [
    "비결정적 의미구조를 실행해 보았을 때와 같은 산술식(`e0`)에\n",
    "`stepC`를 확장한 `hat stepC`를 연쇄적으로 적용하여 여러 단계를\n",
    "진행한 단계별 결과를 다음과 같이 확인해 보면 지금까지 우리가\n",
    "구현한 맥락적 의미구조(`stepC`)가 비결정적 의미구조(`step`)와\n",
    "똑같이 계산이 진행됨을 확인해 볼 수 있다."
   ]
  },
  {
   "cell_type": "code",
   "execution_count": 60,
   "id": "896f93b8-62d6-41b2-ae54-913dc088a790",
   "metadata": {},
   "outputs": [
    {
     "data": {
      "text/plain": [
       "[Add (Add (I 1) (I 2)) (Add (I 3) (I 4))]\n",
       "[Add (I 3) (Add (I 3) (I 4)),Add (Add (I 1) (I 2)) (I 7)]\n",
       "[Add (I 3) (I 7)]\n",
       "[I 10]"
      ]
     },
     "metadata": {},
     "output_type": "display_data"
    }
   ],
   "source": [
    "mapM_ print ( takeWhile (not . null) (iterate (hat stepC) [e0]) )"
   ]
  },
  {
   "cell_type": "markdown",
   "id": "344a8e1d-a5e9-4c22-8655-400db198632c",
   "metadata": {},
   "source": [
    "# 큰걸음 의미구조\n",
    "\\label{sec:bigStepArith}\n",
    "\\index{큰걸음 의미구조}\\index{big-step semantics}\n",
    "계산의 진행 과정보다는 계산의 결과값에만 주로 관심이 있을 때\n",
    "적합한 동작과정 의미구조가 바로 큰걸음 의미구조이다. 지금까지\n",
    "작은걸음 의미구조로 다루던 산술식에 나눗셈 연산을 추가한\n",
    "산술식 $e\\in\\texttt{Expr} \\;::=\\; n \\;\\mid\\; e+e \\;\\mid\\; e\\div e$의 큰걸음 의미구조는 다음과 같이 표현할 수 있다.\n",
    "\\qquad\n",
    "$\\displaystyle\\frac{~ ~}{~ n \\Longmapsto n ~}$\n",
    "$$\n",
    "\\frac{~ e_1 \\Longmapsto n_1\n",
    "  \\quad e_2 \\Longmapsto n_2 ~}{~ \n",
    "       e_1 + e_2 \\Longmapsto n ~}\n",
    "({\\scriptstyle n\\;\\equiv\\;n_1+n_2})\n",
    "\\quad~~\n",
    "\\frac{~ e_1 \\Longmapsto n_1\n",
    "  \\quad e_2 \\Longmapsto n_2 ~}{~ \n",
    "       e_1 \\div e_2 \\Longmapsto n ~}\n",
    "({\\scriptstyle n_2\\;\\neq\\;0,~n\\;\\equiv\\;n_1 \\div n_2})\n",
    "$$\n",
    "이를 하스켈 프로그램으로 옮기면 다음과 같다."
   ]
  },
  {
   "cell_type": "code",
   "execution_count": 61,
   "id": "8f3885e6-eba0-4636-ba54-5538fe57c1f0",
   "metadata": {},
   "outputs": [],
   "source": [
    "data Expr = I Int | Add Expr Expr | Div Expr Expr \n",
    "          deriving (Eq,Ord,Show)"
   ]
  },
  {
   "cell_type": "code",
   "execution_count": 62,
   "id": "1f05bc2c-4738-495f-a0f8-5e7bdfcb4a8e",
   "metadata": {},
   "outputs": [],
   "source": [
    "bigStep :: Expr -> [Int]\n",
    "bigStep (I n)       = [ n ]\n",
    "bigStep (Add e1 e2) = [ n1   +   n2 | n1 <- bigStep e1,\n",
    "                                      n2 <- bigStep e2 ]\n",
    "bigStep (Div e1 e2) = [ n1 `div` n2 | n1 <- bigStep e1,\n",
    "                                      n2 <- bigStep e2, n2 /= 0 ]"
   ]
  },
  {
   "cell_type": "code",
   "execution_count": 63,
   "id": "ac440072-932c-4741-a4ba-f9ce3bd0475e",
   "metadata": {},
   "outputs": [
    {
     "data": {
      "text/plain": [
       "[3]"
      ]
     },
     "metadata": {},
     "output_type": "display_data"
    },
    {
     "data": {
      "text/plain": [
       "[10]"
      ]
     },
     "metadata": {},
     "output_type": "display_data"
    },
    {
     "data": {
      "text/plain": [
       "[2]"
      ]
     },
     "metadata": {},
     "output_type": "display_data"
    },
    {
     "data": {
      "text/plain": [
       "[]"
      ]
     },
     "metadata": {},
     "output_type": "display_data"
    }
   ],
   "source": [
    "bigStep (I 3)\n",
    "bigStep (Add (I 1 `Add` I 2) (I 3 `Add` I 4))\n",
    "bigStep (I 10 `Div` I 4)\n",
    "bigStep (I 10 `Div` I 0) -- 규칙에 따라 값을 구할 수 없으면 빈 리스트"
   ]
  },
  {
   "cell_type": "markdown",
   "id": "29db91e5-af9f-4f83-9c81-898bd0909ef4",
   "metadata": {},
   "source": [
    "큰걸음 의미구조는 결과값만을 중시하므로 합류성(confluence)이\n",
    "만족하는 경우라면 계산 과정에서의 연산 우선순위에 크게 관계없이\n",
    "같은 결과값에 도달하므로 여러 가지 작은걸음 의미구조에 대응될 수 있다.\n",
    "\n",
    "참고로, 정수 리터럴과 몇 가지의 연산으로만 이루어진 산술식과\n",
    "같이 단순한 언어의 경우에는 큰걸음 의미구조의 정의와\n",
    "지시적 의미구조의 정의가 거의 비슷한 구조를 갖는다.\n",
    "다음의 지시적 의미구조에서, $+_{\\textsc{m}}$와 $\\div_{\\textsc{m}}$는\n",
    "양쪽 피연산자가 모두 정수인 경우에는 정수 덧셈과 나눗셈을 하지만\n",
    "두 피연산자 중 하나라도 오류를 의미하는 $\\bot$인 경우에는 연산의 결과도 $\\bot$이다.\n",
    "추가로 $\\div_{\\textsc{m}}$에서는 양쪽 피연산자가 모두 정수라도\n",
    "나누는 수인 오른쪽 피연산자가 0인 경우에는 연산의 결과가 $\\bot$이 된다.\n",
    "\\vspace*{-4ex}\n",
    "\\begingroup\\addtolength{\\jot}{-1ex}\n",
    "\\begin{align*}\n",
    "\\llbracket\\,\\cdot\\,\\rrbracket &\\;~:~\\; \\texttt{Expr} \\to \\{\\bot\\}\\cup\\mathbb{Z} \\\\\n",
    "\\llbracket\\,n\\,\\rrbracket & ~=~ n \\\\\n",
    "\\llbracket\\,e_1 +\\, e_2\\,\\rrbracket & ~=~\n",
    "  \\llbracket e_1\\rrbracket \\;+_{\\textsc{m}}\\; \\llbracket e_2\\rrbracket \\\\\n",
    "\\llbracket\\,e_1 \\div e_2\\,\\rrbracket & ~=~ \n",
    "  \\llbracket e_1\\rrbracket \\,\\div_{\\textsc{m}}\\, \\llbracket e_2\\rrbracket\n",
    "\\end{align*}\n",
    "\\vspace*{-5ex}\\newline\n",
    "\\endgroup\n",
    "이를 하스켈 프로그램으로 옮기면 아래와 같다.\n",
    "`Maybe Int` 타입으로 $\\{\\bot\\}\\cup\\mathbb{Z}$을 나타내며,\n",
    "이 타입의 값들인 `Nothing`은 $\\bot$를 `Just n`는 그냥 정수 $n$을 나타낸다."
   ]
  },
  {
   "cell_type": "code",
   "execution_count": 64,
   "id": "9f40793e-cae0-493e-b253-d6578fa387f4",
   "metadata": {},
   "outputs": [],
   "source": [
    "eval :: Expr -> Maybe Int\n",
    "eval (I n) = Just n \n",
    "eval (Add e1 e2) = eval e1 `addM` eval e2\n",
    "eval (Div e1 e2) = eval e1 `divM` eval e2\n",
    "\n",
    "addM :: Maybe Int -> Maybe Int -> Maybe Int\n",
    "Just n1 `addM` Just n2 = Just (n1 + n2)\n",
    "_       `addM` _       = Nothing\n",
    "divM :: Maybe Int -> Maybe Int -> Maybe Int\n",
    "Just n1 `divM` Just 0  = Nothing\n",
    "Just n1 `divM` Just n2 = Just (n1 `div` n2)\n",
    "_       `divM` _       = Nothing"
   ]
  },
  {
   "cell_type": "code",
   "execution_count": 65,
   "id": "d3fd6ae4-daf7-4236-9a9c-cc1ac31e2c5d",
   "metadata": {},
   "outputs": [
    {
     "data": {
      "text/plain": [
       "Just 3"
      ]
     },
     "metadata": {},
     "output_type": "display_data"
    },
    {
     "data": {
      "text/plain": [
       "Just 10"
      ]
     },
     "metadata": {},
     "output_type": "display_data"
    },
    {
     "data": {
      "text/plain": [
       "Just 2"
      ]
     },
     "metadata": {},
     "output_type": "display_data"
    },
    {
     "data": {
      "text/plain": [
       "Nothing"
      ]
     },
     "metadata": {},
     "output_type": "display_data"
    }
   ],
   "source": [
    "eval (I 3)\n",
    "eval (Add (I 1 `Add` I 2) (I 3 `Add` I 4))\n",
    "eval (I 10 `Div` I 4)\n",
    "eval (I 10 `Div` I 0) -- 0으로 나누면 오류"
   ]
  },
  {
   "cell_type": "markdown",
   "id": "0376f35b-e6b7-42f4-9d73-d3eaf6d1b6a2",
   "metadata": {},
   "source": [
    "하스켈에서 `Maybe a` 타입은 보통의 정상적인 결과값은 `a`타입으로 계산되지만\n",
    "정상적인 값에 대응되지 않는 경우도 있는 함수의 공역을 나타내는 용도로 쓰이며,\n",
    "표준 라이브러리에 다음과 같은 데이터 타입으로 선언되어 있다.\n",
    "```haskell\n",
    "      data Maybe a = Nothing | Just a   deriving (Eq, Ord, ...... )\n",
    "```\n",
    "위의 데이터 타입 선언은 하나의 구체적인 타입을 정의하는 것이 아니라\n",
    "타입 매개변수(type parameter) `a`가 어떤 타입으로 구체화(instantiate)되느냐에\n",
    "따라 여러 가지 다른 타입으로 구체화된다. 위의 `eval` 코드에서는 `Maybe`의\n",
    "타입 매개변수를 `Int`로 구체한 `Maybe Int`라는 타입을 활용하며, 그에\n",
    "따라 생성자 `Just`의 인자로 `Int` 타입의 정수값이 온다.\n",
    "즉, `n :: Int`일 때 `Just n :: Maybe Int`이다. 한편, `Nothing`은\n",
    "`a`와 무관하게 정의되므로 타입 매개변수 `a`가 어떻게 구체화되든\n",
    "관계없이 항상 사용할 수 있다. 이렇게 `Maybe`와 같이 타입 매개변수를\n",
    "활용해 선언된 타입을 \\`매개변수화된 타입'(parameterized type)이라 일컫는다."
   ]
  },
  {
   "cell_type": "markdown",
   "id": "56c7c7a6-f9dd-462b-a3ee-b96ece5d22c4",
   "metadata": {},
   "source": [
    "$~$\n",
    "\\section*{요점정리}\n",
    "* 작은걸음 의미구조에서 한 걸음 $e \\longmapsto e'$이 의미구조를 정의하는 규칙에 맞는지\n",
    "  판별하는 검산기는 `Expr -> Expr -> Bool` 타입의 이항 연산으로 작성할 수 있다.\n",
    "* 작은걸음 의미구조의 규칙에 따라 주어진 식으로부터 한 걸음 다음의 산술식을 구하는\n",
    "  계산기는 `Expr -> [Expr]` 타입의 하스켈 함수로 작성할 수 있다.\n",
    "  함수의 결과값이 리스트인 이유는\n",
    "  더 이상 진행할 수 없는 값은 한 걸음 다음의 식이 0개이며\n",
    "  비결정적 의미구조인 경우에는 한 걸음 다음으로 가능한 식이 여럿일 수도 있기 때문이다.\n",
    "* `Expr -> [Expr]` 타입의 작은걸음 계산기는 연쇄적으로 적용하기 불편하므로\n",
    "   정의역을 치역과 일치시킨 `[Expr] -> [Expr]` 타입의 확장된 함수를 선언하여 활용하면\n",
    "   여러 작은걸음 이후의 식을 계산하기에 좋다.\n",
    "* 하스켈처럼 커리하기(currying)를 잘 지원하는 언어에서 고차함수는\n",
    "  함수를 인자로 받는 함수를 말한다. 커리된 함수를 활용하기 번거로운\n",
    "  언어에서는 함수를 결과값으로 계산하기만 해도 고차함수라 부르기도 한다.\n",
    "* 리스트를 다루는 고차함수를 활용하면 `[Expr] -> [Expr]` 타입의 확장된 산술식\n",
    "  작은걸음 계산기를 적용한 계산의 각 진행 단계에 나타나는 산술식을 한 줄의\n",
    "  하스켈 프로그램으로 간단히 확인해볼 수 있다.\n",
    "* 결정적 의미구조는 하나의 식에 적용할 수 있는 의미구조 규칙이\n",
    "  최대 한개씩만 있도록 정의된다.\n",
    "* 비결정적 의미구조를 결정적 의미구조로 변경하는 방법은\n",
    "  일부 규칙이 더 제한된 형태의 식에만으로 적용되도록 그 적용 범위를 좁히도록\n",
    "  변경함으로써 다른 규칙들과 적용 범위가 겹치지 않도록 하는 것이다.\n",
    "* 맥락적 의미구조는 기본적 핵심 계산 규칙 이외에 핵심 계산을 적용하는 맥락을\n",
    "  규정하는 규칙들을 하나의 맥락 규칙으로 통합하여 정의하는 의미구조이다.\n",
    "  이렇게 통합된 맥락 규칙은 식에 구멍이 하나 뚫려 있는 구조인\n",
    "  값계산 맥락(evaluation context)을 이용해 정의된다.\n",
    "* 값계산 맥락을 어떻게 정의하느냐에 따라 맥락적 의미구조가\n",
    "  비결정적 의미구조와 일치할 수도 있고\n",
    "  특정 맥락의 계산을 우선하는 결정적 의미구조와 일치할 수도 있다.\n",
    "* 큰걸음 의미구조는 계산 과정보다는 계산의 결과값만을 주로 다루기에\n",
    "  적합한 동작과정 의미구조의 정의 방식이다. 그렇기에 큰걸음 의미구조는\n",
    "  계산의 결과는 같지만 계산 과정에서 우선 순위가 다른 여러 가지 작은걸음\n",
    "  의미구조에 대응될 수 있다."
   ]
  },
  {
   "cell_type": "markdown",
   "id": "e7de7c07-26ed-4dfd-a04f-a0138226b87b",
   "metadata": {},
   "source": [
    "\\section*{연습문제}\n",
    "1. 작은걸음 계산기 `step`이 규칙에 맞게 구현되었는지 검산기(`...>`)로 확인해 보라.\n",
    "   `step`을 적용한 인자와 계산된 결과값 리스트의 원소를 반복해서\n",
    "   검산기로 확인하는 하스켈 코드를 여러 개의 식으로 작성하는 방법 말고,\n",
    "   인자를 리스트의 모든 원소에 대해 하나의 식으로 한꺼번에 검산하는 방법을 생각해 보라.\n",
    "1. 확장된 작은걸음 계산기 `step'`이 규칙에 맞게 구현되었는지 검산기(`...>`)로\n",
    "   확인해 보라. `step'`을 적용한 인자 리스트의 원소와 계산된 결과 리스트의 원소를\n",
    "   반복해서 연관지어 가며 검산기로 확인하는 하스켈 코드을 여러 개의 식으로 작성하는\n",
    "   방법 말고, 인자와 결과값 리스트의 모든 원소에 대해 하나의 식으로 한꺼번에\n",
    "   검산하는 방법을 생각해 보라.\n",
    "1. 왼쪽 맥락부터 핵심 계산을 진행하는 결정적 작은걸음 의미구조 계산기 `stepL`의\n",
    "   선언를 완성하고 이를 연쇄적으로 적용하기 편리하게 확장한 함수 `stepL'`의 선언도\n",
    "   작성해 보라. 또 제대로 이 두 함수가 제대로 선언되었는지 확인하는 적절한 테스트를\n",
    "   각각의 함수에 대해 수행하라.\n",
    "1. 오른쪽 맥락부터 핵심 계산을 진행하는 결정적 작은걸음 의미구조 $\\xmapsto{~_R~}$을\n",
    "   정의해 보라. 또한 $\\xmapsto{~_R~}$과 일치하는 맥락적 의미구조($\\xmapsto{~_C~}$)가 되도록\n",
    "   값계산 맥락 $\\mathcal{E}$를 정의해 보라.\n",
    "1. 위 문제의 맥락 정의에 맞게 `[45]`번 셀의 `split` 함수를 수정하고\n",
    "   `[60]`번 셀까지 실행 결과가 어떻게 바뀌는지 확인해 보라.\n",
    "1. 나눗셈까지 포함된 산술식의 큰걸음 의미구조에 대응되는\n",
    "   맥락적 의미구조를 정의해 보라. 비결정적인 의미구조로 정의해 보아도\n",
    "   좋고 결정적인 의미구조로 정의해 보아도 좋다."
   ]
  },
  {
   "cell_type": "markdown",
   "id": "cd3ebf09-c9c3-4379-978e-f9149df55d9b",
   "metadata": {},
   "source": [
    "\\section*{탐구과제}\n",
    "1. 하스켈 표준 라이브러리에는 `map`, `filter`, `foldr`, `foldl` 등\n",
    "   이 장에서 소개하지 않은 리스트를 다루는 고차함수들이 더 많이 있다.\n",
    "   이들에 대해 조사해 보라.\n",
    "1. 동작과정 의미구조와 지시적 의미구조, 증명 이론과 모델 이론은\n",
    "   어떤 관련이 있는지 알아보라. "
   ]
  }
 ],
 "metadata": {
  "kernelspec": {
   "display_name": "Haskell",
   "language": "haskell",
   "name": "haskell"
  },
  "language_info": {
   "codemirror_mode": "ihaskell",
   "file_extension": ".hs",
   "mimetype": "text/x-haskell",
   "name": "haskell",
   "pygments_lexer": "Haskell",
   "version": "8.10.7"
  }
 },
 "nbformat": 4,
 "nbformat_minor": 5
}
