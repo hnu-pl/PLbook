{
 "cells": [
  {
   "cell_type": "markdown",
   "id": "cf209757-b536-4ae7-afe9-5e578217bd70",
   "metadata": {},
   "source": [
    "정수 리터럴과 덧셈만 있는 아주 간단한 산술식을 하스켈으로 다뤄보자."
   ]
  },
  {
   "cell_type": "code",
   "execution_count": 1,
   "id": "1962ae3a-0cf0-464a-b0e9-b70aa5ae3707",
   "metadata": {},
   "outputs": [],
   "source": [
    ":opt no-lint                          -- linter 끄기\n",
    "{-# LANGUAGE ScopedTypeVariables #-}  -- 추가 언어 기능 설정"
   ]
  },
  {
   "cell_type": "markdown",
   "id": "6ab16c8b-a09b-49bb-8190-5e7ef14cfffa",
   "metadata": {},
   "source": [
    "\\noindent\n",
    "문법구조\n",
    "$\\hspace{-2ex}\\begin{array}{ll}\n",
    "& n \\in \\texttt{Int} \\\\\n",
    "& e \\in \\texttt{Expr} ~::=~ n ~\\mid~ e + e\n",
    "\\end{array}$는 데이터 타입으로 선언하면 된다."
   ]
  },
  {
   "cell_type": "code",
   "execution_count": 2,
   "id": "bc3f627f-909c-4953-a6c7-33c8ea425068",
   "metadata": {},
   "outputs": [],
   "source": [
    "data Expr = I Int          -- n\n",
    "          | Add Expr Expr  -- e + e\n",
    "       deriving (Eq,Ord,Show) -- Eq 같은지, Ord 순서 비교, Show 출력 가능"
   ]
  },
  {
   "cell_type": "raw",
   "id": "07c5119e-a065-46fa-8545-ba963c33eebc",
   "metadata": {},
   "source": [
    "~\\\\"
   ]
  },
  {
   "cell_type": "markdown",
   "id": "193e2537-2927-412f-880b-984165bbe3b9",
   "metadata": {},
   "source": [
    "작은걸음 의미구조\\vspace*{-3ex}\n",
    "$$\n",
    "\\frac{~ ~}{~ n_1 + n_2 \\longmapsto n ~}\n",
    "{\\scriptstyle(\\,n\\;\\equiv\\;n_1\\,+\\,n_2\\,)}\n",
    "\\quad\n",
    "\\frac{~ e_1 \\longmapsto e_1' ~}{~ e_1 + e_2 \\longmapsto e_1' + e_e ~}\n",
    "\\quad\n",
    "\\frac{~ e_1 \\longmapsto e_1' ~}{~ e_1 + e_2 \\longmapsto e_1' + e_e ~}\n",
    "$$\n",
    "는 모든 맥락에서 핵심 계산($n_1+n_2\\longmapsto n$)을 진행하는 비결정적 의미구조이다.\n",
    "우선 이 의미구조 그대로를 하스켈 프로그램으로 옮겨 다루어 보고,\n",
    "그 다음에는 결정적 의미구조로 변형하는 방법에 대해 생각해 보자."
   ]
  },
  {
   "cell_type": "markdown",
   "id": "b0878166-e916-41a6-8af3-705c81176282",
   "metadata": {},
   "source": [
    "# 작은걸음 의미구조 검산기"
   ]
  },
  {
   "cell_type": "code",
   "execution_count": 3,
   "id": "7b9598e7-03cd-4325-a3d0-e30bc20e3a0a",
   "metadata": {},
   "outputs": [
    {
     "ename": "",
     "evalue": "",
     "output_type": "error",
     "traceback": [
      "<interactive>:2:8: error:\n    • Conflicting definitions for ‘e2’\n      Bound at: <interactive>:2:8-9\n                <interactive>:2:24-25\n    • In an equation for ‘...>’\n<interactive>:3:5: error:\n    • Conflicting definitions for ‘e1’\n      Bound at: <interactive>:3:5-6\n                <interactive>:3:20-21\n    • In an equation for ‘...>’"
     ]
    }
   ],
   "source": [
    "Add (I n1) (I n2) ...> I n  =  n == n1 + n2\n",
    "Add e1 e2 ...> Add e1' e2   =  e1 ...> e1'  -- 좌변에 변수 e2 중복\n",
    "Add e1 e2 ...> Add e1  e2'  =  e2 ...> e2'  -- 좌변에 변수 e1 중복\n",
    "_         ...> _            =  False  -- 다른 경우에는 진행 불가"
   ]
  },
  {
   "cell_type": "code",
   "execution_count": 4,
   "id": "9414458b-38b6-4274-b9eb-178a7eda2c66",
   "metadata": {},
   "outputs": [],
   "source": [
    "Add (I n1) (I n2) ...> I n  =  n == n1 + n2\n",
    "Add e1 e2 ...> Add e1' e2'  =  e1 ...> e1' && e2 == e2'  ||\n",
    "                               e2 ...> e2' && e1 == e1'\n",
    "_         ...> _            =  False  -- 다른 경우에는 진행 불가"
   ]
  },
  {
   "cell_type": "code",
   "execution_count": 5,
   "id": "801dcd00-c02f-4af2-9c82-8854e1743434",
   "metadata": {},
   "outputs": [
    {
     "data": {
      "text/html": [
       "<style>/* Styles used for the Hoogle display in the pager */\n",
       ".hoogle-doc {\n",
       "display: block;\n",
       "padding-bottom: 1.3em;\n",
       "padding-left: 0.4em;\n",
       "}\n",
       ".hoogle-code {\n",
       "display: block;\n",
       "font-family: monospace;\n",
       "white-space: pre;\n",
       "}\n",
       ".hoogle-text {\n",
       "display: block;\n",
       "}\n",
       ".hoogle-name {\n",
       "color: green;\n",
       "font-weight: bold;\n",
       "}\n",
       ".hoogle-head {\n",
       "font-weight: bold;\n",
       "}\n",
       ".hoogle-sub {\n",
       "display: block;\n",
       "margin-left: 0.4em;\n",
       "}\n",
       ".hoogle-package {\n",
       "font-weight: bold;\n",
       "font-style: italic;\n",
       "}\n",
       ".hoogle-module {\n",
       "font-weight: bold;\n",
       "}\n",
       ".hoogle-class {\n",
       "font-weight: bold;\n",
       "}\n",
       ".get-type {\n",
       "color: green;\n",
       "font-weight: bold;\n",
       "font-family: monospace;\n",
       "display: block;\n",
       "white-space: pre-wrap;\n",
       "}\n",
       ".show-type {\n",
       "color: green;\n",
       "font-weight: bold;\n",
       "font-family: monospace;\n",
       "margin-left: 1em;\n",
       "}\n",
       ".mono {\n",
       "font-family: monospace;\n",
       "display: block;\n",
       "}\n",
       ".err-msg {\n",
       "color: red;\n",
       "font-style: italic;\n",
       "font-family: monospace;\n",
       "white-space: pre;\n",
       "display: block;\n",
       "}\n",
       "#unshowable {\n",
       "color: red;\n",
       "font-weight: bold;\n",
       "}\n",
       ".err-msg.in.collapse {\n",
       "padding-top: 0.7em;\n",
       "}\n",
       ".highlight-code {\n",
       "white-space: pre;\n",
       "font-family: monospace;\n",
       "}\n",
       ".suggestion-warning { \n",
       "font-weight: bold;\n",
       "color: rgb(200, 130, 0);\n",
       "}\n",
       ".suggestion-error { \n",
       "font-weight: bold;\n",
       "color: red;\n",
       "}\n",
       ".suggestion-name {\n",
       "font-weight: bold;\n",
       "}\n",
       "</style><span class='get-type'>(...>) :: Expr -> Expr -> Bool</span>"
      ],
      "text/plain": [
       "(...>) :: Expr -> Expr -> Bool"
      ]
     },
     "metadata": {},
     "output_type": "display_data"
    }
   ],
   "source": [
    ":type (...>)"
   ]
  },
  {
   "cell_type": "code",
   "execution_count": 6,
   "id": "e85dfdc5-0142-4adb-baa3-f17dbe3dbe45",
   "metadata": {},
   "outputs": [
    {
     "data": {
      "text/plain": [
       "True"
      ]
     },
     "metadata": {},
     "output_type": "display_data"
    },
    {
     "data": {
      "text/plain": [
       "True"
      ]
     },
     "metadata": {},
     "output_type": "display_data"
    },
    {
     "data": {
      "text/plain": [
       "False"
      ]
     },
     "metadata": {},
     "output_type": "display_data"
    }
   ],
   "source": [
    "Add (I 1) (I 2) ...> I 3  -- 검산 성공\n",
    "I 1 `Add` I 2   ...> I 3\n",
    "Add (I 1) (I 2) ...> I 4  -- 검산 실패"
   ]
  },
  {
   "cell_type": "markdown",
   "id": "8ab1a5c1-b44c-443d-8c9e-12b3452c463a",
   "metadata": {},
   "source": [
    "\\noindent 참고로, 하스켈에서 전위(prefix) 표현인 생성자나 함수의 이름을 역따옴표($\\,^{\\backprime}$)로 감싸면 중위(infix) 연산자처럼 사용할 수 있다."
   ]
  },
  {
   "cell_type": "code",
   "execution_count": 7,
   "id": "f449e6b9-0d45-41d2-8bb0-98e440088d3a",
   "metadata": {},
   "outputs": [
    {
     "data": {
      "text/plain": [
       "True"
      ]
     },
     "metadata": {},
     "output_type": "display_data"
    },
    {
     "data": {
      "text/plain": [
       "True"
      ]
     },
     "metadata": {},
     "output_type": "display_data"
    },
    {
     "data": {
      "text/plain": [
       "False"
      ]
     },
     "metadata": {},
     "output_type": "display_data"
    }
   ],
   "source": [
    "Add(I 1 `Add` I 2)(I 3 `Add` I 4) ...> Add(I 3)(I 3 `Add` I 4)\n",
    "Add(I 1 `Add` I 2)(I 3 `Add` I 4) ...> Add(I 1 `Add` I 2)(I 7)\n",
    "Add(I 1 `Add` I 2)(I 3 `Add` I 4) ...> Add(I 3)(I 7) -- 한꺼번에 2걸음"
   ]
  },
  {
   "cell_type": "markdown",
   "id": "d9a81d34-5a5c-4466-8f49-422c3de2a166",
   "metadata": {},
   "source": [
    "# 작은걸음 의미구조 계산기\n",
    "비결정적인 작은걸음 관계($\\longmapsto\\;\\subset\\;\\texttt{Expr}\\times\\texttt{Expr}$)를\n",
    "함수($f_{\\longmapsto}$)로 만드는 방법은 모든 가능한 다음 단계를 한꺼번에 모아놓은 집합을\n",
    "결과값으로 하면 된다. 즉, 식($e\\in\\texttt{Expr}$) 하나에\n",
    "식의 집합($\\{e_1',e_2',\\ldots,e_k'\\}\\in 2^\\texttt{Expr}$) 하나를 대응시키는\n",
    "함수 $f_{\\longmapsto} : \\texttt{Expr} \\to 2^\\texttt{Expr}$를\n",
    "$f_{\\longmapsto}(e) = \\{\\,e' \\mid e\\longmapsto e'\\,\\}$로 정의하면 된다.\n",
    "이 정의는 단순명료하지만 작은걸음 의미구조의 계산기를 작성하는 데 적합하지 않다.\n",
    "식 $e$의 문법구조를 따라 정의된 작은걸음 의미구조처럼 $f_{\\longmapsto}$를\n",
    "귀납적(inductive)으로 다음과 같이 정의하면 프로그램으로 옮기기에 좋다.\n",
    "단, 마지막 등식에서 $e_1+e_2$는 위의 경우들과 겹치지 않는 형태($e_1+e_2\\neq n_1+n_2$)라고 가정한다.\n",
    "\\vspace*{-2ex}\n",
    "\\begin{align*}\n",
    "& f_{\\longmapsto} ~ : ~ \\texttt{Expr} \\to 2^\\texttt{Expr} \\\\\n",
    "& f_{\\longmapsto}(n)             &=~& \\{\\} \\\\\n",
    "& f_{\\longmapsto}(n_1 + n_2)     &=~& \\{ n \\} \\qquad(n \\equiv n_1 + n_2) \\\\\n",
    "& f_{\\longmapsto}(\\,e_1 + e_2\\,) &=~& \\{ e_1' + e_2 \\mid e_1\\longmapsto e_1' \\} ~ ~\\, \\cup ~ ~ \\{ e_1 + e_2' \\mid e_2\\longmapsto e_2'\\} \\\\\n",
    "&                                &=~& \\{ e_1' + e_2 \\mid e_1'\\in f_{\\longmapsto}(e_1) \\} \\cup \\{ e_1 + e_2' \\mid e_2'\\in f_{\\longmapsto}(e_2)\\}\n",
    "\\end{align*}\n",
    "위 정의를 하스켈 리스트로 집합을 표현하는 `step` 함수로 옮기면 다음과 같다."
   ]
  },
  {
   "cell_type": "code",
   "execution_count": 8,
   "id": "329154f5-f9a9-4276-a786-6eda6f905719",
   "metadata": {},
   "outputs": [],
   "source": [
    "step :: Expr -> [Expr] -- 리스트로 집합을 표현\n",
    "step (I n)             = []\n",
    "step (I n1 `Add` I n2) = [ I n ]  where n = n1 + n2\n",
    "step (Add e1 e2)       = [ Add e1' e2  | e1' <- step e1 ] ++\n",
    "                         [ Add e1  e2' | e2' <- step e2 ]"
   ]
  },
  {
   "cell_type": "code",
   "execution_count": 9,
   "id": "202f35b0-2435-4d86-b578-c4ae631d9438",
   "metadata": {},
   "outputs": [
    {
     "data": {
      "text/plain": [
       "[]"
      ]
     },
     "metadata": {},
     "output_type": "display_data"
    },
    {
     "data": {
      "text/plain": [
       "[I 3]"
      ]
     },
     "metadata": {},
     "output_type": "display_data"
    },
    {
     "data": {
      "text/plain": [
       "[Add (I 3) (Add (I 3) (I 4)),Add (Add (I 1) (I 2)) (I 7)]"
      ]
     },
     "metadata": {},
     "output_type": "display_data"
    }
   ],
   "source": [
    "step (I 3)                  -- step 함수 선언의 첫번째 등식에 패턴 매치\n",
    "step (I 1 `Add` I 2)                       -- 두번째 등식에 패턴 매치 \n",
    "step (Add (I 1 `Add` I 2) (I 3 `Add` I 4)) -- 세번째 등식에 패턴 매치"
   ]
  },
  {
   "cell_type": "markdown",
   "id": "636914dc-40a6-416c-b407-290bed1b1e19",
   "metadata": {},
   "source": [
    "## 하스켈 리스트"
   ]
  },
  {
   "cell_type": "code",
   "execution_count": 10,
   "id": "9d776a69-ec96-40aa-8117-1d8885a37275",
   "metadata": {},
   "outputs": [
    {
     "data": {
      "text/html": [
       "<style>/* Styles used for the Hoogle display in the pager */\n",
       ".hoogle-doc {\n",
       "display: block;\n",
       "padding-bottom: 1.3em;\n",
       "padding-left: 0.4em;\n",
       "}\n",
       ".hoogle-code {\n",
       "display: block;\n",
       "font-family: monospace;\n",
       "white-space: pre;\n",
       "}\n",
       ".hoogle-text {\n",
       "display: block;\n",
       "}\n",
       ".hoogle-name {\n",
       "color: green;\n",
       "font-weight: bold;\n",
       "}\n",
       ".hoogle-head {\n",
       "font-weight: bold;\n",
       "}\n",
       ".hoogle-sub {\n",
       "display: block;\n",
       "margin-left: 0.4em;\n",
       "}\n",
       ".hoogle-package {\n",
       "font-weight: bold;\n",
       "font-style: italic;\n",
       "}\n",
       ".hoogle-module {\n",
       "font-weight: bold;\n",
       "}\n",
       ".hoogle-class {\n",
       "font-weight: bold;\n",
       "}\n",
       ".get-type {\n",
       "color: green;\n",
       "font-weight: bold;\n",
       "font-family: monospace;\n",
       "display: block;\n",
       "white-space: pre-wrap;\n",
       "}\n",
       ".show-type {\n",
       "color: green;\n",
       "font-weight: bold;\n",
       "font-family: monospace;\n",
       "margin-left: 1em;\n",
       "}\n",
       ".mono {\n",
       "font-family: monospace;\n",
       "display: block;\n",
       "}\n",
       ".err-msg {\n",
       "color: red;\n",
       "font-style: italic;\n",
       "font-family: monospace;\n",
       "white-space: pre;\n",
       "display: block;\n",
       "}\n",
       "#unshowable {\n",
       "color: red;\n",
       "font-weight: bold;\n",
       "}\n",
       ".err-msg.in.collapse {\n",
       "padding-top: 0.7em;\n",
       "}\n",
       ".highlight-code {\n",
       "white-space: pre;\n",
       "font-family: monospace;\n",
       "}\n",
       ".suggestion-warning { \n",
       "font-weight: bold;\n",
       "color: rgb(200, 130, 0);\n",
       "}\n",
       ".suggestion-error { \n",
       "font-weight: bold;\n",
       "color: red;\n",
       "}\n",
       ".suggestion-name {\n",
       "font-weight: bold;\n",
       "}\n",
       "</style><span class='get-type'>'a' :: Char</span>"
      ],
      "text/plain": [
       "'a' :: Char"
      ]
     },
     "metadata": {},
     "output_type": "display_data"
    },
    {
     "data": {
      "text/html": [
       "<style>/* Styles used for the Hoogle display in the pager */\n",
       ".hoogle-doc {\n",
       "display: block;\n",
       "padding-bottom: 1.3em;\n",
       "padding-left: 0.4em;\n",
       "}\n",
       ".hoogle-code {\n",
       "display: block;\n",
       "font-family: monospace;\n",
       "white-space: pre;\n",
       "}\n",
       ".hoogle-text {\n",
       "display: block;\n",
       "}\n",
       ".hoogle-name {\n",
       "color: green;\n",
       "font-weight: bold;\n",
       "}\n",
       ".hoogle-head {\n",
       "font-weight: bold;\n",
       "}\n",
       ".hoogle-sub {\n",
       "display: block;\n",
       "margin-left: 0.4em;\n",
       "}\n",
       ".hoogle-package {\n",
       "font-weight: bold;\n",
       "font-style: italic;\n",
       "}\n",
       ".hoogle-module {\n",
       "font-weight: bold;\n",
       "}\n",
       ".hoogle-class {\n",
       "font-weight: bold;\n",
       "}\n",
       ".get-type {\n",
       "color: green;\n",
       "font-weight: bold;\n",
       "font-family: monospace;\n",
       "display: block;\n",
       "white-space: pre-wrap;\n",
       "}\n",
       ".show-type {\n",
       "color: green;\n",
       "font-weight: bold;\n",
       "font-family: monospace;\n",
       "margin-left: 1em;\n",
       "}\n",
       ".mono {\n",
       "font-family: monospace;\n",
       "display: block;\n",
       "}\n",
       ".err-msg {\n",
       "color: red;\n",
       "font-style: italic;\n",
       "font-family: monospace;\n",
       "white-space: pre;\n",
       "display: block;\n",
       "}\n",
       "#unshowable {\n",
       "color: red;\n",
       "font-weight: bold;\n",
       "}\n",
       ".err-msg.in.collapse {\n",
       "padding-top: 0.7em;\n",
       "}\n",
       ".highlight-code {\n",
       "white-space: pre;\n",
       "font-family: monospace;\n",
       "}\n",
       ".suggestion-warning { \n",
       "font-weight: bold;\n",
       "color: rgb(200, 130, 0);\n",
       "}\n",
       ".suggestion-error { \n",
       "font-weight: bold;\n",
       "color: red;\n",
       "}\n",
       ".suggestion-name {\n",
       "font-weight: bold;\n",
       "}\n",
       "</style><span class='get-type'>['a','b','c'] :: [Char]</span>"
      ],
      "text/plain": [
       "['a','b','c'] :: [Char]"
      ]
     },
     "metadata": {},
     "output_type": "display_data"
    },
    {
     "data": {
      "text/html": [
       "<style>/* Styles used for the Hoogle display in the pager */\n",
       ".hoogle-doc {\n",
       "display: block;\n",
       "padding-bottom: 1.3em;\n",
       "padding-left: 0.4em;\n",
       "}\n",
       ".hoogle-code {\n",
       "display: block;\n",
       "font-family: monospace;\n",
       "white-space: pre;\n",
       "}\n",
       ".hoogle-text {\n",
       "display: block;\n",
       "}\n",
       ".hoogle-name {\n",
       "color: green;\n",
       "font-weight: bold;\n",
       "}\n",
       ".hoogle-head {\n",
       "font-weight: bold;\n",
       "}\n",
       ".hoogle-sub {\n",
       "display: block;\n",
       "margin-left: 0.4em;\n",
       "}\n",
       ".hoogle-package {\n",
       "font-weight: bold;\n",
       "font-style: italic;\n",
       "}\n",
       ".hoogle-module {\n",
       "font-weight: bold;\n",
       "}\n",
       ".hoogle-class {\n",
       "font-weight: bold;\n",
       "}\n",
       ".get-type {\n",
       "color: green;\n",
       "font-weight: bold;\n",
       "font-family: monospace;\n",
       "display: block;\n",
       "white-space: pre-wrap;\n",
       "}\n",
       ".show-type {\n",
       "color: green;\n",
       "font-weight: bold;\n",
       "font-family: monospace;\n",
       "margin-left: 1em;\n",
       "}\n",
       ".mono {\n",
       "font-family: monospace;\n",
       "display: block;\n",
       "}\n",
       ".err-msg {\n",
       "color: red;\n",
       "font-style: italic;\n",
       "font-family: monospace;\n",
       "white-space: pre;\n",
       "display: block;\n",
       "}\n",
       "#unshowable {\n",
       "color: red;\n",
       "font-weight: bold;\n",
       "}\n",
       ".err-msg.in.collapse {\n",
       "padding-top: 0.7em;\n",
       "}\n",
       ".highlight-code {\n",
       "white-space: pre;\n",
       "font-family: monospace;\n",
       "}\n",
       ".suggestion-warning { \n",
       "font-weight: bold;\n",
       "color: rgb(200, 130, 0);\n",
       "}\n",
       ".suggestion-error { \n",
       "font-weight: bold;\n",
       "color: red;\n",
       "}\n",
       ".suggestion-name {\n",
       "font-weight: bold;\n",
       "}\n",
       "</style><span class='get-type'>False :: Bool</span>"
      ],
      "text/plain": [
       "False :: Bool"
      ]
     },
     "metadata": {},
     "output_type": "display_data"
    },
    {
     "data": {
      "text/html": [
       "<style>/* Styles used for the Hoogle display in the pager */\n",
       ".hoogle-doc {\n",
       "display: block;\n",
       "padding-bottom: 1.3em;\n",
       "padding-left: 0.4em;\n",
       "}\n",
       ".hoogle-code {\n",
       "display: block;\n",
       "font-family: monospace;\n",
       "white-space: pre;\n",
       "}\n",
       ".hoogle-text {\n",
       "display: block;\n",
       "}\n",
       ".hoogle-name {\n",
       "color: green;\n",
       "font-weight: bold;\n",
       "}\n",
       ".hoogle-head {\n",
       "font-weight: bold;\n",
       "}\n",
       ".hoogle-sub {\n",
       "display: block;\n",
       "margin-left: 0.4em;\n",
       "}\n",
       ".hoogle-package {\n",
       "font-weight: bold;\n",
       "font-style: italic;\n",
       "}\n",
       ".hoogle-module {\n",
       "font-weight: bold;\n",
       "}\n",
       ".hoogle-class {\n",
       "font-weight: bold;\n",
       "}\n",
       ".get-type {\n",
       "color: green;\n",
       "font-weight: bold;\n",
       "font-family: monospace;\n",
       "display: block;\n",
       "white-space: pre-wrap;\n",
       "}\n",
       ".show-type {\n",
       "color: green;\n",
       "font-weight: bold;\n",
       "font-family: monospace;\n",
       "margin-left: 1em;\n",
       "}\n",
       ".mono {\n",
       "font-family: monospace;\n",
       "display: block;\n",
       "}\n",
       ".err-msg {\n",
       "color: red;\n",
       "font-style: italic;\n",
       "font-family: monospace;\n",
       "white-space: pre;\n",
       "display: block;\n",
       "}\n",
       "#unshowable {\n",
       "color: red;\n",
       "font-weight: bold;\n",
       "}\n",
       ".err-msg.in.collapse {\n",
       "padding-top: 0.7em;\n",
       "}\n",
       ".highlight-code {\n",
       "white-space: pre;\n",
       "font-family: monospace;\n",
       "}\n",
       ".suggestion-warning { \n",
       "font-weight: bold;\n",
       "color: rgb(200, 130, 0);\n",
       "}\n",
       ".suggestion-error { \n",
       "font-weight: bold;\n",
       "color: red;\n",
       "}\n",
       ".suggestion-name {\n",
       "font-weight: bold;\n",
       "}\n",
       "</style><span class='get-type'>[False, True] :: [Bool]</span>"
      ],
      "text/plain": [
       "[False, True] :: [Bool]"
      ]
     },
     "metadata": {},
     "output_type": "display_data"
    },
    {
     "data": {
      "text/html": [
       "<style>/* Styles used for the Hoogle display in the pager */\n",
       ".hoogle-doc {\n",
       "display: block;\n",
       "padding-bottom: 1.3em;\n",
       "padding-left: 0.4em;\n",
       "}\n",
       ".hoogle-code {\n",
       "display: block;\n",
       "font-family: monospace;\n",
       "white-space: pre;\n",
       "}\n",
       ".hoogle-text {\n",
       "display: block;\n",
       "}\n",
       ".hoogle-name {\n",
       "color: green;\n",
       "font-weight: bold;\n",
       "}\n",
       ".hoogle-head {\n",
       "font-weight: bold;\n",
       "}\n",
       ".hoogle-sub {\n",
       "display: block;\n",
       "margin-left: 0.4em;\n",
       "}\n",
       ".hoogle-package {\n",
       "font-weight: bold;\n",
       "font-style: italic;\n",
       "}\n",
       ".hoogle-module {\n",
       "font-weight: bold;\n",
       "}\n",
       ".hoogle-class {\n",
       "font-weight: bold;\n",
       "}\n",
       ".get-type {\n",
       "color: green;\n",
       "font-weight: bold;\n",
       "font-family: monospace;\n",
       "display: block;\n",
       "white-space: pre-wrap;\n",
       "}\n",
       ".show-type {\n",
       "color: green;\n",
       "font-weight: bold;\n",
       "font-family: monospace;\n",
       "margin-left: 1em;\n",
       "}\n",
       ".mono {\n",
       "font-family: monospace;\n",
       "display: block;\n",
       "}\n",
       ".err-msg {\n",
       "color: red;\n",
       "font-style: italic;\n",
       "font-family: monospace;\n",
       "white-space: pre;\n",
       "display: block;\n",
       "}\n",
       "#unshowable {\n",
       "color: red;\n",
       "font-weight: bold;\n",
       "}\n",
       ".err-msg.in.collapse {\n",
       "padding-top: 0.7em;\n",
       "}\n",
       ".highlight-code {\n",
       "white-space: pre;\n",
       "font-family: monospace;\n",
       "}\n",
       ".suggestion-warning { \n",
       "font-weight: bold;\n",
       "color: rgb(200, 130, 0);\n",
       "}\n",
       ".suggestion-error { \n",
       "font-weight: bold;\n",
       "color: red;\n",
       "}\n",
       ".suggestion-name {\n",
       "font-weight: bold;\n",
       "}\n",
       "</style><span class='get-type'>(&&) :: Bool -> Bool -> Bool</span>"
      ],
      "text/plain": [
       "(&&) :: Bool -> Bool -> Bool"
      ]
     },
     "metadata": {},
     "output_type": "display_data"
    },
    {
     "data": {
      "text/html": [
       "<style>/* Styles used for the Hoogle display in the pager */\n",
       ".hoogle-doc {\n",
       "display: block;\n",
       "padding-bottom: 1.3em;\n",
       "padding-left: 0.4em;\n",
       "}\n",
       ".hoogle-code {\n",
       "display: block;\n",
       "font-family: monospace;\n",
       "white-space: pre;\n",
       "}\n",
       ".hoogle-text {\n",
       "display: block;\n",
       "}\n",
       ".hoogle-name {\n",
       "color: green;\n",
       "font-weight: bold;\n",
       "}\n",
       ".hoogle-head {\n",
       "font-weight: bold;\n",
       "}\n",
       ".hoogle-sub {\n",
       "display: block;\n",
       "margin-left: 0.4em;\n",
       "}\n",
       ".hoogle-package {\n",
       "font-weight: bold;\n",
       "font-style: italic;\n",
       "}\n",
       ".hoogle-module {\n",
       "font-weight: bold;\n",
       "}\n",
       ".hoogle-class {\n",
       "font-weight: bold;\n",
       "}\n",
       ".get-type {\n",
       "color: green;\n",
       "font-weight: bold;\n",
       "font-family: monospace;\n",
       "display: block;\n",
       "white-space: pre-wrap;\n",
       "}\n",
       ".show-type {\n",
       "color: green;\n",
       "font-weight: bold;\n",
       "font-family: monospace;\n",
       "margin-left: 1em;\n",
       "}\n",
       ".mono {\n",
       "font-family: monospace;\n",
       "display: block;\n",
       "}\n",
       ".err-msg {\n",
       "color: red;\n",
       "font-style: italic;\n",
       "font-family: monospace;\n",
       "white-space: pre;\n",
       "display: block;\n",
       "}\n",
       "#unshowable {\n",
       "color: red;\n",
       "font-weight: bold;\n",
       "}\n",
       ".err-msg.in.collapse {\n",
       "padding-top: 0.7em;\n",
       "}\n",
       ".highlight-code {\n",
       "white-space: pre;\n",
       "font-family: monospace;\n",
       "}\n",
       ".suggestion-warning { \n",
       "font-weight: bold;\n",
       "color: rgb(200, 130, 0);\n",
       "}\n",
       ".suggestion-error { \n",
       "font-weight: bold;\n",
       "color: red;\n",
       "}\n",
       ".suggestion-name {\n",
       "font-weight: bold;\n",
       "}\n",
       "</style><span class='get-type'>[(&&), (||)] :: [Bool -> Bool -> Bool]</span>"
      ],
      "text/plain": [
       "[(&&), (||)] :: [Bool -> Bool -> Bool]"
      ]
     },
     "metadata": {},
     "output_type": "display_data"
    }
   ],
   "source": [
    ":type 'a'           -- 문자\n",
    ":type ['a','b','c'] -- 문자 리스트 = 문자열(String)\n",
    ":type False         -- 진리값\n",
    ":type [False, True] -- 진리값 리스트 \n",
    ":type (&&)          -- 함수\n",
    ":type [(&&), (||)]  -- 함수 리스트"
   ]
  },
  {
   "cell_type": "code",
   "execution_count": 11,
   "id": "f5eb3d32-dcf6-46c8-a858-8bed14dc86a0",
   "metadata": {},
   "outputs": [
    {
     "ename": "",
     "evalue": "",
     "output_type": "error",
     "traceback": [
      "<interactive>:1:13: error:\n    • Couldn't match expected type ‘Bool’ with actual type ‘Char’\n    • In the expression: 'a'\n      In the expression: [True, False, 'a', 'b']\n      In an equation for ‘it’: it = [True, False, 'a', ....]\n<interactive>:1:17: error:\n    • Couldn't match expected type ‘Bool’ with actual type ‘Char’\n    • In the expression: 'b'\n      In the expression: [True, False, 'a', 'b']\n      In an equation for ‘it’: it = [True, False, 'a', ....]"
     ]
    }
   ],
   "source": [
    "[True,False,'a','b'] -- 같은 타입끼리만 리스트 구성 가능하므로 오류"
   ]
  },
  {
   "cell_type": "markdown",
   "id": "0784d15c-6e02-4868-aecd-701d1181605a",
   "metadata": {},
   "source": [
    "### 리스트 이어붙이기 연산자\n",
    "두 개의 리스트를 다음 연산자로 이어붙일 수 있다."
   ]
  },
  {
   "cell_type": "code",
   "execution_count": 12,
   "id": "44e2e2e2-2243-4103-ac91-39f6e19bcf45",
   "metadata": {},
   "outputs": [
    {
     "data": {
      "text/html": [
       "<style>/* Styles used for the Hoogle display in the pager */\n",
       ".hoogle-doc {\n",
       "display: block;\n",
       "padding-bottom: 1.3em;\n",
       "padding-left: 0.4em;\n",
       "}\n",
       ".hoogle-code {\n",
       "display: block;\n",
       "font-family: monospace;\n",
       "white-space: pre;\n",
       "}\n",
       ".hoogle-text {\n",
       "display: block;\n",
       "}\n",
       ".hoogle-name {\n",
       "color: green;\n",
       "font-weight: bold;\n",
       "}\n",
       ".hoogle-head {\n",
       "font-weight: bold;\n",
       "}\n",
       ".hoogle-sub {\n",
       "display: block;\n",
       "margin-left: 0.4em;\n",
       "}\n",
       ".hoogle-package {\n",
       "font-weight: bold;\n",
       "font-style: italic;\n",
       "}\n",
       ".hoogle-module {\n",
       "font-weight: bold;\n",
       "}\n",
       ".hoogle-class {\n",
       "font-weight: bold;\n",
       "}\n",
       ".get-type {\n",
       "color: green;\n",
       "font-weight: bold;\n",
       "font-family: monospace;\n",
       "display: block;\n",
       "white-space: pre-wrap;\n",
       "}\n",
       ".show-type {\n",
       "color: green;\n",
       "font-weight: bold;\n",
       "font-family: monospace;\n",
       "margin-left: 1em;\n",
       "}\n",
       ".mono {\n",
       "font-family: monospace;\n",
       "display: block;\n",
       "}\n",
       ".err-msg {\n",
       "color: red;\n",
       "font-style: italic;\n",
       "font-family: monospace;\n",
       "white-space: pre;\n",
       "display: block;\n",
       "}\n",
       "#unshowable {\n",
       "color: red;\n",
       "font-weight: bold;\n",
       "}\n",
       ".err-msg.in.collapse {\n",
       "padding-top: 0.7em;\n",
       "}\n",
       ".highlight-code {\n",
       "white-space: pre;\n",
       "font-family: monospace;\n",
       "}\n",
       ".suggestion-warning { \n",
       "font-weight: bold;\n",
       "color: rgb(200, 130, 0);\n",
       "}\n",
       ".suggestion-error { \n",
       "font-weight: bold;\n",
       "color: red;\n",
       "}\n",
       ".suggestion-name {\n",
       "font-weight: bold;\n",
       "}\n",
       "</style><span class='get-type'>(++) :: forall a. [a] -> [a] -> [a]</span>"
      ],
      "text/plain": [
       "(++) :: forall a. [a] -> [a] -> [a]"
      ]
     },
     "metadata": {},
     "output_type": "display_data"
    }
   ],
   "source": [
    ":type (++)"
   ]
  },
  {
   "cell_type": "code",
   "execution_count": 13,
   "id": "cc4fa9b9-580e-4982-9886-f60b89d9d239",
   "metadata": {},
   "outputs": [
    {
     "data": {
      "text/plain": [
       "[1,2,3,4,5,6]"
      ]
     },
     "metadata": {},
     "output_type": "display_data"
    }
   ],
   "source": [
    "[1,2,3] ++ [4,5,6] -- 정수 리스트 이어붙이기"
   ]
  },
  {
   "cell_type": "markdown",
   "id": "74b2825a-21e9-44d2-aa34-521932ce6bf4",
   "metadata": {},
   "source": [
    "$~$\\vspace*{-2ex}\\newline\n",
    "리스트로 집합을 표현한다면 `++` 연산자는 합집합 연산에 해당한다.\n",
    "\n",
    "참고로, 중위(infix) 연산자만 단독으로 괄호로 감싸면 전위(prefix) 표현인 함수 이름처럼 사용할 수 있다."
   ]
  },
  {
   "cell_type": "code",
   "execution_count": 14,
   "id": "54dc20d8-1a15-498f-830c-b442fcfce5ba",
   "metadata": {},
   "outputs": [
    {
     "data": {
      "text/plain": [
       "[1,2,3,4,5,6]"
      ]
     },
     "metadata": {},
     "output_type": "display_data"
    }
   ],
   "source": [
    "(++) [1,2,3] [4,5,6]"
   ]
  },
  {
   "cell_type": "markdown",
   "id": "e9dc38af-3c14-4eb6-bb22-e1611427da1b",
   "metadata": {},
   "source": [
    "### 리스트 조건제시법\n",
    "수학에서 집합 조건제시법(set comprehension)과 비슷한 형태의 문법인 리스트 조건제시법(list comprehension)으로 하스켈 리스트를 작성할 수 있다."
   ]
  },
  {
   "cell_type": "markdown",
   "id": "97c51d43-6e88-4819-a8d5-862da1a5d3e7",
   "metadata": {},
   "source": [
    "\\indent\n",
    "$\\displaystyle\\big\\{(x,y) \\mid x\\in\\{1,2\\},\\;y\\in\\{1,2,3\\}\\big\\}$"
   ]
  },
  {
   "cell_type": "code",
   "execution_count": 15,
   "id": "51193c37-c7db-4912-8441-f9bd4c71f1b4",
   "metadata": {},
   "outputs": [
    {
     "data": {
      "text/plain": [
       "[(1,1),(1,2),(1,3),(2,1),(2,2),(2,3)]"
      ]
     },
     "metadata": {},
     "output_type": "display_data"
    }
   ],
   "source": [
    "[ (x,y) | x <- [1,2], y <-[1,2,3] ]"
   ]
  },
  {
   "cell_type": "markdown",
   "id": "9fb8a34f-b89f-44d3-b51d-cc6a39d1e36f",
   "metadata": {},
   "source": [
    "\\indent\n",
    "$\\displaystyle\\big\\{(x,y,z) \\mid x,y,z\\in\\{1,\\ldots,20\\},\\;x^2+y^2=z^2,\\;x<y,\\;\\text{$x$와 $y$는 서로 소}\\big\\}$"
   ]
  },
  {
   "cell_type": "code",
   "execution_count": 16,
   "id": "3f2f86b1-2752-45cd-b60e-4d14822620fd",
   "metadata": {},
   "outputs": [
    {
     "data": {
      "text/plain": [
       "[(3,4,5),(5,12,13),(8,15,17)]"
      ]
     },
     "metadata": {},
     "output_type": "display_data"
    }
   ],
   "source": [
    "[ (x,y,z) | x <- [1..20], y <- [1..20], z <- [1..20],\n",
    "            x^2 + y^2 == z^2, x < y, gcd x y == 1 ]"
   ]
  },
  {
   "cell_type": "code",
   "execution_count": 17,
   "id": "48d2aefc-d740-4b2c-ac00-79d31fb89814",
   "metadata": {},
   "outputs": [
    {
     "data": {
      "text/plain": [
       "[1,2,3,4,5,6,7,8,9,10,11,12,13,14,15,16,17,18,19,20]"
      ]
     },
     "metadata": {},
     "output_type": "display_data"
    },
    {
     "data": {
      "text/plain": [
       "[1,3,5,7,9,11,13,15,17,19]"
      ]
     },
     "metadata": {},
     "output_type": "display_data"
    }
   ],
   "source": [
    "[1..20]   -- 1부터 1씩 증가하는 20까지의 등차수열\n",
    "[1,3..20] -- 원소 2개로 시작하면 등차수열 간격 설정"
   ]
  },
  {
   "cell_type": "markdown",
   "id": "f1affd48-85ed-4bf8-ba78-764cf2d60394",
   "metadata": {},
   "source": [
    "## 여러 걸음(`step`) 진행하려면"
   ]
  },
  {
   "cell_type": "code",
   "execution_count": 18,
   "id": "15eaae31-f1e2-41ea-ae60-ad4e9bfa1d4b",
   "metadata": {},
   "outputs": [
    {
     "data": {
      "text/plain": [
       "[Add (I 3) (Add (I 3) (I 4)),Add (Add (I 1) (I 2)) (I 7)]"
      ]
     },
     "metadata": {},
     "output_type": "display_data"
    }
   ],
   "source": [
    "e0 = (Add (I 1 `Add` I 2) (I 3 `Add` I 4))\n",
    "\n",
    "step e0        -- (1+2)+(3+4)를 1걸음 진행"
   ]
  },
  {
   "cell_type": "code",
   "execution_count": 19,
   "id": "61240b5b-5976-488a-b1dc-8a25ddf89279",
   "metadata": {},
   "outputs": [
    {
     "ename": "",
     "evalue": "",
     "output_type": "error",
     "traceback": [
      "<interactive>:1:7: error:\n    • Couldn't match expected type ‘Expr’ with actual type ‘[Expr]’\n    • In the first argument of ‘step’, namely ‘(step e0)’\n      In the expression: step (step e0)\n      In an equation for ‘it’: it = step (step e0)"
     ]
    }
   ],
   "source": [
    "step (step e0) -- (1+2)+(3+4)를 2걸음 진행???"
   ]
  },
  {
   "cell_type": "code",
   "execution_count": 20,
   "id": "ca6bfccc-e75b-4315-a25b-7b0aabd1f572",
   "metadata": {},
   "outputs": [
    {
     "data": {
      "text/html": [
       "<style>/* Styles used for the Hoogle display in the pager */\n",
       ".hoogle-doc {\n",
       "display: block;\n",
       "padding-bottom: 1.3em;\n",
       "padding-left: 0.4em;\n",
       "}\n",
       ".hoogle-code {\n",
       "display: block;\n",
       "font-family: monospace;\n",
       "white-space: pre;\n",
       "}\n",
       ".hoogle-text {\n",
       "display: block;\n",
       "}\n",
       ".hoogle-name {\n",
       "color: green;\n",
       "font-weight: bold;\n",
       "}\n",
       ".hoogle-head {\n",
       "font-weight: bold;\n",
       "}\n",
       ".hoogle-sub {\n",
       "display: block;\n",
       "margin-left: 0.4em;\n",
       "}\n",
       ".hoogle-package {\n",
       "font-weight: bold;\n",
       "font-style: italic;\n",
       "}\n",
       ".hoogle-module {\n",
       "font-weight: bold;\n",
       "}\n",
       ".hoogle-class {\n",
       "font-weight: bold;\n",
       "}\n",
       ".get-type {\n",
       "color: green;\n",
       "font-weight: bold;\n",
       "font-family: monospace;\n",
       "display: block;\n",
       "white-space: pre-wrap;\n",
       "}\n",
       ".show-type {\n",
       "color: green;\n",
       "font-weight: bold;\n",
       "font-family: monospace;\n",
       "margin-left: 1em;\n",
       "}\n",
       ".mono {\n",
       "font-family: monospace;\n",
       "display: block;\n",
       "}\n",
       ".err-msg {\n",
       "color: red;\n",
       "font-style: italic;\n",
       "font-family: monospace;\n",
       "white-space: pre;\n",
       "display: block;\n",
       "}\n",
       "#unshowable {\n",
       "color: red;\n",
       "font-weight: bold;\n",
       "}\n",
       ".err-msg.in.collapse {\n",
       "padding-top: 0.7em;\n",
       "}\n",
       ".highlight-code {\n",
       "white-space: pre;\n",
       "font-family: monospace;\n",
       "}\n",
       ".suggestion-warning { \n",
       "font-weight: bold;\n",
       "color: rgb(200, 130, 0);\n",
       "}\n",
       ".suggestion-error { \n",
       "font-weight: bold;\n",
       "color: red;\n",
       "}\n",
       ".suggestion-name {\n",
       "font-weight: bold;\n",
       "}\n",
       "</style><span class='get-type'>step :: Expr -> [Expr]</span>"
      ],
      "text/plain": [
       "step :: Expr -> [Expr]"
      ]
     },
     "metadata": {},
     "output_type": "display_data"
    }
   ],
   "source": [
    ":type step"
   ]
  },
  {
   "cell_type": "markdown",
   "id": "1a321b4c-ecc4-441a-b238-40e5bc004377",
   "metadata": {},
   "source": [
    "$~$\\newline\\noindent\n",
    "함수 `step`은 산술식(`Expr`)에 적용해야 하는데 `step`의 결과는 산술식의 리스트(`[Expr]`)이므로\n",
    "연쇄적으로 적용하려면 타입이 맞지 않는다. $g : A \\to A$처럼 정의역과 공역이 같은 함수라야\n",
    "$g(g(a))$와 같이 연쇄적으로 적용할 수 있다. 일반적으로 $f:A\\to 2^A$처럼 하나의 원소를 같은 종류 원소들의 집합으로\n",
    "대응시키는 함수의 정의역($A$)을 공역에 맞도록 확장한 버전의 함수를 $\\hat{f}:2^A\\to 2^A$는 다음과 같이 정의할 수 있다.\n",
    "$$\\hat{f}(S) = \\bigcup_{a\\in S} f(a)$$"
   ]
  },
  {
   "cell_type": "code",
   "execution_count": 21,
   "id": "433491cc-a4d8-48c2-b04f-61ffb67abe6c",
   "metadata": {},
   "outputs": [
    {
     "data": {
      "text/plain": [
       "[Add (I 3) (I 7)]"
      ]
     },
     "metadata": {},
     "output_type": "display_data"
    },
    {
     "data": {
      "text/plain": [
       "[Add (I 3) (I 7)]"
      ]
     },
     "metadata": {},
     "output_type": "display_data"
    }
   ],
   "source": [
    "-- (1+2)+(3+4) 계산 2걸음은, 1단계 진행 결과 각각에 step을 적용한 결과를 모아야\n",
    "step (Add (I 3) (Add (I 3) (I 4)))\n",
    "step (Add (Add (I 1) (I 2)) (I 7))"
   ]
  }
 ],
 "metadata": {
  "kernelspec": {
   "display_name": "Haskell",
   "language": "haskell",
   "name": "haskell"
  },
  "language_info": {
   "codemirror_mode": "ihaskell",
   "file_extension": ".hs",
   "mimetype": "text/x-haskell",
   "name": "haskell",
   "pygments_lexer": "Haskell",
   "version": "8.10.7"
  }
 },
 "nbformat": 4,
 "nbformat_minor": 5
}
