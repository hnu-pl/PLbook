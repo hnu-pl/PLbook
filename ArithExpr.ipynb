{
 "cells": [
  {
   "cell_type": "markdown",
   "id": "cf209757-b536-4ae7-afe9-5e578217bd70",
   "metadata": {},
   "source": [
    "정수 리터럴과 덧셈만 있는 아주 간단한 산술식을 하스켈으로 다뤄보자."
   ]
  },
  {
   "cell_type": "code",
   "execution_count": 1,
   "id": "1962ae3a-0cf0-464a-b0e9-b70aa5ae3707",
   "metadata": {},
   "outputs": [],
   "source": [
    ":opt no-lint                          -- linter 끄기\n",
    "{-# LANGUAGE ScopedTypeVariables #-}  -- 추가 언어 기능 설정"
   ]
  },
  {
   "cell_type": "markdown",
   "id": "6ab16c8b-a09b-49bb-8190-5e7ef14cfffa",
   "metadata": {},
   "source": [
    "\\noindent\n",
    "문법구조\n",
    "$\\hspace{-2ex}\\begin{array}{ll}\n",
    "& n \\in \\texttt{Int} \\\\\n",
    "& e \\in \\texttt{Expr} ~::=~ n ~\\mid~ e + e\n",
    "\\end{array}$는 데이터 타입으로 선언하면 된다."
   ]
  },
  {
   "cell_type": "code",
   "execution_count": 2,
   "id": "bc3f627f-909c-4953-a6c7-33c8ea425068",
   "metadata": {},
   "outputs": [],
   "source": [
    "data Expr = I Int          -- n\n",
    "          | Add Expr Expr  -- e + e\n",
    "       deriving (Eq,Ord,Show) -- Eq 같은지, Ord 순서 비교, Show 출력 가능"
   ]
  },
  {
   "cell_type": "raw",
   "id": "07c5119e-a065-46fa-8545-ba963c33eebc",
   "metadata": {},
   "source": [
    "~\\\\"
   ]
  },
  {
   "cell_type": "markdown",
   "id": "193e2537-2927-412f-880b-984165bbe3b9",
   "metadata": {},
   "source": [
    "작은걸음 의미구조\\vspace*{-3ex}\n",
    "$$\n",
    "\\frac{~ ~}{~ n_1 + n_2 \\longmapsto n ~}\n",
    "{\\scriptstyle(\\,n\\;\\equiv\\;n_1\\,+\\,n_2\\,)}\n",
    "\\quad\n",
    "\\frac{~ e_1 \\longmapsto e_1' ~}{~ e_1 + e_2 \\longmapsto e_1' + e_e ~}\n",
    "\\quad\n",
    "\\frac{~ e_1 \\longmapsto e_1' ~}{~ e_1 + e_2 \\longmapsto e_1' + e_e ~}\n",
    "$$\n",
    "는 어떻게? TODO TODO TODO"
   ]
  },
  {
   "cell_type": "markdown",
   "id": "b0878166-e916-41a6-8af3-705c81176282",
   "metadata": {},
   "source": [
    "# 작은걸음 의미구조 검산기"
   ]
  },
  {
   "cell_type": "code",
   "execution_count": 3,
   "id": "7b9598e7-03cd-4325-a3d0-e30bc20e3a0a",
   "metadata": {},
   "outputs": [
    {
     "ename": "",
     "evalue": "",
     "output_type": "error",
     "traceback": [
      "<interactive>:2:8: error:\n    • Conflicting definitions for ‘e2’\n      Bound at: <interactive>:2:8-9\n                <interactive>:2:24-25\n    • In an equation for ‘...>’\n<interactive>:3:5: error:\n    • Conflicting definitions for ‘e1’\n      Bound at: <interactive>:3:5-6\n                <interactive>:3:20-21\n    • In an equation for ‘...>’"
     ]
    }
   ],
   "source": [
    "Add (I n1) (I n2) ...> I n  =  n == n1 + n2\n",
    "Add e1 e2 ...> Add e1' e2   =  e1 ...> e1'  -- 좌변에 변수 e2 중복\n",
    "Add e1 e2 ...> Add e1  e2'  =  e2 ...> e2'  -- 좌변에 변수 e1 중복\n",
    "_         ...> _            =  False  -- 다른 경우에는 진행 불가"
   ]
  },
  {
   "cell_type": "code",
   "execution_count": 4,
   "id": "9414458b-38b6-4274-b9eb-178a7eda2c66",
   "metadata": {},
   "outputs": [],
   "source": [
    "Add (I n1) (I n2) ...> I n  =  n == n1 + n2\n",
    "Add e1 e2 ...> Add e1' e2'  =  e1 ...> e1' && e2 == e2'  ||\n",
    "                               e2 ...> e2' && e1 == e1'\n",
    "_         ...> _            =  False  -- 다른 경우에는 진행 불가"
   ]
  },
  {
   "cell_type": "code",
   "execution_count": 5,
   "id": "801dcd00-c02f-4af2-9c82-8854e1743434",
   "metadata": {},
   "outputs": [
    {
     "data": {
      "text/html": [
       "<style>/* Styles used for the Hoogle display in the pager */\n",
       ".hoogle-doc {\n",
       "display: block;\n",
       "padding-bottom: 1.3em;\n",
       "padding-left: 0.4em;\n",
       "}\n",
       ".hoogle-code {\n",
       "display: block;\n",
       "font-family: monospace;\n",
       "white-space: pre;\n",
       "}\n",
       ".hoogle-text {\n",
       "display: block;\n",
       "}\n",
       ".hoogle-name {\n",
       "color: green;\n",
       "font-weight: bold;\n",
       "}\n",
       ".hoogle-head {\n",
       "font-weight: bold;\n",
       "}\n",
       ".hoogle-sub {\n",
       "display: block;\n",
       "margin-left: 0.4em;\n",
       "}\n",
       ".hoogle-package {\n",
       "font-weight: bold;\n",
       "font-style: italic;\n",
       "}\n",
       ".hoogle-module {\n",
       "font-weight: bold;\n",
       "}\n",
       ".hoogle-class {\n",
       "font-weight: bold;\n",
       "}\n",
       ".get-type {\n",
       "color: green;\n",
       "font-weight: bold;\n",
       "font-family: monospace;\n",
       "display: block;\n",
       "white-space: pre-wrap;\n",
       "}\n",
       ".show-type {\n",
       "color: green;\n",
       "font-weight: bold;\n",
       "font-family: monospace;\n",
       "margin-left: 1em;\n",
       "}\n",
       ".mono {\n",
       "font-family: monospace;\n",
       "display: block;\n",
       "}\n",
       ".err-msg {\n",
       "color: red;\n",
       "font-style: italic;\n",
       "font-family: monospace;\n",
       "white-space: pre;\n",
       "display: block;\n",
       "}\n",
       "#unshowable {\n",
       "color: red;\n",
       "font-weight: bold;\n",
       "}\n",
       ".err-msg.in.collapse {\n",
       "padding-top: 0.7em;\n",
       "}\n",
       ".highlight-code {\n",
       "white-space: pre;\n",
       "font-family: monospace;\n",
       "}\n",
       ".suggestion-warning { \n",
       "font-weight: bold;\n",
       "color: rgb(200, 130, 0);\n",
       "}\n",
       ".suggestion-error { \n",
       "font-weight: bold;\n",
       "color: red;\n",
       "}\n",
       ".suggestion-name {\n",
       "font-weight: bold;\n",
       "}\n",
       "</style><span class='get-type'>(...>) :: Expr -> Expr -> Bool</span>"
      ],
      "text/plain": [
       "(...>) :: Expr -> Expr -> Bool"
      ]
     },
     "metadata": {},
     "output_type": "display_data"
    }
   ],
   "source": [
    ":type (...>)"
   ]
  },
  {
   "cell_type": "code",
   "execution_count": 6,
   "id": "e85dfdc5-0142-4adb-baa3-f17dbe3dbe45",
   "metadata": {},
   "outputs": [
    {
     "data": {
      "text/plain": [
       "True"
      ]
     },
     "metadata": {},
     "output_type": "display_data"
    },
    {
     "data": {
      "text/plain": [
       "False"
      ]
     },
     "metadata": {},
     "output_type": "display_data"
    }
   ],
   "source": [
    "Add (I 1) (I 2) ...> I 3  -- 검산 성공\n",
    "Add (I 1) (I 2) ...> I 4  -- 검산 실패"
   ]
  },
  {
   "cell_type": "code",
   "execution_count": 7,
   "id": "3bf26a86-8171-4198-b821-48b7f5d2d3fc",
   "metadata": {},
   "outputs": [
    {
     "data": {
      "text/plain": [
       "True"
      ]
     },
     "metadata": {},
     "output_type": "display_data"
    },
    {
     "data": {
      "text/plain": [
       "False"
      ]
     },
     "metadata": {},
     "output_type": "display_data"
    }
   ],
   "source": [
    "I 1 `Add` I 2 ...> I 3\n",
    "I 1 `Add` I 2 ...> I 4"
   ]
  },
  {
   "cell_type": "code",
   "execution_count": 8,
   "id": "f449e6b9-0d45-41d2-8bb0-98e440088d3a",
   "metadata": {},
   "outputs": [
    {
     "data": {
      "text/plain": [
       "True"
      ]
     },
     "metadata": {},
     "output_type": "display_data"
    },
    {
     "data": {
      "text/plain": [
       "True"
      ]
     },
     "metadata": {},
     "output_type": "display_data"
    },
    {
     "data": {
      "text/plain": [
       "False"
      ]
     },
     "metadata": {},
     "output_type": "display_data"
    }
   ],
   "source": [
    "Add(I 1 `Add` I 2)(I 3 `Add` I 4) ...> Add(I 3)(I 3 `Add` I 4)\n",
    "Add(I 1 `Add` I 2)(I 3 `Add` I 4) ...> Add(I 1 `Add` I 2)(I 7)\n",
    "Add(I 1 `Add` I 2)(I 3 `Add` I 4) ...> Add(I 3)(I 7) -- 한꺼번에 2걸음"
   ]
  },
  {
   "cell_type": "markdown",
   "id": "d9a81d34-5a5c-4466-8f49-422c3de2a166",
   "metadata": {},
   "source": [
    "# 작은걸음 의미구조 계산기\n",
    "비결정적인 작은걸음 관계($\\longmapsto\\;\\subset\\;\\texttt{Expr}\\times\\texttt{Expr}$)를\n",
    "함수($f_{\\longmapsto}$)로 만드는 방법은 모든 가능한 다음 단계를 한꺼번에 모아놓은 집합을\n",
    "결과값으로 하면 된다. 즉, 식($e\\in\\texttt{Expr}$) 하나에\n",
    "식의 집합($\\{e_1',e_2',\\ldots,e_k'\\}\\in 2^\\texttt{Expr}$) 하나를 대응시키는\n",
    "함수 $f_{\\longmapsto} : \\texttt{Expr} \\to 2^\\texttt{Expr}$를\n",
    "$f_{\\longmapsto}(e) = \\{\\,e' \\mid e\\longmapsto e'\\,\\}$로 정의하면 된다.\n",
    "이 정의는 단순명료하지만 작은걸음 의미구조의 계산기를 작성하는 데 적합하지 않다.\n",
    "식 $e$의 문법구조를 따라 정의된 작은걸음 의미구조처럼 $f_{\\longmapsto}$를\n",
    "귀납적(inductive)으로 다음과 같이 정의하면 프로그램으로 옮기기에 좋다.\n",
    "단, 마지막 등식에서 $e_1+e_2$는 위의 경우들과 겹치지 않는 형태($e_1+e_2\\neq n_1+n_2$)라고 가정한다.\n",
    "\\vspace*{-2ex}\n",
    "\\begin{align*}\n",
    "& f_{\\longmapsto} ~ : ~ \\texttt{Expr} \\to 2^\\texttt{Expr} \\\\\n",
    "& f_{\\longmapsto}(n)             &=~& \\{\\} \\\\\n",
    "& f_{\\longmapsto}(n_1 + n_2)     &=~& \\{ n \\} \\qquad(n \\equiv n_1 + n_2) \\\\\n",
    "& f_{\\longmapsto}(\\,e_1 + e_2\\,) &=~& \\{ e_1' + e_2 \\mid e_1\\longmapsto e_1' \\} \\cup \\{ e_1 + e_2' \\mid e_2\\longmapsto e_2'\\}\n",
    "\\end{align*}"
   ]
  },
  {
   "cell_type": "code",
   "execution_count": 9,
   "id": "fc7f2ed9-94fd-4aff-b646-f02d059df23e",
   "metadata": {},
   "outputs": [],
   "source": [
    "step :: Expr -> [Expr] -- 리스트로 집합을 표현\n",
    "step n                 = []\n",
    "step (I n1 `Add` I n2) = [ I n ]  where n = n1 + n2\n",
    "step (Add e1 e2)       = [ Add e1' e2  | e1' <- step e1 ] ++\n",
    "                         [ Add e1  e2' | e2' <- step e2 ]"
   ]
  },
  {
   "cell_type": "markdown",
   "id": "636914dc-40a6-416c-b407-290bed1b1e19",
   "metadata": {},
   "source": [
    "## 하스켈의 리스트"
   ]
  },
  {
   "cell_type": "code",
   "execution_count": 10,
   "id": "9d776a69-ec96-40aa-8117-1d8885a37275",
   "metadata": {},
   "outputs": [
    {
     "data": {
      "text/html": [
       "<style>/* Styles used for the Hoogle display in the pager */\n",
       ".hoogle-doc {\n",
       "display: block;\n",
       "padding-bottom: 1.3em;\n",
       "padding-left: 0.4em;\n",
       "}\n",
       ".hoogle-code {\n",
       "display: block;\n",
       "font-family: monospace;\n",
       "white-space: pre;\n",
       "}\n",
       ".hoogle-text {\n",
       "display: block;\n",
       "}\n",
       ".hoogle-name {\n",
       "color: green;\n",
       "font-weight: bold;\n",
       "}\n",
       ".hoogle-head {\n",
       "font-weight: bold;\n",
       "}\n",
       ".hoogle-sub {\n",
       "display: block;\n",
       "margin-left: 0.4em;\n",
       "}\n",
       ".hoogle-package {\n",
       "font-weight: bold;\n",
       "font-style: italic;\n",
       "}\n",
       ".hoogle-module {\n",
       "font-weight: bold;\n",
       "}\n",
       ".hoogle-class {\n",
       "font-weight: bold;\n",
       "}\n",
       ".get-type {\n",
       "color: green;\n",
       "font-weight: bold;\n",
       "font-family: monospace;\n",
       "display: block;\n",
       "white-space: pre-wrap;\n",
       "}\n",
       ".show-type {\n",
       "color: green;\n",
       "font-weight: bold;\n",
       "font-family: monospace;\n",
       "margin-left: 1em;\n",
       "}\n",
       ".mono {\n",
       "font-family: monospace;\n",
       "display: block;\n",
       "}\n",
       ".err-msg {\n",
       "color: red;\n",
       "font-style: italic;\n",
       "font-family: monospace;\n",
       "white-space: pre;\n",
       "display: block;\n",
       "}\n",
       "#unshowable {\n",
       "color: red;\n",
       "font-weight: bold;\n",
       "}\n",
       ".err-msg.in.collapse {\n",
       "padding-top: 0.7em;\n",
       "}\n",
       ".highlight-code {\n",
       "white-space: pre;\n",
       "font-family: monospace;\n",
       "}\n",
       ".suggestion-warning { \n",
       "font-weight: bold;\n",
       "color: rgb(200, 130, 0);\n",
       "}\n",
       ".suggestion-error { \n",
       "font-weight: bold;\n",
       "color: red;\n",
       "}\n",
       ".suggestion-name {\n",
       "font-weight: bold;\n",
       "}\n",
       "</style><span class='get-type'>'a' :: Char</span>"
      ],
      "text/plain": [
       "'a' :: Char"
      ]
     },
     "metadata": {},
     "output_type": "display_data"
    },
    {
     "data": {
      "text/html": [
       "<style>/* Styles used for the Hoogle display in the pager */\n",
       ".hoogle-doc {\n",
       "display: block;\n",
       "padding-bottom: 1.3em;\n",
       "padding-left: 0.4em;\n",
       "}\n",
       ".hoogle-code {\n",
       "display: block;\n",
       "font-family: monospace;\n",
       "white-space: pre;\n",
       "}\n",
       ".hoogle-text {\n",
       "display: block;\n",
       "}\n",
       ".hoogle-name {\n",
       "color: green;\n",
       "font-weight: bold;\n",
       "}\n",
       ".hoogle-head {\n",
       "font-weight: bold;\n",
       "}\n",
       ".hoogle-sub {\n",
       "display: block;\n",
       "margin-left: 0.4em;\n",
       "}\n",
       ".hoogle-package {\n",
       "font-weight: bold;\n",
       "font-style: italic;\n",
       "}\n",
       ".hoogle-module {\n",
       "font-weight: bold;\n",
       "}\n",
       ".hoogle-class {\n",
       "font-weight: bold;\n",
       "}\n",
       ".get-type {\n",
       "color: green;\n",
       "font-weight: bold;\n",
       "font-family: monospace;\n",
       "display: block;\n",
       "white-space: pre-wrap;\n",
       "}\n",
       ".show-type {\n",
       "color: green;\n",
       "font-weight: bold;\n",
       "font-family: monospace;\n",
       "margin-left: 1em;\n",
       "}\n",
       ".mono {\n",
       "font-family: monospace;\n",
       "display: block;\n",
       "}\n",
       ".err-msg {\n",
       "color: red;\n",
       "font-style: italic;\n",
       "font-family: monospace;\n",
       "white-space: pre;\n",
       "display: block;\n",
       "}\n",
       "#unshowable {\n",
       "color: red;\n",
       "font-weight: bold;\n",
       "}\n",
       ".err-msg.in.collapse {\n",
       "padding-top: 0.7em;\n",
       "}\n",
       ".highlight-code {\n",
       "white-space: pre;\n",
       "font-family: monospace;\n",
       "}\n",
       ".suggestion-warning { \n",
       "font-weight: bold;\n",
       "color: rgb(200, 130, 0);\n",
       "}\n",
       ".suggestion-error { \n",
       "font-weight: bold;\n",
       "color: red;\n",
       "}\n",
       ".suggestion-name {\n",
       "font-weight: bold;\n",
       "}\n",
       "</style><span class='get-type'>['a','b','c'] :: [Char]</span>"
      ],
      "text/plain": [
       "['a','b','c'] :: [Char]"
      ]
     },
     "metadata": {},
     "output_type": "display_data"
    },
    {
     "data": {
      "text/html": [
       "<style>/* Styles used for the Hoogle display in the pager */\n",
       ".hoogle-doc {\n",
       "display: block;\n",
       "padding-bottom: 1.3em;\n",
       "padding-left: 0.4em;\n",
       "}\n",
       ".hoogle-code {\n",
       "display: block;\n",
       "font-family: monospace;\n",
       "white-space: pre;\n",
       "}\n",
       ".hoogle-text {\n",
       "display: block;\n",
       "}\n",
       ".hoogle-name {\n",
       "color: green;\n",
       "font-weight: bold;\n",
       "}\n",
       ".hoogle-head {\n",
       "font-weight: bold;\n",
       "}\n",
       ".hoogle-sub {\n",
       "display: block;\n",
       "margin-left: 0.4em;\n",
       "}\n",
       ".hoogle-package {\n",
       "font-weight: bold;\n",
       "font-style: italic;\n",
       "}\n",
       ".hoogle-module {\n",
       "font-weight: bold;\n",
       "}\n",
       ".hoogle-class {\n",
       "font-weight: bold;\n",
       "}\n",
       ".get-type {\n",
       "color: green;\n",
       "font-weight: bold;\n",
       "font-family: monospace;\n",
       "display: block;\n",
       "white-space: pre-wrap;\n",
       "}\n",
       ".show-type {\n",
       "color: green;\n",
       "font-weight: bold;\n",
       "font-family: monospace;\n",
       "margin-left: 1em;\n",
       "}\n",
       ".mono {\n",
       "font-family: monospace;\n",
       "display: block;\n",
       "}\n",
       ".err-msg {\n",
       "color: red;\n",
       "font-style: italic;\n",
       "font-family: monospace;\n",
       "white-space: pre;\n",
       "display: block;\n",
       "}\n",
       "#unshowable {\n",
       "color: red;\n",
       "font-weight: bold;\n",
       "}\n",
       ".err-msg.in.collapse {\n",
       "padding-top: 0.7em;\n",
       "}\n",
       ".highlight-code {\n",
       "white-space: pre;\n",
       "font-family: monospace;\n",
       "}\n",
       ".suggestion-warning { \n",
       "font-weight: bold;\n",
       "color: rgb(200, 130, 0);\n",
       "}\n",
       ".suggestion-error { \n",
       "font-weight: bold;\n",
       "color: red;\n",
       "}\n",
       ".suggestion-name {\n",
       "font-weight: bold;\n",
       "}\n",
       "</style><span class='get-type'>(&&) :: Bool -> Bool -> Bool</span>"
      ],
      "text/plain": [
       "(&&) :: Bool -> Bool -> Bool"
      ]
     },
     "metadata": {},
     "output_type": "display_data"
    },
    {
     "data": {
      "text/html": [
       "<style>/* Styles used for the Hoogle display in the pager */\n",
       ".hoogle-doc {\n",
       "display: block;\n",
       "padding-bottom: 1.3em;\n",
       "padding-left: 0.4em;\n",
       "}\n",
       ".hoogle-code {\n",
       "display: block;\n",
       "font-family: monospace;\n",
       "white-space: pre;\n",
       "}\n",
       ".hoogle-text {\n",
       "display: block;\n",
       "}\n",
       ".hoogle-name {\n",
       "color: green;\n",
       "font-weight: bold;\n",
       "}\n",
       ".hoogle-head {\n",
       "font-weight: bold;\n",
       "}\n",
       ".hoogle-sub {\n",
       "display: block;\n",
       "margin-left: 0.4em;\n",
       "}\n",
       ".hoogle-package {\n",
       "font-weight: bold;\n",
       "font-style: italic;\n",
       "}\n",
       ".hoogle-module {\n",
       "font-weight: bold;\n",
       "}\n",
       ".hoogle-class {\n",
       "font-weight: bold;\n",
       "}\n",
       ".get-type {\n",
       "color: green;\n",
       "font-weight: bold;\n",
       "font-family: monospace;\n",
       "display: block;\n",
       "white-space: pre-wrap;\n",
       "}\n",
       ".show-type {\n",
       "color: green;\n",
       "font-weight: bold;\n",
       "font-family: monospace;\n",
       "margin-left: 1em;\n",
       "}\n",
       ".mono {\n",
       "font-family: monospace;\n",
       "display: block;\n",
       "}\n",
       ".err-msg {\n",
       "color: red;\n",
       "font-style: italic;\n",
       "font-family: monospace;\n",
       "white-space: pre;\n",
       "display: block;\n",
       "}\n",
       "#unshowable {\n",
       "color: red;\n",
       "font-weight: bold;\n",
       "}\n",
       ".err-msg.in.collapse {\n",
       "padding-top: 0.7em;\n",
       "}\n",
       ".highlight-code {\n",
       "white-space: pre;\n",
       "font-family: monospace;\n",
       "}\n",
       ".suggestion-warning { \n",
       "font-weight: bold;\n",
       "color: rgb(200, 130, 0);\n",
       "}\n",
       ".suggestion-error { \n",
       "font-weight: bold;\n",
       "color: red;\n",
       "}\n",
       ".suggestion-name {\n",
       "font-weight: bold;\n",
       "}\n",
       "</style><span class='get-type'>[(&&), (||)] :: [Bool -> Bool -> Bool]</span>"
      ],
      "text/plain": [
       "[(&&), (||)] :: [Bool -> Bool -> Bool]"
      ]
     },
     "metadata": {},
     "output_type": "display_data"
    }
   ],
   "source": [
    ":type 'a'           -- 문자\n",
    ":type ['a','b','c'] -- 문자 리스트 = 문자열(String)\n",
    ":type (&&)          -- 함수\n",
    ":type [(&&), (||)]  -- 함수 리스트"
   ]
  },
  {
   "cell_type": "code",
   "execution_count": 11,
   "id": "cc4fa9b9-580e-4982-9886-f60b89d9d239",
   "metadata": {},
   "outputs": [
    {
     "data": {
      "text/plain": [
       "[1,2,3,4,5,6]"
      ]
     },
     "metadata": {},
     "output_type": "display_data"
    }
   ],
   "source": [
    "[1,2,3] ++ [4,5,6]    -- 정수 리스트 이어붙이기"
   ]
  },
  {
   "cell_type": "code",
   "execution_count": 12,
   "id": "847f6a2e-e2ea-45ae-b8a0-ec1b5c71a1a1",
   "metadata": {},
   "outputs": [
    {
     "data": {
      "text/plain": [
       "[I 1,Add (I 1) (I 2),Add (I 3) (I 4),I 3]"
      ]
     },
     "metadata": {},
     "output_type": "display_data"
    }
   ],
   "source": [
    "[I 1, Add (I 1) (I 2)] ++ [Add (I 3) (I 4), I 3]"
   ]
  },
  {
   "cell_type": "code",
   "execution_count": 1,
   "id": "0406743d-ea56-44f6-8b09-08e132eac6ea",
   "metadata": {},
   "outputs": [
    {
     "data": {
      "text/html": [
       "<style>/* Styles used for the Hoogle display in the pager */\n",
       ".hoogle-doc {\n",
       "display: block;\n",
       "padding-bottom: 1.3em;\n",
       "padding-left: 0.4em;\n",
       "}\n",
       ".hoogle-code {\n",
       "display: block;\n",
       "font-family: monospace;\n",
       "white-space: pre;\n",
       "}\n",
       ".hoogle-text {\n",
       "display: block;\n",
       "}\n",
       ".hoogle-name {\n",
       "color: green;\n",
       "font-weight: bold;\n",
       "}\n",
       ".hoogle-head {\n",
       "font-weight: bold;\n",
       "}\n",
       ".hoogle-sub {\n",
       "display: block;\n",
       "margin-left: 0.4em;\n",
       "}\n",
       ".hoogle-package {\n",
       "font-weight: bold;\n",
       "font-style: italic;\n",
       "}\n",
       ".hoogle-module {\n",
       "font-weight: bold;\n",
       "}\n",
       ".hoogle-class {\n",
       "font-weight: bold;\n",
       "}\n",
       ".get-type {\n",
       "color: green;\n",
       "font-weight: bold;\n",
       "font-family: monospace;\n",
       "display: block;\n",
       "white-space: pre-wrap;\n",
       "}\n",
       ".show-type {\n",
       "color: green;\n",
       "font-weight: bold;\n",
       "font-family: monospace;\n",
       "margin-left: 1em;\n",
       "}\n",
       ".mono {\n",
       "font-family: monospace;\n",
       "display: block;\n",
       "}\n",
       ".err-msg {\n",
       "color: red;\n",
       "font-style: italic;\n",
       "font-family: monospace;\n",
       "white-space: pre;\n",
       "display: block;\n",
       "}\n",
       "#unshowable {\n",
       "color: red;\n",
       "font-weight: bold;\n",
       "}\n",
       ".err-msg.in.collapse {\n",
       "padding-top: 0.7em;\n",
       "}\n",
       ".highlight-code {\n",
       "white-space: pre;\n",
       "font-family: monospace;\n",
       "}\n",
       ".suggestion-warning { \n",
       "font-weight: bold;\n",
       "color: rgb(200, 130, 0);\n",
       "}\n",
       ".suggestion-error { \n",
       "font-weight: bold;\n",
       "color: red;\n",
       "}\n",
       ".suggestion-name {\n",
       "font-weight: bold;\n",
       "}\n",
       "</style><span class='get-type'>(++) :: forall a. [a] -> [a] -> [a]</span>"
      ],
      "text/plain": [
       "(++) :: forall a. [a] -> [a] -> [a]"
      ]
     },
     "metadata": {},
     "output_type": "display_data"
    }
   ],
   "source": [
    ":type (++)"
   ]
  },
  {
   "cell_type": "markdown",
   "id": "63dd98ec-af82-4647-a52b-de25832a4588",
   "metadata": {},
   "source": [
    "리스트 조건제시법"
   ]
  },
  {
   "cell_type": "code",
   "execution_count": 13,
   "id": "3f2f86b1-2752-45cd-b60e-4d14822620fd",
   "metadata": {},
   "outputs": [],
   "source": [
    "-- 리스트 조건제시법"
   ]
  }
 ],
 "metadata": {
  "kernelspec": {
   "display_name": "Haskell",
   "language": "haskell",
   "name": "haskell"
  },
  "language_info": {
   "codemirror_mode": "ihaskell",
   "file_extension": ".hs",
   "mimetype": "text/x-haskell",
   "name": "haskell",
   "pygments_lexer": "Haskell",
   "version": "8.10.7"
  }
 },
 "nbformat": 4,
 "nbformat_minor": 5
}
