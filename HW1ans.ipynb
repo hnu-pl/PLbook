{
 "cells": [
  {
   "cell_type": "markdown",
   "id": "7a21ee52-dbe1-4ed9-bbc4-34882c840737",
   "metadata": {},
   "source": [
    "# HW1 (프로그래밍언어론 2022년 1학기): 총 200점\n",
    "- 이름: ???\n",
    "- 학번: ????????\n",
    "\n",
    "\n",
    "표준라이브러리 함수나 다른 문제의 함수를 활용하지 않고 각각의 문제를 독립적으로 작성하라.\n",
    "\n",
    "`undefined`나 주석으로 처리된 부분에 필요한 코드를 작성하여 함수 선언을 완성하면 된다.\n",
    "\n",
    "2번 문제를 말고 다른 문제는 재귀함수로 작성하면 된다.\n",
    "\n",
    "1번 문제를 제외한 다른 문제에서는 필요하다면 리스트 조건제시법을 활용해도 좋다."
   ]
  },
  {
   "cell_type": "code",
   "execution_count": 1,
   "id": "905f2765-1485-4027-b5bf-9a970256e9a5",
   "metadata": {},
   "outputs": [],
   "source": [
    ":opt no-lint"
   ]
  },
  {
   "cell_type": "markdown",
   "id": "741518c9-134e-4e2f-afba-fe3ebe1ebe60",
   "metadata": {},
   "source": [
    "## 1. 함수 `incList`를 리스트 조건제시법 말고 재귀함수로 작성해 보라. (15점)"
   ]
  },
  {
   "cell_type": "code",
   "execution_count": 2,
   "id": "90870c0c-a5ae-448f-828a-2321ff7e93db",
   "metadata": {},
   "outputs": [],
   "source": [
    "incList :: [Int] -> [Int]\n",
    "incList []     = []\n",
    "incList (x:xs) = (x+1) : incList xs"
   ]
  },
  {
   "cell_type": "code",
   "execution_count": 3,
   "id": "5075d8f7-0cbc-4694-8909-96756a476e10",
   "metadata": {},
   "outputs": [
    {
     "data": {
      "text/plain": [
       "[2,3,4,5,6]"
      ]
     },
     "metadata": {},
     "output_type": "display_data"
    }
   ],
   "source": [
    "-- 리스트의 모든 원소를 1씩 증가시킨 리스트를 계산한다.\n",
    "incList [1,2,3,4,5]"
   ]
  },
  {
   "cell_type": "markdown",
   "id": "443a4770-dded-43d4-a76b-431a57ec5a48",
   "metadata": {},
   "source": [
    "## 2. 함수 `incList'`를 재귀함수가 아닌 리스트 조건제시법으로 작성해 보라. (15점)"
   ]
  },
  {
   "cell_type": "code",
   "execution_count": 4,
   "id": "b146b35d-5a6d-4a9b-920f-03c3e33963d7",
   "metadata": {},
   "outputs": [],
   "source": [
    "incList' :: [Int] -> [Int]\n",
    "incList' xs = [x+1 | x<-xs]"
   ]
  },
  {
   "cell_type": "code",
   "execution_count": 5,
   "id": "5972cbc1-901b-4742-b863-ea983f6fd49e",
   "metadata": {},
   "outputs": [
    {
     "data": {
      "text/plain": [
       "[2,3,4,5,6]"
      ]
     },
     "metadata": {},
     "output_type": "display_data"
    }
   ],
   "source": [
    "-- 리스트의 모든 원소를 1씩 증가시킨 리스트를 계산한다.\n",
    "incList' [1,2,3,4,5]"
   ]
  },
  {
   "cell_type": "markdown",
   "id": "0db47dbc-999a-4eb0-9f8b-4657a1bffdfc",
   "metadata": {},
   "source": [
    "## 3. 함수 `index`를 작성하라 (30점)"
   ]
  },
  {
   "cell_type": "code",
   "execution_count": 6,
   "id": "39421e90-7ae8-4263-a3da-0de8b896b90b",
   "metadata": {},
   "outputs": [],
   "source": [
    "index :: Eq a => a -> [a] -> Int\n",
    "index _ []     = error \"리스트에 없음\"\n",
    "index x (y:ys) = if x==y then 0 else 1 + index x ys"
   ]
  },
  {
   "cell_type": "code",
   "execution_count": 7,
   "id": "2c7b1d7d-1032-4d5f-b42e-df7098e871a3",
   "metadata": {},
   "outputs": [
    {
     "data": {
      "text/plain": [
       "0"
      ]
     },
     "metadata": {},
     "output_type": "display_data"
    }
   ],
   "source": [
    "index \"a\" [\"a\",\"b\",\"c\",\"a\"]"
   ]
  },
  {
   "cell_type": "code",
   "execution_count": 8,
   "id": "87c5be53-0463-481f-b687-fb4caa111eaa",
   "metadata": {},
   "outputs": [
    {
     "data": {
      "text/plain": [
       "2"
      ]
     },
     "metadata": {},
     "output_type": "display_data"
    }
   ],
   "source": [
    "index \"c\" [\"a\",\"b\",\"c\",\"b\",\"c\"]"
   ]
  },
  {
   "cell_type": "code",
   "execution_count": 9,
   "id": "0ac72776-4cca-4bd9-bde0-d0b4ba38aabf",
   "metadata": {},
   "outputs": [
    {
     "ename": "",
     "evalue": "",
     "header": "MessageHeader {mhIdentifiers = [\"a56ac378-01f9-480c-8562-c78cf3391a71\"], mhParentHeader = Just (MessageHeader {mhIdentifiers = [\"a56ac378-01f9-480c-8562-c78cf3391a71\"], mhParentHeader = Nothing, mhMetadata = Metadata (fromList [(\"recordTiming\",Bool False),(\"deletedCells\",Array []),(\"cellId\",String \"0ac72776-4cca-4bd9-bde0-d0b4ba38aabf\")]), mhMessageId = UUID {uuidToString = \"70d4f26f-7b0e-43cc-8892-8ce6c61fbfe9\"}, mhSessionId = UUID {uuidToString = \"a56ac378-01f9-480c-8562-c78cf3391a71\"}, mhUsername = \"\", mhMsgType = ExecuteRequestMessage, mhBuffers = []}), mhMetadata = Metadata (fromList []), mhMessageId = UUID {uuidToString = \"1ad443e3-ed6c-4131-94a8-b5e91c7c290f\"}, mhSessionId = UUID {uuidToString = \"a56ac378-01f9-480c-8562-c78cf3391a71\"}, mhUsername = \"\", mhMsgType = ExecuteErrorMessage, mhBuffers = []}",
     "output_type": "error",
     "traceback": [
      "리스트에 없음\nCallStack (from HasCallStack):\n  error, called at <interactive>:2:18 in interactive:Ghci124"
     ]
    }
   ],
   "source": [
    "index \"d\" [\"a\",\"b\",\"c\"]"
   ]
  },
  {
   "cell_type": "markdown",
   "id": "f063754f-5f36-4907-96bc-3db93f38660c",
   "metadata": {},
   "source": [
    "## 2. 함수 `index'`를 작성하라 (40점)"
   ]
  },
  {
   "cell_type": "code",
   "execution_count": 10,
   "id": "fc0cc5be-1736-47e5-aa4a-ea9a80562b0b",
   "metadata": {},
   "outputs": [],
   "source": [
    "index' :: Eq a => a -> [a] -> Int\n",
    "index' _ []    = -1\n",
    "index' x (y:ys)\n",
    "    | x == y    = 0\n",
    "    | i < 0     = -1\n",
    "    | otherwise = 1 + i\n",
    "    where\n",
    "      i = index' x ys"
   ]
  },
  {
   "cell_type": "code",
   "execution_count": 11,
   "id": "3ea7a1b4-f479-4602-aff4-aca3d85b3d46",
   "metadata": {},
   "outputs": [
    {
     "data": {
      "text/plain": [
       "0"
      ]
     },
     "metadata": {},
     "output_type": "display_data"
    }
   ],
   "source": [
    "index' \"a\" [\"a\",\"b\",\"c\"]"
   ]
  },
  {
   "cell_type": "code",
   "execution_count": 12,
   "id": "51df9588-25fa-475c-ab16-b6c7988d233a",
   "metadata": {},
   "outputs": [
    {
     "data": {
      "text/plain": [
       "2"
      ]
     },
     "metadata": {},
     "output_type": "display_data"
    }
   ],
   "source": [
    "index' \"c\" [\"a\",\"b\",\"c\",\"b\",\"c\"]"
   ]
  },
  {
   "cell_type": "code",
   "execution_count": 13,
   "id": "3ca234c7-af4c-43ce-9d23-42a09f8ae8b1",
   "metadata": {},
   "outputs": [
    {
     "data": {
      "text/plain": [
       "-1"
      ]
     },
     "metadata": {},
     "output_type": "display_data"
    }
   ],
   "source": [
    "index' \"d\" [\"a\",\"b\",\"c\"]"
   ]
  },
  {
   "cell_type": "markdown",
   "id": "661395a4-74f4-4219-aa82-31b61cfc4fbc",
   "metadata": {},
   "source": [
    "## 3. 함수 `indexM`을 작성하라 (40점)"
   ]
  },
  {
   "cell_type": "code",
   "execution_count": 14,
   "id": "8fca6e90-60af-4fa8-b2c4-2f4ed4fd6b63",
   "metadata": {},
   "outputs": [],
   "source": [
    "indexM :: Eq a => a -> [a] -> Maybe Int\n",
    "indexM _ [] = Nothing\n",
    "indexM x (y:ys) \n",
    "    | x == y    = Just 0\n",
    "    | otherwise = case indexM x ys of\n",
    "                    Nothing -> Nothing\n",
    "                    Just i  -> Just (1 + i)"
   ]
  },
  {
   "cell_type": "code",
   "execution_count": 15,
   "id": "e2c60d19-83dc-4fd5-9296-ce443134aafe",
   "metadata": {},
   "outputs": [
    {
     "data": {
      "text/plain": [
       "Just 0"
      ]
     },
     "metadata": {},
     "output_type": "display_data"
    }
   ],
   "source": [
    "indexM \"a\" [\"a\",\"b\",\"c\"]"
   ]
  },
  {
   "cell_type": "code",
   "execution_count": 16,
   "id": "e3803c7a-3aa1-4646-8ac0-6fa31df60a45",
   "metadata": {},
   "outputs": [
    {
     "data": {
      "text/plain": [
       "Just 2"
      ]
     },
     "metadata": {},
     "output_type": "display_data"
    }
   ],
   "source": [
    "indexM \"c\" [\"a\",\"b\",\"c\",\"b\",\"c\"]"
   ]
  },
  {
   "cell_type": "code",
   "execution_count": 17,
   "id": "f506bbe4-39bc-4eae-92f5-1627143e63bf",
   "metadata": {},
   "outputs": [
    {
     "data": {
      "text/plain": [
       "Nothing"
      ]
     },
     "metadata": {},
     "output_type": "display_data"
    }
   ],
   "source": [
    "indexM \"d\" [\"a\",\"b\",\"c\"]"
   ]
  },
  {
   "cell_type": "markdown",
   "id": "17a14336-8964-4167-a875-7f3dcc476102",
   "metadata": {},
   "source": [
    "## 4. 함수 `indices`를 작성하라 (60점)"
   ]
  },
  {
   "cell_type": "code",
   "execution_count": 18,
   "id": "ab8baf5c-14b6-482a-b686-8361edef0758",
   "metadata": {},
   "outputs": [],
   "source": [
    "indices :: Eq a => Eq a => a -> [a] -> [Int]\n",
    "indices _ []     = []\n",
    "indices x (y:ys) = if x==y then 0:is else is\n",
    "                 where is = [i+1 | i<-indices x ys]"
   ]
  },
  {
   "cell_type": "code",
   "execution_count": 19,
   "id": "ea9aec75-20dd-4735-9b63-565d849cf494",
   "metadata": {},
   "outputs": [
    {
     "data": {
      "text/plain": [
       "[0]"
      ]
     },
     "metadata": {},
     "output_type": "display_data"
    }
   ],
   "source": [
    "indices \"a\" [\"a\",\"b\",\"c\"]"
   ]
  },
  {
   "cell_type": "code",
   "execution_count": 20,
   "id": "8c9f1292-bdb0-47ca-9fa7-ec02dd75745f",
   "metadata": {},
   "outputs": [
    {
     "data": {
      "text/plain": [
       "[2,4]"
      ]
     },
     "metadata": {},
     "output_type": "display_data"
    }
   ],
   "source": [
    "indices \"c\" [\"a\",\"b\",\"c\",\"b\",\"c\"]"
   ]
  },
  {
   "cell_type": "code",
   "execution_count": 21,
   "id": "95606156-f029-404d-b48e-e1380d9c83ff",
   "metadata": {},
   "outputs": [
    {
     "data": {
      "text/plain": [
       "[]"
      ]
     },
     "metadata": {},
     "output_type": "display_data"
    }
   ],
   "source": [
    "indices \"d\" [\"a\",\"b\",\"c\"]"
   ]
  }
 ],
 "metadata": {
  "kernelspec": {
   "display_name": "Haskell",
   "language": "haskell",
   "name": "haskell"
  },
  "language_info": {
   "codemirror_mode": "ihaskell",
   "file_extension": ".hs",
   "mimetype": "text/x-haskell",
   "name": "haskell",
   "pygments_lexer": "Haskell",
   "version": "8.10.7"
  }
 },
 "nbformat": 4,
 "nbformat_minor": 5
}
