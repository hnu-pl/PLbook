{
 "cells": [
  {
   "cell_type": "markdown",
   "metadata": {},
   "source": [
    "TODO TODO\n",
    "\\newpage"
   ]
  },
  {
   "cell_type": "code",
   "execution_count": 14,
   "metadata": {},
   "outputs": [],
   "source": [
    ":opt no-lint\n",
    "{-# LANGUAGE TypeSynonymInstances FlexibleInstances #-}"
   ]
  },
  {
   "cell_type": "markdown",
   "metadata": {},
   "source": [
    "# FACT언어의 인터프리터\n",
    "환경에서 자신을 참조하는 재귀적 클로저를 활용하여 간소화된 의미규칙에 따라 FACT언어의 인터프리터를 하스켈로 작성해 보자.\n",
    "우선, 문법구조를 나타내는 타입(`Ty`)과 식(`Expr`) 그리고 의미구조를 표현하기 위한 값(`Val`)과 환경(`Env`)을 아래와 같이 선언한다."
   ]
  },
  {
   "cell_type": "code",
   "execution_count": 15,
   "metadata": {},
   "outputs": [],
   "source": [
    "type Nm = String  -- 변수 이름은 문자열로\n",
    "data Ty = Z | Arr Ty Ty  deriving (Eq,Ord)\n",
    "data Expr = Var Nm                 -- x\n",
    "          | Lam Nm (Maybe Ty) Expr -- (\\x:t.e)\n",
    "          | Rec Nm (Maybe Ty) Expr -- rec f:t (\\x:t2.e)\n",
    "          | App Expr Expr          -- (e1 e2)\n",
    "          | Lit Int                -- n\n",
    "          | Add Expr Expr          -- e1 + e2\n",
    "          | If Expr Expr Expr      -- if e then e1 else e0\n",
    "          deriving (Eq, Ord)\n",
    "\n",
    "data Val = Cl Expr Env | Vi Int  deriving (Eq,Ord)\n",
    "type Env = [ (Nm, Val) ]"
   ]
  },
  {
   "cell_type": "code",
   "execution_count": 16,
   "metadata": {},
   "outputs": [],
   "source": [
    "instance Show Ty where\n",
    "  showsPrec _ Z = showString \"\\\\mathbb{Z}\"\n",
    "  showsPrec p (Arr t1 t2) = showParen (p > 1) $\n",
    "      showsPrec p t1 . showString \"{\\\\to}\" . showsPrec p t2\n",
    "instance Show Expr where -- LaTeX 소스코드 생성하는 Show 인스턴스 직접 선언\n",
    "  showsPrec _ (Var x) = showString x\n",
    "  showsPrec p (Lam x (Just t) e) = showParen (p > 1) $\n",
    "      showString (\"\\\\lambda \"++x++\"{:}\"++show t++\".\") . showsPrec 1 e\n",
    "  showsPrec p (Lam x Nothing e) = showParen (p > 1) $\n",
    "      showString (\"\\\\lambda \"++x++\".\") . showsPrec 1 e\n",
    "  showsPrec p (Rec f (Just t) e) = showParen (p > 9) $\n",
    "      showString (\"\\\\textbf{rec}\\\\,\"++f++\"{:}\") . showsPrec 0 t .\n",
    "      showString \"\\\\, \" . showsPrec 2 e\n",
    "  showsPrec p (Rec f Nothing e) = showParen (p > 9) $\n",
    "      showString (\"\\\\textbf{rec}\\\\,\"++f) .\n",
    "      showString \"\\\\, \" . showsPrec 2 e\n",
    "  showsPrec p (App e1 e2) = showParen (p > 9) $\n",
    "      showsPrec 9 e1 . showString \"\\\\;\" . showsPrec 10 e2\n",
    "  showsPrec _ (Lit n) = shows n\n",
    "  showsPrec p (Add e1 e2) = showParen (p > 6) $\n",
    "      showsPrec 6 e1 . showString \"+\" . showsPrec 7 e2\n",
    "  showsPrec p (If e e1 e0) = showParen (p > 2) $\n",
    "      showString \"\\\\textbf{if}\\\\;\" . showsPrec 3 e .\n",
    "      showString \"\\\\;\\\\textbf{then}\\\\;\" . showsPrec 3 e1 .\n",
    "      showString \"\\\\;\\\\textbf{else}\\\\;\" . showsPrec 3 e0\n",
    "\n",
    "import IHaskell.Display (latex)\n",
    "instance IHaskellDisplay Expr where -- 노트북에 디스플레이하는 인스턴스 선언\n",
    "    display e = display [latex $ \"$\"++show e++\"$\"]\n",
    "instance IHaskellDisplay Ty where\n",
    "    display t = display [latex $ \"$\"++show t++\"$\"]"
   ]
  },
  {
   "cell_type": "code",
   "execution_count": 17,
   "metadata": {},
   "outputs": [
    {
     "data": {
      "text/latex": [
       "$\\textbf{if}\\;3+(x+y)\\;\\textbf{then}\\;(\\lambda x{:}\\mathbb{Z}.\\lambda y{:}\\mathbb{Z}.y)\\;\\textbf{else}\\;(\\lambda x.x)\\;(\\textbf{rec}\\,f\\, (\\lambda x{:}\\mathbb{Z}.\\lambda y{:}\\mathbb{Z}.y))$"
      ]
     },
     "metadata": {},
     "output_type": "display_data"
    }
   ],
   "source": [
    "idExpr = Lam \"x\" Nothing (Var \"x\")\n",
    "ttExpr = Lam \"x\" (Just Z) (Lam \"y\" (Just Z) (Var \"x\")) \n",
    "ffExpr = Lam \"x\" (Just Z) (Lam \"y\" (Just Z) (Var \"y\")) \n",
    "-- 람다식, 산술식과, 조건식이 모두 활용된 예시 프로그램\n",
    "If (Add (Lit 3) (Add (Var \"x\") (Var \"y\")))\n",
    "   ffExpr\n",
    "   (App idExpr (Rec \"f\" Nothing ffExpr))"
   ]
  },
  {
   "cell_type": "code",
   "execution_count": 18,
   "metadata": {},
   "outputs": [],
   "source": [
    "import Data.List (intercalate)\n",
    "instance {-# OVERLAPS #-} Show Env where\n",
    "    show env = \"\\\\{\"++ intercalate \",\\\\,\" (map show env) ++\"\\\\}\"\n",
    "instance {-# OVERLAPS #-} Show (Nm,Val) where\n",
    "    show (x,cl) = x++\"{\\\\mapsto}\"++show cl\n",
    "instance Show Val where\n",
    "    show (Cl e env) = \"\\\\langle \"++show e++\",\"++show env++\"\\\\rangle \"\n",
    "    show (Vi n) = \" \"++show n++\" \"\n",
    "\n",
    "instance {-# OVERLAPS #-} IHaskellDisplay Env where\n",
    "    display e = display [latex $ \"$\"++show e++\"$\"]\n",
    "instance {-# OVERLAPS #-} IHaskellDisplay (Nm,Val) where\n",
    "    display e = display [latex $ \"$\"++show e++\"$\"]\n",
    "instance IHaskellDisplay Val where\n",
    "    display v = display [latex $ \"$\"++show v++\"$\"]"
   ]
  },
  {
   "cell_type": "markdown",
   "metadata": {},
   "source": [
    "FACT언어의 인터프리터 함수 `eval`을 아래와 같이 같이 작성해 볼 수 있다."
   ]
  },
  {
   "cell_type": "code",
   "execution_count": 28,
   "metadata": {},
   "outputs": [],
   "source": [
    "ev :: Env -> Expr -> Val  -- 타입이 잘 맞는 식만 실행한다고 가정\n",
    "ev env (Var x) = v\n",
    "    where Just v = lookup x env\n",
    "ev env e@(Lam _ _ _) = Cl e env\n",
    "ev env (Rec f t e@(Lam _ _ _)) = undefined -- eval의 경우와 같이\n",
    "ev env (App e1 e2) = eval ((x,v2):env1) e\n",
    "    where Cl (Lam x _ e) env1 = eval env e1 \n",
    "          v2                  = eval env e2 \n",
    "ev _   (Lit n)     = Vi n\n",
    "ev env (Add e1 e2) = Vi (n1 + n2)\n",
    "    where Vi n1 = ev env e1\n",
    "          Vi n2 = ev env e2\n",
    "ev env (If e e1 e0) = if n/=0 then ev env e1\n",
    "                              else ev env e0\n",
    "    where Vi n = eval env e"
   ]
  },
  {
   "cell_type": "markdown",
   "metadata": {},
   "source": [
    "재귀함수를 제외하면, 매개변수에 타입을 표기할 뿐이지 FAC언어와 실행 내용은 같다.\n",
    "아래는 타입 표기만 추가된 \\ref{chap:FunArithEval}장과 마찬가지 테스트의 실행 사례다."
   ]
  },
  {
   "cell_type": "code",
   "execution_count": 29,
   "metadata": {},
   "outputs": [
    {
     "data": {
      "text/latex": [
       "$\\langle \\lambda x{:}\\mathbb{Z}.\\lambda y{:}\\mathbb{Z}.\\textbf{if}\\;x\\;\\textbf{then}\\;x+y\\;\\textbf{else}\\;y+y,\\{\\}\\rangle $"
      ]
     },
     "metadata": {},
     "output_type": "display_data"
    },
    {
     "data": {
      "text/latex": [
       "$ 2 $"
      ]
     },
     "metadata": {},
     "output_type": "display_data"
    }
   ],
   "source": [
    "e1 = Lam \"x\" (Just Z) . Lam \"y\" (Just Z) $ If (Var \"x\") (Var \"x\" `Add` Var \"y\")\n",
    "                                              (Var \"y\" `Add` Var \"y\")\n",
    "e2 = Lit 2\n",
    "e3 = Lit 3\n",
    "\n",
    "ev [] e1\n",
    "ev [] e2"
   ]
  },
  {
   "cell_type": "code",
   "execution_count": 30,
   "metadata": {},
   "outputs": [
    {
     "data": {
      "text/latex": [
       "$(\\lambda x{:}\\mathbb{Z}.\\lambda y{:}\\mathbb{Z}.\\textbf{if}\\;x\\;\\textbf{then}\\;x+y\\;\\textbf{else}\\;y+y)\\;2$"
      ]
     },
     "metadata": {},
     "output_type": "display_data"
    },
    {
     "data": {
      "text/latex": [
       "$\\langle \\lambda y{:}\\mathbb{Z}.\\textbf{if}\\;x\\;\\textbf{then}\\;x+y\\;\\textbf{else}\\;y+y,\\{x{\\mapsto} 2 \\}\\rangle $"
      ]
     },
     "metadata": {},
     "output_type": "display_data"
    }
   ],
   "source": [
    "App e1 e2\n",
    "eval [] (App e1 e2)"
   ]
  },
  {
   "cell_type": "code",
   "execution_count": 31,
   "metadata": {},
   "outputs": [
    {
     "data": {
      "text/latex": [
       "$(\\lambda x{:}\\mathbb{Z}.\\lambda y{:}\\mathbb{Z}.\\textbf{if}\\;x\\;\\textbf{then}\\;x+y\\;\\textbf{else}\\;y+y)\\;2\\;3$"
      ]
     },
     "metadata": {},
     "output_type": "display_data"
    },
    {
     "data": {
      "text/latex": [
       "$ 5 $"
      ]
     },
     "metadata": {},
     "output_type": "display_data"
    }
   ],
   "source": [
    "App (App e1 e2) e3\n",
    "ev [] (App (App e1 e2) e3)"
   ]
  },
  {
   "cell_type": "code",
   "execution_count": 32,
   "metadata": {},
   "outputs": [
    {
     "data": {
      "text/latex": [
       "$(\\lambda x{:}\\mathbb{Z}.\\lambda y{:}\\mathbb{Z}.\\textbf{if}\\;x\\;\\textbf{then}\\;x+y\\;\\textbf{else}\\;y+y)\\;0\\;3$"
      ]
     },
     "metadata": {},
     "output_type": "display_data"
    },
    {
     "data": {
      "text/latex": [
       "$ 6 $"
      ]
     },
     "metadata": {},
     "output_type": "display_data"
    }
   ],
   "source": [
    "App (App e1 (Lit 0)) e3\n",
    "ev [] (App (App e1 (Lit 0)) e3)"
   ]
  },
  {
   "cell_type": "markdown",
   "metadata": {},
   "source": [
    "$~$\\vspace*{-1em}\\newline\\indent\n",
    "FACT언어에서는 0부터 주어진 자연수 $i$까지의 총합을 구하는 재귀함수를 아래와 같이 간단히 작성할 수 있다."
   ]
  },
  {
   "cell_type": "code",
   "execution_count": 33,
   "metadata": {},
   "outputs": [
    {
     "data": {
      "text/latex": [
       "$\\textbf{rec}\\,f{:}\\mathbb{Z}{\\to}\\mathbb{Z}\\, (\\lambda i{:}\\mathbb{Z}.\\textbf{if}\\;i\\;\\textbf{then}\\;i+f\\;(i+-1)\\;\\textbf{else}\\;i)$"
      ]
     },
     "metadata": {},
     "output_type": "display_data"
    }
   ],
   "source": [
    "e4 = Rec \"f\" (Just $ Arr Z Z) .\n",
    "         Lam \"i\" (Just Z) $ If i (i `Add` App f (i `Add` Lit (-1))) i\n",
    "    where f = Var \"f\"\n",
    "          i = Var \"i\"\n",
    "e4 -- rec f (\\i.if i then i + f(i + -1) else i)"
   ]
  },
  {
   "cell_type": "markdown",
   "metadata": {},
   "source": [
    "그런데, 아직 `eval`함수에는 재귀함수요약식에 대한 내용이 작성되어 있지 않고 `undefined`로 남겨져 있다.\n",
    "그래서 다음을 실행하면 에러가 난다."
   ]
  },
  {
   "cell_type": "code",
   "execution_count": 34,
   "metadata": {},
   "outputs": [
    {
     "ename": "",
     "evalue": "",
     "output_type": "error",
     "traceback": [
      "Prelude.undefined\nCallStack (from HasCallStack):\n  error, called at libraries/base/GHC/Err.hs:79:14 in base:GHC.Err\n  undefined, called at <interactive>:6:36 in interactive:Ghci411"
     ]
    }
   ],
   "source": [
    "-- rec f (\\i.if i then i + f(i + -1) else i) 100\n",
    "ev [] (e4 `App` Lit 100) -- 100부터 0까지의 총합"
   ]
  },
  {
   "cell_type": "markdown",
   "metadata": {},
   "source": [
    "\\noindent\n",
    "연습문제로 재귀적인 구조의 클로저를 활용하는 간소화된 의미구조를 하스켈로 작성하여 인터프리터 함수 `eval`를 완성한 다음\n",
    "아래와 같이 100까지의 합을 구하도록 위의 테스트를 다시 실행하여 예상대로 0부터 100까지의 합이 5050으로 정상적으로 계산되는지 확인해 보라."
   ]
  },
  {
   "cell_type": "markdown",
   "metadata": {},
   "source": [
    "# 타입검사\n",
    "타입환경($\\Gamma$)에서 FACT언어의 식($e$)이 특정 타입($\\tau$)인지, 즉 $\\Gamma \\vdash e : \\tau$인지\n",
    "검사하는 함수 `check`을 타입규칙(그림 \\ref{fig:FACTtyrules})에 따라 하스켈로 작성하면 다음과 같다."
   ]
  },
  {
   "cell_type": "code",
   "execution_count": 27,
   "metadata": {},
   "outputs": [],
   "source": [
    "type TEnv = [(Nm,Ty)] -- 타입환경\n",
    "\n",
    "check :: TEnv -> Expr -> Ty -> Bool\n",
    "check tenv (Var x)      t  = lookup x tenv == Just t\n",
    "check tenv (Lam x (Just t2) e) (Arr t2' t)\n",
    "                           = t2==t2' && check ((x,t2):tenv) e t\n",
    "check tenv (Rec f (Just t') e) t  = t == t' && check ((f,t'):tenv) e t\n",
    "check tevv (Lit _)      Z  = True\n",
    "check tenv (Add e1 e2)  Z  = check tenv e1 Z && check tenv e2 Z\n",
    "check tenv (If e e1 e0) t  = check tenv e Z && check tenv e1 t\n",
    "                                            && check tenv e2 t\n",
    "check _   _             _  = False"
   ]
  },
  {
   "cell_type": "markdown",
   "metadata": {},
   "source": [
    "# 타입유추\n",
    "타입환경 $\\Gamma$와 FACT언어의 식 $e$가 주어졌을 때\n",
    "$\\Gamma \\vdash e : \\tau$를 만족하는 타입($\\tau$)이 존재한다면\n",
    "구체적으로 $\\tau$가 무엇인지 계산하여 이를 포함하는 리스트(`[`$\\tau$`]`)를 계산하고,\n",
    "존재하지 않는다면 빈 리스트(`[]`)를 계산하는 타입유추 함수 `infer`를 아래와 같이 작성해 보자."
   ]
  },
  {
   "cell_type": "code",
   "execution_count": 18,
   "metadata": {},
   "outputs": [],
   "source": [
    "infer :: TEnv -> Expr -> [Ty]  -- 적절한 타입이 존재하지 않으면 빈 리스트\n",
    "infer tenv (Var x)      = case lookup x tenv of Just t  -> [t]\n",
    "                                                Nothing -> []\n",
    "infer tenv (Lam x t2 e) = undefined\n",
    "infer tenv (Rec f t e)  = undefined\n",
    "infer tevv (Lit _)      = [Z]\n",
    "infer tenv (Add e1 e2)  = undefined\n",
    "infer tenv (If e e1 e0) = undefined"
   ]
  },
  {
   "cell_type": "markdown",
   "metadata": {},
   "source": [
    "\\section*{요점정리}\n",
    "* TODO\n",
    "* TODO"
   ]
  },
  {
   "cell_type": "markdown",
   "metadata": {},
   "source": [
    "\\section*{연습문제}\n",
    "1. TODO\n",
    "1. TODO"
   ]
  },
  {
   "cell_type": "markdown",
   "metadata": {},
   "source": [
    "\\section*{탐구과제}\n",
    "1. TODO aaa TODO\n",
    "1. TODO aaa TODO"
   ]
  },
  {
   "cell_type": "code",
   "execution_count": null,
   "metadata": {},
   "outputs": [],
   "source": []
  }
 ],
 "metadata": {
  "kernelspec": {
   "display_name": "Haskell",
   "language": "haskell",
   "name": "haskell"
  },
  "language_info": {
   "codemirror_mode": "ihaskell",
   "file_extension": ".hs",
   "mimetype": "text/x-haskell",
   "name": "haskell",
   "pygments_lexer": "Haskell",
   "version": "8.10.7"
  }
 },
 "nbformat": 4,
 "nbformat_minor": 4
}
