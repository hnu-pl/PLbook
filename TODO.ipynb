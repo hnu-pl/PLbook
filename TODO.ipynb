{
 "cells": [
  {
   "cell_type": "code",
   "execution_count": 1,
   "id": "1ac64b75-35f6-4db9-bcd9-8e7086e2c6ac",
   "metadata": {},
   "outputs": [],
   "source": [
    ":opt no-lint\n",
    "{-# LANGUAGE ScopedTypeVariables #-}"
   ]
  },
  {
   "cell_type": "code",
   "execution_count": 2,
   "id": "1ba26de5-e335-4bb8-9dc6-adbceedd41b6",
   "metadata": {},
   "outputs": [],
   "source": [
    "data RE\n",
    "  = Null\n",
    "  | Epsilon\n",
    "  | Symbol Char\n",
    "  | Union RE RE\n",
    "  | Concat RE RE\n",
    "  | Star RE\n",
    "  deriving (Eq,Ord)\n",
    "-- https://stackoverflow.com/questions/27471937/showsprec-and-operator-precedences\n",
    "instance Show RE where\n",
    "  showsPrec _ Null    = showString \"\\\\varnothing{}\"\n",
    "  showsPrec _ Epsilon = showString \"\\\\varepsilon{}\"\n",
    "  showsPrec p (Symbol c) = showString [c]\n",
    "  showsPrec p (Union  r1 r2) = showParen (p > 6) $ showsPrec 6 r1 . showString \" | \" . showsPrec 6 r2\n",
    "  showsPrec p (Concat r1 r2) = showParen (p > 7) $ showsPrec 7 r1 . showsPrec 7 r2\n",
    "  showsPrec p (Star r) = showParen (p > 10) $ showsPrec 11 r . showString \"^{*}\""
   ]
  },
  {
   "cell_type": "code",
   "execution_count": 11,
   "id": "39e2ae36-a9cc-4b8b-aaaf-535e461fb0c3",
   "metadata": {},
   "outputs": [],
   "source": [
    "import IHaskell.Display\n",
    "\n",
    "instance IHaskellDisplay RE where\n",
    "  display r = display [latex $ \"$\"++show r++\"$\"]"
   ]
  },
  {
   "cell_type": "code",
   "execution_count": 13,
   "id": "a9ac4c5e-79ad-44bf-ac0d-51d4bad14ab9",
   "metadata": {},
   "outputs": [
    {
     "data": {
      "text/latex": [
       "$\\varnothing{}$"
      ]
     },
     "metadata": {},
     "output_type": "display_data"
    },
    {
     "data": {
      "text/latex": [
       "$\\varepsilon{}$"
      ]
     },
     "metadata": {},
     "output_type": "display_data"
    },
    {
     "data": {
      "text/latex": [
       "$a$"
      ]
     },
     "metadata": {},
     "output_type": "display_data"
    },
    {
     "data": {
      "text/latex": [
       "$a | \\varepsilon{}$"
      ]
     },
     "metadata": {},
     "output_type": "display_data"
    },
    {
     "data": {
      "text/latex": [
       "$a | \\varepsilon{} | \\varepsilon{}$"
      ]
     },
     "metadata": {},
     "output_type": "display_data"
    },
    {
     "data": {
      "text/latex": [
       "$\\varepsilon{} | \\varepsilon{} | a$"
      ]
     },
     "metadata": {},
     "output_type": "display_data"
    },
    {
     "data": {
      "text/latex": [
       "$a\\varepsilon{}\\varepsilon{}$"
      ]
     },
     "metadata": {},
     "output_type": "display_data"
    },
    {
     "data": {
      "text/latex": [
       "$\\varepsilon{}\\varepsilon{}a$"
      ]
     },
     "metadata": {},
     "output_type": "display_data"
    },
    {
     "data": {
      "text/latex": [
       "$a | \\varepsilon{}\\varepsilon{}$"
      ]
     },
     "metadata": {},
     "output_type": "display_data"
    },
    {
     "data": {
      "text/latex": [
       "$\\varepsilon{}\\varepsilon{} | a$"
      ]
     },
     "metadata": {},
     "output_type": "display_data"
    },
    {
     "data": {
      "text/latex": [
       "$a(\\varepsilon{} | \\varepsilon{})$"
      ]
     },
     "metadata": {},
     "output_type": "display_data"
    },
    {
     "data": {
      "text/latex": [
       "$(\\varepsilon{} | \\varepsilon{})a$"
      ]
     },
     "metadata": {},
     "output_type": "display_data"
    },
    {
     "data": {
      "text/latex": [
       "$a^{*}$"
      ]
     },
     "metadata": {},
     "output_type": "display_data"
    },
    {
     "data": {
      "text/latex": [
       "$(a | \\varepsilon{})^{*}$"
      ]
     },
     "metadata": {},
     "output_type": "display_data"
    },
    {
     "data": {
      "text/latex": [
       "$(a\\varepsilon{})^{*}$"
      ]
     },
     "metadata": {},
     "output_type": "display_data"
    },
    {
     "data": {
      "text/latex": [
       "$(a^{*})^{*}$"
      ]
     },
     "metadata": {},
     "output_type": "display_data"
    }
   ],
   "source": [
    "Null\n",
    "Epsilon\n",
    "Symbol 'a'\n",
    "Union (Symbol 'a') Epsilon\n",
    "Union (Symbol 'a') (Union Epsilon Epsilon)\n",
    "Union (Union Epsilon Epsilon) (Symbol 'a')\n",
    "Concat (Symbol 'a') (Concat Epsilon Epsilon)\n",
    "Concat (Concat Epsilon Epsilon) (Symbol 'a')\n",
    "Union (Symbol 'a') (Concat Epsilon Epsilon)\n",
    "Union (Concat Epsilon Epsilon) (Symbol 'a')\n",
    "Concat (Symbol 'a') (Union Epsilon Epsilon)\n",
    "Concat (Union Epsilon Epsilon) (Symbol 'a')\n",
    "Star $ Symbol 'a'\n",
    "Star $ Union (Symbol 'a') Epsilon\n",
    "Star $ Concat (Symbol 'a') Epsilon\n",
    "Star $ Star $ Symbol 'a'"
   ]
  },
  {
   "cell_type": "code",
   "execution_count": 6,
   "id": "07300a00-2ef1-4a5c-9d9e-f0eeccd6b092",
   "metadata": {},
   "outputs": [
    {
     "data": {
      "text/html": [
       "<style>/* Styles used for the Hoogle display in the pager */\n",
       ".hoogle-doc {\n",
       "display: block;\n",
       "padding-bottom: 1.3em;\n",
       "padding-left: 0.4em;\n",
       "}\n",
       ".hoogle-code {\n",
       "display: block;\n",
       "font-family: monospace;\n",
       "white-space: pre;\n",
       "}\n",
       ".hoogle-text {\n",
       "display: block;\n",
       "}\n",
       ".hoogle-name {\n",
       "color: green;\n",
       "font-weight: bold;\n",
       "}\n",
       ".hoogle-head {\n",
       "font-weight: bold;\n",
       "}\n",
       ".hoogle-sub {\n",
       "display: block;\n",
       "margin-left: 0.4em;\n",
       "}\n",
       ".hoogle-package {\n",
       "font-weight: bold;\n",
       "font-style: italic;\n",
       "}\n",
       ".hoogle-module {\n",
       "font-weight: bold;\n",
       "}\n",
       ".hoogle-class {\n",
       "font-weight: bold;\n",
       "}\n",
       ".get-type {\n",
       "color: green;\n",
       "font-weight: bold;\n",
       "font-family: monospace;\n",
       "display: block;\n",
       "white-space: pre-wrap;\n",
       "}\n",
       ".show-type {\n",
       "color: green;\n",
       "font-weight: bold;\n",
       "font-family: monospace;\n",
       "margin-left: 1em;\n",
       "}\n",
       ".mono {\n",
       "font-family: monospace;\n",
       "display: block;\n",
       "}\n",
       ".err-msg {\n",
       "color: red;\n",
       "font-style: italic;\n",
       "font-family: monospace;\n",
       "white-space: pre;\n",
       "display: block;\n",
       "}\n",
       "#unshowable {\n",
       "color: red;\n",
       "font-weight: bold;\n",
       "}\n",
       ".err-msg.in.collapse {\n",
       "padding-top: 0.7em;\n",
       "}\n",
       ".highlight-code {\n",
       "white-space: pre;\n",
       "font-family: monospace;\n",
       "}\n",
       ".suggestion-warning { \n",
       "font-weight: bold;\n",
       "color: rgb(200, 130, 0);\n",
       "}\n",
       ".suggestion-error { \n",
       "font-weight: bold;\n",
       "color: red;\n",
       "}\n",
       ".suggestion-name {\n",
       "font-weight: bold;\n",
       "}\n",
       "</style><span class='get-type'>latex :: String -> DisplayData</span>"
      ],
      "text/plain": [
       "latex :: String -> DisplayData"
      ]
     },
     "metadata": {},
     "output_type": "display_data"
    }
   ],
   "source": [
    ":type latex"
   ]
  },
  {
   "cell_type": "code",
   "execution_count": 7,
   "id": "520b176d-561e-4640-8eec-e9e14c2b7041",
   "metadata": {},
   "outputs": [
    {
     "data": {
      "text/html": [
       "<style>/* Styles used for the Hoogle display in the pager */\n",
       ".hoogle-doc {\n",
       "display: block;\n",
       "padding-bottom: 1.3em;\n",
       "padding-left: 0.4em;\n",
       "}\n",
       ".hoogle-code {\n",
       "display: block;\n",
       "font-family: monospace;\n",
       "white-space: pre;\n",
       "}\n",
       ".hoogle-text {\n",
       "display: block;\n",
       "}\n",
       ".hoogle-name {\n",
       "color: green;\n",
       "font-weight: bold;\n",
       "}\n",
       ".hoogle-head {\n",
       "font-weight: bold;\n",
       "}\n",
       ".hoogle-sub {\n",
       "display: block;\n",
       "margin-left: 0.4em;\n",
       "}\n",
       ".hoogle-package {\n",
       "font-weight: bold;\n",
       "font-style: italic;\n",
       "}\n",
       ".hoogle-module {\n",
       "font-weight: bold;\n",
       "}\n",
       ".hoogle-class {\n",
       "font-weight: bold;\n",
       "}\n",
       ".get-type {\n",
       "color: green;\n",
       "font-weight: bold;\n",
       "font-family: monospace;\n",
       "display: block;\n",
       "white-space: pre-wrap;\n",
       "}\n",
       ".show-type {\n",
       "color: green;\n",
       "font-weight: bold;\n",
       "font-family: monospace;\n",
       "margin-left: 1em;\n",
       "}\n",
       ".mono {\n",
       "font-family: monospace;\n",
       "display: block;\n",
       "}\n",
       ".err-msg {\n",
       "color: red;\n",
       "font-style: italic;\n",
       "font-family: monospace;\n",
       "white-space: pre;\n",
       "display: block;\n",
       "}\n",
       "#unshowable {\n",
       "color: red;\n",
       "font-weight: bold;\n",
       "}\n",
       ".err-msg.in.collapse {\n",
       "padding-top: 0.7em;\n",
       "}\n",
       ".highlight-code {\n",
       "white-space: pre;\n",
       "font-family: monospace;\n",
       "}\n",
       ".suggestion-warning { \n",
       "font-weight: bold;\n",
       "color: rgb(200, 130, 0);\n",
       "}\n",
       ".suggestion-error { \n",
       "font-weight: bold;\n",
       "color: red;\n",
       "}\n",
       ".suggestion-name {\n",
       "font-weight: bold;\n",
       "}\n",
       "</style><span class='get-type'>display :: forall a. IHaskellDisplay a => a -> IO Display</span>"
      ],
      "text/plain": [
       "display :: forall a. IHaskellDisplay a => a -> IO Display"
      ]
     },
     "metadata": {},
     "output_type": "display_data"
    }
   ],
   "source": [
    ":type display"
   ]
  },
  {
   "cell_type": "code",
   "execution_count": null,
   "id": "01ddf892-070d-429d-ae0e-1603dc885f09",
   "metadata": {},
   "outputs": [],
   "source": []
  }
 ],
 "metadata": {
  "kernelspec": {
   "display_name": "Haskell",
   "language": "haskell",
   "name": "haskell"
  },
  "language_info": {
   "codemirror_mode": "ihaskell",
   "file_extension": ".hs",
   "mimetype": "text/x-haskell",
   "name": "haskell",
   "pygments_lexer": "Haskell",
   "version": "8.10.7"
  }
 },
 "nbformat": 4,
 "nbformat_minor": 5
}
