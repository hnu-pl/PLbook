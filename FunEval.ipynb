{
 "cells": [
  {
   "cell_type": "markdown",
   "id": "7583728c-cd6d-4838-8357-f1c9356c2c9a",
   "metadata": {},
   "source": [
    "TODO TODO"
   ]
  },
  {
   "cell_type": "code",
   "execution_count": 2,
   "id": "c10de1dd-8f03-431f-b563-a6808791c790",
   "metadata": {},
   "outputs": [],
   "source": [
    ":opt no-lint\n",
    "{-# LANGUAGE ScopedTypeVariables #-}"
   ]
  },
  {
   "cell_type": "code",
   "execution_count": 5,
   "id": "dad3177e-57db-4f2b-a0a2-02f8400a8ff9",
   "metadata": {},
   "outputs": [],
   "source": [
    "type Nm = String -- 변수 이름은 문자열로\n",
    "\n",
    "data Expr = Var Nm         -- x\n",
    "          | Lam Nm Expr    -- (λx.e)\n",
    "          | App Expr Expr  -- (e1 e2)\n",
    "          deriving (Eq, Ord)"
   ]
  },
  {
   "cell_type": "code",
   "execution_count": 11,
   "id": "8ccff2f5-3fe9-4a12-8428-f252ffb31389",
   "metadata": {},
   "outputs": [],
   "source": [
    "instance Show Expr where\n",
    "  showsPrec _ (Var x) = showString x\n",
    "  showsPrec p (Lam x e) = showParen (p > 1) $\n",
    "              showString \"\\\\\" . showString x . showString \".\" . showsPrec 1 e\n",
    "  showsPrec p (App e1 e2) = showParen (p > 9) $\n",
    "              showsPrec 9 e1 . showString \" \" . showsPrec 10 e2"
   ]
  },
  {
   "cell_type": "code",
   "execution_count": 13,
   "id": "c4349a13-1724-4cd7-8872-01d7f0d3e0c9",
   "metadata": {},
   "outputs": [
    {
     "data": {
      "text/plain": [
       "\\x.\\y.x (\\z.y)"
      ]
     },
     "metadata": {},
     "output_type": "display_data"
    }
   ],
   "source": [
    "Lam \"x\" (Lam \"y\" (App (Var \"x\") (Lam \"z\"  (Var \"y\"))))"
   ]
  },
  {
   "cell_type": "code",
   "execution_count": 12,
   "id": "e47bbff5-6b35-4cf5-bd5c-573f0b3e4a26",
   "metadata": {},
   "outputs": [
    {
     "data": {
      "text/plain": [
       "\\x.\\y.x (\\z.y)"
      ]
     },
     "metadata": {},
     "output_type": "display_data"
    }
   ],
   "source": [
    "Lam \"x\" . Lam \"y\" $ Var \"x\" `App` (Lam \"z\"  $ Var \"y\")"
   ]
  },
  {
   "cell_type": "code",
   "execution_count": null,
   "id": "eb9276b1-a01a-4c59-b649-33ab3d205c23",
   "metadata": {},
   "outputs": [],
   "source": []
  }
 ],
 "metadata": {
  "kernelspec": {
   "display_name": "Haskell",
   "language": "haskell",
   "name": "haskell"
  },
  "language_info": {
   "codemirror_mode": "ihaskell",
   "file_extension": ".hs",
   "mimetype": "text/x-haskell",
   "name": "haskell",
   "pygments_lexer": "Haskell",
   "version": "8.10.7"
  }
 },
 "nbformat": 4,
 "nbformat_minor": 5
}
