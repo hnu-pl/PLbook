{
 "cells": [
  {
   "cell_type": "code",
   "execution_count": 1,
   "id": "c10de1dd-8f03-431f-b563-a6808791c790",
   "metadata": {},
   "outputs": [],
   "source": [
    ":opt no-lint\n",
    "{-# LANGUAGE TypeSynonymInstances FlexibleInstances #-}"
   ]
  },
  {
   "cell_type": "markdown",
   "id": "1a060ba1-dd82-4239-b5ca-b460a96e3702",
   "metadata": {},
   "source": [
    "이제 그림 \\ref{fig:bigStepCBV}와 \\ref{fig:bigStepCBN}의 큰걸음 의미구조를 하스켈로 옮겨 보자."
   ]
  },
  {
   "cell_type": "code",
   "execution_count": 2,
   "id": "ff9cce48-f04b-498d-89b8-36dcca5afb5d",
   "metadata": {},
   "outputs": [],
   "source": [
    "type Nm = String -- 변수 이름은 문자열로\n",
    "data Expr = Var Nm         -- x\n",
    "          | Lam Nm Expr    -- (λx.e)\n",
    "          | App Expr Expr  -- (e1 e2)\n",
    "          deriving (Eq, Ord)"
   ]
  },
  {
   "cell_type": "code",
   "execution_count": 3,
   "id": "8ccff2f5-3fe9-4a12-8428-f252ffb31389",
   "metadata": {},
   "outputs": [],
   "source": [
    "instance Show Expr where -- LaTeX 소스코드 생성하는 Show 인스턴스 직접 선언\n",
    "  showsPrec _ (Var x) = showString x\n",
    "  showsPrec p (Lam x e) = showParen (p > 1) $\n",
    "      showString (\"\\\\lambda \"++x++\".\") . showsPrec 1 e\n",
    "  showsPrec p (App e1 e2) = showParen (p > 9) $\n",
    "      showsPrec 9 e1 . showString \"\\\\;\" . showsPrec 10 e2\n",
    "\n",
    "import IHaskell.Display (latex)\n",
    "instance IHaskellDisplay Expr where -- 노트북에 디스플레이하는 인스턴스 선언\n",
    "    display e = display [latex $ \"$\"++show e++\"$\"]"
   ]
  },
  {
   "cell_type": "code",
   "execution_count": 4,
   "id": "c4349a13-1724-4cd7-8872-01d7f0d3e0c9",
   "metadata": {},
   "outputs": [
    {
     "data": {
      "text/latex": [
       "$\\lambda x.\\lambda y.x\\;(\\lambda z.y)$"
      ]
     },
     "metadata": {},
     "output_type": "display_data"
    }
   ],
   "source": [
    "Lam \"x\" (Lam \"y\" (App (Var \"x\") (Lam \"z\"  (Var \"y\"))))"
   ]
  },
  {
   "cell_type": "code",
   "execution_count": 5,
   "id": "e47bbff5-6b35-4cf5-bd5c-573f0b3e4a26",
   "metadata": {},
   "outputs": [
    {
     "data": {
      "text/latex": [
       "$\\lambda x.\\lambda y.x\\;(\\lambda z.y)$"
      ]
     },
     "metadata": {},
     "output_type": "display_data"
    }
   ],
   "source": [
    "-- 연산자 (.), ($) 및 역따옴표 중위 표현 활용 \n",
    "Lam \"x\" . Lam \"y\" $ Var \"x\" `App` Lam \"z\" (Var \"y\")"
   ]
  },
  {
   "cell_type": "code",
   "execution_count": 6,
   "id": "3b2d195c-85c7-4444-be6f-43c736e32584",
   "metadata": {},
   "outputs": [],
   "source": [
    "type Env = [(Nm,Clos)] -- 값계산 환경\n",
    "data Clos = Cl Expr Env deriving (Eq,Ord,Show) -- 클로저"
   ]
  },
  {
   "cell_type": "code",
   "execution_count": 7,
   "id": "04715db0-e9bb-4272-9394-bf00add82467",
   "metadata": {},
   "outputs": [],
   "source": [
    "import Data.List (intercalate)\n",
    "instance {-# OVERLAPS #-} Show Env where\n",
    "    show env = \"\\\\{\"++ intercalate \",\\\\,\" (map show env) ++\"\\\\}\"\n",
    "instance {-# OVERLAPS #-} Show (Nm,Clos) where\n",
    "    show (x,cl) = x++\"{\\\\mapsto}\"++show cl\n",
    "instance Show Clos where\n",
    "    show (Cl e env) = \"\\\\langle \"++show e++\",\"++show env++\"\\\\rangle \"\n",
    "\n",
    "instance {-# OVERLAPS #-} IHaskellDisplay Env where\n",
    "    display e = display [latex $ \"$\"++show e++\"$\"]\n",
    "instance {-# OVERLAPS #-} IHaskellDisplay (Nm,Clos) where\n",
    "    display e = display [latex $ \"$\"++show e++\"$\"]\n",
    "instance IHaskellDisplay Clos where\n",
    "    display e = display [latex $ \"$\"++show e++\"$\"]"
   ]
  },
  {
   "cell_type": "code",
   "execution_count": 8,
   "id": "d92726dc-53bf-4a1f-b36e-7b377e2ef735",
   "metadata": {},
   "outputs": [],
   "source": [
    "env01 = [ (\"f\", Cl (Lam \"z\" $ Var \"z\") []) ]"
   ]
  },
  {
   "cell_type": "code",
   "execution_count": 9,
   "id": "0e725d3d-5b0f-4fe5-b471-66b295e5f5ba",
   "metadata": {},
   "outputs": [
    {
     "data": {
      "text/latex": [
       "$\\{f{\\mapsto}\\langle \\lambda z.z,\\{\\}\\rangle \\}$"
      ]
     },
     "metadata": {},
     "output_type": "display_data"
    }
   ],
   "source": [
    "env01"
   ]
  },
  {
   "cell_type": "code",
   "execution_count": 10,
   "id": "feb8b161-e5ff-4391-8e25-177ff16859dc",
   "metadata": {},
   "outputs": [],
   "source": [
    "env02 = [ ( \"x\", Cl (Lam \"z\" $ Var \"z\")               []   ),\n",
    "          ( \"y\", Cl (Lam \"x\" $ Var \"f\" `App` Var \"x\") env01) ]"
   ]
  },
  {
   "cell_type": "code",
   "execution_count": 11,
   "id": "a70ef16b-f39f-43bf-8283-145965c61499",
   "metadata": {},
   "outputs": [
    {
     "data": {
      "text/latex": [
       "$\\{x{\\mapsto}\\langle \\lambda z.z,\\{\\}\\rangle ,\\,y{\\mapsto}\\langle \\lambda x.f\\;x,\\{f{\\mapsto}\\langle \\lambda z.z,\\{\\}\\rangle \\}\\rangle \\}$"
      ]
     },
     "metadata": {},
     "output_type": "display_data"
    }
   ],
   "source": [
    "env02"
   ]
  },
  {
   "cell_type": "code",
   "execution_count": 12,
   "id": "d67c7231-9865-4ae2-9758-cf9ce96fdf70",
   "metadata": {},
   "outputs": [
    {
     "data": {
      "text/latex": [
       "$x{\\mapsto}\\langle \\lambda z.z,\\{\\}\\rangle $"
      ]
     },
     "metadata": {},
     "output_type": "display_data"
    },
    {
     "data": {
      "text/latex": [
       "$y{\\mapsto}\\langle \\lambda x.f\\;x,\\{f{\\mapsto}\\langle \\lambda z.z,\\{\\}\\rangle \\}\\rangle $"
      ]
     },
     "metadata": {},
     "output_type": "display_data"
    }
   ],
   "source": [
    "mapM display it -- 직전 실행한 값계산 환경의 각 대응 항목을 한줄씩 디스플레이"
   ]
  },
  {
   "cell_type": "code",
   "execution_count": 13,
   "id": "68a23439-9bb2-46e4-9c84-197524533668",
   "metadata": {},
   "outputs": [
    {
     "data": {
      "text/html": [
       "<style>/* Styles used for the Hoogle display in the pager */\n",
       ".hoogle-doc {\n",
       "display: block;\n",
       "padding-bottom: 1.3em;\n",
       "padding-left: 0.4em;\n",
       "}\n",
       ".hoogle-code {\n",
       "display: block;\n",
       "font-family: monospace;\n",
       "white-space: pre;\n",
       "}\n",
       ".hoogle-text {\n",
       "display: block;\n",
       "}\n",
       ".hoogle-name {\n",
       "color: green;\n",
       "font-weight: bold;\n",
       "}\n",
       ".hoogle-head {\n",
       "font-weight: bold;\n",
       "}\n",
       ".hoogle-sub {\n",
       "display: block;\n",
       "margin-left: 0.4em;\n",
       "}\n",
       ".hoogle-package {\n",
       "font-weight: bold;\n",
       "font-style: italic;\n",
       "}\n",
       ".hoogle-module {\n",
       "font-weight: bold;\n",
       "}\n",
       ".hoogle-class {\n",
       "font-weight: bold;\n",
       "}\n",
       ".get-type {\n",
       "color: green;\n",
       "font-weight: bold;\n",
       "font-family: monospace;\n",
       "display: block;\n",
       "white-space: pre-wrap;\n",
       "}\n",
       ".show-type {\n",
       "color: green;\n",
       "font-weight: bold;\n",
       "font-family: monospace;\n",
       "margin-left: 1em;\n",
       "}\n",
       ".mono {\n",
       "font-family: monospace;\n",
       "display: block;\n",
       "}\n",
       ".err-msg {\n",
       "color: red;\n",
       "font-style: italic;\n",
       "font-family: monospace;\n",
       "white-space: pre;\n",
       "display: block;\n",
       "}\n",
       "#unshowable {\n",
       "color: red;\n",
       "font-weight: bold;\n",
       "}\n",
       ".err-msg.in.collapse {\n",
       "padding-top: 0.7em;\n",
       "}\n",
       ".highlight-code {\n",
       "white-space: pre;\n",
       "font-family: monospace;\n",
       "}\n",
       ".suggestion-warning { \n",
       "font-weight: bold;\n",
       "color: rgb(200, 130, 0);\n",
       "}\n",
       ".suggestion-error { \n",
       "font-weight: bold;\n",
       "color: red;\n",
       "}\n",
       ".suggestion-name {\n",
       "font-weight: bold;\n",
       "}\n",
       "</style><span class='get-type'>lookup :: forall a b. Eq a => a -> [(a, b)] -> Maybe b</span>"
      ],
      "text/plain": [
       "lookup :: forall a b. Eq a => a -> [(a, b)] -> Maybe b"
      ]
     },
     "metadata": {},
     "output_type": "display_data"
    }
   ],
   "source": [
    ":type lookup"
   ]
  },
  {
   "cell_type": "code",
   "execution_count": 14,
   "id": "f70fda62-b3a2-4bc5-8a7e-ea07ddea6f93",
   "metadata": {},
   "outputs": [
    {
     "data": {
      "text/plain": [
       "Just \\langle \\lambda x.f\\;x,\\{f{\\mapsto}\\langle \\lambda z.z,\\{\\}\\rangle \\}\\rangle"
      ]
     },
     "metadata": {},
     "output_type": "display_data"
    },
    {
     "data": {
      "text/plain": [
       "Nothing"
      ]
     },
     "metadata": {},
     "output_type": "display_data"
    }
   ],
   "source": [
    "lookup \"y\" env02 -- Maybe Env 디스플레이 인스턴스 선언 없으므로 텍스트 출력\n",
    "lookup \"z\" env02 -- 환경에 없는 변수 참조"
   ]
  },
  {
   "cell_type": "code",
   "execution_count": 15,
   "id": "55ad271e-c566-4e34-82a2-9fd29904f25a",
   "metadata": {},
   "outputs": [],
   "source": [
    "lookupEnv :: Nm -> Env -> [Clos]\n",
    "lookupEnv x env = case lookup x env of Nothing -> []\n",
    "                                       Just cl -> [cl]"
   ]
  },
  {
   "cell_type": "code",
   "execution_count": 16,
   "id": "39264d38-30b3-4d1d-a4ca-ab1c5da7680d",
   "metadata": {},
   "outputs": [
    {
     "data": {
      "text/latex": [
       "$\\langle \\lambda x.f\\;x,\\{f{\\mapsto}\\langle \\lambda z.z,\\{\\}\\rangle \\}\\rangle $"
      ]
     },
     "metadata": {},
     "output_type": "display_data"
    }
   ],
   "source": [
    "lookupEnv \"y\" env02 -- 리스트 원소 한줄씩 display되는데 한개이므로"
   ]
  },
  {
   "cell_type": "code",
   "execution_count": 17,
   "id": "1adac2b3-9e20-453b-bedc-83d73202d266",
   "metadata": {},
   "outputs": [],
   "source": [
    "lookupEnv \"z\" env02 -- 빈 리스트라 아무것도 display되지 않음"
   ]
  },
  {
   "cell_type": "code",
   "execution_count": 18,
   "id": "ebc18349-3a3d-4178-9730-c5c661bde659",
   "metadata": {},
   "outputs": [],
   "source": [
    "bigStepCBV :: Clos -> [Clos]\n",
    "bigStepCBV (Cl (Var x)   env) = lookupEnv x env\n",
    "bigStepCBV (Cl (Lam x e) env) = undefined -- 연습문제로 작성\n",
    "bigStepCBV (Cl (App x e) env) = undefined -- 연습문제로 작성"
   ]
  },
  {
   "cell_type": "code",
   "execution_count": 19,
   "id": "959688ff-1fff-4824-965e-39da0dfc1c7b",
   "metadata": {},
   "outputs": [
    {
     "data": {
      "text/latex": [
       "$\\langle \\lambda x.f\\;x,\\{f{\\mapsto}\\langle \\lambda z.z,\\{\\}\\rangle \\}\\rangle $"
      ]
     },
     "metadata": {},
     "output_type": "display_data"
    }
   ],
   "source": [
    "bigStepCBV (Cl (Var \"y\") env02) -- 큰걸음 실행 결과 있음 (환경에 있는 변수)"
   ]
  },
  {
   "cell_type": "code",
   "execution_count": 20,
   "id": "1f1245d7-e4f2-4a59-8c04-1a655a5f8d4d",
   "metadata": {},
   "outputs": [],
   "source": [
    "bigStepCBV (Cl (Var \"z\") env02) -- 큰걸음 실행 결과 없음 (환경에 없는 변수)"
   ]
  },
  {
   "cell_type": "code",
   "execution_count": 21,
   "id": "68d83d5b-914c-4e0e-b976-01d055864779",
   "metadata": {},
   "outputs": [],
   "source": [
    "-- bigStepCBV (Cl (Lam ...) ...) -- 연습문제로 작성한 코드 관련 테스트 작성"
   ]
  },
  {
   "cell_type": "code",
   "execution_count": 22,
   "id": "c27fcfa0-f5aa-40ae-a0e6-e8f3cd6e47b6",
   "metadata": {},
   "outputs": [],
   "source": [
    "-- bigStepCBV (Cl (App ...) ...) -- 연습문제로 작성한 코드 관련 테스트 작성"
   ]
  },
  {
   "cell_type": "markdown",
   "id": "a3dcd6c3-2454-45ee-b59f-220c47557641",
   "metadata": {},
   "source": [
    "여기까지 인자 먼저 값계산의 큰걸음 의미구조(그림 \\ref{fig:bigStepCBV})를 하스켈로 옮긴 함수 `bigStepCBV`를 작성하여 테스트해 보았다면,\n",
    "또 하나의 연습문제로 적용 먼저 값계산의 큰걸음 의미구조(그림 \\ref{fig:bigStepCBN})를 하스켈로 옮긴 함수 `bigStepCBN`도 마찬가지 방법으로\n",
    "작성하고 테스트해 볼 수 있을 것이다. 같은 클로저를 `bigStepCBN`으로 실행하면 정상적으로 실행되어 결과값이 있는데\n",
    "`bigStepCBV`는 정상적으로 실행되지 않고 결과값이 없는 경우가 없을지 생각해 보고 있다면 그러한 예시를 구성해 테스트해 보라.\n",
    "또한 같은 클로저를 `bigStepCBN`과 `bigStepCBV`로 실행했을 때 모두 정상 실행되지만 두 결과값이 똑같지는 않은 경우는 없는지\n",
    "생각해 보고 있다면 그러한 예시를 구성해 테스트해 보라."
   ]
  },
  {
   "cell_type": "code",
   "execution_count": 23,
   "id": "87c31ade-2f1e-49f6-af55-3ab1da001b41",
   "metadata": {},
   "outputs": [],
   "source": [
    "bigStepCBN :: Clos -> [Clos]\n",
    "bigStepCBN (Cl (Var x)   env) = undefined -- 연습문제로 작성\n",
    "bigStepCBN (Cl (Lam x e) env) = undefined -- 연습문제로 작성\n",
    "bigStepCBN (Cl (App x e) env) = undefined -- 연습문제로 작성"
   ]
  },
  {
   "cell_type": "code",
   "execution_count": 24,
   "id": "3dfa7f48-6b9f-46ed-9a19-6de11a7a5431",
   "metadata": {},
   "outputs": [],
   "source": [
    "-- 연습문제로 작성한 bigStepCBN에 대한 테스트"
   ]
  },
  {
   "cell_type": "markdown",
   "id": "0b97d9a7-2305-47f4-962a-862b9f436ec5",
   "metadata": {},
   "source": [
    "# 값계산 환경을 활용한 작은걸음 의미구조\n",
    "\\label{sec:evalCEK}\n",
    "이 장을 시작하며 \\ref{sec:evalSmallStep}절 앞부분에서는 줄임(reduction)과 값계산(evaluation)을 연관지어 이해하기 좋도록\n",
    "타입없는 람다계산법의 값계산을 맥락적 의미구조로 설명하였다. 그런데, 이런 치환 기반의 의미구조를 그대로 구현한다면 불필요한 치환이\n",
    "발생하는 단점을 있다. 이런 단점이 해소된 값계산 환경을 활용하는 방식의 큰걸음 의미구조를 \\ref{sec:evalBigStep}절에서 살펴보았다.\n",
    "환경을 활용하는 큰걸음 의미구조에 더 직접적으로 대응되는 작은걸음 의미구조도 생각해 볼 수 있다.\n",
    "이러한 작은걸음 의미구조가 바로 CEK기계\\cite{Felleisen86a}이다.\\footnote{여기서는\n",
    "    조금 단순화된 형태의 다음과 같은 하스켈 코드를 참고해 정리하였다.\\\\$\\phantom{AAx}$\n",
    "    \\url{https://matt.might.net/articles/cek-machines/} }\n",
    "참고로, CEK는 코드(Code), 환경(Enviroment), 나중에 할 일(Kontinuation)의 두문자어(acronym)이다.\n",
    "코드는 환경은 이미 익숙한 람다식과 값계산 환경을 말하므로 \\`\\`나중에 할 일\\'\\'(영어: continuation, 독일어: Kontinuation)의 개념만 알면\n",
    "CEK기계의 작동 원리를 이해할 수 있다.\n",
    "\n",
    "우선 산술식으로 나중에 할 일의 개념을 알아보자.\n",
    "산술식 $(\\underline{3 + 4}) + (5 + 6)$에서 밑줄 친 부분을 지금 계산하고 있다면,\n",
    "전체 식을 계산하기 위해 나중에 할 일은 $\\bullet + (5 + 6)$처럼 값계산 맥락((evaluation context)과 같은 형태로 표현할 수 있다.\n",
    "나중에 할 일 $\\bullet + (5 + 6)$는 지금 진행하는 계산의 결과를 $\\bullet$ 부분에 넣어서 완성되는 전체 식을 계산하라는 뜻이다.\n",
    "조금 더 큰 산술식 $(1 + 2) + ((\\underline{3 + 4}) + (5 + 6))$에서 마찬가지로\n",
    "밑줄 친 부분을 지금 계산하고 있다면, 전체 식을 계산하기 위해 나중에 할 일을\n",
    "한꺼번에 $(1 + 2) + (\\bullet + (5 + 6))$처럼 표현할 수도 있고,\n",
    "또 $\\bullet + (5 + 6)$와 $(1 + 2) + \\bullet$처럼 차례대로 두 개의 나중에 할 일로 나누어 표현할 수도 있을 것이다.\n",
    "정리하면, 산술식에서 나중에 할 일($\\kappa$)이란 일련의 값계산 맥락들로 표현할 수 있다. 그리고 일련의 나중에 할 일 가장\n",
    "마지막은 항상 전체 식의 값을 나타내는 맥락인 $\\bullet$으로 항상 끝마친다고 생각할 수 있으므로,\n",
    "산술식에 대한 나중에 할 일($\\kappa$)의 문법구조를\n",
    "$\\kappa ::= \\mathcal{E},\\kappa \\mid \\bullet$로 정의할 수 있다.\n",
    "\n",
    "환경 기반의 의미구조에서는 람다식($e$)과 값계산 환경($\\sigma$)를 짝지어 계산을 진행하므로,\n",
    "CEK기계에서 \\`\\`나중에 할 일\\'\\'은 람다식에 대한 맥락($\\mathcal{E}$)과 값계산 환경($\\sigma$)를 짝지은\n",
    "$\\langle\\mathcal{E},\\sigma\\rangle$와 같은 형태를 차례로 나열하여 표현한다.\n",
    "또한, 나중에 할 일의 마지막은 계산하는 닫힌식 전체의 값을 나타내는 $\\langle\\bullet,\\{\\}\\rangle$이므로,\n",
    "CEK 기계에서 나중에 할 일($\\kappa$)의 문법구조를\n",
    "$\\kappa ::= \\langle\\mathcal{E},\\sigma\\rangle,\\kappa \\mid \\langle\\bullet,\\{\\}\\rangle$로 정의할 수 있다.\n",
    "CEK기계는 \n",
    "$\\langle e_1,\\sigma_1\\rangle;\\kappa_1 \\;\\longmapsto\\; \\langle e_2,\\sigma_2\\rangle;\\kappa_2 \\;\\longmapsto\\;\\ldots$\n",
    "와 같이 작은걸음으로 계산이 진행되며 $v;\\langle\\bullet,\\{\\}\\rangle$의 형태일 때 $v$라는 값으로 계산이 정상 종료된 것으로 본다.\n",
    "\n",
    "이제부터는 인자 먼저(call-by-value) 값계산과 적용 먼저(call-by-name) 값계산을 규정하는 CEK기계의 구체적인 작은걸음 규칙을 살펴보기로 하자."
   ]
  },
  {
   "cell_type": "markdown",
   "id": "e2369ac8-6634-462a-a788-39aa7aa9dc19",
   "metadata": {},
   "source": [
    "## 인자 먼저 값계산 CEK기계\n",
    "인자 먼저 값계산 CEK기계(CEK$_\\mathrm{v}$)의 작은걸음 규칙은 아래와 같다."
   ]
  },
  {
   "cell_type": "raw",
   "id": "da074425-9919-44d9-8e63-39dadd8f68e4",
   "metadata": {},
   "source": [
    "\\begin{figure}[H]\n",
    "\\vspace*{-1.75em}"
   ]
  },
  {
   "cell_type": "markdown",
   "id": "7583728c-cd6d-4838-8357-f1c9356c2c9a",
   "metadata": {},
   "source": [
    "\\begin{align*}\n",
    "\\langle x,\\sigma\\rangle;\\kappa\n",
    "        &\\longmapsto\n",
    "\\sigma(x);\\kappa \n",
    "& \\text{(\\textsc{Var})}\n",
    "\\\\\n",
    "\\langle e_1~e_2,\\sigma\\rangle;\\kappa\n",
    "        &\\longmapsto\n",
    "\\langle e_1,\\sigma\\rangle;\\langle \\bullet~e_2,\\sigma\\rangle,\\kappa\n",
    "& \\text{(\\textsc{App}$_1$)}\n",
    "\\\\\n",
    "\\langle \\lambda x.e,\\sigma_1\\rangle;\\langle \\bullet~e_2,\\sigma\\rangle,\\kappa\n",
    "        &\\longmapsto\n",
    "\\langle e_2,\\sigma\\rangle;\\langle(\\lambda x.e)\\,\\bullet,\\sigma_1\\rangle,\\kappa\n",
    "& \\text{(\\textsc{App}$_2$)}\n",
    "\\\\\n",
    "v_2;\\langle(\\lambda x.e)\\,\\bullet,\\sigma_1\\rangle,\\kappa\n",
    "        &\\longmapsto\n",
    "\\langle e,\\{x{\\mapsto}v_2\\}\\sigma_1\\rangle;\\kappa\n",
    "& \\text{(\\textsc{Beta}$_\\mathrm{v}$)}\n",
    "\\end{align*}"
   ]
  },
  {
   "cell_type": "raw",
   "id": "7f109401-d8c2-4a46-9c4e-d44229c4bfcf",
   "metadata": {},
   "source": [
    "\\vspace*{-2.5em}\n",
    "\\end{figure}"
   ]
  },
  {
   "cell_type": "markdown",
   "id": "9a52d28c-78d1-442f-b2ec-536885da3871",
   "metadata": {},
   "source": [
    "\\noindent\n",
    "위의 네 가지 규칙을 좀더 자세히 설명하면 다음과 같다.\n",
    "\n",
    "- 첫째, 변수에 대한 규칙(\\textsc{Var})으로 한걸음 진행하면, 변수에 대응되는 값을 환경에서 참조한다.\n",
    "- 둘째, 함수적용식의 함수 부분에 대한 규칙(\\textsc{App}$_1$)으로 한걸음 진행하면,\n",
    "  우선 왼쪽의 함수 부분($e_1$)부터 현재 값계산 환경($\\sigma$)에서 지금부터 계산하고\n",
    "  나중에 할 일 목록에 앞으로 오른쪽의 인자 부분($e_2$)의 계산을 진행하기 위한 항목($\\langle\\bullet\\;e_2,\\sigma\\rangle$)을 추가해 놓는다.\n",
    "- 셋째, 함수적용식의 인자 부분에 대한 규칙(\\textsc{App}$_2$)으로 함수 부분의 계산이 끝난 값의 형태($\\langle\\lambda x.e,\\sigma_1$)일 때\n",
    "  나중의 할 일 목록에서 가장 앞에 위치한 $\\langle\\bullet\\;e_2,\\sigma\\rangle$를 제거하며 한걸음 진행하면,\n",
    "  지금부터 함수 적용식의 인자 부분($e_2$)의 계산을 진행하되\n",
    "  나중의 할 일 목록에 앞으로 함수 호출을 처리하기 위한 항목($\\langle(\\lambda x.e)\\,\\bullet,\\sigma_1\\rangle$)을 추가해 놓는다.\n",
    "- 넷째, 함수 호출을 처리하는 규칙(\\textsc{Beta}$_\\mathrm{v}$)으로 인자 부분의 계산이 끝난 값($v_2$)의 형태일 때 \n",
    "  나중의 할 일 목록에서 가장 앞에 위치한 $\\langle(\\lambda x.e)\\,\\bullet,\\sigma_1\\rangle$를 제거하며 한걸음 진행하면,\n",
    "  함수 부분의 값을 나타내는 클로저에 포함된 기존의 환경($\\sigma_1$)에\n",
    "  추가로 함수 파라메터($x$)에 인자 부분이 계산된 값($v_2$)을 대응시켜 확장한 새로운 환경에서\n",
    "  지금부터 함수 몸체($e$)의 계산을 진행한다.\n",
    "\n",
    "\\noindent\n",
    "참고로, 마지막의 넷째 규칙(\\textsc{Beta}$_\\mathrm{v}$)에 나타나는 $v_2$는 환경 기반의 인자 먼저 값계산에서 닫힌식의 계산이 완료된 형태의 클로저,\n",
    "즉 $\\langle\\lambda x_2.e_2,\\sigma_2\\rangle$와 같은 형태이다."
   ]
  },
  {
   "cell_type": "markdown",
   "id": "ee195095-131a-46fd-8aa6-1f833e9b54dc",
   "metadata": {},
   "source": [
    "## 적용 먼저 값계산 CEK기계\n",
    "적용 먼저 값계산 CEK기계(CEK$_\\mathrm{n}$)의 작은걸음 규칙은 아래와 같다."
   ]
  },
  {
   "cell_type": "raw",
   "id": "161bcfee-9abb-43d8-a25c-e6e00b29d6a2",
   "metadata": {},
   "source": [
    "\\begin{figure}[H]\n",
    "\\vspace*{-1.75em}"
   ]
  },
  {
   "cell_type": "markdown",
   "id": "c0087edf-f077-414f-88ac-238c5adc6af6",
   "metadata": {},
   "source": [
    "\\begin{align*}\n",
    "\\langle x,\\sigma\\rangle;\\kappa\n",
    "        &\\longmapsto\n",
    "\\sigma(x);\\kappa\n",
    "& \\text{(\\textsc{Var})}\n",
    "\\\\\n",
    "\\langle e_1~e_2,\\sigma\\rangle;\\kappa\n",
    "        &\\longmapsto\n",
    "\\langle e_1,\\sigma\\rangle;\\langle\\bullet~e_2,\\sigma\\rangle,\\kappa\n",
    "& \\text{(\\textsc{App}$_1$)}\n",
    "\\\\\n",
    "\\langle \\lambda x.e,\\sigma_1\\rangle;\\langle\\bullet~e_2,\\sigma\\rangle,\\kappa\n",
    "        &\\longmapsto\n",
    "\\langle e,\\{x{\\mapsto}\\langle e_2,\\sigma\\rangle\\}\\sigma_1\\rangle;\\kappa\n",
    "& \\text{(\\textsc{Beta}$_\\mathrm{n}$)}\n",
    "\\end{align*}"
   ]
  },
  {
   "cell_type": "raw",
   "id": "439d3daa-6fdc-4ee7-8df6-861a3d1a9e31",
   "metadata": {},
   "source": [
    "\\vspace*{-2.5em}\n",
    "\\end{figure}"
   ]
  },
  {
   "cell_type": "markdown",
   "id": "1dc3971a-1e27-42f6-b141-4cb4b61c9b6a",
   "metadata": {},
   "source": [
    "\\noindent\n",
    "CEK$_\\mathrm{n}$의 {\\textsc{Var}}와 {\\textsc{App}$_1$}규칙은 앞서 살펴본 CEK$_\\mathrm{v}$와 마찬가지지만\n",
    "함수 적용식의 인자 부분에 대한 계산과 함수 호출에 대한 규칙에서 차이가 있다.\n",
    "CEK$_\\mathrm{v}$에서는 함수적용식의 인자 부분($e_2$)에 대한 계산을 {\\textsc{App}$_2$}규칙으로 먼저 진행하고 나서\n",
    "{\\textsc{Beta}$_v$}규칙에 따라 함수를 호출하는 반면, CEK$_\\mathrm{n}$에서는 함수적용식의 함수 부분($e_1$)에 대한 계산이 끝나면\n",
    "곧바로 {\\textsc{Beta}$_n$}규칙으로 인자 부분($e_2$)의 계산을 진행하지 않고 그대로 클로저를 구성해 함수를 호출한다."
   ]
  },
  {
   "cell_type": "markdown",
   "id": "fa26f682-4b2b-4f31-ac4d-82d666878b03",
   "metadata": {},
   "source": [
    "## CEK기계의 작은걸음 함수를 하스켈로 작성하기\n",
    "CEK기계와 관련된 규칙에 나타나는 나중에 할 일(`Kont`)을 하스켈로 옮기기 위해 다음과 같이 선언한다."
   ]
  },
  {
   "cell_type": "code",
   "execution_count": 25,
   "id": "c340f493-c6c4-4e66-b611-9cb50e10ef63",
   "metadata": {},
   "outputs": [],
   "source": [
    "type Kont = [(Ctx,Env)] -- 나중에 할 일을 Ctx와 Env의 순서쌍 리스트로 표현\n",
    "data Ctx = Done | App1 Expr | App2 Expr -- 일반적인 값계산 맥락보다 단순"
   ]
  },
  {
   "cell_type": "markdown",
   "id": "7e5ea014-9b36-4031-b85a-18bd33b74c4c",
   "metadata": {},
   "source": [
    "위에 선언된 데이터 타입 `Ctx`는 일반적인 값계산 맥락보다 단순하다.\n",
    "일반적으로 값계산 맥락은 $e_1\\,(\\bullet\\;e_2)$와 같이 구멍을 나타내는 $\\bullet$이 두 겹 이상 안쪽으로 파고든 부분식의 위치에 나타날 수 있으므로 재귀적인 데이터 타입으로 선언해야 한다.\n",
    "하지만 CEK기계의 계산 과정에서는 이렇게 여러 겹 안쪽에 구멍이 뚫린 하나의 복잡한 값계산 맥락 대신에 이를 두 개의 단순한 맥락 $\\bullet\\;e_2$와 $e_1\\;\\bullet$로 나누어 순차적으로 적용하는 방식으로 계산이 진행된다.\n",
    "따라서 전체($\\bullet$) 또는 함수적용식의 왼쪽($\\bullet\\;e$)이나 오른쪽($e\\;\\bullet)$ 이렇게 세 가지 단순한 맥락만을 고려하면 되므로 `Ctx`를 재귀적으로 정의할 필요가 없다."
   ]
  },
  {
   "cell_type": "code",
   "execution_count": 26,
   "id": "d9c6b99e-9018-48a7-a8d4-8556b0c00d23",
   "metadata": {},
   "outputs": [],
   "source": [
    "instance Show Ctx where -- LaTeX 소스코드 생성하는 Show 인스턴스 직접 선언\n",
    "  showsPrec _ Done = showString \"\\\\bullet \"\n",
    "  showsPrec p (App1 e2) = showParen (p > 9) $\n",
    "      showString \"\\\\bullet \\\\;\" . showsPrec 10 e2\n",
    "  showsPrec p (App2 e1) = showParen (p > 9) $\n",
    "      showsPrec 9 e1 . showString \"\\\\; \\\\bullet\"\n",
    "\n",
    "import IHaskell.Display (latex)\n",
    "instance IHaskellDisplay Ctx where -- 노트북에 디스플레이하는 인스턴스 선언\n",
    "    display ctx = display [latex $ \"$\"++show ctx++\"$\"]"
   ]
  },
  {
   "cell_type": "code",
   "execution_count": 27,
   "id": "3c7a0bb5-8b0e-4279-81f0-52e707a099c1",
   "metadata": {},
   "outputs": [
    {
     "data": {
      "text/latex": [
       "$\\bullet \\;(x\\;y)$"
      ]
     },
     "metadata": {},
     "output_type": "display_data"
    },
    {
     "data": {
      "text/latex": [
       "$(\\lambda x.x)\\; \\bullet$"
      ]
     },
     "metadata": {},
     "output_type": "display_data"
    }
   ],
   "source": [
    "App1 (Var \"x\" `App` Var \"y\")\n",
    "App2 (Lam \"x\" $ Var \"x\")"
   ]
  },
  {
   "cell_type": "code",
   "execution_count": 28,
   "id": "19fba53e-b04f-448f-8ef9-28c9392e9458",
   "metadata": {},
   "outputs": [],
   "source": [
    "import Data.List (intercalate)\n",
    "instance {-# OVERLAPS #-} Show Kont where\n",
    "    show k = intercalate \",\\\\,\" (map show k)\n",
    "instance {-# OVERLAPS #-} Show (Clos,Kont) where\n",
    "    show (cl,k) = show cl++\";\\\\,\"++show k\n",
    "instance {-# OVERLAPS #-} Show (Ctx,Env) where\n",
    "    show (ctx,env) = \"\\\\langle \"++show ctx++\",\"++show env++\"\\\\rangle \"\n",
    "instance {-# OVERLAPS #-} IHaskellDisplay Kont where\n",
    "    display k = display [latex $ \"$\"++show k++\"$\"]\n",
    "instance {-# OVERLAPS #-} IHaskellDisplay (Clos,Kont) where\n",
    "    display e = display [latex $ \"$\"++show e++\"$\"]\n",
    "instance {-# OVERLAPS #-} IHaskellDisplay (Ctx,Env) where\n",
    "    display e = display [latex $ \"$\"++show e++\"$\"]"
   ]
  },
  {
   "cell_type": "code",
   "execution_count": 29,
   "id": "52192cc1-c6c7-4d4b-a2de-1df5c63c2e75",
   "metadata": {},
   "outputs": [
    {
     "data": {
      "text/latex": [
       "$\\langle \\bullet ,\\{\\}\\rangle $"
      ]
     },
     "metadata": {},
     "output_type": "display_data"
    }
   ],
   "source": [
    "(Done,[]) :: (Ctx,Env)"
   ]
  },
  {
   "cell_type": "code",
   "execution_count": 30,
   "id": "feb499dc-799c-49af-bf72-861db61890f7",
   "metadata": {},
   "outputs": [],
   "source": [
    "k03 = [ (App1 (Var \"f\"),        env01),\n",
    "        (App2 (Lam \"x\" $ Var \"x\"), []),\n",
    "        (Done,                     []) ]\n",
    "k03 :: Kont"
   ]
  },
  {
   "cell_type": "code",
   "execution_count": 31,
   "id": "1cf8b15a-63fb-4759-bdcd-31fd76596189",
   "metadata": {},
   "outputs": [
    {
     "data": {
      "text/latex": [
       "$\\langle \\lambda y.y\\;f,\\{f{\\mapsto}\\langle \\lambda z.z,\\{\\}\\rangle \\}\\rangle ;\\,\\langle \\bullet \\;f,\\{f{\\mapsto}\\langle \\lambda z.z,\\{\\}\\rangle \\}\\rangle ,\\,\\langle (\\lambda x.x)\\; \\bullet,\\{\\}\\rangle ,\\,\\langle \\bullet ,\\{\\}\\rangle $"
      ]
     },
     "metadata": {},
     "output_type": "display_data"
    }
   ],
   "source": [
    "e03 = Lam \"y\" (Var \"y\" `App` Var \"f\")\n",
    "(Cl e03 env01, k03) :: (Clos,Kont) -- 클로저와 나머지 할 일의 순서쌍"
   ]
  },
  {
   "cell_type": "markdown",
   "id": "050427c1-30d4-46e1-b9b4-8dfa359c85df",
   "metadata": {},
   "source": [
    "지금까지 CEK기계를 하스켈로 옮기는 데데 필요한 타입을 선언하고\n",
    "노트북 환경에서 CEK기계의 작은걸음 규칙에 나타난 것과 마찬가지로 출력되도록 클래스 인스턴스를 선언하였다.\n",
    "이제 인자 먼저 값계산을 따르는 CEK$_\\mathrm{v}$와 적용 먼저 값계산을 따르는 CEK$_\\mathrm{n}$의\n",
    "작은걸음 함수 `stepCEKv`와 `stepCEKn`을 작성해 보라."
   ]
  },
  {
   "cell_type": "code",
   "execution_count": 32,
   "id": "3705de15-d31c-4333-9eda-ab27d732c50d",
   "metadata": {},
   "outputs": [],
   "source": [
    "stepCEKv :: (Clos,Kont) -> [(Clos,Kont)] -- CEKv 작은걸음 함수\n",
    "stepCEKv _ = undefined -- 여러 개의 등식으로 나누어 작성해도 좋다"
   ]
  },
  {
   "cell_type": "code",
   "execution_count": 33,
   "id": "7e84f544-07e4-4d7e-8210-78ab81b38c01",
   "metadata": {},
   "outputs": [],
   "source": [
    "stepCEKn :: (Clos,Kont) -> [(Clos,Kont)] -- CEKn 작은걸음 함수\n",
    "stepCEKn _ = undefined -- 여러 개의 등식으로 나누어 작성해도 좋다"
   ]
  },
  {
   "cell_type": "markdown",
   "id": "15925759-09e9-46a2-b096-a81fc74cdd48",
   "metadata": {},
   "source": [
    "\\section*{요점정리}\n",
    "* TODO\n",
    "* TODO\n",
    "* TODO"
   ]
  },
  {
   "cell_type": "markdown",
   "id": "e88b9a02-1781-4315-b1b9-c9fd988187f1",
   "metadata": {},
   "source": [
    "\\section*{연습문제}\n",
    "1. TODO\n",
    "1. TODO\n",
    "1. TODO"
   ]
  },
  {
   "cell_type": "markdown",
   "id": "dfa85f77-d4a7-43e5-a731-8a24cbae16ca",
   "metadata": {},
   "source": [
    "\\section*{탐구과제}\n",
    "1. TODO\n",
    "1. TODO\n",
    "1. TODO"
   ]
  }
 ],
 "metadata": {
  "kernelspec": {
   "display_name": "Haskell",
   "language": "haskell",
   "name": "haskell"
  },
  "language_info": {
   "codemirror_mode": "ihaskell",
   "file_extension": ".hs",
   "mimetype": "text/x-haskell",
   "name": "haskell",
   "pygments_lexer": "Haskell",
   "version": "8.10.7"
  }
 },
 "nbformat": 4,
 "nbformat_minor": 5
}
