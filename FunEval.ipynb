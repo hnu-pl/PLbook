{
 "cells": [
  {
   "cell_type": "code",
   "execution_count": 1,
   "id": "c10de1dd-8f03-431f-b563-a6808791c790",
   "metadata": {},
   "outputs": [],
   "source": [
    ":opt no-lint\n",
    "{-# LANGUAGE TypeSynonymInstances FlexibleInstances #-}"
   ]
  },
  {
   "cell_type": "markdown",
   "id": "1a060ba1-dd82-4239-b5ca-b460a96e3702",
   "metadata": {},
   "source": [
    "이제 그림 \\ref{fig:bigStepCBV}와 \\ref{fig:bigStepCBN}의 큰걸음 의미구조를 하스켈로 옮겨 보자."
   ]
  },
  {
   "cell_type": "code",
   "execution_count": 2,
   "id": "ff9cce48-f04b-498d-89b8-36dcca5afb5d",
   "metadata": {},
   "outputs": [],
   "source": [
    "type Nm = String -- 변수 이름은 문자열로\n",
    "data Expr = Var Nm         -- x\n",
    "          | Lam Nm Expr    -- (λx.e)\n",
    "          | App Expr Expr  -- (e1 e2)\n",
    "          deriving (Eq, Ord)"
   ]
  },
  {
   "cell_type": "code",
   "execution_count": 27,
   "id": "8ccff2f5-3fe9-4a12-8428-f252ffb31389",
   "metadata": {},
   "outputs": [],
   "source": [
    "instance Show Expr where -- LaTeX 소스코드 생성하는 Show 인스턴스 직접 선언\n",
    "  showsPrec _ (Var x) = showString x\n",
    "  showsPrec p (Lam x e) = showParen (p > 1) $\n",
    "      showString (\"\\\\lambda \"++x++\".\") . showsPrec 1 e\n",
    "  showsPrec p (App e1 e2) = showParen (p > 9) $\n",
    "      showsPrec 9 e1 . showString \"\\\\;\" . showsPrec 10 e2\n",
    "\n",
    "import IHaskell.Display (latex)\n",
    "instance IHaskellDisplay Expr where -- 노트북에 디스플레이하는 인스턴스 선언\n",
    "    display e = display [latex $ \"$\"++show e++\"$\"]"
   ]
  },
  {
   "cell_type": "code",
   "execution_count": 4,
   "id": "c4349a13-1724-4cd7-8872-01d7f0d3e0c9",
   "metadata": {},
   "outputs": [
    {
     "data": {
      "text/latex": [
       "$\\lambda x.\\lambda y.x\\;(\\lambda z.y)$"
      ]
     },
     "metadata": {},
     "output_type": "display_data"
    }
   ],
   "source": [
    "Lam \"x\" (Lam \"y\" (App (Var \"x\") (Lam \"z\"  (Var \"y\"))))"
   ]
  },
  {
   "cell_type": "code",
   "execution_count": 5,
   "id": "e47bbff5-6b35-4cf5-bd5c-573f0b3e4a26",
   "metadata": {},
   "outputs": [
    {
     "data": {
      "text/latex": [
       "$\\lambda x.\\lambda y.x\\;(\\lambda z.y)$"
      ]
     },
     "metadata": {},
     "output_type": "display_data"
    }
   ],
   "source": [
    "-- 연산자 (.), ($) 및 역따옴표 중위 표현 활용 \n",
    "Lam \"x\" . Lam \"y\" $ Var \"x\" `App` Lam \"z\" (Var \"y\")"
   ]
  },
  {
   "cell_type": "code",
   "execution_count": 6,
   "id": "3b2d195c-85c7-4444-be6f-43c736e32584",
   "metadata": {},
   "outputs": [],
   "source": [
    "type Env = [(Nm,Clos)] -- 값계산 환경\n",
    "data Clos = Cl Expr Env deriving (Eq,Ord,Show) -- 클로저"
   ]
  },
  {
   "cell_type": "code",
   "execution_count": 7,
   "id": "04715db0-e9bb-4272-9394-bf00add82467",
   "metadata": {},
   "outputs": [],
   "source": [
    "import Data.List (intercalate)\n",
    "instance {-# OVERLAPS #-} Show Env where\n",
    "    show env = \"\\\\{\"++ intercalate \",\\\\,\" (map show env) ++\"\\\\}\"\n",
    "instance {-# OVERLAPS #-} Show (Nm,Clos) where\n",
    "    show (x,cl) = \"\\\\langle \"++x++\"{\\\\mapsto}\"++show cl++\"\\\\rangle \"\n",
    "instance Show Clos where\n",
    "    show (Cl e env) = \"\\\\langle \"++show e++\",\"++show env++\"\\\\rangle \"\n",
    "\n",
    "instance {-# OVERLAPS #-} IHaskellDisplay Env where\n",
    "    display e = display [latex $ \"$\"++show e++\"$\"]\n",
    "instance {-# OVERLAPS #-} IHaskellDisplay (Nm,Clos) where\n",
    "    display e = display [latex $ \"$\"++show e++\"$\"]\n",
    "instance IHaskellDisplay Clos where\n",
    "    display e = display [latex $ \"$\"++show e++\"$\"]"
   ]
  },
  {
   "cell_type": "code",
   "execution_count": 8,
   "id": "d92726dc-53bf-4a1f-b36e-7b377e2ef735",
   "metadata": {},
   "outputs": [],
   "source": [
    "env01 = [ (\"f\", Cl (Lam \"z\" $ Var \"z\") []) ]"
   ]
  },
  {
   "cell_type": "code",
   "execution_count": 9,
   "id": "0e725d3d-5b0f-4fe5-b471-66b295e5f5ba",
   "metadata": {},
   "outputs": [
    {
     "data": {
      "text/latex": [
       "$\\{\\langle f{\\mapsto}\\langle \\lambda z.z,\\{\\}\\rangle \\rangle \\}$"
      ]
     },
     "metadata": {},
     "output_type": "display_data"
    }
   ],
   "source": [
    "env01"
   ]
  },
  {
   "cell_type": "code",
   "execution_count": 10,
   "id": "feb8b161-e5ff-4391-8e25-177ff16859dc",
   "metadata": {},
   "outputs": [],
   "source": [
    "env02 = [ ( \"x\", Cl (Lam \"z\" $ Var \"z\")               []   ),\n",
    "          ( \"y\", Cl (Lam \"x\" $ Var \"f\" `App` Var \"x\") env01) ]"
   ]
  },
  {
   "cell_type": "code",
   "execution_count": 11,
   "id": "a70ef16b-f39f-43bf-8283-145965c61499",
   "metadata": {},
   "outputs": [
    {
     "data": {
      "text/latex": [
       "$\\{\\langle x{\\mapsto}\\langle \\lambda z.z,\\{\\}\\rangle \\rangle ,\\,\\langle y{\\mapsto}\\langle \\lambda x.f\\;x,\\{\\langle f{\\mapsto}\\langle \\lambda z.z,\\{\\}\\rangle \\rangle \\}\\rangle \\rangle \\}$"
      ]
     },
     "metadata": {},
     "output_type": "display_data"
    }
   ],
   "source": [
    "env02"
   ]
  },
  {
   "cell_type": "code",
   "execution_count": 12,
   "id": "d67c7231-9865-4ae2-9758-cf9ce96fdf70",
   "metadata": {},
   "outputs": [
    {
     "data": {
      "text/latex": [
       "$\\langle x{\\mapsto}\\langle \\lambda z.z,\\{\\}\\rangle \\rangle $"
      ]
     },
     "metadata": {},
     "output_type": "display_data"
    },
    {
     "data": {
      "text/latex": [
       "$\\langle y{\\mapsto}\\langle \\lambda x.f\\;x,\\{\\langle f{\\mapsto}\\langle \\lambda z.z,\\{\\}\\rangle \\rangle \\}\\rangle \\rangle $"
      ]
     },
     "metadata": {},
     "output_type": "display_data"
    }
   ],
   "source": [
    "mapM display it -- 직전 실행한 값계산 환경의 각 대응 항목을 한줄씩 디스플레이"
   ]
  },
  {
   "cell_type": "code",
   "execution_count": 13,
   "id": "68a23439-9bb2-46e4-9c84-197524533668",
   "metadata": {},
   "outputs": [
    {
     "data": {
      "text/html": [
       "<style>/* Styles used for the Hoogle display in the pager */\n",
       ".hoogle-doc {\n",
       "display: block;\n",
       "padding-bottom: 1.3em;\n",
       "padding-left: 0.4em;\n",
       "}\n",
       ".hoogle-code {\n",
       "display: block;\n",
       "font-family: monospace;\n",
       "white-space: pre;\n",
       "}\n",
       ".hoogle-text {\n",
       "display: block;\n",
       "}\n",
       ".hoogle-name {\n",
       "color: green;\n",
       "font-weight: bold;\n",
       "}\n",
       ".hoogle-head {\n",
       "font-weight: bold;\n",
       "}\n",
       ".hoogle-sub {\n",
       "display: block;\n",
       "margin-left: 0.4em;\n",
       "}\n",
       ".hoogle-package {\n",
       "font-weight: bold;\n",
       "font-style: italic;\n",
       "}\n",
       ".hoogle-module {\n",
       "font-weight: bold;\n",
       "}\n",
       ".hoogle-class {\n",
       "font-weight: bold;\n",
       "}\n",
       ".get-type {\n",
       "color: green;\n",
       "font-weight: bold;\n",
       "font-family: monospace;\n",
       "display: block;\n",
       "white-space: pre-wrap;\n",
       "}\n",
       ".show-type {\n",
       "color: green;\n",
       "font-weight: bold;\n",
       "font-family: monospace;\n",
       "margin-left: 1em;\n",
       "}\n",
       ".mono {\n",
       "font-family: monospace;\n",
       "display: block;\n",
       "}\n",
       ".err-msg {\n",
       "color: red;\n",
       "font-style: italic;\n",
       "font-family: monospace;\n",
       "white-space: pre;\n",
       "display: block;\n",
       "}\n",
       "#unshowable {\n",
       "color: red;\n",
       "font-weight: bold;\n",
       "}\n",
       ".err-msg.in.collapse {\n",
       "padding-top: 0.7em;\n",
       "}\n",
       ".highlight-code {\n",
       "white-space: pre;\n",
       "font-family: monospace;\n",
       "}\n",
       ".suggestion-warning { \n",
       "font-weight: bold;\n",
       "color: rgb(200, 130, 0);\n",
       "}\n",
       ".suggestion-error { \n",
       "font-weight: bold;\n",
       "color: red;\n",
       "}\n",
       ".suggestion-name {\n",
       "font-weight: bold;\n",
       "}\n",
       "</style><span class='get-type'>lookup :: forall a b. Eq a => a -> [(a, b)] -> Maybe b</span>"
      ],
      "text/plain": [
       "lookup :: forall a b. Eq a => a -> [(a, b)] -> Maybe b"
      ]
     },
     "metadata": {},
     "output_type": "display_data"
    }
   ],
   "source": [
    ":type lookup"
   ]
  },
  {
   "cell_type": "code",
   "execution_count": 14,
   "id": "f70fda62-b3a2-4bc5-8a7e-ea07ddea6f93",
   "metadata": {},
   "outputs": [
    {
     "data": {
      "text/plain": [
       "Just \\langle \\lambda x.f\\;x,\\{\\langle f{\\mapsto}\\langle \\lambda z.z,\\{\\}\\rangle \\rangle \\}\\rangle"
      ]
     },
     "metadata": {},
     "output_type": "display_data"
    },
    {
     "data": {
      "text/plain": [
       "Nothing"
      ]
     },
     "metadata": {},
     "output_type": "display_data"
    }
   ],
   "source": [
    "lookup \"y\" env02 -- Maybe Env 디스플레이 인스턴스를 선언하지 않아 텍스트 형태로 출력\n",
    "lookup \"z\" env02 -- 환경에 없는 변수 참조"
   ]
  },
  {
   "cell_type": "code",
   "execution_count": 15,
   "id": "55ad271e-c566-4e34-82a2-9fd29904f25a",
   "metadata": {},
   "outputs": [],
   "source": [
    "lookupEnv :: Nm -> Env -> [Clos]\n",
    "lookupEnv x env = case lookup x env of Nothing -> []\n",
    "                                       Just cl -> [cl]"
   ]
  },
  {
   "cell_type": "code",
   "execution_count": 16,
   "id": "39264d38-30b3-4d1d-a4ca-ab1c5da7680d",
   "metadata": {},
   "outputs": [
    {
     "data": {
      "text/latex": [
       "$\\langle \\lambda x.f\\;x,\\{\\langle f{\\mapsto}\\langle \\lambda z.z,\\{\\}\\rangle \\rangle \\}\\rangle $"
      ]
     },
     "metadata": {},
     "output_type": "display_data"
    }
   ],
   "source": [
    "lookupEnv \"y\" env02 -- 리스트 원소 한줄씩 display되는데 한개이므로"
   ]
  },
  {
   "cell_type": "code",
   "execution_count": 17,
   "id": "1adac2b3-9e20-453b-bedc-83d73202d266",
   "metadata": {},
   "outputs": [],
   "source": [
    "lookupEnv \"z\" env02 -- 빈 리스트라 아무것도 display되지 않음"
   ]
  },
  {
   "cell_type": "code",
   "execution_count": 18,
   "id": "ebc18349-3a3d-4178-9730-c5c661bde659",
   "metadata": {},
   "outputs": [],
   "source": [
    "bigStepCBV :: Clos -> [Clos]\n",
    "bigStepCBV (Cl (Var x)   env) = lookupEnv x env\n",
    "bigStepCBV (Cl (Lam x e) env) = undefined -- 연습문제로 작성\n",
    "bigStepCBV (Cl (App x e) env) = undefined -- 연습문제로 작성"
   ]
  },
  {
   "cell_type": "code",
   "execution_count": 19,
   "id": "959688ff-1fff-4824-965e-39da0dfc1c7b",
   "metadata": {},
   "outputs": [
    {
     "data": {
      "text/latex": [
       "$\\langle \\lambda x.f\\;x,\\{\\langle f{\\mapsto}\\langle \\lambda z.z,\\{\\}\\rangle \\rangle \\}\\rangle $"
      ]
     },
     "metadata": {},
     "output_type": "display_data"
    }
   ],
   "source": [
    "bigStepCBV (Cl (Var \"y\") env02) -- 큰걸음 실행 결과 있음 (환경에 있는 변수)"
   ]
  },
  {
   "cell_type": "code",
   "execution_count": 20,
   "id": "1f1245d7-e4f2-4a59-8c04-1a655a5f8d4d",
   "metadata": {},
   "outputs": [],
   "source": [
    "bigStepCBV (Cl (Var \"z\") env02) -- 큰걸음 실행 결과 없음 (환경에 없는 변수)"
   ]
  },
  {
   "cell_type": "code",
   "execution_count": 21,
   "id": "68d83d5b-914c-4e0e-b976-01d055864779",
   "metadata": {},
   "outputs": [],
   "source": [
    "-- bigStepCBV (Cl (Lam ...) ...) -- 연습문제로 작성한 코드 관련 테스트 작성"
   ]
  },
  {
   "cell_type": "code",
   "execution_count": 22,
   "id": "c27fcfa0-f5aa-40ae-a0e6-e8f3cd6e47b6",
   "metadata": {},
   "outputs": [],
   "source": [
    "-- bigStepCBV (Cl (App ...) ...) -- 연습문제로 작성한 코드 관련 테스트 작성"
   ]
  },
  {
   "cell_type": "markdown",
   "id": "a3dcd6c3-2454-45ee-b59f-220c47557641",
   "metadata": {},
   "source": [
    "여기까지 인자 먼저 값계산의 큰걸음 의미구조(그림 \\ref{fig:bigStepCBV})를 하스켈로 옮긴 함수 `bigStepCBV`를 작성하여 테스트하는 보았다면,\n",
    "또 하나의 연습문제로 적용 먼저 값계산의 큰걸음 의미구조(그림 \\ref{fig:bigStepCBN})를 하스켈로 옮긴 함수 `bigStepCBN`도 마찬가지 방법으로\n",
    "작성하고 테스트해 볼 수 있을 것이다. 같은 클로저를 `bigStepCBN`으로 실행하면 정상적으로 실행되어 결과값이 있는데\n",
    "`bigStepCBV`는 정상적으로 실행되지 않고 결과값이 없는 경우가 없을지 생각해 보고 있다면 그러한 예시를 구성해 테스트해 보라.\n",
    "또한 같은 클로저를 `bigStepCBN`과 `bigStepCBV`로 실행했을 때 모두 정상 실행되지만 두 결과값이 똑같지는 않은 경우는 없는지\n",
    "생각해 보고 있다면 그러한 예시를 구성해 테스트해 보라."
   ]
  },
  {
   "cell_type": "code",
   "execution_count": 23,
   "id": "87c31ade-2f1e-49f6-af55-3ab1da001b41",
   "metadata": {},
   "outputs": [],
   "source": [
    "bigStepCBN :: Clos -> [Clos]\n",
    "bigStepCBN (Cl (Var x)   env) = undefined -- 연습문제로 작성\n",
    "bigStepCBN (Cl (Lam x e) env) = undefined -- 연습문제로 작성\n",
    "bigStepCBN (Cl (App x e) env) = undefined -- 연습문제로 작성"
   ]
  },
  {
   "cell_type": "code",
   "execution_count": 24,
   "id": "3dfa7f48-6b9f-46ed-9a19-6de11a7a5431",
   "metadata": {},
   "outputs": [],
   "source": [
    "-- 연습문제로 작성한 bigStepCBN에 대한 테스트"
   ]
  },
  {
   "cell_type": "markdown",
   "id": "0b97d9a7-2305-47f4-962a-862b9f436ec5",
   "metadata": {},
   "source": [
    "# 값계산 환경을 활용한 작은걸음 의미구조\n",
    "\\label{sec:evalCEK}\n",
    "이 장을 시작하며 \\ref{sec:evalSmallStep}절 앞부분에서는 줄임(reduction)과 값계산(evaluation)을 연관지어 이해하기 좋도록\n",
    "타입없는 람다계산법의 값계산을 맥락적 의미구조로 설명하였다. 그런데, 이런 기반의 의미구조를 그대로 구현하한다면 불필요한 치환이\n",
    "발생하는 단점을 있다. 이런 단점이 해소된 값계산 환경을 활용하는 방식의 큰걸음 의미구조를 \\ref{sec:evalBigStep}절에서 살펴보았다.\n",
    "환경을 활용하는 큰걸음 의미구조가 있다면 이에 더 직접적으로 대응되는 값계산 환경을 활용한 작은걸음 의미구조도 생각해 볼 수 있다.\n",
    "이러한 작은걸음 의미구조가 바로 \\`CEK기계'\\cite{Felleisen86a}다.\\footnote{여기서는\n",
    "    조금 단순화된 형태의 다음과 같은 하스켈 코드를 참고해 정리하였다.\\\\$\\phantom{AAx}$\n",
    "    \\url{https://matt.might.net/articles/cek-machines/} }"
   ]
  },
  {
   "cell_type": "markdown",
   "id": "e2369ac8-6634-462a-a788-39aa7aa9dc19",
   "metadata": {},
   "source": [
    "## 인자 먼저 값계산 CEK기계"
   ]
  },
  {
   "cell_type": "markdown",
   "id": "7583728c-cd6d-4838-8357-f1c9356c2c9a",
   "metadata": {},
   "source": [
    "\\begin{align}\n",
    "\\langle x,\\sigma\\rangle;\\kappa\n",
    "        &\\longmapsto\n",
    "\\sigma(x);\\kappa\n",
    "\\\\\n",
    "\\langle e_1~e_2,\\sigma\\rangle;\\kappa\n",
    "        &\\longmapsto\n",
    "\\langle e_1,\\sigma\\rangle;\\langle \\bullet~e_2,\\sigma\\rangle,\\kappa\n",
    "\\\\\n",
    "\\langle \\lambda x.e,\\sigma_1\\rangle;\\langle \\bullet~e_2,\\sigma\\rangle,\\kappa\n",
    "        &\\longmapsto\n",
    "\\langle e_2,\\sigma\\rangle;\\langle(\\lambda x.e)\\,\\bullet,\\sigma_1\\rangle,\\kappa\n",
    "\\\\\n",
    "v_2;\\langle(\\lambda x.e)\\,\\bullet,\\sigma_1\\rangle,\\kappa\n",
    "        &\\longmapsto\n",
    "\\langle e,\\{x{\\mapsto}v_2\\}\\sigma_1\\rangle;\\kappa\n",
    "\\end{align}"
   ]
  },
  {
   "cell_type": "markdown",
   "id": "ee195095-131a-46fd-8aa6-1f833e9b54dc",
   "metadata": {},
   "source": [
    "## 적용 먼저 값계산 CEK기계"
   ]
  },
  {
   "cell_type": "markdown",
   "id": "c0087edf-f077-414f-88ac-238c5adc6af6",
   "metadata": {},
   "source": [
    "\\begin{align}\n",
    "\\langle x,\\sigma\\rangle;\\kappa\n",
    "        &\\longmapsto\n",
    "\\sigma(x);\\kappa\n",
    "\\\\\n",
    "\\langle e_1~e_2,\\sigma\\rangle;\\kappa\n",
    "        &\\longmapsto\n",
    "\\langle e_1,\\sigma\\rangle;\\langle\\bullet~e_2,\\sigma\\rangle,\\kappa\n",
    "\\\\\n",
    "\\langle \\lambda x.e,\\sigma_1\\rangle;\\langle\\bullet~e_2,\\sigma\\rangle,\\kappa\n",
    "        &\\longmapsto\n",
    "\\langle e,\\{x{\\mapsto}\\langle e_2,\\sigma\\rangle\\}\\sigma_1\\rangle;\\kappa\n",
    "\\end{align}"
   ]
  },
  {
   "cell_type": "markdown",
   "id": "15925759-09e9-46a2-b096-a81fc74cdd48",
   "metadata": {},
   "source": [
    "\\section*{요점정리}\n",
    "* TODO\n",
    "* TODO\n",
    "* TODO"
   ]
  },
  {
   "cell_type": "markdown",
   "id": "e88b9a02-1781-4315-b1b9-c9fd988187f1",
   "metadata": {},
   "source": [
    "\\section*{연습문제}\n",
    "1. TODO\n",
    "1. TODO\n",
    "1. TODO"
   ]
  },
  {
   "cell_type": "markdown",
   "id": "dfa85f77-d4a7-43e5-a731-8a24cbae16ca",
   "metadata": {},
   "source": [
    "\\section*{탐구과제}\n",
    "1. TODO\n",
    "1. TODO\n",
    "1. TODO"
   ]
  }
 ],
 "metadata": {
  "kernelspec": {
   "display_name": "Haskell",
   "language": "haskell",
   "name": "haskell"
  },
  "language_info": {
   "codemirror_mode": "ihaskell",
   "file_extension": ".hs",
   "mimetype": "text/x-haskell",
   "name": "haskell",
   "pygments_lexer": "Haskell",
   "version": "8.10.7"
  }
 },
 "nbformat": 4,
 "nbformat_minor": 5
}
