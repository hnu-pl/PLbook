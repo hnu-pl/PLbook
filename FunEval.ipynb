{
 "cells": [
  {
   "cell_type": "code",
   "execution_count": 1,
   "id": "c10de1dd-8f03-431f-b563-a6808791c790",
   "metadata": {},
   "outputs": [],
   "source": [
    ":opt no-lint\n",
    "{-# LANGUAGE TypeSynonymInstances FlexibleInstances #-}"
   ]
  },
  {
   "cell_type": "markdown",
   "id": "1a060ba1-dd82-4239-b5ca-b460a96e3702",
   "metadata": {},
   "source": [
    "이제 그림 \\ref{fig:bigStepCBV}와 \\ref{fig:bigStepCBN}의 큰걸음 의미구조를 하스켈로 옮겨 보자."
   ]
  },
  {
   "cell_type": "code",
   "execution_count": 2,
   "id": "ff9cce48-f04b-498d-89b8-36dcca5afb5d",
   "metadata": {},
   "outputs": [],
   "source": [
    "type Nm = String -- 변수 이름은 문자열로\n",
    "data Expr = Var Nm         -- x\n",
    "          | Lam Nm Expr    -- (λx.e)\n",
    "          | App Expr Expr  -- (e1 e2)\n",
    "          deriving (Eq, Ord)"
   ]
  },
  {
   "cell_type": "code",
   "execution_count": 3,
   "id": "8ccff2f5-3fe9-4a12-8428-f252ffb31389",
   "metadata": {},
   "outputs": [],
   "source": [
    "instance Show Expr where -- LaTeX 소스코드 생성하는 Show 인스턴스 직접 선언\n",
    "  showsPrec _ (Var x) = showString x\n",
    "  showsPrec p (Lam x e) = showParen (p > 1) $\n",
    "      showString (\"\\\\lambda \"++x++\".\") . showsPrec 1 e\n",
    "  showsPrec p (App e1 e2) = showParen (p > 9) $\n",
    "      showsPrec 9 e1 . showString \"\\\\;\" . showsPrec 10 e2\n",
    "\n",
    "import IHaskell.Display (latex)\n",
    "instance IHaskellDisplay Expr where -- 노트북에 디스플레이하는 인스턴스 선언\n",
    "    display e = display [latex $ \"$\"++show e++\"$\"]"
   ]
  },
  {
   "cell_type": "code",
   "execution_count": 4,
   "id": "c4349a13-1724-4cd7-8872-01d7f0d3e0c9",
   "metadata": {},
   "outputs": [
    {
     "data": {
      "text/latex": [
       "$\\lambda x.\\lambda y.x\\;(\\lambda z.y)$"
      ]
     },
     "metadata": {},
     "output_type": "display_data"
    }
   ],
   "source": [
    "Lam \"x\" (Lam \"y\" (App (Var \"x\") (Lam \"z\"  (Var \"y\"))))"
   ]
  },
  {
   "cell_type": "code",
   "execution_count": 5,
   "id": "e47bbff5-6b35-4cf5-bd5c-573f0b3e4a26",
   "metadata": {},
   "outputs": [
    {
     "data": {
      "text/latex": [
       "$\\lambda x.\\lambda y.x\\;(\\lambda z.y)$"
      ]
     },
     "metadata": {},
     "output_type": "display_data"
    }
   ],
   "source": [
    "-- 연산자 (.), ($) 및 역따옴표 중위 표현 활용 \n",
    "Lam \"x\" . Lam \"y\" $ Var \"x\" `App` Lam \"z\" (Var \"y\")"
   ]
  },
  {
   "cell_type": "code",
   "execution_count": 6,
   "id": "3b2d195c-85c7-4444-be6f-43c736e32584",
   "metadata": {},
   "outputs": [],
   "source": [
    "type Env = [(Nm,Clos)] -- 값계산 환경\n",
    "data Clos = Cl Expr Env deriving (Eq,Ord) -- 클로저"
   ]
  },
  {
   "cell_type": "code",
   "execution_count": 7,
   "id": "04715db0-e9bb-4272-9394-bf00add82467",
   "metadata": {},
   "outputs": [],
   "source": [
    "import Data.List (intercalate)\n",
    "instance {-# OVERLAPS #-} Show Env where\n",
    "    show env = \"\\\\{\"++ intercalate \",\\\\,\" (map show env) ++\"\\\\}\"\n",
    "instance {-# OVERLAPS #-} Show (Nm,Clos) where\n",
    "    show (x,cl) = x++\"{\\\\mapsto}\"++show cl\n",
    "instance Show Clos where\n",
    "    show (Cl e env) = \"\\\\langle \"++show e++\",\"++show env++\"\\\\rangle \"\n",
    "\n",
    "instance {-# OVERLAPS #-} IHaskellDisplay Env where\n",
    "    display e = display [latex $ \"$\"++show e++\"$\"]\n",
    "instance {-# OVERLAPS #-} IHaskellDisplay (Nm,Clos) where\n",
    "    display e = display [latex $ \"$\"++show e++\"$\"]\n",
    "instance IHaskellDisplay Clos where\n",
    "    display e = display [latex $ \"$\"++show e++\"$\"]"
   ]
  },
  {
   "cell_type": "code",
   "execution_count": 8,
   "id": "d92726dc-53bf-4a1f-b36e-7b377e2ef735",
   "metadata": {},
   "outputs": [],
   "source": [
    "env01 = [ (\"f\", Cl (Lam \"z\" $ Var \"z\") []) ]"
   ]
  },
  {
   "cell_type": "code",
   "execution_count": 9,
   "id": "0e725d3d-5b0f-4fe5-b471-66b295e5f5ba",
   "metadata": {},
   "outputs": [
    {
     "data": {
      "text/latex": [
       "$\\{f{\\mapsto}\\langle \\lambda z.z,\\{\\}\\rangle \\}$"
      ]
     },
     "metadata": {},
     "output_type": "display_data"
    }
   ],
   "source": [
    "env01"
   ]
  },
  {
   "cell_type": "code",
   "execution_count": 10,
   "id": "feb8b161-e5ff-4391-8e25-177ff16859dc",
   "metadata": {},
   "outputs": [],
   "source": [
    "env02 = [ ( \"x\", Cl (Lam \"z\" $ Var \"z\")               []   ),\n",
    "          ( \"y\", Cl (Lam \"x\" $ Var \"f\" `App` Var \"x\") env01) ]"
   ]
  },
  {
   "cell_type": "code",
   "execution_count": 11,
   "id": "a70ef16b-f39f-43bf-8283-145965c61499",
   "metadata": {},
   "outputs": [
    {
     "data": {
      "text/latex": [
       "$\\{x{\\mapsto}\\langle \\lambda z.z,\\{\\}\\rangle ,\\,y{\\mapsto}\\langle \\lambda x.f\\;x,\\{f{\\mapsto}\\langle \\lambda z.z,\\{\\}\\rangle \\}\\rangle \\}$"
      ]
     },
     "metadata": {},
     "output_type": "display_data"
    }
   ],
   "source": [
    "env02"
   ]
  },
  {
   "cell_type": "code",
   "execution_count": 12,
   "id": "d67c7231-9865-4ae2-9758-cf9ce96fdf70",
   "metadata": {},
   "outputs": [
    {
     "data": {
      "text/latex": [
       "$x{\\mapsto}\\langle \\lambda z.z,\\{\\}\\rangle $"
      ]
     },
     "metadata": {},
     "output_type": "display_data"
    },
    {
     "data": {
      "text/latex": [
       "$y{\\mapsto}\\langle \\lambda x.f\\;x,\\{f{\\mapsto}\\langle \\lambda z.z,\\{\\}\\rangle \\}\\rangle $"
      ]
     },
     "metadata": {},
     "output_type": "display_data"
    }
   ],
   "source": [
    "mapM display it -- 직전 실행한 값계산 환경의 각 대응 항목을 한줄씩 디스플레이"
   ]
  },
  {
   "cell_type": "code",
   "execution_count": 13,
   "id": "68a23439-9bb2-46e4-9c84-197524533668",
   "metadata": {},
   "outputs": [
    {
     "data": {
      "text/html": [
       "<style>/* Styles used for the Hoogle display in the pager */\n",
       ".hoogle-doc {\n",
       "display: block;\n",
       "padding-bottom: 1.3em;\n",
       "padding-left: 0.4em;\n",
       "}\n",
       ".hoogle-code {\n",
       "display: block;\n",
       "font-family: monospace;\n",
       "white-space: pre;\n",
       "}\n",
       ".hoogle-text {\n",
       "display: block;\n",
       "}\n",
       ".hoogle-name {\n",
       "color: green;\n",
       "font-weight: bold;\n",
       "}\n",
       ".hoogle-head {\n",
       "font-weight: bold;\n",
       "}\n",
       ".hoogle-sub {\n",
       "display: block;\n",
       "margin-left: 0.4em;\n",
       "}\n",
       ".hoogle-package {\n",
       "font-weight: bold;\n",
       "font-style: italic;\n",
       "}\n",
       ".hoogle-module {\n",
       "font-weight: bold;\n",
       "}\n",
       ".hoogle-class {\n",
       "font-weight: bold;\n",
       "}\n",
       ".get-type {\n",
       "color: green;\n",
       "font-weight: bold;\n",
       "font-family: monospace;\n",
       "display: block;\n",
       "white-space: pre-wrap;\n",
       "}\n",
       ".show-type {\n",
       "color: green;\n",
       "font-weight: bold;\n",
       "font-family: monospace;\n",
       "margin-left: 1em;\n",
       "}\n",
       ".mono {\n",
       "font-family: monospace;\n",
       "display: block;\n",
       "}\n",
       ".err-msg {\n",
       "color: red;\n",
       "font-style: italic;\n",
       "font-family: monospace;\n",
       "white-space: pre;\n",
       "display: block;\n",
       "}\n",
       "#unshowable {\n",
       "color: red;\n",
       "font-weight: bold;\n",
       "}\n",
       ".err-msg.in.collapse {\n",
       "padding-top: 0.7em;\n",
       "}\n",
       ".highlight-code {\n",
       "white-space: pre;\n",
       "font-family: monospace;\n",
       "}\n",
       ".suggestion-warning { \n",
       "font-weight: bold;\n",
       "color: rgb(200, 130, 0);\n",
       "}\n",
       ".suggestion-error { \n",
       "font-weight: bold;\n",
       "color: red;\n",
       "}\n",
       ".suggestion-name {\n",
       "font-weight: bold;\n",
       "}\n",
       "</style><span class='get-type'>lookup :: forall a b. Eq a => a -> [(a, b)] -> Maybe b</span>"
      ],
      "text/plain": [
       "lookup :: forall a b. Eq a => a -> [(a, b)] -> Maybe b"
      ]
     },
     "metadata": {},
     "output_type": "display_data"
    }
   ],
   "source": [
    ":type lookup"
   ]
  },
  {
   "cell_type": "code",
   "execution_count": 14,
   "id": "f70fda62-b3a2-4bc5-8a7e-ea07ddea6f93",
   "metadata": {},
   "outputs": [
    {
     "data": {
      "text/plain": [
       "Just \\langle \\lambda x.f\\;x,\\{f{\\mapsto}\\langle \\lambda z.z,\\{\\}\\rangle \\}\\rangle"
      ]
     },
     "metadata": {},
     "output_type": "display_data"
    },
    {
     "data": {
      "text/plain": [
       "Nothing"
      ]
     },
     "metadata": {},
     "output_type": "display_data"
    }
   ],
   "source": [
    "lookup \"y\" env02 -- Maybe Env 디스플레이 인스턴스 선언 없으므로 텍스트 출력\n",
    "lookup \"z\" env02 -- 환경에 없는 변수 참조"
   ]
  },
  {
   "cell_type": "code",
   "execution_count": 15,
   "id": "55ad271e-c566-4e34-82a2-9fd29904f25a",
   "metadata": {},
   "outputs": [],
   "source": [
    "lookupEnv :: Nm -> Env -> [Clos]\n",
    "lookupEnv x env = case lookup x env of Nothing -> []\n",
    "                                       Just cl -> [cl]"
   ]
  },
  {
   "cell_type": "code",
   "execution_count": 16,
   "id": "39264d38-30b3-4d1d-a4ca-ab1c5da7680d",
   "metadata": {},
   "outputs": [
    {
     "data": {
      "text/latex": [
       "$\\langle \\lambda x.f\\;x,\\{f{\\mapsto}\\langle \\lambda z.z,\\{\\}\\rangle \\}\\rangle $"
      ]
     },
     "metadata": {},
     "output_type": "display_data"
    }
   ],
   "source": [
    "lookupEnv \"y\" env02 -- 리스트 원소 한줄씩 display되는데 한개이므로"
   ]
  },
  {
   "cell_type": "code",
   "execution_count": 17,
   "id": "1adac2b3-9e20-453b-bedc-83d73202d266",
   "metadata": {},
   "outputs": [],
   "source": [
    "lookupEnv \"z\" env02 -- 빈 리스트라 아무것도 display되지 않음"
   ]
  },
  {
   "cell_type": "code",
   "execution_count": 18,
   "id": "ebc18349-3a3d-4178-9730-c5c661bde659",
   "metadata": {},
   "outputs": [],
   "source": [
    "bigStepCBV :: Clos -> [Clos]\n",
    "bigStepCBV (Cl (Var x)     env) = lookupEnv x env\n",
    "bigStepCBV (Cl (Lam x e)   env) = undefined -- 연습문제로 작성\n",
    "bigStepCBV (Cl (App e1 e2) env) = undefined -- 연습문제로 작성"
   ]
  },
  {
   "cell_type": "code",
   "execution_count": 19,
   "id": "959688ff-1fff-4824-965e-39da0dfc1c7b",
   "metadata": {},
   "outputs": [
    {
     "data": {
      "text/latex": [
       "$\\langle \\lambda x.f\\;x,\\{f{\\mapsto}\\langle \\lambda z.z,\\{\\}\\rangle \\}\\rangle $"
      ]
     },
     "metadata": {},
     "output_type": "display_data"
    }
   ],
   "source": [
    "bigStepCBV (Cl (Var \"y\") env02) -- 큰걸음 실행 결과 있음 (환경에 있는 변수)"
   ]
  },
  {
   "cell_type": "code",
   "execution_count": 20,
   "id": "1f1245d7-e4f2-4a59-8c04-1a655a5f8d4d",
   "metadata": {},
   "outputs": [],
   "source": [
    "bigStepCBV (Cl (Var \"z\") env02) -- 큰걸음 실행 결과 없음 (환경에 없는 변수)"
   ]
  },
  {
   "cell_type": "code",
   "execution_count": 21,
   "id": "68d83d5b-914c-4e0e-b976-01d055864779",
   "metadata": {},
   "outputs": [],
   "source": [
    "-- bigStepCBV (Cl (Lam ...) ...) -- 연습문제로 작성한 코드 관련 테스트 작성"
   ]
  },
  {
   "cell_type": "code",
   "execution_count": 22,
   "id": "c27fcfa0-f5aa-40ae-a0e6-e8f3cd6e47b6",
   "metadata": {},
   "outputs": [],
   "source": [
    "-- bigStepCBV (Cl (App ...) ...) -- 연습문제로 작성한 코드 관련 테스트 작성"
   ]
  },
  {
   "cell_type": "markdown",
   "id": "a3dcd6c3-2454-45ee-b59f-220c47557641",
   "metadata": {},
   "source": [
    "여기까지 인자 먼저 값계산의 큰걸음 의미구조(그림 \\ref{fig:bigStepCBV})를 하스켈로 옮긴 함수 `bigStepCBV`를 작성하여 테스트해 보았다면,\n",
    "또 하나의 연습문제로 적용 먼저 값계산의 큰걸음 의미구조(그림 \\ref{fig:bigStepCBN})를 하스켈로 옮긴 함수 `bigStepCBN`도 마찬가지 방법으로\n",
    "작성하고 테스트해 볼 수 있을 것이다. 같은 클로저를 `bigStepCBN`으로 실행하면 정상적으로 실행되어 결과값이 있는데\n",
    "`bigStepCBV`는 정상적으로 실행되지 않고 결과값이 없는 경우가 없을지 생각해 보고 있다면 그러한 예시를 구성해 테스트해 보라.\n",
    "또한 같은 클로저를 `bigStepCBN`과 `bigStepCBV`로 실행했을 때 모두 정상 실행되지만 두 결과값이 똑같지는 않은 경우는 없는지\n",
    "생각해 보고 있다면 그러한 예시를 구성해 테스트해 보라."
   ]
  },
  {
   "cell_type": "code",
   "execution_count": 23,
   "id": "87c31ade-2f1e-49f6-af55-3ab1da001b41",
   "metadata": {},
   "outputs": [],
   "source": [
    "bigStepCBN :: Clos -> [Clos]\n",
    "bigStepCBN (Cl (Var x)     env) = undefined -- 연습문제로 작성\n",
    "bigStepCBN (Cl (Lam x e)   env) = undefined -- 연습문제로 작성\n",
    "bigStepCBN (Cl (App e1 e2) env) = undefined -- 연습문제로 작성"
   ]
  },
  {
   "cell_type": "code",
   "execution_count": 24,
   "id": "3dfa7f48-6b9f-46ed-9a19-6de11a7a5431",
   "metadata": {},
   "outputs": [],
   "source": [
    "-- 연습문제로 작성한 bigStepCBN에 대한 테스트"
   ]
  },
  {
   "cell_type": "markdown",
   "id": "0b97d9a7-2305-47f4-962a-862b9f436ec5",
   "metadata": {},
   "source": [
    "# 값계산 환경을 활용한 작은걸음 의미구조\n",
    "\\label{sec:evalCEK}\n",
    "이 장을 시작하며 \\ref{sec:evalSmallStep}절 앞부분에서는 줄임(reduction)과 값계산(evaluation)을 연관지어 이해하기 좋도록\n",
    "타입없는 람다계산법의 값계산을 맥락적 의미구조로 설명하였다. 그런데, 이런 치환 기반의 의미구조를 그대로 구현한다면 불필요한 치환이\n",
    "발생하는 단점이 있다. 이런 단점이 해소된 값계산 환경을 활용하는 방식의 큰걸음 의미구조를 \\ref{sec:evalBigStep}절에서 살펴보았다.\n",
    "환경을 활용하는 큰걸음 의미구조에 더 직접적으로 대응되는 작은걸음 의미구조도 생각해 볼 수 있다.\n",
    "이러한 작은걸음 의미구조가 바로 CEK기계\\cite{Felleisen86a}이다.\\footnote{여기서는\n",
    "    조금 단순화된 형태의 다음과 같은 하스켈 코드를 참고해 정리하였다.\\\\$\\phantom{AAx}$\n",
    "    \\url{https://matt.might.net/articles/cek-machines/} }\n",
    "참고로, CEK는 코드(Code), 환경(Environment), 나중에 할 일(Kontinuation)의 두문자어(acronym)이다.\n",
    "코드와 환경은 이미 익숙한 람다식과 값계산 환경을 말하므로 \\`\\`나중에 할 일\\'\\'(영어: continuation, 독일어: Kontinuation)의 개념만 알면\n",
    "CEK기계의 작동 원리를 이해할 수 있다.\n",
    "\n",
    "우선 산술식으로 나중에 할 일의 개념을 알아보자.\n",
    "산술식 $(\\underline{3 + 4}) + (5 + 6)$에서 밑줄 친 부분을 지금 계산하고 있다면,\n",
    "전체 식을 계산하기 위해 나중에 할 일은 $\\bullet + (5 + 6)$처럼 값계산 맥락(evaluation context)과 같은 형태로 표현할 수 있다.\n",
    "나중에 할 일 $\\bullet + (5 + 6)$는 지금 진행하는 계산의 결과를 $\\bullet$ 부분에 넣어서 완성되는 전체 식을 계산하라는 뜻이다.\n",
    "조금 더 큰 산술식 $(1 + 2) + ((\\underline{3 + 4}) + (5 + 6))$에서 마찬가지로\n",
    "밑줄 친 부분을 지금 계산하고 있다면, 전체 식을 계산하기 위해 나중에 할 일을\n",
    "한꺼번에 $(1 + 2) + (\\bullet + (5 + 6))$처럼 표현할 수도 있고,\n",
    "또 $\\bullet + (5 + 6)$와 $(1 + 2) + \\bullet$처럼 차례대로 두 개로 나누어 표현할 수도 있을 것이다.\n",
    "정리하면, 산술식에서 나중에 할 일($\\kappa$)이란 일련의 값계산 맥락들로 표현할 수 있다. 그리고 나중에 할 일 목록의\n",
    "가장 마지막은 항상 전체 식의 값을 나타내는 맥락인 $\\bullet$으로 항상 끝마친다고 생각할 수 있으므로,\n",
    "산술식에 대한 나중에 할 일($\\kappa$)의 문법구조를\n",
    "$\\kappa ::= \\mathcal{E},\\kappa \\mid \\bullet$로 정의할 수 있다.\n",
    "\n",
    "환경 기반의 의미구조에서는 람다식($e$)과 값계산 환경($\\rho$)을 짝지어 계산을 진행하므로,\n",
    "CEK기계에서 \\`\\`나중에 할 일\\'\\'은 람다식에 대한 맥락($\\mathcal{E}$)과 값계산 환경($\\rho$)를 짝지은\n",
    "$\\langle\\mathcal{E},\\rho\\rangle$와 같은 형태를 차례로 나열하여 표현한다.\n",
    "또한, 나중에 할 일의 마지막은 계산하는 닫힌식 전체의 값을 나타내는 $\\langle\\bullet,\\{\\}\\rangle$이므로,\n",
    "CEK 기계에서 나중에 할 일($\\kappa$)의 문법구조를\n",
    "$\\kappa ::= \\langle\\mathcal{E},\\rho\\rangle,\\kappa \\mid \\langle\\bullet,\\{\\}\\rangle$로 정의할 수 있다.\n",
    "CEK기계는 \n",
    "$\\langle e_1,\\rho_1\\rangle;\\kappa_1 \\;\\longmapsto\\; \\langle e_2,\\rho_2\\rangle;\\kappa_2 \\;\\longmapsto\\;\\ldots$\n",
    "와 같이 작은걸음으로 계산이 진행되며 $v;\\langle\\bullet,\\{\\}\\rangle$의 형태일 때 $v$라는 값으로 계산이 정상 종료된 것으로 본다.\n",
    "\n",
    "이제부터는 인자 먼저(call-by-value) 값계산과 적용 먼저(call-by-name) 값계산을 규정하는 CEK기계의 구체적인 작은걸음 규칙을 살펴보기로 하자."
   ]
  },
  {
   "cell_type": "markdown",
   "id": "e2369ac8-6634-462a-a788-39aa7aa9dc19",
   "metadata": {},
   "source": [
    "## 인자 먼저 값계산 CEK기계\n",
    "인자 먼저 값계산 CEK기계(CEK$_\\mathrm{v}$)의 작은걸음 규칙은 아래와 같다.\n",
    "\\vspace*{-1em}\n",
    "\\begingroup\n",
    "\\addtolength{\\jot}{-.5ex}\n",
    "\\begin{align*}\n",
    "\\langle x,\\rho\\rangle;\\kappa\n",
    "        &\\longmapsto\n",
    "\\rho(x);\\kappa \n",
    "& \\text{(\\textsc{Var})}\n",
    "\\\\\n",
    "\\langle e_1~e_2,\\rho\\rangle;\\kappa\n",
    "        &\\longmapsto\n",
    "\\langle e_1,\\rho\\rangle;\\langle \\bullet~e_2,\\rho\\rangle,\\kappa\n",
    "& \\text{(\\textsc{App}$_1$)}\n",
    "\\\\\n",
    "\\langle \\lambda x.e,\\rho_1\\rangle;\\langle \\bullet~e_2,\\rho\\rangle,\\kappa\n",
    "        &\\longmapsto\n",
    "\\langle e_2,\\rho\\rangle;\\langle(\\lambda x.e)\\,\\bullet,\\rho_1\\rangle,\\kappa\n",
    "& \\text{(\\textsc{App}$_2$)}\n",
    "\\\\\n",
    "v_2;\\langle(\\lambda x.e)\\,\\bullet,\\rho_1\\rangle,\\kappa\n",
    "        &\\longmapsto\n",
    "\\langle e,\\{x{\\mapsto}v_2\\}\\rho_1\\rangle;\\kappa\n",
    "& \\text{(\\textsc{Beta}$_\\mathrm{v}$)}\n",
    "\\end{align*}\n",
    "\\vspace*{-2em}\n",
    "\\endgroup"
   ]
  },
  {
   "cell_type": "markdown",
   "id": "9a52d28c-78d1-442f-b2ec-536885da3871",
   "metadata": {},
   "source": [
    "\\noindent\n",
    "위의 네 가지 규칙을 좀더 자세히 설명하면 다음과 같다.\n",
    "\n",
    "- 첫째, 변수에 대한 규칙(\\textsc{Var})으로 한걸음 진행하면, 변수에 대응되는 값을 환경에서 참조한다.\n",
    "- 둘째, 함수적용식의 함수 부분에 대한 규칙(\\textsc{App}$_1$)으로 한걸음 진행하면,\n",
    "  우선 왼쪽의 함수 부분($e_1$)부터 현재 값계산 환경($\\rho$)에서 지금부터 계산하고\n",
    "  나중에 할 일 목록에 앞으로 오른쪽의 인자 부분($e_2$)의 계산을 진행하기 위한 항목($\\langle\\bullet\\;e_2,\\rho\\rangle$)을 추가해 놓는다.\n",
    "- 셋째, 함수적용식의 인자 부분에 대한 규칙(\\textsc{App}$_2$)으로 함수 부분의 계산이 끝난 값의 형태($\\langle\\lambda x.e,\\rho_1$)일 때\n",
    "  나중의 할 일 목록에서 가장 앞에 위치한 $\\langle\\bullet\\;e_2,\\rho\\rangle$를 제거하며 한걸음 진행하면,\n",
    "  지금부터 함수 적용식의 인자 부분($e_2$)의 계산을 진행하되\n",
    "  나중의 할 일 목록에 앞으로 함수 호출을 처리하기 위한 항목($\\langle(\\lambda x.e)\\,\\bullet,\\rho_1\\rangle$)을 추가해 놓는다.\n",
    "- 넷째, 함수 호출을 처리하는 규칙(\\textsc{Beta}$_\\mathrm{v}$)으로 인자 부분의 계산이 끝난 값($v_2$)의 형태일 때 \n",
    "  나중의 할 일 목록에서 가장 앞에 위치한 $\\langle(\\lambda x.e)\\,\\bullet,\\rho_1\\rangle$를 제거하며 한걸음 진행하면,\n",
    "  함수 부분의 값을 나타내는 클로저에 포함된 기존의 환경($\\rho_1$)에\n",
    "  추가로 함수 파라메터($x$)에 인자 부분이 계산된 값($v_2$)을 대응시켜 확장한 새로운 환경에서\n",
    "  지금부터 함수 몸체($e$)의 계산을 진행한다.\n",
    "\n",
    "\\noindent\n",
    "참고로, 마지막의 넷째 규칙(\\textsc{Beta}$_\\mathrm{v}$)에 나타나는 $v_2$는 환경 기반의 인자 먼저 값계산에서 닫힌식의 계산이 완료된 형태의 클로저,\n",
    "즉 $\\langle\\lambda x_2.e_2,\\rho_2\\rangle$와 같은 형태이다."
   ]
  },
  {
   "cell_type": "markdown",
   "id": "ee195095-131a-46fd-8aa6-1f833e9b54dc",
   "metadata": {},
   "source": [
    "## 적용 먼저 값계산 CEK기계\n",
    "적용 먼저 값계산 CEK기계(CEK$_\\mathrm{n}$)의 작은걸음 규칙은 아래와 같다.\n",
    "\\vspace*{-1em}\n",
    "\\begingroup\n",
    "\\addtolength{\\jot}{-.5ex}\n",
    "\\begin{align*}\n",
    "\\langle x,\\rho\\rangle;\\kappa\n",
    "        &\\longmapsto\n",
    "\\rho(x);\\kappa\n",
    "& \\text{(\\textsc{Var})}\n",
    "\\\\\n",
    "\\langle e_1~e_2,\\rho\\rangle;\\kappa\n",
    "        &\\longmapsto\n",
    "\\langle e_1,\\rho\\rangle;\\langle\\bullet~e_2,\\rho\\rangle,\\kappa\n",
    "& \\text{(\\textsc{App}$_1$)}\n",
    "\\\\\n",
    "\\langle \\lambda x.e,\\rho_1\\rangle;\\langle\\bullet~e_2,\\rho\\rangle,\\kappa\n",
    "        &\\longmapsto\n",
    "\\langle e,\\{x{\\mapsto}\\langle e_2,\\rho\\rangle\\}\\rho_1\\rangle;\\kappa\n",
    "& \\text{(\\textsc{Beta}$_\\mathrm{n}$)}\n",
    "\\end{align*}\n",
    "\\vspace*{-2em}\n",
    "\\endgroup"
   ]
  },
  {
   "cell_type": "markdown",
   "id": "1dc3971a-1e27-42f6-b141-4cb4b61c9b6a",
   "metadata": {},
   "source": [
    "\\noindent\n",
    "CEK$_\\mathrm{n}$의 \\textsc{Var}과 \\textsc{App}$_1$규칙은 앞서 살펴본 CEK$_\\mathrm{v}$와 마찬가지지만\n",
    "함수 적용식의 인자 부분에 대한 계산과 함수 호출에 대한 규칙에서 차이가 있다.\n",
    "CEK$_\\mathrm{v}$에서는 함수적용식의 인자 부분($e_2$)에 대한 계산을 \\textsc{App}$_2$규칙으로 먼저 진행하고 나서\n",
    "\\textsc{Beta}$_v$규칙에 따라 함수를 호출하는 반면, CEK$_\\mathrm{n}$에서는 함수적용식의 함수 부분($e_1$)에 대한 계산이 끝나면\n",
    "곧바로 \\textsc{Beta}$_n$규칙으로 인자 부분($e_2$)의 계산을 진행하지 않고 그대로 클로저를 구성해 함수를 호출한다."
   ]
  },
  {
   "cell_type": "markdown",
   "id": "fa26f682-4b2b-4f31-ac4d-82d666878b03",
   "metadata": {},
   "source": [
    "## CEK기계의 작은걸음 함수를 하스켈로 작성하기\n",
    "CEK기계의 작은걸음 규칙을 하스켈로 옮기기 위해\n",
    "나중에 할 일(`Kont`)과 이를 구성하는 일부분인 맥락(`Ctx`)을 나타내는\n",
    "타입을 다음과 같이 선언한다."
   ]
  },
  {
   "cell_type": "code",
   "execution_count": 25,
   "id": "c340f493-c6c4-4e66-b611-9cb50e10ef63",
   "metadata": {},
   "outputs": [],
   "source": [
    "type Kont = [(Ctx,Env)] -- 나중에 할 일을 Ctx와 Env의 순서쌍 리스트로 표현\n",
    "data Ctx = Done | App1 Expr | App2 Expr  deriving (Eq,Ord)"
   ]
  },
  {
   "cell_type": "markdown",
   "id": "7e5ea014-9b36-4031-b85a-18bd33b74c4c",
   "metadata": {},
   "source": [
    "\\noindent\n",
    "위에 선언된 데이터 타입 `Ctx`는 일반적인 값계산 맥락보다 단순하다.\n",
    "일반적으로 값계산 맥락은 $e_1\\,(\\bullet\\;e_2)$와 같이 구멍을 나타내는 $\\bullet$이 두 겹 이상 안쪽으로 파고든 부분식의 위치에 나타날 수 있으므로 재귀적인 데이터 타입으로 선언해야 한다.\n",
    "하지만 CEK기계의 계산 과정에서는 이렇게 여러 겹 안쪽에 구멍이 뚫린 하나의 복잡한 값계산 맥락 대신에 이를 두 개의 단순한 맥락 $\\bullet\\;e_2$와 $e_1\\;\\bullet$로 나누어 순차적으로 적용하는 방식으로 계산이 진행된다.\n",
    "따라서 전체($\\bullet$) 또는 함수적용식의 왼쪽($\\bullet\\;e$)이나 오른쪽($e\\;\\bullet)$에 구멍이 나타나는 세 가지 단순한 맥락만을 고려하면 되므로 `Ctx`를 재귀적으로 정의할 필요가 없다."
   ]
  },
  {
   "cell_type": "code",
   "execution_count": 26,
   "id": "f1c7d02d-0c67-48e9-9377-75fd5096352e",
   "metadata": {},
   "outputs": [],
   "source": [
    "instance Show Ctx where -- LaTeX 소스코드 생성하는 Show 인스턴스 직접 선언\n",
    "  showsPrec _ Done = showString \"\\\\bullet \"\n",
    "  showsPrec p (App1 e2) = showParen (p > 9) $\n",
    "      showString \"\\\\bullet \\\\;\" . showsPrec 10 e2\n",
    "  showsPrec p (App2 e1) = showParen (p > 9) $\n",
    "      showsPrec 9 e1 . showString \"\\\\; \\\\bullet\"\n",
    "\n",
    "import IHaskell.Display (latex)\n",
    "instance IHaskellDisplay Ctx where -- 노트북에 디스플레이하는 인스턴스 선언\n",
    "    display ctx = display [latex $ \"$\"++show ctx++\"$\"]"
   ]
  },
  {
   "cell_type": "code",
   "execution_count": 27,
   "id": "3c7a0bb5-8b0e-4279-81f0-52e707a099c1",
   "metadata": {},
   "outputs": [
    {
     "data": {
      "text/latex": [
       "$\\bullet \\;(x\\;y)$"
      ]
     },
     "metadata": {},
     "output_type": "display_data"
    },
    {
     "data": {
      "text/latex": [
       "$(\\lambda x.x)\\; \\bullet$"
      ]
     },
     "metadata": {},
     "output_type": "display_data"
    }
   ],
   "source": [
    "App1 (Var \"x\" `App` Var \"y\")\n",
    "App2 (Lam \"x\" $ Var \"x\")"
   ]
  },
  {
   "cell_type": "code",
   "execution_count": 28,
   "id": "19fba53e-b04f-448f-8ef9-28c9392e9458",
   "metadata": {},
   "outputs": [],
   "source": [
    "import Data.List (intercalate)\n",
    "instance {-# OVERLAPS #-} Show Kont where\n",
    "    show k = intercalate \",\\\\,\" (map show k)\n",
    "instance {-# OVERLAPS #-} Show (Clos,Kont) where\n",
    "    show (cl,k) = show cl++\";\\\\,\"++show k\n",
    "instance {-# OVERLAPS #-} Show (Ctx,Env) where\n",
    "    show (ctx,env) = \"\\\\langle \"++show ctx++\",\"++show env++\"\\\\rangle \"\n",
    "instance {-# OVERLAPS #-} IHaskellDisplay Kont where\n",
    "    display k = display [latex $ \"$\"++show k++\"$\"]\n",
    "instance {-# OVERLAPS #-} IHaskellDisplay (Clos,Kont) where\n",
    "    display e = display [latex $ \"$\"++show e++\"$\"]\n",
    "instance {-# OVERLAPS #-} IHaskellDisplay (Ctx,Env) where\n",
    "    display e = display [latex $ \"$\"++show e++\"$\"]"
   ]
  },
  {
   "cell_type": "code",
   "execution_count": 29,
   "id": "52192cc1-c6c7-4d4b-a2de-1df5c63c2e75",
   "metadata": {},
   "outputs": [
    {
     "data": {
      "text/latex": [
       "$\\langle \\bullet ,\\{\\}\\rangle $"
      ]
     },
     "metadata": {},
     "output_type": "display_data"
    }
   ],
   "source": [
    "(Done,[]) :: (Ctx,Env) -- Kont의 마지막에서 전체 식의 계산을 끝냄을 나타낸다"
   ]
  },
  {
   "cell_type": "code",
   "execution_count": 30,
   "id": "feb499dc-799c-49af-bf72-861db61890f7",
   "metadata": {},
   "outputs": [],
   "source": [
    "k03 = [ (App1 (Var \"f\"),        env01),\n",
    "        (App2 (Lam \"x\" $ Var \"x\"), []),\n",
    "        (Done,                     []) ]\n",
    "k03 :: Kont"
   ]
  },
  {
   "cell_type": "code",
   "execution_count": 31,
   "id": "1cf8b15a-63fb-4759-bdcd-31fd76596189",
   "metadata": {},
   "outputs": [
    {
     "data": {
      "text/latex": [
       "$\\langle \\lambda y.y\\;f,\\{f{\\mapsto}\\langle \\lambda z.z,\\{\\}\\rangle \\}\\rangle ;\\,\\langle \\bullet \\;f,\\{f{\\mapsto}\\langle \\lambda z.z,\\{\\}\\rangle \\}\\rangle ,\\,\\langle (\\lambda x.x)\\; \\bullet,\\{\\}\\rangle ,\\,\\langle \\bullet ,\\{\\}\\rangle $"
      ]
     },
     "metadata": {},
     "output_type": "display_data"
    }
   ],
   "source": [
    "e03 = Lam \"y\" (Var \"y\" `App` Var \"f\")\n",
    "(Cl e03 env01, k03) :: (Clos,Kont) -- 클로저와 나머지 할 일의 순서쌍"
   ]
  },
  {
   "cell_type": "markdown",
   "id": "050427c1-30d4-46e1-b9b4-8dfa359c85df",
   "metadata": {},
   "source": [
    "$~$\\vspace*{-2.5em}\\newline\n",
    "\n",
    "지금까지 CEK기계를 하스켈로 옮기는 데 필요한 타입을 선언하고\n",
    "노트북 환경에서 CEK기계의 작은걸음 규칙에 나타난 것과 마찬가지로 출력되도록 클래스 인스턴스를 선언하였다.\n",
    "이제 인자 먼저 값계산을 따르는 CEK$_\\mathrm{v}$와 적용 먼저 값계산을 따르는 CEK$_\\mathrm{n}$의\n",
    "작은걸음 함수 `stepCEKv`와 `stepCEKn`을 작성해 보라."
   ]
  },
  {
   "cell_type": "code",
   "execution_count": 32,
   "id": "3705de15-d31c-4333-9eda-ab27d732c50d",
   "metadata": {},
   "outputs": [],
   "source": [
    "stepCEKv :: (Clos,Kont) -> [(Clos,Kont)] -- CEKv 작은걸음 함수\n",
    "stepCEKv _ = undefined -- 여러 개의 등식으로 나누어 작성해도 좋다"
   ]
  },
  {
   "cell_type": "code",
   "execution_count": 33,
   "id": "7e84f544-07e4-4d7e-8210-78ab81b38c01",
   "metadata": {},
   "outputs": [],
   "source": [
    "stepCEKn :: (Clos,Kont) -> [(Clos,Kont)] -- CEKn 작은걸음 함수\n",
    "stepCEKn _ = undefined -- 여러 개의 등식으로 나누어 작성해도 좋다"
   ]
  },
  {
   "cell_type": "raw",
   "id": "57905041-f5f6-4a7d-adf3-655c64f50379",
   "metadata": {},
   "source": [
    "\\begin{comment}"
   ]
  },
  {
   "cell_type": "code",
   "execution_count": 34,
   "id": "4df46b2e-a902-4021-94a2-29ac4eaa5f70",
   "metadata": {},
   "outputs": [],
   "source": [
    "stepCEKv :: (Clos,Kont) -> [(Clos,Kont)]\n",
    "stepCEKv (Cl (Var x)     env, k) = [(v,k) | v <- lookupEnv x env]\n",
    "stepCEKv (Cl (App e1 e2) env, k) = [(Cl e1 env, (App1 e2,env):k)]\n",
    "stepCEKv (Cl (Lam x e)  env1, (App1 e2,env):k) = [(Cl e2 env, (App2 (Lam x e), env1):k)]\n",
    "stepCEKv (v2@(Cl (Lam x2 e2) env), (App2 (Lam x e),env1):k) = [(Cl e ((x,v2):env1), k)] \n",
    "stepCEKv _                       = []\n",
    "\n",
    "stepCEKn :: (Clos,Kont) -> [(Clos,Kont)]\n",
    "stepCEKn (Cl (Var x)     env, k) = [(v,k) | v <- lookupEnv x env]\n",
    "stepCEKn (Cl (App e1 e2) env, k) = [(Cl e1 env, (App1 e2,env):k)]\n",
    "stepCEKn (Cl (Lam x e)  env1, (App1 e2,env):k) = [(Cl e ((x,Cl e2 env):env1), k)]\n",
    "stepCEKn _                       = []"
   ]
  },
  {
   "cell_type": "raw",
   "id": "9f62f253-e8d2-4f7e-b404-d664ce78c02a",
   "metadata": {},
   "source": [
    "\\end{comment}"
   ]
  },
  {
   "cell_type": "code",
   "execution_count": 35,
   "id": "78e58ddb-c8e5-49d4-9620-ba537edd687b",
   "metadata": {},
   "outputs": [
    {
     "data": {
      "text/html": [
       "<style>/* Styles used for the Hoogle display in the pager */\n",
       ".hoogle-doc {\n",
       "display: block;\n",
       "padding-bottom: 1.3em;\n",
       "padding-left: 0.4em;\n",
       "}\n",
       ".hoogle-code {\n",
       "display: block;\n",
       "font-family: monospace;\n",
       "white-space: pre;\n",
       "}\n",
       ".hoogle-text {\n",
       "display: block;\n",
       "}\n",
       ".hoogle-name {\n",
       "color: green;\n",
       "font-weight: bold;\n",
       "}\n",
       ".hoogle-head {\n",
       "font-weight: bold;\n",
       "}\n",
       ".hoogle-sub {\n",
       "display: block;\n",
       "margin-left: 0.4em;\n",
       "}\n",
       ".hoogle-package {\n",
       "font-weight: bold;\n",
       "font-style: italic;\n",
       "}\n",
       ".hoogle-module {\n",
       "font-weight: bold;\n",
       "}\n",
       ".hoogle-class {\n",
       "font-weight: bold;\n",
       "}\n",
       ".get-type {\n",
       "color: green;\n",
       "font-weight: bold;\n",
       "font-family: monospace;\n",
       "display: block;\n",
       "white-space: pre-wrap;\n",
       "}\n",
       ".show-type {\n",
       "color: green;\n",
       "font-weight: bold;\n",
       "font-family: monospace;\n",
       "margin-left: 1em;\n",
       "}\n",
       ".mono {\n",
       "font-family: monospace;\n",
       "display: block;\n",
       "}\n",
       ".err-msg {\n",
       "color: red;\n",
       "font-style: italic;\n",
       "font-family: monospace;\n",
       "white-space: pre;\n",
       "display: block;\n",
       "}\n",
       "#unshowable {\n",
       "color: red;\n",
       "font-weight: bold;\n",
       "}\n",
       ".err-msg.in.collapse {\n",
       "padding-top: 0.7em;\n",
       "}\n",
       ".highlight-code {\n",
       "white-space: pre;\n",
       "font-family: monospace;\n",
       "}\n",
       ".suggestion-warning { \n",
       "font-weight: bold;\n",
       "color: rgb(200, 130, 0);\n",
       "}\n",
       ".suggestion-error { \n",
       "font-weight: bold;\n",
       "color: red;\n",
       "}\n",
       ".suggestion-name {\n",
       "font-weight: bold;\n",
       "}\n",
       "</style><span class='get-type'>stepCEKv' :: [(Clos, Kont)] -> [(Clos, Kont)]</span>"
      ],
      "text/plain": [
       "stepCEKv' :: [(Clos, Kont)] -> [(Clos, Kont)]"
      ]
     },
     "metadata": {},
     "output_type": "display_data"
    },
    {
     "data": {
      "text/html": [
       "<style>/* Styles used for the Hoogle display in the pager */\n",
       ".hoogle-doc {\n",
       "display: block;\n",
       "padding-bottom: 1.3em;\n",
       "padding-left: 0.4em;\n",
       "}\n",
       ".hoogle-code {\n",
       "display: block;\n",
       "font-family: monospace;\n",
       "white-space: pre;\n",
       "}\n",
       ".hoogle-text {\n",
       "display: block;\n",
       "}\n",
       ".hoogle-name {\n",
       "color: green;\n",
       "font-weight: bold;\n",
       "}\n",
       ".hoogle-head {\n",
       "font-weight: bold;\n",
       "}\n",
       ".hoogle-sub {\n",
       "display: block;\n",
       "margin-left: 0.4em;\n",
       "}\n",
       ".hoogle-package {\n",
       "font-weight: bold;\n",
       "font-style: italic;\n",
       "}\n",
       ".hoogle-module {\n",
       "font-weight: bold;\n",
       "}\n",
       ".hoogle-class {\n",
       "font-weight: bold;\n",
       "}\n",
       ".get-type {\n",
       "color: green;\n",
       "font-weight: bold;\n",
       "font-family: monospace;\n",
       "display: block;\n",
       "white-space: pre-wrap;\n",
       "}\n",
       ".show-type {\n",
       "color: green;\n",
       "font-weight: bold;\n",
       "font-family: monospace;\n",
       "margin-left: 1em;\n",
       "}\n",
       ".mono {\n",
       "font-family: monospace;\n",
       "display: block;\n",
       "}\n",
       ".err-msg {\n",
       "color: red;\n",
       "font-style: italic;\n",
       "font-family: monospace;\n",
       "white-space: pre;\n",
       "display: block;\n",
       "}\n",
       "#unshowable {\n",
       "color: red;\n",
       "font-weight: bold;\n",
       "}\n",
       ".err-msg.in.collapse {\n",
       "padding-top: 0.7em;\n",
       "}\n",
       ".highlight-code {\n",
       "white-space: pre;\n",
       "font-family: monospace;\n",
       "}\n",
       ".suggestion-warning { \n",
       "font-weight: bold;\n",
       "color: rgb(200, 130, 0);\n",
       "}\n",
       ".suggestion-error { \n",
       "font-weight: bold;\n",
       "color: red;\n",
       "}\n",
       ".suggestion-name {\n",
       "font-weight: bold;\n",
       "}\n",
       "</style><span class='get-type'>stepCEKn' :: [(Clos, Kont)] -> [(Clos, Kont)]</span>"
      ],
      "text/plain": [
       "stepCEKn' :: [(Clos, Kont)] -> [(Clos, Kont)]"
      ]
     },
     "metadata": {},
     "output_type": "display_data"
    }
   ],
   "source": [
    "hat f es = concat [f e | e <-es]\n",
    "stepCEKv' = hat stepCEKv\n",
    "stepCEKn' = hat stepCEKn\n",
    ":type stepCEKv'\n",
    ":type stepCEKn'"
   ]
  },
  {
   "cell_type": "code",
   "execution_count": 36,
   "id": "87910762-bf9c-4c9b-8849-1d3a16873ada",
   "metadata": {},
   "outputs": [
    {
     "data": {
      "text/latex": [
       "$\\langle (\\lambda z.z)\\;(\\lambda y.y),\\{\\}\\rangle ;\\,\\langle \\bullet ,\\{\\}\\rangle $"
      ]
     },
     "metadata": {},
     "output_type": "display_data"
    }
   ],
   "source": [
    "e0 = Lam \"z\" (Var \"z\") `App` Lam \"y\" (Var \"y\")\n",
    "env0 = [] :: Env\n",
    "k0 = [(Done,env0)]\n",
    "(Cl e0 env0, k0)"
   ]
  },
  {
   "cell_type": "markdown",
   "id": "02eca879-78c4-4783-90ef-0b8b4cafd890",
   "metadata": {},
   "source": [
    "\\noindent\n",
    "작은걸음 함수 `stepCEKv`와 `stepCEKn`을 제대로 작성했다면\n",
    "각각의 확장된 함수 `stepCEKv'`와 `stepCEKn'`를 `e0`에 반복적으로 적용하여\n",
    "아래와 같이 서로 다른 두 값계산 전략에 따른 계산의 진행 과정을 확인해 볼 수 있을 것이다."
   ]
  },
  {
   "cell_type": "code",
   "execution_count": 37,
   "id": "d0e837eb-c661-4d58-a6a3-d6880f6d440a",
   "metadata": {
    "tags": []
   },
   "outputs": [
    {
     "data": {
      "text/latex": [
       "$\\langle (\\lambda z.z)\\;(\\lambda y.y),\\{\\}\\rangle ;\\,\\langle \\bullet ,\\{\\}\\rangle $"
      ]
     },
     "metadata": {},
     "output_type": "display_data"
    },
    {
     "data": {
      "text/latex": [
       "$\\langle \\lambda z.z,\\{\\}\\rangle ;\\,\\langle \\bullet \\;(\\lambda y.y),\\{\\}\\rangle ,\\,\\langle \\bullet ,\\{\\}\\rangle $"
      ]
     },
     "metadata": {},
     "output_type": "display_data"
    },
    {
     "data": {
      "text/latex": [
       "$\\langle \\lambda y.y,\\{\\}\\rangle ;\\,\\langle (\\lambda z.z)\\; \\bullet,\\{\\}\\rangle ,\\,\\langle \\bullet ,\\{\\}\\rangle $"
      ]
     },
     "metadata": {},
     "output_type": "display_data"
    },
    {
     "data": {
      "text/latex": [
       "$\\langle z,\\{z{\\mapsto}\\langle \\lambda y.y,\\{\\}\\rangle \\}\\rangle ;\\,\\langle \\bullet ,\\{\\}\\rangle $"
      ]
     },
     "metadata": {},
     "output_type": "display_data"
    },
    {
     "data": {
      "text/latex": [
       "$\\langle \\lambda y.y,\\{\\}\\rangle ;\\,\\langle \\bullet ,\\{\\}\\rangle $"
      ]
     },
     "metadata": {},
     "output_type": "display_data"
    },
    {
     "data": {
      "text/plain": [
       "4"
      ]
     },
     "metadata": {},
     "output_type": "display_data"
    }
   ],
   "source": [
    "takeWhile  (not . null) $ iterate stepCEKv' [(Cl e0 env0, k0)]\n",
    "length it - 1  -- 작은걸음 횟수"
   ]
  },
  {
   "cell_type": "code",
   "execution_count": 38,
   "id": "8972456c-746f-43d7-8927-cd83f2c2124a",
   "metadata": {
    "tags": []
   },
   "outputs": [
    {
     "data": {
      "text/latex": [
       "$\\langle (\\lambda z.z)\\;(\\lambda y.y),\\{\\}\\rangle ;\\,\\langle \\bullet ,\\{\\}\\rangle $"
      ]
     },
     "metadata": {},
     "output_type": "display_data"
    },
    {
     "data": {
      "text/latex": [
       "$\\langle \\lambda z.z,\\{\\}\\rangle ;\\,\\langle \\bullet \\;(\\lambda y.y),\\{\\}\\rangle ,\\,\\langle \\bullet ,\\{\\}\\rangle $"
      ]
     },
     "metadata": {},
     "output_type": "display_data"
    },
    {
     "data": {
      "text/latex": [
       "$\\langle z,\\{z{\\mapsto}\\langle \\lambda y.y,\\{\\}\\rangle \\}\\rangle ;\\,\\langle \\bullet ,\\{\\}\\rangle $"
      ]
     },
     "metadata": {},
     "output_type": "display_data"
    },
    {
     "data": {
      "text/latex": [
       "$\\langle \\lambda y.y,\\{\\}\\rangle ;\\,\\langle \\bullet ,\\{\\}\\rangle $"
      ]
     },
     "metadata": {},
     "output_type": "display_data"
    },
    {
     "data": {
      "text/plain": [
       "3"
      ]
     },
     "metadata": {},
     "output_type": "display_data"
    }
   ],
   "source": [
    "takeWhile  (not . null) $ iterate stepCEKn' [(Cl e0 env0, k0)]\n",
    "length it - 1  -- 작은걸음 횟수"
   ]
  },
  {
   "cell_type": "markdown",
   "id": "7e83eb7e-3ee1-4693-9e0d-71e26fa6ed88",
   "metadata": {},
   "source": [
    "치환 기반의 의미구조에서는 $(\\lambda z.z)(\\lambda y.y)\\longmapsto (\\lambda y.y)$로\n",
    "인자 먼저든 적용 먼저든 한 작은걸음으로 값계산 과정이 똑같다.\n",
    "그런데 CEK$_\\textrm{v}$에서 `e0`에 대한 작은걸음 횟수가 CEK$_\\textrm{n}$보다 1회 더 많은 이유는\n",
    "CEK$_\\textrm{v}$의 경우 \\textsc{Beta}$_v$전에 \\textsc{App}$_2$를 거쳐야 하기 때문이다.\n",
    "\n",
    "연습문제로, 조금 더 복잡한 다음의 식 `e01`에 마찬가지로 확장된 함수 `stepCEKv'`와 `stepCEKn'`를\n",
    "반복적으로 적용해 보고 서로 다른 두 값계산 전략에 따른 계산의 진행 과정이 어떻게\n",
    "다른지 확인해 보고 그런 차이가 나타나는 이유를 분석해 보라."
   ]
  },
  {
   "cell_type": "code",
   "execution_count": 39,
   "id": "5e99e8f9-9854-47ce-919a-f11d3be8878a",
   "metadata": {},
   "outputs": [
    {
     "data": {
      "text/latex": [
       "$\\langle (\\lambda x.x\\;x\\;x)\\;((\\lambda z.z)\\;(\\lambda y.y)),\\{\\}\\rangle ;\\,\\langle \\bullet ,\\{\\}\\rangle $"
      ]
     },
     "metadata": {},
     "output_type": "display_data"
    }
   ],
   "source": [
    "e01 = Lam \"x\" (foldl1 App $ replicate 3 (Var \"x\")) `App` e0\n",
    "(Cl e01 env0, k0)"
   ]
  },
  {
   "cell_type": "code",
   "execution_count": 40,
   "id": "8a9fec12-4dee-4913-983d-df5c99fabd59",
   "metadata": {},
   "outputs": [],
   "source": [
    "-- takeWhile  (not . null) $ iterate stepCEKv' [(Cl e01 env0, k0)]\n",
    "-- length it - 1  -- 작은걸음 횟수"
   ]
  },
  {
   "cell_type": "code",
   "execution_count": 41,
   "id": "a8d1b754-ab50-4aa6-9ced-1030edf73218",
   "metadata": {},
   "outputs": [],
   "source": [
    "-- takeWhile  (not . null) $ iterate stepCEKn' [(Cl e01 env0, k0)]\n",
    "-- length it - 1  -- 작은걸음 횟수 "
   ]
  },
  {
   "cell_type": "markdown",
   "id": "6f6aacaa-de9d-4aaf-ad5e-3304f4ae2aa3",
   "metadata": {},
   "source": [
    "## CESK기계와 필요한 만큼 값계산(call-by-need evaulation) \n",
    "지금까지 살펴본 바와 같이 값계산 환경을 활용하면 계산 과정에서 불필요한 부분의\n",
    "변수 이름까지 치환하는 낭비가 없어진다. 하지만, 환경 기반의 의미구조라고 해서\n",
    "필요한 부분에 같은 계산이 여러 번 중복되는 낭비까지 자동으로 없어지지는 않는다.\n",
    "특히 인자 계산보다 함수 적용을 우선하는 적용 먼저(call-by-name) 값계산에서 중복된 계산이 발생할 여지가 많다.\n",
    "간단한 예시를 통해 어떤 경우에 중복된 계산이 발생할 수 있는지 확인하고\n",
    "그런 중복된 계산을 줄일 수 있는 방법에 대해서도 생각해 보자."
   ]
  },
  {
   "cell_type": "markdown",
   "id": "4c3039d1-b2f8-46cb-80df-1a2623f597f8",
   "metadata": {},
   "source": [
    "이 장에서는 순수한 람다식에 대한 의미구조를 다루고 있지만 설명의 편의를 위해 덧셈식도 있다고 가정하고\n",
    "다음과 같은 클로저에 대한 계산을 살펴보자.\\vspace*{-1.25em}\n",
    "\\begingroup\n",
    "\\addtolength{\\jot}{-.5ex}\n",
    "\\begin{align*}\n",
    "\\langle x_1+x_1,\\{x_1{\\mapsto}\\langle 1+1+1,\\rho\\rangle\\}\\rangle;\\,\\kappa\n",
    "\\longmapsto \\cdots \\longmapsto\\;& \\langle 1+1+1,\\;\\ldots\\rangle;\\,\\langle \\bullet+x_1,\\,\\ldots\\rangle,\\kappa \\\\\n",
    "\\longmapsto~\\cdots~\\cdots~\\longmapsto\\;& \\langle 3,\\;\\ldots\\rangle;\\,\\langle \\bullet+x_1,\\,\\ldots\\rangle,\\kappa \\\\\n",
    "\\longmapsto \\cdots \\longmapsto \\langle x_1,\\;\\ldots\\rangle;\\,\\langle 3+\\bullet,\\,\\ldots\\rangle,\\kappa\n",
    "\\longmapsto\\;& \\langle 1+1+1,\\;\\ldots\\rangle;\\,\\langle 3+\\bullet,\\,\\ldots\\rangle,\\kappa \\\\\n",
    "\\longmapsto~\\cdots~\\cdots~\\longmapsto\\;& \\langle 3+3,\\;\\ldots\\rangle;\\,\\kappa\n",
    "\\;\\longmapsto\\; \\langle 6,\\;\\ldots\\rangle;\\,\\kappa\n",
    "\\\\[-2.5em]\n",
    "\\end{align*}\n",
    "\\endgroup\n",
    "위 계산 과정에서는 산술식 $1+1+1$을 정수값 $3$으로 두 번 중복해서 계산한다.\n",
    "이런 중복된 계산을 피하기 위한 한 가지 개선 방법은 환경에서 $x_1$을 참조하여\n",
    "계산한 결과를 환경에 반영하여 이후로는 $x_1$을\n",
    "$\\langle 1+1+1,\\rho\\rangle$대신 $\\langle 3,\\rho\\rangle$에 대응시킨\n",
    "환경을 활용하도록 대략 아래와 같은 방식으로 계산을 진행하는 것이다.\\vspace*{-1.25em}\n",
    "\\begingroup\n",
    "\\addtolength{\\jot}{-.5ex}\n",
    "\\begin{align*}\n",
    "\\langle x_1+x_1,\\{x_1{\\mapsto}\\langle 1+1+1,\\rho\\rangle\\}\\rangle;\\,\\kappa\n",
    "\\longmapsto \\cdots \\longmapsto\\;& \\langle 1+1+1,\\;\\ldots\\rangle;\\,\\langle \\bullet+x_1,\\,\\ldots\\rangle,\\kappa \\\\\n",
    "\\longmapsto~\\cdots~\\cdots~\\longmapsto\\;& \\langle 3,\\{x_1{\\mapsto}\\langle 3,\\rho\\rangle\\}\\rangle;\\,\\langle \\bullet+x_1,\\,\\ldots\\rangle,\\kappa \\\\\n",
    "\\longmapsto \\cdots \\longmapsto \\langle x_1,\\;\\ldots\\rangle;\\,\\langle 3+\\bullet,\\,\\ldots\\rangle,\\kappa\n",
    "\\longmapsto\\;& \\langle 3,\\;\\ldots\\rangle;\\,\\langle 3+\\bullet,\\,\\ldots\\rangle,\\kappa \\\\\n",
    "\\longmapsto\\;& \\langle 3+3,\\;\\ldots\\rangle;\\,\\kappa\n",
    "\\;\\longmapsto\\; \\langle 6,\\;\\ldots\\rangle;\\,\\kappa\n",
    "\\\\[-2.5em]\n",
    "\\end{align*}\n",
    "\\endgroup"
   ]
  },
  {
   "cell_type": "markdown",
   "id": "309066bf-128d-4e64-bfd9-69017b8c8cca",
   "metadata": {},
   "source": [
    "지금까지 같은 변수 이름을 여러 번 참조하는 경우의 중복된 계산을 줄이는 방법에 대해 알아보았다.\n",
    "그런데 이런 방법만으로는 아래와 같이 서로 다른 이름으로 같은 내용을 참조하는 경우에 중복되는 계산을 피하지 못한다.\n",
    "왜냐하면 $x_1$을 참조한 $1+1+1$를 $3$으로 계산한 결과를 환경에 반영한다 하더라도\n",
    "여전히 $x_2$는 $3$이 아닌 $1+1+1$을 참조하여 대략 아래와 같은 과정으로 값계산이 전개될 것이기 때문이다.\\vspace*{-1.5ex}\n",
    "\\begingroup\n",
    "\\begin{align*}\n",
    "& \\langle x_1+x_2,\\{x_1{\\mapsto}\\langle 1+1+1,\\rho\\rangle,x_2{\\mapsto}\\langle 1+1+1,\\rho\\rangle\\}\\rangle;\\,\\kappa\n",
    "\\\\ \\longmapsto~ &\n",
    "\\langle x_1,\\{x_1{\\mapsto}\\langle 1+1+1,\\rho\\rangle,x_2{\\mapsto}\\langle 1+1+1,\\rho\\rangle\\}\\rangle;\\,\\langle\\bullet+x_2,\\ldots\\rangle,\\kappa\n",
    "\\\\ \\longmapsto~ &\n",
    "\\langle 1+1+1,\\{x_1{\\mapsto}\\langle 1+1+1,\\rho\\rangle,x_2{\\mapsto}\\langle 1+1+1,\\rho\\rangle\\}\\rangle;\\,\\langle\\bullet+x_2,\\ldots\\rangle,\\kappa\n",
    "\\\\ \\longmapsto\\cdots\\longmapsto~&\n",
    "\\langle 3+x_2,\\{x_1{\\mapsto}\\langle 3,\\rho\\rangle,x_2{\\mapsto}\\langle 1+1+1,\\rho\\rangle\\}\\rangle;\\,\\kappa\n",
    "\\\\ \\longmapsto~&\n",
    "\\langle x_2,\\{x_1{\\mapsto}\\langle 3,\\rho\\rangle,x_2{\\mapsto}\\langle 1+1+1,\\rho\\rangle\\}\\rangle;\\,\\langle 3+\\bullet,\\,\\ldots\\rangle,\\kappa\n",
    "\\\\ \\longmapsto~&\n",
    "\\langle 1+1+1,\\{x_1{\\mapsto}\\langle 3,\\rho\\rangle,x_2{\\mapsto}\\langle 1+1+1,\\rho\\rangle\\}\\rangle;\\,\\langle 3+\\bullet,\\,\\ldots\\rangle,\\kappa\n",
    "\\\\ \\longmapsto\\cdots\\longmapsto~&\n",
    "\\langle 3+3,\\{x_1{\\mapsto}\\langle 3,\\rho\\rangle,x_2{\\mapsto}\\langle 3,\\rho\\rangle\\}\\rangle;\\,\\kappa\n",
    "~\\longmapsto~\n",
    "\\langle 6,\\;\\ldots\\rangle;\\,\\kappa\n",
    "\\\\[-1.5em]\n",
    "\\end{align*}\n",
    "\\endgroup"
   ]
  },
  {
   "cell_type": "markdown",
   "id": "0d08e431-1f4a-4d70-a3b2-05ee173dc90c",
   "metadata": {},
   "source": [
    "CEK기계에 주소로 접근할 수 있는 \\underline{저장공간(Store)}이 추가된 CESK기계\\cite{Felleisen87CESK}는\n",
    "서로 다른 이름의 변수가 같은 내용을 공유한다는 개념이 표현 가능하다. 따라서,\n",
    "$x_1$과 $x_2$에 대응되는 클로저를 저장공간에서 같은 주소($\\ell_1$)를 통해 공유함으로써\n",
    "방금 살펴본 값계산 과정에서 중복된 계산을 아래와 같이 피할 수 있다.\\vspace*{-1.5ex}\n",
    "\\begingroup\n",
    "\\begin{align*}\n",
    "& \\langle x_1+x_2,\\{x_1{\\mapsto}\\ell_1,x_2{\\mapsto}\\ell_1\\}\\rangle;\\,\n",
    "\\underline{\\{\\ell_1{\\mapsto}\\langle 1+1+1,\\rho\\rangle\\}};\\,\\kappa\n",
    "\\\\ \\longmapsto~ &\n",
    "\\langle x_1,\\{x_1{\\mapsto}\\ell_1,x_2{\\mapsto}\\ell_1\\}\\rangle;\\,\n",
    "\\underline{\\{\\ell_1{\\mapsto}\\langle 1+1+1,\\rho\\rangle\\}};\\,\\langle\\bullet+x_2,\\ldots\\rangle,\\kappa\n",
    "\\\\ \\longmapsto~ &\n",
    "\\langle 1+1+1,\\{x_1{\\mapsto}\\ell_1,x_2{\\mapsto}\\ell_1\\}\\rangle;\\,\n",
    "\\underline{\\{\\ell_1{\\mapsto}\\langle 1+1+1,\\rho\\rangle\\}};\\,\\langle\\bullet+x_2,\\ldots\\rangle,\\kappa\n",
    "\\\\ \\longmapsto\\cdots\\longmapsto~&\n",
    "\\langle 3+x_2,\\{x_1{\\mapsto}\\ell_1,x_2{\\mapsto}\\ell_1\\}\\rangle;\\,\n",
    "\\underline{\\{\\ell_1{\\mapsto}\\langle 3,\\rho\\rangle\\}};\\,\\kappa\n",
    "\\\\ \\longmapsto~&\n",
    "\\langle x_2,\\{x_1{\\mapsto}\\ell_1,x_2{\\mapsto}\\ell_1\\}\\rangle;\\,\n",
    "\\underline{\\{\\ell_1{\\mapsto}\\langle 3,\\rho\\rangle\\}};\\,\\langle 3+\\bullet,\\,\\ldots\\rangle,\\kappa\n",
    "\\\\ \\longmapsto~&\n",
    "\\langle 3,\\{x_1{\\mapsto}\\ell_1,x_2{\\mapsto}\\ell_1\\}\\rangle;\\,\n",
    "\\underline{\\{\\ell_1{\\mapsto}\\langle 3,\\rho\\rangle\\}};\\,\\langle 3+\\bullet,\\,\\ldots\\rangle,\\kappa\n",
    "\\\\ \\longmapsto~&\n",
    "\\langle 3+3,\\{x_1{\\mapsto}\\ell_1,x_2{\\mapsto}\\ell_1\\}\\rangle;\\,\n",
    "\\underline{\\{\\ell_1{\\mapsto}\\langle 3,\\rho\\rangle\\}};\\,\\kappa\n",
    "\\,\\longmapsto\\,\n",
    "\\langle 6,\\;\\ldots\\rangle;\\,\\underline{\\cdots};\\,\\kappa\n",
    "\\\\[-1.5em]\n",
    "\\end{align*}\n",
    "\\endgroup"
   ]
  },
  {
   "cell_type": "markdown",
   "id": "51ce8647-7170-4ef3-ad82-8baffb5d15cb",
   "metadata": {},
   "source": [
    "CEK와 CESK기계의 차이점을 간략히 정리하면 그림 \\ref{fig:CEKvsCESK}과 같다.\n",
    "CEK기계에서는 환경($\\rho\\in\\texttt{Env}$)으로부터 변수의 이름($x$)에 대응되는 클로저를\n",
    "$\\rho(x)$와 같이 참조한다. 한편, CESK기계에서는 환경($\\rho\\in\\texttt{Env\\textquotesingle}$)으로부터\n",
    "변수의 이름($x$)에 대응되는 클로저의 주소를 $\\rho(x)$로 참조하여\n",
    "저장공간($\\sigma\\in\\texttt{Store}$)으로부터 해당 주소의 클로저를 $\\sigma(\\rho(x))$와 같이 참조한다."
   ]
  },
  {
   "cell_type": "raw",
   "id": "71c0f086-4d34-49c6-8f91-d8601c6a9ea1",
   "metadata": {},
   "source": [
    "\\begin{figure}"
   ]
  },
  {
   "cell_type": "markdown",
   "id": "7526ac59-824a-4ba5-a318-5f7138f335dd",
   "metadata": {},
   "source": [
    "\\begin{align*}\n",
    "\\text{CEK기계}~&\\text{\\fbox{$\\langle e,\\rho\\rangle;\\,\\kappa \\longmapsto \\langle e',\\rho'\\rangle;\\,\\kappa'$}} &\n",
    "\\text{CESK기계}&~\\text{\\fbox{$\\langle e,\\rho\\rangle;\\,\\sigma;\\,\\kappa \\longmapsto \\langle e',\\rho'\\rangle;\\,\\sigma';\\,\\kappa'$}}\n",
    "\\\\\n",
    "\\cdot\\longmapsto\\cdot \\,\\subset\\,&\\;\n",
    "((\\texttt{Expr}\\!\\times\\!\\texttt{Env})\\times\\texttt{Kont})^2 &\n",
    "\\cdot\\longmapsto\\cdot \\,\\subset\\,&\\;\n",
    "((\\texttt{Expr}\\!\\times\\!\\texttt{Env\\textquotesingle})\\times\\texttt{Store}\\times\\texttt{Kont\\textquotesingle})^2\n",
    "\\\\\n",
    "\\rho\\in~\\texttt{Env} \\;&=\\; \\texttt{Nm} \\xrightharpoonup{\\,_\\textrm{fin}\\,} \\texttt{Expr}\\times\\texttt{Env} &\n",
    "\\rho\\in~\\texttt{Env\\textquotesingle} &\\,=\\; \\texttt{Nm} \\xrightharpoonup{\\,_\\textrm{fin}\\,} \\texttt{Addr}\n",
    "\\\\ & &\n",
    "\\sigma\\in\\texttt{Store} &\\,=\\; \\texttt{Addr} \\xrightharpoonup{\\,_\\textrm{fin}\\,} \\texttt{Expr}\\times\\texttt{Env\\textquotesingle}\n",
    "\\end{align*}"
   ]
  },
  {
   "cell_type": "raw",
   "id": "f1558287-9bc3-41bb-b4bc-f668319e1cf0",
   "metadata": {},
   "source": [
    "\\vspace*{-1.5em}\n",
    "\\caption{CEK기계와 CESK기계의 차이점 \\label{fig:CEKvsCESK}}\n",
    "\\end{figure}"
   ]
  },
  {
   "cell_type": "markdown",
   "id": "00efa958-01b1-4956-a946-c3c14b62c6fd",
   "metadata": {},
   "source": [
    "$~$\n",
    "\n",
    "CEK$_\\textrm{v}$에 대응되는 인자 먼저 값계산 CESK기계(CESK$_\\mathrm{v}$)의 작은걸음 규칙은\n",
    "\\vspace*{-1em}\n",
    "\\begingroup\n",
    "\\addtolength{\\jot}{-.2ex}\n",
    "\\begin{align*}\n",
    "\\langle x,\\rho\\rangle;\\sigma;\\kappa\n",
    "        &\\longmapsto\n",
    "\\sigma(\\rho(x));\\sigma;\\kappa \n",
    "& \\text{(\\textsc{Var})}\n",
    "\\\\\n",
    "\\langle e_1~e_2,\\rho\\rangle;\\sigma;\\kappa\n",
    "        &\\longmapsto\n",
    "\\langle e_1,\\rho\\rangle;\\sigma;\\langle \\bullet~e_2,\\rho\\rangle,\\kappa\n",
    "& \\text{(\\textsc{App}$_1$)}\n",
    "\\\\\n",
    "\\langle \\lambda x.e,\\rho_1\\rangle;\\sigma;\\langle \\bullet~e_2,\\rho\\rangle,\\kappa\n",
    "        &\\longmapsto\n",
    "\\langle e_2,\\rho\\rangle;\\sigma;\\langle(\\lambda x.e)\\,\\bullet,\\rho_1\\rangle,\\kappa\n",
    "& \\text{(\\textsc{App}$_2$)}\n",
    "\\\\\n",
    "v_2;\\sigma;\\langle(\\lambda x.e)\\,\\bullet,\\rho_1\\rangle,\\kappa\n",
    "        &\\longmapsto\n",
    "\\langle e,\\{x{\\mapsto}\\ell\\}\\rho_1\\rangle;\\{\\ell{\\mapsto}v_2\\}\\sigma;\\kappa\n",
    "& {\\scriptstyle\\left(\\,\\ell\\,\\notin\\,\\mathrm{dom}(\\sigma)\\,\\right)}\\,\\text{(\\textsc{Beta}$_\\mathrm{v}$)}\n",
    "\\\\[-2.5em]\n",
    "\\end{align*}\n",
    "\\endgroup\n",
    "위와 같으며, CEK$_\\textrm{n}$에 대응되는 적용 먼저 값계산 CESK기계(CESK$_\\mathrm{n}$)의 규칙은 아래와 같다.\n",
    "\\vspace*{-2.5em}\n",
    "\\begingroup\n",
    "\\addtolength{\\jot}{-.2ex}\n",
    "\\begin{align*}\n",
    "\\langle x,\\rho\\rangle;\\sigma;\\kappa\n",
    "        &\\longmapsto\n",
    "\\sigma(\\rho(x));\\sigma;\\kappa \n",
    "& \\text{(\\textsc{Var})}\n",
    "\\\\\n",
    "\\langle e_1~e_2,\\rho\\rangle;\\sigma;\\kappa\n",
    "        &\\longmapsto\n",
    "\\langle e_1,\\rho\\rangle;\\sigma;\\langle \\bullet~e_2,\\rho\\rangle,\\kappa\n",
    "& \\text{(\\textsc{App}$_1$)}\n",
    "\\\\\n",
    "\\langle \\lambda x.e,\\rho_1\\rangle;\\sigma;\\langle\\bullet~e_2,\\rho\\rangle,\\kappa\n",
    "        &\\longmapsto\n",
    "\\langle e,\\{x{\\mapsto}\\ell\\}\\rho_1\\rangle;\\{\\ell{\\mapsto}\\langle e_2,\\rho\\rangle\\}\\sigma;\\kappa\n",
    "& \\text{(\\textsc{Beta}$_\\mathrm{n}$)} \\\\[-1.5ex]\n",
    "&\n",
    "& \\!\\!\\!\\!\\!\n",
    "{\\scriptstyle\\left(\\,\\ell\\,\\notin\\,\\mathrm{dom}(\\sigma)\\,\\right)}\n",
    "\\!\\!\\!\\!\\phantom{\\text{(\\textsc{Beta}$_\\mathrm{n}$)}}\n",
    "\\\\[-3em]\n",
    "\\end{align*}\n",
    "\\endgroup"
   ]
  },
  {
   "cell_type": "markdown",
   "id": "9e3ab9c9-b1a4-489a-ade5-08fc20585d17",
   "metadata": {},
   "source": [
    "변수 이름에 계산이 끝나지 않은 클로저가 대응될 수도 있는 CESK$_\\mathrm{n}$에서는\n",
    "같은 이름으로 여러 번 혹은 다른 이름들로 똑같은 주소에 있는 클로저를\n",
    "참조하는 경우에 중복된 계산을 하게 된다. 이렇게 중복된 계산을 유발하는\n",
    "\\textsc{Var}규칙을 다음의 두 규칙 \\textsc{Var}$_1$과 \\textsc{Update}로 대체하면,\n",
    "\\textsc{Var}$_1$규칙으로 참조한 계산 결과를 \\textsc{Update}규칙으로 공유하여\n",
    "그 이후의 계산 과정에서 같은 주소를 참조하는 이름에 대한 중복된 계산을 피할 수 있다.\n",
    "\\vspace*{-1em}\n",
    "\\begingroup\n",
    "\\addtolength{\\jot}{-.2ex}\n",
    "\\begin{align*}\n",
    "\\langle x,\\rho\\rangle;\\,\\sigma;\\,\\kappa\n",
    "        &\\longmapsto\n",
    "\\sigma(\\rho(x));\\,\\sigma;\\,\\rho(x){\\mapsto}\\bullet,\\kappa \n",
    "& \\text{(\\textsc{Var}$_1$)}\n",
    "\\\\\n",
    "v;\\,\\sigma;\\,\\ell{\\mapsto}\\bullet,\\kappa\n",
    "        &\\longmapsto\n",
    "v;\\,\\{\\ell{\\mapsto}\\bullet\\}\\sigma;\\,\\kappa\n",
    "& \\text{(\\textsc{Update})}\n",
    "\\\\[-2.5em]\n",
    "\\end{align*}\n",
    "\\endgroup\n",
    "여기서 주목할 점은 기존의 값계산 맥락을 포함하는 나중에 할 일 구성 요소 이외에,\n",
    "지금 집중하고 있는 계산이 끝난 결과값을 저장공간의 특정 주소에 반영하라는 의미의,\n",
    "$\\ell{\\mapsto}\\bullet$ 형태의 새로운 구성 요소가\n",
    "위의 두 규칙 \\textsc{Var}$_1$과 \\textsc{Update}의 나중에 할 일 목록에 나타난다는 것이다.\n",
    "\n",
    "정리하면, CESK$_\\mathrm{n}$에서 \\textsc{Var}규칙을 제외하고 위의 두 규칙으로 대체한\n",
    "총 네 개의 작은걸음 규칙(\\textsc{Var}$_1$, \\textsc{Update}, \\textsc{App}$_1$, \\textsc{Beta}$_\\mathrm{n}$)으로\n",
    "규정되는 것이 바로 필요한 만큼 값계산 CESK기계(CESK$_z$)이다. 필요한 만큼 값계산(call-by-need evaluation)을\n",
    "게으른(혹은 느긋한) 값계산(lazy evaluation) 이라고도 부르며 이는 인자 먼저 값계산(call-by-value evaluation)과\n",
    "동의어인 적극적 값계산(eager evaluation)과 상대되는 용어이다. 그러니까 인자 먼저(call-by-value) 및 적용 먼저(call-by-name) 값계산과 함께 언급할 때는 필요한 만큼(call-by-need) 값계산이라고 부르며, 적극적(eager) 값계산과 함께 언급할 때는 게으른(lazy) 값계산이라고 부른다."
   ]
  },
  {
   "cell_type": "markdown",
   "id": "87682c5f-970c-4e79-b50a-4363fa601027",
   "metadata": {},
   "source": [
    "TODO CESK$_z$ 하스켈로 옮겨보면 ... TODO"
   ]
  },
  {
   "cell_type": "code",
   "execution_count": 42,
   "id": "aa11dcc7-e86a-4240-8bbc-0e5da368aaab",
   "metadata": {},
   "outputs": [],
   "source": [
    "type Addr = Int\n",
    "type Env' = [(Nm,Addr)]\n",
    "data Clos' = Cl' Expr Env' deriving (Eq,Ord)"
   ]
  },
  {
   "cell_type": "code",
   "execution_count": 43,
   "id": "2b97c6ac-300b-4501-8721-f8d377e25b3b",
   "metadata": {},
   "outputs": [],
   "source": [
    "import qualified Data.HashMap.Strict as M -- M.funcName으로 활용\n",
    "import Data.HashMap.Strict (HashMap, (!), (!?)) -- 앞에 M. 없이\n",
    "type Store = HashMap Int Clos'"
   ]
  },
  {
   "cell_type": "code",
   "execution_count": 44,
   "id": "9fe82d52-6252-447d-9116-37d1b6ffd177",
   "metadata": {},
   "outputs": [],
   "source": [
    "import Data.List (intercalate)\n",
    "instance {-# OVERLAPS #-} Show Env' where\n",
    "  show env = \"\\\\{\"++ intercalate \",\\\\,\" (map show env) ++\"\\\\}\"\n",
    "instance {-# OVERLAPS #-} Show (Nm,Addr) where\n",
    "  show (x,l) = x++\"{\\\\mapsto}\"++show l\n",
    "instance Show Clos' where\n",
    "  show (Cl' e env) = \"\\\\langle \"++show e++\",\"++show env++\"\\\\rangle \"\n",
    "instance {-# OVERLAPS #-} Show (Addr,Clos') where\n",
    "  show (l,cl) = show l++\"{\\\\mapsto}\"++show cl\n",
    "instance {-# OVERLAPS #-} Show Store where\n",
    "  show s = \"\\\\{\"++ intercalate \",\\\\,\" (map show $ M.toList s) ++\"\\\\}\"\n",
    "\n",
    "instance {-# OVERLAPS #-} IHaskellDisplay Env where\n",
    "  display e = display [latex $ \"$\"++show e++\"$\"]\n",
    "instance {-# OVERLAPS #-} IHaskellDisplay (Nm,Addr) where\n",
    "  display e = display [latex $ \"$\"++show e++\"$\"]\n",
    "instance IHaskellDisplay Clos' where\n",
    "  display e = display [latex $ \"$\"++show e++\"$\"]\n",
    "instance {-# OVERLAPS #-} IHaskellDisplay (Addr,Clos') where\n",
    "  display e = display [latex $ \"$\"++show e++\"$\"]\n",
    "instance {-# OVERLAPS #-} IHaskellDisplay Store where\n",
    "  display e = display [latex $ \"$\"++show e++\"$\"]"
   ]
  },
  {
   "cell_type": "code",
   "execution_count": 45,
   "id": "bacc4c97-b834-43ce-b27c-b04b72548e18",
   "metadata": {},
   "outputs": [
    {
     "data": {
      "text/latex": [
       "$\\{\\}$"
      ]
     },
     "metadata": {},
     "output_type": "display_data"
    },
    {
     "data": {
      "text/latex": [
       "$\\{1{\\mapsto}\\langle \\lambda x.x,\\{\\}\\rangle \\}$"
      ]
     },
     "metadata": {},
     "output_type": "display_data"
    },
    {
     "data": {
      "text/latex": [
       "$\\{1{\\mapsto}\\langle \\lambda x.x,\\{\\}\\rangle ,\\,2{\\mapsto}\\langle \\lambda z.z,\\{\\}\\rangle \\}$"
      ]
     },
     "metadata": {},
     "output_type": "display_data"
    },
    {
     "data": {
      "text/latex": [
       "$\\{1{\\mapsto}\\langle \\lambda y.y,\\{\\}\\rangle ,\\,2{\\mapsto}\\langle \\lambda z.z,\\{\\}\\rangle \\}$"
      ]
     },
     "metadata": {},
     "output_type": "display_data"
    }
   ],
   "source": [
    "sigma00 = M.empty :: Store\n",
    "sigma01 = M.insert 1 (Cl' (Lam \"x\" $ Var \"x\") []) sigma00 :: Store\n",
    "sigma02 = M.insert 2 (Cl' (Lam \"z\" $ Var \"z\") []) sigma01 :: Store\n",
    "sigma03 = M.insert 1 (Cl' (Lam \"y\" $ Var \"y\") []) sigma02 :: Store\n",
    "\n",
    "sigma00\n",
    "sigma01\n",
    "sigma02\n",
    "sigma03"
   ]
  },
  {
   "cell_type": "code",
   "execution_count": 46,
   "id": "3041ecc7-c843-484b-b868-c936bba627b9",
   "metadata": {},
   "outputs": [
    {
     "data": {
      "text/latex": [
       "$\\langle \\lambda z.z,\\{\\}\\rangle $"
      ]
     },
     "metadata": {},
     "output_type": "display_data"
    },
    {
     "ename": "",
     "evalue": "",
     "output_type": "error",
     "traceback": [
      "Data.HashMap.Internal.(!): key not found\nCallStack (from HasCallStack):\n  error, called at ./Data/HashMap/Internal.hs:756:16 in unordered-containers-0.2.16.0-EMrI0SeLsJ94BixPwZpYrq:Data.HashMap.Internal\n  !, called at <interactive>:1:12 in interactive:Ghci1245"
     ]
    }
   ],
   "source": [
    "sigma02 ! 2 -- 키에 대응되는 내용을 찾아줌\n",
    "sigma01 ! 2 -- 키가 없는 경우는 에러 발생"
   ]
  },
  {
   "cell_type": "code",
   "execution_count": 47,
   "id": "33d7615b-8665-4138-96f9-93bec35ea43c",
   "metadata": {},
   "outputs": [
    {
     "data": {
      "text/plain": [
       "Just \\langle \\lambda z.z,\\{\\}\\rangle"
      ]
     },
     "metadata": {},
     "output_type": "display_data"
    },
    {
     "data": {
      "text/plain": [
       "Nothing"
      ]
     },
     "metadata": {},
     "output_type": "display_data"
    }
   ],
   "source": [
    "sigma02 !? 2 -- Maybe Clos' 디스플레이 인스턴스 선언되지 않아\n",
    "sigma01 !? 2 -- 그냥 텍스트 형태로 출력됨"
   ]
  },
  {
   "cell_type": "code",
   "execution_count": 48,
   "id": "50eeabb6-ccc8-4fe5-9754-b8d944162abf",
   "metadata": {},
   "outputs": [],
   "source": [
    "type Kont' = [Either Addr (Ctx,Env')]"
   ]
  },
  {
   "cell_type": "code",
   "execution_count": 49,
   "id": "e3e6adaf-3540-4bf7-b0d0-db7ea731708f",
   "metadata": {},
   "outputs": [],
   "source": [
    "import Data.List (intercalate)\n",
    "instance {-# OVERLAPS #-} Show Kont' where\n",
    "    show k = intercalate \",\\\\,\" (map showEither k)\n",
    "           where showEither (Left l)  = show l++\"{\\\\mapsto}\\\\bullet \"\n",
    "                 showEither (Right r) = show r\n",
    "instance {-# OVERLAPS #-} Show (Clos',Store,Kont') where\n",
    "    show (cl,s,k) = show cl++\";\\\\,\"++show s++\";\\\\,\"++show k\n",
    "instance {-# OVERLAPS #-} Show (Ctx,Env') where\n",
    "    show (ctx,env) = \"\\\\langle \"++show ctx++\",\"++show env++\"\\\\rangle \"\n",
    "instance {-# OVERLAPS #-} IHaskellDisplay Kont' where\n",
    "    display k = display [latex $ \"$\"++show k++\"$\"]\n",
    "instance {-# OVERLAPS #-} IHaskellDisplay (Clos',Store,Kont') where\n",
    "    display e = display [latex $ \"$\"++show e++\"$\"]\n",
    "instance {-# OVERLAPS #-} IHaskellDisplay (Ctx,Env') where\n",
    "    display e = display [latex $ \"$\"++show e++\"$\"]"
   ]
  },
  {
   "cell_type": "code",
   "execution_count": 50,
   "id": "b5fb678a-884c-41aa-a244-fb36a7cd03f4",
   "metadata": {},
   "outputs": [
    {
     "data": {
      "text/latex": [
       "$1{\\mapsto}\\bullet ,\\,\\langle \\bullet ,\\{\\}\\rangle $"
      ]
     },
     "metadata": {},
     "output_type": "display_data"
    }
   ],
   "source": [
    "[ Left 1, Right (Done,[]) ] :: Kont'"
   ]
  },
  {
   "cell_type": "code",
   "execution_count": 51,
   "id": "4ff32926-973e-44d1-a67e-13dff386a3d0",
   "metadata": {},
   "outputs": [
    {
     "data": {
      "text/latex": [
       "$\\langle y,\\{y{\\mapsto}1\\}\\rangle ;\\,\\{1{\\mapsto}\\langle \\lambda x.x,\\{\\}\\rangle ,\\,2{\\mapsto}\\langle \\lambda z.z,\\{\\}\\rangle \\};\\,1{\\mapsto}\\bullet ,\\,\\langle \\bullet ,\\{\\}\\rangle $"
      ]
     },
     "metadata": {},
     "output_type": "display_data"
    }
   ],
   "source": [
    "( Cl' (Var \"y\") [(\"y\",1)], sigma02, [Left 1, Right (Done,[])] )\n",
    "  :: (Clos',Store,Kont')"
   ]
  },
  {
   "cell_type": "code",
   "execution_count": 52,
   "id": "5888dfe8-2c85-44f7-b8bd-7adebba4a8cb",
   "metadata": {},
   "outputs": [],
   "source": [
    "stepCESKz :: (Clos',Store,Kont') -> [(Clos',Store,Kont')]\n",
    "stepCESKz _ = undefined"
   ]
  },
  {
   "cell_type": "markdown",
   "id": "15925759-09e9-46a2-b096-a81fc74cdd48",
   "metadata": {},
   "source": [
    "\\section*{요점정리}\n",
    "* 타입없는 람다계산법의 비결정적 줄임(reduction)을 나타내는 맥락적 의미구조에\n",
    "  나타나는 값계산 맥락 및 작은걸음 규칙에 제약을 가하여 인자 먼저(call-by-value) 및\n",
    "  적용 먼저(call-by-name) 값계산(evaluation)의 의미구조를 규정할 수 있다.\n",
    "* 람다계산법에 대한 치환 기반의 의미구조는 계산 결과에 활용되지 않는 불필요한 위치의 변수까지도\n",
    "  모두 치환해야 하므로 프로그래밍언어의 효율적인 구현에는 적합하지 않다.\n",
    "* 함수 몸체에 나타나는 변수를 실제로 치환하는 대신에 치환 기반의 의미구조에서 계산이 진행되며\n",
    "  치환되었어야 할 목록을 차곡차곡 모아 놓은 내용을 \\'값계산 환경\\'(evaluation environment)으로\n",
    "  구성하여 계산이 진행되며 필요한 위치의 변수만을 값계산 환경에서 참조하는 방식의 의미구조를 정의할 수 있다.\n",
    "* 값계산 환경 기반의 큰걸음 의미구조를 프로그램으로 옮겨 작성한 소프트웨어를 프로그래밍언어의 인터프리터로 볼 수 있다.\n",
    "* 값계산 환경 기반의 큰걸음 의미구조에 직접적으로 대응되는 작은걸음 의미구조에 해당하는 것이 바로\n",
    "  CEK기계다.\n",
    "* CEK기계의 구성 요소는 코드(Code, 즉 람다식), 환경(Envionment), 나중에 할 일(독일어: Kontinuation, 영어: continuation)이다.\n",
    "  코드와 환경의 순서쌍이 곧 클로저이므로 CEK기계는 클로저와 나중에 할 일로 구성된다고도 할 수 있다.\n",
    "* CEK기계에서 \\`나중에 할 일\\'은 값계산 맥락(evaluation context)과 환경(environment)의 순서쌍들이 차례로 나열된 구조이다.\n",
    "  이렇게 나중에 할 일을 목록으로 만들어 남겨두고 전체 식의 계산에서 지금 집중해서 계산할 부분식의 계산을 한걸음씩 작은걸음으로 진행하는 방식으로 CEK기계가 동작한다.\n",
    "* 필요한 만큼만 값계산(call-by-need evaluation)은 적용 먼저 값계산(call-by-name evaluation)과\n",
    "  기본적으로 비슷하지만 여러 곳에서 활용되는 같은 변수 이름 혹은 같은 서로 다른 변수의 동일한 계산 결과를 공유함으로써\n",
    "  계산의 중복을 줄이는 장점이 있다.\n",
    "* 인자 먼저 값계산(call-by-value evaluation)을 적극적 값계산(eager evaluation)\n",
    "  또는 엄격한 값계산(strict evaluation)으로도 부르며, 필요한 만큼만 값계산(call-by-need evaluation)은\n",
    "  게으른(혹은  느긋한) 값계산(lazy evaluation)으로도 부른다.\n",
    "* CEK기계에 주소를 통해 접근할 수 있는 저장공간(Store)이 추가된 CESK기계로\n",
    "  계산 결과를 공유하는 게으른 값계산의 작은걸음 의미구조를 규정할 수 있다. "
   ]
  },
  {
   "cell_type": "markdown",
   "id": "e88b9a02-1781-4315-b1b9-c9fd988187f1",
   "metadata": {},
   "source": [
    "\\section*{연습문제}\n",
    "1. `[18]`-`[24]`셀 중에서 완성되지 않은 큰걸음 함수 `bigStepCBV`와 `bigStepCBN`를 작성하여 테스트해 보라.\n",
    "1. `[32]`와 `[33]`셀의 `stepCEKv`와 `stepCEKn`을 본문의 작은걸음 규칙대로 작성하여 `[36]`-`[39]`셀의 `e0`에 대해 기대한 대로 동작하는지 확인해 보라.\n",
    "1. `[39]`셀의 `e01`에 대해 본문에 안내된 대로 `[40]`과 `[41]`셀의 주석을 풀어 실행하여 CEK$_\\textrm{v}$와 CEK$_\\textrm{n}$의 계산 과정의 차이를 확인해 보고 그 이유를 분석해 보라."
   ]
  },
  {
   "cell_type": "raw",
   "id": "298627c6-e8bf-4015-940b-122d2b07543b",
   "metadata": {},
   "source": [
    "\\begin{figure}\\centering\n",
    "\\quad\n",
    "\\begin{subfigure}[b]{.2\\textwidth}\n",
    "\\includegraphics{PeterLandin.png}\n",
    "\\end{subfigure}\n",
    "\\qquad\\qquad\n",
    "\\begin{subfigure}[b]{.2\\textwidth}\n",
    "\\includegraphics[trim={40pt 60pt 20pt 20pt},clip]{Krivine.jpg}\n",
    "\\end{subfigure}\n",
    "\\caption{\n",
    "함수형 언어 처리를 위한 최초의 가상머신인 SECD기계 및\n",
    "리습 이후 현대적인 함수형 언어를 비롯한 다양한 프로그래밍언어에 큰 영향을 끼친\n",
    "ISWIM을 창안한 피터 란딘(Peter J. Landin, 왼쪽),\n",
    "집합론과 논리를 컴퓨터 과학의 기초 이론과 연결짓는 선구적 연구를 하였으며 \n",
    "적용 먼저(call-by-name) 값계산을 위한 가상머신인 Krivine기계를 고안한\n",
    "장-루이 크리빈(Jean-Louis Krivine, 오른쪽)\\\\\n",
    "{\\footnotesize(이미지 출처:\n",
    "{\\scriptsize\\url{https://doi.org/10.1007/s00165-009-0122-y}}\n",
    "{\\scriptsize\\url{http://david.home.free.fr}} )}\n",
    "}\n",
    "\\end{figure}"
   ]
  },
  {
   "cell_type": "markdown",
   "id": "dfa85f77-d4a7-43e5-a731-8a24cbae16ca",
   "metadata": {},
   "source": [
    "\\section*{탐구과제}\n",
    "1. CEK$_\\textrm{v}$와 CEK$_\\textrm{n}$처럼 람다계산법을 작은걸음으로 값계산하는 기계인데,\n",
    "   그보다 더 저수준 구현(컴파일러 작성을 위한 가상머신 등)에 적합한 SECD기계\\cite{Landin64SECD}와\n",
    "   Krivine기계\\cite{Krivine07}에 대해 조사해 보라. 참고로 SECD와 Krivine기계가 앞서 고안되었으며\n",
    "   이후에 이를 단순화하여 CEK$_\\textrm{v}$나 CEK$_\\textrm{n}$과 같은 형태로 정리된 것으로 이해할 수 있다.\n",
    "1. CESK$_z$에 대응되는 필요한 만큼 (혹은 게으른) 값계산의 큰걸음 의미구조 $\\langle e,\\rho\\rangle;\\sigma\\Longmapsto v;\\sigma$를 정의해 보고, 이를 바탕으로 하스켈로 람다계산법의 대한 필요한 만큼 (혹은 게으른) 값계산 인터프리터를 작성해 보라.\n",
    "1. \\`\\`오프사이드 규칙\\'\\'(off-side rule)과 \\`\\`문법 설탕\\'\\'(syntactic sugar)은 피터 란딘이 정착시킨 프로그래밍언어와 관련한 개념에 대한 전문용어다. 이들에 대해 알아보라. \n",
    "1. CESK기계는 메모리 주소를 다룰 수 있으므로 가비지 컬렉션(garbage collection, \\`쓰레기 수집\\'으로도 옮김)과 같은 자동 메모리 관리 방식도 추상적으로 표현할 수 있다. CESK기계에서 가비지 컬렉션을 어떻게 나타낼 수 있을지 생각해 보고 관련 문헌도 조사해 보라."
   ]
  },
  {
   "cell_type": "code",
   "execution_count": null,
   "id": "173855d6-5450-42c0-be2c-ec4728bdfb6c",
   "metadata": {},
   "outputs": [],
   "source": []
  }
 ],
 "metadata": {
  "kernelspec": {
   "display_name": "Haskell",
   "language": "haskell",
   "name": "haskell"
  },
  "language_info": {
   "codemirror_mode": "ihaskell",
   "file_extension": ".hs",
   "mimetype": "text/x-haskell",
   "name": "haskell",
   "pygments_lexer": "Haskell",
   "version": "8.10.7"
  }
 },
 "nbformat": 4,
 "nbformat_minor": 5
}
