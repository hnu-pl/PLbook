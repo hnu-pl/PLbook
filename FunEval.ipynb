{
 "cells": [
  {
   "cell_type": "code",
   "execution_count": 1,
   "id": "c10de1dd-8f03-431f-b563-a6808791c790",
   "metadata": {},
   "outputs": [],
   "source": [
    ":opt no-lint\n",
    "{-# LANGUAGE TypeSynonymInstances FlexibleInstances #-}"
   ]
  },
  {
   "cell_type": "markdown",
   "id": "1a060ba1-dd82-4239-b5ca-b460a96e3702",
   "metadata": {},
   "source": [
    "이제 그림 \\ref{fig:bigStepCBV}와 \\ref{fig:bigStepCBN}의 큰걸음 의미구조를 하스켈로 옮겨 보자."
   ]
  },
  {
   "cell_type": "code",
   "execution_count": 2,
   "id": "ff9cce48-f04b-498d-89b8-36dcca5afb5d",
   "metadata": {},
   "outputs": [],
   "source": [
    "type Nm = String -- 변수 이름은 문자열로\n",
    "data Expr = Var Nm         -- x\n",
    "          | Lam Nm Expr    -- (λx.e)\n",
    "          | App Expr Expr  -- (e1 e2)\n",
    "          deriving (Eq, Ord)"
   ]
  },
  {
   "cell_type": "code",
   "execution_count": 3,
   "id": "8ccff2f5-3fe9-4a12-8428-f252ffb31389",
   "metadata": {},
   "outputs": [],
   "source": [
    "instance Show Expr where -- 좀더 간결한 출력을 위해 직접 Show 인스턴스 선언\n",
    "  showsPrec _ (Var x) = showString x\n",
    "  showsPrec p (Lam x e) = showParen (p > 1) $\n",
    "    showString (\"\\\\lambda \"++x++\".\") . showsPrec 1 e\n",
    "  showsPrec p (App e1 e2) = showParen (p > 9) $\n",
    "    showsPrec 9 e1 . showString \"\\\\;\" . showsPrec 10 e2\n",
    "\n",
    "import IHaskell.Display (latex)\n",
    "instance IHaskellDisplay Expr where\n",
    "    display e = display [latex $ \"$\"++show e++\"$\"]"
   ]
  },
  {
   "cell_type": "code",
   "execution_count": 4,
   "id": "c4349a13-1724-4cd7-8872-01d7f0d3e0c9",
   "metadata": {},
   "outputs": [
    {
     "data": {
      "text/latex": [
       "$\\lambda x.\\lambda y.x\\;(\\lambda z.y)$"
      ]
     },
     "metadata": {},
     "output_type": "display_data"
    }
   ],
   "source": [
    "Lam \"x\" (Lam \"y\" (App (Var \"x\") (Lam \"z\"  (Var \"y\"))))"
   ]
  },
  {
   "cell_type": "code",
   "execution_count": 5,
   "id": "e47bbff5-6b35-4cf5-bd5c-573f0b3e4a26",
   "metadata": {},
   "outputs": [
    {
     "data": {
      "text/latex": [
       "$\\lambda x.\\lambda y.x\\;(\\lambda z.y)$"
      ]
     },
     "metadata": {},
     "output_type": "display_data"
    }
   ],
   "source": [
    "-- 연산자 (.), ($) 및 역따옴표 중위 표현 활용 \n",
    "Lam \"x\" . Lam \"y\" $ Var \"x\" `App` Lam \"z\" (Var \"y\")"
   ]
  },
  {
   "cell_type": "code",
   "execution_count": 6,
   "id": "3b2d195c-85c7-4444-be6f-43c736e32584",
   "metadata": {},
   "outputs": [],
   "source": [
    "type Env = [(Nm,Clos)] -- 값계산 환경\n",
    "data Clos = Cl Expr Env deriving (Eq,Ord,Show) -- 클로저"
   ]
  },
  {
   "cell_type": "code",
   "execution_count": 7,
   "id": "04715db0-e9bb-4272-9394-bf00add82467",
   "metadata": {},
   "outputs": [],
   "source": [
    "import Data.List (intercalate)\n",
    "instance {-# OVERLAPS #-} Show Env where\n",
    "    show env = \"\\\\{\"++ intercalate \",\\\\,\" (map show env) ++\"\\\\}\"\n",
    "instance {-# OVERLAPS #-} Show (Nm,Clos) where\n",
    "    show (x,cl) = \"\\\\langle \"++x++\"{\\\\mapsto}\"++show cl++\"\\\\rangle \"\n",
    "instance Show Clos where\n",
    "    show (Cl e env) = \"\\\\langle \"++show e++\",\"++show env++\"\\\\rangle \"\n",
    "\n",
    "instance {-# OVERLAPS #-} IHaskellDisplay Env where\n",
    "    display e = display [latex $ \"$\"++show e++\"$\"]\n",
    "instance {-# OVERLAPS #-} IHaskellDisplay (Nm,Clos) where\n",
    "    display e = display [latex $ \"$\"++show e++\"$\"]\n",
    "instance IHaskellDisplay Clos where\n",
    "    display e = display [latex $ \"$\"++show e++\"$\"]"
   ]
  },
  {
   "cell_type": "code",
   "execution_count": 8,
   "id": "d92726dc-53bf-4a1f-b36e-7b377e2ef735",
   "metadata": {},
   "outputs": [
    {
     "data": {
      "text/latex": [
       "$\\{\\langle x{\\mapsto}\\langle \\lambda z.z,\\{\\}\\rangle \\rangle ,\\,\\langle y{\\mapsto}\\langle \\lambda x.f\\;x,\\{\\langle f{\\mapsto}\\langle \\lambda z.z,\\{\\}\\rangle \\rangle \\}\\rangle \\rangle \\}$"
      ]
     },
     "metadata": {},
     "output_type": "display_data"
    }
   ],
   "source": [
    "sigma01 = [(\"f\", Cl (Lam \"z\" $ Var \"z\") [])]\n",
    "\n",
    "[ ( \"x\", Cl (Lam \"z\" $ Var \"z\")               []     ),\n",
    "  ( \"y\", Cl (Lam \"x\" $ Var \"f\" `App` Var \"x\") sigma01) ]"
   ]
  },
  {
   "cell_type": "code",
   "execution_count": 9,
   "id": "d67c7231-9865-4ae2-9758-cf9ce96fdf70",
   "metadata": {},
   "outputs": [
    {
     "data": {
      "text/latex": [
       "$\\langle x{\\mapsto}\\langle \\lambda z.z,\\{\\}\\rangle \\rangle $"
      ]
     },
     "metadata": {},
     "output_type": "display_data"
    },
    {
     "data": {
      "text/latex": [
       "$\\langle y{\\mapsto}\\langle \\lambda x.f\\;x,\\{\\langle f{\\mapsto}\\langle \\lambda z.z,\\{\\}\\rangle \\rangle \\}\\rangle \\rangle $"
      ]
     },
     "metadata": {},
     "output_type": "display_data"
    }
   ],
   "source": [
    "mapM display it"
   ]
  },
  {
   "cell_type": "markdown",
   "id": "0b97d9a7-2305-47f4-962a-862b9f436ec5",
   "metadata": {},
   "source": [
    "# 값계산 환경을 활용한 작은걸음 의미구조\n",
    "TODO TODO\n",
    "\n",
    "%% https://matt.might.net/articles/cek-machines/\n",
    "\n",
    "TODO TODO"
   ]
  },
  {
   "cell_type": "markdown",
   "id": "7583728c-cd6d-4838-8357-f1c9356c2c9a",
   "metadata": {},
   "source": [
    "\\begin{align}\n",
    "\\langle\\sigma,x\\rangle;\\kappa\n",
    "        &\\longmapsto\n",
    "\\sigma(x);\\kappa\n",
    "\\\\\n",
    "\\langle\\sigma,e_1~e_2\\rangle;\\kappa\n",
    "        &\\longmapsto\n",
    "\\langle\\sigma,e_1\\rangle;\\langle\\sigma,\\bullet~e_2\\rangle,\\kappa\n",
    "\\\\\n",
    "\\langle\\sigma_1,\\lambda x.e\\rangle;\\langle\\sigma,\\bullet~e_2\\rangle,\\kappa\n",
    "        &\\longmapsto\n",
    "\\langle\\sigma,e_2\\rangle;\\langle\\sigma_1,(\\lambda x.e)\\,\\bullet\\rangle,\\kappa\n",
    "\\\\\n",
    "v_2;\\langle\\sigma_1,(\\lambda x.e)\\,\\bullet\\rangle,\\kappa\n",
    "        &\\longmapsto\n",
    "\\langle\\{x{\\mapsto}v_2\\}\\sigma_1,e\\rangle;\\kappa\n",
    "\\end{align}"
   ]
  },
  {
   "cell_type": "markdown",
   "id": "c0087edf-f077-414f-88ac-238c5adc6af6",
   "metadata": {},
   "source": [
    "\\begin{align}\n",
    "\\langle\\sigma,x\\rangle;\\kappa\n",
    "        &\\longmapsto\n",
    "\\sigma(x);\\kappa\n",
    "\\\\\n",
    "\\langle\\sigma,e_1~e_2\\rangle;\\kappa\n",
    "        &\\longmapsto\n",
    "\\langle\\sigma,e_1\\rangle;\\langle\\sigma,\\bullet~e_2\\rangle,\\kappa\n",
    "\\\\\n",
    "\\langle\\sigma_1,\\lambda x.e\\rangle;\\langle\\sigma,\\bullet~e_2\\rangle,\\kappa\n",
    "        &\\longmapsto\n",
    "\\langle\\{x{\\mapsto}\\langle\\sigma,e_2\\rangle\\}\\sigma_1,e\\rangle;\\kappa\n",
    "\\end{align}"
   ]
  },
  {
   "cell_type": "markdown",
   "id": "15925759-09e9-46a2-b096-a81fc74cdd48",
   "metadata": {},
   "source": [
    "\\lipsum[1-3]"
   ]
  }
 ],
 "metadata": {
  "kernelspec": {
   "display_name": "Haskell",
   "language": "haskell",
   "name": "haskell"
  },
  "language_info": {
   "codemirror_mode": "ihaskell",
   "file_extension": ".hs",
   "mimetype": "text/x-haskell",
   "name": "haskell",
   "pygments_lexer": "Haskell",
   "version": "8.10.7"
  }
 },
 "nbformat": 4,
 "nbformat_minor": 5
}
