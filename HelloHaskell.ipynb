{
 "cells": [
  {
   "cell_type": "raw",
   "id": "56cc8b61-7578-46ba-b558-f7ec4b0baaf4",
   "metadata": {},
   "source": [
    "%% \\fvset{numbers=left,numbersep=3pt}"
   ]
  },
  {
   "cell_type": "markdown",
   "id": "b1f08f09-1869-4ffe-84f1-29ff70f2eb2f",
   "metadata": {},
   "source": [
    "# 람다계산법과 하스켈\n",
    "앞서 람다계산법의 문법구조(그림 \\ref{fig:ChurchDeBruijn})를 소개하며\n",
    "수학에서 보통 $f(x)=e$ 형태로 정의되는 함수를 람다식으로는 이름을 붙이지 않고\n",
    "$\\lambda x.e$ 형태의 함수요약(function abstraction)식으로 표현한다고 설명했다.\n",
    "여기서는 $e_1~e_2$ 형태의 함수적용(function application)식을 포함한\n",
    "람다계산법의 의미구조(그림 \\ref{fig:UTLC})를 정리해 보자. 의미구조를\n",
    "자세히 실펴보기 앞서 먼저 함수적용식 $e_1~e_2$의 의미를 간단히 이야기하자면,\n",
    "수학에서 일반적인 표기로는 $e_1(e_2)$를 뜻한다. 즉, 함수 $f$에 인자 $v$를 넘겨\n",
    "계산한 값을 나타내는 $f(v)$를 람다식으로는 괄호를 쓸 필요 없이 $f~v$로\n",
    "표현할 수 있다는 말이다.\n",
    "\n",
    "그렇다면 람다계산법에서 함수를 인자에 적용해 계산한다는 의미는 구체적으로\n",
    "무엇일까? 함수적용식의 왼쪽이 명백한 함수의 형태, 즉 함수요약식일 때\n",
    "함수 적용 계산 과정의 가장 핵심적인  단계를 진행할 수 있다.\n",
    "즉 $(\\lambda x. e)\\;e_2$ 형태일 때 함수의 파라메터인 $x$에 인자 $e_2$를\n",
    "넘겨 계산을 한 단계 더 진행하면 $\\{x{\\mapsto}e_2\\}e$로 표시되는,\n",
    "$e$에 자유롭게 나타나는 $x$를 $e_2$로 납치없이 바꿔친 식을 얻는다.\n",
    "즉, $(\\lambda x. e)\\;e_2 \\longmapsto \\{x{\\mapsto}e_2\\}e$가 바로\n",
    "함수 적용의 계산과정 중 가장 핵심적인 단계를 나타내는 규칙($\\beta$)으로\n",
    "그림 \\ref{fig:UTLC}에 정리된 작은걸음 의미구조의 규칙들 중 중 가장\n",
    "처음으로 나타나 있다. 이렇게 $\\beta$규칙을 적용해 나감으로써\n",
    "계산을 진행하는 과정을 \\`$\\beta$줄이기' 혹은 \\`$\\beta$줄임'($\\beta$-reduction)이라고\n",
    "하며, $\\beta$규칙을 적용할 수 있는 $(\\lambda x. e)\\;e_2$ 형태의 식을\n",
    "$\\beta$규칙으로 줄어드는 식($\\beta$-reducible expression)의\n",
    "줄임말인 \\`$\\beta$줄식'($\\beta$-redex)이라 부른다.\n",
    "마찬가지로 그 다음에 나타나는 $\\eta$규칙의 경우에도 \\`$\\eta$줄임'($\\eta$-reduction)과\n",
    "\\`$\\eta$줄식'($\\eta$-redex)의 개념을 생각해 볼 수 있다. 당분간은 $\\eta$ 규칙은\n",
    "없이 나머지 규칙($\\beta$,$\\lambda$,$\\textrm{@}_1$,$\\textrm{@}_2$)만 있다고 생각하자."
   ]
  },
  {
   "cell_type": "raw",
   "id": "4246301a-e670-4c87-8b1a-609f2f0be884",
   "metadata": {},
   "source": [
    "\n",
    "\\begin{figure}\n",
    "문법구조\\vspace*{-4.5ex}"
   ]
  },
  {
   "cell_type": "markdown",
   "id": "819e6b37-658c-41bd-bbb4-0a63ed7b3c20",
   "metadata": {},
   "source": [
    "\\begin{align*}\n",
    "e ::=~& x           & {\\scriptsize\\textrm{name}} \\\\\n",
    " \\mid~& \\lambda x.e & {\\scriptsize\\textrm{abstraction}} \\\\\n",
    " \\mid~& e~e         & {\\scriptsize\\textrm{application}}\n",
    "\\end{align*}"
   ]
  },
  {
   "cell_type": "raw",
   "id": "8f507126-5481-4396-bcf9-de2a9a0956e0",
   "metadata": {},
   "source": [
    "작은걸음 의미구조\\vspace*{-1ex}"
   ]
  },
  {
   "cell_type": "markdown",
   "id": "7209aa1b-fdb5-431c-9291-3604c6d627db",
   "metadata": {},
   "source": [
    "$$\n",
    "{\\scriptstyle(\\beta)}\\frac{}{\n",
    "~~(\\lambda x.e)\\;e_2 \\longmapsto \\{x{\\mapsto}e_2\\}e~~}\n",
    "\\qquad\\qquad\n",
    "{\\scriptstyle(\\eta)}\\frac{}{\n",
    "~~\\lambda x.e\\;x \\longmapsto e~~}\n",
    "({\\scriptstyle x\\,\\notin\\mathrm{fv}(e) })\n",
    "$$\n",
    "$$\n",
    "{\\scriptstyle(\\lambda)}\\frac{e\\longmapsto e'}{\n",
    "~~\\lambda x.e \\longmapsto \\lambda x.e'~~}\n",
    "\\qquad\n",
    "{\\scriptstyle(\\textrm{@}_1)}\\frac{e_1\\longmapsto e_1'}{\n",
    "~~e_1\\;e_2 \\longmapsto e_1'\\;e_2~~}\n",
    "\\quad\n",
    "{\\scriptstyle(\\textrm{@}_2)}\\frac{e_2\\longmapsto e_2'}{\n",
    "~~e_1\\;e_2 \\longmapsto e_1\\;e_2'~~}\n",
    "$$"
   ]
  },
  {
   "cell_type": "raw",
   "id": "29fbdbf2-80ef-41ee-9ea6-d7244c49b5c6",
   "metadata": {},
   "source": [
    "\\caption{타입없는 람다계산법(untyped $\\lambda$-calculus)의 문법구조와 의미구조\n",
    "         \\label{fig:UTLC} }\n",
    "\\end{figure}\n"
   ]
  },
  {
   "cell_type": "markdown",
   "id": "9290fcf8-2511-4d37-b100-b11047b1450c",
   "metadata": {},
   "source": [
    "방금 설명한 $\\beta$규칙과 같은 계산이 하스켈 언어에서도 이루어지고 있음을 확인해 보자.\n",
    "우선 이 책에서 실습용으로 작성하는 하스켈 노트북의 첫 셀은 항상 다음과 같이 시작한다.\\footnote{%\n",
    "불필요한 코딩 스타일 제안 메시지를 끄고 필요한 컴파일러 언어 기능 설정을 하는 내용으로,\n",
    "세부사항은 책의 내용을 이해하는 데 큰 관계가 없으니 이해하려 하지 않고 넘어가도 좋다.}"
   ]
  },
  {
   "cell_type": "code",
   "execution_count": 1,
   "id": "1962ae3a-0cf0-464a-b0e9-b70aa5ae3707",
   "metadata": {},
   "outputs": [],
   "source": [
    ":opt no-lint                          -- linter 끄기\n",
    "{-# LANGUAGE ScopedTypeVariables #-} -- 추가 언어 기능 설정"
   ]
  },
  {
   "cell_type": "raw",
   "id": "0bd3b285-5464-41a3-8230-e1849128dfc1",
   "metadata": {},
   "source": [
    "~\\\\[-1ex]\\noindent"
   ]
  },
  {
   "cell_type": "markdown",
   "id": "297eee4a-7ca3-4f71-81c1-8f5781923ff6",
   "metadata": {},
   "source": [
    "하스켈 코드에서는 $\\lambda x.e$와 같은 람다식을 `\\x -> e`와 같이 표현한다.\n",
    "아래와 같이 람다식으로 표현된 함수를 같이 인자에 적용해 보면\n",
    "함수 몸체 $e$에 나타나는 자유로운 $x$를 넘겨받은 인자로 바꿔치기하며 $\\beta$줄임처럼 계산됨을 관찰할 수 있다."
   ]
  },
  {
   "cell_type": "code",
   "execution_count": 2,
   "id": "a9ce8d38-d801-4aed-afb2-adea769bf4ac",
   "metadata": {},
   "outputs": [
    {
     "data": {
      "text/plain": [
       "[7,7,7]"
      ]
     },
     "metadata": {},
     "output_type": "display_data"
    }
   ],
   "source": [
    "(\\x -> [x,x,x]) 7"
   ]
  },
  {
   "cell_type": "code",
   "execution_count": 3,
   "id": "262992c0-e87a-488b-8de9-88b6f5ba00b5",
   "metadata": {},
   "outputs": [
    {
     "data": {
      "text/plain": [
       "[\"go\",\"go\",\"go\"]"
      ]
     },
     "metadata": {},
     "output_type": "display_data"
    }
   ],
   "source": [
    "(\\x -> [x,x,x]) \"go\""
   ]
  },
  {
   "cell_type": "raw",
   "id": "23445703-a534-4511-b14e-f88cbf1298e9",
   "metadata": {},
   "source": [
    "~\\\\[-1ex]\\noindent"
   ]
  },
  {
   "cell_type": "markdown",
   "id": "84ba6b45-595b-4bac-99ec-2b208a7910d9",
   "metadata": {},
   "source": [
    "참고로 다음과 같이 하나의 셀에 여러 개의 식을 여러 줄에 걸쳐 작성하면\n",
    "각각의 식을 실행한 결과를 출력한다."
   ]
  },
  {
   "cell_type": "code",
   "execution_count": 4,
   "id": "7a71a9ff-fd58-477e-999f-905337c70998",
   "metadata": {},
   "outputs": [
    {
     "data": {
      "text/plain": [
       "[7,7,7]"
      ]
     },
     "metadata": {},
     "output_type": "display_data"
    },
    {
     "data": {
      "text/plain": [
       "[\"go\",\"go\",\"go\"]"
      ]
     },
     "metadata": {},
     "output_type": "display_data"
    }
   ],
   "source": [
    "(\\x -> [x,x,x]) 7\n",
    "(\\x -> [x,x,x]) \"go\""
   ]
  },
  {
   "cell_type": "markdown",
   "id": "d5a427dc-9966-4664-9fb6-fdab117a67e2",
   "metadata": {},
   "source": [
    "\\vspace*{1ex}\n",
    "\n",
    "람다식의 의미구조(그림 \\ref{fig:UTLC})에서 $\\beta$규칙과 같이\n",
    "계산 진행 단계의 핵심적인 내용을 표현하는 규칙 이외의\n",
    "$\\lambda$,$\\textrm{@}_1$,$\\textrm{@}_2$와 같은 규칙은\n",
    "여러 부분으로 이루어진 복합식의 어느 부분식에서\n",
    "핵심적인 계산의 내용을 진행시킬지 그 맥락을 정해준다. \n",
    "$\\lambda$규칙은 함수요약식($\\lambda x.e$)의 함수 몸체($e$) 부분이라는 맥락에서,\n",
    "$\\textrm{@}_1$와 $\\textrm{@}_2$규칙은 함수적용식($e_1~e_2$)의\n",
    "함수($e_1$)와 인자($e_2$) 부분이라는 맥락에서 계산을 진행시킨다.\n",
    "이렇게 의미구조에서 계산의 핵심적인 내용 자체를 정의하는 것이 아니라\n",
    "복합식의 문법구조에 따라 어떤 맥락(context)에서 계산이 진행될지 정의하는\n",
    "규칙을 맥락규칙(context rule)이라고 부른다.\n",
    "복합식이 그 자체로는 $\\beta$줄식($\\beta$-redex)가 아니더라도\n",
    "맥락규칙에 따라 그 안에 포함된 $\\beta$줄식인 부분식을 찾아\n",
    "거기에 $\\beta$규칙을 적용함으로써 $\\beta$줄이기 계산을 진행시킬 수 있다."
   ]
  },
  {
   "cell_type": "code",
   "execution_count": 5,
   "id": "10d8fee2-d875-468e-ad3a-ee817cc8109c",
   "metadata": {},
   "outputs": [
    {
     "data": {
      "text/plain": [
       "(\"Hello, Haskell\",[7,7,7],\"Bye, Haskell\")"
      ]
     },
     "metadata": {},
     "output_type": "display_data"
    }
   ],
   "source": [
    "(\"Hello, Haskell\", (\\x -> [x,x,x]) 7, \"Bye, Haskell\")"
   ]
  },
  {
   "cell_type": "code",
   "execution_count": 6,
   "id": "ecdca2f9-fa35-44c3-8759-41da8bbf4456",
   "metadata": {},
   "outputs": [
    {
     "data": {
      "text/plain": [
       "(\"Hello, Haskell\",[\"go\",\"go\",\"go\"],\"Bye, Haskell\")"
      ]
     },
     "metadata": {},
     "output_type": "display_data"
    }
   ],
   "source": [
    "(\"Hello, Haskell\", (\\x -> [x,x,x]) \"go\", \"Bye, Haskell\")"
   ]
  },
  {
   "cell_type": "raw",
   "id": "198c5d3a-adc3-49d6-b5eb-52f81dbd5272",
   "metadata": {},
   "source": [
    "~\\\\[-2ex]\\noindent"
   ]
  },
  {
   "cell_type": "markdown",
   "id": "84c3aa24-5d63-4947-a6f9-5841506f656a",
   "metadata": {},
   "source": [
    "하스켈 코드에서도 위와 같이 줄식이 있는 부분의 맥락을 찾아 계산함을 관찰할 수 있다.\n",
    "이처럼 하스켈의 핵심에는 람다식이 있으며 순수한 람다식의 세 가지 문법 요소 외에\n",
    "앞서 유효범위에 대해 다루며 언급한 let식(그림 \\ref{fig:ABTstyles})을 비롯해\n",
    "바로 위의 예제에서 나타난 리스트(`[x,x,x]`)나 튜플(`(x,y,z)`) 등 프로그래밍에\n",
    "쓸모있는 다양한 문법요소가 추가되어 있다."
   ]
  },
  {
   "cell_type": "markdown",
   "id": "76cc23ae-2977-4922-820e-0ffb3f674787",
   "metadata": {},
   "source": [
    "하지만 하스켈의 의미구조가 그림 \\ref{fig:UTLC}에 나타난\n",
    "람다계산법의 의미구조와 완전히 일치하지는 않는다.\n",
    "람다계산법의 의미구조에서는 $\\lambda$규칙에 따라 함수 안쪽인 몸체의 맥락에서도\n",
    "$(\\lambda y.(\\lambda x.x) y) \\longmapsto (\\lambda y.y)$와 같이 줄임(reduction)이 진행된다.\n",
    "하지만 하스켈을 비롯한 대부분의 프로그래밍 언어에서는 함수를 인자에 적용함으로써\n",
    "함수가 호출되지 않는 한 함수 안쪽의 내용을 계산하지는 않는다."
   ]
  },
  {
   "cell_type": "code",
   "execution_count": 7,
   "id": "bf96312b-ce53-4d86-a599-b8a37fee0f91",
   "metadata": {},
   "outputs": [
    {
     "ename": "",
     "evalue": "",
     "header": "MessageHeader {mhIdentifiers = [\"f06fa2c4-f1ca-4997-8125-797daabe030f\"], mhParentHeader = Just (MessageHeader {mhIdentifiers = [\"f06fa2c4-f1ca-4997-8125-797daabe030f\"], mhParentHeader = Nothing, mhMetadata = Metadata (fromList [(\"recordTiming\",Bool False),(\"deletedCells\",Array []),(\"cellId\",String \"bf96312b-ce53-4d86-a599-b8a37fee0f91\")]), mhMessageId = UUID {uuidToString = \"9ddf3406-aa94-4966-8f27-358b3042aa03\"}, mhSessionId = UUID {uuidToString = \"f06fa2c4-f1ca-4997-8125-797daabe030f\"}, mhUsername = \"\", mhMsgType = ExecuteRequestMessage, mhBuffers = []}), mhMetadata = Metadata (fromList []), mhMessageId = UUID {uuidToString = \"c2736c4a-fff4-4099-9af9-c730f4105a17\"}, mhSessionId = UUID {uuidToString = \"f06fa2c4-f1ca-4997-8125-797daabe030f\"}, mhUsername = \"\", mhMsgType = ExecuteErrorMessage, mhBuffers = []}",
     "output_type": "error",
     "traceback": [
      "<interactive>:1:1: error:\n    • No instance for (Show (p0 -> p0)) arising from a use of ‘print’\n        (maybe you haven't applied a function to enough arguments?)\n    • In a stmt of an interactive GHCi command: print it"
     ]
    }
   ],
   "source": [
    "\\y -> (\\x -> x) y"
   ]
  },
  {
   "cell_type": "markdown",
   "id": "b44a190b-ec6b-4ad8-9a42-c7e3f7480c5d",
   "metadata": {},
   "source": [
    "\\noindent\n",
    "여기서 오류가 나는 까닭은 잘못된 식을 작성해서가 아니라 함수가 기본적으로\n",
    "출력가능한 타입으로 분류되지 않기 때문이다.\\footnote{함수도 Show 클래스의\n",
    "인스턴스를 선언해 주면 출력가능한 타입으로 분류시켜 줄 수도 있다.}\n",
    "하스켈에서 함수는 이미 계산이 끝난 값으로 취급하므로 더 이상 계산할 필요\n",
    "없이 곧바로 출력해보려 했으나 출력가능한 대상이 아니었다는 오류 메시지이다.\n",
    "같은 함수를 인자에 적용해 보면,  아마도\n",
    "`(\\y->(\\x->x) y) \"hello\"` $\\longmapsto$ `(\\x->x) \"hello\"` $\\longmapsto$ `\"hello\"`와 같은 과정으로,\n",
    "계산이 진행됨을 확인해 볼 수 있다."
   ]
  },
  {
   "cell_type": "code",
   "execution_count": 8,
   "id": "533fe563-2c58-4f7c-ac8a-0db2e70b4058",
   "metadata": {},
   "outputs": [
    {
     "data": {
      "text/plain": [
       "\"hello\""
      ]
     },
     "metadata": {},
     "output_type": "display_data"
    }
   ],
   "source": [
    "(\\y -> (\\x -> x) y) \"hello\""
   ]
  },
  {
   "cell_type": "raw",
   "id": "aecf05b3-1cb4-4922-8737-9cd4a0100992",
   "metadata": {},
   "source": [
    "~\\\\[-2ex]\\indent"
   ]
  },
  {
   "cell_type": "markdown",
   "id": "7b56e83c-ba31-4f54-8e01-26104ca0e9a5",
   "metadata": {},
   "source": [
    "하스켈을 비롯한 대부분의 프로그래밍 언어들이 취하는 이러한 계산 방식을 \\`값계산'(evaluation)이라 한다.\n",
    "일반적으로 람다계산법의 줄임(reduction)과 대비되는 점은 다음과 같다. 줄임은 함수 몸체를 포함한\n",
    "어떤 부분식의 맥락에서도 계산의 핵심 규칙을 더 이상 적용할 수 없는 형태인 표준형(normal form)에\n",
    "이를 때까지 진행하는 반면, 값계산은 특정 맥락에서만 계산을 진행하며 줄임의 표준형 외에도 더 많은\n",
    "형태의 식을 계산이 완료된 값(value)으로 취급한다. 또한 줄임(reduction)의 가장 자연스러운\n",
    "작은걸음 의미구조 정의는 그림 \\ref{fig:UTLC}와 같이 어떤 맥락에서든 계산 진행을 허용하는 비결정적\n",
    "의미구조인 반면, 값계산(evaluation)은 한 갈래로만 계산과정이 진행되도록 결정적으로 맥락(context)을\n",
    "규정하는 것이 보통이다.\n",
    "예컨대, $((\\lambda x.x)(\\lambda y.y))~((\\lambda z.z)(\\lambda w.w))$는\n",
    "$\\textrm{@}_1$과 $\\textrm{@}_2$의 두 규칙 모두 적용 가능하므로 두 갈래로\n",
    "계산이 진행 가능하며, 이같이 비결정적인 모든 갈래의 줄임(reduction) 과정의\n",
    "경로를 그림으로 나타내면 아래와 같다.\n",
    "\\begin{quote}\n",
    "\\begin{tikzcd}\n",
    "((\\lambda x.x)(\\lambda y.y))~((\\lambda z.z)(\\lambda w.w))\n",
    "\\arrow[d,\"\\textrm{@}_1\"] \\arrow[r,\"\\textrm{@}_2\"] \n",
    "& ((\\lambda x.x)(\\lambda y.y))~(\\lambda w.w)\n",
    "\\arrow[d,\"\\textrm{@}_1\"]\n",
    "\\\\\n",
    "(\\lambda y.y)~((\\lambda z.z)(\\lambda w.w))\n",
    "\\arrow[d,\"\\beta\"] \\arrow[r,\"\\textrm{@}_2\"]\n",
    "& (\\lambda y.y)~(\\lambda w.w)\n",
    "\\arrow[d,\"\\beta\"]\n",
    "\\\\\n",
    "(\\lambda z.z)(\\lambda w.w)\n",
    "\\arrow[r,\"\\beta\"]\n",
    "& (\\lambda w.w)\n",
    "\\end{tikzcd}\n",
    "\\end{quote}\n",
    "\\noindent\n",
    "값계산(evaluation)의 경우에는 보통 함수적용식($e_1~e_2$)의 왼쪽($e_1$)이\n",
    "함수요약식($\\lambda x.e$)의 형태에 이를 때까지 왼쪽 부분식의 계산을 진행하여\n",
    "$\\beta$줄식($\\beta$-redex)의 형태로 만들어 놓는데, 그 이후 계산 과정은 어떤 값계산 전략인지에 따라 달라진다.\n",
    "게으른 값계산(lazy evaluation)은 위 그림에서\n",
    "$\\downarrow^{\\textrm{@}_1}\\,\\downarrow^{\\beta}\\,\\xrightarrow{\\beta}$의 경로를 취하며\n",
    "$\\beta$규칙으로 함수 적용부터, 적극적 값계산(eager evaluation)은\n",
    "$\\downarrow^{\\textrm{@}_1}\\,\\xrightarrow{\\textrm{@}_2}\\,\\downarrow^{\\beta}$의 경로를 취하며\n",
    "$\\textrm{@}_2$규칙으로 인자 계산부터 먼저 진행하는 전략이다."
   ]
  },
  {
   "cell_type": "code",
   "execution_count": 9,
   "id": "222ec82f-c29e-42b5-8604-4e32ab881fd1",
   "metadata": {},
   "outputs": [
    {
     "data": {
      "image/svg+xml": [
       "<?xml version=\"1.0\" encoding=\"UTF-8\" standalone=\"no\"?>\n",
       "<!DOCTYPE svg PUBLIC \"-//W3C//DTD SVG 1.1//EN\"\n",
       " \"http://www.w3.org/Graphics/SVG/1.1/DTD/svg11.dtd\">\n",
       "<!-- Generated by graphviz version 2.43.0 (0)\n",
       " -->\n",
       "<!-- Title: %3 Pages: 1 -->\n",
       "<svg width=\"568pt\" height=\"98pt\"\n",
       " viewBox=\"0.00 0.00 568.00 98.00\" xmlns=\"http://www.w3.org/2000/svg\" xmlns:xlink=\"http://www.w3.org/1999/xlink\">\n",
       "<g id=\"graph0\" class=\"graph\" transform=\"scale(1 1) rotate(0) translate(4 94)\">\n",
       "<title>%3</title>\n",
       "<polygon fill=\"white\" stroke=\"transparent\" points=\"-4,4 -4,-94 564,-94 564,4 -4,4\"/>\n",
       "<!-- ((λx.x)(λy.y)) ((λz.z)(λw.w)) -->\n",
       "<g id=\"node1\" class=\"node\">\n",
       "<title>((λx.x)(λy.y)) ((λz.z)(λw.w))</title>\n",
       "<text text-anchor=\"middle\" x=\"86.5\" y=\"-41.3\" font-family=\"Times,serif\" font-size=\"14.00\">((λx.x)(λy.y)) ((λz.z)(λw.w))</text>\n",
       "</g>\n",
       "<!-- ((λx.x)(λy.y)) (λw.w) -->\n",
       "<g id=\"node2\" class=\"node\">\n",
       "<title>((λx.x)(λy.y)) (λw.w)</title>\n",
       "<text text-anchor=\"middle\" x=\"275.5\" y=\"-68.3\" font-family=\"Times,serif\" font-size=\"14.00\">((λx.x)(λy.y)) (λw.w)</text>\n",
       "</g>\n",
       "<!-- ((λx.x)(λy.y)) ((λz.z)(λw.w))&#45;&gt;((λx.x)(λy.y)) (λw.w) -->\n",
       "<g id=\"edge1\" class=\"edge\">\n",
       "<title>((λx.x)(λy.y)) ((λz.z)(λw.w))&#45;&gt;((λx.x)(λy.y)) (λw.w)</title>\n",
       "<path fill=\"none\" stroke=\"black\" d=\"M173.06,-57.35C181.61,-58.59 190.25,-59.84 198.68,-61.05\"/>\n",
       "<polygon fill=\"black\" stroke=\"black\" points=\"198.46,-64.56 208.85,-62.52 199.46,-57.63 198.46,-64.56\"/>\n",
       "</g>\n",
       "<!-- (λy.y) ((λz.z)(λw.w)) -->\n",
       "<g id=\"node3\" class=\"node\">\n",
       "<title>(λy.y) ((λz.z)(λw.w))</title>\n",
       "<text text-anchor=\"middle\" x=\"275.5\" y=\"-14.3\" font-family=\"Times,serif\" font-size=\"14.00\">(λy.y) ((λz.z)(λw.w))</text>\n",
       "</g>\n",
       "<!-- ((λx.x)(λy.y)) ((λz.z)(λw.w))&#45;&gt;(λy.y) ((λz.z)(λw.w)) -->\n",
       "<g id=\"edge2\" class=\"edge\">\n",
       "<title>((λx.x)(λy.y)) ((λz.z)(λw.w))&#45;&gt;(λy.y) ((λz.z)(λw.w))</title>\n",
       "<path fill=\"none\" stroke=\"black\" d=\"M173.06,-32.65C182.08,-31.34 191.19,-30.03 200.06,-28.75\"/>\n",
       "<polygon fill=\"black\" stroke=\"black\" points=\"200.57,-32.21 209.96,-27.32 199.57,-25.28 200.57,-32.21\"/>\n",
       "</g>\n",
       "<!-- (λy.y) (λw.w) -->\n",
       "<g id=\"node6\" class=\"node\">\n",
       "<title>(λy.y) (λw.w)</title>\n",
       "<text text-anchor=\"middle\" x=\"423.5\" y=\"-68.3\" font-family=\"Times,serif\" font-size=\"14.00\">(λy.y) (λw.w)</text>\n",
       "</g>\n",
       "<!-- ((λx.x)(λy.y)) (λw.w)&#45;&gt;(λy.y) (λw.w) -->\n",
       "<g id=\"edge7\" class=\"edge\">\n",
       "<title>((λx.x)(λy.y)) (λw.w)&#45;&gt;(λy.y) (λw.w)</title>\n",
       "<path fill=\"none\" stroke=\"black\" d=\"M342.24,-72C350.65,-72 359.19,-72 367.4,-72\"/>\n",
       "<polygon fill=\"black\" stroke=\"black\" points=\"367.6,-75.5 377.6,-72 367.6,-68.5 367.6,-75.5\"/>\n",
       "</g>\n",
       "<!-- (λz.z)(λw.w) -->\n",
       "<g id=\"node4\" class=\"node\">\n",
       "<title>(λz.z)(λw.w)</title>\n",
       "<text text-anchor=\"middle\" x=\"423.5\" y=\"-14.3\" font-family=\"Times,serif\" font-size=\"14.00\">(λz.z)(λw.w)</text>\n",
       "</g>\n",
       "<!-- (λy.y) ((λz.z)(λw.w))&#45;&gt;(λz.z)(λw.w) -->\n",
       "<g id=\"edge3\" class=\"edge\">\n",
       "<title>(λy.y) ((λz.z)(λw.w))&#45;&gt;(λz.z)(λw.w)</title>\n",
       "<path fill=\"none\" stroke=\"black\" d=\"M341.39,-18C351.02,-18 360.83,-18 370.16,-18\"/>\n",
       "<polygon fill=\"black\" stroke=\"black\" points=\"370.45,-21.5 380.45,-18 370.45,-14.5 370.45,-21.5\"/>\n",
       "</g>\n",
       "<!-- (λy.y) ((λz.z)(λw.w))&#45;&gt;(λy.y) (λw.w) -->\n",
       "<g id=\"edge5\" class=\"edge\">\n",
       "<title>(λy.y) ((λz.z)(λw.w))&#45;&gt;(λy.y) (λw.w)</title>\n",
       "<path fill=\"none\" stroke=\"black\" d=\"M325.52,-36.13C339.25,-41.21 354.26,-46.76 368.27,-51.94\"/>\n",
       "<polygon fill=\"black\" stroke=\"black\" points=\"367.19,-55.28 377.79,-55.46 369.62,-48.71 367.19,-55.28\"/>\n",
       "</g>\n",
       "<!-- (λw.w) -->\n",
       "<g id=\"node5\" class=\"node\">\n",
       "<title>(λw.w)</title>\n",
       "<text text-anchor=\"middle\" x=\"532.5\" y=\"-41.3\" font-family=\"Times,serif\" font-size=\"14.00\">(λw.w)</text>\n",
       "</g>\n",
       "<!-- (λz.z)(λw.w)&#45;&gt;(λw.w) -->\n",
       "<g id=\"edge4\" class=\"edge\">\n",
       "<title>(λz.z)(λw.w)&#45;&gt;(λw.w)</title>\n",
       "<path fill=\"none\" stroke=\"black\" d=\"M466.79,-28.67C476.13,-31.03 485.94,-33.5 495.02,-35.8\"/>\n",
       "<polygon fill=\"black\" stroke=\"black\" points=\"494.35,-39.24 504.9,-38.29 496.06,-32.45 494.35,-39.24\"/>\n",
       "</g>\n",
       "<!-- (λy.y) (λw.w)&#45;&gt;(λw.w) -->\n",
       "<g id=\"edge6\" class=\"edge\">\n",
       "<title>(λy.y) (λw.w)&#45;&gt;(λw.w)</title>\n",
       "<path fill=\"none\" stroke=\"black\" d=\"M469.26,-60.71C477.89,-58.53 486.83,-56.27 495.16,-54.17\"/>\n",
       "<polygon fill=\"black\" stroke=\"black\" points=\"496.1,-57.54 504.94,-51.7 494.39,-50.76 496.1,-57.54\"/>\n",
       "</g>\n",
       "</g>\n",
       "</svg>\n"
      ]
     },
     "metadata": {},
     "output_type": "display_data"
    }
   ],
   "source": [
    "import IHaskell.Display.Graphviz\n",
    "dot ( \"digraph { rankdir=\\\"LR\\\"; node [shape=\\\"none\\\"]\"\n",
    "  ++\"\\\"((λx.x)(λy.y)) ((λz.z)(λw.w))\\\" -> \\\"((λx.x)(λy.y)) (λw.w)\\\";\"\n",
    "  ++\"\\\"((λx.x)(λy.y)) ((λz.z)(λw.w))\\\" -> \\\"(λy.y) ((λz.z)(λw.w))\\\";\"\n",
    "  ++\"\\\"(λy.y) ((λz.z)(λw.w))\\\" -> \\\"(λz.z)(λw.w)\\\" -> \\\"(λw.w)\\\";\"\n",
    "  ++\"\\\"(λy.y) ((λz.z)(λw.w))\\\" -> \\\"(λy.y) (λw.w)\\\" -> \\\"(λw.w)\\\";\"\n",
    "  ++\"\\\"((λx.x)(λy.y)) (λw.w)\\\" -> \\\"(λy.y) (λw.w)\\\";\"\n",
    "  ++\"}\" )"
   ]
  },
  {
   "cell_type": "markdown",
   "id": "a64e73ac-ca9c-4b9e-9f0e-1c7308f062f3",
   "metadata": {},
   "source": [
    "방금전의 셀에서는 Graphviz를 연동하는 하스켈 라이브러리를 이용해\n",
    "앞서 본문에서 보여준 람다식을 비결정적 줄이는 그림을 자동으로 생성하여 출력하고 있다. \n",
    "이와 같이 ihaskell-notebook 환경에서는 웹브라우저를 매개로 한\n",
    "대화형 프로그래밍 환경의 장점 살려 실행 결과를 평이한 텍스트 형태만이\n",
    "아니라 HTML이나 그래픽 등의 형태로 출력하는 것도 가능하다."
   ]
  },
  {
   "cell_type": "markdown",
   "id": "3596986d-a91b-480d-8f4c-b5fe06650efc",
   "metadata": {},
   "source": [
    "하스켈이 적극적 값계산이 아닌 게으른 값계산에 따라 실행됨을 확인하는 실험을 하나 해보자.\n",
    "함수 몸체($v$)가 파라메터($x$)에 의존하지 않고 (즉, $x\\notin\\mathrm{fv}(v)$)\n",
    "이미 계산이 종료된 값인 함수요약식 $(\\lambda x.v)$를\n",
    "정상적인 값으로 계산이 끝나지 않고 오류가 발생하는 식 $e_\\textrm{bad}$에\n",
    "적용하는 함수적용식 $(\\lambda x.v)~e_\\textrm{bad}$를 생각해 보라.\n",
    "함수 인자부터 먼저 계산하는 전략인 적극적 값계산에 따르면 $e_\\textrm{bad}$를 먼저 계산하려 하므로 오류가 발생할 것이다.\n",
    "하지만 함수 적용부터 우선하는 전략인 게으른 값계산에 따르면 끝까지 계산되지 않은 $e_\\textrm{bad}$가 함수 파라메터 $x$에\n",
    "넘어가지만 $v$에 $x$에 의존하지 않으므로 $x$에 넘어간 $e_\\textrm{bad}$는 계산할 필요 없이 버려지며 계산 결과값은 $v$가 된다.\n",
    "실제로 하스켈로 $(\\lambda x.v)~e_\\textrm{bad}$에 해당하는 프로그램을 작성해 보면 다음과 같이\n",
    "게으른 계산법을 따름을 확인할 수 있다."
   ]
  },
  {
   "cell_type": "code",
   "execution_count": 10,
   "id": "fc07dcdd-eb1c-4fde-a92c-29e1144ed246",
   "metadata": {},
   "outputs": [
    {
     "ename": "",
     "evalue": "",
     "header": "MessageHeader {mhIdentifiers = [\"f06fa2c4-f1ca-4997-8125-797daabe030f\"], mhParentHeader = Just (MessageHeader {mhIdentifiers = [\"f06fa2c4-f1ca-4997-8125-797daabe030f\"], mhParentHeader = Nothing, mhMetadata = Metadata (fromList [(\"recordTiming\",Bool False),(\"deletedCells\",Array []),(\"cellId\",String \"fc07dcdd-eb1c-4fde-a92c-29e1144ed246\")]), mhMessageId = UUID {uuidToString = \"f1627f02-b5d8-40bd-af2e-2ccb53ff77e7\"}, mhSessionId = UUID {uuidToString = \"f06fa2c4-f1ca-4997-8125-797daabe030f\"}, mhUsername = \"\", mhMsgType = ExecuteRequestMessage, mhBuffers = []}), mhMetadata = Metadata (fromList []), mhMessageId = UUID {uuidToString = \"1f61d6c9-7794-4f20-8313-bcef9d7ade58\"}, mhSessionId = UUID {uuidToString = \"f06fa2c4-f1ca-4997-8125-797daabe030f\"}, mhUsername = \"\", mhMsgType = ExecuteErrorMessage, mhBuffers = []}",
     "output_type": "error",
     "traceback": [
      "bad\nCallStack (from HasCallStack):\n  error, called at <interactive>:1:1 in interactive:Ghci300"
     ]
    }
   ],
   "source": [
    "error \"bad\"                 -- 오류를 발생시키는 error 함수의 실행 예시"
   ]
  },
  {
   "cell_type": "code",
   "execution_count": 11,
   "id": "c99127a5-fed0-4df5-b595-0ef064389fdc",
   "metadata": {},
   "outputs": [
    {
     "data": {
      "text/plain": [
       "\"good\""
      ]
     },
     "metadata": {},
     "output_type": "display_data"
    }
   ],
   "source": [
    "(\\x -> \"good\") (error \"bad\") -- 적극적 값계산에 따르면 오류가 발생해야"
   ]
  },
  {
   "cell_type": "markdown",
   "id": "63cfbb56-0e58-43cb-8819-0621ca7a8e3a",
   "metadata": {},
   "source": [
    "# 하스켈에서 변수와 함수의 선언\n",
    "\n",
    "앞절에서 람다계산법과 하스켈의 관계에 대해 간단히 알아보았다.\n",
    "여기서는 하스켈에서 람다계산법 이외의 추가적 문법요소 중 가장 기본적인 변수와 함수의 선언에 대해 알아본다."
   ]
  },
  {
   "cell_type": "markdown",
   "id": "6d274ff4-5b87-4484-9f4b-3fd8cf259c81",
   "metadata": {},
   "source": [
    "## 지역 선언과 전역 선언\n",
    "지역변수는 let식으로 선언하여 그 안에서만 활용한다."
   ]
  },
  {
   "cell_type": "code",
   "execution_count": 12,
   "id": "80a7160a-9d6d-4d11-8e41-88e9eeadbe4c",
   "metadata": {},
   "outputs": [
    {
     "data": {
      "text/plain": [
       "10"
      ]
     },
     "metadata": {},
     "output_type": "display_data"
    }
   ],
   "source": [
    "let x1 = 5 in x1 + x1         -- 지역번수를 선언하여 활용하는 let식"
   ]
  },
  {
   "cell_type": "code",
   "execution_count": 13,
   "id": "566c8ee0-008f-4a72-b43b-255d21ebfb3c",
   "metadata": {},
   "outputs": [
    {
     "data": {
      "text/plain": [
       "49"
      ]
     },
     "metadata": {},
     "output_type": "display_data"
    }
   ],
   "source": [
    "let f1 = \\x -> x * x in f1 7  -- 지역변수를 함수값을 나타내는 람다식으로 정의"
   ]
  },
  {
   "cell_type": "code",
   "execution_count": 14,
   "id": "8a8de4ba-9a29-40dc-978d-48010333d263",
   "metadata": {},
   "outputs": [
    {
     "data": {
      "text/plain": [
       "25"
      ]
     },
     "metadata": {},
     "output_type": "display_data"
    }
   ],
   "source": [
    "let x1 = 5                 -- 여러개의 지역변수가 필요하다면\n",
    " in let f1 = \\x -> x * x   -- 이렇게 let식을 중첩해서 선언하고\n",
    "     in f1 x1              -- 활용하면 된다. (들여쓰기 필요!)"
   ]
  },
  {
   "cell_type": "code",
   "execution_count": 15,
   "id": "6a8a3452-1758-4b7d-9fdc-ad583910cdb2",
   "metadata": {},
   "outputs": [
    {
     "data": {
      "text/plain": [
       "25"
      ]
     },
     "metadata": {},
     "output_type": "display_data"
    }
   ],
   "source": [
    "let x1 = 5                 -- 이렇게 하나의 let식으로 한꺼번에\n",
    "    f1 = \\x -> x * x       -- 여러개의 지역번수를 선언하여\n",
    " in f1 x1                  -- 활용 가능하다. (들여쓰기 필요!)"
   ]
  },
  {
   "cell_type": "code",
   "execution_count": 16,
   "id": "0d78cbfc-5c75-439b-8db0-8a9f5d2a36b5",
   "metadata": {},
   "outputs": [
    {
     "ename": "",
     "evalue": "",
     "header": "MessageHeader {mhIdentifiers = [\"f06fa2c4-f1ca-4997-8125-797daabe030f\"], mhParentHeader = Just (MessageHeader {mhIdentifiers = [\"f06fa2c4-f1ca-4997-8125-797daabe030f\"], mhParentHeader = Nothing, mhMetadata = Metadata (fromList [(\"recordTiming\",Bool False),(\"deletedCells\",Array []),(\"cellId\",String \"0d78cbfc-5c75-439b-8db0-8a9f5d2a36b5\")]), mhMessageId = UUID {uuidToString = \"cedf327d-4e1f-4023-b083-fdbaba86ddf6\"}, mhSessionId = UUID {uuidToString = \"f06fa2c4-f1ca-4997-8125-797daabe030f\"}, mhUsername = \"\", mhMsgType = ExecuteRequestMessage, mhBuffers = []}), mhMetadata = Metadata (fromList []), mhMessageId = UUID {uuidToString = \"7b23940c-3e4c-4db5-8888-6e92de065e15\"}, mhSessionId = UUID {uuidToString = \"f06fa2c4-f1ca-4997-8125-797daabe030f\"}, mhUsername = \"\", mhMsgType = ExecuteErrorMessage, mhBuffers = []}",
     "output_type": "error",
     "traceback": [
      "<interactive>:1:1: error: Variable not in scope: f1 :: t0 -> t\n<interactive>:1:4: error: Variable not in scope: x1"
     ]
    }
   ],
   "source": [
    "f1 x1                -- 지역변수는 범위를 벗어난 곳에서 접근 불가"
   ]
  },
  {
   "cell_type": "markdown",
   "id": "3e631f5b-3b61-4002-9926-75cbf4b38a74",
   "metadata": {},
   "source": [
    "\\noindent\n",
    "전역변수는 별도의 키워드 없이 등식의 형태로 독립적으로 선언한다."
   ]
  },
  {
   "cell_type": "code",
   "execution_count": 17,
   "id": "1a83a0ad-6aad-4341-b2b7-04095e63d082",
   "metadata": {},
   "outputs": [],
   "source": [
    "x2 = 5            -- 전역변수 선언에는 키워드(예약어) 필요없음"
   ]
  },
  {
   "cell_type": "code",
   "execution_count": 18,
   "id": "b27c3e0f-1fa8-4629-a252-7f4cc96f003c",
   "metadata": {},
   "outputs": [
    {
     "data": {
      "text/plain": [
       "10"
      ]
     },
     "metadata": {},
     "output_type": "display_data"
    }
   ],
   "source": [
    "x2 + x2           -- 다른 셀의 계산식에서 활용 가능"
   ]
  },
  {
   "cell_type": "code",
   "execution_count": 19,
   "id": "4bfe563a-f805-47c2-92b4-18a9a2d678c2",
   "metadata": {},
   "outputs": [
    {
     "data": {
      "text/plain": [
       "10"
      ]
     },
     "metadata": {},
     "output_type": "display_data"
    }
   ],
   "source": [
    "x2 = 5            -- 하나의 셀에서 선언과\n",
    "x2 + x2           -- 계산식을 섞어 쓸 수도 있다"
   ]
  },
  {
   "cell_type": "code",
   "execution_count": 20,
   "id": "ea7eb6eb-c476-40c7-b649-6ef8c2941293",
   "metadata": {},
   "outputs": [
    {
     "data": {
      "text/plain": [
       "49"
      ]
     },
     "metadata": {},
     "output_type": "display_data"
    }
   ],
   "source": [
    "f2 = \\x -> x * x  -- 전역변수를 함수값을 나타내는 람다식으로 정의\n",
    "f2 7"
   ]
  },
  {
   "cell_type": "code",
   "execution_count": 21,
   "id": "5b17dea7-7ccd-4a3e-ab73-e31277aa22f7",
   "metadata": {},
   "outputs": [
    {
     "data": {
      "text/plain": [
       "25"
      ]
     },
     "metadata": {},
     "output_type": "display_data"
    }
   ],
   "source": [
    "f2 x2             -- 전역변수에는 이렇게 다른 셀에서도 접근 가능 "
   ]
  },
  {
   "cell_type": "markdown",
   "id": "3f946555-cb2f-4bfa-808b-f70a92c85547",
   "metadata": {},
   "source": [
    "또 다른 형태의 `where` 키워드를 이용한 지역 선언이 있다.\n",
    "`let x = e1 in e`형태의 let식은 그 자체가 식(expression)으로\n",
    "전체 let식의 값은 곧 `e`를 계산한 값과 같으며, 단지 `e`에서 활용할\n",
    "지역변수를 그에 앞서 선했을 따름이다. 식의 계산에 앞서 보조적인 지역 선언을\n",
    "하는 let과 대조적으로, 선언(declaration)의 뒤에서 보조적인\n",
    "지역 선언을 하는 키워드가 where이다. 같은 내용의 두 선언을 아래와 같이\n",
    "하나는 where로 또다른 하나는 let식으로 표현해 보았다."
   ]
  },
  {
   "cell_type": "code",
   "execution_count": 22,
   "id": "dfb1e3c6-97ad-4982-abb3-6baada2ff930",
   "metadata": {},
   "outputs": [],
   "source": [
    "circleArea   =  pi * r^2 where r = 3\n",
    "\n",
    "circleArea'  =  let r = 3 in pi * r^2"
   ]
  },
  {
   "cell_type": "code",
   "execution_count": 23,
   "id": "6f139480-f8e5-4211-bc37-ffaaa4a8f878",
   "metadata": {},
   "outputs": [
    {
     "data": {
      "text/plain": [
       "28.274333882308138"
      ]
     },
     "metadata": {},
     "output_type": "display_data"
    },
    {
     "data": {
      "text/plain": [
       "28.274333882308138"
      ]
     },
     "metadata": {},
     "output_type": "display_data"
    }
   ],
   "source": [
    "circleArea\n",
    "\n",
    "circleArea'"
   ]
  },
  {
   "cell_type": "code",
   "execution_count": 24,
   "id": "8421f1df-cdfc-4f06-8a2a-3fa36e1b4e84",
   "metadata": {},
   "outputs": [
    {
     "data": {
      "text/plain": [
       "3.141592653589793"
      ]
     },
     "metadata": {},
     "output_type": "display_data"
    }
   ],
   "source": [
    "pi  -- 참고로 pi는 표준라이브러리에서 정의해 놓은 변수다"
   ]
  },
  {
   "cell_type": "code",
   "execution_count": 25,
   "id": "d31a084a-ae59-469f-a8d3-ec72f818773f",
   "metadata": {},
   "outputs": [],
   "source": [
    "rectArea = x * y\n",
    "         where     \n",
    "           x = 3   -- 두 개 이상의 지역 변수도 한꺼번에\n",
    "           y = 4   -- where로 선언 가능 (들여쓰기 필요!)"
   ]
  },
  {
   "cell_type": "code",
   "execution_count": 26,
   "id": "4d707cf2-5811-4b9a-b3d6-53439df7d71a",
   "metadata": {},
   "outputs": [
    {
     "data": {
      "text/plain": [
       "12"
      ]
     },
     "metadata": {},
     "output_type": "display_data"
    }
   ],
   "source": [
    "rectArea"
   ]
  },
  {
   "cell_type": "markdown",
   "id": "1b951707-76ed-4fef-8e8e-6c9e847c260c",
   "metadata": {},
   "source": [
    "## 간략한 형태의 함수 선언과 함수요약식\n",
    "람다식으로 선언하는 `f = \\x -> e` 대신 `f x = e` 형태로도 함수를 선언할 수 있다."
   ]
  },
  {
   "cell_type": "code",
   "execution_count": 27,
   "id": "6d633070-55fd-4fb4-b9bf-ee5dd370bed7",
   "metadata": {},
   "outputs": [],
   "source": [
    "f2 = \\x -> x * x  -- 함수요약식의 파라미터를 등호의 왼쪽으로 보내\n",
    "f2'   x  = x * x  -- 람다식보다 더 간결한 형태로 똑같은 함수 선언"
   ]
  },
  {
   "cell_type": "code",
   "execution_count": 28,
   "id": "89d7f754-6bc6-44ee-b84b-4b9d8011dd41",
   "metadata": {},
   "outputs": [
    {
     "data": {
      "text/plain": [
       "81"
      ]
     },
     "metadata": {},
     "output_type": "display_data"
    },
    {
     "data": {
      "text/plain": [
       "81"
      ]
     },
     "metadata": {},
     "output_type": "display_data"
    }
   ],
   "source": [
    "f2  9\n",
    "f2' 9"
   ]
  },
  {
   "cell_type": "code",
   "execution_count": 29,
   "id": "112cbb93-311d-48d1-9ee8-905522988c06",
   "metadata": {},
   "outputs": [],
   "source": [
    "f3 = \\x -> \\y -> x + y   -- 두 개 이상 중첩된 람다식으로 선언된 함수를\n",
    "f3'   x  = \\y -> x + y   -- 등호 왼쪽으로 가장 바깥의 파라메터를 옮기고\n",
    "f3''  x     y  = x + y   -- 또 그 다음 파라메터도 옮겨서 이렇게 선언"
   ]
  },
  {
   "cell_type": "code",
   "execution_count": 30,
   "id": "6192a97e-b599-4f25-8b70-97d844d22c31",
   "metadata": {},
   "outputs": [
    {
     "data": {
      "text/plain": [
       "9"
      ]
     },
     "metadata": {},
     "output_type": "display_data"
    },
    {
     "data": {
      "text/plain": [
       "9"
      ]
     },
     "metadata": {},
     "output_type": "display_data"
    },
    {
     "data": {
      "text/plain": [
       "9"
      ]
     },
     "metadata": {},
     "output_type": "display_data"
    }
   ],
   "source": [
    "f3   4 5\n",
    "f3'  4 5\n",
    "f3'' 4 5"
   ]
  },
  {
   "cell_type": "markdown",
   "id": "f722ee5c-d56e-4ab3-be0d-2bdaf4c09afe",
   "metadata": {},
   "source": [
    "\\noindent\n",
    "람다식의 구체적 문법에서 함수 적용은 좌결합(left associative)이며 하스켈에서도 마찬가지다.\n",
    "즉, 위의 셀에서 연이은 함수적용식 `f3 4 5`는 `(f3 4) 5`와 같은 뜻이다. 그리고 `\\x -> \\y -> e`는\n",
    "`\\x ->(\\y -> e)`와 같은 뜻이며, 이처럼 연달아 겹쳐진 함수요약식을 하스켈에서는\n",
    "`\\x y -> e`로 간략화해 작성할 수 있다."
   ]
  },
  {
   "cell_type": "code",
   "execution_count": 31,
   "id": "3ad0af97-f2de-4554-baa1-bc4530d4c17e",
   "metadata": {},
   "outputs": [
    {
     "data": {
      "text/plain": [
       "9"
      ]
     },
     "metadata": {},
     "output_type": "display_data"
    },
    {
     "data": {
      "text/plain": [
       "9"
      ]
     },
     "metadata": {},
     "output_type": "display_data"
    },
    {
     "data": {
      "text/plain": [
       "9"
      ]
     },
     "metadata": {},
     "output_type": "display_data"
    }
   ],
   "source": [
    "(\\x -> \\y -> x + y ) 4 5\n",
    "(\\x ->(\\y -> x + y)) 4 5\n",
    "(\\x     y -> x + y ) 4 5"
   ]
  },
  {
   "cell_type": "markdown",
   "id": "0f3723a2-7962-40b7-9dc5-2c3cd7c013be",
   "metadata": {},
   "source": [
    "\\noindent\n",
    "참고로, 다른 문법요소가 추가되지 않은 순수한 람다계산법에서는\n",
    "이름, 함수요약, 함수적용의 세 문법요소를 모두 람다식이라고 한다.\n",
    "한편, 그 외의 다양한 문법요소를 포함하는 프로그래밍 언어의\n",
    "소스코드에서 \\`람다식'이란 변수(이름)나 함수적용식의 형태가 아닌\n",
    "`\\x -> e` 형태의 함수요약식만을 일컫는다."
   ]
  },
  {
   "cell_type": "markdown",
   "id": "fba66876-bc19-4415-8624-aad2ebe33465",
   "metadata": {},
   "source": [
    "# 튜플과 패턴\n",
    "하스켈에서는 순서쌍을 가장 익숙한 표기법대로 표현할 수 있으며,\n",
    "각 요소가 계산이 완료된 순서쌍은 그 자체로 계산이 완료된 값이다."
   ]
  },
  {
   "cell_type": "code",
   "execution_count": 32,
   "id": "0771979b-9399-46e8-b902-27039fb9f270",
   "metadata": {},
   "outputs": [
    {
     "data": {
      "text/plain": [
       "(3,4)"
      ]
     },
     "metadata": {},
     "output_type": "display_data"
    },
    {
     "data": {
      "text/plain": [
       "(\"hello\",99)"
      ]
     },
     "metadata": {},
     "output_type": "display_data"
    },
    {
     "data": {
      "text/plain": [
       "((3,4),(\"hello\",99))"
      ]
     },
     "metadata": {},
     "output_type": "display_data"
    }
   ],
   "source": [
    "(3, 4)                -- 같은 종류의 값으로 이루어진 순서쌍\n",
    "(\"hello\", 99)         -- 다른 종류의 값으로 이루어진 순서쌍\n",
    "((3,4), (\"hello\",99)) -- 순서쌍을 요소로 갖는 중첩된 순서쌍"
   ]
  },
  {
   "cell_type": "markdown",
   "id": "510dade6-cbc0-49f4-94eb-0cba6620462f",
   "metadata": {},
   "source": [
    "\\noindent\n",
    "두 개의 요소로 이루어진 순서쌍을 일반화한 구조가 튜플(tuple)이며,\n",
    "$n$개의 요소로 이루어진 튜플을 $n$튜플($n$-tuple)이라 한다.\n",
    "즉, $2$튜플을 순서쌍(pair)이라고도 부르는 것이다.\n",
    "그 이상의 요소로 이루어진 $3$튜플, $4$튜플 등도 영어로는 트리플, 쿼드러플 등\n",
    "다른 이름으로 부르기도 하지만 우리말로는 그냥 $n$튜플로 부르는 것이 보통이다.\n",
    "참고로, 여닫는 괄호를 빈칸 없이 붙여 쓰면 아무런 요소를 갖지 않는 빈 튜플을 나타내는데,\n",
    "이를 특별히 \\`유닛'(unit)이라 부르며 실행 결과를 신경쓰지 않는 함수의 계산값으로 주로 사용된다."
   ]
  },
  {
   "cell_type": "code",
   "execution_count": 33,
   "id": "905505f5-5d85-4943-b20e-6bb547ca6d89",
   "metadata": {},
   "outputs": [
    {
     "data": {
      "text/plain": [
       "()"
      ]
     },
     "metadata": {},
     "output_type": "display_data"
    },
    {
     "data": {
      "text/plain": [
       "(1,\"two\")"
      ]
     },
     "metadata": {},
     "output_type": "display_data"
    },
    {
     "data": {
      "text/plain": [
       "(1,\"two\",3)"
      ]
     },
     "metadata": {},
     "output_type": "display_data"
    },
    {
     "data": {
      "text/plain": [
       "(1,\"two\",3,\"four\")"
      ]
     },
     "metadata": {},
     "output_type": "display_data"
    }
   ],
   "source": [
    "()                   -- 0-tuple (unit)\n",
    "(1,\"two\")            -- 2-tuple (pair)\n",
    "(1,\"two\",3)          -- 3-tuple (triple)\n",
    "(1,\"two\",3,\"four\")   -- 4-tuple (quadruple)"
   ]
  },
  {
   "cell_type": "raw",
   "id": "ba8fbb92-c4d5-4d6f-8ff7-e683ac0d0c2b",
   "metadata": {},
   "source": [
    "~\\\\[-3ex]"
   ]
  },
  {
   "cell_type": "markdown",
   "id": "056bdf8f-6820-4f75-8c2c-1c4c4570d854",
   "metadata": {},
   "source": [
    "그런데, $1$튜플($1$-tuple)은 하스켈에 없다. 왜냐하면, 어차피 하나의 요소만으로\n",
    "이루어진 튜플을 굳이 만들 필요도 없이 그 요소 자체를 사용하면 되기 때문이다.\n",
    "산술식 `((2 + 3) + 4)`에서 필요없는 괄호을 생략해 `2 + 3 + 4`로 표현할 수 있는 것처럼,\n",
    "그러니까 `(e)`는 1튜플이 아니라 그냥 `e`에 괄호를 둘렀을 뿐이다."
   ]
  },
  {
   "cell_type": "code",
   "execution_count": 34,
   "id": "2846c0e7-5d81-48ed-a7e7-3c6e16f74eea",
   "metadata": {},
   "outputs": [
    {
     "data": {
      "text/plain": [
       "9"
      ]
     },
     "metadata": {},
     "output_type": "display_data"
    },
    {
     "data": {
      "text/plain": [
       "9"
      ]
     },
     "metadata": {},
     "output_type": "display_data"
    },
    {
     "data": {
      "text/plain": [
       "9"
      ]
     },
     "metadata": {},
     "output_type": "display_data"
    },
    {
     "data": {
      "text/plain": [
       "9"
      ]
     },
     "metadata": {},
     "output_type": "display_data"
    }
   ],
   "source": [
    "(9)\n",
    "9\n",
    "((2 + 3) + 4)\n",
    "2 + 3 + 4"
   ]
  },
  {
   "cell_type": "markdown",
   "id": "f30d3d8e-d9dd-48fc-b24b-afd47f7b8590",
   "metadata": {},
   "source": [
    "튜플 중에서도 가장 자주 활용되는 순서쌍의 첫째와 둘째 요소를 선택하는\n",
    "함수 `fst`와 `snd`를 하스켈 표준라이브러리에서 기본적으로 제공한다."
   ]
  },
  {
   "cell_type": "code",
   "execution_count": 35,
   "id": "14e8053c-0e3f-4cd9-a1d2-f6306e35ccb7",
   "metadata": {},
   "outputs": [
    {
     "data": {
      "text/plain": [
       "3"
      ]
     },
     "metadata": {},
     "output_type": "display_data"
    },
    {
     "data": {
      "text/plain": [
       "4"
      ]
     },
     "metadata": {},
     "output_type": "display_data"
    }
   ],
   "source": [
    "p1 = (3,4) \n",
    "\n",
    "fst p1\n",
    "snd p1"
   ]
  },
  {
   "cell_type": "code",
   "execution_count": 36,
   "id": "6983503f-7a57-4608-a174-27073b743b3f",
   "metadata": {},
   "outputs": [
    {
     "data": {
      "text/plain": [
       "7"
      ]
     },
     "metadata": {},
     "output_type": "display_data"
    }
   ],
   "source": [
    "x1 = fst p1  -- 순서쌍의 요소를 뽑아 하나씩\n",
    "y1 = snd p1  -- 하나씩 변수들로 선언해 놓고\n",
    "\n",
    "x1 + y1      -- 필요한 곳에 활용"
   ]
  },
  {
   "cell_type": "markdown",
   "id": "9c65112c-7713-4a95-a91f-c370e6d81f0a",
   "metadata": {},
   "source": [
    "변수 선언을 일반화한 패턴(pattern)으로\n",
    "순서쌍과 같은 구조의 여러 요소에 대해 한꺼번에 여러 변수를 선언할 수 있다.\n",
    "선언의 왼쪽에 순서쌍 패턴, 즉 변수 대신 순서쌍의 구조를 나타내는 괄호와 쉼표를 표시하고\n",
    "각 요소들의 위치에 새로운 변수 이름들을 작성하면 된다. 뒤집어 말하자면\n",
    "지금까지 살펴본 선언에서 변수란 구조 전체를 대표하는 가장 단순한 패턴으로 이해할 수 있다."
   ]
  },
  {
   "cell_type": "code",
   "execution_count": 37,
   "id": "33a4d5a4-aa3e-45b1-9346-2eea55679d96",
   "metadata": {},
   "outputs": [],
   "source": [
    "(x2,y2) = p1  -- 순서쌍 p1의 첫째,둘째 요소가 x2,y2로 선언됨"
   ]
  },
  {
   "cell_type": "code",
   "execution_count": 38,
   "id": "2dc3528e-732b-4784-b98f-70aa532a149d",
   "metadata": {},
   "outputs": [
    {
     "data": {
      "text/plain": [
       "(3,4)"
      ]
     },
     "metadata": {},
     "output_type": "display_data"
    },
    {
     "data": {
      "text/plain": [
       "3"
      ]
     },
     "metadata": {},
     "output_type": "display_data"
    },
    {
     "data": {
      "text/plain": [
       "3"
      ]
     },
     "metadata": {},
     "output_type": "display_data"
    }
   ],
   "source": [
    "p1\n",
    "x1\n",
    "x2"
   ]
  },
  {
   "cell_type": "markdown",
   "id": "2fc03eda-f1af-4962-98c3-8a5dd543ee1f",
   "metadata": {},
   "source": [
    "\\noindent\n",
    "필요하다면 `@`기호로 전체 구조를 대표하는 변수도 각각의 요소에 대한 변수와 함께 한꺼번에 선언 가능하다"
   ]
  },
  {
   "cell_type": "code",
   "execution_count": 39,
   "id": "7298f0fe-36a9-423b-a81a-6f2b72d17129",
   "metadata": {},
   "outputs": [],
   "source": [
    "p3@(x3,y3) = p1 -- 순서쌍 p1 전체와 첫째,둘째 요소가 p3와 x3,y3로 선언됨"
   ]
  },
  {
   "cell_type": "code",
   "execution_count": 40,
   "id": "c6daaff3-8e04-489b-9b3e-b99968c4d473",
   "metadata": {},
   "outputs": [
    {
     "data": {
      "text/plain": [
       "(3,4)"
      ]
     },
     "metadata": {},
     "output_type": "display_data"
    },
    {
     "data": {
      "text/plain": [
       "(3,4)"
      ]
     },
     "metadata": {},
     "output_type": "display_data"
    },
    {
     "data": {
      "text/plain": [
       "3"
      ]
     },
     "metadata": {},
     "output_type": "display_data"
    },
    {
     "data": {
      "text/plain": [
       "4"
      ]
     },
     "metadata": {},
     "output_type": "display_data"
    }
   ],
   "source": [
    "p1\n",
    "p3\n",
    "x3\n",
    "y3"
   ]
  },
  {
   "cell_type": "markdown",
   "id": "f3c4a0e4-6146-4f6a-87bb-e70900fbf617",
   "metadata": {},
   "source": [
    "전역 선언 외에도 함수 파라메터 등 새로운 변수가 선언되는 곳에는 일반적으로 패턴이 올 수 있다."
   ]
  },
  {
   "cell_type": "code",
   "execution_count": 41,
   "id": "c51ebbab-7285-421e-bc44-b2f709b8265a",
   "metadata": {},
   "outputs": [
    {
     "data": {
      "text/plain": [
       "(3,4)"
      ]
     },
     "metadata": {},
     "output_type": "display_data"
    },
    {
     "data": {
      "text/plain": [
       "3"
      ]
     },
     "metadata": {},
     "output_type": "display_data"
    },
    {
     "data": {
      "text/plain": [
       "4"
      ]
     },
     "metadata": {},
     "output_type": "display_data"
    }
   ],
   "source": [
    "p1\n",
    "(\\(x,y) -> x) p1\n",
    "(\\(x,y) -> y) p1"
   ]
  },
  {
   "cell_type": "markdown",
   "id": "5924e833-baa7-4fd3-b6f0-6d24ed1f8bd2",
   "metadata": {},
   "source": [
    "\\noindent\n",
    "순서쌍의 요소를 선택하는 표준라이브러리 함수 `fst`와 `snd`도 사실은 패턴으로 작성되어 있다.\n",
    "마찬가지 역할을 하는 `myfst`와 `mysnd`를 다음과 같이 선언하여 활용할 수 있다."
   ]
  },
  {
   "cell_type": "code",
   "execution_count": 42,
   "id": "08289ccb-8241-464a-8986-9d023efcbf96",
   "metadata": {},
   "outputs": [
    {
     "data": {
      "text/plain": [
       "3"
      ]
     },
     "metadata": {},
     "output_type": "display_data"
    },
    {
     "data": {
      "text/plain": [
       "4"
      ]
     },
     "metadata": {},
     "output_type": "display_data"
    }
   ],
   "source": [
    "myfst = \\(x,y) -> x\n",
    "mysnd    (x,y) =  y\n",
    "\n",
    "myfst p1\n",
    "mysnd p1"
   ]
  },
  {
   "cell_type": "markdown",
   "id": "25e7e0d7-c8cf-418f-aa3b-01257b11b967",
   "metadata": {},
   "source": [
    "위의 `myfst` 선언에서 `y`와 `mysnd` 선언에서 `x`는 쓰이지 않는다.\n",
    "이렇게 패턴에서 쓰이지 않는 요소를 와일드카드 패턴(`_`)으로 표시하면\n",
    "코드의 가독성을 높일 수 있다."
   ]
  },
  {
   "cell_type": "code",
   "execution_count": 43,
   "id": "ec285524-649b-4d9b-8607-08d31ffbc921",
   "metadata": {},
   "outputs": [
    {
     "data": {
      "text/plain": [
       "3"
      ]
     },
     "metadata": {},
     "output_type": "display_data"
    },
    {
     "data": {
      "text/plain": [
       "4"
      ]
     },
     "metadata": {},
     "output_type": "display_data"
    }
   ],
   "source": [
    "myfst = \\(x,_) -> x  -- 선언되기만 하고 쓰이지 않는 변수 대신\n",
    "mysnd    (_,y) =  y  -- 와일드카드 패턴을 사용하면 좋다\n",
    "\n",
    "myfst p1\n",
    "mysnd p1"
   ]
  },
  {
   "cell_type": "markdown",
   "id": "b4ef5b75-edc9-4e06-a541-fdd69747972f",
   "metadata": {},
   "source": [
    "\\noindent\n",
    "인자를 무시하고 0만 돌려주는 함수도 와일드카드 패턴으로 선언할 수 있다."
   ]
  },
  {
   "cell_type": "code",
   "execution_count": 50,
   "id": "0f088ad1-1272-4b8f-b422-45b7578e6731",
   "metadata": {},
   "outputs": [
    {
     "data": {
      "text/plain": [
       "0"
      ]
     },
     "metadata": {},
     "output_type": "display_data"
    },
    {
     "data": {
      "text/plain": [
       "0"
      ]
     },
     "metadata": {},
     "output_type": "display_data"
    }
   ],
   "source": [
    "f0 _ = 0   -- 패턴 전체를 와일드카드 패턴으로 작성하는 것도 가능하다\n",
    "\n",
    "f0 12\n",
    "f0 999"
   ]
  },
  {
   "cell_type": "markdown",
   "id": "931265dd-f900-4bf2-b2fb-075ab1ebd93b",
   "metadata": {},
   "source": [
    "여기서 다룬 튜플에 대한 패턴 외에도 정수 등의 기본타입이나\n",
    "리스트 및 다른 사용자 정의 데이터 구조에 대한 패턴도 하스켈에 지원한다.\n",
    "패턴에 대한 추가적인 내용은 그러한 내용을 활용하는 예제를 다루면서\n",
    "자연스럽게 친숙해지기로 하자. 좀더 차근차근 하스켈의 문법요소를\n",
    "살펴보고 싶다면 하스켈 프로그래밍을 주제로 하는 교재\\cite{Hutton2016pih2nd}를 참고하라."
   ]
  },
  {
   "cell_type": "markdown",
   "id": "37e05b56-6250-4dd3-b330-dfa9b47d37d1",
   "metadata": {},
   "source": [
    "# 타입있는 람다계산법과 하스켈\n",
    "지금까지 하스켈 소스코드에서 타입이 단 한 번도 등장하지 않았다.\n",
    "다만 에러 메시지에는 타입에 대한 내용이 나오기는 했다.\n",
    "그렇다고 해서 하스켈이 실행 중에만 타입을 따지는 동적 타입 언어는 결코 아니며\n",
    "사실 학계의 연구 결과를 상당히 적극적으로 반영하여 매우 정교한 정적 타입 시스템이\n",
    "돋보이는 언어다. 그럼에도 하스켈 소스코드에서 타입에 대한 정보가 번잡스럽게\n",
    "많이 나타나지 않는 까닭은 프로그래머가 타입 정보를 세세하게 작성하지 않아도\n",
    "컴파일러가 자동으로 타입을 유추해 주는 기능을 잘 구현하고 있기 때문이다.\n",
    "참고로, 타입 유추(type inferene)에 관해 선구적인 업적을 남긴 대표적인 학자가\n",
    "바로 앞서 ML의 창시자로 소개한 로빈 밀너(Robin Milner)로 (그림 \\ref{fig:McCarthyMilner}),\n",
    "ML과 Haskell을 포함한 많은 함수형 언어의 타입 시스템이 그의 연구를 바탕으로 하고 있다.\n",
    "여기서는 타입 유추에 대한 내용보다는, 앞서 타입없는 람다계산법을 하스켈과 관련지어\n",
    "설명한 것처럼, 타입있는 람다계산법과 하스켈을 관련지어 설명한다.\n",
    "\n",
    "람다계산법의 창시자인 알론조 처치는 그의 람다계산법을 논리체계와 연관짓고자 할 때\n",
    "타입이 없어서 발생하는 모순(paradox)을 피하고자 람다계산법에 타입을 추가하였으며\n",
    "그 이후로도 더욱 다양한 기능의 타입을 갖추도록 변경된 람다계산법의 연구되었는데,\n",
    "이런 부류의 람다계산법을 통틀어 타입있는 람다계산법(typed $\\lambda$-calculus)라고 부르며\n",
    "그에 대비되는 원래 알론조 처치가 맨 처음 창시한 가장 단순한 형태의 람다계산법을\n",
    "타입없는 람다계산법(untyped lambda calculus)라고 부른다."
   ]
  },
  {
   "cell_type": "code",
   "execution_count": 46,
   "id": "09a3fcec-4763-4c04-90e9-e63307d8eb2a",
   "metadata": {},
   "outputs": [],
   "source": [
    "fu  x y  = y - x\n",
    "fc (x,y) = y - x"
   ]
  },
  {
   "cell_type": "code",
   "execution_count": 47,
   "id": "26b2c67e-db55-4d48-84e3-ce90cfde8bd6",
   "metadata": {},
   "outputs": [
    {
     "data": {
      "text/plain": [
       "4"
      ]
     },
     "metadata": {},
     "output_type": "display_data"
    },
    {
     "data": {
      "text/plain": [
       "4"
      ]
     },
     "metadata": {},
     "output_type": "display_data"
    }
   ],
   "source": [
    "fu  3 7\n",
    "fc (3,7)"
   ]
  },
  {
   "cell_type": "code",
   "execution_count": 48,
   "id": "6a071295-d33e-46b6-98f8-13720305c1b0",
   "metadata": {},
   "outputs": [
    {
     "data": {
      "text/plain": [
       "4"
      ]
     },
     "metadata": {},
     "output_type": "display_data"
    }
   ],
   "source": [
    "p1 = (3,7)\n",
    "fc p1"
   ]
  },
  {
   "cell_type": "code",
   "execution_count": 49,
   "id": "a8c628c6-c034-47bf-ae00-64cf44f41ddd",
   "metadata": {},
   "outputs": [
    {
     "data": {
      "text/plain": [
       "3"
      ]
     },
     "metadata": {},
     "output_type": "display_data"
    }
   ],
   "source": [
    "let x = z where z = 3\n",
    " in x"
   ]
  },
  {
   "cell_type": "code",
   "execution_count": null,
   "id": "83886be2-113b-405c-9e4a-4fb97c44fd9c",
   "metadata": {},
   "outputs": [],
   "source": []
  }
 ],
 "metadata": {
  "kernelspec": {
   "display_name": "Haskell",
   "language": "haskell",
   "name": "haskell"
  },
  "language_info": {
   "codemirror_mode": "ihaskell",
   "file_extension": ".hs",
   "mimetype": "text/x-haskell",
   "name": "haskell",
   "pygments_lexer": "Haskell",
   "version": "8.10.7"
  }
 },
 "nbformat": 4,
 "nbformat_minor": 5
}
