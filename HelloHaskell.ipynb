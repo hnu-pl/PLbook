{
 "cells": [
  {
   "cell_type": "raw",
   "id": "56cc8b61-7578-46ba-b558-f7ec4b0baaf4",
   "metadata": {},
   "source": [
    "\\section{람다계산법과 하스켈}\n",
    "\n",
    "%% \\fvset{numbers=left,numbersep=3pt}\n"
   ]
  },
  {
   "cell_type": "markdown",
   "id": "b1f08f09-1869-4ffe-84f1-29ff70f2eb2f",
   "metadata": {},
   "source": [
    "앞서 람다계산법의 문법구조(그림 \\ref{fig:ChurchDeBruijn})를 소개하며\n",
    "수학에서 보통 $f(x)=e$ 형태로 정의되는 함수를 람다식으로는 이름을 붙이지 않고\n",
    "$\\lambda x.e$ 형태의 함수요약(function abstraction)식으로 표현한다고 설명했다.\n",
    "여기서는 $e_1~e_2$ 형태의 함수적용(function application)식을 포함한\n",
    "람다계산법의 의미구조(그림 \\ref{fig:UTLC})를 정리해 보자. 의미구조를\n",
    "자세히 실펴보기 앞서 먼저 함수적용식 $e_1~e_2$의 의미를 간단히 이야기하자면,\n",
    "수학에서 일반적인 표기로는 $e_1(e_2)$를 뜻한다. 즉, 함수 $f$에 인자 $v$를 넘겨\n",
    "계산한 값을 나타내는 $f(v)$를 람다식으로는 괄호를 쓸 필요 없이 $f~v$로\n",
    "표현할 수 있다는 말이다.\n",
    "\n",
    "그렇다면 람다계산법에서 함수를 인자에 적용해 계산한다는 의미는 구체적으로\n",
    "무엇일까? 함수적용식의 왼쪽이 명백한 함수의 형태, 즉 함수요약식일 때\n",
    "함수 적용 계산 과정의 가장 핵심적인  단계를 진행할 수 있다.\n",
    "즉 $(\\lambda x. e)\\;e_2$ 형태일 때 함수의 파라메터인 $x$에 인자 $e_2$를\n",
    "넘겨 계산을 한 단계 더 진행하면 $\\{x{\\mapsto}e_2\\}e$로 표시되는,\n",
    "$e$에 자유롭게 나타나는 $x$를 $e_2$로 납치없이 바꿔친 식을 얻는다.\n",
    "즉, $(\\lambda x. e)\\;e_2 \\longmapsto \\{x{\\mapsto}e_2\\}e$가 바로\n",
    "함수 적용의 계산과정 중 가장 핵심적인 단계를 나타내는 규칙($\\beta$)으로\n",
    "그림 \\ref{fig:UTLC}에 정리된 작은걸음 의미구조의 규칙들 중 중 가장\n",
    "처음으로 나타나 있다. 이렇게 $\\beta$규칙을 적용해 나감으로써\n",
    "계산을 진행하는 과정을 \\`$\\beta$줄이기' 혹은 \\`$\\beta$줄임'($\\beta$-reduction)이라고\n",
    "하며, $\\beta$규칙을 적용할 수 있는 $(\\lambda x. e)\\;e_2$ 형태의 식을\n",
    "$\\beta$규칙으로 줄어드는 식($\\beta$-reducible expression)의\n",
    "줄임말인 \\`$\\beta$줄식'($\\beta$-redex)이라 부른다.\n",
    "마찬가지로 그 다음에 나타나는 $\\eta$규칙의 경우에도 \\`$\\eta$줄임'($\\eta$-reduction)과\n",
    "\\`$\\eta$줄식'($\\eta$-redex)의 개념을 생각해 볼 수 있다. 당분간은 $\\eta$ 규칙은\n",
    "없이 나머지 규칙($\\beta$,$\\lambda$,$\\textrm{@}_1$,$\\textrm{@}_2$)만 있다고 생각하자."
   ]
  },
  {
   "cell_type": "raw",
   "id": "4246301a-e670-4c87-8b1a-609f2f0be884",
   "metadata": {},
   "source": [
    "\n",
    "\\begin{figure}\n",
    "문법구조\\vspace*{-4.5ex}"
   ]
  },
  {
   "cell_type": "markdown",
   "id": "819e6b37-658c-41bd-bbb4-0a63ed7b3c20",
   "metadata": {},
   "source": [
    "\\begin{align*}\n",
    "e ::=~& x           & {\\scriptsize\\textrm{name}} \\\\\n",
    " \\mid~& \\lambda x.e & {\\scriptsize\\textrm{abstraction}} \\\\\n",
    " \\mid~& e~e         & {\\scriptsize\\textrm{application}}\n",
    "\\end{align*}"
   ]
  },
  {
   "cell_type": "raw",
   "id": "8f507126-5481-4396-bcf9-de2a9a0956e0",
   "metadata": {},
   "source": [
    "작은걸음 의미구조\\vspace*{-1ex}"
   ]
  },
  {
   "cell_type": "markdown",
   "id": "7209aa1b-fdb5-431c-9291-3604c6d627db",
   "metadata": {},
   "source": [
    "$$\n",
    "{\\scriptstyle(\\beta)}\\frac{}{\n",
    "~~(\\lambda x.e)\\;e_2 \\longmapsto \\{x{\\mapsto}e_2\\}e~~}\n",
    "\\qquad\\qquad\n",
    "{\\scriptstyle(\\eta)}\\frac{}{\n",
    "~~\\lambda x.e\\;x \\longmapsto e~~}\n",
    "({\\scriptstyle x\\,\\notin\\mathrm{fv}(e) })\n",
    "$$\n",
    "$$\n",
    "{\\scriptstyle(\\lambda)}\\frac{e\\longmapsto e'}{\n",
    "~~\\lambda x.e \\longmapsto \\lambda x.e'~~}\n",
    "\\qquad\n",
    "{\\scriptstyle(\\textrm{@}_1)}\\frac{e_1\\longmapsto e_1'}{\n",
    "~~e_1\\;e_2 \\longmapsto e_1'\\;e_2~~}\n",
    "\\quad\n",
    "{\\scriptstyle(\\textrm{@}_2)}\\frac{e_2\\longmapsto e_2'}{\n",
    "~~e_1\\;e_2 \\longmapsto e_1\\;e_2'~~}\n",
    "$$"
   ]
  },
  {
   "cell_type": "raw",
   "id": "29fbdbf2-80ef-41ee-9ea6-d7244c49b5c6",
   "metadata": {},
   "source": [
    "\\caption{타입없는 람다계산법(untyped $\\lambda$-calculus)의 문법구조와 의미구조\n",
    "         \\label{fig:UTLC} }\n",
    "\\end{figure}\n"
   ]
  },
  {
   "cell_type": "markdown",
   "id": "9290fcf8-2511-4d37-b100-b11047b1450c",
   "metadata": {},
   "source": [
    "방금 설명한 $\\beta$규칙과 같은 계산이 하스켈 언어에서도 이루어지고 있음을 확인해 보자.\n",
    "우선 이 책에서 실습용으로 작성하는 하스켈 노트북의 첫 셀은 항상 다음과 같이 시작한다.\\footnote{%\n",
    "불필요한 코딩 스타일 제안 메시지를 끄고 필요한 컴파일러 언어 기능 설정을 하는 내용으로,\n",
    "세부사항은 책의 내용을 이해하는 데 큰 관계가 없으니 이해하려 하지 않고 넘어가도 좋다.}"
   ]
  },
  {
   "cell_type": "code",
   "execution_count": 1,
   "id": "1962ae3a-0cf0-464a-b0e9-b70aa5ae3707",
   "metadata": {},
   "outputs": [],
   "source": [
    ":opt no-lint                          -- linter 끄기\n",
    "{-# LANGUAGE ScopedTypeVariables #-} -- 추가 언어 기능 설정"
   ]
  },
  {
   "cell_type": "raw",
   "id": "0bd3b285-5464-41a3-8230-e1849128dfc1",
   "metadata": {},
   "source": [
    "~\\\\[.25ex]\\noindent"
   ]
  },
  {
   "cell_type": "markdown",
   "id": "297eee4a-7ca3-4f71-81c1-8f5781923ff6",
   "metadata": {},
   "source": [
    "하스켈 코드에서는 $\\lambda x.e$와 같은 람다식을 `\\x -> e`와 같이 표현한다.\n",
    "아래와 같이 람다식으로 표현된 함수를 같이 인자에 적용해 보면\n",
    "함수 몸체 $e$에 나타나는 자유로운 $x$를 넘겨받은 인자로 바꿔치기하며 $\\beta$줄임처럼 계산됨을 관찰할 수 있다."
   ]
  },
  {
   "cell_type": "code",
   "execution_count": 2,
   "id": "a9ce8d38-d801-4aed-afb2-adea769bf4ac",
   "metadata": {},
   "outputs": [
    {
     "data": {
      "text/plain": [
       "[7,7,7]"
      ]
     },
     "metadata": {},
     "output_type": "display_data"
    }
   ],
   "source": [
    "(\\x -> [x,x,x]) 7"
   ]
  },
  {
   "cell_type": "code",
   "execution_count": 3,
   "id": "262992c0-e87a-488b-8de9-88b6f5ba00b5",
   "metadata": {},
   "outputs": [
    {
     "data": {
      "text/plain": [
       "[\"go\",\"go\",\"go\"]"
      ]
     },
     "metadata": {},
     "output_type": "display_data"
    }
   ],
   "source": [
    "(\\x -> [x,x,x]) \"go\""
   ]
  },
  {
   "cell_type": "raw",
   "id": "23445703-a534-4511-b14e-f88cbf1298e9",
   "metadata": {},
   "source": [
    "~\\\\[.25ex]\\noindent"
   ]
  },
  {
   "cell_type": "markdown",
   "id": "84ba6b45-595b-4bac-99ec-2b208a7910d9",
   "metadata": {},
   "source": [
    "참고로 다음과 같이 하나의 셀에 여러 개의 식을 여러 줄에 걸쳐 작성하면\n",
    "각각의 식을 실행한 결과를 출력한다."
   ]
  },
  {
   "cell_type": "code",
   "execution_count": 4,
   "id": "7a71a9ff-fd58-477e-999f-905337c70998",
   "metadata": {},
   "outputs": [
    {
     "data": {
      "text/plain": [
       "[7,7,7]"
      ]
     },
     "metadata": {},
     "output_type": "display_data"
    },
    {
     "data": {
      "text/plain": [
       "[\"go\",\"go\",\"go\"]"
      ]
     },
     "metadata": {},
     "output_type": "display_data"
    }
   ],
   "source": [
    "(\\x -> [x,x,x]) 7\n",
    "(\\x -> [x,x,x]) \"go\""
   ]
  },
  {
   "cell_type": "markdown",
   "id": "d5a427dc-9966-4664-9fb6-fdab117a67e2",
   "metadata": {},
   "source": [
    "\\vspace*{1ex}\n",
    "\n",
    "람다식의 의미구조(그림 \\ref{fig:UTLC})에서 $\\beta$규칙과 같이\n",
    "계산 진행 단계의 핵심적인 내용을 표현하는 규칙 이외의\n",
    "$\\lambda$,$\\textrm{@}_1$,$\\textrm{@}_2$와 같은 규칙은\n",
    "여러 부분으로 이루어진 복합식의 어느 부분식에서\n",
    "핵심적인 계산의 내용을 진행시킬지 그 맥락을 정해준다. \n",
    "$\\lambda$규칙은 함수요약식($\\lambda x.e$)의 함수 몸체($e$) 부분이라는 맥락에서,\n",
    "$\\textrm{@}_1$와 $\\textrm{@}_2$규칙은 함수적용식($e_1~e_2$)의\n",
    "함수($e_1$)와 인자($e_2$) 부분이라는 맥락에서 계산을 진행시키는 규칙이다.\n",
    "이렇게 의미구조에서 계산의 핵심적인 내용 자체를 정의하는 것이 아니라\n",
    "복합식의 문법구조에 따라 어떤 맥락(context)에서 계산이 진행될지 정의하는\n",
    "규칙을 맥락규칙(context rule)이라고 부른다.\n",
    "복합식이 그 자체로는 $\\beta$줄식($\\beta$-redex)가 아니더라도\n",
    "맥락규칙에 따라 그 안에 포함된 $\\beta$줄식인 부분식을 찾아\n",
    "거기에 $\\beta$규칙을 적용함으로써 $\\beta$줄이기 계산을 진행시킬 수 있다."
   ]
  },
  {
   "cell_type": "code",
   "execution_count": 5,
   "id": "10d8fee2-d875-468e-ad3a-ee817cc8109c",
   "metadata": {},
   "outputs": [
    {
     "data": {
      "text/plain": [
       "(\"Hello, Haskell\",[7,7,7],\"Bye, Haskell\")"
      ]
     },
     "metadata": {},
     "output_type": "display_data"
    }
   ],
   "source": [
    "(\"Hello, Haskell\", (\\x -> [x,x,x]) 7, \"Bye, Haskell\")"
   ]
  },
  {
   "cell_type": "code",
   "execution_count": 6,
   "id": "ecdca2f9-fa35-44c3-8759-41da8bbf4456",
   "metadata": {},
   "outputs": [
    {
     "data": {
      "text/plain": [
       "(\"Hello, Haskell\",[\"go\",\"go\",\"go\"],\"Bye, Haskell\")"
      ]
     },
     "metadata": {},
     "output_type": "display_data"
    }
   ],
   "source": [
    "(\"Hello, Haskell\", (\\x -> [x,x,x]) \"go\", \"Bye, Haskell\")"
   ]
  },
  {
   "cell_type": "raw",
   "id": "198c5d3a-adc3-49d6-b5eb-52f81dbd5272",
   "metadata": {},
   "source": [
    "~\\\\[-2ex]\\noindent"
   ]
  },
  {
   "cell_type": "markdown",
   "id": "84c3aa24-5d63-4947-a6f9-5841506f656a",
   "metadata": {},
   "source": [
    "하스켈 코드에서도 위와 같이 줄어드는 식이 있는 부분의 맥락을 찾아 계산함을 관찰할 수 있다.\n",
    "\n",
    "\\lipsum[1-2]"
   ]
  },
  {
   "cell_type": "code",
   "execution_count": null,
   "id": "f57e7165-d3f9-440d-915e-f0ae7a9882bd",
   "metadata": {},
   "outputs": [],
   "source": []
  }
 ],
 "metadata": {
  "kernelspec": {
   "display_name": "Haskell",
   "language": "haskell",
   "name": "haskell"
  },
  "language_info": {
   "codemirror_mode": "ihaskell",
   "file_extension": ".hs",
   "mimetype": "text/x-haskell",
   "name": "haskell",
   "pygments_lexer": "Haskell",
   "version": "8.10.7"
  }
 },
 "nbformat": 4,
 "nbformat_minor": 5
}
