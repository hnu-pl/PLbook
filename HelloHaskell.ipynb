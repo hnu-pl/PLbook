{
 "cells": [
  {
   "cell_type": "raw",
   "id": "56cc8b61-7578-46ba-b558-f7ec4b0baaf4",
   "metadata": {},
   "source": [
    "\\section{람다계산법과 하스켈}\n",
    "\n",
    "%% \\fvset{numbers=left,numbersep=3pt}\n"
   ]
  },
  {
   "cell_type": "markdown",
   "id": "b1f08f09-1869-4ffe-84f1-29ff70f2eb2f",
   "metadata": {},
   "source": [
    "앞서 람다계산법의 문법구조(그림 \\ref{fig:ChurchDeBruijn})를 소개하며\n",
    "수학에서 보통 $f(x)=e$ 형태로 정의되는 함수를 람다식으로는 이름을 붙이지 않고\n",
    "$\\lambda x.e$ 형태의 함수요약(function abstraction)식으로 표현한다고 설명했다.\n",
    "여기서는 $e_1~e_2$ 형태의 함수적용(function application)식을 포함한\n",
    "람다계산법의 의미구조(그림 \\ref{fig:UTLC})를 정리해 보자. 의미구조를\n",
    "자세히 실펴보기 앞서 먼저 함수적용식 $e_1~e_2$의 의미를 간단히 이야기하자면,\n",
    "수학에서 일반적인 표기로는 $e_1(e_2)$를 뜻한다. 즉, 함수 $f$에 인자 $v$를 넘겨\n",
    "계산한 값을 나타내는 $f(v)$를 람다식으로는 괄호를 쓸 필요 없이 $f~v$로\n",
    "표현할 수 있다는 말이다.\n",
    "\n",
    "그렇다면 람다계산법에서 함수를 인자에 적용해 계산한다는 의미는 구체적으로\n",
    "무엇일까? 함수적용식의 왼쪽이 명백한 함수의 형태, 즉 함수요약식일 때\n",
    "함수 적용 계산 과정의 가장 핵심적인  단계를 진행할 수 있다.\n",
    "즉 $(\\lambda x. e)\\;e_2$ 형태일 때 함수의 파라메터인 $x$에 인자 $e_2$를\n",
    "넘겨 계산을 한 단계 더 진행하면 $\\{x{\\mapsto}e_2\\}e$로 표시되는,\n",
    "$e$에 자유롭게 나타나는 $x$를 $e_2$로 납치없이 바꿔친 식을 얻는다.\n",
    "즉, $(\\lambda x. e)\\;e_2 \\longmapsto \\{x{\\mapsto}e_2\\}e$가 바로\n",
    "함수 적용의 계산과정 중 가장 핵심적인 단계를 나타내는 규칙($\\beta$)으로\n",
    "그림 \\ref{fig:UTLC}에 정리된 작은걸음 의미구조의 규칙들 중 중 가장\n",
    "처음으로 나타나 있다. 이렇게 $\\beta$규칙을 적용해 나감으로써\n",
    "계산을 진행하는 과정을 \\`$\\beta$줄이기' 혹은 \\`$\\beta$줄임'($\\beta$-reduction)이라고\n",
    "하며, $\\beta$규칙을 적용할 수 있는 $(\\lambda x. e)\\;e_2$ 형태의 식을\n",
    "$\\beta$규칙으로 줄어드는 식($\\beta$-reducible expression)의\n",
    "줄임말인 \\`$\\beta$줄식'($\\beta$-redex)이라 부른다.\n",
    "마찬가지로 그 다음에 나타나는 $\\eta$규칙의 경우에도 \\`$\\eta$줄임'($\\eta$-reduction)과\n",
    "\\`$\\eta$줄식'($\\eta$-redex)의 개념을 생각해 볼 수 있다. 당분간은 $\\eta$ 규칙은\n",
    "없이 나머지 규칙($\\beta$,$\\lambda$,$\\textrm{@}_1$,$\\textrm{@}_2$)만 있다고 생각하자."
   ]
  },
  {
   "cell_type": "raw",
   "id": "4246301a-e670-4c87-8b1a-609f2f0be884",
   "metadata": {},
   "source": [
    "\n",
    "\\begin{figure}\n",
    "문법구조\\vspace*{-4.5ex}"
   ]
  },
  {
   "cell_type": "markdown",
   "id": "819e6b37-658c-41bd-bbb4-0a63ed7b3c20",
   "metadata": {},
   "source": [
    "\\begin{align*}\n",
    "e ::=~& x           & {\\scriptsize\\textrm{name}} \\\\\n",
    " \\mid~& \\lambda x.e & {\\scriptsize\\textrm{abstraction}} \\\\\n",
    " \\mid~& e~e         & {\\scriptsize\\textrm{application}}\n",
    "\\end{align*}"
   ]
  },
  {
   "cell_type": "raw",
   "id": "8f507126-5481-4396-bcf9-de2a9a0956e0",
   "metadata": {},
   "source": [
    "작은걸음 의미구조\\vspace*{-1ex}"
   ]
  },
  {
   "cell_type": "markdown",
   "id": "7209aa1b-fdb5-431c-9291-3604c6d627db",
   "metadata": {},
   "source": [
    "$$\n",
    "{\\scriptstyle(\\beta)}\\frac{}{\n",
    "~~(\\lambda x.e)\\;e_2 \\longmapsto \\{x{\\mapsto}e_2\\}e~~}\n",
    "\\qquad\\qquad\n",
    "{\\scriptstyle(\\eta)}\\frac{}{\n",
    "~~\\lambda x.e\\;x \\longmapsto e~~}\n",
    "({\\scriptstyle x\\,\\notin\\mathrm{fv}(e) })\n",
    "$$\n",
    "$$\n",
    "{\\scriptstyle(\\lambda)}\\frac{e\\longmapsto e'}{\n",
    "~~\\lambda x.e \\longmapsto \\lambda x.e'~~}\n",
    "\\qquad\n",
    "{\\scriptstyle(\\textrm{@}_1)}\\frac{e_1\\longmapsto e_1'}{\n",
    "~~e_1\\;e_2 \\longmapsto e_1'\\;e_2~~}\n",
    "\\quad\n",
    "{\\scriptstyle(\\textrm{@}_2)}\\frac{e_2\\longmapsto e_2'}{\n",
    "~~e_1\\;e_2 \\longmapsto e_1\\;e_2'~~}\n",
    "$$"
   ]
  },
  {
   "cell_type": "raw",
   "id": "29fbdbf2-80ef-41ee-9ea6-d7244c49b5c6",
   "metadata": {},
   "source": [
    "\\caption{타입없는 람다계산법(untyped $\\lambda$-calculus)의 문법구조와 의미구조\n",
    "         \\label{fig:UTLC} }\n",
    "\\end{figure}\n"
   ]
  },
  {
   "cell_type": "markdown",
   "id": "9290fcf8-2511-4d37-b100-b11047b1450c",
   "metadata": {},
   "source": [
    "방금 설명한 $\\beta$규칙과 같은 계산이 하스켈 언어에서도 이루어지고 있음을 확인해 보자.\n",
    "우선 이 책에서 실습용으로 작성하는 하스켈 노트북의 첫 셀은 항상 다음과 같이 시작한다.\\footnote{%\n",
    "불필요한 코딩 스타일 제안 메시지를 끄고 필요한 컴파일러 언어 기능 설정을 하는 내용으로,\n",
    "세부사항은 책의 내용을 이해하는 데 큰 관계가 없으니 이해하려 하지 않고 넘어가도 좋다.}"
   ]
  },
  {
   "cell_type": "code",
   "execution_count": 1,
   "id": "1962ae3a-0cf0-464a-b0e9-b70aa5ae3707",
   "metadata": {},
   "outputs": [],
   "source": [
    ":opt no-lint                          -- linter 끄기\n",
    "{-# LANGUAGE ScopedTypeVariables #-} -- 추가 언어 기능 설정"
   ]
  },
  {
   "cell_type": "raw",
   "id": "0bd3b285-5464-41a3-8230-e1849128dfc1",
   "metadata": {},
   "source": [
    "~\\\\[-1ex]\\noindent"
   ]
  },
  {
   "cell_type": "markdown",
   "id": "297eee4a-7ca3-4f71-81c1-8f5781923ff6",
   "metadata": {},
   "source": [
    "하스켈 코드에서는 $\\lambda x.e$와 같은 람다식을 `\\x -> e`와 같이 표현한다.\n",
    "아래와 같이 람다식으로 표현된 함수를 같이 인자에 적용해 보면\n",
    "함수 몸체 $e$에 나타나는 자유로운 $x$를 넘겨받은 인자로 바꿔치기하며 $\\beta$줄임처럼 계산됨을 관찰할 수 있다."
   ]
  },
  {
   "cell_type": "code",
   "execution_count": 2,
   "id": "a9ce8d38-d801-4aed-afb2-adea769bf4ac",
   "metadata": {},
   "outputs": [
    {
     "data": {
      "text/plain": [
       "[7,7,7]"
      ]
     },
     "metadata": {},
     "output_type": "display_data"
    }
   ],
   "source": [
    "(\\x -> [x,x,x]) 7"
   ]
  },
  {
   "cell_type": "code",
   "execution_count": 3,
   "id": "262992c0-e87a-488b-8de9-88b6f5ba00b5",
   "metadata": {},
   "outputs": [
    {
     "data": {
      "text/plain": [
       "[\"go\",\"go\",\"go\"]"
      ]
     },
     "metadata": {},
     "output_type": "display_data"
    }
   ],
   "source": [
    "(\\x -> [x,x,x]) \"go\""
   ]
  },
  {
   "cell_type": "raw",
   "id": "23445703-a534-4511-b14e-f88cbf1298e9",
   "metadata": {},
   "source": [
    "~\\\\[-1ex]\\noindent"
   ]
  },
  {
   "cell_type": "markdown",
   "id": "84ba6b45-595b-4bac-99ec-2b208a7910d9",
   "metadata": {},
   "source": [
    "참고로 다음과 같이 하나의 셀에 여러 개의 식을 여러 줄에 걸쳐 작성하면\n",
    "각각의 식을 실행한 결과를 출력한다."
   ]
  },
  {
   "cell_type": "code",
   "execution_count": 4,
   "id": "7a71a9ff-fd58-477e-999f-905337c70998",
   "metadata": {},
   "outputs": [
    {
     "data": {
      "text/plain": [
       "[7,7,7]"
      ]
     },
     "metadata": {},
     "output_type": "display_data"
    },
    {
     "data": {
      "text/plain": [
       "[\"go\",\"go\",\"go\"]"
      ]
     },
     "metadata": {},
     "output_type": "display_data"
    }
   ],
   "source": [
    "(\\x -> [x,x,x]) 7\n",
    "(\\x -> [x,x,x]) \"go\""
   ]
  },
  {
   "cell_type": "markdown",
   "id": "d5a427dc-9966-4664-9fb6-fdab117a67e2",
   "metadata": {},
   "source": [
    "\\vspace*{1ex}\n",
    "\n",
    "람다식의 의미구조(그림 \\ref{fig:UTLC})에서 $\\beta$규칙과 같이\n",
    "계산 진행 단계의 핵심적인 내용을 표현하는 규칙 이외의\n",
    "$\\lambda$,$\\textrm{@}_1$,$\\textrm{@}_2$와 같은 규칙은\n",
    "여러 부분으로 이루어진 복합식의 어느 부분식에서\n",
    "핵심적인 계산의 내용을 진행시킬지 그 맥락을 정해준다. \n",
    "$\\lambda$규칙은 함수요약식($\\lambda x.e$)의 함수 몸체($e$) 부분이라는 맥락에서,\n",
    "$\\textrm{@}_1$와 $\\textrm{@}_2$규칙은 함수적용식($e_1~e_2$)의\n",
    "함수($e_1$)와 인자($e_2$) 부분이라는 맥락에서 계산을 진행시킨다.\n",
    "이렇게 의미구조에서 계산의 핵심적인 내용 자체를 정의하는 것이 아니라\n",
    "복합식의 문법구조에 따라 어떤 맥락(context)에서 계산이 진행될지 정의하는\n",
    "규칙을 맥락규칙(context rule)이라고 부른다.\n",
    "복합식이 그 자체로는 $\\beta$줄식($\\beta$-redex)가 아니더라도\n",
    "맥락규칙에 따라 그 안에 포함된 $\\beta$줄식인 부분식을 찾아\n",
    "거기에 $\\beta$규칙을 적용함으로써 $\\beta$줄이기 계산을 진행시킬 수 있다."
   ]
  },
  {
   "cell_type": "code",
   "execution_count": 5,
   "id": "10d8fee2-d875-468e-ad3a-ee817cc8109c",
   "metadata": {},
   "outputs": [
    {
     "data": {
      "text/plain": [
       "(\"Hello, Haskell\",[7,7,7],\"Bye, Haskell\")"
      ]
     },
     "metadata": {},
     "output_type": "display_data"
    }
   ],
   "source": [
    "(\"Hello, Haskell\", (\\x -> [x,x,x]) 7, \"Bye, Haskell\")"
   ]
  },
  {
   "cell_type": "code",
   "execution_count": 6,
   "id": "ecdca2f9-fa35-44c3-8759-41da8bbf4456",
   "metadata": {},
   "outputs": [
    {
     "data": {
      "text/plain": [
       "(\"Hello, Haskell\",[\"go\",\"go\",\"go\"],\"Bye, Haskell\")"
      ]
     },
     "metadata": {},
     "output_type": "display_data"
    }
   ],
   "source": [
    "(\"Hello, Haskell\", (\\x -> [x,x,x]) \"go\", \"Bye, Haskell\")"
   ]
  },
  {
   "cell_type": "raw",
   "id": "198c5d3a-adc3-49d6-b5eb-52f81dbd5272",
   "metadata": {},
   "source": [
    "~\\\\[-2ex]\\noindent"
   ]
  },
  {
   "cell_type": "markdown",
   "id": "84c3aa24-5d63-4947-a6f9-5841506f656a",
   "metadata": {},
   "source": [
    "하스켈 코드에서도 위와 같이 줄식이 있는 부분의 맥락을 찾아 계산함을 관찰할 수 있다.\n",
    "이처럼 하스켈의 핵심에는 람다식이 있으며 순수한 람다식의 세 가지 문법 요소 외에\n",
    "앞서 유효범위에 대해 다루며 언급한 let식(그림 \\ref{fig:ABTstyles})을 비롯해\n",
    "바로 위의 예제에서 나타난 리스트(`[x,x,x]`)나 튜플(`(x,y,z)`) 등 프로그래밍에\n",
    "쓸모있는 다양한 문법요소가 추가되어 있다."
   ]
  },
  {
   "cell_type": "markdown",
   "id": "76cc23ae-2977-4922-820e-0ffb3f674787",
   "metadata": {},
   "source": [
    "하지만 하스켈의 의미구조가 그림 \\ref{fig:UTLC}에 나타난\n",
    "람다계산법의 의미구조와 완전히 일치하지는 않는다.\n",
    "람다계산법의 의미구조에서는 $\\lambda$규칙에 따라 함수 안쪽인 몸체의 맥락에서도\n",
    "$(\\lambda y.(\\lambda x.x) y) \\longmapsto (\\lambda y.y)$와 같이 줄임(reduction)이 진행된다.\n",
    "하지만 하스켈을 비롯한 대부분의 프로그래밍 언어에서는 함수를 인자에 적용함으로써\n",
    "함수가 호출되지 않는 한 함수 안쪽의 내용을 계산하지는 않는다."
   ]
  },
  {
   "cell_type": "code",
   "execution_count": 7,
   "id": "bf96312b-ce53-4d86-a599-b8a37fee0f91",
   "metadata": {},
   "outputs": [
    {
     "ename": "",
     "evalue": "",
     "header": "MessageHeader {mhIdentifiers = [\"3c1ec3a4-d229-4527-932e-f822549471e9\"], mhParentHeader = Just (MessageHeader {mhIdentifiers = [\"3c1ec3a4-d229-4527-932e-f822549471e9\"], mhParentHeader = Nothing, mhMetadata = Metadata (fromList [(\"recordTiming\",Bool False),(\"deletedCells\",Array []),(\"cellId\",String \"bf96312b-ce53-4d86-a599-b8a37fee0f91\")]), mhMessageId = UUID {uuidToString = \"32bb39f0-cd8b-41d5-81bc-35f51975d8e0\"}, mhSessionId = UUID {uuidToString = \"3c1ec3a4-d229-4527-932e-f822549471e9\"}, mhUsername = \"\", mhMsgType = ExecuteRequestMessage, mhBuffers = []}), mhMetadata = Metadata (fromList []), mhMessageId = UUID {uuidToString = \"4dda7e78-bdea-442c-90ad-e1d8f8a6ca3c\"}, mhSessionId = UUID {uuidToString = \"3c1ec3a4-d229-4527-932e-f822549471e9\"}, mhUsername = \"\", mhMsgType = ExecuteErrorMessage, mhBuffers = []}",
     "output_type": "error",
     "traceback": [
      "<interactive>:1:1: error:\n    • No instance for (Show (p0 -> p0)) arising from a use of ‘print’\n        (maybe you haven't applied a function to enough arguments?)\n    • In a stmt of an interactive GHCi command: print it"
     ]
    }
   ],
   "source": [
    "\\y -> (\\x -> x) y"
   ]
  },
  {
   "cell_type": "markdown",
   "id": "b44a190b-ec6b-4ad8-9a42-c7e3f7480c5d",
   "metadata": {},
   "source": [
    "\\noindent\n",
    "여기서 오류가 나는 까닭은 잘못된 식을 작성해서가 아니라 함수가 기본적으로\n",
    "출력가능한 타입으로 분류되지 않기 때문이다.\\footnote{함수도 Show 클래스의\n",
    "인스턴스를 선언해 주면 출력가능한 타입으로 분류시켜 줄 수도 있다.}\n",
    "하스켈에서 함수는 이미 계산이 끝난 값으로 취급하므로 더 이상 계산할 필요\n",
    "없이 곧바로 출력해보려 했으나 출력가능한 대상이 아니었다는 오류 메시지이다.\n",
    "같은 함수를 인자에 적용해 보면,  아마도\n",
    "`(\\y->(\\x->x) y) \"hello\"` $\\longmapsto$ `(\\x->x) \"hello\"` $\\longmapsto$ `\"hello\"`와 같은 과정으로,\n",
    "계산이 진행됨을 확인해 볼 수 있다."
   ]
  },
  {
   "cell_type": "code",
   "execution_count": 8,
   "id": "533fe563-2c58-4f7c-ac8a-0db2e70b4058",
   "metadata": {},
   "outputs": [
    {
     "data": {
      "text/plain": [
       "\"hello\""
      ]
     },
     "metadata": {},
     "output_type": "display_data"
    }
   ],
   "source": [
    "(\\y -> (\\x -> x) y) \"hello\""
   ]
  },
  {
   "cell_type": "raw",
   "id": "aecf05b3-1cb4-4922-8737-9cd4a0100992",
   "metadata": {},
   "source": [
    "~\\\\[-2ex]\\indent"
   ]
  },
  {
   "cell_type": "markdown",
   "id": "7b56e83c-ba31-4f54-8e01-26104ca0e9a5",
   "metadata": {},
   "source": [
    "하스켈을 비롯한 대부분의 프로그래밍 언어들이 취하는 이러한 계산 방식을 \\`값계산'(evaluation)이라 한다.\n",
    "일반적으로 람다계산법의 줄임(reduction)과 대비되는 점은 다음과 같다. 줄임은 함수 몸체를 포함한\n",
    "어떤 부분식의 맥락에서도 계산의 핵심 규칙을 더 이상 적용할 수 없는 형태인 표준형(normal form)에\n",
    "이를 때까지 진행하는 반면, 값계산은 특정 맥락에서만 계산을 진행하며 줄임의 표준형 외에도 더 많은\n",
    "형태의 식을 계산이 완료된 값(value)으로 취급한다. 또한 줄임(reduction)의 가장 자연스러운\n",
    "작은걸음 의미구조 정의는 그림 \\ref{fig:UTLC}와 같이 어떤 맥락에서든 계산 진행을 허용하는 비결정적\n",
    "의미구조인 반면, 값계산(evaluation)은 한 갈래로만 계산과정이 진행되도록 결정적으로 맥락(context)을\n",
    "규정하는 것이 보통이다.\n",
    "예컨대, $((\\lambda x.x)(\\lambda y.y))~((\\lambda z.z)(\\lambda w.w))$는\n",
    "$\\textrm{@}_1$과 $\\textrm{@}_2$의 두 규칙 모두 적용 가능하므로 두 갈래로\n",
    "계산이 진행 가능하며, 이같이 비결정적인 모든 갈래의 줄임(reduction) 과정의\n",
    "경로를 그림으로 나타내면 아래와 같다.\n",
    "\\begin{quote}\n",
    "\\begin{tikzcd}\n",
    "((\\lambda x.x)(\\lambda y.y))~((\\lambda z.z)(\\lambda w.w))\n",
    "\\arrow[d,\"\\textrm{@}_1\"] \\arrow[r,\"\\textrm{@}_2\"] \n",
    "& ((\\lambda x.x)(\\lambda y.y))~(\\lambda w.w)\n",
    "\\arrow[d,\"\\textrm{@}_1\"]\n",
    "\\\\\n",
    "(\\lambda y.y)~((\\lambda z.z)(\\lambda w.w))\n",
    "\\arrow[d,\"\\beta\"] \\arrow[r,\"\\textrm{@}_2\"]\n",
    "& (\\lambda y.y)~(\\lambda w.w)\n",
    "\\arrow[d,\"\\beta\"]\n",
    "\\\\\n",
    "(\\lambda z.z)(\\lambda w.w)\n",
    "\\arrow[r,\"\\beta\"]\n",
    "& (\\lambda w.w)\n",
    "\\end{tikzcd}\n",
    "\\end{quote}\n",
    "\\noindent\n",
    "값계산(evaluation)의 경우에는 보통 함수적용식($e_1~e_2$)의 왼쪽($e_1$)이\n",
    "함수요약식($\\lambda x.e$)의 형태에 이를 때까지 왼쪽 부분식의 계산을 진행하여\n",
    "$\\beta$줄식($\\beta$-redex)의 형태로 만들어 놓는데, 그 이후 계산 과정은 어떤 값계산 전략인지에 따라 달라진다.\n",
    "게으른 값계산(lazy evaluation)은 위 그림에서\n",
    "$\\downarrow^{\\textrm{@}_1}\\,\\downarrow^{\\beta}\\,\\xrightarrow{\\beta}$의 경로를 취하며\n",
    "$\\beta$규칙으로 함수 적용부터, 적극적 값계산(eager evaluation)은\n",
    "$\\downarrow^{\\textrm{@}_1}\\,\\xrightarrow{\\textrm{@}_2}\\,\\downarrow^{\\beta}$의 경로를 취하며\n",
    "$\\textrm{@}_2$규칙으로 인자 계산부터 먼저 진행하는 전략이다."
   ]
  },
  {
   "cell_type": "code",
   "execution_count": 9,
   "id": "222ec82f-c29e-42b5-8604-4e32ab881fd1",
   "metadata": {},
   "outputs": [
    {
     "data": {
      "image/svg+xml": [
       "<?xml version=\"1.0\" encoding=\"UTF-8\" standalone=\"no\"?>\n",
       "<!DOCTYPE svg PUBLIC \"-//W3C//DTD SVG 1.1//EN\"\n",
       " \"http://www.w3.org/Graphics/SVG/1.1/DTD/svg11.dtd\">\n",
       "<!-- Generated by graphviz version 2.43.0 (0)\n",
       " -->\n",
       "<!-- Title: %3 Pages: 1 -->\n",
       "<svg width=\"704pt\" height=\"98pt\"\n",
       " viewBox=\"0.00 0.00 703.55 98.00\" xmlns=\"http://www.w3.org/2000/svg\" xmlns:xlink=\"http://www.w3.org/1999/xlink\">\n",
       "<g id=\"graph0\" class=\"graph\" transform=\"scale(1 1) rotate(0) translate(4 94)\">\n",
       "<title>%3</title>\n",
       "<polygon fill=\"white\" stroke=\"transparent\" points=\"-4,4 -4,-94 699.55,-94 699.55,4 -4,4\"/>\n",
       "<!-- ((λx.x)(λy.y)) ((λz.z)(λw.w)) -->\n",
       "<g id=\"node1\" class=\"node\">\n",
       "<title>((λx.x)(λy.y)) ((λz.z)(λw.w))</title>\n",
       "<ellipse fill=\"none\" stroke=\"black\" cx=\"112.44\" cy=\"-45\" rx=\"112.38\" ry=\"18\"/>\n",
       "<text text-anchor=\"middle\" x=\"112.44\" y=\"-41.3\" font-family=\"Times,serif\" font-size=\"14.00\">((λx.x)(λy.y)) ((λz.z)(λw.w))</text>\n",
       "</g>\n",
       "<!-- ((λx.x)(λy.y)) (λw.w) -->\n",
       "<g id=\"node2\" class=\"node\">\n",
       "<title>((λx.x)(λy.y)) (λw.w)</title>\n",
       "<ellipse fill=\"none\" stroke=\"black\" cx=\"347.32\" cy=\"-72\" rx=\"86.38\" ry=\"18\"/>\n",
       "<text text-anchor=\"middle\" x=\"347.32\" y=\"-68.3\" font-family=\"Times,serif\" font-size=\"14.00\">((λx.x)(λy.y)) (λw.w)</text>\n",
       "</g>\n",
       "<!-- ((λx.x)(λy.y)) ((λz.z)(λw.w))&#45;&gt;((λx.x)(λy.y)) (λw.w) -->\n",
       "<g id=\"edge1\" class=\"edge\">\n",
       "<title>((λx.x)(λy.y)) ((λz.z)(λw.w))&#45;&gt;((λx.x)(λy.y)) (λw.w)</title>\n",
       "<path fill=\"none\" stroke=\"black\" d=\"M204.15,-55.52C222.9,-57.69 242.58,-59.97 261.13,-62.12\"/>\n",
       "<polygon fill=\"black\" stroke=\"black\" points=\"260.96,-65.63 271.3,-63.3 261.77,-58.67 260.96,-65.63\"/>\n",
       "</g>\n",
       "<!-- (λy.y) ((λz.z)(λw.w)) -->\n",
       "<g id=\"node3\" class=\"node\">\n",
       "<title>(λy.y) ((λz.z)(λw.w))</title>\n",
       "<ellipse fill=\"none\" stroke=\"black\" cx=\"347.32\" cy=\"-18\" rx=\"85.29\" ry=\"18\"/>\n",
       "<text text-anchor=\"middle\" x=\"347.32\" y=\"-14.3\" font-family=\"Times,serif\" font-size=\"14.00\">(λy.y) ((λz.z)(λw.w))</text>\n",
       "</g>\n",
       "<!-- ((λx.x)(λy.y)) ((λz.z)(λw.w))&#45;&gt;(λy.y) ((λz.z)(λw.w)) -->\n",
       "<g id=\"edge2\" class=\"edge\">\n",
       "<title>((λx.x)(λy.y)) ((λz.z)(λw.w))&#45;&gt;(λy.y) ((λz.z)(λw.w))</title>\n",
       "<path fill=\"none\" stroke=\"black\" d=\"M204.15,-34.48C223.31,-32.26 243.45,-29.93 262.35,-27.74\"/>\n",
       "<polygon fill=\"black\" stroke=\"black\" points=\"262.87,-31.2 272.4,-26.57 262.07,-24.24 262.87,-31.2\"/>\n",
       "</g>\n",
       "<!-- (λy.y) (λw.w) -->\n",
       "<g id=\"node6\" class=\"node\">\n",
       "<title>(λy.y) (λw.w)</title>\n",
       "<ellipse fill=\"none\" stroke=\"black\" cx=\"528.91\" cy=\"-72\" rx=\"59.29\" ry=\"18\"/>\n",
       "<text text-anchor=\"middle\" x=\"528.91\" y=\"-68.3\" font-family=\"Times,serif\" font-size=\"14.00\">(λy.y) (λw.w)</text>\n",
       "</g>\n",
       "<!-- ((λx.x)(λy.y)) (λw.w)&#45;&gt;(λy.y) (λw.w) -->\n",
       "<g id=\"edge7\" class=\"edge\">\n",
       "<title>((λx.x)(λy.y)) (λw.w)&#45;&gt;(λy.y) (λw.w)</title>\n",
       "<path fill=\"none\" stroke=\"black\" d=\"M433.91,-72C442.51,-72 451.17,-72 459.57,-72\"/>\n",
       "<polygon fill=\"black\" stroke=\"black\" points=\"459.65,-75.5 469.65,-72 459.65,-68.5 459.65,-75.5\"/>\n",
       "</g>\n",
       "<!-- (λz.z)(λw.w) -->\n",
       "<g id=\"node4\" class=\"node\">\n",
       "<title>(λz.z)(λw.w)</title>\n",
       "<ellipse fill=\"none\" stroke=\"black\" cx=\"528.91\" cy=\"-18\" rx=\"55.79\" ry=\"18\"/>\n",
       "<text text-anchor=\"middle\" x=\"528.91\" y=\"-14.3\" font-family=\"Times,serif\" font-size=\"14.00\">(λz.z)(λw.w)</text>\n",
       "</g>\n",
       "<!-- (λy.y) ((λz.z)(λw.w))&#45;&gt;(λz.z)(λw.w) -->\n",
       "<g id=\"edge3\" class=\"edge\">\n",
       "<title>(λy.y) ((λz.z)(λw.w))&#45;&gt;(λz.z)(λw.w)</title>\n",
       "<path fill=\"none\" stroke=\"black\" d=\"M432.59,-18C442.74,-18 452.98,-18 462.79,-18\"/>\n",
       "<polygon fill=\"black\" stroke=\"black\" points=\"462.84,-21.5 472.84,-18 462.84,-14.5 462.84,-21.5\"/>\n",
       "</g>\n",
       "<!-- (λy.y) ((λz.z)(λw.w))&#45;&gt;(λy.y) (λw.w) -->\n",
       "<g id=\"edge5\" class=\"edge\">\n",
       "<title>(λy.y) ((λz.z)(λw.w))&#45;&gt;(λy.y) (λw.w)</title>\n",
       "<path fill=\"none\" stroke=\"black\" d=\"M397.4,-32.76C421.97,-40.14 451.7,-49.08 476.57,-56.56\"/>\n",
       "<polygon fill=\"black\" stroke=\"black\" points=\"475.62,-59.93 486.2,-59.46 477.63,-53.23 475.62,-59.93\"/>\n",
       "</g>\n",
       "<!-- (λw.w) -->\n",
       "<g id=\"node5\" class=\"node\">\n",
       "<title>(λw.w)</title>\n",
       "<ellipse fill=\"none\" stroke=\"black\" cx=\"659.8\" cy=\"-45\" rx=\"36\" ry=\"18\"/>\n",
       "<text text-anchor=\"middle\" x=\"659.8\" y=\"-41.3\" font-family=\"Times,serif\" font-size=\"14.00\">(λw.w)</text>\n",
       "</g>\n",
       "<!-- (λz.z)(λw.w)&#45;&gt;(λw.w) -->\n",
       "<g id=\"edge4\" class=\"edge\">\n",
       "<title>(λz.z)(λw.w)&#45;&gt;(λw.w)</title>\n",
       "<path fill=\"none\" stroke=\"black\" d=\"M576.08,-27.67C589.19,-30.42 603.4,-33.39 616.28,-36.09\"/>\n",
       "<polygon fill=\"black\" stroke=\"black\" points=\"615.77,-39.56 626.28,-38.19 617.21,-32.71 615.77,-39.56\"/>\n",
       "</g>\n",
       "<!-- (λy.y) (λw.w)&#45;&gt;(λw.w) -->\n",
       "<g id=\"edge6\" class=\"edge\">\n",
       "<title>(λy.y) (λw.w)&#45;&gt;(λw.w)</title>\n",
       "<path fill=\"none\" stroke=\"black\" d=\"M578.27,-61.87C590.88,-59.23 604.37,-56.4 616.64,-53.83\"/>\n",
       "<polygon fill=\"black\" stroke=\"black\" points=\"617.53,-57.22 626.6,-51.74 616.1,-50.37 617.53,-57.22\"/>\n",
       "</g>\n",
       "</g>\n",
       "</svg>\n"
      ]
     },
     "metadata": {},
     "output_type": "display_data"
    }
   ],
   "source": [
    "import IHaskell.Display.Graphviz\n",
    "dot ( \"digraph { rankdir=\\\"LR\\\"; \"\n",
    "  ++\"\\\"((λx.x)(λy.y)) ((λz.z)(λw.w))\\\" -> \\\"((λx.x)(λy.y)) (λw.w)\\\";\"\n",
    "  ++\"\\\"((λx.x)(λy.y)) ((λz.z)(λw.w))\\\" -> \\\"(λy.y) ((λz.z)(λw.w))\\\";\"\n",
    "  ++\"\\\"(λy.y) ((λz.z)(λw.w))\\\" -> \\\"(λz.z)(λw.w)\\\" -> \\\"(λw.w)\\\";\"\n",
    "  ++\"\\\"(λy.y) ((λz.z)(λw.w))\\\" -> \\\"(λy.y) (λw.w)\\\" -> \\\"(λw.w)\\\";\"\n",
    "  ++\"\\\"((λx.x)(λy.y)) (λw.w)\\\" -> \\\"(λy.y) (λw.w)\\\";\"\n",
    "  ++\"}\" )"
   ]
  },
  {
   "cell_type": "markdown",
   "id": "63cfbb56-0e58-43cb-8819-0621ca7a8e3a",
   "metadata": {},
   "source": [
    "\\section{TODO}\n",
    "이게 무슨 이야기인가 테스트\n",
    "이게 무슨 이야기인가 테스트\n",
    "이게 무슨 이야기인가 테스트"
   ]
  },
  {
   "cell_type": "code",
   "execution_count": 10,
   "id": "80a7160a-9d6d-4d11-8e41-88e9eeadbe4c",
   "metadata": {},
   "outputs": [
    {
     "data": {
      "text/plain": [
       "10"
      ]
     },
     "metadata": {},
     "output_type": "display_data"
    }
   ],
   "source": [
    "let x1 = 5 in x1 + x1"
   ]
  },
  {
   "cell_type": "code",
   "execution_count": 11,
   "id": "566c8ee0-008f-4a72-b43b-255d21ebfb3c",
   "metadata": {},
   "outputs": [
    {
     "data": {
      "text/plain": [
       "49"
      ]
     },
     "metadata": {},
     "output_type": "display_data"
    }
   ],
   "source": [
    "let f1 = \\x -> x * x in f1 7"
   ]
  },
  {
   "cell_type": "code",
   "execution_count": 12,
   "id": "0d78cbfc-5c75-439b-8db0-8a9f5d2a36b5",
   "metadata": {},
   "outputs": [
    {
     "ename": "",
     "evalue": "",
     "header": "MessageHeader {mhIdentifiers = [\"3c1ec3a4-d229-4527-932e-f822549471e9\"], mhParentHeader = Just (MessageHeader {mhIdentifiers = [\"3c1ec3a4-d229-4527-932e-f822549471e9\"], mhParentHeader = Nothing, mhMetadata = Metadata (fromList [(\"recordTiming\",Bool False),(\"deletedCells\",Array []),(\"cellId\",String \"0d78cbfc-5c75-439b-8db0-8a9f5d2a36b5\")]), mhMessageId = UUID {uuidToString = \"8453e1e1-b177-4871-8f08-5437d38935d0\"}, mhSessionId = UUID {uuidToString = \"3c1ec3a4-d229-4527-932e-f822549471e9\"}, mhUsername = \"\", mhMsgType = ExecuteRequestMessage, mhBuffers = []}), mhMetadata = Metadata (fromList []), mhMessageId = UUID {uuidToString = \"b22f8ed8-5e30-4e51-9d0a-7eec270062e7\"}, mhSessionId = UUID {uuidToString = \"3c1ec3a4-d229-4527-932e-f822549471e9\"}, mhUsername = \"\", mhMsgType = ExecuteErrorMessage, mhBuffers = []}",
     "output_type": "error",
     "traceback": [
      "<interactive>:1:1: error: Variable not in scope: f1 :: t0 -> t\n<interactive>:1:4: error: Variable not in scope: x1"
     ]
    }
   ],
   "source": [
    "f1 x1"
   ]
  },
  {
   "cell_type": "code",
   "execution_count": 13,
   "id": "4bfe563a-f805-47c2-92b4-18a9a2d678c2",
   "metadata": {},
   "outputs": [
    {
     "data": {
      "text/plain": [
       "10"
      ]
     },
     "metadata": {},
     "output_type": "display_data"
    }
   ],
   "source": [
    "x2 = 5\n",
    "x2 + x2"
   ]
  },
  {
   "cell_type": "code",
   "execution_count": 14,
   "id": "ea7eb6eb-c476-40c7-b649-6ef8c2941293",
   "metadata": {},
   "outputs": [
    {
     "data": {
      "text/plain": [
       "49"
      ]
     },
     "metadata": {},
     "output_type": "display_data"
    }
   ],
   "source": [
    "f2 = \\x -> x * x\n",
    "f2 7"
   ]
  },
  {
   "cell_type": "code",
   "execution_count": 15,
   "id": "5b17dea7-7ccd-4a3e-ab73-e31277aa22f7",
   "metadata": {},
   "outputs": [
    {
     "data": {
      "text/plain": [
       "25"
      ]
     },
     "metadata": {},
     "output_type": "display_data"
    }
   ],
   "source": [
    "f2 x2"
   ]
  },
  {
   "cell_type": "code",
   "execution_count": 16,
   "id": "6d633070-55fd-4fb4-b9bf-ee5dd370bed7",
   "metadata": {},
   "outputs": [],
   "source": [
    "f2 = \\x -> x * x\n",
    "f2'   x  = x * x "
   ]
  },
  {
   "cell_type": "code",
   "execution_count": 17,
   "id": "89d7f754-6bc6-44ee-b84b-4b9d8011dd41",
   "metadata": {},
   "outputs": [
    {
     "data": {
      "text/plain": [
       "81"
      ]
     },
     "metadata": {},
     "output_type": "display_data"
    },
    {
     "data": {
      "text/plain": [
       "81"
      ]
     },
     "metadata": {},
     "output_type": "display_data"
    }
   ],
   "source": [
    "f2  9\n",
    "f2' 9"
   ]
  },
  {
   "cell_type": "code",
   "execution_count": 18,
   "id": "112cbb93-311d-48d1-9ee8-905522988c06",
   "metadata": {},
   "outputs": [],
   "source": [
    "f3 = \\x -> \\y -> x + y\n",
    "f3'   x  = \\y -> x + y\n",
    "f3''  x     y  = x + y"
   ]
  },
  {
   "cell_type": "code",
   "execution_count": 19,
   "id": "6192a97e-b599-4f25-8b70-97d844d22c31",
   "metadata": {},
   "outputs": [
    {
     "data": {
      "text/plain": [
       "9"
      ]
     },
     "metadata": {},
     "output_type": "display_data"
    },
    {
     "data": {
      "text/plain": [
       "9"
      ]
     },
     "metadata": {},
     "output_type": "display_data"
    },
    {
     "data": {
      "text/plain": [
       "9"
      ]
     },
     "metadata": {},
     "output_type": "display_data"
    }
   ],
   "source": [
    "f3   4 5\n",
    "f3'  4 5\n",
    "f3'' 4 5"
   ]
  },
  {
   "cell_type": "code",
   "execution_count": 20,
   "id": "09a3fcec-4763-4c04-90e9-e63307d8eb2a",
   "metadata": {},
   "outputs": [],
   "source": [
    "fu  x y  = y - x\n",
    "fc (x,y) = y - x"
   ]
  },
  {
   "cell_type": "code",
   "execution_count": 21,
   "id": "26b2c67e-db55-4d48-84e3-ce90cfde8bd6",
   "metadata": {},
   "outputs": [
    {
     "data": {
      "text/plain": [
       "4"
      ]
     },
     "metadata": {},
     "output_type": "display_data"
    },
    {
     "data": {
      "text/plain": [
       "4"
      ]
     },
     "metadata": {},
     "output_type": "display_data"
    }
   ],
   "source": [
    "fu  3 7\n",
    "fc (3,7)"
   ]
  },
  {
   "cell_type": "code",
   "execution_count": 22,
   "id": "6a071295-d33e-46b6-98f8-13720305c1b0",
   "metadata": {},
   "outputs": [
    {
     "data": {
      "text/plain": [
       "4"
      ]
     },
     "metadata": {},
     "output_type": "display_data"
    }
   ],
   "source": [
    "p1 = (3,7)\n",
    "fc p1"
   ]
  },
  {
   "cell_type": "code",
   "execution_count": null,
   "id": "f948da84-be09-46a6-b9f1-40f406f440b4",
   "metadata": {},
   "outputs": [],
   "source": []
  },
  {
   "cell_type": "code",
   "execution_count": null,
   "id": "a8c628c6-c034-47bf-ae00-64cf44f41ddd",
   "metadata": {},
   "outputs": [],
   "source": []
  }
 ],
 "metadata": {
  "kernelspec": {
   "display_name": "Haskell",
   "language": "haskell",
   "name": "haskell"
  },
  "language_info": {
   "codemirror_mode": "ihaskell",
   "file_extension": ".hs",
   "mimetype": "text/x-haskell",
   "name": "haskell",
   "pygments_lexer": "Haskell",
   "version": "8.10.7"
  }
 },
 "nbformat": 4,
 "nbformat_minor": 5
}
