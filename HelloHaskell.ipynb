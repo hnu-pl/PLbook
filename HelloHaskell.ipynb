{
 "cells": [
  {
   "cell_type": "raw",
   "id": "56cc8b61-7578-46ba-b558-f7ec4b0baaf4",
   "metadata": {},
   "source": [
    "%% \\fvset{numbers=left,numbersep=3pt}"
   ]
  },
  {
   "cell_type": "markdown",
   "id": "b1f08f09-1869-4ffe-84f1-29ff70f2eb2f",
   "metadata": {},
   "source": [
    "# 람다계산법과 하스켈\n",
    "\\label{sec:UTLChaskell}\n",
    "앞서 람다계산법의 문법구조(그림 \\ref{fig:ChurchDeBruijn})를 소개하며\n",
    "수학에서 보통 $f(x)=e$ 형태로 정의되는 함수를 람다식으로는 이름을 붙이지 않고\n",
    "$\\lambda x.e$ 형태의 함수요약(function abstraction)식으로 표현한다고 설명했다.\n",
    "여기서는 $e_1~e_2$ 형태의 함수적용(function application)식을 포함한\n",
    "\\index{타입없는 람다계산법|see{untyped $\\lambda$-calculus}}\n",
    "\\index{untyped $\\lambda$-calculus|see{타입없는 람다계산법}}\n",
    "\\index{람다계산법!타입없는 람다계산법}\n",
    "\\index{$\\lambda$-calculus!untyped $\\lambda$-calculus}\n",
    "람다계산법의 의미구조(그림 \\ref{fig:UTLC})를 정리해 보자. 의미구조를\n",
    "자세히 살펴보기 앞서 먼저 함수적용식 $e_1~e_2$의 의미를 간단히 이야기하자면,\n",
    "수학에서 일반적인 표기로는 $e_1(e_2)$를 뜻한다. 즉, 함수 $f$에 인자 $v$를 넘겨\n",
    "계산한 값을 나타내는 $f(v)$를 람다식으로는 괄호를 쓸 필요 없이 $f~v$로\n",
    "표현할 수 있다는 말이다.\n",
    "\n",
    "그렇다면 람다계산법에서 함수를 인자에 적용해 계산한다는 의미는 구체적으로\n",
    "무엇일까? 함수적용식의 왼쪽이 명백한 함수의 형태, 즉 함수요약식일 때\n",
    "함수 적용 계산 과정의 가장 핵심적인  단계를 진행할 수 있다.\n",
    "즉 $(\\lambda x. e)\\;e_2$ 형태일 때 함수의 매개변수인 $x$에 인자 $e_2$를\n",
    "넘겨 계산을 한 단계 더 진행하면 $\\{x{\\mapsto}e_2\\}e$로 표시되는,\n",
    "$e$에 자유롭게 나타나는 $x$를 $e_2$로 납치없이 바꿔친 식을 얻는다.\n",
    "즉, $(\\lambda x. e)\\;e_2 \\longmapsto \\{x{\\mapsto}e_2\\}e$가 바로\n",
    "함수 적용의 계산과정 중 가장 핵심적인 단계를 나타내는 규칙($\\beta$)으로\n",
    "그림 \\ref{fig:UTLC}에 정리된 작은걸음 의미구조의 규칙들 중 중 가장\n",
    "처음으로 나타나 있다. 이렇게 $\\beta$규칙을 적용해 나감으로써\n",
    "계산을 진행하는 과정을\n",
    "\\index{$\\beta$-reduction|see{$\\beta$줄임}}\\index{$\\beta$줄임|see{$\\beta$-reduction}}\n",
    "\\`$\\beta$줄이기' 혹은 \\`$\\beta$줄임'($\\beta$-reduction)이라고 하며,\n",
    "\\index{$\\lambda$-calculus!$\\beta$-reduction}\\index{람다계산법!$\\beta$줄임}\n",
    "$\\beta$규칙을 적용할 수 있는 $(\\lambda x. e)\\;e_2$ 형태의 식을\n",
    "$\\beta$규칙으로 줄어드는 식($\\beta$-reducible expression)의 줄임말인\n",
    "\\index{$\\beta$-redex|see{$\\beta$줄식}}\\index{$\\beta$줄식|see{$\\beta$-redex}}\n",
    "\\`$\\beta$줄식'($\\beta$-redex)이라 부른다.\n",
    "\\index{$\\lambda$-calculus!$\\beta$-redex}\\index{람다계산법!$\\beta$줄식}\n",
    "마찬가지로 그 다음에 나타나는 $\\eta$규칙의 경우에도 \\`$\\eta$줄임'($\\eta$-reduction)과\n",
    "\\`$\\eta$줄식'($\\eta$-redex)의 개념을 생각해 볼 수 있다. 당분간은 $\\eta$ 규칙은\n",
    "없이 나머지 규칙($\\beta$,$\\lambda$,$\\textrm{@}_1$,$\\textrm{@}_2$)만 있다고 생각하자.\n"
   ]
  },
  {
   "cell_type": "raw",
   "id": "4246301a-e670-4c87-8b1a-609f2f0be884",
   "metadata": {},
   "source": [
    "\n",
    "\\begin{figure}\n",
    "문법구조\\vspace*{-4.5ex}"
   ]
  },
  {
   "cell_type": "markdown",
   "id": "819e6b37-658c-41bd-bbb4-0a63ed7b3c20",
   "metadata": {},
   "source": [
    "\\begin{align*}\n",
    "e ::=~& x           & {\\scriptsize\\textrm{name}} \\\\\n",
    " \\mid~& \\lambda x.e & {\\scriptsize\\textrm{abstraction}} \\\\\n",
    " \\mid~& e~e         & {\\scriptsize\\textrm{application}}\n",
    "\\end{align*}"
   ]
  },
  {
   "cell_type": "raw",
   "id": "8f507126-5481-4396-bcf9-de2a9a0956e0",
   "metadata": {},
   "source": [
    "작은걸음 의미구조\\vspace*{-1ex}"
   ]
  },
  {
   "cell_type": "markdown",
   "id": "7209aa1b-fdb5-431c-9291-3604c6d627db",
   "metadata": {},
   "source": [
    "$$\n",
    "{\\scriptstyle(\\beta)}\\frac{}{\n",
    "~~(\\lambda x.e)\\;e_2 \\longmapsto \\{x{\\mapsto}e_2\\}e~~}\n",
    "\\qquad\\qquad\n",
    "{\\scriptstyle(\\eta)}\\frac{}{\n",
    "~~\\lambda x.e\\;x \\longmapsto e~~}\n",
    "({\\scriptstyle x\\,\\notin\\mathrm{fv}(e) })\n",
    "$$\n",
    "$$\n",
    "{\\scriptstyle(\\lambda)}\\frac{e\\longmapsto e'}{\n",
    "~~\\lambda x.e \\longmapsto \\lambda x.e'~~}\n",
    "\\qquad\n",
    "{\\scriptstyle(\\textrm{@}_1)}\\frac{e_1\\longmapsto e_1'}{\n",
    "~~e_1\\;e_2 \\longmapsto e_1'\\;e_2~~}\n",
    "\\quad\n",
    "{\\scriptstyle(\\textrm{@}_2)}\\frac{e_2\\longmapsto e_2'}{\n",
    "~~e_1\\;e_2 \\longmapsto e_1\\;e_2'~~}\n",
    "$$"
   ]
  },
  {
   "cell_type": "raw",
   "id": "29fbdbf2-80ef-41ee-9ea6-d7244c49b5c6",
   "metadata": {},
   "source": [
    "\\caption{타입없는 람다계산법(untyped $\\lambda$-calculus)의 문법구조와 의미구조\n",
    "         \\label{fig:UTLC} }\n",
    "\\end{figure}\n"
   ]
  },
  {
   "cell_type": "markdown",
   "id": "9290fcf8-2511-4d37-b100-b11047b1450c",
   "metadata": {},
   "source": [
    "방금 설명한 $\\beta$규칙과 같은 계산이 하스켈 언어에서도 이루어지고 있음을 확인해 보자.\n",
    "우선 이 책에서 실습용으로 작성하는 하스켈 노트북의 첫 셀은 항상 다음과 같이 시작한다.\\footnote{%\n",
    "불필요한 코딩 스타일 제안 메시지를 끄고 필요한 컴파일러 언어 기능 설정을 하는 내용으로,\n",
    "세부사항은 책의 내용을 이해하는 데 큰 관계가 없으니 이해하려 하지 않고 넘어가도 좋다.}"
   ]
  },
  {
   "cell_type": "code",
   "execution_count": 1,
   "id": "1962ae3a-0cf0-464a-b0e9-b70aa5ae3707",
   "metadata": {},
   "outputs": [],
   "source": [
    ":opt no-lint                          -- linter 끄기\n",
    "{-# LANGUAGE ScopedTypeVariables #-} -- 추가 언어 기능 설정"
   ]
  },
  {
   "cell_type": "raw",
   "id": "0bd3b285-5464-41a3-8230-e1849128dfc1",
   "metadata": {},
   "source": [
    "~\\\\[-1ex]\\noindent"
   ]
  },
  {
   "cell_type": "markdown",
   "id": "297eee4a-7ca3-4f71-81c1-8f5781923ff6",
   "metadata": {},
   "source": [
    "하스켈 코드에서는 $\\lambda x.e$와 같은 람다식을 `\\x -> e`와 같이 표현한다.\n",
    "아래와 같이 람다식으로 표현된 함수를 같이 인자에 적용해 보면\n",
    "함수 몸체 $e$에 나타나는 자유로운 $x$를 넘겨받은 인자로 바꿔치기하며 $\\beta$줄임처럼 계산됨을 관찰할 수 있다."
   ]
  },
  {
   "cell_type": "code",
   "execution_count": 2,
   "id": "a9ce8d38-d801-4aed-afb2-adea769bf4ac",
   "metadata": {},
   "outputs": [
    {
     "data": {
      "text/plain": [
       "[7,7,7]"
      ]
     },
     "metadata": {},
     "output_type": "display_data"
    }
   ],
   "source": [
    "(\\x -> [x,x,x]) 7"
   ]
  },
  {
   "cell_type": "code",
   "execution_count": 3,
   "id": "262992c0-e87a-488b-8de9-88b6f5ba00b5",
   "metadata": {},
   "outputs": [
    {
     "data": {
      "text/plain": [
       "[\"go\",\"go\",\"go\"]"
      ]
     },
     "metadata": {},
     "output_type": "display_data"
    }
   ],
   "source": [
    "(\\x -> [x,x,x]) \"go\""
   ]
  },
  {
   "cell_type": "raw",
   "id": "23445703-a534-4511-b14e-f88cbf1298e9",
   "metadata": {},
   "source": [
    "~\\\\[-1ex]\\noindent"
   ]
  },
  {
   "cell_type": "markdown",
   "id": "84ba6b45-595b-4bac-99ec-2b208a7910d9",
   "metadata": {},
   "source": [
    "참고로 다음과 같이 하나의 셀에 여러 개의 식을 여러 줄에 걸쳐 작성하면\n",
    "각각의 식을 실행한 결과를 출력한다."
   ]
  },
  {
   "cell_type": "code",
   "execution_count": 4,
   "id": "7a71a9ff-fd58-477e-999f-905337c70998",
   "metadata": {},
   "outputs": [
    {
     "data": {
      "text/plain": [
       "[7,7,7]"
      ]
     },
     "metadata": {},
     "output_type": "display_data"
    },
    {
     "data": {
      "text/plain": [
       "[\"go\",\"go\",\"go\"]"
      ]
     },
     "metadata": {},
     "output_type": "display_data"
    }
   ],
   "source": [
    "(\\x -> [x,x,x]) 7\n",
    "(\\x -> [x,x,x]) \"go\""
   ]
  },
  {
   "cell_type": "markdown",
   "id": "d5a427dc-9966-4664-9fb6-fdab117a67e2",
   "metadata": {},
   "source": [
    "\\vspace*{1ex}\n",
    "\n",
    "람다식의 의미구조(그림 \\ref{fig:UTLC})에서 $\\beta$규칙과 같이\n",
    "계산 진행 단계의 핵심적인 내용을 표현하는 규칙 이외의\n",
    "$\\lambda$,$\\textrm{@}_1$,$\\textrm{@}_2$와 같은 규칙은\n",
    "여러 부분으로 이루어진 복합식의 어느 부분식에서\n",
    "핵심적인 계산의 내용을 진행시킬지 그 맥락을 정해준다. \n",
    "$\\lambda$규칙은 함수요약식($\\lambda x.e$)의 함수 몸체($e$) 부분이라는 맥락에서,\n",
    "$\\textrm{@}_1$와 $\\textrm{@}_2$규칙은 함수적용식($e_1~e_2$)의\n",
    "함수($e_1$)와 인자($e_2$) 부분이라는 맥락에서 계산을 진행시킨다.\n",
    "이렇게 의미구조에서 계산의 핵심적인 내용 자체를 정의하는 것이 아니라\n",
    "복합식의 문법구조에 따라 어떤\n",
    "\\index{맥락|see{context}}\\index{context|see{맥락}}\n",
    "맥락(context)에서 계산이 진행될지 정의하는\n",
    "규칙을 맥락규칙(context rule)이라고 부른다.\n",
    "복합식이 그 자체로는 $\\beta$줄식($\\beta$-redex)가 아니더라도\n",
    "맥락규칙에 따라 그 안에 포함된 $\\beta$줄식인 부분식을 찾아\n",
    "거기에 $\\beta$규칙을 적용함으로써 $\\beta$줄이기 계산을 진행시킬 수 있다."
   ]
  },
  {
   "cell_type": "code",
   "execution_count": 5,
   "id": "10d8fee2-d875-468e-ad3a-ee817cc8109c",
   "metadata": {},
   "outputs": [
    {
     "data": {
      "text/plain": [
       "(\"Hello, Haskell\",[7,7,7],\"Bye, Haskell\")"
      ]
     },
     "metadata": {},
     "output_type": "display_data"
    }
   ],
   "source": [
    "(\"Hello, Haskell\", (\\x -> [x,x,x]) 7, \"Bye, Haskell\")"
   ]
  },
  {
   "cell_type": "code",
   "execution_count": 6,
   "id": "ecdca2f9-fa35-44c3-8759-41da8bbf4456",
   "metadata": {},
   "outputs": [
    {
     "data": {
      "text/plain": [
       "(\"Hello, Haskell\",[\"go\",\"go\",\"go\"],\"Bye, Haskell\")"
      ]
     },
     "metadata": {},
     "output_type": "display_data"
    }
   ],
   "source": [
    "(\"Hello, Haskell\", (\\x -> [x,x,x]) \"go\", \"Bye, Haskell\")"
   ]
  },
  {
   "cell_type": "raw",
   "id": "198c5d3a-adc3-49d6-b5eb-52f81dbd5272",
   "metadata": {},
   "source": [
    "~\\\\[-2ex]\\noindent"
   ]
  },
  {
   "cell_type": "markdown",
   "id": "84c3aa24-5d63-4947-a6f9-5841506f656a",
   "metadata": {},
   "source": [
    "하스켈 코드에서도 위와 같이 줄식이 있는 부분의 맥락을 찾아 계산함을 관찰할 수 있다.\n",
    "이처럼 하스켈의 핵심에는 람다식이 있으며 순수한 람다식의 세 가지 문법 요소 외에\n",
    "앞서 유효범위에 대해 다루며 언급한 let식(그림 \\ref{fig:ABTstyles})을 비롯해\n",
    "바로 위의 예제에서 나타난 리스트(`[x,x,x]`)나 튜플(`(x,y,z)`) 등 프로그래밍에\n",
    "쓸모있는 다양한 문법요소가 추가되어 있다."
   ]
  },
  {
   "cell_type": "markdown",
   "id": "76cc23ae-2977-4922-820e-0ffb3f674787",
   "metadata": {},
   "source": [
    "하지만 하스켈의 의미구조가 그림 \\ref{fig:UTLC}에 나타난\n",
    "람다계산법의 의미구조와 완전히 일치하지는 않는다.\n",
    "람다계산법의 의미구조에서는 $\\lambda$규칙에 따라 함수 안쪽인 몸체의 맥락에서도\n",
    "$(\\lambda y.(\\lambda x.x) y) \\longmapsto (\\lambda y.y)$와 같이 줄임(reduction)이 진행된다.\n",
    "하지만 하스켈을 비롯한 대부분의 프로그래밍언어에서는 함수를 인자에 적용함으로써\n",
    "함수가 호출되지 않는 한 함수 안쪽의 내용을 계산하지는 않는다."
   ]
  },
  {
   "cell_type": "code",
   "execution_count": 7,
   "id": "bf96312b-ce53-4d86-a599-b8a37fee0f91",
   "metadata": {},
   "outputs": [
    {
     "ename": "",
     "evalue": "",
     "output_type": "error",
     "traceback": [
      "<interactive>:1:1: error:\n    • No instance for (Show (p0 -> p0)) arising from a use of ‘print’\n        (maybe you haven't applied a function to enough arguments?)\n    • In a stmt of an interactive GHCi command: print it"
     ]
    }
   ],
   "source": [
    "\\y -> (\\x -> x) y"
   ]
  },
  {
   "cell_type": "markdown",
   "id": "b44a190b-ec6b-4ad8-9a42-c7e3f7480c5d",
   "metadata": {},
   "source": [
    "\\noindent\n",
    "여기서 오류가 나는 까닭은 잘못된 식을 작성해서가 아니라 함수가 기본적으로\n",
    "출력가능한 타입으로 분류되지 않기 때문이다.\\footnote{함수도 Show 클래스의\n",
    "인스턴스를 선언해 주면 출력가능한 타입으로 분류시켜 줄 수도 있다.}\n",
    "하스켈에서 함수는 이미 계산이 끝난 값으로 취급하므로 더 이상 계산할 필요\n",
    "없이 곧바로 출력해보려 했으나 출력가능한 대상이 아니었다는 오류 메시지이다.\n",
    "같은 함수를 인자에 적용해 보면,  아마도\n",
    "`(\\y->(\\x->x) y) \"hello\"` $\\longmapsto$ `(\\x->x) \"hello\"` $\\longmapsto$ `\"hello\"`와 같은 과정으로,\n",
    "계산이 진행됨을 확인해 볼 수 있다."
   ]
  },
  {
   "cell_type": "code",
   "execution_count": 8,
   "id": "533fe563-2c58-4f7c-ac8a-0db2e70b4058",
   "metadata": {},
   "outputs": [
    {
     "data": {
      "text/plain": [
       "\"hello\""
      ]
     },
     "metadata": {},
     "output_type": "display_data"
    }
   ],
   "source": [
    "(\\y -> (\\x -> x) y) \"hello\""
   ]
  },
  {
   "cell_type": "raw",
   "id": "aecf05b3-1cb4-4922-8737-9cd4a0100992",
   "metadata": {},
   "source": [
    "~\\\\[-2ex]\\indent"
   ]
  },
  {
   "cell_type": "markdown",
   "id": "7b56e83c-ba31-4f54-8e01-26104ca0e9a5",
   "metadata": {},
   "source": [
    "하스켈을 비롯한 대부분의 프로그래밍언어들이 취하는 이러한 계산 방식을\n",
    "\\index{값계산|see{evaluation}}\\index{evaluation|see{값계산}}\n",
    "\\`값계산'(evaluation)이라 한다.\n",
    "일반적으로 람다계산법의\n",
    "\\index{줄임|see{reduction}}\\index{reduction|see{줄임}}\n",
    "줄임(reduction)과 대비되는 점은 다음과 같다. 줄임은 함수 몸체를 포함한\n",
    "어떤 부분식의 맥락에서도 계산의 핵심 규칙을 더 이상 적용할 수 없는 형태인\n",
    "\\index{표준형|see{normal form}}\\index{normal form|see{표준형}}\n",
    "표준형(normal form)에\n",
    "\\index{줄임!표준형}\\index{reduction!normal form}\n",
    "이를 때까지 진행하는 반면, 값계산은 특정 맥락에서만 계산을 진행하며 줄임의 표준형 외에도 더 많은\n",
    "형태의 식을 계산이 완료된\n",
    "\\index{값|see{value}}\\index{value|see{값계산}}\n",
    "값(value)으로\n",
    "\\index{값계산!값}\\index{evaluation!value}\n",
    "취급한다. 또한 줄임(reduction)의 가장 자연스러운\n",
    "작은걸음 의미구조 정의는 그림 \\ref{fig:UTLC}과 같이 어떤 맥락에서든 계산 진행을 허용하는 비결정적\n",
    "의미구조인 반면, 값계산(evaluation)은 한 갈래로만 계산과정이 진행되도록 결정적으로 맥락(context)을\n",
    "규정하는 것이 보통이다.\n",
    "예컨대, $((\\lambda x.x)(\\lambda y.y))~((\\lambda z.z)(\\lambda w.w))$는\n",
    "$\\textrm{@}_1$과 $\\textrm{@}_2$의 두 규칙 모두 적용 가능하므로 두 갈래로\n",
    "계산이 진행 가능하며, 이같이 비결정적인 모든 갈래의 줄임(reduction) 과정을 그림으로 나타내면 아래와 같다.\\vspace*{-1ex}\n",
    "\\begin{quote}\n",
    "\\begin{tikzcd}\n",
    "((\\lambda x.x)(\\lambda y.y))~((\\lambda z.z)(\\lambda w.w))\n",
    "\\arrow[d,\"\\textrm{@}_1\"] \\arrow[r,\"\\textrm{@}_2\"] \n",
    "& ((\\lambda x.x)(\\lambda y.y))~(\\lambda w.w)\n",
    "\\arrow[d,\"\\textrm{@}_1\"]\n",
    "\\\\\n",
    "(\\lambda y.y)~((\\lambda z.z)(\\lambda w.w))\n",
    "\\arrow[d,\"\\beta\"] \\arrow[r,\"\\textrm{@}_2\"]\n",
    "& (\\lambda y.y)~(\\lambda w.w)\n",
    "\\arrow[d,\"\\beta\"]\n",
    "\\\\\n",
    "(\\lambda z.z)(\\lambda w.w)\n",
    "\\arrow[r,\"\\beta\"]\n",
    "& (\\lambda w.w)\n",
    "\\end{tikzcd}\n",
    "\\vspace{-1ex}\n",
    "\\end{quote}\n",
    "\\noindent\n",
    "값계산(evaluation)의\n",
    "\\index{값계산}\\index{evaluation}\n",
    "경우에는 보통 함수적용식($e_1~e_2$)의 왼쪽($e_1$)이\n",
    "함수요약식($\\lambda x.e$)의 형태에 이를 때까지 왼쪽 부분식의 계산을 진행하여\n",
    "$\\beta$줄식($\\beta$-redex)의 형태로 만들어 놓는데, 그 이후 계산 과정은 어떤\n",
    "\\index{값계산 전략}\\index{evaluation strategy}\n",
    "값계산 전략인지에 따라 달라진다.\n",
    "\\index{게으른 값계산}\\index{lazy evaluation}\n",
    "게으른 값계산(lazy evaluation)은 위 그림에서\n",
    "$\\downarrow^{\\textrm{@}_1}\\,\\downarrow^{\\beta}\\,\\xrightarrow{\\beta}$의 경로를 취하며\n",
    "$\\beta$규칙으로 함수 적용부터,\n",
    "\\index{적극적 값계산}\\index{eager evaluation}\n",
    "적극적 값계산(eager evaluation)은\n",
    "$\\downarrow^{\\textrm{@}_1}\\,\\xrightarrow{\\textrm{@}_2}\\,\\downarrow^{\\beta}$의 경로를 취하며\n",
    "$\\textrm{@}_2$규칙으로 인자 계산부터 먼저 진행하는 전략이다."
   ]
  },
  {
   "cell_type": "code",
   "execution_count": 9,
   "id": "222ec82f-c29e-42b5-8604-4e32ab881fd1",
   "metadata": {},
   "outputs": [
    {
     "data": {
      "image/svg+xml": [
       "<?xml version=\"1.0\" encoding=\"UTF-8\" standalone=\"no\"?>\n",
       "<!DOCTYPE svg PUBLIC \"-//W3C//DTD SVG 1.1//EN\"\n",
       " \"http://www.w3.org/Graphics/SVG/1.1/DTD/svg11.dtd\">\n",
       "<!-- Generated by graphviz version 2.43.0 (0)\n",
       " -->\n",
       "<!-- Title: %3 Pages: 1 -->\n",
       "<svg width=\"568pt\" height=\"98pt\"\n",
       " viewBox=\"0.00 0.00 568.00 98.00\" xmlns=\"http://www.w3.org/2000/svg\" xmlns:xlink=\"http://www.w3.org/1999/xlink\">\n",
       "<g id=\"graph0\" class=\"graph\" transform=\"scale(1 1) rotate(0) translate(4 94)\">\n",
       "<title>%3</title>\n",
       "<polygon fill=\"white\" stroke=\"transparent\" points=\"-4,4 -4,-94 564,-94 564,4 -4,4\"/>\n",
       "<!-- ((λx.x)(λy.y)) ((λz.z)(λw.w)) -->\n",
       "<g id=\"node1\" class=\"node\">\n",
       "<title>((λx.x)(λy.y)) ((λz.z)(λw.w))</title>\n",
       "<text text-anchor=\"middle\" x=\"86.5\" y=\"-41.3\" font-family=\"Times,serif\" font-size=\"14.00\">((λx.x)(λy.y)) ((λz.z)(λw.w))</text>\n",
       "</g>\n",
       "<!-- ((λx.x)(λy.y)) (λw.w) -->\n",
       "<g id=\"node2\" class=\"node\">\n",
       "<title>((λx.x)(λy.y)) (λw.w)</title>\n",
       "<text text-anchor=\"middle\" x=\"275.5\" y=\"-68.3\" font-family=\"Times,serif\" font-size=\"14.00\">((λx.x)(λy.y)) (λw.w)</text>\n",
       "</g>\n",
       "<!-- ((λx.x)(λy.y)) ((λz.z)(λw.w))&#45;&gt;((λx.x)(λy.y)) (λw.w) -->\n",
       "<g id=\"edge1\" class=\"edge\">\n",
       "<title>((λx.x)(λy.y)) ((λz.z)(λw.w))&#45;&gt;((λx.x)(λy.y)) (λw.w)</title>\n",
       "<path fill=\"none\" stroke=\"black\" d=\"M173.06,-57.35C181.61,-58.59 190.25,-59.84 198.68,-61.05\"/>\n",
       "<polygon fill=\"black\" stroke=\"black\" points=\"198.46,-64.56 208.85,-62.52 199.46,-57.63 198.46,-64.56\"/>\n",
       "</g>\n",
       "<!-- (λy.y) ((λz.z)(λw.w)) -->\n",
       "<g id=\"node3\" class=\"node\">\n",
       "<title>(λy.y) ((λz.z)(λw.w))</title>\n",
       "<text text-anchor=\"middle\" x=\"275.5\" y=\"-14.3\" font-family=\"Times,serif\" font-size=\"14.00\">(λy.y) ((λz.z)(λw.w))</text>\n",
       "</g>\n",
       "<!-- ((λx.x)(λy.y)) ((λz.z)(λw.w))&#45;&gt;(λy.y) ((λz.z)(λw.w)) -->\n",
       "<g id=\"edge2\" class=\"edge\">\n",
       "<title>((λx.x)(λy.y)) ((λz.z)(λw.w))&#45;&gt;(λy.y) ((λz.z)(λw.w))</title>\n",
       "<path fill=\"none\" stroke=\"black\" d=\"M173.06,-32.65C182.08,-31.34 191.19,-30.03 200.06,-28.75\"/>\n",
       "<polygon fill=\"black\" stroke=\"black\" points=\"200.57,-32.21 209.96,-27.32 199.57,-25.28 200.57,-32.21\"/>\n",
       "</g>\n",
       "<!-- (λy.y) (λw.w) -->\n",
       "<g id=\"node6\" class=\"node\">\n",
       "<title>(λy.y) (λw.w)</title>\n",
       "<text text-anchor=\"middle\" x=\"423.5\" y=\"-68.3\" font-family=\"Times,serif\" font-size=\"14.00\">(λy.y) (λw.w)</text>\n",
       "</g>\n",
       "<!-- ((λx.x)(λy.y)) (λw.w)&#45;&gt;(λy.y) (λw.w) -->\n",
       "<g id=\"edge7\" class=\"edge\">\n",
       "<title>((λx.x)(λy.y)) (λw.w)&#45;&gt;(λy.y) (λw.w)</title>\n",
       "<path fill=\"none\" stroke=\"black\" d=\"M342.24,-72C350.65,-72 359.19,-72 367.4,-72\"/>\n",
       "<polygon fill=\"black\" stroke=\"black\" points=\"367.6,-75.5 377.6,-72 367.6,-68.5 367.6,-75.5\"/>\n",
       "</g>\n",
       "<!-- (λz.z)(λw.w) -->\n",
       "<g id=\"node4\" class=\"node\">\n",
       "<title>(λz.z)(λw.w)</title>\n",
       "<text text-anchor=\"middle\" x=\"423.5\" y=\"-14.3\" font-family=\"Times,serif\" font-size=\"14.00\">(λz.z)(λw.w)</text>\n",
       "</g>\n",
       "<!-- (λy.y) ((λz.z)(λw.w))&#45;&gt;(λz.z)(λw.w) -->\n",
       "<g id=\"edge3\" class=\"edge\">\n",
       "<title>(λy.y) ((λz.z)(λw.w))&#45;&gt;(λz.z)(λw.w)</title>\n",
       "<path fill=\"none\" stroke=\"black\" d=\"M341.39,-18C351.02,-18 360.83,-18 370.16,-18\"/>\n",
       "<polygon fill=\"black\" stroke=\"black\" points=\"370.45,-21.5 380.45,-18 370.45,-14.5 370.45,-21.5\"/>\n",
       "</g>\n",
       "<!-- (λy.y) ((λz.z)(λw.w))&#45;&gt;(λy.y) (λw.w) -->\n",
       "<g id=\"edge5\" class=\"edge\">\n",
       "<title>(λy.y) ((λz.z)(λw.w))&#45;&gt;(λy.y) (λw.w)</title>\n",
       "<path fill=\"none\" stroke=\"black\" d=\"M325.52,-36.13C339.25,-41.21 354.26,-46.76 368.27,-51.94\"/>\n",
       "<polygon fill=\"black\" stroke=\"black\" points=\"367.19,-55.28 377.79,-55.46 369.62,-48.71 367.19,-55.28\"/>\n",
       "</g>\n",
       "<!-- (λw.w) -->\n",
       "<g id=\"node5\" class=\"node\">\n",
       "<title>(λw.w)</title>\n",
       "<text text-anchor=\"middle\" x=\"532.5\" y=\"-41.3\" font-family=\"Times,serif\" font-size=\"14.00\">(λw.w)</text>\n",
       "</g>\n",
       "<!-- (λz.z)(λw.w)&#45;&gt;(λw.w) -->\n",
       "<g id=\"edge4\" class=\"edge\">\n",
       "<title>(λz.z)(λw.w)&#45;&gt;(λw.w)</title>\n",
       "<path fill=\"none\" stroke=\"black\" d=\"M466.79,-28.67C476.13,-31.03 485.94,-33.5 495.02,-35.8\"/>\n",
       "<polygon fill=\"black\" stroke=\"black\" points=\"494.35,-39.24 504.9,-38.29 496.06,-32.45 494.35,-39.24\"/>\n",
       "</g>\n",
       "<!-- (λy.y) (λw.w)&#45;&gt;(λw.w) -->\n",
       "<g id=\"edge6\" class=\"edge\">\n",
       "<title>(λy.y) (λw.w)&#45;&gt;(λw.w)</title>\n",
       "<path fill=\"none\" stroke=\"black\" d=\"M469.26,-60.71C477.89,-58.53 486.83,-56.27 495.16,-54.17\"/>\n",
       "<polygon fill=\"black\" stroke=\"black\" points=\"496.1,-57.54 504.94,-51.7 494.39,-50.76 496.1,-57.54\"/>\n",
       "</g>\n",
       "</g>\n",
       "</svg>\n"
      ]
     },
     "metadata": {},
     "output_type": "display_data"
    }
   ],
   "source": [
    "import IHaskell.Display.Graphviz\n",
    "dot ( \"digraph { rankdir=\\\"LR\\\"; node [shape=\\\"none\\\"]\"\n",
    "  ++\"\\\"((λx.x)(λy.y)) ((λz.z)(λw.w))\\\" -> \\\"((λx.x)(λy.y)) (λw.w)\\\";\"\n",
    "  ++\"\\\"((λx.x)(λy.y)) ((λz.z)(λw.w))\\\" -> \\\"(λy.y) ((λz.z)(λw.w))\\\";\"\n",
    "  ++\"\\\"(λy.y) ((λz.z)(λw.w))\\\" -> \\\"(λz.z)(λw.w)\\\" -> \\\"(λw.w)\\\";\"\n",
    "  ++\"\\\"(λy.y) ((λz.z)(λw.w))\\\" -> \\\"(λy.y) (λw.w)\\\" -> \\\"(λw.w)\\\";\"\n",
    "  ++\"\\\"((λx.x)(λy.y)) (λw.w)\\\" -> \\\"(λy.y) (λw.w)\\\";\"\n",
    "  ++\"}\" )"
   ]
  },
  {
   "cell_type": "markdown",
   "id": "a64e73ac-ca9c-4b9e-9f0e-1c7308f062f3",
   "metadata": {},
   "source": [
    "$~$\\vspace*{-6em}\\newline\n",
    "방금 전의 셀에서는 Graphviz를 연동하는 하스켈 라이브러리를 이용해\n",
    "앞서 본문에서 보여준 람다식을 비결정적으로 줄이는 그림을 자동으로 생성하여 출력하고 있다. \n",
    "이와 같이 ihaskell-notebook 환경에서는 웹브라우저를 매개로 한\n",
    "대화형 프로그래밍 환경의 장점 살려 실행 결과를 평이한 텍스트 형태만이\n",
    "아니라 HTML이나 그래픽 등의 형태로 출력하는 것도 가능하다."
   ]
  },
  {
   "cell_type": "markdown",
   "id": "3596986d-a91b-480d-8f4c-b5fe06650efc",
   "metadata": {},
   "source": [
    "하스켈이 적극적 값계산이 아닌 게으른 값계산에 따라 실행됨을 확인하는 실험을 하나 해보자.\n",
    "함수 몸체($v$)가 매개변수($x$)에 의존하지 않고 (즉, $x\\notin\\mathrm{fv}(v)$)\n",
    "이미 계산이 종료된 값인 함수요약식 $(\\lambda x.v)$를\n",
    "정상적인 값으로 계산이 끝나지 않고 오류가 발생하는 식 $e_\\textrm{bad}$에\n",
    "적용하는 함수적용식 $(\\lambda x.v)~e_\\textrm{bad}$를 생각해 보라.\n",
    "함수 인자부터 먼저 계산하는 전략인 적극적 값계산에 따르면 $e_\\textrm{bad}$를 먼저 계산하려 하므로 오류가 발생할 것이다.\n",
    "하지만 함수 적용부터 우선하는 전략인 게으른 값계산에 따르면 끝까지 계산되지 않은 $e_\\textrm{bad}$가 함수 매개변수 $x$에\n",
    "넘어가지만 $v$에 $x$에 의존하지 않으므로 $x$에 넘어간 $e_\\textrm{bad}$는 계산할 필요 없이 버려지며 계산 결과값은 $v$가 된다.\n",
    "실제로 하스켈로 $(\\lambda x.v)~e_\\textrm{bad}$에 해당하는 프로그램을 작성해 보면 다음과 같이\n",
    "게으른 계산법을 따름을 확인할 수 있다."
   ]
  },
  {
   "cell_type": "code",
   "execution_count": 10,
   "id": "fc07dcdd-eb1c-4fde-a92c-29e1144ed246",
   "metadata": {},
   "outputs": [
    {
     "ename": "",
     "evalue": "",
     "output_type": "error",
     "traceback": [
      "bad\nCallStack (from HasCallStack):\n  error, called at <interactive>:1:1 in interactive:Ghci300"
     ]
    }
   ],
   "source": [
    "error \"bad\"                 -- 오류를 발생시키는 error 함수의 실행 예시"
   ]
  },
  {
   "cell_type": "code",
   "execution_count": 11,
   "id": "c99127a5-fed0-4df5-b595-0ef064389fdc",
   "metadata": {},
   "outputs": [
    {
     "data": {
      "text/plain": [
       "\"good\""
      ]
     },
     "metadata": {},
     "output_type": "display_data"
    }
   ],
   "source": [
    "(\\x -> \"good\") (error \"bad\") -- 적극적 값계산에 따르면 오류가 발생해야"
   ]
  },
  {
   "cell_type": "markdown",
   "id": "63cfbb56-0e58-43cb-8819-0621ca7a8e3a",
   "metadata": {},
   "source": [
    "\\vspace*{-1.5ex}\n",
    "# 하스켈에서 변수와 함수의 선언\n",
    "\n",
    "앞절에서 람다계산법과 하스켈의 관계에 대해 간단히 알아보았다.\n",
    "여기서는 하스켈에서 람다계산법 이외의 추가적 문법요소 중 가장 기본적인 변수와 함수의 선언에 대해 알아본다.\\vspace*{-1.5ex}"
   ]
  },
  {
   "cell_type": "markdown",
   "id": "6d274ff4-5b87-4484-9f4b-3fd8cf259c81",
   "metadata": {},
   "source": [
    "## 지역 선언과 전역 선언\n",
    "지역변수는 let식으로 선언하여 그 안에서만 활용한다."
   ]
  },
  {
   "cell_type": "code",
   "execution_count": 12,
   "id": "80a7160a-9d6d-4d11-8e41-88e9eeadbe4c",
   "metadata": {},
   "outputs": [
    {
     "data": {
      "text/plain": [
       "10"
      ]
     },
     "metadata": {},
     "output_type": "display_data"
    }
   ],
   "source": [
    "let x1 = 5 in x1 + x1         -- 지역변수를 선언하여 활용하는 let식"
   ]
  },
  {
   "cell_type": "code",
   "execution_count": 13,
   "id": "566c8ee0-008f-4a72-b43b-255d21ebfb3c",
   "metadata": {},
   "outputs": [
    {
     "data": {
      "text/plain": [
       "49"
      ]
     },
     "metadata": {},
     "output_type": "display_data"
    }
   ],
   "source": [
    "let f1 = \\x -> x * x in f1 7  -- 지역변수를 함수값을 나타내는 람다식으로 정의"
   ]
  },
  {
   "cell_type": "code",
   "execution_count": 14,
   "id": "8a8de4ba-9a29-40dc-978d-48010333d263",
   "metadata": {},
   "outputs": [
    {
     "data": {
      "text/plain": [
       "25"
      ]
     },
     "metadata": {},
     "output_type": "display_data"
    }
   ],
   "source": [
    "let x1 = 5                 -- 여러개의 지역변수가 필요하다면\n",
    " in let f1 = \\x -> x * x   -- 이렇게 let식을 중첩해서 선언하고\n",
    "     in f1 x1              -- 활용하면 된다. (들여쓰기 필요!)"
   ]
  },
  {
   "cell_type": "code",
   "execution_count": 15,
   "id": "6a8a3452-1758-4b7d-9fdc-ad583910cdb2",
   "metadata": {},
   "outputs": [
    {
     "data": {
      "text/plain": [
       "25"
      ]
     },
     "metadata": {},
     "output_type": "display_data"
    }
   ],
   "source": [
    "let x1 = 5                 -- 이렇게 하나의 let식으로 한꺼번에\n",
    "    f1 = \\x -> x * x       -- 여러개의 지역변수를 선언하여\n",
    " in f1 x1                  -- 활용 가능하다. (들여쓰기 필요!)"
   ]
  },
  {
   "cell_type": "code",
   "execution_count": 16,
   "id": "0d78cbfc-5c75-439b-8db0-8a9f5d2a36b5",
   "metadata": {},
   "outputs": [
    {
     "ename": "",
     "evalue": "",
     "output_type": "error",
     "traceback": [
      "<interactive>:1:1: error: Variable not in scope: f1 :: t0 -> t\n<interactive>:1:4: error: Variable not in scope: x1"
     ]
    }
   ],
   "source": [
    "f1 x1                -- 지역변수는 범위를 벗어난 곳에서 접근 불가"
   ]
  },
  {
   "cell_type": "markdown",
   "id": "3e631f5b-3b61-4002-9926-75cbf4b38a74",
   "metadata": {},
   "source": [
    "\\noindent\n",
    "전역변수는 별도의 키워드 없이 등식의 형태로 독립적으로 선언한다."
   ]
  },
  {
   "cell_type": "code",
   "execution_count": 17,
   "id": "1a83a0ad-6aad-4341-b2b7-04095e63d082",
   "metadata": {},
   "outputs": [],
   "source": [
    "x2 = 5            -- 전역변수 선언에는 키워드(예약어) 필요없음"
   ]
  },
  {
   "cell_type": "code",
   "execution_count": 18,
   "id": "b27c3e0f-1fa8-4629-a252-7f4cc96f003c",
   "metadata": {},
   "outputs": [
    {
     "data": {
      "text/plain": [
       "10"
      ]
     },
     "metadata": {},
     "output_type": "display_data"
    }
   ],
   "source": [
    "x2 + x2           -- 다른 셀의 계산식에서 활용 가능"
   ]
  },
  {
   "cell_type": "code",
   "execution_count": 19,
   "id": "4bfe563a-f805-47c2-92b4-18a9a2d678c2",
   "metadata": {},
   "outputs": [
    {
     "data": {
      "text/plain": [
       "10"
      ]
     },
     "metadata": {},
     "output_type": "display_data"
    }
   ],
   "source": [
    "x2 = 5            -- 하나의 셀에서 선언과\n",
    "x2 + x2           -- 계산식을 섞어 쓸 수도 있다"
   ]
  },
  {
   "cell_type": "code",
   "execution_count": 20,
   "id": "ea7eb6eb-c476-40c7-b649-6ef8c2941293",
   "metadata": {},
   "outputs": [
    {
     "data": {
      "text/plain": [
       "49"
      ]
     },
     "metadata": {},
     "output_type": "display_data"
    }
   ],
   "source": [
    "f2 = \\x -> x * x  -- 전역변수를 함수값을 나타내는 람다식으로 정의\n",
    "f2 7"
   ]
  },
  {
   "cell_type": "code",
   "execution_count": 21,
   "id": "5b17dea7-7ccd-4a3e-ab73-e31277aa22f7",
   "metadata": {},
   "outputs": [
    {
     "data": {
      "text/plain": [
       "25"
      ]
     },
     "metadata": {},
     "output_type": "display_data"
    }
   ],
   "source": [
    "f2 x2             -- 전역변수에는 이렇게 다른 셀에서도 접근 가능 "
   ]
  },
  {
   "cell_type": "markdown",
   "id": "3f946555-cb2f-4bfa-808b-f70a92c85547",
   "metadata": {},
   "source": [
    "또 다른 형태의 `where` 키워드를 이용한 지역 선언이 있다.\n",
    "`let x = e1 in e`형태의 let식은 그 자체가 식(expression)으로\n",
    "전체 let식의 값은 곧 `e`를 계산한 값과 같으며, 단지 `e`에서 활용할\n",
    "지역변수를 그에 앞서 선언했을 따름이다. 식의 계산에 앞서 보조적인 지역 선언을\n",
    "하는 let과 대조적으로, 선언(declaration)의 뒤에서 보조적인\n",
    "지역 선언을 하는 키워드가 where이다. 같은 내용의 두 선언을 아래와 같이\n",
    "하나는 where로 다른 하나는 let식으로 표현해 보았다."
   ]
  },
  {
   "cell_type": "code",
   "execution_count": 22,
   "id": "dfb1e3c6-97ad-4982-abb3-6baada2ff930",
   "metadata": {},
   "outputs": [],
   "source": [
    "circleArea   =  pi * r^2 where r = 3\n",
    "\n",
    "circleArea'  =  let r = 3 in pi * r^2"
   ]
  },
  {
   "cell_type": "code",
   "execution_count": 23,
   "id": "6f139480-f8e5-4211-bc37-ffaaa4a8f878",
   "metadata": {},
   "outputs": [
    {
     "data": {
      "text/plain": [
       "28.274333882308138"
      ]
     },
     "metadata": {},
     "output_type": "display_data"
    },
    {
     "data": {
      "text/plain": [
       "28.274333882308138"
      ]
     },
     "metadata": {},
     "output_type": "display_data"
    }
   ],
   "source": [
    "circleArea\n",
    "\n",
    "circleArea'"
   ]
  },
  {
   "cell_type": "code",
   "execution_count": 24,
   "id": "8421f1df-cdfc-4f06-8a2a-3fa36e1b4e84",
   "metadata": {},
   "outputs": [
    {
     "data": {
      "text/plain": [
       "3.141592653589793"
      ]
     },
     "metadata": {},
     "output_type": "display_data"
    }
   ],
   "source": [
    "pi  -- 참고로 pi는 표준 라이브러리에서 정의해 놓은 변수다"
   ]
  },
  {
   "cell_type": "code",
   "execution_count": 25,
   "id": "d31a084a-ae59-469f-a8d3-ec72f818773f",
   "metadata": {},
   "outputs": [],
   "source": [
    "rectArea = x * y\n",
    "         where     \n",
    "           x = 3   -- 두 개 이상의 지역 변수도 한꺼번에\n",
    "           y = 4   -- where로 선언 가능 (들여쓰기 필요!)"
   ]
  },
  {
   "cell_type": "code",
   "execution_count": 26,
   "id": "4d707cf2-5811-4b9a-b3d6-53439df7d71a",
   "metadata": {},
   "outputs": [
    {
     "data": {
      "text/plain": [
       "12"
      ]
     },
     "metadata": {},
     "output_type": "display_data"
    }
   ],
   "source": [
    "rectArea"
   ]
  },
  {
   "cell_type": "markdown",
   "id": "1b951707-76ed-4fef-8e8e-6c9e847c260c",
   "metadata": {},
   "source": [
    "## 간략한 형태의 함수 선언과 함수요약식\n",
    "람다식으로 선언하는 `f = \\x -> e` 대신 `f x = e` 형태로도 함수를 선언할 수 있다."
   ]
  },
  {
   "cell_type": "code",
   "execution_count": 27,
   "id": "6d633070-55fd-4fb4-b9bf-ee5dd370bed7",
   "metadata": {},
   "outputs": [],
   "source": [
    "f2 = \\x -> x * x  -- 함수요약식의 매개변수를 등호의 왼쪽으로 보내\n",
    "f2'   x  = x * x  -- 람다식보다 더 간결한 형태로 똑같은 함수 선언"
   ]
  },
  {
   "cell_type": "code",
   "execution_count": 28,
   "id": "89d7f754-6bc6-44ee-b84b-4b9d8011dd41",
   "metadata": {},
   "outputs": [
    {
     "data": {
      "text/plain": [
       "81"
      ]
     },
     "metadata": {},
     "output_type": "display_data"
    },
    {
     "data": {
      "text/plain": [
       "81"
      ]
     },
     "metadata": {},
     "output_type": "display_data"
    }
   ],
   "source": [
    "f2  9\n",
    "f2' 9"
   ]
  },
  {
   "cell_type": "code",
   "execution_count": 29,
   "id": "112cbb93-311d-48d1-9ee8-905522988c06",
   "metadata": {},
   "outputs": [],
   "source": [
    "f3 = \\x -> \\y -> x + y   -- 두 개 이상 중첩된 람다식으로 선언된 함수를\n",
    "f3'   x  = \\y -> x + y   -- 등호 왼쪽으로 가장 바깥의 매개변수를 옮기고\n",
    "f3''  x     y  = x + y   -- 또 그 다음 매개변수도 옮겨서 이렇게 선언"
   ]
  },
  {
   "cell_type": "code",
   "execution_count": 30,
   "id": "6192a97e-b599-4f25-8b70-97d844d22c31",
   "metadata": {},
   "outputs": [
    {
     "data": {
      "text/plain": [
       "9"
      ]
     },
     "metadata": {},
     "output_type": "display_data"
    },
    {
     "data": {
      "text/plain": [
       "9"
      ]
     },
     "metadata": {},
     "output_type": "display_data"
    },
    {
     "data": {
      "text/plain": [
       "9"
      ]
     },
     "metadata": {},
     "output_type": "display_data"
    }
   ],
   "source": [
    "f3   4 5\n",
    "f3'  4 5\n",
    "f3'' 4 5"
   ]
  },
  {
   "cell_type": "markdown",
   "id": "f722ee5c-d56e-4ab3-be0d-2bdaf4c09afe",
   "metadata": {},
   "source": [
    "\\noindent\n",
    "람다식의 구체적 문법에서 함수 적용은 좌결합(left associative)이며 하스켈에서도 마찬가지다.\n",
    "즉, 위의 셀에서 연이은 함수적용식 `f3 4 5`는 `(f3 4) 5`와 같은 뜻이다. 그리고 `\\x -> \\y -> e`는\n",
    "`\\x ->(\\y -> e)`와 같은 뜻이며, 이처럼 연달아 겹쳐진 함수요약식을 하스켈에서는\n",
    "`\\x y -> e`로 간략화해 작성할 수 있다."
   ]
  },
  {
   "cell_type": "code",
   "execution_count": 31,
   "id": "3ad0af97-f2de-4554-baa1-bc4530d4c17e",
   "metadata": {},
   "outputs": [
    {
     "data": {
      "text/plain": [
       "9"
      ]
     },
     "metadata": {},
     "output_type": "display_data"
    },
    {
     "data": {
      "text/plain": [
       "9"
      ]
     },
     "metadata": {},
     "output_type": "display_data"
    },
    {
     "data": {
      "text/plain": [
       "9"
      ]
     },
     "metadata": {},
     "output_type": "display_data"
    }
   ],
   "source": [
    "(\\x -> \\y -> x + y ) 4 5\n",
    "(\\x ->(\\y -> x + y)) 4 5\n",
    "(\\x     y -> x + y ) 4 5"
   ]
  },
  {
   "cell_type": "markdown",
   "id": "0f3723a2-7962-40b7-9dc5-2c3cd7c013be",
   "metadata": {},
   "source": [
    "\\noindent\n",
    "참고로, 다른 문법요소가 추가되지 않은 순수한 람다계산법에서는\n",
    "이름, 함수요약, 함수적용의 세 문법요소를 모두 람다식이라고 한다.\n",
    "한편, 그 외의 다양한 문법요소를 포함하는 프로그래밍언어의\n",
    "소스코드에서 \\`람다식'이란 변수(이름)나 함수적용식의 형태가 아닌\n",
    "`\\x -> e` 형태의 함수요약식만을 일컫는다."
   ]
  },
  {
   "cell_type": "markdown",
   "id": "fba66876-bc19-4415-8624-aad2ebe33465",
   "metadata": {},
   "source": [
    "# 튜플과 패턴\n",
    "하스켈에서는 순서쌍을 가장 익숙한 표기법대로 표현할 수 있으며,\n",
    "각 요소가 계산이 완료된 순서쌍은 그 자체로 계산이 완료된 값이다."
   ]
  },
  {
   "cell_type": "code",
   "execution_count": 32,
   "id": "0771979b-9399-46e8-b902-27039fb9f270",
   "metadata": {},
   "outputs": [
    {
     "data": {
      "text/plain": [
       "(3,4)"
      ]
     },
     "metadata": {},
     "output_type": "display_data"
    },
    {
     "data": {
      "text/plain": [
       "(\"hello\",99)"
      ]
     },
     "metadata": {},
     "output_type": "display_data"
    },
    {
     "data": {
      "text/plain": [
       "((3,4),(\"hello\",99))"
      ]
     },
     "metadata": {},
     "output_type": "display_data"
    }
   ],
   "source": [
    "(3, 4)                -- 같은 종류의 값으로 이루어진 순서쌍\n",
    "(\"hello\", 99)         -- 다른 종류의 값으로 이루어진 순서쌍\n",
    "((3,4), (\"hello\",99)) -- 순서쌍을 요소로 갖는 중첩된 순서쌍"
   ]
  },
  {
   "cell_type": "markdown",
   "id": "510dade6-cbc0-49f4-94eb-0cba6620462f",
   "metadata": {},
   "source": [
    "\\noindent\n",
    "두 개의 요소로 이루어진 순서쌍을 일반화한 구조가 튜플(tuple)이며,\n",
    "$n$개의 요소로 이루어진 튜플을 $n$튜플($n$-tuple)이라 한다.\n",
    "즉, $2$튜플을 순서쌍(pair)이라고도 부르는 것이다.\n",
    "그 이상의 요소로 이루어진 $3$튜플, $4$튜플 등도 영어로는 트리플, 쿼드러플 등\n",
    "다른 이름으로 부르기도 하지만 우리말로는 그냥 $n$튜플로 부르는 것이 보통이다.\n",
    "참고로, 여닫는 괄호를 빈칸 없이 붙여 쓰면 아무런 요소를 갖지 않는 빈 튜플을 나타내는데,\n",
    "이를 특별히 \\`유닛'(unit)이라 부르며 실행 결과를 신경쓰지 않는 함수의 계산값으로 주로 사용된다."
   ]
  },
  {
   "cell_type": "code",
   "execution_count": 33,
   "id": "905505f5-5d85-4943-b20e-6bb547ca6d89",
   "metadata": {},
   "outputs": [
    {
     "data": {
      "text/plain": [
       "()"
      ]
     },
     "metadata": {},
     "output_type": "display_data"
    },
    {
     "data": {
      "text/plain": [
       "(1,\"two\")"
      ]
     },
     "metadata": {},
     "output_type": "display_data"
    },
    {
     "data": {
      "text/plain": [
       "(1,\"two\",3)"
      ]
     },
     "metadata": {},
     "output_type": "display_data"
    },
    {
     "data": {
      "text/plain": [
       "(1,\"two\",3,\"four\")"
      ]
     },
     "metadata": {},
     "output_type": "display_data"
    }
   ],
   "source": [
    "()                   -- 0-tuple (unit)\n",
    "(1,\"two\")            -- 2-tuple (pair)\n",
    "(1,\"two\",3)          -- 3-tuple (triple)\n",
    "(1,\"two\",3,\"four\")   -- 4-tuple (quadruple)"
   ]
  },
  {
   "cell_type": "raw",
   "id": "ba8fbb92-c4d5-4d6f-8ff7-e683ac0d0c2b",
   "metadata": {},
   "source": [
    "~\\\\[-3ex]"
   ]
  },
  {
   "cell_type": "markdown",
   "id": "056bdf8f-6820-4f75-8c2c-1c4c4570d854",
   "metadata": {},
   "source": [
    "그런데, $1$튜플($1$-tuple)은 하스켈에 없다. 왜냐하면, 어차피 하나의 요소만으로\n",
    "이루어진 튜플을 굳이 만들 필요도 없이 그 요소 자체를 사용하면 되기 때문이다.\n",
    "산술식 `((2 + 3) + 4)`에서 필요없는 괄호을 생략해 `2 + 3 + 4`로 표현할 수 있다.\n",
    "그러니까 `(e)`는 1튜플이 아니라 그냥 `e`에 괄호를 둘렀을 뿐이다."
   ]
  },
  {
   "cell_type": "code",
   "execution_count": 34,
   "id": "2846c0e7-5d81-48ed-a7e7-3c6e16f74eea",
   "metadata": {},
   "outputs": [
    {
     "data": {
      "text/plain": [
       "9"
      ]
     },
     "metadata": {},
     "output_type": "display_data"
    },
    {
     "data": {
      "text/plain": [
       "9"
      ]
     },
     "metadata": {},
     "output_type": "display_data"
    },
    {
     "data": {
      "text/plain": [
       "9"
      ]
     },
     "metadata": {},
     "output_type": "display_data"
    },
    {
     "data": {
      "text/plain": [
       "9"
      ]
     },
     "metadata": {},
     "output_type": "display_data"
    }
   ],
   "source": [
    "(9)\n",
    "9\n",
    "((2 + 3) + 4)\n",
    "2 + 3 + 4"
   ]
  },
  {
   "cell_type": "markdown",
   "id": "f30d3d8e-d9dd-48fc-b24b-afd47f7b8590",
   "metadata": {},
   "source": [
    "튜플 중에서도 가장 자주 활용되는 순서쌍의 첫째와 둘째 요소를 선택하는\n",
    "함수 `fst`와 `snd`를 하스켈 표준 라이브러리에서 기본적으로 제공한다."
   ]
  },
  {
   "cell_type": "code",
   "execution_count": 35,
   "id": "14e8053c-0e3f-4cd9-a1d2-f6306e35ccb7",
   "metadata": {},
   "outputs": [
    {
     "data": {
      "text/plain": [
       "3"
      ]
     },
     "metadata": {},
     "output_type": "display_data"
    },
    {
     "data": {
      "text/plain": [
       "4"
      ]
     },
     "metadata": {},
     "output_type": "display_data"
    }
   ],
   "source": [
    "p1 = (3,4) \n",
    "\n",
    "fst p1\n",
    "snd p1"
   ]
  },
  {
   "cell_type": "code",
   "execution_count": 36,
   "id": "6983503f-7a57-4608-a174-27073b743b3f",
   "metadata": {},
   "outputs": [
    {
     "data": {
      "text/plain": [
       "7"
      ]
     },
     "metadata": {},
     "output_type": "display_data"
    }
   ],
   "source": [
    "x1 = fst p1  -- 순서쌍의 요소를 뽑아 하나씩\n",
    "y1 = snd p1  -- 하나씩 변수들로 선언해 놓고\n",
    "\n",
    "x1 + y1      -- 필요한 곳에 활용"
   ]
  },
  {
   "cell_type": "markdown",
   "id": "9c65112c-7713-4a95-a91f-c370e6d81f0a",
   "metadata": {},
   "source": [
    "변수 선언을 일반화한 패턴(pattern)으로\n",
    "순서쌍과 같은 구조의 여러 요소에 대해 한꺼번에 여러 변수를 선언할 수 있다.\n",
    "선언의 왼쪽에 순서쌍 패턴, 즉 변수 대신 순서쌍의 구조를 나타내는 괄호와 쉼표를 표시하고\n",
    "각 요소들의 위치에 새로운 변수 이름들을 작성하면 된다. 뒤집어 말하자면\n",
    "지금까지 살펴본 선언에서 변수란 구조 전체를 대표하는 가장 단순한 패턴으로 이해할 수 있다."
   ]
  },
  {
   "cell_type": "code",
   "execution_count": 37,
   "id": "33a4d5a4-aa3e-45b1-9346-2eea55679d96",
   "metadata": {},
   "outputs": [],
   "source": [
    "(x2,y2) = p1  -- 순서쌍 p1의 첫째,둘째 요소가 x2,y2로 선언됨"
   ]
  },
  {
   "cell_type": "code",
   "execution_count": 38,
   "id": "2dc3528e-732b-4784-b98f-70aa532a149d",
   "metadata": {},
   "outputs": [
    {
     "data": {
      "text/plain": [
       "(3,4)"
      ]
     },
     "metadata": {},
     "output_type": "display_data"
    },
    {
     "data": {
      "text/plain": [
       "3"
      ]
     },
     "metadata": {},
     "output_type": "display_data"
    },
    {
     "data": {
      "text/plain": [
       "3"
      ]
     },
     "metadata": {},
     "output_type": "display_data"
    }
   ],
   "source": [
    "p1\n",
    "x1\n",
    "x2"
   ]
  },
  {
   "cell_type": "markdown",
   "id": "2fc03eda-f1af-4962-98c3-8a5dd543ee1f",
   "metadata": {},
   "source": [
    "\\noindent\n",
    "필요하다면 `@`기호로 전체 구조를 대표하는 변수도 각각의 요소에 대한 변수와 함께 한꺼번에 선언 가능하다"
   ]
  },
  {
   "cell_type": "code",
   "execution_count": 39,
   "id": "7298f0fe-36a9-423b-a81a-6f2b72d17129",
   "metadata": {},
   "outputs": [],
   "source": [
    "p3@(x3,y3) = p1 -- 순서쌍 p1 전체와 첫째,둘째 요소가 p3와 x3,y3로 선언됨"
   ]
  },
  {
   "cell_type": "code",
   "execution_count": 40,
   "id": "c6daaff3-8e04-489b-9b3e-b99968c4d473",
   "metadata": {},
   "outputs": [
    {
     "data": {
      "text/plain": [
       "(3,4)"
      ]
     },
     "metadata": {},
     "output_type": "display_data"
    },
    {
     "data": {
      "text/plain": [
       "(3,4)"
      ]
     },
     "metadata": {},
     "output_type": "display_data"
    },
    {
     "data": {
      "text/plain": [
       "3"
      ]
     },
     "metadata": {},
     "output_type": "display_data"
    },
    {
     "data": {
      "text/plain": [
       "4"
      ]
     },
     "metadata": {},
     "output_type": "display_data"
    }
   ],
   "source": [
    "p1\n",
    "p3\n",
    "x3\n",
    "y3"
   ]
  },
  {
   "cell_type": "markdown",
   "id": "f3c4a0e4-6146-4f6a-87bb-e70900fbf617",
   "metadata": {},
   "source": [
    "전역 선언 외에도 지역 선언이나 함수 매개변수 등 변수가 유효범위에 묶이는 곳에 일반적으로 패턴이 올 수 있다."
   ]
  },
  {
   "cell_type": "code",
   "execution_count": 41,
   "id": "c51ebbab-7285-421e-bc44-b2f709b8265a",
   "metadata": {},
   "outputs": [
    {
     "data": {
      "text/plain": [
       "(3,4)"
      ]
     },
     "metadata": {},
     "output_type": "display_data"
    },
    {
     "data": {
      "text/plain": [
       "3"
      ]
     },
     "metadata": {},
     "output_type": "display_data"
    },
    {
     "data": {
      "text/plain": [
       "4"
      ]
     },
     "metadata": {},
     "output_type": "display_data"
    }
   ],
   "source": [
    "p1\n",
    "(\\(x,y) -> x) p1\n",
    "(\\(x,y) -> y) p1"
   ]
  },
  {
   "cell_type": "markdown",
   "id": "5924e833-baa7-4fd3-b6f0-6d24ed1f8bd2",
   "metadata": {},
   "source": [
    "\\noindent\n",
    "순서쌍의 요소를 선택하는 표준 라이브러리 함수 `fst`와 `snd`도 사실은 패턴으로 작성되어 있다.\n",
    "마찬가지 역할을 하는 `myfst`와 `mysnd`를 다음과 같이 선언하여 활용할 수 있다."
   ]
  },
  {
   "cell_type": "code",
   "execution_count": 42,
   "id": "08289ccb-8241-464a-8986-9d023efcbf96",
   "metadata": {},
   "outputs": [
    {
     "data": {
      "text/plain": [
       "3"
      ]
     },
     "metadata": {},
     "output_type": "display_data"
    },
    {
     "data": {
      "text/plain": [
       "4"
      ]
     },
     "metadata": {},
     "output_type": "display_data"
    }
   ],
   "source": [
    "myfst = \\(x,y) -> x\n",
    "mysnd    (x,y) =  y\n",
    "\n",
    "myfst p1\n",
    "mysnd p1"
   ]
  },
  {
   "cell_type": "markdown",
   "id": "25e7e0d7-c8cf-418f-aa3b-01257b11b967",
   "metadata": {},
   "source": [
    "위의 `myfst` 선언에서 `y`와 `mysnd` 선언에서 `x`는 쓰이지 않는다.\n",
    "이렇게 패턴에서 쓰이지 않는 요소를 와일드카드 패턴(`_`)으로 표시하면\n",
    "코드의 가독성을 높일 수 있다."
   ]
  },
  {
   "cell_type": "code",
   "execution_count": 43,
   "id": "ec285524-649b-4d9b-8607-08d31ffbc921",
   "metadata": {},
   "outputs": [
    {
     "data": {
      "text/plain": [
       "3"
      ]
     },
     "metadata": {},
     "output_type": "display_data"
    },
    {
     "data": {
      "text/plain": [
       "4"
      ]
     },
     "metadata": {},
     "output_type": "display_data"
    }
   ],
   "source": [
    "myfst = \\(x,_) -> x  -- 선언되기만 하고 쓰이지 않는 변수 대신\n",
    "mysnd    (_,y) =  y  -- 와일드카드 패턴을 사용하면 좋다\n",
    "\n",
    "myfst p1\n",
    "mysnd p1"
   ]
  },
  {
   "cell_type": "markdown",
   "id": "465374c3-36f2-4801-bd2e-28a2bd390e42",
   "metadata": {},
   "source": [
    "\\noindent\n",
    "인자를 무시하고 0만 돌려주는 함수도 와일드카드 패턴으로 선언할 수 있다."
   ]
  },
  {
   "cell_type": "code",
   "execution_count": 44,
   "id": "0f088ad1-1272-4b8f-b422-45b7578e6731",
   "metadata": {},
   "outputs": [
    {
     "data": {
      "text/plain": [
       "0"
      ]
     },
     "metadata": {},
     "output_type": "display_data"
    },
    {
     "data": {
      "text/plain": [
       "0"
      ]
     },
     "metadata": {},
     "output_type": "display_data"
    }
   ],
   "source": [
    "f0 _ = 0   -- 패턴 전체를 와일드카드 패턴으로 작성하는 것도 가능하다\n",
    "\n",
    "f0 12\n",
    "f0 999"
   ]
  },
  {
   "cell_type": "markdown",
   "id": "931265dd-f900-4bf2-b2fb-075ab1ebd93b",
   "metadata": {},
   "source": [
    "여기서 다룬 튜플에 대한 패턴 외에도 정수 등의 기본타입이나\n",
    "리스트 및 다른 사용자 정의 데이터 구조에 대한 패턴도 하스켈에 지원한다.\n",
    "패턴에 대한 추가적인 내용은 그러한 내용을 활용하는 예제를 다루면서\n",
    "자연스럽게 친숙해지기로 하자. 좀더 차근차근 하스켈의 문법요소를\n",
    "살펴보고 싶다면 하스켈 프로그래밍을 주제로 하는 교재\\cite{Hutton2016pih2nd}를 참고하라."
   ]
  },
  {
   "cell_type": "markdown",
   "id": "37e05b56-6250-4dd3-b330-dfa9b47d37d1",
   "metadata": {},
   "source": [
    "# 타입있는 람다계산법과 하스켈\n",
    "지금까지 하스켈 소스코드에서 타입이 단 한 번도 등장하지 않았고\n",
    "에러 메시지만 타입에 대한 내용이 조금 있었다. 그렇다고 해서 하스켈이\n",
    "실행 중에만 타입을 따지는 동적 타입 언어는 결코 아니다. 사실 하스켈은 학계의\n",
    "연구 결과를 상당히 적극적으로 반영한 매우 정교한 정적 타입 시스템이 돋보이는 언어다.\n",
    "그럼에도 하스켈 소스코드에서 타입에 정보가 번잡스럽게 드러나지 않는 까닭은\n",
    "프로그래머가 타입 정보를 자세히 알려주지 않아도 컴파일러가 자동으로 타입을 유추하기 때문이다.\n",
    "참고로, 타입 유추(type inferene)에 관해 선구적인 업적으로 유명한 학자가\n",
    "앞서 ML의 창시자로 소개한 로빈 밀너(Robin Milner)로, ML과 Haskell 등\n",
    "많은 함수형 언어의 타입 시스템이 그의 연구\\cite{Milner78}를 바탕으로 한다.\n",
    "여기서는 타입 유추보다는 타입있는 람다계산법과 하스켈을 관련지어 설명한다.\n",
    "\n",
    "알론조 처치는 그가 창시한 람다계산법을 논리체계와 연관지으려 할 때\n",
    "발생하는 모순(paradox)을 피하고자 단순한 타입을 추가한 람다계산법인\n",
    "\\index{단순타입 람다계산법|see{simply-typed $\\lambda$-calculus}}\\index{simply-typed $\\lambda$-calculus|see{단순타입 람다계산법}}\\index{STLC|see{simply-typed $\\lambda$-calculus}}\\index{STLC|see{단순타입 람다계산법}}\n",
    "단순타입 람다계산법\\cite{Church1940stlc}을 고안하였고,\n",
    "\\index{람다계산법!타입있는 람다계산법!단순타입 람다계산법}\\index{$\\lambda$-calculus!typed $\\lambda$-calculus!simply-typed $\\lambda$-calculus}\n",
    "그 이후로 더 다채로운 기능의 타입을 갖춘 람다계산법이 연구되었다.\n",
    "이렇게 타입이 첨가된 부류의 람다계산법을\n",
    "\\index{타입있는 람다계산법|see{typed $\\lambda$-calculus}}\\index{typed $\\lambda$-calculus|see{타입있는 람다계산법}}\n",
    "타입있는 람다계산법(typed $\\lambda$-calculus)이라\n",
    "\\index{람다계산법!타입있는 람다계산법}\\index{$\\lambda$-calculus!typed $\\lambda$-calculus}\n",
    "부르며,\n",
    "그에 대비되는 타입이 추가되기 전에 원래의 람다계산법을\n",
    "\\index{타입없는 람다계산법}\\index{untyped $\\lambda$-calculus}\n",
    "타입없는 람다계산법(untyped $\\lambda$-calculus)이라 부른다."
   ]
  },
  {
   "cell_type": "raw",
   "id": "bcad0abb-2270-462c-a936-71fa03274f6c",
   "metadata": {},
   "source": [
    "\n",
    "\\begin{figure}"
   ]
  },
  {
   "cell_type": "markdown",
   "id": "ab87f9ca-3f42-4f12-8697-dc209b896467",
   "metadata": {},
   "source": [
    "문법구조\\vspace{-4.5ex}\n",
    "\\begin{align*}\n",
    "\\qquad\n",
    "t \\in B & \\quad\\text{\\small(기본타입)} &\n",
    "\\tau\\in T ~::= ~& t ~\\mid~ \\tau \\to \\tau\n",
    "\\\\\n",
    "c \\in C & \\quad\\text{\\small(기본상수)} &\n",
    "e\\in E ~::=~ & c ~\\mid~ x ~\\mid~ \\lambda x{\\,:\\,}\\tau.\\,e ~\\mid~ e~e\n",
    "\\end{align*}\n",
    "타입규칙 $\\qquad\n",
    "\\Delta ~::=~ c{\\,:\\,}\\tau,\\Delta ~\\mid~ \\bm{\\cdot}\n",
    "\\qquad\\qquad\\qquad\n",
    "\\Gamma ~::=~ x{\\,:\\,}\\tau,\\Gamma ~\\mid~ \\bm{\\cdot}$\n",
    "$$\n",
    "{\\scriptstyle(\\textsc{Con})}\n",
    "\\frac{~ ~}{~ \\Gamma \\vdash c:\\tau ~}\n",
    "({\\scriptstyle c{\\,:\\,}\\tau\\;\\in\\,\\Delta})\n",
    "\\qquad\\qquad\n",
    "{\\scriptstyle(\\textsc{Var})}\n",
    "\\frac{~ ~}{~ \\Gamma \\vdash x:\\tau ~}\n",
    "({\\scriptstyle x{\\,:\\,}\\tau\\;\\in\\,\\Gamma})\n",
    "$$\n",
    "\\vspace*{-.5ex}\n",
    "$$\n",
    "{\\scriptstyle(\\textsc{Abs})}\n",
    "\\frac{~ x:\\tau_2,\\Gamma \\vdash e:\\tau ~}{~ \\Gamma \\vdash \\lambda x{\\,:\\,}\\tau_2.\\,e : \\tau_2\\to\\tau ~}\n",
    "\\qquad\n",
    "{\\scriptstyle(\\textsc{App})}\n",
    "\\frac{~ \\Gamma \\vdash e_1:\\tau_2\\to\\tau ~\\quad~ \\Gamma \\vdash e_2:\\tau_2 ~}{~ \\Gamma \\vdash e_1\\;e_2 : \\tau ~}\n",
    "$$"
   ]
  },
  {
   "cell_type": "raw",
   "id": "87d8141e-db3c-41dd-b8cb-c73dfeae8893",
   "metadata": {},
   "source": [
    "\\caption{처치(Church)의 단순타입 람다계산법(simply-typed $\\lambda$-calculus) \\label{fig:STLC} }\n",
    "\\end{figure}\n"
   ]
  },
  {
   "cell_type": "markdown",
   "id": "b7a39db6-afe8-4101-aaa5-625052ad159e",
   "metadata": {},
   "source": [
    "처치가 고안한 단순타입 람다계산법(STLC, 그림 \\ref{fig:STLC})에는\n",
    "원래 람다식의 세 문법요소 외에 기본상수(c)가 또 한 가지 추가된다.\n",
    "또한, 타입없는 람다계산법에서 함수요약식($\\lambda x.e$)의 매개변수($x$) 옆에\n",
    "콜론($:$)기호로 타입 표기가 추가된 $\\lambda x{\\,:\\,}\\tau.\\,e$를 STLC의 함수요약식 형태로 삼는데,\n",
    "여기서 $x{\\,:\\,}\\tau$는 함수 매개변수 $x$에 넘어오는 인자의 타입이 $\\tau$여야 함을 나타낸다.\n",
    "참고로, $e:\\tau$는 타입 이론에서 식 $e$의 타입이 $\\tau$임을 뜻하는 통상적인 표기다.\n",
    "물론 이런 타입을 표기하기 위해서는 타입에 대한 문법구조가 정의되어야 한다.\n",
    "STLC의 타입은 기본타입($t$)이거나 함수타입($\\tau\\to\\tau$)이다.\n",
    "\n",
    "\\index{타입규칙|see{typing rule}}\\index{typing rule|see{타입규칙}}\n",
    "STLC의 타입규칙은 $\\Gamma \\vdash e:\\tau$ 형태의\n",
    "\\index{판단|see{judgement}}\\index{judgement|see{판단}}\n",
    "판단(judgement)을 증명하기 위한\n",
    "\\index{추론규칙}\\index{inference rule}\n",
    "추론규칙의 형식으로 작성되어 있다.\n",
    "$\\Gamma$를 지역적으로 가정할 때 $e:\\tau$를 증명할 수 있다는 판단을 $\\Gamma \\vdash e:\\tau$로 나타낸다.\n",
    "상수나 이름과 타입을 관련짓는 가정으로 이루어진 $\\Delta$나 $\\Gamma$와 같은 구조를\n",
    "\\index{타입문맥|see{typing context}}\\index{typing context|see{타입문맥}}\n",
    "타입문맥(typing context)\n",
    "혹은\n",
    "\\index{타입환경|see{typing environment}}\\index{typing environment|see{타입환경}}\n",
    "타입환경(typing environment)이라고 부르며,\n",
    "타입과 관련된 내용만을 다루는 혼란의 여지가 없는 맥락에서는 그냥 \\`문맥' 혹은 \\`환경'이라고 줄여서 부른다.\n",
    "기본상수($c$)의 타입에 관한 \\textsc{\\small Con}규칙은 미리 주어지는 전역환경 $\\Delta$에 따라\n",
    "지역환경 $\\Gamma$과 무관하게 기본상수 $c$의 타입이 판단됨을 뜻한다.\n",
    "이름($x$)의 타입에 관한 \\textsc{\\small Var}규칙은\n",
    "지역환경 $\\Gamma$에 따라 이름 $x$의 타입이 판단됨을 뜻한다.\n",
    "함수요약식($\\lambda x{\\,:\\,}\\tau_2.\\,e$)의 타입에 관한 \\textsc{\\small Abs}규칙은\n",
    "함수 매개변수의 타입을 추가로 가정한 환경 $x:\\tau_2,\\Gamma$에서 함수 몸체 $e$의 타입을 $\\tau$로 판단할 수 있다면\n",
    "함수요약식 $\\lambda x{\\,:\\,}\\tau_2.\\,e$의 타입을 $\\tau_2\\to\\tau$로 판단할 수 있음을 뜻한다.\n",
    "함수적용식($e_1\\;e_2$)의 타입에 관한 \\textsc{\\small App}규칙은 같은 환경 $\\Gamma$에 따라\n",
    "왼쪽 $e_1$의 타입은 $\\tau_2\\to\\tau$으로 오른쪽 $e_2$의 타입은 $\\tau_2$으로,\n",
    "즉 $e_1$의 함수타입에서 정의역(화살표 왼편)과 $e_2$의 타입이 일치하도록, 판단할 수 있다면\n",
    "함수적용식 $e_1\\;e_2$의 타입을 $e_1$의 함수타입에서 공역(화살표 오른편)에 해당하는 $\\tau$로 판단할 수 있음을 뜻한다."
   ]
  },
  {
   "cell_type": "markdown",
   "id": "41b066c1-078a-4a75-884a-ee5efd50b742",
   "metadata": {},
   "source": [
    "기본타입의 집합($B$), 기본상수의 집합($C$), 전역환경($\\Delta$)를 설정함으로써 구체적인 버전의 STLC가 정의된다.\n",
    "예를 들어 $B = \\{\\,\\texttt{bool}\\,\\}$, $C = \\{\\,c_\\texttt{F},\\;c_\\texttt{T},\\;c_\\neg,\\;c_\\land\\,\\}$,\n",
    "$\\Delta = c_\\texttt{F}{:\\,}\\texttt{bool}, \\, c_\\texttt{T}{:\\,}\\texttt{bool}, \\, c_\\neg{:\\,}\\texttt{bool}{\\to\\,}\\texttt{bool}, \\,\n",
    "           c_\\land{:\\,}\\texttt{bool}{\\to\\,}\\texttt{bool}{\\to\\,}\\texttt{bool}, \\, \\bm{\\cdot}$로 설정하면\n",
    "진리값 및 관련 연산인 논리부정과 논리곱을 다루는 버전의 STLC 문법구조와 타입규칙이 그림 \\ref{fig:STLC}의 틀에 따라 정의된다.\n",
    "그런데 지금까지 STLC의 설명에서 빠진 부분이 하나 있으니 그것은 바로 의미구조이다. STLC는 정적 타입 언어와 같이 실행 전에\n",
    "타입규칙으로 타입검사가 가능하다. 따라서 STLC의 의미구조는 기본적으로 타입없는 람다계산법(그림 \\ref{fig:UTLC})과 같지만,\n",
    "한 가지 더 추가된 문법요소인 기본상수($c$)를 어떻게 실행할지에 대한 규칙을 설정에 맞게 아래와 같이 추가로 정의할 필요가 있다.\n",
    "이런 추가적인 규칙을 $\\delta$규칙이라고도 부른다.\\vspace*{-1.5ex}"
   ]
  },
  {
   "cell_type": "raw",
   "id": "4cb1ec14-6245-4a41-9910-6383642a4a7e",
   "metadata": {},
   "source": [
    "\\begin{quote}"
   ]
  },
  {
   "cell_type": "markdown",
   "id": "be7e3309-771f-46fe-a875-e7e43c172cbf",
   "metadata": {},
   "source": [
    "$c_\\neg  ~ c_\\texttt{F} \\longmapsto c_\\texttt{T}     \\qquad\n",
    " c_\\neg  ~ c_\\texttt{T} \\longmapsto c_\\texttt{F}     \\qquad~\n",
    " c_\\land ~ c_\\texttt{F} ~ e \\longmapsto c_\\texttt{F} \\qquad\n",
    " c_\\land ~ c_\\texttt{T} ~ e \\longmapsto e$"
   ]
  },
  {
   "cell_type": "raw",
   "id": "837f0a4b-be57-4bd6-91c7-4b385db04564",
   "metadata": {},
   "source": [
    "\\end{quote}"
   ]
  },
  {
   "cell_type": "markdown",
   "id": "d1d57179-b970-49d6-a44a-3aa149d260ae",
   "metadata": {},
   "source": [
    "하스켈에서 아래와 같이 사용자 정의 데이터 타입과 관련 연산을 함수로 선언하는 것이\n",
    "STLC에서 $B$, $C$, $\\Delta$를 설정하고 $\\delta$규칙을 정의하는 것에 해당한다."
   ]
  },
  {
   "cell_type": "code",
   "execution_count": 45,
   "id": "59430ed8-55ff-4a15-a220-ac9f27e2fa61",
   "metadata": {},
   "outputs": [],
   "source": [
    "-- 기본타입 Tbool과 기본상수 CF,CB가 선언됨 \n",
    "data Tbool = CF | CT    deriving (Eq, Ord, Show)\n",
    "\n",
    "-- 기본상수 cNeg와 관련 δ규칙 선언됨\n",
    "cNeg CF = CT\n",
    "cNeg CT = CF\n",
    "\n",
    "-- 기본상수 cAnd와 관련 δ규칙 선언됨\n",
    "cAnd CF e = CF\n",
    "cAnd CT e = e"
   ]
  },
  {
   "cell_type": "code",
   "execution_count": 46,
   "id": "121e8235-7023-4ee5-bf3c-07b7718c64f7",
   "metadata": {},
   "outputs": [
    {
     "data": {
      "text/html": [
       "<style>/* Styles used for the Hoogle display in the pager */\n",
       ".hoogle-doc {\n",
       "display: block;\n",
       "padding-bottom: 1.3em;\n",
       "padding-left: 0.4em;\n",
       "}\n",
       ".hoogle-code {\n",
       "display: block;\n",
       "font-family: monospace;\n",
       "white-space: pre;\n",
       "}\n",
       ".hoogle-text {\n",
       "display: block;\n",
       "}\n",
       ".hoogle-name {\n",
       "color: green;\n",
       "font-weight: bold;\n",
       "}\n",
       ".hoogle-head {\n",
       "font-weight: bold;\n",
       "}\n",
       ".hoogle-sub {\n",
       "display: block;\n",
       "margin-left: 0.4em;\n",
       "}\n",
       ".hoogle-package {\n",
       "font-weight: bold;\n",
       "font-style: italic;\n",
       "}\n",
       ".hoogle-module {\n",
       "font-weight: bold;\n",
       "}\n",
       ".hoogle-class {\n",
       "font-weight: bold;\n",
       "}\n",
       ".get-type {\n",
       "color: green;\n",
       "font-weight: bold;\n",
       "font-family: monospace;\n",
       "display: block;\n",
       "white-space: pre-wrap;\n",
       "}\n",
       ".show-type {\n",
       "color: green;\n",
       "font-weight: bold;\n",
       "font-family: monospace;\n",
       "margin-left: 1em;\n",
       "}\n",
       ".mono {\n",
       "font-family: monospace;\n",
       "display: block;\n",
       "}\n",
       ".err-msg {\n",
       "color: red;\n",
       "font-style: italic;\n",
       "font-family: monospace;\n",
       "white-space: pre;\n",
       "display: block;\n",
       "}\n",
       "#unshowable {\n",
       "color: red;\n",
       "font-weight: bold;\n",
       "}\n",
       ".err-msg.in.collapse {\n",
       "padding-top: 0.7em;\n",
       "}\n",
       ".highlight-code {\n",
       "white-space: pre;\n",
       "font-family: monospace;\n",
       "}\n",
       ".suggestion-warning { \n",
       "font-weight: bold;\n",
       "color: rgb(200, 130, 0);\n",
       "}\n",
       ".suggestion-error { \n",
       "font-weight: bold;\n",
       "color: red;\n",
       "}\n",
       ".suggestion-name {\n",
       "font-weight: bold;\n",
       "}\n",
       "</style><span class='get-type'>CF :: Tbool</span>"
      ],
      "text/plain": [
       "CF :: Tbool"
      ]
     },
     "metadata": {},
     "output_type": "display_data"
    },
    {
     "data": {
      "text/html": [
       "<style>/* Styles used for the Hoogle display in the pager */\n",
       ".hoogle-doc {\n",
       "display: block;\n",
       "padding-bottom: 1.3em;\n",
       "padding-left: 0.4em;\n",
       "}\n",
       ".hoogle-code {\n",
       "display: block;\n",
       "font-family: monospace;\n",
       "white-space: pre;\n",
       "}\n",
       ".hoogle-text {\n",
       "display: block;\n",
       "}\n",
       ".hoogle-name {\n",
       "color: green;\n",
       "font-weight: bold;\n",
       "}\n",
       ".hoogle-head {\n",
       "font-weight: bold;\n",
       "}\n",
       ".hoogle-sub {\n",
       "display: block;\n",
       "margin-left: 0.4em;\n",
       "}\n",
       ".hoogle-package {\n",
       "font-weight: bold;\n",
       "font-style: italic;\n",
       "}\n",
       ".hoogle-module {\n",
       "font-weight: bold;\n",
       "}\n",
       ".hoogle-class {\n",
       "font-weight: bold;\n",
       "}\n",
       ".get-type {\n",
       "color: green;\n",
       "font-weight: bold;\n",
       "font-family: monospace;\n",
       "display: block;\n",
       "white-space: pre-wrap;\n",
       "}\n",
       ".show-type {\n",
       "color: green;\n",
       "font-weight: bold;\n",
       "font-family: monospace;\n",
       "margin-left: 1em;\n",
       "}\n",
       ".mono {\n",
       "font-family: monospace;\n",
       "display: block;\n",
       "}\n",
       ".err-msg {\n",
       "color: red;\n",
       "font-style: italic;\n",
       "font-family: monospace;\n",
       "white-space: pre;\n",
       "display: block;\n",
       "}\n",
       "#unshowable {\n",
       "color: red;\n",
       "font-weight: bold;\n",
       "}\n",
       ".err-msg.in.collapse {\n",
       "padding-top: 0.7em;\n",
       "}\n",
       ".highlight-code {\n",
       "white-space: pre;\n",
       "font-family: monospace;\n",
       "}\n",
       ".suggestion-warning { \n",
       "font-weight: bold;\n",
       "color: rgb(200, 130, 0);\n",
       "}\n",
       ".suggestion-error { \n",
       "font-weight: bold;\n",
       "color: red;\n",
       "}\n",
       ".suggestion-name {\n",
       "font-weight: bold;\n",
       "}\n",
       "</style><span class='get-type'>CT :: Tbool</span>"
      ],
      "text/plain": [
       "CT :: Tbool"
      ]
     },
     "metadata": {},
     "output_type": "display_data"
    },
    {
     "data": {
      "text/html": [
       "<style>/* Styles used for the Hoogle display in the pager */\n",
       ".hoogle-doc {\n",
       "display: block;\n",
       "padding-bottom: 1.3em;\n",
       "padding-left: 0.4em;\n",
       "}\n",
       ".hoogle-code {\n",
       "display: block;\n",
       "font-family: monospace;\n",
       "white-space: pre;\n",
       "}\n",
       ".hoogle-text {\n",
       "display: block;\n",
       "}\n",
       ".hoogle-name {\n",
       "color: green;\n",
       "font-weight: bold;\n",
       "}\n",
       ".hoogle-head {\n",
       "font-weight: bold;\n",
       "}\n",
       ".hoogle-sub {\n",
       "display: block;\n",
       "margin-left: 0.4em;\n",
       "}\n",
       ".hoogle-package {\n",
       "font-weight: bold;\n",
       "font-style: italic;\n",
       "}\n",
       ".hoogle-module {\n",
       "font-weight: bold;\n",
       "}\n",
       ".hoogle-class {\n",
       "font-weight: bold;\n",
       "}\n",
       ".get-type {\n",
       "color: green;\n",
       "font-weight: bold;\n",
       "font-family: monospace;\n",
       "display: block;\n",
       "white-space: pre-wrap;\n",
       "}\n",
       ".show-type {\n",
       "color: green;\n",
       "font-weight: bold;\n",
       "font-family: monospace;\n",
       "margin-left: 1em;\n",
       "}\n",
       ".mono {\n",
       "font-family: monospace;\n",
       "display: block;\n",
       "}\n",
       ".err-msg {\n",
       "color: red;\n",
       "font-style: italic;\n",
       "font-family: monospace;\n",
       "white-space: pre;\n",
       "display: block;\n",
       "}\n",
       "#unshowable {\n",
       "color: red;\n",
       "font-weight: bold;\n",
       "}\n",
       ".err-msg.in.collapse {\n",
       "padding-top: 0.7em;\n",
       "}\n",
       ".highlight-code {\n",
       "white-space: pre;\n",
       "font-family: monospace;\n",
       "}\n",
       ".suggestion-warning { \n",
       "font-weight: bold;\n",
       "color: rgb(200, 130, 0);\n",
       "}\n",
       ".suggestion-error { \n",
       "font-weight: bold;\n",
       "color: red;\n",
       "}\n",
       ".suggestion-name {\n",
       "font-weight: bold;\n",
       "}\n",
       "</style><span class='get-type'>cNeg :: Tbool -> Tbool</span>"
      ],
      "text/plain": [
       "cNeg :: Tbool -> Tbool"
      ]
     },
     "metadata": {},
     "output_type": "display_data"
    },
    {
     "data": {
      "text/html": [
       "<style>/* Styles used for the Hoogle display in the pager */\n",
       ".hoogle-doc {\n",
       "display: block;\n",
       "padding-bottom: 1.3em;\n",
       "padding-left: 0.4em;\n",
       "}\n",
       ".hoogle-code {\n",
       "display: block;\n",
       "font-family: monospace;\n",
       "white-space: pre;\n",
       "}\n",
       ".hoogle-text {\n",
       "display: block;\n",
       "}\n",
       ".hoogle-name {\n",
       "color: green;\n",
       "font-weight: bold;\n",
       "}\n",
       ".hoogle-head {\n",
       "font-weight: bold;\n",
       "}\n",
       ".hoogle-sub {\n",
       "display: block;\n",
       "margin-left: 0.4em;\n",
       "}\n",
       ".hoogle-package {\n",
       "font-weight: bold;\n",
       "font-style: italic;\n",
       "}\n",
       ".hoogle-module {\n",
       "font-weight: bold;\n",
       "}\n",
       ".hoogle-class {\n",
       "font-weight: bold;\n",
       "}\n",
       ".get-type {\n",
       "color: green;\n",
       "font-weight: bold;\n",
       "font-family: monospace;\n",
       "display: block;\n",
       "white-space: pre-wrap;\n",
       "}\n",
       ".show-type {\n",
       "color: green;\n",
       "font-weight: bold;\n",
       "font-family: monospace;\n",
       "margin-left: 1em;\n",
       "}\n",
       ".mono {\n",
       "font-family: monospace;\n",
       "display: block;\n",
       "}\n",
       ".err-msg {\n",
       "color: red;\n",
       "font-style: italic;\n",
       "font-family: monospace;\n",
       "white-space: pre;\n",
       "display: block;\n",
       "}\n",
       "#unshowable {\n",
       "color: red;\n",
       "font-weight: bold;\n",
       "}\n",
       ".err-msg.in.collapse {\n",
       "padding-top: 0.7em;\n",
       "}\n",
       ".highlight-code {\n",
       "white-space: pre;\n",
       "font-family: monospace;\n",
       "}\n",
       ".suggestion-warning { \n",
       "font-weight: bold;\n",
       "color: rgb(200, 130, 0);\n",
       "}\n",
       ".suggestion-error { \n",
       "font-weight: bold;\n",
       "color: red;\n",
       "}\n",
       ".suggestion-name {\n",
       "font-weight: bold;\n",
       "}\n",
       "</style><span class='get-type'>cAnd :: Tbool -> Tbool -> Tbool</span>"
      ],
      "text/plain": [
       "cAnd :: Tbool -> Tbool -> Tbool"
      ]
     },
     "metadata": {},
     "output_type": "display_data"
    }
   ],
   "source": [
    "-- Δ는 타입 유추를 통해 위 셀의 선언으로부터 자동으로 설정됨\n",
    ":type CF\n",
    ":type CT\n",
    ":type cNeg\n",
    ":type cAnd"
   ]
  },
  {
   "cell_type": "markdown",
   "id": "17da8368-c427-4426-9899-bae60de6470a",
   "metadata": {},
   "source": [
    "\\noindent\n",
    "참고로, 하스켈에서 데이터 타입 및 생성자의 이름은 `Tbool` 및 `CF`, `CT`처럼 대문자로 시작하며,\n",
    "함수나 변수의 이름은 `cNeg`, `cAnd`나 `e`처럼 소문자로 시작한다.\n",
    "실제로 하스켈 표준 라이브러리에서는, 여기서 설명을 위해 작성한 `Tbool` 코드와 마찬가지 방법으로,\n",
    "하스켈의 표준적인 진리값 타입인 `Bool` 및 생성자 `False`, `True`, 그리고 논리부정(`not`)과\n",
    "논리곱(`&&`) 등 관련 연산을 선언하여 제공한다.\n",
    "\n",
    "하스켈 컴파일러에게 대화식으로 요청하거나 환경설정을 하는 콜론(:)으로 시작하는 명령들이 있다.\n",
    "`:type <식>`으로 식의 타입을 유추해 달라고 요청하고 \n",
    "`:info <이름>`으로 타입, 생성자, 함수, 변수 등의 정보를 알려달라고 요청한다.\\vspace*{-.75ex}"
   ]
  },
  {
   "cell_type": "code",
   "execution_count": 47,
   "id": "7a4ef6b1-44c4-4cbf-a907-ba7215ea59fe",
   "metadata": {},
   "outputs": [
    {
     "data": {},
     "metadata": {},
     "output_type": "display_data"
    },
    {
     "data": {
      "text/html": [
       "<div style='background: rgb(247, 247, 247);'><form><textarea id='code'>type Bool :: *\n",
       "data Bool = False | True\n",
       "  \t-- Defined in ‘GHC.Types’\n",
       "instance Bounded Bool -- Defined in ‘GHC.Enum’\n",
       "instance Enum Bool -- Defined in ‘GHC.Enum’\n",
       "instance Eq Bool -- Defined in ‘GHC.Classes’\n",
       "instance Ord Bool -- Defined in ‘GHC.Classes’\n",
       "instance Show Bool -- Defined in ‘GHC.Show’\n",
       "instance Read Bool -- Defined in ‘GHC.Read’\n",
       "</textarea></form></div><script>CodeMirror.fromTextArea(document.getElementById('code'), {mode: 'haskell', readOnly: 'nocursor'});</script>"
      ],
      "text/plain": [
       "type Bool :: *\n",
       "data Bool = False | True\n",
       "  \t-- Defined in ‘GHC.Types’\n",
       "instance Bounded Bool -- Defined in ‘GHC.Enum’\n",
       "instance Enum Bool -- Defined in ‘GHC.Enum’\n",
       "instance Eq Bool -- Defined in ‘GHC.Classes’\n",
       "instance Ord Bool -- Defined in ‘GHC.Classes’\n",
       "instance Show Bool -- Defined in ‘GHC.Show’\n",
       "instance Read Bool -- Defined in ‘GHC.Read’"
      ]
     },
     "metadata": {},
     "output_type": "display_data"
    }
   ],
   "source": [
    ":info Bool"
   ]
  },
  {
   "cell_type": "code",
   "execution_count": 48,
   "id": "057b4f09-3dbf-4e27-9c1d-28a531bf3d79",
   "metadata": {},
   "outputs": [
    {
     "data": {
      "text/html": [
       "<style>/* Styles used for the Hoogle display in the pager */\n",
       ".hoogle-doc {\n",
       "display: block;\n",
       "padding-bottom: 1.3em;\n",
       "padding-left: 0.4em;\n",
       "}\n",
       ".hoogle-code {\n",
       "display: block;\n",
       "font-family: monospace;\n",
       "white-space: pre;\n",
       "}\n",
       ".hoogle-text {\n",
       "display: block;\n",
       "}\n",
       ".hoogle-name {\n",
       "color: green;\n",
       "font-weight: bold;\n",
       "}\n",
       ".hoogle-head {\n",
       "font-weight: bold;\n",
       "}\n",
       ".hoogle-sub {\n",
       "display: block;\n",
       "margin-left: 0.4em;\n",
       "}\n",
       ".hoogle-package {\n",
       "font-weight: bold;\n",
       "font-style: italic;\n",
       "}\n",
       ".hoogle-module {\n",
       "font-weight: bold;\n",
       "}\n",
       ".hoogle-class {\n",
       "font-weight: bold;\n",
       "}\n",
       ".get-type {\n",
       "color: green;\n",
       "font-weight: bold;\n",
       "font-family: monospace;\n",
       "display: block;\n",
       "white-space: pre-wrap;\n",
       "}\n",
       ".show-type {\n",
       "color: green;\n",
       "font-weight: bold;\n",
       "font-family: monospace;\n",
       "margin-left: 1em;\n",
       "}\n",
       ".mono {\n",
       "font-family: monospace;\n",
       "display: block;\n",
       "}\n",
       ".err-msg {\n",
       "color: red;\n",
       "font-style: italic;\n",
       "font-family: monospace;\n",
       "white-space: pre;\n",
       "display: block;\n",
       "}\n",
       "#unshowable {\n",
       "color: red;\n",
       "font-weight: bold;\n",
       "}\n",
       ".err-msg.in.collapse {\n",
       "padding-top: 0.7em;\n",
       "}\n",
       ".highlight-code {\n",
       "white-space: pre;\n",
       "font-family: monospace;\n",
       "}\n",
       ".suggestion-warning { \n",
       "font-weight: bold;\n",
       "color: rgb(200, 130, 0);\n",
       "}\n",
       ".suggestion-error { \n",
       "font-weight: bold;\n",
       "color: red;\n",
       "}\n",
       ".suggestion-name {\n",
       "font-weight: bold;\n",
       "}\n",
       "</style><span class='get-type'>False :: Bool</span>"
      ],
      "text/plain": [
       "False :: Bool"
      ]
     },
     "metadata": {},
     "output_type": "display_data"
    },
    {
     "data": {
      "text/html": [
       "<style>/* Styles used for the Hoogle display in the pager */\n",
       ".hoogle-doc {\n",
       "display: block;\n",
       "padding-bottom: 1.3em;\n",
       "padding-left: 0.4em;\n",
       "}\n",
       ".hoogle-code {\n",
       "display: block;\n",
       "font-family: monospace;\n",
       "white-space: pre;\n",
       "}\n",
       ".hoogle-text {\n",
       "display: block;\n",
       "}\n",
       ".hoogle-name {\n",
       "color: green;\n",
       "font-weight: bold;\n",
       "}\n",
       ".hoogle-head {\n",
       "font-weight: bold;\n",
       "}\n",
       ".hoogle-sub {\n",
       "display: block;\n",
       "margin-left: 0.4em;\n",
       "}\n",
       ".hoogle-package {\n",
       "font-weight: bold;\n",
       "font-style: italic;\n",
       "}\n",
       ".hoogle-module {\n",
       "font-weight: bold;\n",
       "}\n",
       ".hoogle-class {\n",
       "font-weight: bold;\n",
       "}\n",
       ".get-type {\n",
       "color: green;\n",
       "font-weight: bold;\n",
       "font-family: monospace;\n",
       "display: block;\n",
       "white-space: pre-wrap;\n",
       "}\n",
       ".show-type {\n",
       "color: green;\n",
       "font-weight: bold;\n",
       "font-family: monospace;\n",
       "margin-left: 1em;\n",
       "}\n",
       ".mono {\n",
       "font-family: monospace;\n",
       "display: block;\n",
       "}\n",
       ".err-msg {\n",
       "color: red;\n",
       "font-style: italic;\n",
       "font-family: monospace;\n",
       "white-space: pre;\n",
       "display: block;\n",
       "}\n",
       "#unshowable {\n",
       "color: red;\n",
       "font-weight: bold;\n",
       "}\n",
       ".err-msg.in.collapse {\n",
       "padding-top: 0.7em;\n",
       "}\n",
       ".highlight-code {\n",
       "white-space: pre;\n",
       "font-family: monospace;\n",
       "}\n",
       ".suggestion-warning { \n",
       "font-weight: bold;\n",
       "color: rgb(200, 130, 0);\n",
       "}\n",
       ".suggestion-error { \n",
       "font-weight: bold;\n",
       "color: red;\n",
       "}\n",
       ".suggestion-name {\n",
       "font-weight: bold;\n",
       "}\n",
       "</style><span class='get-type'>True :: Bool</span>"
      ],
      "text/plain": [
       "True :: Bool"
      ]
     },
     "metadata": {},
     "output_type": "display_data"
    },
    {
     "data": {
      "text/html": [
       "<style>/* Styles used for the Hoogle display in the pager */\n",
       ".hoogle-doc {\n",
       "display: block;\n",
       "padding-bottom: 1.3em;\n",
       "padding-left: 0.4em;\n",
       "}\n",
       ".hoogle-code {\n",
       "display: block;\n",
       "font-family: monospace;\n",
       "white-space: pre;\n",
       "}\n",
       ".hoogle-text {\n",
       "display: block;\n",
       "}\n",
       ".hoogle-name {\n",
       "color: green;\n",
       "font-weight: bold;\n",
       "}\n",
       ".hoogle-head {\n",
       "font-weight: bold;\n",
       "}\n",
       ".hoogle-sub {\n",
       "display: block;\n",
       "margin-left: 0.4em;\n",
       "}\n",
       ".hoogle-package {\n",
       "font-weight: bold;\n",
       "font-style: italic;\n",
       "}\n",
       ".hoogle-module {\n",
       "font-weight: bold;\n",
       "}\n",
       ".hoogle-class {\n",
       "font-weight: bold;\n",
       "}\n",
       ".get-type {\n",
       "color: green;\n",
       "font-weight: bold;\n",
       "font-family: monospace;\n",
       "display: block;\n",
       "white-space: pre-wrap;\n",
       "}\n",
       ".show-type {\n",
       "color: green;\n",
       "font-weight: bold;\n",
       "font-family: monospace;\n",
       "margin-left: 1em;\n",
       "}\n",
       ".mono {\n",
       "font-family: monospace;\n",
       "display: block;\n",
       "}\n",
       ".err-msg {\n",
       "color: red;\n",
       "font-style: italic;\n",
       "font-family: monospace;\n",
       "white-space: pre;\n",
       "display: block;\n",
       "}\n",
       "#unshowable {\n",
       "color: red;\n",
       "font-weight: bold;\n",
       "}\n",
       ".err-msg.in.collapse {\n",
       "padding-top: 0.7em;\n",
       "}\n",
       ".highlight-code {\n",
       "white-space: pre;\n",
       "font-family: monospace;\n",
       "}\n",
       ".suggestion-warning { \n",
       "font-weight: bold;\n",
       "color: rgb(200, 130, 0);\n",
       "}\n",
       ".suggestion-error { \n",
       "font-weight: bold;\n",
       "color: red;\n",
       "}\n",
       ".suggestion-name {\n",
       "font-weight: bold;\n",
       "}\n",
       "</style><span class='get-type'>not :: Bool -> Bool</span>"
      ],
      "text/plain": [
       "not :: Bool -> Bool"
      ]
     },
     "metadata": {},
     "output_type": "display_data"
    },
    {
     "data": {
      "text/html": [
       "<style>/* Styles used for the Hoogle display in the pager */\n",
       ".hoogle-doc {\n",
       "display: block;\n",
       "padding-bottom: 1.3em;\n",
       "padding-left: 0.4em;\n",
       "}\n",
       ".hoogle-code {\n",
       "display: block;\n",
       "font-family: monospace;\n",
       "white-space: pre;\n",
       "}\n",
       ".hoogle-text {\n",
       "display: block;\n",
       "}\n",
       ".hoogle-name {\n",
       "color: green;\n",
       "font-weight: bold;\n",
       "}\n",
       ".hoogle-head {\n",
       "font-weight: bold;\n",
       "}\n",
       ".hoogle-sub {\n",
       "display: block;\n",
       "margin-left: 0.4em;\n",
       "}\n",
       ".hoogle-package {\n",
       "font-weight: bold;\n",
       "font-style: italic;\n",
       "}\n",
       ".hoogle-module {\n",
       "font-weight: bold;\n",
       "}\n",
       ".hoogle-class {\n",
       "font-weight: bold;\n",
       "}\n",
       ".get-type {\n",
       "color: green;\n",
       "font-weight: bold;\n",
       "font-family: monospace;\n",
       "display: block;\n",
       "white-space: pre-wrap;\n",
       "}\n",
       ".show-type {\n",
       "color: green;\n",
       "font-weight: bold;\n",
       "font-family: monospace;\n",
       "margin-left: 1em;\n",
       "}\n",
       ".mono {\n",
       "font-family: monospace;\n",
       "display: block;\n",
       "}\n",
       ".err-msg {\n",
       "color: red;\n",
       "font-style: italic;\n",
       "font-family: monospace;\n",
       "white-space: pre;\n",
       "display: block;\n",
       "}\n",
       "#unshowable {\n",
       "color: red;\n",
       "font-weight: bold;\n",
       "}\n",
       ".err-msg.in.collapse {\n",
       "padding-top: 0.7em;\n",
       "}\n",
       ".highlight-code {\n",
       "white-space: pre;\n",
       "font-family: monospace;\n",
       "}\n",
       ".suggestion-warning { \n",
       "font-weight: bold;\n",
       "color: rgb(200, 130, 0);\n",
       "}\n",
       ".suggestion-error { \n",
       "font-weight: bold;\n",
       "color: red;\n",
       "}\n",
       ".suggestion-name {\n",
       "font-weight: bold;\n",
       "}\n",
       "</style><span class='get-type'>(&&) :: Bool -> Bool -> Bool</span>"
      ],
      "text/plain": [
       "(&&) :: Bool -> Bool -> Bool"
      ]
     },
     "metadata": {},
     "output_type": "display_data"
    }
   ],
   "source": [
    ":type False\n",
    ":type True\n",
    ":type not\n",
    ":type (&&)"
   ]
  },
  {
   "cell_type": "code",
   "execution_count": 49,
   "id": "20c5bd35-8a3c-4193-bca6-a64c0455b9f4",
   "metadata": {},
   "outputs": [
    {
     "data": {
      "text/plain": [
       "True"
      ]
     },
     "metadata": {},
     "output_type": "display_data"
    },
    {
     "data": {
      "text/plain": [
       "False"
      ]
     },
     "metadata": {},
     "output_type": "display_data"
    }
   ],
   "source": [
    "not False\n",
    "not True"
   ]
  },
  {
   "cell_type": "code",
   "execution_count": 50,
   "id": "2f23217a-2584-4d30-b2d4-8f0001984eeb",
   "metadata": {},
   "outputs": [
    {
     "data": {
      "text/plain": [
       "False"
      ]
     },
     "metadata": {},
     "output_type": "display_data"
    },
    {
     "data": {
      "text/plain": [
       "False"
      ]
     },
     "metadata": {},
     "output_type": "display_data"
    },
    {
     "data": {
      "text/plain": [
       "False"
      ]
     },
     "metadata": {},
     "output_type": "display_data"
    },
    {
     "data": {
      "text/plain": [
       "True"
      ]
     },
     "metadata": {},
     "output_type": "display_data"
    }
   ],
   "source": [
    "False && False\n",
    "False && True\n",
    "True  && False\n",
    "True  && True"
   ]
  },
  {
   "cell_type": "markdown",
   "id": "25216bfa-8815-4cd7-a2f8-5811012e6102",
   "metadata": {},
   "source": [
    "$~$\n",
    "\n",
    "하스켈 컴파일러에서 나오는 메시지를 유심히 봤으면 이미 알아차렸을텐데,\n",
    "타입 이론에서 통상적인 $e:\\tau$ 표기와 비슷하지만 약간 다르게 콜론(`:`)을\n",
    "두 번 써서 하스켈에서는 `e :: T` 형태로 표현한다.\n",
    "컴파일러 메시지만이 아니라 코드를 작성할 때도 같은 표현을 쓸 수 있다.\n",
    "아래에서 `read`의 예처럼 식의 타입을 표시하거나,\n",
    "`betweenAtoZ`의 예처럼 선언되는 함수나 변수의 타입을 표시하거나,\n",
    "람다식의 예처럼 패턴의 타입을 표시할 수도 있다."
   ]
  },
  {
   "cell_type": "code",
   "execution_count": 51,
   "id": "1c3d24fd-7af3-4e40-af94-079177d1916f",
   "metadata": {},
   "outputs": [
    {
     "data": {
      "text/html": [
       "<style>/* Styles used for the Hoogle display in the pager */\n",
       ".hoogle-doc {\n",
       "display: block;\n",
       "padding-bottom: 1.3em;\n",
       "padding-left: 0.4em;\n",
       "}\n",
       ".hoogle-code {\n",
       "display: block;\n",
       "font-family: monospace;\n",
       "white-space: pre;\n",
       "}\n",
       ".hoogle-text {\n",
       "display: block;\n",
       "}\n",
       ".hoogle-name {\n",
       "color: green;\n",
       "font-weight: bold;\n",
       "}\n",
       ".hoogle-head {\n",
       "font-weight: bold;\n",
       "}\n",
       ".hoogle-sub {\n",
       "display: block;\n",
       "margin-left: 0.4em;\n",
       "}\n",
       ".hoogle-package {\n",
       "font-weight: bold;\n",
       "font-style: italic;\n",
       "}\n",
       ".hoogle-module {\n",
       "font-weight: bold;\n",
       "}\n",
       ".hoogle-class {\n",
       "font-weight: bold;\n",
       "}\n",
       ".get-type {\n",
       "color: green;\n",
       "font-weight: bold;\n",
       "font-family: monospace;\n",
       "display: block;\n",
       "white-space: pre-wrap;\n",
       "}\n",
       ".show-type {\n",
       "color: green;\n",
       "font-weight: bold;\n",
       "font-family: monospace;\n",
       "margin-left: 1em;\n",
       "}\n",
       ".mono {\n",
       "font-family: monospace;\n",
       "display: block;\n",
       "}\n",
       ".err-msg {\n",
       "color: red;\n",
       "font-style: italic;\n",
       "font-family: monospace;\n",
       "white-space: pre;\n",
       "display: block;\n",
       "}\n",
       "#unshowable {\n",
       "color: red;\n",
       "font-weight: bold;\n",
       "}\n",
       ".err-msg.in.collapse {\n",
       "padding-top: 0.7em;\n",
       "}\n",
       ".highlight-code {\n",
       "white-space: pre;\n",
       "font-family: monospace;\n",
       "}\n",
       ".suggestion-warning { \n",
       "font-weight: bold;\n",
       "color: rgb(200, 130, 0);\n",
       "}\n",
       ".suggestion-error { \n",
       "font-weight: bold;\n",
       "color: red;\n",
       "}\n",
       ".suggestion-name {\n",
       "font-weight: bold;\n",
       "}\n",
       "</style><span class='get-type'>read :: forall a. Read a => String -> a</span>"
      ],
      "text/plain": [
       "read :: forall a. Read a => String -> a"
      ]
     },
     "metadata": {},
     "output_type": "display_data"
    }
   ],
   "source": [
    ":type read -- 문자열(String)을 여러 타입(a)으로 변환"
   ]
  },
  {
   "cell_type": "code",
   "execution_count": 52,
   "id": "250dee55-35bd-4e03-be48-07a2057c9f5a",
   "metadata": {},
   "outputs": [
    {
     "data": {
      "text/plain": [
       "123"
      ]
     },
     "metadata": {},
     "output_type": "display_data"
    },
    {
     "data": {
      "text/plain": [
       "123.0"
      ]
     },
     "metadata": {},
     "output_type": "display_data"
    }
   ],
   "source": [
    "read \"123\" :: Int     -- Int로 변환\n",
    "read \"123\" :: Double  -- Double로 변환"
   ]
  },
  {
   "cell_type": "code",
   "execution_count": 53,
   "id": "669bcedb-f9ca-4969-9511-4d19abab83d5",
   "metadata": {},
   "outputs": [],
   "source": [
    "betweenAtoZ :: Char -> Bool\n",
    "betweenAtoZ c = 'A' <= c && c <= 'Z'"
   ]
  },
  {
   "cell_type": "code",
   "execution_count": 54,
   "id": "552d66bc-c165-4b31-b3ae-111e3b56deae",
   "metadata": {},
   "outputs": [
    {
     "data": {
      "text/plain": [
       "True"
      ]
     },
     "metadata": {},
     "output_type": "display_data"
    },
    {
     "data": {
      "text/plain": [
       "False"
      ]
     },
     "metadata": {},
     "output_type": "display_data"
    }
   ],
   "source": [
    "betweenAtoZ 'B'\n",
    "betweenAtoZ '3'"
   ]
  },
  {
   "cell_type": "code",
   "execution_count": 55,
   "id": "791bcb61-67f6-4cb6-bff6-02f92b1efa8a",
   "metadata": {},
   "outputs": [
    {
     "data": {
      "text/html": [
       "<style>/* Styles used for the Hoogle display in the pager */\n",
       ".hoogle-doc {\n",
       "display: block;\n",
       "padding-bottom: 1.3em;\n",
       "padding-left: 0.4em;\n",
       "}\n",
       ".hoogle-code {\n",
       "display: block;\n",
       "font-family: monospace;\n",
       "white-space: pre;\n",
       "}\n",
       ".hoogle-text {\n",
       "display: block;\n",
       "}\n",
       ".hoogle-name {\n",
       "color: green;\n",
       "font-weight: bold;\n",
       "}\n",
       ".hoogle-head {\n",
       "font-weight: bold;\n",
       "}\n",
       ".hoogle-sub {\n",
       "display: block;\n",
       "margin-left: 0.4em;\n",
       "}\n",
       ".hoogle-package {\n",
       "font-weight: bold;\n",
       "font-style: italic;\n",
       "}\n",
       ".hoogle-module {\n",
       "font-weight: bold;\n",
       "}\n",
       ".hoogle-class {\n",
       "font-weight: bold;\n",
       "}\n",
       ".get-type {\n",
       "color: green;\n",
       "font-weight: bold;\n",
       "font-family: monospace;\n",
       "display: block;\n",
       "white-space: pre-wrap;\n",
       "}\n",
       ".show-type {\n",
       "color: green;\n",
       "font-weight: bold;\n",
       "font-family: monospace;\n",
       "margin-left: 1em;\n",
       "}\n",
       ".mono {\n",
       "font-family: monospace;\n",
       "display: block;\n",
       "}\n",
       ".err-msg {\n",
       "color: red;\n",
       "font-style: italic;\n",
       "font-family: monospace;\n",
       "white-space: pre;\n",
       "display: block;\n",
       "}\n",
       "#unshowable {\n",
       "color: red;\n",
       "font-weight: bold;\n",
       "}\n",
       ".err-msg.in.collapse {\n",
       "padding-top: 0.7em;\n",
       "}\n",
       ".highlight-code {\n",
       "white-space: pre;\n",
       "font-family: monospace;\n",
       "}\n",
       ".suggestion-warning { \n",
       "font-weight: bold;\n",
       "color: rgb(200, 130, 0);\n",
       "}\n",
       ".suggestion-error { \n",
       "font-weight: bold;\n",
       "color: red;\n",
       "}\n",
       ".suggestion-name {\n",
       "font-weight: bold;\n",
       "}\n",
       "</style><span class='get-type'>\\x -> x :: forall p. p -> p</span>"
      ],
      "text/plain": [
       "\\x -> x :: forall p. p -> p"
      ]
     },
     "metadata": {},
     "output_type": "display_data"
    }
   ],
   "source": [
    ":type \\x -> x  -- 상당히 일반적인 타입으로 유추된다"
   ]
  },
  {
   "cell_type": "code",
   "execution_count": 56,
   "id": "95f9123b-e2bf-4434-afc6-7e90d7bf5f28",
   "metadata": {},
   "outputs": [
    {
     "data": {
      "text/plain": [
       "3"
      ]
     },
     "metadata": {},
     "output_type": "display_data"
    },
    {
     "data": {
      "text/plain": [
       "\"hello\""
      ]
     },
     "metadata": {},
     "output_type": "display_data"
    }
   ],
   "source": [
    "(\\x -> x) 3        -- Int 타입 인자도 넘길 수 있고\n",
    "(\\x -> x) \"hello\"  -- String 타입 인자도 넘길 수 있다"
   ]
  },
  {
   "cell_type": "code",
   "execution_count": 57,
   "id": "1a833bd7-6a17-4143-92c2-9dce744ade26",
   "metadata": {},
   "outputs": [
    {
     "data": {
      "text/plain": [
       "3"
      ]
     },
     "metadata": {},
     "output_type": "display_data"
    }
   ],
   "source": [
    "(\\(x :: Int) -> x) 3    -- 타입있는 람다계산법처럼 함수 매개변수에 타입 표시"
   ]
  },
  {
   "cell_type": "code",
   "execution_count": 58,
   "id": "13f957c7-f645-4026-aae7-af97b7e04eaf",
   "metadata": {},
   "outputs": [
    {
     "ename": "",
     "evalue": "",
     "output_type": "error",
     "traceback": [
      "<interactive>:1:20: error:\n    • Couldn't match expected type ‘Int’ with actual type ‘String’\n    • In the first argument of ‘\\ (x :: Int) -> x’, namely ‘\"hello\"’\n      In the expression: (\\ (x :: Int) -> x) \"hello\"\n      In an equation for ‘it’: it = (\\ (x :: Int) -> x) \"hello\""
     ]
    }
   ],
   "source": [
    "(\\(x :: Int) -> x) \"hello\"  -- 타입 표시로 Int만 받는 함수가 되므로 오류"
   ]
  },
  {
   "cell_type": "markdown",
   "id": "590cf2ba-cefe-490c-8acc-29ea94b9484c",
   "metadata": {},
   "source": [
    "위의 `read`나 `\\x -> x`의 경우처럼,\n",
    "하스켈은 STLC보다 훨씬 다양한 형태와 기능을 갖춘 타입을 다루고 있다.\n",
    "이러한 내용을 여기에서 한꺼번에 다 소개하지 않지만,\n",
    "가장 기본적인 형태의 타입을 다루는 STLC와 하스켈을 관련지어 이해할 수 있다면\n",
    "더 다양한 형태의 타입을 다루는 타입있는 람다계산법을 하스켈과 관련지어 이해하는 데 도움이 될 것이다."
   ]
  },
  {
   "cell_type": "markdown",
   "id": "69910be9-98b6-4ebd-a4de-bd3996ef139a",
   "metadata": {},
   "source": [
    "# 함수 매개변수는 딱 한 개면 충분\n",
    "람다계산법 그리고 람다계산법을 기반으로 한 하스켈에서 원론적으로 함수 매개변수는 항상 한 개이다.\n",
    "람다계산법에서 $\\lambda x.\\lambda y.e$, 즉 $\\lambda x.(\\lambda y.e)$는 두 개의 인자에 한꺼번에 적용하는 함수가 아니라,\n",
    "한 개의 인자 $e_1$에 적용하면 결과값으로 함수인 $\\lambda y.\\{x{\\,\\mapsto}e_1\\}e$가 계산되고 ($x\\neq y$, $y\\notin \\mathrm{fv}(e_1)$라고 가정),\n",
    "그렇게 계산된 $\\lambda y.\\{x{\\mapsto}e_1\\}e$를 또 한 개의 인자 $e_2$에 적용하면 결과값으로 $\\{y{\\,\\mapsto}e_2\\}(\\{x{\\,\\mapsto}e_1\\}e)$가 계산되는 함수인 것이다."
   ]
  },
  {
   "cell_type": "raw",
   "id": "164dfce8-88e3-491d-a644-fceb47a5507d",
   "metadata": {},
   "source": [
    "\\begin{quote}"
   ]
  },
  {
   "cell_type": "markdown",
   "id": "59391c9c-ba8e-4522-abe0-8adbd18f7fc9",
   "metadata": {},
   "source": [
    "$((\\lambda x.(\\lambda y.e))~e_1)~e_2 \\longmapsto\n",
    "(\\lambda y.\\{x{\\,\\mapsto}e_1\\}e)~e_2 \\longmapsto\n",
    "\\{y{\\,\\mapsto}e_2\\}(\\{x{\\,\\mapsto}e_1\\}e)$"
   ]
  },
  {
   "cell_type": "raw",
   "id": "c176e583-b57f-49a3-b0ba-f9894bc88822",
   "metadata": {},
   "source": [
    "\\end{quote}"
   ]
  },
  {
   "cell_type": "markdown",
   "id": "939c103d-701c-4183-a875-10bd58d245fe",
   "metadata": {},
   "source": [
    "이를 염두에 두고, 나중에 나타나는 정수(`y`)에서 먼저 나타나는 정수(`x`)를 뺀 값(`y - x`)을 계산하는\n",
    "비슷한 두 하스켈 함수 `fu`와 `fc`를 비교해 보자. 참고로, 수학에서 $x\\in A$와 $y\\in B$로 이루어진\n",
    "순서쌍 $(x,y)\\in A\\times B$ 혹은 타입 이론의 표기로는 $x:A$와 $y:B$로 이루어진 순서쌍 $(x,y):A\\times B$를,\n",
    "하스켈에서는 `x::A`와 `y::B`로 이루어진 순서쌍 `(x,y)::(A,B)`로 표기한다.\n",
    "즉, 수학이나 타입 이론에서 곱집합이나 곱타입 $A\\times B$는 하스켈 순서쌍 타입 `(A,B)`에 해당한다."
   ]
  },
  {
   "cell_type": "code",
   "execution_count": 59,
   "id": "a9cf5a85-d8aa-4046-88de-8226132f82b8",
   "metadata": {},
   "outputs": [],
   "source": [
    "fu :: (Int,Int) -> Int    -- 순서쌍 하나를 받으면 정수값이 결과\n",
    "fu (x,y) = y - x"
   ]
  },
  {
   "cell_type": "code",
   "execution_count": 60,
   "id": "26b2c67e-db55-4d48-84e3-ce90cfde8bd6",
   "metadata": {},
   "outputs": [
    {
     "data": {
      "text/plain": [
       "4"
      ]
     },
     "metadata": {},
     "output_type": "display_data"
    }
   ],
   "source": [
    "fu (3,7) -- fu는 이렇게만 사용"
   ]
  },
  {
   "cell_type": "code",
   "execution_count": 61,
   "id": "cb87ea2a-b9fa-4c73-b352-ac18a7884f17",
   "metadata": {},
   "outputs": [],
   "source": [
    "fc :: Int -> (Int -> Int) -- 정수 하나를 받으면 (Int - >Int)함수값이 결과\n",
    "fc  x y  = y - x"
   ]
  },
  {
   "cell_type": "code",
   "execution_count": 62,
   "id": "0ff170c9-1e9b-4c47-8b0b-ab994be9ae68",
   "metadata": {},
   "outputs": [
    {
     "data": {
      "text/plain": [
       "4"
      ]
     },
     "metadata": {},
     "output_type": "display_data"
    }
   ],
   "source": [
    "fc 3 7 -- 이렇게 인자를 하나씩 연달아 두 번에 걸쳐 적용하며 활용할 수도"
   ]
  },
  {
   "cell_type": "code",
   "execution_count": 63,
   "id": "a3e17866-268a-4df5-adf4-1a186c69a38a",
   "metadata": {},
   "outputs": [
    {
     "data": {
      "text/plain": [
       "4"
      ]
     },
     "metadata": {},
     "output_type": "display_data"
    },
    {
     "data": {
      "text/plain": [
       "2"
      ]
     },
     "metadata": {},
     "output_type": "display_data"
    }
   ],
   "source": [
    "sub3 = fc 3  -- 한 번만 적용해 계산된 함수값을 sub3로 선언해 놓고\n",
    "sub3 7  -- 7보다 3작은 수 계산, 이렇게도 활용하고\n",
    "sub3 5  -- 5보다 3작은 수 계산, 요렇게도 활용할 수도"
   ]
  },
  {
   "cell_type": "markdown",
   "id": "3c452fef-35dc-4228-aecf-3fe7646e408f",
   "metadata": {},
   "source": [
    "\\noindent\n",
    "참고로, `fu`와 `fc`를 아래와 같이 람다식으로 바꿔서 선언해 보면 오히려 타입을 이해하기 쉬워지는 측면도 있다.\n",
    "두 번 연이은 함수적용식 $e~e_1~e_2$는 왼쪽에서부터 괄호로 묶은 $(e~e_1)~e_2$와 같으므로,\n",
    "연이어 두 번 인자를 받는 함수 타입 $t_1 \\to t_2 \\to t$는 오른쪽에서부터 괄호로 묶은 $t_1 \\to (t_2 \\to t)$와 같은 타입이다.\n",
    "따라서 `fc`의 타입을 괄호를 생략한 `Int -> Int -> Int`라고 해도 괜찮다."
   ]
  },
  {
   "cell_type": "code",
   "execution_count": 64,
   "id": "c2af0cde-a691-4bd4-aa23-1f1c219d016d",
   "metadata": {},
   "outputs": [],
   "source": [
    "fu :: (Int,Int) -> Int\n",
    "fu = \\( x , y ) -> y - x\n",
    "fc :: Int -> (Int -> Int  )\n",
    "fc = \\x   -> (\\y  -> y - x)"
   ]
  },
  {
   "cell_type": "markdown",
   "id": "b31026a6-38de-4f03-9d39-bc87910c1b76",
   "metadata": {},
   "source": [
    "\\index{커리하기|see{currying}}\\index{currying|see{커리하기}}\n",
    "한 요소씩 여러 번에 걸쳐 인자를 적용하는 `fc`같은 함수를 커리된(curried) 함수,\n",
    "순서쌍으로 한꺼번에 묶인 인자에 적용하는 `fu`같은 함수를 커리되지 않은(uncurried) 함수라고 부른다.\n",
    "이는 하스켈 커리(Haskell Curry)의 성씨인 커리(Curry)를 따라 만들어진 용어다.\n",
    "하스켈에서는 의미상 순서쌍이 자연스러운 경우를 제외하면 일반적으로 커리된 함수 형태의 선언을 장려한다.\n",
    "람다계산법과 마찬가지로 괄호 등 함수적용을 나타내는 별도의 기호 없이\n",
    "인자를 한 번에 하나씩만 넘기는 함수적용 문법을 하스켈도 따르고 있어 커리된 함수를 활용하기 편리하다.\n",
    "\n",
    "그런데 커리된 함수를 경우에 따라 커리되지 않은 방식으로 한꺼번에 묶인 순서쌍에 적용하고 싶거나,\n",
    "반대로 커리되지 않은 함수를 커리된 함수처럼 각각의 요소를 하나씩 두 번 적용한다던가\n",
    "혹은 순서쌍의 두 요소 중 하나만 적용해 활용하고 싶은 경우가 생길 수도 있다.\n",
    "그래서 하스켈 표준 라이브러리에서는 `fu`함수를 `fc`처럼 활용할 수 있도록 바꿔주는 `curry`와,\n",
    "또 반대로 `fc`함수를 `fu`처럼 활용할 수 있도록 바꿔주는 `uncrry`라는 고차함수(higher-order function)을 제공한다.\n",
    "고차함수에 대해서는 다음 장에서 다시 설명하기로 하자."
   ]
  },
  {
   "cell_type": "code",
   "execution_count": 65,
   "id": "50eb3686-987b-422e-b20c-55751e85107a",
   "metadata": {},
   "outputs": [
    {
     "data": {
      "text/html": [
       "<style>/* Styles used for the Hoogle display in the pager */\n",
       ".hoogle-doc {\n",
       "display: block;\n",
       "padding-bottom: 1.3em;\n",
       "padding-left: 0.4em;\n",
       "}\n",
       ".hoogle-code {\n",
       "display: block;\n",
       "font-family: monospace;\n",
       "white-space: pre;\n",
       "}\n",
       ".hoogle-text {\n",
       "display: block;\n",
       "}\n",
       ".hoogle-name {\n",
       "color: green;\n",
       "font-weight: bold;\n",
       "}\n",
       ".hoogle-head {\n",
       "font-weight: bold;\n",
       "}\n",
       ".hoogle-sub {\n",
       "display: block;\n",
       "margin-left: 0.4em;\n",
       "}\n",
       ".hoogle-package {\n",
       "font-weight: bold;\n",
       "font-style: italic;\n",
       "}\n",
       ".hoogle-module {\n",
       "font-weight: bold;\n",
       "}\n",
       ".hoogle-class {\n",
       "font-weight: bold;\n",
       "}\n",
       ".get-type {\n",
       "color: green;\n",
       "font-weight: bold;\n",
       "font-family: monospace;\n",
       "display: block;\n",
       "white-space: pre-wrap;\n",
       "}\n",
       ".show-type {\n",
       "color: green;\n",
       "font-weight: bold;\n",
       "font-family: monospace;\n",
       "margin-left: 1em;\n",
       "}\n",
       ".mono {\n",
       "font-family: monospace;\n",
       "display: block;\n",
       "}\n",
       ".err-msg {\n",
       "color: red;\n",
       "font-style: italic;\n",
       "font-family: monospace;\n",
       "white-space: pre;\n",
       "display: block;\n",
       "}\n",
       "#unshowable {\n",
       "color: red;\n",
       "font-weight: bold;\n",
       "}\n",
       ".err-msg.in.collapse {\n",
       "padding-top: 0.7em;\n",
       "}\n",
       ".highlight-code {\n",
       "white-space: pre;\n",
       "font-family: monospace;\n",
       "}\n",
       ".suggestion-warning { \n",
       "font-weight: bold;\n",
       "color: rgb(200, 130, 0);\n",
       "}\n",
       ".suggestion-error { \n",
       "font-weight: bold;\n",
       "color: red;\n",
       "}\n",
       ".suggestion-name {\n",
       "font-weight: bold;\n",
       "}\n",
       "</style><span class='get-type'>curry :: forall a b c. ((a, b) -> c) -> a -> b -> c</span>"
      ],
      "text/plain": [
       "curry :: forall a b c. ((a, b) -> c) -> a -> b -> c"
      ]
     },
     "metadata": {},
     "output_type": "display_data"
    },
    {
     "data": {
      "text/html": [
       "<style>/* Styles used for the Hoogle display in the pager */\n",
       ".hoogle-doc {\n",
       "display: block;\n",
       "padding-bottom: 1.3em;\n",
       "padding-left: 0.4em;\n",
       "}\n",
       ".hoogle-code {\n",
       "display: block;\n",
       "font-family: monospace;\n",
       "white-space: pre;\n",
       "}\n",
       ".hoogle-text {\n",
       "display: block;\n",
       "}\n",
       ".hoogle-name {\n",
       "color: green;\n",
       "font-weight: bold;\n",
       "}\n",
       ".hoogle-head {\n",
       "font-weight: bold;\n",
       "}\n",
       ".hoogle-sub {\n",
       "display: block;\n",
       "margin-left: 0.4em;\n",
       "}\n",
       ".hoogle-package {\n",
       "font-weight: bold;\n",
       "font-style: italic;\n",
       "}\n",
       ".hoogle-module {\n",
       "font-weight: bold;\n",
       "}\n",
       ".hoogle-class {\n",
       "font-weight: bold;\n",
       "}\n",
       ".get-type {\n",
       "color: green;\n",
       "font-weight: bold;\n",
       "font-family: monospace;\n",
       "display: block;\n",
       "white-space: pre-wrap;\n",
       "}\n",
       ".show-type {\n",
       "color: green;\n",
       "font-weight: bold;\n",
       "font-family: monospace;\n",
       "margin-left: 1em;\n",
       "}\n",
       ".mono {\n",
       "font-family: monospace;\n",
       "display: block;\n",
       "}\n",
       ".err-msg {\n",
       "color: red;\n",
       "font-style: italic;\n",
       "font-family: monospace;\n",
       "white-space: pre;\n",
       "display: block;\n",
       "}\n",
       "#unshowable {\n",
       "color: red;\n",
       "font-weight: bold;\n",
       "}\n",
       ".err-msg.in.collapse {\n",
       "padding-top: 0.7em;\n",
       "}\n",
       ".highlight-code {\n",
       "white-space: pre;\n",
       "font-family: monospace;\n",
       "}\n",
       ".suggestion-warning { \n",
       "font-weight: bold;\n",
       "color: rgb(200, 130, 0);\n",
       "}\n",
       ".suggestion-error { \n",
       "font-weight: bold;\n",
       "color: red;\n",
       "}\n",
       ".suggestion-name {\n",
       "font-weight: bold;\n",
       "}\n",
       "</style><span class='get-type'>uncurry :: forall a b c. (a -> b -> c) -> (a, b) -> c</span>"
      ],
      "text/plain": [
       "uncurry :: forall a b c. (a -> b -> c) -> (a, b) -> c"
      ]
     },
     "metadata": {},
     "output_type": "display_data"
    }
   ],
   "source": [
    ":type curry    -- ((a, b) -> c) -> (a -> b -> c)\n",
    ":type uncurry  -- (a -> b -> c) -> ((a, b) -> c)"
   ]
  },
  {
   "cell_type": "code",
   "execution_count": 66,
   "id": "87d4d216-bee4-4eff-9015-aa6a5a6e137b",
   "metadata": {},
   "outputs": [
    {
     "data": {
      "text/plain": [
       "4"
      ]
     },
     "metadata": {},
     "output_type": "display_data"
    },
    {
     "data": {
      "text/plain": [
       "4"
      ]
     },
     "metadata": {},
     "output_type": "display_data"
    }
   ],
   "source": [
    "fu (3,7)\n",
    "(curry fu) 3 7     -- fu를 fc처럼 하나씩 두 번 호출하도록 바꿔줌"
   ]
  },
  {
   "cell_type": "code",
   "execution_count": 67,
   "id": "8b273929-629f-4b92-9312-f2b9685d6256",
   "metadata": {},
   "outputs": [
    {
     "data": {
      "text/plain": [
       "4"
      ]
     },
     "metadata": {},
     "output_type": "display_data"
    },
    {
     "data": {
      "text/plain": [
       "4"
      ]
     },
     "metadata": {},
     "output_type": "display_data"
    }
   ],
   "source": [
    "fc 3 7\n",
    "(uncurry fc) (3,7)  -- fc를 fu처럼 순서쌍으로 호출할 수 있게 바꿔줌"
   ]
  },
  {
   "cell_type": "markdown",
   "id": "4945d5cb-207b-4efe-9f42-c4601013ddde",
   "metadata": {},
   "source": [
    "\\section*{요점정리}\n",
    "* 게으른 계산법(lazy evaluation)을 따르는 정적 타입\n",
    "  함수형 언어를 주제로 연구하는 학계의 표준적인 언어를\n",
    "  만들고자 모인 위원회가 하스켈(Haskell) 프로그래밍언어의 기원이다.\n",
    "* 함수형 언어의 역사에서 중요한 세 언어인 LISP, ML, Haskell의 대표적인 특징은,\n",
    "  LISP은 최초의 함수형 언어, ML은 타입 유추를 지원하는 정적 타입 시스템을 갖춘\n",
    "  함수형 언어, Haskell은 게으른 계산법에 따르는 순수 함수형 언어라는 점이다. \n",
    "* 람다계산법에서 줄임(reduction)은 함수 안쪽의 함수 몸체를 포함하여 가능한 모든\n",
    "  맥락(context)에서 핵심적인 계산 규칙을 적용하며, 작은걸음 의미구조로 표현했을 때\n",
    "  여러 갈래로 계산과정이 진행가능한 비결정적인 의미구조가 되는 것이 자연스럽다.\n",
    "* 람다계산법에 기반한 프로그래밍언어의 의미구조에 주로 활용되는 값계산(evaluation)은\n",
    "  함수를 계산이 완료된 값으로 보는 등 특정 맥락(context)에서만 결정적으로\n",
    "  핵심 계산 규칙을 적용한다.\n",
    "* 줄임이 끝나는 표준형(normal form)에 해당하지 않는 함수요약식 등\n",
    "  더 많은 형태의 식을 값계산(evaluation)이 끝난 값(value)로 본다.\n",
    "* 적극적 값계산(eager evaluation)은 함수 인자의 계산부터,\n",
    "  게으른 값계산(lazy evaluation)은 $\\beta$규칙에 따른 함수 적용부터 우선한다.\n",
    "* 하스켈에서 전역 선언은 키워드 없는 등식 형태로 한다.\n",
    "  지역 선언은 식에 앞서 보조적인 지역 변수를 선언는 let식이나\n",
    "  선언의 뒤에서 보조적인 지역 변수를 선언하는 where 키워드를 활용한다.\n",
    "* 람다계산법에서 람다식의 세 가지 문법요소 중 $\\lambda x.e$ 형태의 함수적용식만을\n",
    "  프로그래밍언어에서는 \\`람다식'이라고 부른다.\n",
    "* 변수 선언을 일반화한 패턴(pattern)으로 하스켈 데이터 구조의 여러 부분을 한꺼번에 여러 개의 변수로 선언할 수 있다.\n",
    "* 타입있는 람다계산법은 원래의 람다계산법에 타입을 추가하여 타입을 검사할 수 있는 타입규칙을 정의한\n",
    "  부류의 람다계산법을 통칭한다.\n",
    "* 가장 기본적인 타입있는 람다계산법인 단순타입 람다계산법(STLC)에서 타입은 기본타입 또는 함수타입의 형태를 갖는다.\n",
    "* 기본타입의 집합($B$), 기본상수의 집합($C$), 전역 타입환경($\\Delta$)을 설정하고\n",
    "  의미구조에 기본상수의 계산을 다루는 $\\delta$규칙을 정의함으로써 구체적인 버전의 STLC가 하나 정의된다. \n",
    "* 하스켈을 타입있는 람다계산법인 STLC와 연관지어 이해하자면, 하스켈에서 데이터 타입과 그 생성자 및\n",
    "  관련 연산을 선언이 STLC에서 기본타입 및 기본상수를 설정하고 $\\delta$규칙을 정의하는 것에 해당하며\n",
    "  전역 타입환경 내용의 대부분이 타입 유추에 의해 자동으로 설정될 수 있다.\n",
    "* 타입 이론에서 $e:\\tau$와 비슷하게 하스켈에서는 타입 정보를 `e :: T` 형태로 표시한다\n",
    "* 람다계산법과 마찬가지로 하스켈에서도 함수 매개변수는 항상 한 개이며, 한 개씩 여러 번에 걸쳐\n",
    "  인자를 커리된(curried) 함수 또는 한꺼번에 튜플로 묶인 인자에 적용하는 않은(uncurried) 함수의\n",
    "  두 가지 다른 형태로 결과적으로 같은 계산을 하는 함수를 정의할 수 있다."
   ]
  },
  {
   "cell_type": "markdown",
   "id": "be5659ba-a73c-4845-b3bb-35f5c59f7cd4",
   "metadata": {},
   "source": [
    "$~$\n",
    "\\section*{연습문제}\n",
    "1. 이 장에서 예시로 든 진리값을 다루는 버전의 STLC에 논리합을 나타내는 기본상수 $c_\\lor$를 추가해 보라. \n",
    "1. 위 문제의 논리합까지 추가된 버전의 STLC에 맞도록 \\texttt{[45]}번 셀의 하스켈 코드도 수정해 보라.\n",
    "1. 다음의 타입없는 람다계산법의 람다식을 STLC의 타입규칙에 맞게 함수적용식에 타입 표시를 추가한 STLC의 람다식 형태로 바꿔보라.\n",
    "   참고로 하나의 타입없는 람다식에 해당하는 STLC 람다식은 딱 하나로 정해져 있지 않으며,\n",
    "   타입 표시만 다른 여러 개의 STLC 람다식들로 바꿀 수 있으므로 그 중 적절히 간단한 것으로 하면 된다.\n",
    "   그런데 아래 중 일부는 STLC의 타입 규칙에 맞는 람다식으로 바꿀 수 없다. 바꿀 없다고 판단되는 것들은 왜 불가능한지도 설명해 보라.\n",
    "   STLC의 설정은 단순하게 $B=\\{o\\}$, $C=\\{c_o\\}$, $\\Delta=\\{c_o{\\,:\\,}o\\}$이며 추가적인 $\\delta$규칙은 없다고 하자.\n",
    "   - $(\\lambda x.\\, x)\\,(\\lambda x.\\, x)$\n",
    "   - $(\\lambda y.\\, y ~ (\\lambda x.\\, x))$\n",
    "   - $(\\lambda y.\\, y ~ y)$\n",
    "   - $(\\lambda y.\\, (\\lambda x.\\, x) ~ y)$\n",
    "   - $(\\lambda x.(\\lambda y.\\, y ~ x))$\n"
   ]
  },
  {
   "cell_type": "markdown",
   "id": "7c4b71c3-1099-4af1-b50c-d439e1fffd87",
   "metadata": {},
   "source": [
    "\\section*{탐구과제}\n",
    "1. 대략 20년 간격으로 나타난 함수형 언어들인 LISP, ML, Haskell이\n",
    "   책에서 간략히 소개한 것 외에 또 어떤 공통점 및 차이점이 있는지 조사해 보라.\n",
    "1. 이 장에서 소개한 모든 맥락에서의 비결정적 줄임(reduction)에 대비되는\n",
    "   특정 맥락에서만 계산을 진행하는 줄임 전략인\n",
    "   표준순서(normal order) 줄임 및 적용순서(applicative order) 줄임에 대해 알아보고,\n",
    "   이 장에서 소개한 값계산 전략인 게으른 값계산 및 적극적 값계산과 비교해 보라.\n",
    "1. STLC 말고 다른 타입있는 람다계산법은 어떤 것들이 있는지 알아보라.\n",
    "1. 알론조 처치가 고안한 처치 방식(Church-style) 타입있는 람다계산법 외에도\n",
    "   하스켈 커리의 이름을 딴 커리 방식(Curry-style) 타입있는 람다계산법도 있다.\n",
    "   커리 방식이 처치 방식과 어떻게 다른지 알아보라."
   ]
  }
 ],
 "metadata": {
  "kernelspec": {
   "display_name": "Haskell",
   "language": "haskell",
   "name": "haskell"
  },
  "language_info": {
   "codemirror_mode": "ihaskell",
   "file_extension": ".hs",
   "mimetype": "text/x-haskell",
   "name": "haskell",
   "pygments_lexer": "Haskell",
   "version": "8.10.7"
  }
 },
 "nbformat": 4,
 "nbformat_minor": 5
}
