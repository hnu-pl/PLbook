{
 "cells": [
  {
   "cell_type": "markdown",
   "id": "b3ed9693-2d1d-452e-a76d-03e4ae77fa55",
   "metadata": {},
   "source": [
    "- 이름: ???\n",
    "- 학번: ????????"
   ]
  },
  {
   "cell_type": "markdown",
   "id": "0dc04f45-1bc8-463b-bb79-1a5cc17aba29",
   "metadata": {},
   "source": [
    "이름과 학번을 위에 작성하시오.\n",
    "\n",
    "----"
   ]
  },
  {
   "cell_type": "code",
   "execution_count": 1,
   "id": "1ac64b75-35f6-4db9-bcd9-8e7086e2c6ac",
   "metadata": {},
   "outputs": [],
   "source": [
    ":opt no-lint\n",
    "{-# LANGUAGE ScopedTypeVariables FlexibleInstances #-}"
   ]
  },
  {
   "cell_type": "code",
   "execution_count": 2,
   "id": "4454cb87-b85e-4fec-9fa1-1d4cb78b5fef",
   "metadata": {},
   "outputs": [],
   "source": [
    "data RE = Null\n",
    "        | Epsilon\n",
    "        | Symbol Char\n",
    "        | Union RE RE\n",
    "        | Concat RE RE\n",
    "        | Star RE\n",
    "        deriving (Eq,Ord)\n",
    "\n",
    "import Data.List (intercalate)\n",
    "instance Show RE where\n",
    "  showsPrec _ Null    = showString \"\\\\varnothing{}\"\n",
    "  showsPrec _ Epsilon = showString \"\\\\varepsilon{}\"\n",
    "  showsPrec p (Symbol c) = showString [c]\n",
    "  showsPrec p (Union  r1 r2) = showParen (p > 6) $\n",
    "      showsPrec 6 r1 . showString \" | \" . showsPrec 6 r2\n",
    "  showsPrec p (Concat r1 r2) = showParen (p > 7) $\n",
    "      showsPrec 7 r1 . showsPrec 7 r2\n",
    "  showsPrec p (Star r) = showParen (p > 10) $\n",
    "      showsPrec 11 r . showString \"^{*}\"\n",
    "instance {-# OVERLAPS #-} Show [RE] where\n",
    "  show rs = \"[\" ++ intercalate \",\\\\,\" (map show rs) ++ \"]\"\n",
    "\n",
    "import IHaskell.Display\n",
    "dTeX e = display [latex $ \"$\"++show e++\"$\"]\n",
    "instance IHaskellDisplay RE                    where display = dTeX\n",
    "instance {-# OVERLAPS #-} IHaskellDisplay [RE] where display = dTeX"
   ]
  },
  {
   "cell_type": "code",
   "execution_count": 3,
   "id": "48710c7f",
   "metadata": {},
   "outputs": [
    {
     "data": {
      "text/latex": [
       "$[\\varnothing{},\\,\\varepsilon{},\\,a]$"
      ]
     },
     "metadata": {},
     "output_type": "display_data"
    }
   ],
   "source": [
    "[Null, Epsilon, Symbol 'a']"
   ]
  },
  {
   "cell_type": "code",
   "execution_count": 4,
   "id": "cad24c41",
   "metadata": {},
   "outputs": [
    {
     "data": {
      "text/latex": [
       "$[a | \\varepsilon{},\\,a | \\varepsilon{} | \\varepsilon{},\\,\\varepsilon{} | \\varepsilon{} | a,\\,a | \\varepsilon{}\\varepsilon{},\\,\\varepsilon{}\\varepsilon{} | a]$"
      ]
     },
     "metadata": {},
     "output_type": "display_data"
    }
   ],
   "source": [
    "[ Union (Symbol 'a') Epsilon,\n",
    "  Union (Symbol 'a') (Union Epsilon Epsilon),\n",
    "  Union (Union Epsilon Epsilon) (Symbol 'a'),\n",
    "  Union (Symbol 'a') (Concat Epsilon Epsilon), \n",
    "  Union (Concat Epsilon Epsilon) (Symbol 'a') ]"
   ]
  },
  {
   "cell_type": "code",
   "execution_count": 5,
   "id": "850e17a5-137e-4cc3-8051-a7b73c0fa6df",
   "metadata": {},
   "outputs": [
    {
     "data": {
      "text/latex": [
       "$[a\\varepsilon{}\\varepsilon{},\\,\\varepsilon{}\\varepsilon{}a,\\,a(\\varepsilon{} | \\varepsilon{}),\\,(\\varepsilon{} | \\varepsilon{})a]$"
      ]
     },
     "metadata": {},
     "output_type": "display_data"
    }
   ],
   "source": [
    "[ Concat (Symbol 'a') (Concat Epsilon Epsilon),\n",
    "  Concat (Concat Epsilon Epsilon) (Symbol 'a'),\n",
    "  Concat (Symbol 'a') (Union Epsilon Epsilon),\n",
    "  Concat (Union Epsilon Epsilon) (Symbol 'a') ]"
   ]
  },
  {
   "cell_type": "code",
   "execution_count": 6,
   "id": "01ddf892-070d-429d-ae0e-1603dc885f09",
   "metadata": {},
   "outputs": [
    {
     "data": {
      "text/latex": [
       "$[a^{*},\\,(a | \\varepsilon{})^{*},\\,(a\\varepsilon{})^{*},\\,(a^{*})^{*}]$"
      ]
     },
     "metadata": {},
     "output_type": "display_data"
    }
   ],
   "source": [
    "[ Star $ Symbol 'a',\n",
    "  Star $ Union (Symbol 'a') Epsilon,\n",
    "  Star $ Concat (Symbol 'a') Epsilon,\n",
    "  Star $ Star $ Symbol 'a' ]"
   ]
  },
  {
   "cell_type": "markdown",
   "id": "74099eaa-222d-430f-bab1-ef9759851b6f",
   "metadata": {},
   "source": [
    "----\n",
    "## 정규식 간소화 비결정적 의미구조 계산기 (15점)\n",
    "$$    \\frac{~ ~}{~ \\varnothing\\,\\pmb\\mid\\;r_2 \\longmapsto r_2 ~}\n",
    "\\quad \\frac{~ ~}{~ r_1\\pmb\\mid\\,\\varnothing \\longmapsto r_1 ~}\n",
    "\\quad \\frac{~ ~}{~ \\varepsilon\\,r_2 \\longmapsto r_2 ~}\n",
    "\\quad \\frac{~ ~}{~ r_1\\,\\varepsilon \\longmapsto r_1 ~}\n",
    "\\quad \\frac{~ r \\longmapsto r' ~}{~ r^{*} \\longmapsto r'^{*} ~}\n",
    "$$\n",
    "$$    \\frac{~r_1 \\longmapsto~ r_1' ~}{~ r_1\\pmb\\mid\\,r_2 \\longmapsto r_1'\\pmb\\mid\\,r_2 ~}\n",
    "\\quad \\frac{~r_2 \\longmapsto~ r_2' ~}{~ r_1\\pmb\\mid\\,r_2 \\longmapsto r_1\\pmb\\mid\\,r_2' ~}\n",
    "\\quad \\frac{~r_1 \\longmapsto~ r_1' ~}{~ r_1r_2 \\longmapsto r_1'r_2 ~}\n",
    "\\quad \\frac{~r_2 \\longmapsto~ r_2' ~}{~ r_1r_2 \\longmapsto r_1r_2' ~}\n",
    "$$\n",
    "위 작은걸음 규칙에 따라 정규식을 간소화하는 계산기 함수 `step`을 작성하라.\n",
    "\n",
    "그리고 `step`을 확장한 `step'` 함수 및 수업시간에 다룬 `iterate` 함수 등을 활용해 모든 규칙을 최소한 한 번씩 사용하며\n",
    "여러 단계에 걸쳐 간소화되는 정규식 예제를 하나 작성해 더 이상 간소회되지 않을 때까지 여러 단계에 걸쳐 정규식을 간소화하는 과정을 확인해 보라."
   ]
  },
  {
   "cell_type": "code",
   "execution_count": 7,
   "id": "6dec9025-9969-42b2-ba0d-78170e1e9599",
   "metadata": {},
   "outputs": [],
   "source": [
    "step :: RE -> [RE]\n",
    "step = undefined -- 함수를 작성 (여러 개의 등식으로 작성하는 게 편할 것임)"
   ]
  },
  {
   "cell_type": "code",
   "execution_count": 8,
   "id": "02e0fa03-2880-4f18-8dc3-16e5cd722fa0",
   "metadata": {},
   "outputs": [],
   "source": [
    "import Data.List(nub)\n",
    "hat f = \\rs -> nub (concat [f r | r <- rs])\n",
    "\n",
    "step' :: [RE] -> [RE]\n",
    "step' = hat step"
   ]
  },
  {
   "cell_type": "code",
   "execution_count": 9,
   "id": "729ff29c-ced1-4e0d-8fe6-598606c8194a",
   "metadata": {},
   "outputs": [],
   "source": [
    "-- 테스트 작성 및 출력"
   ]
  },
  {
   "cell_type": "markdown",
   "id": "53c67bb7-baa8-4216-a93f-1eaf0f46f103",
   "metadata": {},
   "source": [
    "----"
   ]
  },
  {
   "cell_type": "markdown",
   "id": "86cb4b2e-a4bf-436a-b36c-ac3d0b1054bf",
   "metadata": {},
   "source": [
    "## 교재 그림 4.2의 의미함수를 하스켈로 옮겨 작성하라 (15점)\n",
    "작성한 함수를 적절히 테스트한 내용도 포함해야 한다.\n",
    "정규식의 6요소를 각 요소에 대해, 항상 `False`인 `Null`을 제외하고는\n",
    "`True`인 경우와 `False`인 경우의 테스트를 해보아야 하므로, 최소 11개의 테스트는 있어야 할 것이다.\n",
    "충분한 테스트를 제시하지 않으면 감점 대상이 된다. (테스트가 부족할 때마다 10점씩 감점)\n",
    "\n",
    "함수가 정확히 구현되지 않으면 0점이며 정확하게 구현되지 않은 함수에 대한 테스트는 작성하더라도 0점이다.\n",
    "왜나하면 부정확한 구현을 테스트를 통해 잘못된 점을 찾아냈어야 하는데,\n",
    "그렇지 못했다는 것은 테스트의 역할을 제대로 못한 것이기 때문이다.\n",
    "그러니까 정확하지 않은 구현에 대한 부분점수는 없다."
   ]
  },
  {
   "cell_type": "code",
   "execution_count": 10,
   "id": "385addcb-58f7-49ef-af43-21c393f19a9e",
   "metadata": {},
   "outputs": [],
   "source": [
    "-- 의미함수 작성"
   ]
  },
  {
   "cell_type": "code",
   "execution_count": 11,
   "id": "5131999b-f64a-47f5-8f19-fc35771434dd",
   "metadata": {},
   "outputs": [],
   "source": [
    "-- 테스트 작성"
   ]
  },
  {
   "cell_type": "markdown",
   "id": "62ee5372-1db6-4c7a-ba06-ec816f07e25d",
   "metadata": {},
   "source": [
    "----\n",
    "## 다음 성질을 만족하는 `revRE :: RE -> RE`를 작성하라 (15점)\n",
    "$$[\\![\\textsf{revRE}(r)]\\!](x) = [\\![r]\\!](x^R)$$\n",
    "함수를 작성한 다음 의도한 대로 동작하는지 테스트해 보라."
   ]
  },
  {
   "cell_type": "code",
   "execution_count": 12,
   "id": "fd30e0d0-3a90-4284-b71d-c66c4aece5f9",
   "metadata": {},
   "outputs": [],
   "source": [
    "revRE :: RE -> RE\n",
    "revRE = undefined -- 함수를 작성하라 (여러 개의 등식으로 작성하는 게 편할 것이다)"
   ]
  },
  {
   "cell_type": "code",
   "execution_count": 13,
   "id": "ba6c7d56-e1fc-4930-b4a0-595c3d611fa6",
   "metadata": {},
   "outputs": [],
   "source": [
    "-- 테스트 작성"
   ]
  }
 ],
 "metadata": {
  "kernelspec": {
   "display_name": "Haskell",
   "language": "haskell",
   "name": "haskell"
  },
  "language_info": {
   "codemirror_mode": "ihaskell",
   "file_extension": ".hs",
   "mimetype": "text/x-haskell",
   "name": "haskell",
   "pygments_lexer": "Haskell",
   "version": "8.10.7"
  }
 },
 "nbformat": 4,
 "nbformat_minor": 5
}
