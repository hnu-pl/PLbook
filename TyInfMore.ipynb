{
 "cells": [
  {
   "cell_type": "markdown",
   "metadata": {},
   "source": [
    "앞서 \\ref{chap:TyInf}장에서 TODO\n",
    "\\lipsum[3-3]\n",
    "\n",
    "TODO 일단 12장 내용을 템플릿으로 복사만 해 놓은 상태 TODO"
   ]
  },
  {
   "cell_type": "code",
   "execution_count": 1,
   "metadata": {},
   "outputs": [],
   "source": [
    ":opt no-lint\n",
    "{-# LANGUAGE TypeSynonymInstances FlexibleInstances #-}"
   ]
  },
  {
   "cell_type": "markdown",
   "metadata": {},
   "source": [
    "\\newpage\n",
    "# FACT언어에서 타입 표기의 생략 허용\n",
    "앞서 \\ref{chap:TyChk}장에서 살펴본 FACT언어의 문법구조(\\ref{fig:FACTlang})에서는\n",
    "함수요약식과 재귀함수요약식에서 유효범휘에 묶이는 이름의 타입이 무엇인지 항상 나타난다.\n",
    "우선, 함수요약식과 재귀함수요약식에서 타입 정보가 생략된 경우를 허용하도록,\n",
    "즉 $\\lambda x.e$나 $\\textbf{rec}\\,f\\,(\\lambda\\cdots)$와 같은 형태도 허용하도록,\n",
    "지난 \\ref{chap:TyChk}장에서 FACT언어의 문법구조를 표현하던 `Expr`을\n",
    "아래와 같이 약간 수정하였다. 수정된 부분은 `Lam`과 `Rec`의\n",
    "선언 부분에서 기존의 `Ty` 대신 나타나는 `Maybe Ty`다.\n",
    "(새로 추가된 $\\textbf{let}$식은 \\ref{sec:LetSugar}절에서 다룰 예정이며, 일단은 없는 것으로 생각하자.)"
   ]
  },
  {
   "cell_type": "code",
   "execution_count": 2,
   "metadata": {},
   "outputs": [],
   "source": [
    "type Nm = String  -- 변수 이름은 문자열로\n",
    "data Ty = Z | Arr Ty Ty  deriving (Eq,Ord)\n",
    "data Expr = Var Nm                      -- x\n",
    "          | Lam Nm (Maybe Ty) Expr      -- (\\x:t.e)\n",
    "          | Rec Nm (Maybe Ty) Expr      -- rec f:t (\\x:t2.e)\n",
    "          | App Expr Expr               -- (e1 e2)\n",
    "          | Lit Int                     -- n\n",
    "          | Add Expr Expr               -- e1 + e2\n",
    "          | If Expr Expr Expr           -- if e then e1 else e0\n",
    "          | Let Nm (Maybe Ty) Expr Expr -- let x:t = e2 in e\n",
    "          deriving (Eq, Ord)\n",
    "data Val = Cl Expr Env | Vi Int  deriving (Eq,Ord)\n",
    "type Env = [ (Nm, Val) ]\n",
    "type TEnv = [ (Nm, Ty) ]"
   ]
  },
  {
   "cell_type": "code",
   "execution_count": 3,
   "metadata": {},
   "outputs": [],
   "source": [
    "instance Show Ty where\n",
    "  showsPrec _ Z = showString \"\\\\mathbb{Z}\"\n",
    "  showsPrec p (Arr t1 t2) = showParen (p > 1) $\n",
    "      showsPrec p t1 . showString \"{\\\\to}\" . showsPrec p t2\n",
    "instance Show Expr where -- LaTeX 소스코드 생성하는 Show 인스턴스 직접 선언\n",
    "  showsPrec _ (Var x) = showString x\n",
    "  showsPrec p (Lam x mt e) = showParen (p > 1) $\n",
    "      showString (\"\\\\lambda \"++x) . showsMT mt .\n",
    "      showString \".\" . showsPrec 1 e\n",
    "  showsPrec p (Rec f mt e) = showParen (p > 9) $\n",
    "      showString (\"\\\\textbf{rec}\\\\,\"++f) . showsMT mt .\n",
    "      showString \"\\\\, \" . showsPrec 2 e\n",
    "  showsPrec p (App e1 e2) = showParen (p > 9) $\n",
    "      showsPrec 9 e1 . showString \"\\\\;\" . showsPrec 10 e2\n",
    "  showsPrec _ (Lit n) = shows n\n",
    "  showsPrec p (Add e1 e2) = showParen (p > 6) $\n",
    "      showsPrec 6 e1 . showString \"+\" . showsPrec 7 e2\n",
    "  showsPrec p (If e e1 e0) = showParen (p > 2) $\n",
    "      showString \"\\\\textbf{if}\\\\;\" . showsPrec 3 e .\n",
    "      showString \"\\\\;\\\\textbf{then}\\\\;\" . showsPrec 3 e1 .\n",
    "      showString \"\\\\;\\\\textbf{else}\\\\;\" . showsPrec 3 e0\n",
    "  showsPrec p (Let x mt e2 e) = showParen (p > 2) $\n",
    "      showString(\"\\\\textbf{let}\\\\,\"++x) . showsMT mt .\n",
    "      showString \" = \" . showsPrec 3 e .\n",
    "      showString \"\\\\,\\\\textbf{in}\\\\,\" . showsPrec 3 e2\n",
    "\n",
    "showsMT (Just t) = showString \"{:}\" . showsPrec 0 t\n",
    "showsMT Nothing  = id \n",
    "\n",
    "import IHaskell.Display (latex)\n",
    "instance IHaskellDisplay Expr where -- 노트북에 디스플레이하는 인스턴스 선언\n",
    "    display e = display [latex $ \"$\"++show e++\"$\"]\n",
    "instance IHaskellDisplay Ty where\n",
    "    display t = display [latex $ \"$\"++show t++\"$\"]"
   ]
  },
  {
   "cell_type": "code",
   "execution_count": 4,
   "metadata": {},
   "outputs": [
    {
     "data": {
      "text/latex": [
       "$\\textbf{if}\\;3+y\\;\\textbf{then}\\;(\\lambda x{:}\\mathbb{Z}.\\lambda y{:}\\mathbb{Z}.y)\\;\\textbf{else}\\;(\\lambda x.x)\\;(\\textbf{rec}\\,f\\, (\\lambda x{:}\\mathbb{Z}.\\lambda y{:}\\mathbb{Z}.y))$"
      ]
     },
     "metadata": {},
     "output_type": "display_data"
    }
   ],
   "source": [
    "idExpr = Lam \"x\" Nothing (Var \"x\")\n",
    "ttExpr = Lam \"x\" (Just Z) (Lam \"y\" (Just Z) (Var \"x\")) \n",
    "ffExpr = Lam \"x\" (Just Z) (Lam \"y\" (Just Z) (Var \"y\")) \n",
    "-- 일부 이름 바인딩에 타입 표기가 생략된 예시 프로그램\n",
    "If (Add (Lit 3) (Var \"y\"))  ffExpr\n",
    "                            (App idExpr (Rec \"f\" Nothing ffExpr))"
   ]
  },
  {
   "cell_type": "code",
   "execution_count": 5,
   "metadata": {},
   "outputs": [],
   "source": [
    "import Data.List (intercalate)\n",
    "instance {-# OVERLAPS #-} Show Env where\n",
    "    show env = \"\\\\{\"++ intercalate \",\\\\,\" (map show env) ++\"\\\\}\"\n",
    "instance {-# OVERLAPS #-} Show TEnv where\n",
    "    show tenv = \"\\\\{\"++ intercalate \",\\\\,\" (map show tenv) ++\"\\\\}\"\n",
    "instance {-# OVERLAPS #-} Show (Nm,Val) where\n",
    "    show (x,v) = x++\"{\\\\mapsto}\"++show v\n",
    "instance {-# OVERLAPS #-} Show (Nm,Ty) where\n",
    "    show (x,t) = x++\"{\\\\mapsto}\"++show t\n",
    "instance Show Val where\n",
    "    show (Cl e env) = \"\\\\langle \"++show e++\",\"++show env++\"\\\\rangle \"\n",
    "    show (Vi n) = \" \"++show n++\" \"\n",
    "\n",
    "instance {-# OVERLAPS #-} IHaskellDisplay Env where\n",
    "    display e = display [latex $ \"$\"++show e++\"$\"]\n",
    "instance {-# OVERLAPS #-} IHaskellDisplay TEnv where\n",
    "    display e = display [latex $ \"$\"++show e++\"$\"]\n",
    "instance {-# OVERLAPS #-} IHaskellDisplay (Nm,Val) where\n",
    "    display e = display [latex $ \"$\"++show e++\"$\"]\n",
    "instance {-# OVERLAPS #-} IHaskellDisplay (Nm,Ty) where\n",
    "    display e = display [latex $ \"$\"++show e++\"$\"]\n",
    "instance IHaskellDisplay Val where\n",
    "    display v = display [latex $ \"$\"++show v++\"$\"]"
   ]
  },
  {
   "cell_type": "markdown",
   "metadata": {},
   "source": [
    "타입검사 함수 `check`와 타입유추 함수 `infer`는 기존의 내용을 사실상 그대로 재사용할 것이다.\n",
    "타입 표기가 전혀 생략되지 않은 식, 즉 `Nothing`이 하나도 나타나지 않는 식에 대해서만\n",
    "`check`의 결과가 참(`True`)이 될 수 있으며 `infer`의 결과도 비어있지 않고 유추된 타입이\n",
    "들어있는 리스트(`[`$\\tau\\!\\!$ `]`)가 될 수 있다."
   ]
  },
  {
   "cell_type": "code",
   "execution_count": 6,
   "metadata": {},
   "outputs": [],
   "source": [
    "check tenv e t = infer tenv e == [t]  -- check는 infer로 간단히 정의 가능\n",
    "\n",
    "infer :: TEnv -> Expr -> [Ty]  -- 적절한 타입이 존재하지 않으면 빈 리스트\n",
    "infer tenv (Var x)      = case lookup x tenv of Just t  -> [t]\n",
    "                                                Nothing -> []\n",
    "infer tenv (Lam x (Just t2) e) = undefined\n",
    "infer tenv (Lam x Nothing   e) = []  -- 생략된 타입 표기가 있으면 실패\n",
    "infer tenv (Rec f (Just t) e)  = undefined\n",
    "infer tenv (Rec f Nothing  e)  = []  -- 생략된 타입 표기가 있으면 실패\n",
    "infer tenv (App e1 e2)  = undefined\n",
    "infer tevv (Lit _)      = [Z]\n",
    "infer tenv (Add e1 e2)  = [Z | check tenv e1 Z, check tenv e2 Z]\n",
    "infer tenv (If e e1 e0) = undefined"
   ]
  },
  {
   "cell_type": "markdown",
   "metadata": {},
   "source": [
    "\\noindent\n",
    "\\ref{chap:TyChk}장에서와 마찬가지 내용으로 위의 `infer`와 아래의 `ev` 함수에서\n",
    "`undefined`로 처리된 부분을 작성하면 된다.\n",
    "\n",
    "인터프리터 함수 `ev` 및 `eval'`도 기존의 내용을 그대로 재사용한다.\n",
    "아래의 인터프리터 함수 `ev`는 타입유추가 성공한 경우, 즉 `infer`의\n",
    "결과가 빈 리스트가 아닌 경우에만 실행한다고 가정한다."
   ]
  },
  {
   "cell_type": "code",
   "execution_count": 7,
   "metadata": {},
   "outputs": [],
   "source": [
    "ev :: Env -> Expr -> Val  -- infer가 성공한 경우에만 실행함을 가정\n",
    "ev env (Var x) = v    where Just v = lookup x env\n",
    "ev env e@(Lam _ _ _) = Cl e env\n",
    "ev env (Rec f t e@(Lam _ _ _)) = undefined -- 적절히 작성\n",
    "ev env (App e1 e2) = ev ((x,v2):env1) e\n",
    "    where Cl (Lam x _ e) env1 = ev env e1 \n",
    "          v2                  = ev env e2 \n",
    "ev _   (Lit n)     = Vi n\n",
    "ev env (Add e1 e2) = Vi (n1 + n2)  where Vi n1 = ev env e1\n",
    "                                         Vi n2 = ev env e2\n",
    "ev env (If e e1 e0) = if n/=0 then ev env e1 else ev env e0\n",
    "    where Vi n = ev env e"
   ]
  },
  {
   "cell_type": "code",
   "execution_count": 8,
   "metadata": {},
   "outputs": [],
   "source": [
    "-- infer에 성공한 닫힌식에 대한 인터프리터\n",
    "eval' e = [ev [] e | t <- infer [] e]"
   ]
  },
  {
   "cell_type": "code",
   "execution_count": 9,
   "metadata": {},
   "outputs": [
    {
     "data": {
      "text/latex": [
       "$\\textbf{rec}\\,f{:}\\mathbb{Z}{\\to}\\mathbb{Z}\\, (\\lambda i{:}\\mathbb{Z}.\\textbf{if}\\;i\\;\\textbf{then}\\;i+f\\;(i+-1)\\;\\textbf{else}\\;i)$"
      ]
     },
     "metadata": {},
     "output_type": "display_data"
    }
   ],
   "source": [
    "e4 = Rec \"f\" (Just $ Arr Z Z) .\n",
    "         Lam \"i\" (Just Z) $ If i (i `Add` App f (i `Add` Lit (-1))) i\n",
    "    where f = Var \"f\"\n",
    "          i = Var \"i\"\n",
    "e4 -- rec f (\\i.if i t hen i + f(i + -1) else i)"
   ]
  },
  {
   "cell_type": "markdown",
   "metadata": {},
   "source": [
    "\\noindent\n",
    "0부터 주어진 자연수 $i$까지의 총합을 구하는 재귀함수 `e4`를 위와 같이 작성하여\n",
    "다음과 같이 실행해 보자.\n",
    "`infer`와 `ev`함수의 `undefined` 부분을 잘 채워넣었다면\n",
    "아래에 보이는 에러 없이 정상적으로 0부터 100까지의 합 5050이 계산될 것이다."
   ]
  },
  {
   "cell_type": "code",
   "execution_count": 10,
   "metadata": {},
   "outputs": [
    {
     "ename": "",
     "evalue": "",
     "output_type": "error",
     "traceback": [
      "Prelude.undefined\nCallStack (from HasCallStack):\n  error, called at libraries/base/GHC/Err.hs:79:14 in base:GHC.Err\n  undefined, called at <interactive>:9:27 in interactive:Ghci110"
     ]
    }
   ],
   "source": [
    "-- rec f (\\i.if i then i + f(i + -1) else i) 100\n",
    "eval' (e4 `App` Lit 100) -- 100부터 0까지의 총합"
   ]
  },
  {
   "cell_type": "markdown",
   "metadata": {},
   "source": [
    "# 함수요약식 파라메터의 생략된 타입 표기 복원\n",
    "타입 표기가 생략된 함수요약식이 $(\\lambda x.e)~e_2$와 같이 함수적용식의 함수 위치에 있을 때\n",
    "인자식 $e_2$의 타입유추가 가능하면 생략된 타입 표기를 복원할 수 있다.\n",
    "즉, $e_2:\\tau_2$로 유추된다면 $(\\lambda x{:}\\tau_2.e)~e_2$로 복원할 수 있다는 말이다.\n",
    "조금 더 일반적으로는, 연달아 겹쳐진 람다요약식이\n",
    "와 같이 연쇄적인 함수적용식의 첫머리에 있을 때,\n",
    "각 인자식의 타입이 $e_{21}:\\tau_{21}$, $e_{22}:\\tau_{22}$, $\\cdots$, $e_{2k}:\\tau_{2k}$로 유추된다면,\n",
    "$(\\lambda x_1{:}\\tau_{21}.\\lambda x_{22}{:}\\tau_{22}.\\ldots\\lambda x_{2k}{:}\\tau_{2k}.e)\n",
    " ~e_{21}~e_{22}\\,\\cdots\\,e_{2k}$로 각 파라메터의 타입 표기를 복원할 수 있다.\n",
    "이러한 생략된 타입 표기의 복원 과정을 \\`타입복원\\`이라 부르자.\n",
    "\n",
    "이 장에서 취하는 전략은 타입복원을 통해 타입유추의 기능을 확장하려 하는 것이다.\n",
    "타입복원(`recon`)으로 생략된 타입 표기를 모두 복원할 수 있다면\n",
    "기존의 타입유추(`infer`)를 적용하면 된다. 가장 단순하게 전체 식이\n",
    "$(\\lambda x.e)~e_2$의 형태인 경우에만 타입을 복원하는 함수 `recon`은\n",
    "아래처럼 작성할 수 있다. 이 함수의 타입복원 기능을 개선하는 것이 \n",
    "이번 장의 연습문제들로 구성되어 있다."
   ]
  },
  {
   "cell_type": "code",
   "execution_count": 11,
   "metadata": {},
   "outputs": [],
   "source": [
    "recon :: TEnv -> Expr -> [Expr]  -- 복원하지 못하면 빈 리스트\n",
    "recon tenv (App (Lam x Nothing e) e2) =\n",
    "        [ App (Lam x (Just t2) e) e2 | t2 <- infer tenv e2 ]\n",
    "recon _    _ = []"
   ]
  },
  {
   "cell_type": "code",
   "execution_count": 12,
   "metadata": {},
   "outputs": [
    {
     "data": {
      "text/latex": [
       "$(\\lambda x.\\lambda x'.x+x')\\;(2+y)$"
      ]
     },
     "metadata": {},
     "output_type": "display_data"
    }
   ],
   "source": [
    "e1 = Lam \"x\" Nothing . Lam \"x'\" Nothing $ Var \"x\" `Add` Var \"x'\"  \n",
    "e2 = Lit 2 `Add` Var \"y\"  -- y는 자유변수!!!\n",
    "App e1 e2"
   ]
  },
  {
   "cell_type": "code",
   "execution_count": 13,
   "metadata": {},
   "outputs": [
    {
     "data": {
      "text/latex": [
       "$(\\lambda x{:}\\mathbb{Z}.\\lambda x'.x+x')\\;(2+y)$"
      ]
     },
     "metadata": {},
     "output_type": "display_data"
    }
   ],
   "source": [
    "recon [(\"y\",Z)] (App e1 e2) -- 첫 파라메터 x의 타입 표기 복원"
   ]
  },
  {
   "cell_type": "markdown",
   "metadata": {},
   "source": [
    "\\noindent\n",
    "가장 단순하게 작성한 `recon` 함수로는 위와 같이 첫 파라메터 $x$의 타입 표기는 복원된다.\n",
    "하지만 아래와 같이 추가로 파라메터를 하나 더 제공하여 연쇄적인 함수적용식을 구성하면 타입 복원에 실패한다."
   ]
  },
  {
   "cell_type": "code",
   "execution_count": 14,
   "metadata": {},
   "outputs": [
    {
     "data": {
      "text/latex": [
       "$(\\lambda x.\\lambda x'.x+x')\\;(2+y)\\;3$"
      ]
     },
     "metadata": {},
     "output_type": "display_data"
    }
   ],
   "source": [
    "e2' = Lit 3\n",
    "App (App e1 e2) e2'"
   ]
  },
  {
   "cell_type": "code",
   "execution_count": 15,
   "metadata": {},
   "outputs": [],
   "source": [
    "recon [(\"y\",Z)] (App (App e1 e2) e2') -- 복원실패 (빈 리스트 display X)"
   ]
  },
  {
   "cell_type": "markdown",
   "metadata": {},
   "source": [
    "\\noindent\n",
    "함수 `recon`으로 `App e1 e2`에 대해서는 타입복원에 성공했는데\n",
    "`App (App e1 e2) e2'`에 대해서는 `x'`는 물론이고 `x`의 타입 표기 복원조차 못하고 실패하는 이유를 생각해 보고,\n",
    "연습문제에 지시된 내용에 따라 `recon` 함수를 개선해 나가 보라.\n",
    "\n",
    "다음 예시처럼 함수 인자 부분인 `e5`에도 복원가능한 생략된 타입 표기가 있을 경우까지 고려하여,\n",
    "`e5`를 타입유추(`infer`)가 가능한 형태로 타입복원하여 전체 `App e1 e5`의 타입복원을 \n",
    "진행하는 기능까지 포함하도록 `recon` 함수를 개선하는 것도 연습문제이다."
   ]
  },
  {
   "cell_type": "code",
   "execution_count": 16,
   "metadata": {},
   "outputs": [
    {
     "data": {
      "text/latex": [
       "$(\\lambda x.\\lambda x'.x+x')\\;((\\lambda z.z)\\;5)$"
      ]
     },
     "metadata": {},
     "output_type": "display_data"
    }
   ],
   "source": [
    "e5 = Lam \"z\" Nothing (Var \"z\") `App` Lit 5\n",
    "App e1 e5"
   ]
  },
  {
   "cell_type": "code",
   "execution_count": 17,
   "metadata": {},
   "outputs": [
    {
     "ename": "",
     "evalue": "",
     "output_type": "error",
     "traceback": [
      "Prelude.undefined\nCallStack (from HasCallStack):\n  error, called at libraries/base/GHC/Err.hs:79:14 in base:GHC.Err\n  undefined, called at <interactive>:9:27 in interactive:Ghci110"
     ]
    }
   ],
   "source": [
    "-- 현재 infer에서 undefined로 남겨진 부분에서 에러가 나는데 infer를\n",
    "recon [(\"y\",Z)] (App e1 e5) -- 제대로 작성해도 빈 리스트로 실패함"
   ]
  },
  {
   "cell_type": "code",
   "execution_count": 18,
   "metadata": {},
   "outputs": [
    {
     "data": {
      "text/latex": [
       "$(\\lambda z{:}\\mathbb{Z}.z)\\;5$"
      ]
     },
     "metadata": {},
     "output_type": "display_data"
    }
   ],
   "source": [
    "recon [(\"y\",Z)] e5 -- e5는 현재 recon 함수로도 타입복원 가능"
   ]
  },
  {
   "cell_type": "code",
   "execution_count": 19,
   "metadata": {},
   "outputs": [
    {
     "ename": "",
     "evalue": "",
     "output_type": "error",
     "traceback": [
      "Prelude.undefined\nCallStack (from HasCallStack):\n  error, called at libraries/base/GHC/Err.hs:79:14 in base:GHC.Err\n  undefined, called at <interactive>:9:27 in interactive:Ghci110"
     ]
    }
   ],
   "source": [
    "-- 현재 infer에서 undefiend로 남겨진 부분에서 에러가 나는데 \n",
    "-- infer를 제대로 작성하면 x에 대한 타입 표기 복원에 성공할 것임\n",
    "[ recon [(\"y\",Z)] (App e1 e5') | e5' <- recon [(\"y\",Z)] e5 ] "
   ]
  },
  {
   "cell_type": "markdown",
   "metadata": {},
   "source": [
    "# 재귀함수요약식에 대한 타입복원\n",
    "지금 이 장에서 다루는 타입복원의 방식으로는, $\\textbf{rec}\\,f\\,(\\lambda x:\\tau_2.e)$와 같이\n",
    "재귀함수 자신을 나타내는 $f$의 생략된 타입 표기를 일반적으로 복원하기 어렵다.\n",
    "함수 파라메터 $x$의 타입 표기가 생략되지 않은 경우라 할지라도 말이다.\n",
    "이렇게 $f$의 타입 표기가 생략된 경우에까지 처리할 수 있는 타입유추 방식에 대해서는\n",
    "이후 \\ref{chap:tyInfMore}장에서 다룬다.\n",
    "\n",
    "따라서, $\\textbf{rec}\\,f{:}\\tau_2\\to\\tau\\,(\\lambda x.e)$처럼 재귀함수 자신을 나타내는 $f$의 타입 표기가\n",
    "생략되지 않은 경우에만 생략된 함수 파라메터 $x$의 타입을 $\\tau_2$로 복원하여\n",
    "$\\textbf{rec}\\,f{:}\\tau_2\\to\\tau\\,(\\lambda x{:}\\tau_2.e)$로 결과를 계산하는\n",
    "간단한 타입복원 기능만을 이번 장에서는 구현하도록 하자."
   ]
  },
  {
   "cell_type": "markdown",
   "metadata": {},
   "source": [
    "\\section*{요점정리}\n",
    "* TODO\n",
    "* TODO"
   ]
  },
  {
   "cell_type": "markdown",
   "metadata": {},
   "source": [
    "\\section*{연습문제}\n",
    "1. TODO\n",
    "1. TODO"
   ]
  },
  {
   "cell_type": "markdown",
   "metadata": {},
   "source": [
    "\\section*{탐구과제}\n",
    "1. C++과 Java는 모든 지역변수의 타입을 반드시 표기해야 하는 언어로 시작했지만\n",
    "   최근에는 지역변수를 선언할 때 타입을 프로그래머가 구체적으로 표기하지 않아도 컴파일러가\n",
    "   추측해 주는, 이 장에서 설명한 타입복원과` 같은 기능을 지원하고 있다.\n",
    "   이러한 기능이 C++이나 Java에서 어떻게 발전했는지 조사해 보라.\n",
    "1. TODO aaa TODO"
   ]
  },
  {
   "cell_type": "code",
   "execution_count": null,
   "metadata": {},
   "outputs": [],
   "source": []
  }
 ],
 "metadata": {
  "kernelspec": {
   "display_name": "Haskell",
   "language": "haskell",
   "name": "haskell"
  },
  "language_info": {
   "codemirror_mode": "ihaskell",
   "file_extension": ".hs",
   "mimetype": "text/x-haskell",
   "name": "haskell",
   "pygments_lexer": "Haskell",
   "version": "8.10.7"
  }
 },
 "nbformat": 4,
 "nbformat_minor": 4
}
