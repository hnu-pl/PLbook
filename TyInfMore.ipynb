{
 "cells": [
  {
   "cell_type": "markdown",
   "metadata": {},
   "source": [
    "앞서 \\ref{chap:TyInf}장에서 TODO\n",
    "\\lipsum[3-3]\n",
    "\n",
    "TODO 일단 12장 내용을 템플릿으로 복사만 해 놓은 상태 TODO"
   ]
  },
  {
   "cell_type": "code",
   "execution_count": 1,
   "metadata": {},
   "outputs": [],
   "source": [
    ":opt no-lint\n",
    "{-# LANGUAGE TypeSynonymInstances FlexibleInstances #-}"
   ]
  },
  {
   "cell_type": "markdown",
   "metadata": {},
   "source": [
    "\\newpage\n",
    "# 재귀함수요약식의 타입복원이 어려운 이유\n",
    "앞서 \\ref{sec:recTyRecon}절에서 $\\textbf{rec}\\,f\\,(\\lambda x{:}\\tau_2.e)$와 같은 재귀함수요약식에서 $f$의\n",
    "타입 표기 복원이 어렵다고 언급한 바 있는데 여기서는 그 이유를 생각해 보자.\n",
    "타입복원(`recon`) 함수는 타입환경(`TEnv`)과 식(`Expr`)을 인자로 받아 \n",
    "타입유추(`infer`) 함수를 활용해 부분식으로부터 복원에 필요한 타입 정보를 얻어가며\n",
    "생략된 타입 표기에 대한 복원을 진행한다.\n",
    "설명의 편의를 위해 하스켈 코드와 타입규칙의 표현을 혼용한 의사코드(pseudocode)로 나타내자면\n",
    "대략 다음과 같이 진행되어야 할텐데\n",
    "\\newline\n",
    "`recon` $\\Gamma$ $(\\textbf{rec}\\,f\\,(\\lambda x{:}\\tau_2.e))$ = `[` $\\!\\!\\textbf{rec}\\,f{:}\\tau_1\\,(\\lambda x{:}\\tau_2.e)\\!$ `|` $\\!\\tau_1$ $\\leftarrow$ `infer` $\\{x{:}\\tau_2,\\,f{:}??\\}\\Gamma$ $e\\!\\!$ `]` \n",
    "\\newline\n",
    "문제는 $??$의 위치가 과연 무슨 타입이어야 하는가이다.\n",
    "$f$는 재귀함수요약식 자체를 대표하므로 당연히 $\\tau_1$이면 되지 않냐고 생각했다면,\n",
    "물론 맞는 생각이기는 하지만, 문제는 그런 방식으로 프로그램을 작성할 수가 없다는 것이다.\n",
    "왜냐하면 $\\tau_1$은 타입유추(`infer`)의 계산 결과로 비로소 알게 되는 타입인데,\n",
    "`infer` 함수의 첫째 인자인 확장된 환경이 $\\tau_1$을 포함한다면 이는 계산하기도 전에\n",
    "결과값을 미리 알고 제공해야 한다는 이야기이므로 말이 되지 않는다.\n",
    "\n",
    "이런 어려움을 극복하려면 말이 되지 않는 상황을 회피할 방법을 찾으면 된다.\n",
    "말이 되지 않았던 이유는 $\\tau_1$이라는 계산 결과를 미리 `완전히` 알고 타입환경을 $f$의 바인딩을 포함해야 한다는 생각 때문이었다.\n",
    "그렇다면 불완전한 타입 정보를 타입 환경의 바인딩 내용으로 제공하거나 심지어 식에도 불완전한 타입 정보를 표기하는 것을 허용한다면 어떨까?\n",
    "불완전한 정보 중에서 알려지지 않은 부분이 결국 무엇인지는 여전히 해결해야 할 숙제로 미뤄지긴 했지만, 최소한 완전히 말이 되지 않는 상황에서는 일단 벗어나서 생각해 볼 수 있다.\n",
    "사실 이러한 접근 방식은 우리가 이미 수학에서 미지수를 포함한 \\`방정식\\'의 풀이에서 익숙한 문제 해결 방식이다.\n",
    "예컨대, $x = 2\\times x - 3$이라는 방정식은 미지수 $x$를 포함한 우변의 산술식 $2\\times x - 3$의 계산 결과가 좌변, 즉 $x$라는 말이다.\n",
    "이렇게 아직 알려지지 않은 계산 결과를 일부분으로 포함하는 방정식을 해결하는 방법이 있듯, 재귀함수요약식의 타입복원도 마찬가지로 해결할 수 있으리라는 희망을 가져 볼 수 있다."
   ]
  },
  {
   "cell_type": "markdown",
   "metadata": {},
   "source": [
    "# TODO\n",
    "TODO"
   ]
  },
  {
   "cell_type": "code",
   "execution_count": 2,
   "metadata": {},
   "outputs": [],
   "source": [
    "type Nm = String  -- 변수 이름은 문자열로\n",
    "data Ty = TV Int | Z | Arr Ty Ty  deriving (Eq,Ord)\n",
    "data Expr = Var Nm                      -- x\n",
    "          | Lam Nm (Maybe Ty) Expr      -- (\\x:t.e)\n",
    "          | Rec Nm (Maybe Ty) Expr      -- rec f:t (\\x:t2.e)\n",
    "          | App Expr Expr               -- (e1 e2)\n",
    "          | Lit Int                     -- n\n",
    "          | Add Expr Expr               -- e1 + e2\n",
    "          | If Expr Expr Expr           -- if e then e1 else e0\n",
    "          deriving (Eq, Ord)\n",
    "data Val = Cl Expr Env | Vi Int  deriving (Eq,Ord)\n",
    "type Env = [ (Nm, Val) ]\n",
    "type TEnv = [ (Nm, Ty) ]"
   ]
  },
  {
   "cell_type": "code",
   "execution_count": 3,
   "metadata": {},
   "outputs": [],
   "source": [
    "instance Show Ty where\n",
    "  showsPrec p (TV i) = showString(\"t_{\"++show i++\"}\")\n",
    "  showsPrec _ Z = showString \"\\\\mathbb{Z}\"\n",
    "  showsPrec p (Arr t1 t2) = showParen (p > 1) $\n",
    "      showsPrec p t1 . showString \"{\\\\to}\" . showsPrec p t2\n",
    "instance Show Expr where -- LaTeX 소스코드 생성하는 Show 인스턴스 직접 선언\n",
    "  showsPrec _ (Var x) = showString x\n",
    "  showsPrec p (Lam x mt e) = showParen (p > 1) $\n",
    "      showString (\"\\\\lambda \"++x) . showsMT mt .\n",
    "      showString \".\" . showsPrec 1 e\n",
    "  showsPrec p (Rec f mt e) = showParen (p > 9) $\n",
    "      showString (\"\\\\textbf{rec}\\\\,\"++f) . showsMT mt .\n",
    "      showString \"\\\\, \" . showsPrec 2 e\n",
    "  showsPrec p (App e1 e2) = showParen (p > 9) $\n",
    "      showsPrec 9 e1 . showString \"\\\\;\" . showsPrec 10 e2\n",
    "  showsPrec _ (Lit n) = shows n\n",
    "  showsPrec p (Add e1 e2) = showParen (p > 6) $\n",
    "      showsPrec 6 e1 . showString \"+\" . showsPrec 7 e2\n",
    "  showsPrec p (If e e1 e0) = showParen (p > 2) $\n",
    "      showString \"\\\\textbf{if}\\\\;\" . showsPrec 3 e .\n",
    "      showString \"\\\\;\\\\textbf{then}\\\\;\" . showsPrec 3 e1 .\n",
    "      showString \"\\\\;\\\\textbf{else}\\\\;\" . showsPrec 3 e0\n",
    "\n",
    "showsMT (Just t) = showString \"{:}\" . showsPrec 0 t\n",
    "showsMT Nothing  = id \n",
    "\n",
    "import IHaskell.Display (latex)\n",
    "instance IHaskellDisplay Expr where -- 노트북에 디스플레이하는 인스턴스 선언\n",
    "    display e = display [latex $ \"$\"++show e++\"$\"]\n",
    "instance IHaskellDisplay Ty where\n",
    "    display t = display [latex $ \"$\"++show t++\"$\"]"
   ]
  },
  {
   "cell_type": "code",
   "execution_count": 4,
   "metadata": {},
   "outputs": [],
   "source": [
    "import Data.List (intercalate)\n",
    "instance {-# OVERLAPS #-} Show Env where\n",
    "    show env = \"\\\\{\"++ intercalate \",\\\\,\" (map show env) ++\"\\\\}\"\n",
    "instance {-# OVERLAPS #-} Show TEnv where\n",
    "    show tenv = \"\\\\{\"++ intercalate \",\\\\,\" (map show tenv) ++\"\\\\}\"\n",
    "instance {-# OVERLAPS #-} Show (Nm,Val) where\n",
    "    show (x,v) = x++\"{\\\\mapsto}\"++show v\n",
    "instance {-# OVERLAPS #-} Show (Nm,Ty) where\n",
    "    show (x,t) = x++\"{\\\\mapsto}\"++show t\n",
    "instance Show Val where\n",
    "    show (Cl e env) = \"\\\\langle \"++show e++\",\"++show env++\"\\\\rangle \"\n",
    "    show (Vi n) = \" \"++show n++\" \"\n",
    "\n",
    "instance {-# OVERLAPS #-} IHaskellDisplay Env where\n",
    "    display e = display [latex $ \"$\"++show e++\"$\"]\n",
    "instance {-# OVERLAPS #-} IHaskellDisplay TEnv where\n",
    "    display e = display [latex $ \"$\"++show e++\"$\"]\n",
    "instance {-# OVERLAPS #-} IHaskellDisplay (Nm,Val) where\n",
    "    display e = display [latex $ \"$\"++show e++\"$\"]\n",
    "instance {-# OVERLAPS #-} IHaskellDisplay (Nm,Ty) where\n",
    "    display e = display [latex $ \"$\"++show e++\"$\"]\n",
    "instance IHaskellDisplay Val where\n",
    "    display v = display [latex $ \"$\"++show v++\"$\"]"
   ]
  },
  {
   "cell_type": "code",
   "execution_count": 5,
   "metadata": {},
   "outputs": [],
   "source": [
    "recon :: TEnv -> Expr -> Expr  -- 무조건 Nothing을 타입변수로\n",
    "recon tenv e = rcn 0 tenv e\n",
    "\n",
    "rcn i _    e@(Var _) = e\n",
    "rcn i tenv (Lam x Nothing  e) = Lam x (Just t) (rcn (1+i) tenv' e)\n",
    "                            where tenv' = (x,t):(tenv)\n",
    "                                  t = TV i\n",
    "rcn i tenv (Lam x (Just t) e) = Lam x (Just t) (rcn i tenv' e)\n",
    "                            where tenv' = (x,t):tenv\n",
    "rcn i tenv (Rec f Nothing  e) = Rec f (Just t) (rcn (1+1) tenv' e)\n",
    "                            where tenv' = (f,t):(tenv)\n",
    "                                  t = TV i\n",
    "rcn i tenv (Rec f (Just t) e) = Rec f (Just t) (rcn (1+i) tenv' e)\n",
    "                            where tenv' = (f,t):tenv\n",
    "rcn i tenv (App e1 e2)        = App e1' e2'\n",
    "                            where e1' = rcn i tenv e1\n",
    "                                  e2' = rcn j tenv e2\n",
    "                                  j = 1 + maxTV i e1'           \n",
    "rcn i _    e@(Lit _) = e\n",
    "rcn i tenv (Add e1 e2)        = Add e1' e2'\n",
    "                            where e1' = rcn i tenv e1\n",
    "                                  e2' = rcn j tenv e2\n",
    "                                  j = 1 + maxTV i e1'\n",
    "rcn i tenv (If e e1 e0)       = If e' e1' e0'\n",
    "                            where e'  = rcn i tenv e\n",
    "                                  e1' = rcn j tenv e1\n",
    "                                  e0' = rcn j tenv e0\n",
    "                                  j = 1 + maxTV i e'\n",
    "                                  k = 1 + maxTV j e1'\n",
    "\n",
    "maxTV :: Int -> Expr -> Int\n",
    "maxTV n e = maximum (n : concatMap collectTV (collectTy e))\n",
    "\n",
    "collectTy :: Expr -> [Ty]\n",
    "collectTy (Var _) = []\n",
    "collectTy (Lam x Nothing  e) = collectTy e\n",
    "collectTy (Lam x (Just t) e) = t : collectTy e\n",
    "collectTy (Rec x Nothing  e) = collectTy e\n",
    "collectTy (Rec x (Just t) e) = t : collectTy e\n",
    "collectTy (App e1 e2) = collectTy e1 ++ collectTy e2\n",
    "collectTy (Lit _) = []\n",
    "collectTy (Add e1 e2) = collectTy e1 ++ collectTy e2\n",
    "collectTy (If e e1 e0) = collectTy e ++ collectTy e1 ++ collectTy e0\n",
    "\n",
    "collectTV :: Ty -> [Int]\n",
    "collectTV (TV i)      = [i]\n",
    "collectTV Z           = []\n",
    "collectTV (Arr t1 t2) = collectTV t1 ++ collectTV t2"
   ]
  },
  {
   "cell_type": "code",
   "execution_count": 6,
   "metadata": {},
   "outputs": [
    {
     "data": {
      "text/latex": [
       "$(\\lambda x.\\lambda x'.x+x')\\;(2+y)\\;((\\lambda z.z)\\;5)$"
      ]
     },
     "metadata": {},
     "output_type": "display_data"
    }
   ],
   "source": [
    "e1 = Lam \"x\" Nothing . Lam \"x'\" Nothing $ Var \"x\" `Add` Var \"x'\"  \n",
    "e2 = Lit 2 `Add` Var \"y\"  -- y는 자유변수!!!\n",
    "e5 = Lam \"z\" Nothing (Var \"z\") `App` Lit 5\n",
    "App (App e1 e2) e5"
   ]
  },
  {
   "cell_type": "code",
   "execution_count": 7,
   "metadata": {},
   "outputs": [
    {
     "data": {
      "text/latex": [
       "$(\\lambda x{:}t_{0}.\\lambda x'{:}t_{1}.x+x')\\;(2+y)\\;((\\lambda z{:}t_{2}.z)\\;5)$"
      ]
     },
     "metadata": {},
     "output_type": "display_data"
    }
   ],
   "source": [
    "recon [(\"y\",Z)] (App (App e1 e2) e5)"
   ]
  },
  {
   "cell_type": "markdown",
   "metadata": {},
   "source": [
    "타입검사 함수 `check`와 타입유추 함수 `infer`는 기존의 내용을 사실상 그대로 재사용할 것이다.\n",
    "타입 표기가 전혀 생략되지 않은 식, 즉 `Nothing`이 하나도 나타나지 않는 식에 대해서만\n",
    "`check`의 결과가 참(`True`)이 될 수 있으며 `infer`의 결과도 비어있지 않고 유추된 타입이\n",
    "들어있는 리스트(`[`$\\tau\\!\\!$ `]`)가 될 수 있다."
   ]
  },
  {
   "cell_type": "code",
   "execution_count": 8,
   "metadata": {},
   "outputs": [],
   "source": [
    "check tenv e t = infer tenv e == [t]  -- check는 infer로 간단히 정의 가능\n",
    "\n",
    "infer :: TEnv -> Expr -> [Ty]  -- 적절한 타입이 존재하지 않으면 빈 리스트\n",
    "infer tenv (Var x)      = case lookup x tenv of Just t  -> [t]\n",
    "                                                Nothing -> []\n",
    "infer tenv (Lam x (Just t2) e) = undefined\n",
    "infer tenv (Lam x Nothing   e) = []  -- 생략된 타입 표기가 있으면 실패\n",
    "infer tenv (Rec f (Just t) e)  = undefined\n",
    "infer tenv (Rec f Nothing  e)  = []  -- 생략된 타입 표기가 있으면 실패\n",
    "infer tenv (App e1 e2)  = undefined\n",
    "infer tevv (Lit _)      = [Z]\n",
    "infer tenv (Add e1 e2)  = [Z | check tenv e1 Z, check tenv e2 Z]\n",
    "infer tenv (If e e1 e0) = undefined"
   ]
  },
  {
   "cell_type": "markdown",
   "metadata": {},
   "source": [
    "\\noindent\n",
    "\\ref{chap:TyChk}장에서와 마찬가지 내용으로 위의 `infer`와 아래의 `ev` 함수에서\n",
    "`undefined`로 처리된 부분을 작성하면 된다.\n",
    "\n",
    "인터프리터 함수 `ev` 및 `eval'`도 기존의 내용을 그대로 재사용한다.\n",
    "아래의 인터프리터 함수 `ev`는 타입유추가 성공한 경우, 즉 `infer`의\n",
    "결과가 빈 리스트가 아닌 경우에만 실행한다고 가정한다."
   ]
  },
  {
   "cell_type": "code",
   "execution_count": 9,
   "metadata": {},
   "outputs": [],
   "source": [
    "ev :: Env -> Expr -> Val  -- infer가 성공한 경우에만 실행함을 가정\n",
    "ev env (Var x) = v    where Just v = lookup x env\n",
    "ev env e@(Lam _ _ _) = Cl e env\n",
    "ev env (Rec f t e@(Lam _ _ _)) = undefined -- 적절히 작성\n",
    "ev env (App e1 e2) = ev ((x,v2):env1) e\n",
    "    where Cl (Lam x _ e) env1 = ev env e1 \n",
    "          v2                  = ev env e2 \n",
    "ev _   (Lit n)     = Vi n\n",
    "ev env (Add e1 e2) = Vi (n1 + n2)  where Vi n1 = ev env e1\n",
    "                                         Vi n2 = ev env e2\n",
    "ev env (If e e1 e0) = if n/=0 then ev env e1 else ev env e0\n",
    "    where Vi n = ev env e"
   ]
  },
  {
   "cell_type": "code",
   "execution_count": 10,
   "metadata": {},
   "outputs": [],
   "source": [
    "-- infer에 성공한 닫힌식에 대한 인터프리터\n",
    "eval' e = [ev [] e | t <- infer [] e]"
   ]
  },
  {
   "cell_type": "code",
   "execution_count": 11,
   "metadata": {},
   "outputs": [
    {
     "data": {
      "text/latex": [
       "$\\textbf{rec}\\,f{:}\\mathbb{Z}{\\to}\\mathbb{Z}\\, (\\lambda i{:}\\mathbb{Z}.\\textbf{if}\\;i\\;\\textbf{then}\\;i+f\\;(i+-1)\\;\\textbf{else}\\;i)$"
      ]
     },
     "metadata": {},
     "output_type": "display_data"
    }
   ],
   "source": [
    "e4 = Rec \"f\" (Just $ Arr Z Z) .\n",
    "         Lam \"i\" (Just Z) $ If i (i `Add` App f (i `Add` Lit (-1))) i\n",
    "    where f = Var \"f\"\n",
    "          i = Var \"i\"\n",
    "e4 -- rec f (\\i.if i t hen i + f(i + -1) else i)"
   ]
  },
  {
   "cell_type": "markdown",
   "metadata": {},
   "source": [
    "\\noindent\n",
    "0부터 주어진 자연수 $i$까지의 총합을 구하는 재귀함수 `e4`를 위와 같이 작성하여\n",
    "다음과 같이 실행해 보자.\n",
    "`infer`와 `ev`함수의 `undefined` 부분을 잘 채워넣었다면\n",
    "아래에 보이는 에러 없이 정상적으로 0부터 100까지의 합 5050이 계산될 것이다."
   ]
  },
  {
   "cell_type": "code",
   "execution_count": 12,
   "metadata": {},
   "outputs": [
    {
     "ename": "",
     "evalue": "",
     "output_type": "error",
     "traceback": [
      "Prelude.undefined\nCallStack (from HasCallStack):\n  error, called at libraries/base/GHC/Err.hs:79:14 in base:GHC.Err\n  undefined, called at <interactive>:9:27 in interactive:Ghci162"
     ]
    }
   ],
   "source": [
    "-- rec f (\\i.if i then i + f(i + -1) else i) 100\n",
    "eval' (e4 `App` Lit 100) -- 100부터 0까지의 총합"
   ]
  },
  {
   "cell_type": "markdown",
   "metadata": {},
   "source": [
    "\\section*{요점정리}\n",
    "* TODO\n",
    "* TODO"
   ]
  },
  {
   "cell_type": "markdown",
   "metadata": {},
   "source": [
    "\\section*{연습문제}\n",
    "1. TODO\n",
    "1. TODO"
   ]
  },
  {
   "cell_type": "markdown",
   "metadata": {},
   "source": [
    "\\section*{탐구과제}\n",
    "1. C++과 Java는 모든 지역변수의 타입을 반드시 표기해야 하는 언어로 시작했지만\n",
    "   최근에는 지역변수를 선언할 때 타입을 프로그래머가 구체적으로 표기하지 않아도 컴파일러가\n",
    "   추측해 주는, 이 장에서 설명한 타입복원과` 같은 기능을 지원하고 있다.\n",
    "   이러한 기능이 C++이나 Java에서 어떻게 발전했는지 조사해 보라.\n",
    "1. TODO aaa TODO"
   ]
  },
  {
   "cell_type": "code",
   "execution_count": null,
   "metadata": {},
   "outputs": [],
   "source": []
  }
 ],
 "metadata": {
  "kernelspec": {
   "display_name": "Haskell",
   "language": "haskell",
   "name": "haskell"
  },
  "language_info": {
   "codemirror_mode": "ihaskell",
   "file_extension": ".hs",
   "mimetype": "text/x-haskell",
   "name": "haskell",
   "pygments_lexer": "Haskell",
   "version": "8.10.7"
  }
 },
 "nbformat": 4,
 "nbformat_minor": 4
}
